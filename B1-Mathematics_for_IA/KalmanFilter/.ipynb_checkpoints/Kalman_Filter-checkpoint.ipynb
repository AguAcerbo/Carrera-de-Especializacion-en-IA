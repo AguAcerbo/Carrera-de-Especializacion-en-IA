{
 "cells": [
  {
   "cell_type": "markdown",
   "id": "658d5ddc",
   "metadata": {},
   "source": [
    "## Kalman's Filter"
   ]
  },
  {
   "cell_type": "code",
   "execution_count": 1,
   "id": "2ea905e9",
   "metadata": {},
   "outputs": [],
   "source": [
    "import numpy as np\n",
    "import matplotlib as mpl\n",
    "import matplotlib.pyplot as plt"
   ]
  },
  {
   "cell_type": "code",
   "execution_count": 2,
   "id": "0a07639d",
   "metadata": {},
   "outputs": [],
   "source": [
    "def estimacionesXP(X, P, A, Q):\n",
    "    \"\"\"Estimaciones de Xn y Pn con la informacion hasta n-1\"\"\"\n",
    "    X = np.dot(A, X.T)\n",
    "    P = np.dot(A, np.dot(P, A.T)) + Q \n",
    "    return(X.T, P)"
   ]
  },
  {
   "cell_type": "code",
   "execution_count": 3,
   "id": "0dbf81eb",
   "metadata": {},
   "outputs": [],
   "source": [
    "def Filtro_Kalman(X, P, Y, C, R):\n",
    "    \"\"\"Estimaciones de Xn y Pn con la informacion hasta n y calculo de\n",
    "    la ganancia de Kalman Kn\"\"\"\n",
    "    k1 = R + np.dot(C, np.dot(P, C.T)) \n",
    "    K = np.dot(P, np.dot(C.T, (k1.I)))\n",
    "    Xnn = X.T + np.dot(K, (Y.T - np.dot(C, X.T)))\n",
    "    Pnn = np.dot(np.identity(9) - np.dot(K, C), P)\n",
    "    return (Xnn.T, Pnn, K) "
   ]
  },
  {
   "cell_type": "code",
   "execution_count": 4,
   "id": "117bb474",
   "metadata": {},
   "outputs": [],
   "source": [
    "N = 1000"
   ]
  },
  {
   "cell_type": "code",
   "execution_count": 5,
   "id": "884ace10",
   "metadata": {},
   "outputs": [],
   "source": [
    "#   LECTURA DE DATOS \n",
    "\n",
    "posicion = np.loadtxt('posicion.dat')\n",
    "velocidad = np.loadtxt('velocidad.dat')\n",
    "aceleracion = np.loadtxt('aceleracion.dat')"
   ]
  },
  {
   "cell_type": "code",
   "execution_count": 6,
   "id": "dc1bfe62",
   "metadata": {},
   "outputs": [],
   "source": [
    "#   TIEMPO DE MUESTREO\n",
    "\n",
    "tk = 1 #segundos"
   ]
  },
  {
   "cell_type": "code",
   "execution_count": 7,
   "id": "4ca34442",
   "metadata": {},
   "outputs": [],
   "source": [
    "#   DEFINICION DE Xn \n",
    "\n",
    "xn = np.zeros((posicion.shape[0], (posicion.shape[1] - 1) * 3))\n",
    "\n",
    "for col in range(xn.shape[1]):\n",
    "    if col < (posicion.shape[1] - 1):\n",
    "        for row in range(xn.shape[0]):\n",
    "            xn[row, col] = posicion[row, col + 1]\n",
    "    elif col < (posicion.shape[1] + velocidad.shape[1] - 2):\n",
    "        for row in range(xn.shape[0]):\n",
    "            xn[row, col] = velocidad[row,col - 2]\n",
    "    elif col < (posicion.shape[1] + velocidad.shape[1] + aceleracion.shape[1] - 3):\n",
    "        for row in range(xn.shape[0]):\n",
    "            xn[row, col] = aceleracion[row,col - 5]"
   ]
  },
  {
   "cell_type": "code",
   "execution_count": 8,
   "id": "be7bc6fa",
   "metadata": {},
   "outputs": [],
   "source": [
    "#   DEFINICION DE MATRICES DE ESTADO\n",
    "\n",
    "A = np.matrix([[1, 0, 0, tk, 0, 0, (tk**2)/2, 0, 0],\n",
    "              [0, 1, 0, 0, tk, 0, 0, (tk**2)/2, 0],\n",
    "              [0, 0, 1, 0, 0, tk, 0, 0, (tk**2)/2],\n",
    "              [0, 0, 0, 1, 0, 0, tk, 0, 0],\n",
    "              [0, 0, 0, 0, 1, 0, 0, tk, 0],\n",
    "              [0, 0, 0, 0, 0, 1, 0, 0, tk],\n",
    "              [0, 0, 0, 0, 0, 0, 1, 0, 0],\n",
    "              [0, 0, 0, 0, 0, 0, 0, 1, 0],\n",
    "              [0, 0, 0, 0, 0, 0, 0, 0, 1]])\n",
    "\n",
    "C = np.matrix([[1, 0, 0, 0, 0, 0, 0, 0, 0],\n",
    "               [0, 1, 0, 0, 0, 0, 0, 0, 0],\n",
    "               [0, 0, 1, 0, 0, 0, 0, 0, 0]])"
   ]
  },
  {
   "cell_type": "code",
   "execution_count": 9,
   "id": "85fbf2ee",
   "metadata": {},
   "outputs": [],
   "source": [
    "#   RUIDO DE PROCESO\n",
    "Q = 0.3*np.identity(9)\n",
    "\n",
    "#   RUIDO DE MEDICION\n",
    "R = np.matrix([[100, 0, 0],\n",
    "               [0, 100, 0],\n",
    "               [0, 0, 100]])"
   ]
  },
  {
   "cell_type": "code",
   "execution_count": 10,
   "id": "b76ec6c1",
   "metadata": {},
   "outputs": [],
   "source": [
    "xn_n = np.matrix(np.zeros((351, 9)))\n",
    "yn = np.matrix(np.zeros((351, 3)))"
   ]
  },
  {
   "cell_type": "code",
   "execution_count": null,
   "id": "87f65e86",
   "metadata": {},
   "outputs": [],
   "source": [
    "for i in range(N):\n",
    "    #   RUIDO DE MEDICION\n",
    "    #   Se utiliza un ruido con distribucion gaussiana\n",
    "    nu_gauss = np.zeros((posicion.shape[0], (posicion.shape[1] - 1)))\n",
    "    \n",
    "    for col in range(posicion.shape[1] - 1):\n",
    "        nu_gauss[:,col] = np.random.normal(0, 10, posicion.shape[0])\n",
    "\n",
    "    # media = nu_gauss.mean(0)\n",
    "    # varianza = nu_gauss.var(0)\n",
    "    \n",
    "    #   Defino Yn como la suma del las variables medidas mas un ruido de medicion\n",
    "    \n",
    "    yn_i = np.dot(xn, C.T) + nu_gauss\n",
    "    \n",
    "    #   Xn|n\n",
    "    xn_n_i = np.matrix(np.zeros((351, 9)))\n",
    "    \n",
    "    xn_n_i[0,:] = [10.7533, 36.6777, -45.1769,\n",
    "                   1.1009, -17.0, 35.7418,\n",
    "                   -5.7247, 3.4268, 5.2774]\n",
    "    \n",
    "    #   Pn|n\n",
    "    pn_n = np.matrix([[100, 0, 0, 0, 0, 0, 0, 0, 0],\n",
    "                      [0, 100, 0, 0, 0, 0, 0, 0, 0],\n",
    "                      [0, 0, 100, 0, 0, 0, 0, 0, 0],\n",
    "                      [0, 0, 0, 1, 0, 0, 0, 0, 0],\n",
    "                      [0, 0, 0, 0, 1, 0, 0, 0, 0],\n",
    "                      [0, 0, 0, 0, 0, 1, 0, 0, 0],\n",
    "                      [0, 0, 0, 0, 0, 0, 0.01, 0, 0],\n",
    "                      [0, 0, 0, 0, 0, 0, 0, 0.01, 0],\n",
    "                      [0, 0, 0, 0, 0, 0, 0, 0, 0.01]])\n",
    "    \n",
    "    # Xn|n-1\n",
    "    xn_n1 = np.matrix(np.zeros((351,9)))\n",
    "    \n",
    "    \n",
    "    for i in range(351):\n",
    "        (xn_n1[i,:], pn_n1) = estimacionesXP(xn_n_i[i,:], \n",
    "                                             pn_n, \n",
    "                                             A, \n",
    "                                             Q)\n",
    "        if i < 350:\n",
    "            (xn_n_i[i+1,:], pn_n, Kn) = Filtro_Kalman(xn_n1[i,:], \n",
    "                                                      pn_n1, \n",
    "                                                      yn_i[i,:], \n",
    "                                                      C, \n",
    "                                                      R)\n",
    "            \n",
    "    xn_n = xn_n + xn_n_i\n",
    "    yn = yn + yn_i"
   ]
  },
  {
   "cell_type": "code",
   "execution_count": null,
   "id": "bb9fc915",
   "metadata": {},
   "outputs": [],
   "source": [
    "xn_n = xn_n / N\n",
    "yn = yn / N"
   ]
  },
  {
   "cell_type": "code",
   "execution_count": null,
   "id": "03a7b01f",
   "metadata": {},
   "outputs": [],
   "source": [
    "#   GRAFICAS DE POSICIONES REALES, MEDIDA Y ESTIMADAS POR EL FK\n",
    "\n",
    "fig, px = plt.subplots()\n",
    "px.plot(posicion[:, 0], posicion[:, 1])\n",
    "px.plot(posicion[:, 0], xn_n[:, 0])\n",
    "px.plot(posicion[:, 0], yn[:, 0])\n",
    "px.set_title('Posicion de la particula en X')\n",
    "px.legend(('Posicion Real', \n",
    "           'Posicion Estimada', \n",
    "           'Posicion Medida'))\n",
    "px.set_xlabel('Tiempo')\n",
    "px.set_ylabel('Posicion x')\n",
    "px.grid()\n",
    "\n",
    "fig, py = plt.subplots()\n",
    "py.plot(posicion[:, 0], posicion[:, 2])\n",
    "py.plot(posicion[:, 0], xn_n[:, 1])\n",
    "py.plot(posicion[:, 0], yn[:, 1])\n",
    "py.set_title('Posicion de la particula en Y')\n",
    "py.legend(('Posicion Real', \n",
    "           'Posicion Estimada', \n",
    "           'Posicion Medida'))\n",
    "py.set_xlabel('Tiempo')\n",
    "py.set_ylabel('Posicion y')\n",
    "py.grid()\n",
    "\n",
    "fig, pz = plt.subplots()\n",
    "pz.plot(posicion[:, 0], posicion[:, 3])\n",
    "pz.plot(posicion[:, 0], xn_n[:, 2])\n",
    "pz.plot(posicion[:, 0], yn[:, 2])\n",
    "pz.set_title('Posicion de la particula en Z')\n",
    "pz.legend(('Posicion Real', \n",
    "           'Posicion Estimada', \n",
    "           'Posicion Medida'))\n",
    "pz.set_xlabel('Tiempo')\n",
    "pz.set_ylabel('Posicion z')\n",
    "pz.grid()"
   ]
  },
  {
   "cell_type": "code",
   "execution_count": null,
   "id": "c7831c67",
   "metadata": {},
   "outputs": [],
   "source": []
  }
 ],
 "metadata": {
  "kernelspec": {
   "display_name": "Python 3",
   "language": "python",
   "name": "python3"
  },
  "language_info": {
   "codemirror_mode": {
    "name": "ipython",
    "version": 3
   },
   "file_extension": ".py",
   "mimetype": "text/x-python",
   "name": "python",
   "nbconvert_exporter": "python",
   "pygments_lexer": "ipython3",
   "version": "3.8.8"
  }
 },
 "nbformat": 4,
 "nbformat_minor": 5
}
