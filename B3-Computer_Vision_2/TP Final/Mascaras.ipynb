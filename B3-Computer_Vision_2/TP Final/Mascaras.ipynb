{
 "cells": [
  {
   "cell_type": "code",
   "execution_count": null,
   "id": "efa1044c",
   "metadata": {},
   "outputs": [],
   "source": [
    "import os\n",
    "import csv\n",
    "import json\n",
    "import pandas as pd\n",
    "import numpy as np\n",
    "import matplotlib.pyplot as plt\n",
    "from os import listdir\n",
    "import pickle as pkl\n",
    "import cv2\n",
    "import numpy as np\n",
    "import tensorflow as tf\n",
    "from tensorflow.keras.layers import Input, Conv2D, Conv2DTranspose, MaxPooling2D, concatenate, Dropout\n",
    "from tensorflow.keras import Model\n",
    "from tensorflow.keras.preprocessing.image import ImageDataGenerator\n",
    "from tensorflow.keras.callbacks import ModelCheckpoint, EarlyStopping,ReduceLROnPlateau\n",
    "from tensorflow.keras.losses import sparse_categorical_crossentropy"
   ]
  },
  {
   "cell_type": "raw",
   "id": "f0b7fec4",
   "metadata": {},
   "source": [
    "if tf.test.gpu_device_name(): \n",
    "    print('Default GPU Device:{}'.format(tf.test.gpu_device_name()))\n",
    "else:\n",
    "    print(\"Please install GPU version of TF\")"
   ]
  },
  {
   "cell_type": "code",
   "execution_count": null,
   "id": "41f4af98",
   "metadata": {},
   "outputs": [],
   "source": [
    "csv_path = r\"C:\\Users\\Agustin\\Documents\\RepositorioCEIA_Git\\VpC2_Datasets\\severstal-steel-defect-detection/train.csv\"\n",
    "train_path = r\"C:\\Users\\Agustin\\Documents\\RepositorioCEIA_Git\\VpC2_Datasets\\severstal-steel-defect-detection/train_images/\"\n",
    "train_masks_path = r\"C:\\Users\\Agustin\\Documents\\RepositorioCEIA_Git\\VpC2_Datasets\\severstal-steel-defect-detection/train_masks/\""
   ]
  },
  {
   "cell_type": "code",
   "execution_count": null,
   "id": "32385a45",
   "metadata": {},
   "outputs": [],
   "source": [
    "def decode_pixels(pixels_str):\n",
    "    \"\"\"\n",
    "    This function receives a list which contains the pixels as a space-separated code.\n",
    "    For example, '1 3 10 5' implies pixels 1,2,3,10,11,12,13,14 are to be included in the mask\n",
    "    \"\"\"\n",
    "    \n",
    "    pixels_encoded_list = pixels_str.split(' ')\n",
    "    pixels_list = []\n",
    "    for i in range(0, len(pixels_encoded_list), 2):\n",
    "        # Add to the pixels list all the pixels encoded by the 2 digits\n",
    "        pixels_list += range(\n",
    "            int(pixels_encoded_list[i]) - 1,\n",
    "            int(pixels_encoded_list[i]) + int(pixels_encoded_list[i + 1]) - 1,\n",
    "        )\n",
    "        \n",
    "    # Return the decoded list    \n",
    "    return pixels_list"
   ]
  },
  {
   "cell_type": "code",
   "execution_count": null,
   "id": "0e1aef7e",
   "metadata": {},
   "outputs": [],
   "source": [
    "train_csv = pd.read_csv(csv_path)"
   ]
  },
  {
   "cell_type": "code",
   "execution_count": null,
   "id": "9f8a69c8",
   "metadata": {},
   "outputs": [],
   "source": [
    "train_files = listdir(train_path)"
   ]
  },
  {
   "cell_type": "code",
   "execution_count": null,
   "id": "6c086d0e",
   "metadata": {},
   "outputs": [],
   "source": [
    "n_h = 256\n",
    "n_w = 1600\n",
    "n_class = 5"
   ]
  },
  {
   "cell_type": "code",
   "execution_count": null,
   "id": "de60f843",
   "metadata": {},
   "outputs": [],
   "source": [
    "for f in train_files:\n",
    "    \n",
    "    y_out=train_csv[train_csv['ImageId'].eq(f)]\n",
    "    \n",
    "    image_pixels = np.zeros((n_h, n_w), dtype=np.uint8)\n",
    "\n",
    "    for index, row in y_out.iterrows():\n",
    "\n",
    "        # Generate the mask of the error type\n",
    "        mask = np.zeros((n_h * n_w, 1), dtype=np.uint8)\n",
    "        mask[decode_pixels(row['EncodedPixels'])] = int(row['ClassId'])\n",
    "        mask = mask.reshape(n_h, n_w)\n",
    "    \n",
    "        # Update channel of the given error\n",
    "        image_pixels = image_pixels + mask\n",
    "    \n",
    "    cv2.imwrite(train_masks_path+ f + \".bmp\", image_pixels)"
   ]
  },
  {
   "cell_type": "code",
   "execution_count": null,
   "id": "9f50e269",
   "metadata": {},
   "outputs": [],
   "source": []
  },
  {
   "cell_type": "code",
   "execution_count": null,
   "id": "1c8abf54",
   "metadata": {},
   "outputs": [],
   "source": []
  },
  {
   "cell_type": "code",
   "execution_count": null,
   "id": "ad3b03f3",
   "metadata": {},
   "outputs": [],
   "source": []
  },
  {
   "cell_type": "code",
   "execution_count": null,
   "id": "240f866e",
   "metadata": {},
   "outputs": [],
   "source": []
  },
  {
   "cell_type": "code",
   "execution_count": null,
   "id": "b5a6dd96",
   "metadata": {},
   "outputs": [],
   "source": []
  }
 ],
 "metadata": {
  "kernelspec": {
   "display_name": "Python 3",
   "language": "python",
   "name": "python3"
  },
  "language_info": {
   "codemirror_mode": {
    "name": "ipython",
    "version": 3
   },
   "file_extension": ".py",
   "mimetype": "text/x-python",
   "name": "python",
   "nbconvert_exporter": "python",
   "pygments_lexer": "ipython3",
   "version": "3.8.8"
  }
 },
 "nbformat": 4,
 "nbformat_minor": 5
}
