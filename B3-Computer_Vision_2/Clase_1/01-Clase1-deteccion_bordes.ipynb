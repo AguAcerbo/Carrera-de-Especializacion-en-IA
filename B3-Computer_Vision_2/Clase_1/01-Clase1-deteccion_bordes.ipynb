{
 "cells": [
  {
   "cell_type": "markdown",
   "metadata": {
    "colab_type": "text",
    "id": "view-in-github"
   },
   "source": [
    "<a href=\"https://colab.research.google.com/github/AguAcerbo/VisionPorComputadora2/blob/main/deteccion_bordes.ipynb\" target=\"_parent\"><img src=\"https://colab.research.google.com/assets/colab-badge.svg\" alt=\"Open In Colab\"/></a>"
   ]
  },
  {
   "cell_type": "markdown",
   "metadata": {
    "id": "76U31QK1xog_"
   },
   "source": [
    "### Veamos el ejemplo en las slides"
   ]
  },
  {
   "cell_type": "code",
   "execution_count": 1,
   "metadata": {
    "colab": {
     "base_uri": "https://localhost:8080/",
     "height": 159
    },
    "id": "Hv4_aTQNNlX2",
    "outputId": "ead791bd-1b4f-4b4e-ba00-572ee0b3ab2c"
   },
   "outputs": [
    {
     "name": "stdout",
     "output_type": "stream",
     "text": [
      "[[5 0 3 3 7]\n",
      " [9 3 5 2 4]\n",
      " [7 6 8 8 1]\n",
      " [6 7 7 8 1]\n",
      " [5 9 8 9 4]]\n",
      "\n",
      "[[ 1  0 -1]\n",
      " [ 1  0 -1]\n",
      " [ 1  0 -1]]\n"
     ]
    }
   ],
   "source": [
    "# detección de bordes:\n",
    "import numpy as np\n",
    "np.random.seed(0)\n",
    "img = np.random.randint(0, 10, size=(5,5), dtype='l')\n",
    "filtro = np.array([[1,0,-1],\n",
    "                   [1,0,-1],\n",
    "                   [1,0,-1]])\n",
    "print(img)\n",
    "print()\n",
    "print(filtro)"
   ]
  },
  {
   "cell_type": "markdown",
   "metadata": {
    "id": "oRf0nvhZxwii"
   },
   "source": [
    "### Multiplicación elemento a elemento y suma"
   ]
  },
  {
   "cell_type": "code",
   "execution_count": 2,
   "metadata": {
    "colab": {
     "base_uri": "https://localhost:8080/",
     "height": 35
    },
    "id": "vbQNwQgmNtXh",
    "outputId": "474455f7-db20-4f5e-d7a3-15bfc79fc6e3"
   },
   "outputs": [
    {
     "data": {
      "text/plain": [
       "5"
      ]
     },
     "execution_count": 2,
     "metadata": {},
     "output_type": "execute_result"
    }
   ],
   "source": [
    "np.sum(np.sum(img[0:3,0:3]*filtro))"
   ]
  },
  {
   "cell_type": "code",
   "execution_count": 3,
   "metadata": {
    "id": "vGBWJGniWiLS"
   },
   "outputs": [
    {
     "data": {
      "text/plain": [
       "2"
      ]
     },
     "execution_count": 3,
     "metadata": {},
     "output_type": "execute_result"
    }
   ],
   "source": [
    "np.sum(np.sum(img[1:4,0:3]*filtro))"
   ]
  },
  {
   "cell_type": "code",
   "execution_count": 4,
   "metadata": {
    "id": "ZAlz3I6PPXW2"
   },
   "outputs": [
    {
     "name": "stdout",
     "output_type": "stream",
     "text": [
      "[[10 10 10  0  0  0]\n",
      " [10 10 10  0  0  0]\n",
      " [10 10 10  0  0  0]\n",
      " [10 10 10  0  0  0]\n",
      " [10 10 10  0  0  0]\n",
      " [10 10 10  0  0  0]]\n"
     ]
    }
   ],
   "source": [
    "img = np.repeat([[10,10,10,0,0,0]], 6, axis=0)\n",
    "print(img)"
   ]
  },
  {
   "cell_type": "markdown",
   "metadata": {
    "id": "pIa23F_-x94J"
   },
   "source": [
    "### Convolucionar la imagen entera y ver el resultado"
   ]
  },
  {
   "cell_type": "code",
   "execution_count": 5,
   "metadata": {
    "colab": {
     "base_uri": "https://localhost:8080/",
     "height": 88
    },
    "id": "jTZRbZFWW9mJ",
    "outputId": "f6dec8b5-5304-4666-c57f-bbc81bfb2430"
   },
   "outputs": [
    {
     "data": {
      "text/plain": [
       "array([[  0, -30, -30,   0],\n",
       "       [  0, -30, -30,   0],\n",
       "       [  0, -30, -30,   0],\n",
       "       [  0, -30, -30,   0]])"
      ]
     },
     "execution_count": 5,
     "metadata": {},
     "output_type": "execute_result"
    }
   ],
   "source": [
    "# usamos scipy.signal.convolve2d\n",
    "from scipy.signal import convolve2d\n",
    "convolve2d(img,filtro,'valid')"
   ]
  },
  {
   "cell_type": "code",
   "execution_count": 6,
   "metadata": {
    "id": "MTTQqAaSANbC"
   },
   "outputs": [
    {
     "name": "stdout",
     "output_type": "stream",
     "text": [
      "[[5 0 3 3 7]\n",
      " [9 3 5 2 4]\n",
      " [7 6 8 8 1]\n",
      " [6 7 7 8 1]\n",
      " [5 9 8 9 4]]\n",
      "[[ 1  1  1]\n",
      " [ 0  0  0]\n",
      " [-1 -1 -1]]\n"
     ]
    }
   ],
   "source": [
    "# ejemplo de filtro horizontal:\n",
    "import numpy as np\n",
    "np.random.seed(0)\n",
    "img = np.random.randint(0, 10, size=(5,5), dtype='l')\n",
    "filtro = np.array([[1,1,1],\n",
    "                   [0,0,0],\n",
    "                   [-1,-1,-1]])\n",
    "print(img)\n",
    "print(filtro)"
   ]
  },
  {
   "cell_type": "code",
   "execution_count": 7,
   "metadata": {
    "id": "xqeYnGEEASGS"
   },
   "outputs": [
    {
     "name": "stdout",
     "output_type": "stream",
     "text": [
      "[[10 10 10  0  0  0]\n",
      " [10 10 10  0  0  0]\n",
      " [10 10 10  0  0  0]\n",
      " [ 0  0  0 10 10 10]\n",
      " [ 0  0  0 10 10 10]\n",
      " [ 0  0  0 10 10 10]]\n"
     ]
    }
   ],
   "source": [
    "img = np.array(\n",
    "    [[10,10,10,0,0,0],\n",
    "     [10,10,10,0,0,0],\n",
    "     [10,10,10,0,0,0],\n",
    "     [0,0,0,10,10,10],\n",
    "     [0,0,0,10,10,10],\n",
    "     [0,0,0,10,10,10]]\n",
    ")\n",
    "print(img)"
   ]
  },
  {
   "cell_type": "code",
   "execution_count": 8,
   "metadata": {
    "id": "jdwmg-83AUIJ"
   },
   "outputs": [
    {
     "data": {
      "text/plain": [
       "array([[  0,   0,   0,   0],\n",
       "       [-30, -10,  10,  30],\n",
       "       [-30, -10,  10,  30],\n",
       "       [  0,   0,   0,   0]])"
      ]
     },
     "execution_count": 8,
     "metadata": {},
     "output_type": "execute_result"
    }
   ],
   "source": [
    "# convolucionamos\n",
    "from scipy.signal import convolve2d\n",
    "convolve2d(img,filtro,'valid')"
   ]
  },
  {
   "cell_type": "code",
   "execution_count": 9,
   "metadata": {},
   "outputs": [
    {
     "data": {
      "text/plain": [
       "array([[ 20,  30,  20,  10,   0,   0],\n",
       "       [  0,   0,   0,   0,   0,   0],\n",
       "       [-20, -30, -10,  10,  30,  20],\n",
       "       [-20, -30, -10,  10,  30,  20],\n",
       "       [  0,   0,   0,   0,   0,   0],\n",
       "       [  0,   0, -10, -20, -30, -20]])"
      ]
     },
     "execution_count": 9,
     "metadata": {},
     "output_type": "execute_result"
    }
   ],
   "source": [
    "convolve2d(img,filtro,'same')"
   ]
  },
  {
   "cell_type": "code",
   "execution_count": null,
   "metadata": {},
   "outputs": [],
   "source": []
  }
 ],
 "metadata": {
  "colab": {
   "collapsed_sections": [],
   "include_colab_link": true,
   "name": "deteccion_bordes.ipynb",
   "provenance": []
  },
  "kernelspec": {
   "display_name": "Python 3 (ipykernel)",
   "language": "python",
   "name": "python3"
  },
  "language_info": {
   "codemirror_mode": {
    "name": "ipython",
    "version": 3
   },
   "file_extension": ".py",
   "mimetype": "text/x-python",
   "name": "python",
   "nbconvert_exporter": "python",
   "pygments_lexer": "ipython3",
   "version": "3.8.13"
  }
 },
 "nbformat": 4,
 "nbformat_minor": 1
}
