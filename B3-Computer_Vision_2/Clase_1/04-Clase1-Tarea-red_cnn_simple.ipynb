{
 "cells": [
  {
   "cell_type": "markdown",
   "metadata": {
    "colab_type": "text",
    "id": "view-in-github"
   },
   "source": [
    "<a href=\"https://colab.research.google.com/github/AguAcerbo/VisionPorComputadora2/blob/main/red_cnn_simple.ipynb\" target=\"_parent\"><img src=\"https://colab.research.google.com/assets/colab-badge.svg\" alt=\"Open In Colab\"/></a>"
   ]
  },
  {
   "cell_type": "markdown",
   "metadata": {
    "id": "kdxZqw-_vJ5Z"
   },
   "source": [
    "# Vamos a hacer una red simple para entrener con mnist\n",
    "\n",
    "- Implementar una red convolucional simple en Keras para entrenar con MNIST\n",
    "- Entrenar la red\n",
    "- Usar la red para predecir en ejemplos nuevos"
   ]
  },
  {
   "cell_type": "markdown",
   "metadata": {
    "id": "MU7kp97kvJ5a"
   },
   "source": [
    "## Modelo simple en Keras/Tensorflow\n",
    "\n",
    "Armemos una red muy simple para clasificar digitos."
   ]
  },
  {
   "cell_type": "code",
   "execution_count": 1,
   "metadata": {
    "id": "t72dcWeXvJ5b"
   },
   "outputs": [],
   "source": [
    "import numpy as np\n",
    "from keras.datasets import mnist\n",
    "from matplotlib import pyplot\n",
    "from tensorflow.keras.models import Sequential\n",
    "from tensorflow.keras.layers import Conv2D, MaxPooling2D, Dense, Flatten\n",
    "from tensorflow.keras.utils import to_categorical\n",
    "\n",
    "num_filters = 8\n",
    "filter_size = 3\n",
    "pool_size = 2\n",
    "\n",
    "# Armar el modelo secuencial\n",
    "model = Sequential()\n",
    "# Mi primer layer la armo como una capa convolucional 2D donde indicamos la cantidad de filtros (8),\n",
    "# el tama;o del filtro (3x3) e indico el tamaño de mis imagenes de entradas 28x28 pixeles y el 1 porque esta en escala de grises\n",
    "model.add(Conv2D(num_filters, filter_size, input_shape=(28, 28, 1)))\n",
    "# Defino una capa de MaxPooling\n",
    "model.add(MaxPooling2D(pool_size=pool_size))\n",
    "# la capa de Flatten tranforma mi matriz en un vector\n",
    "model.add(Flatten())\n",
    "# Finalizo con una capa densa de 10 salidas y activacion softmax\n",
    "model.add(Dense(10, activation='softmax'))  \n",
    "\n",
    "# otra manera de hacer lo mismo:\n",
    "#model = Sequential([\n",
    "#  Conv2D(num_filters, filter_size, input_shape=(28, 28, 1)),\n",
    "#  MaxPooling2D(pool_size=pool_size),\n",
    "#  Flatten(),\n",
    "#  Dense(10, activation='softmax'),\n",
    "#])\n",
    "\n",
    "# Compilar el modelo\n",
    "model.compile(\n",
    "  'adam',\n",
    "  loss='categorical_crossentropy',\n",
    "  metrics=['accuracy'],\n",
    ")"
   ]
  },
  {
   "cell_type": "code",
   "execution_count": 2,
   "metadata": {
    "colab": {
     "base_uri": "https://localhost:8080/",
     "height": 301
    },
    "id": "e5vpguiVxYt7",
    "outputId": "6990c0d8-491a-4d0a-c2ce-9e66a266d7d4"
   },
   "outputs": [
    {
     "name": "stdout",
     "output_type": "stream",
     "text": [
      "Model: \"sequential\"\n",
      "_________________________________________________________________\n",
      "Layer (type)                 Output Shape              Param #   \n",
      "=================================================================\n",
      "conv2d (Conv2D)              (None, 26, 26, 8)         80        \n",
      "_________________________________________________________________\n",
      "max_pooling2d (MaxPooling2D) (None, 13, 13, 8)         0         \n",
      "_________________________________________________________________\n",
      "flatten (Flatten)            (None, 1352)              0         \n",
      "_________________________________________________________________\n",
      "dense (Dense)                (None, 10)                13530     \n",
      "=================================================================\n",
      "Total params: 13,610\n",
      "Trainable params: 13,610\n",
      "Non-trainable params: 0\n",
      "_________________________________________________________________\n"
     ]
    }
   ],
   "source": [
    "model.summary()"
   ]
  },
  {
   "cell_type": "markdown",
   "metadata": {},
   "source": [
    "**OBSERVACIONES:** como no hicimos padding nuestras imagenes se vieron reducidas de 28x28 a 26x26."
   ]
  },
  {
   "cell_type": "markdown",
   "metadata": {
    "id": "FxFkT112vJ5f"
   },
   "source": [
    "## Cargamos los datos\n"
   ]
  },
  {
   "cell_type": "code",
   "execution_count": 3,
   "metadata": {
    "colab": {
     "base_uri": "https://localhost:8080/",
     "height": 304
    },
    "id": "vHx6onwbvJ5f",
    "outputId": "4705bb44-69c1-440a-dea7-204c0e38ef86"
   },
   "outputs": [
    {
     "name": "stdout",
     "output_type": "stream",
     "text": [
      "Downloading data from https://storage.googleapis.com/tensorflow/tf-keras-datasets/mnist.npz\n",
      "11493376/11490434 [==============================] - ETA: 0s E - ETA:  - 2s 0us/step\n",
      "Train: X=(60000, 28, 28), y=(60000,)\n",
      "Test: X=(10000, 28, 28), y=(10000,)\n"
     ]
    },
    {
     "data": {
      "image/png": "[encoded data removed]",
      "text/plain": [
       "<Figure size 432x288 with 9 Axes>"
      ]
     },
     "metadata": {
      "needs_background": "light"
     },
     "output_type": "display_data"
    }
   ],
   "source": [
    "# Cargar el dataset\n",
    "(train_X, train_y), (test_X, test_y) = mnist.load_data()\n",
    "# Imprimir un resumen de los datos\n",
    "print('Train: X=%s, y=%s' % (train_X.shape, train_y.shape))\n",
    "print('Test: X=%s, y=%s' % (test_X.shape, test_y.shape))\n",
    "# Plotear las primeras imágenes\n",
    "for i in range(9):\n",
    "    # define subplot\n",
    "    pyplot.subplot(330 + 1 + i)\n",
    "    # plot raw pixel data\n",
    "    pyplot.imshow(train_X[i], cmap=pyplot.get_cmap('gray'))\n",
    "# show the figure\n",
    "pyplot.show()\n",
    "\n",
    "# Normalizamos las imágenes\n",
    "train_X_n = (train_X / 255) - 0.5\n",
    "test_X_n = (test_X / 255) - 0.5\n",
    "\n",
    "# Hacemos reshape de las imágenes para que tengan un canal\n",
    "train_X_n = train_X.reshape((train_X_n.shape[0], 28, 28, 1))\n",
    "test_X_n = test_X.reshape((test_X_n.shape[0], 28, 28, 1))\n",
    "\n",
    "# también se puede hacer\n",
    "#train_X_n = np.expand_dims(train_X_n, axis=3)\n",
    "#test_X_n = np.expand_dims(test_X_n, axis=3)\n",
    "\n"
   ]
  },
  {
   "cell_type": "markdown",
   "metadata": {
    "id": "dpSVZomFvJ5i"
   },
   "source": [
    "### Entrenamos el modelo"
   ]
  },
  {
   "cell_type": "code",
   "execution_count": 4,
   "metadata": {
    "colab": {
     "base_uri": "https://localhost:8080/",
     "height": 333
    },
    "id": "cf30zYJzvJ5k",
    "outputId": "3eea4918-7120-47d6-dd60-9b9bdbd9a307"
   },
   "outputs": [
    {
     "name": "stdout",
     "output_type": "stream",
     "text": [
      "Epoch 1/3\n",
      "1875/1875 [==============================] - 7s 4ms/step - loss: 1.8964 - accuracy: 0.8880 - val_loss: 0.5308 - val_accuracy: 0.9342\n",
      "Epoch 2/3\n",
      "1875/1875 [==============================] - 7s 4ms/step - loss: 0.3614 - accuracy: 0.9415 - val_loss: 0.2903 - val_accuracy: 0.9484\n",
      "Epoch 3/3\n",
      "1875/1875 [==============================] - 7s 4ms/step - loss: 0.2402 - accuracy: 0.9497 - val_loss: 0.2476 - val_accuracy: 0.9495\n",
      "[7 2 1 0 4]\n",
      "[7 2 1 0 4]\n"
     ]
    },
    {
     "data": {
      "image/png": "[encoded data removed]",
      "text/plain": [
       "<Figure size 432x288 with 5 Axes>"
      ]
     },
     "metadata": {
      "needs_background": "light"
     },
     "output_type": "display_data"
    }
   ],
   "source": [
    "# Entrenamos el modelo\n",
    "model.fit(\n",
    "  train_X_n,\n",
    "  to_categorical(train_y),\n",
    "  epochs=3,\n",
    "  validation_data=(test_X_n, to_categorical(test_y)),\n",
    ")\n",
    "\n",
    "# Guardar el modelo al disco\n",
    "#model.save_weights('cnn.h5')\n",
    "\n",
    "# Cargar el modelo del disco\n",
    "# model.load_weights('cnn.h5')\n",
    "\n",
    "# Predecir las primeras 5 imágines del test set\n",
    "predicciones = model.predict(test_X_n[:5])\n",
    "\n",
    "# Imprimir las predicciones\n",
    "print(np.argmax(predicciones, axis=1)) # [7, 2, 1, 0, 4]\n",
    "\n",
    "# Chequear que son correctas\n",
    "print(test_y[:5]) # [7, 2, 1, 0, 4]\n",
    "\n",
    "# Plotear esas imágenes\n",
    "for i in range(5):\n",
    "    pyplot.subplot(330 + 1 + i)\n",
    "    pyplot.imshow(test_X[i], cmap=pyplot.get_cmap('gray'))\n",
    "pyplot.show()"
   ]
  },
  {
   "cell_type": "code",
   "execution_count": 5,
   "metadata": {
    "id": "AifRlFB0vJ5n"
   },
   "outputs": [
    {
     "name": "stdout",
     "output_type": "stream",
     "text": [
      "Model: \"sequential\"\n",
      "_________________________________________________________________\n",
      "Layer (type)                 Output Shape              Param #   \n",
      "=================================================================\n",
      "conv2d (Conv2D)              (None, 26, 26, 8)         80        \n",
      "_________________________________________________________________\n",
      "max_pooling2d (MaxPooling2D) (None, 13, 13, 8)         0         \n",
      "_________________________________________________________________\n",
      "flatten (Flatten)            (None, 1352)              0         \n",
      "_________________________________________________________________\n",
      "dense (Dense)                (None, 10)                13530     \n",
      "=================================================================\n",
      "Total params: 13,610\n",
      "Trainable params: 13,610\n",
      "Non-trainable params: 0\n",
      "_________________________________________________________________\n",
      "None\n"
     ]
    }
   ],
   "source": [
    "print(model.summary())"
   ]
  },
  {
   "cell_type": "markdown",
   "metadata": {
    "id": "iRQGHvIXxQ_h"
   },
   "source": [
    "### Ejercicio: hacer otra red que tenga:\n",
    "1. Capa convolucional, 8 filtros de 3x3\n",
    "2. Capa max pool\n",
    "3. Capa convolucional, 16 filtros de 3x3\n",
    "4. Capa max pool\n",
    "5. Capa convolucional, 32 filtros de 3x3\n",
    "6. Capa max pool\n",
    "7. Flatten\n",
    "8. Capa densa \n",
    "9. Salida"
   ]
  },
  {
   "cell_type": "code",
   "execution_count": 6,
   "metadata": {
    "id": "SAHK0wjNvJ5s"
   },
   "outputs": [],
   "source": [
    "# Armar el modelo\n",
    "model = Sequential()\n",
    "model.add(Conv2D(8, 3, input_shape=(28, 28, 1)))\n",
    "model.add(MaxPooling2D(pool_size=2))\n",
    "model.add(Conv2D(16, 3))\n",
    "model.add(MaxPooling2D(pool_size=2))\n",
    "model.add(Conv2D(32, 3))\n",
    "model.add(MaxPooling2D(pool_size=2))\n",
    "model.add(Flatten())\n",
    "model.add(Dense(10, activation='softmax'))  \n",
    "\n",
    "# Compilar el modelo\n",
    "model.compile(\n",
    "  'adam',\n",
    "  loss='categorical_crossentropy',\n",
    "  metrics=['accuracy'],\n",
    ")"
   ]
  },
  {
   "cell_type": "code",
   "execution_count": 7,
   "metadata": {
    "colab": {
     "base_uri": "https://localhost:8080/",
     "height": 461
    },
    "id": "REiidQvPysr9",
    "outputId": "eb6d9cfc-e6d5-4466-868c-c2ed21669e80"
   },
   "outputs": [
    {
     "name": "stdout",
     "output_type": "stream",
     "text": [
      "Model: \"sequential_1\"\n",
      "_________________________________________________________________\n",
      "Layer (type)                 Output Shape              Param #   \n",
      "=================================================================\n",
      "conv2d_1 (Conv2D)            (None, 26, 26, 8)         80        \n",
      "_________________________________________________________________\n",
      "max_pooling2d_1 (MaxPooling2 (None, 13, 13, 8)         0         \n",
      "_________________________________________________________________\n",
      "conv2d_2 (Conv2D)            (None, 11, 11, 16)        1168      \n",
      "_________________________________________________________________\n",
      "max_pooling2d_2 (MaxPooling2 (None, 5, 5, 16)          0         \n",
      "_________________________________________________________________\n",
      "conv2d_3 (Conv2D)            (None, 3, 3, 32)          4640      \n",
      "_________________________________________________________________\n",
      "max_pooling2d_3 (MaxPooling2 (None, 1, 1, 32)          0         \n",
      "_________________________________________________________________\n",
      "flatten_1 (Flatten)          (None, 32)                0         \n",
      "_________________________________________________________________\n",
      "dense_1 (Dense)              (None, 10)                330       \n",
      "=================================================================\n",
      "Total params: 6,218\n",
      "Trainable params: 6,218\n",
      "Non-trainable params: 0\n",
      "_________________________________________________________________\n",
      "None\n"
     ]
    }
   ],
   "source": [
    "print(model.summary())"
   ]
  },
  {
   "cell_type": "code",
   "execution_count": 8,
   "metadata": {
    "colab": {
     "base_uri": "https://localhost:8080/",
     "height": 333
    },
    "id": "X_ialWLjxQcg",
    "outputId": "ceb95591-f2f8-4e88-e928-da3441092e77"
   },
   "outputs": [
    {
     "name": "stdout",
     "output_type": "stream",
     "text": [
      "Epoch 1/3\n",
      "1875/1875 [==============================] - 11s 6ms/step - loss: 1.3108 - accuracy: 0.8406 - val_loss: 0.3252 - val_accuracy: 0.9205\n",
      "Epoch 2/3\n",
      "1875/1875 [==============================] - 11s 6ms/step - loss: 0.2352 - accuracy: 0.9373 - val_loss: 0.1932 - val_accuracy: 0.9474\n",
      "Epoch 3/3\n",
      "1875/1875 [==============================] - 11s 6ms/step - loss: 0.1567 - accuracy: 0.9535 - val_loss: 0.1396 - val_accuracy: 0.9602\n",
      "[7 2 1 0 4]\n",
      "[7 2 1 0 4]\n"
     ]
    },
    {
     "data": {
      "image/png": "[encoded data removed]",
      "text/plain": [
       "<Figure size 432x288 with 5 Axes>"
      ]
     },
     "metadata": {
      "needs_background": "light"
     },
     "output_type": "display_data"
    }
   ],
   "source": [
    "# Entrenamos el modelo\n",
    "model.fit(\n",
    "  train_X_n,\n",
    "  to_categorical(train_y),\n",
    "  epochs=3,\n",
    "  validation_data=(test_X_n, to_categorical(test_y)),\n",
    ")\n",
    "\n",
    "# Guardar el modelo al disco\n",
    "#model.save_weights('cnn.h5')\n",
    "\n",
    "# Cargar el modelo del disco\n",
    "# model.load_weights('cnn.h5')\n",
    "\n",
    "# Predecir las primeras 5 imágines del test set\n",
    "predicciones = model.predict(test_X_n[:5])\n",
    "\n",
    "# Imprimir las predicciones\n",
    "print(np.argmax(predicciones, axis=1)) # [7, 2, 1, 0, 4]\n",
    "\n",
    "# Chequear que son correctas\n",
    "print(test_y[:5]) # [7, 2, 1, 0, 4]\n",
    "\n",
    "# Plotear esas imágenes\n",
    "for i in range(5):\n",
    "\tpyplot.subplot(330 + 1 + i)\n",
    "\tpyplot.imshow(test_X[i], cmap=pyplot.get_cmap('gray'))\n",
    "pyplot.show()"
   ]
  },
  {
   "cell_type": "code",
   "execution_count": null,
   "metadata": {
    "id": "U8hRvpI6zCg8"
   },
   "outputs": [],
   "source": [
    "# Ejercicio: visualizar los filtros en las diferentes capas para ver qué features capturan"
   ]
  }
 ],
 "metadata": {
  "colab": {
   "collapsed_sections": [],
   "include_colab_link": true,
   "name": "red_cnn_simple.ipynb",
   "provenance": []
  },
  "kernelspec": {
   "display_name": "Python 3",
   "language": "python",
   "name": "python3"
  },
  "language_info": {
   "codemirror_mode": {
    "name": "ipython",
    "version": 3
   },
   "file_extension": ".py",
   "mimetype": "text/x-python",
   "name": "python",
   "nbconvert_exporter": "python",
   "pygments_lexer": "ipython3",
   "version": "3.8.8"
  }
 },
 "nbformat": 4,
 "nbformat_minor": 1
}
