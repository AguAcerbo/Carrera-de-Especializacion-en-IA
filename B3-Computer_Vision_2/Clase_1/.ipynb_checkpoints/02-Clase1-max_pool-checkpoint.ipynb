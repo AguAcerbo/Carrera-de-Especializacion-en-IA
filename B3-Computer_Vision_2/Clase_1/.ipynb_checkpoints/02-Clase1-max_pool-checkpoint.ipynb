{
 "cells": [
  {
   "cell_type": "markdown",
   "metadata": {
    "colab_type": "text",
    "id": "view-in-github"
   },
   "source": [
    "<a href=\"https://colab.research.google.com/github/AguAcerbo/VisionPorComputadora2/blob/main/max_pool.ipynb\" target=\"_parent\"><img src=\"https://colab.research.google.com/assets/colab-badge.svg\" alt=\"Open In Colab\"/></a>"
   ]
  },
  {
   "cell_type": "markdown",
   "metadata": {
    "id": "utREfKnWyJy0"
   },
   "source": [
    "### Ejemplo de max pool"
   ]
  },
  {
   "cell_type": "code",
   "execution_count": 1,
   "metadata": {
    "colab": {
     "base_uri": "https://localhost:8080/",
     "height": 88
    },
    "id": "tux8Whma4M5F",
    "outputId": "003f73dd-53db-44c5-f623-1b8cc17a4c1e"
   },
   "outputs": [
    {
     "name": "stdout",
     "output_type": "stream",
     "text": [
      "[[5 0 3 3]\n",
      " [7 9 3 5]\n",
      " [2 4 7 6]\n",
      " [8 8 1 6]]\n"
     ]
    }
   ],
   "source": [
    "import numpy as np\n",
    "\n",
    "np.random.seed(0)\n",
    "img = np.random.randint(0, 10, size=(4,4), dtype='l')\n",
    "\n",
    "print(img)"
   ]
  },
  {
   "cell_type": "code",
   "execution_count": 2,
   "metadata": {
    "colab": {
     "base_uri": "https://localhost:8080/",
     "height": 35
    },
    "id": "oURqRcMR4YdA",
    "outputId": "a566c7c8-e9a2-4a12-d43c-324a0119e445"
   },
   "outputs": [
    {
     "data": {
      "text/plain": [
       "9"
      ]
     },
     "execution_count": 2,
     "metadata": {},
     "output_type": "execute_result"
    }
   ],
   "source": [
    "np.max(img[0:2,0:2])"
   ]
  },
  {
   "cell_type": "markdown",
   "metadata": {
    "id": "_pvpX-GwyP7S"
   },
   "source": [
    "### Ejemplo de max pool en la imagen entera"
   ]
  },
  {
   "cell_type": "code",
   "execution_count": 3,
   "metadata": {
    "colab": {
     "base_uri": "https://localhost:8080/",
     "height": 52
    },
    "id": "3WutmQOe9icl",
    "outputId": "20f40ea2-da44-47df-f59e-1f7087d3d7d5"
   },
   "outputs": [
    {
     "name": "stdout",
     "output_type": "stream",
     "text": [
      "[[9. 5.]\n",
      " [8. 7.]]\n"
     ]
    }
   ],
   "source": [
    "salida = np.zeros((2,2))\n",
    "for i in range(2):\n",
    "    for j in range(2):\n",
    "        salida[i,j] = np.max(img[2*i:2*i+2,2*j:2*j+2])\n",
    "\n",
    "print(salida)"
   ]
  },
  {
   "cell_type": "markdown",
   "metadata": {
    "id": "6xGYBbmLAy7y"
   },
   "source": [
    "### Ejemplo de avg pool"
   ]
  },
  {
   "cell_type": "code",
   "execution_count": 4,
   "metadata": {
    "id": "m45noDAf-Ahq"
   },
   "outputs": [
    {
     "name": "stdout",
     "output_type": "stream",
     "text": [
      "[[5.25 3.5 ]\n",
      " [5.5  5.  ]]\n"
     ]
    }
   ],
   "source": [
    "salida = np.zeros((2,2))\n",
    "for i in range(2):\n",
    "    for j in range(2):\n",
    "        salida[i,j] = np.mean(img[2*i:2*i+2,2*j:2*j+2])\n",
    "\n",
    "print(salida)"
   ]
  },
  {
   "cell_type": "code",
   "execution_count": null,
   "metadata": {},
   "outputs": [],
   "source": []
  }
 ],
 "metadata": {
  "colab": {
   "collapsed_sections": [],
   "include_colab_link": true,
   "name": "max_pool.ipynb",
   "provenance": []
  },
  "kernelspec": {
   "display_name": "Python 3",
   "language": "python",
   "name": "python3"
  },
  "language_info": {
   "codemirror_mode": {
    "name": "ipython",
    "version": 3
   },
   "file_extension": ".py",
   "mimetype": "text/x-python",
   "name": "python",
   "nbconvert_exporter": "python",
   "pygments_lexer": "ipython3",
   "version": "3.8.8"
  }
 },
 "nbformat": 4,
 "nbformat_minor": 1
}
