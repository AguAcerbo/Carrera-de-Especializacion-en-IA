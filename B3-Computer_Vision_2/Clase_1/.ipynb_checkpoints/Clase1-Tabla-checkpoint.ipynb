{
 "cells": [
  {
   "cell_type": "code",
   "execution_count": 1,
   "id": "dd3cde05",
   "metadata": {},
   "outputs": [],
   "source": [
    "import pandas as pd"
   ]
  },
  {
   "cell_type": "code",
   "execution_count": 2,
   "id": "89d63104",
   "metadata": {},
   "outputs": [],
   "source": [
    "idx = [\"Entrada\", \\\n",
    "       \"Conv2D(f=4, s=1,c=8,padding=same)\", \\\n",
    "       \"MaxPool(f=8, s=8)\", \\\n",
    "       \"Conv2D(f=2, s=1,c=16,padding=same)\", \\\n",
    "       \"MaxPool(f=4, s=4)\", \\\n",
    "       \"Dense (salida=6)\"]"
   ]
  },
  {
   "cell_type": "code",
   "execution_count": 3,
   "id": "1ead50d3",
   "metadata": {},
   "outputs": [],
   "source": [
    "c = [\"Dimension Activacion\", \\\n",
    "     \"Tamaño Activacion\", \\\n",
    "     \"# de Parametros\"]"
   ]
  },
  {
   "cell_type": "code",
   "execution_count": 4,
   "id": "b6849343",
   "metadata": {},
   "outputs": [
    {
     "data": {
      "text/html": [
       "<div>\n",
       "<style scoped>\n",
       "    .dataframe tbody tr th:only-of-type {\n",
       "        vertical-align: middle;\n",
       "    }\n",
       "\n",
       "    .dataframe tbody tr th {\n",
       "        vertical-align: top;\n",
       "    }\n",
       "\n",
       "    .dataframe thead th {\n",
       "        text-align: right;\n",
       "    }\n",
       "</style>\n",
       "<table border=\"1\" class=\"dataframe\">\n",
       "  <thead>\n",
       "    <tr style=\"text-align: right;\">\n",
       "      <th></th>\n",
       "      <th>Dimension Activacion</th>\n",
       "      <th>Tamaño Activacion</th>\n",
       "      <th># de Parametros</th>\n",
       "    </tr>\n",
       "  </thead>\n",
       "  <tbody>\n",
       "    <tr>\n",
       "      <th>Entrada</th>\n",
       "      <td>(64, 64, 3)</td>\n",
       "      <td>64x64x3 = 12288</td>\n",
       "      <td>0</td>\n",
       "    </tr>\n",
       "    <tr>\n",
       "      <th>Conv2D(f=4, s=1,c=8,padding=same)</th>\n",
       "      <td>(64, 64, 8)</td>\n",
       "      <td>64x64x8 = 32768</td>\n",
       "      <td>fxfxc+c*bias = 4x4x8x3+8 = 392</td>\n",
       "    </tr>\n",
       "    <tr>\n",
       "      <th>MaxPool(f=8, s=8)</th>\n",
       "      <td>(8, 8, 8)</td>\n",
       "      <td>8x8x8 = 512</td>\n",
       "      <td>0</td>\n",
       "    </tr>\n",
       "    <tr>\n",
       "      <th>Conv2D(f=2, s=1,c=16,padding=same)</th>\n",
       "      <td>(8, 8, 16)</td>\n",
       "      <td>8x8x16 = 1024</td>\n",
       "      <td>fxfxc+c*bias = 2x2x16x8+16 = 528</td>\n",
       "    </tr>\n",
       "    <tr>\n",
       "      <th>MaxPool(f=4, s=4)</th>\n",
       "      <td>(2, 2, 16)</td>\n",
       "      <td>2x2x16 = 64</td>\n",
       "      <td>0</td>\n",
       "    </tr>\n",
       "    <tr>\n",
       "      <th>Dense (salida=6)</th>\n",
       "      <td>(6,1)</td>\n",
       "      <td>6</td>\n",
       "      <td>6x64+6 = 390</td>\n",
       "    </tr>\n",
       "  </tbody>\n",
       "</table>\n",
       "</div>"
      ],
      "text/plain": [
       "                                   Dimension Activacion Tamaño Activacion  \\\n",
       "Entrada                                     (64, 64, 3)   64x64x3 = 12288   \n",
       "Conv2D(f=4, s=1,c=8,padding=same)           (64, 64, 8)   64x64x8 = 32768   \n",
       "MaxPool(f=8, s=8)                             (8, 8, 8)       8x8x8 = 512   \n",
       "Conv2D(f=2, s=1,c=16,padding=same)           (8, 8, 16)     8x8x16 = 1024   \n",
       "MaxPool(f=4, s=4)                            (2, 2, 16)       2x2x16 = 64   \n",
       "Dense (salida=6)                                  (6,1)                 6   \n",
       "\n",
       "                                                     # de Parametros  \n",
       "Entrada                                                            0  \n",
       "Conv2D(f=4, s=1,c=8,padding=same)     fxfxc+c*bias = 4x4x8x3+8 = 392  \n",
       "MaxPool(f=8, s=8)                                                  0  \n",
       "Conv2D(f=2, s=1,c=16,padding=same)  fxfxc+c*bias = 2x2x16x8+16 = 528  \n",
       "MaxPool(f=4, s=4)                                                  0  \n",
       "Dense (salida=6)                                        6x64+6 = 390  "
      ]
     },
     "execution_count": 4,
     "metadata": {},
     "output_type": "execute_result"
    }
   ],
   "source": [
    "pd.DataFrame(data=[[\"(64, 64, 3)\", \"64x64x3 = 12288\", \"0\"],\\\n",
    "                   [\"(64, 64, 8)\", \"64x64x8 = 32768\", \"fxfxc+c*bias = 4x4x8x3+8 = 392\"],\\\n",
    "                   [\"(8, 8, 8)\", \"8x8x8 = 512\", \"0\"],\\\n",
    "                   [\"(8, 8, 16)\", \"8x8x16 = 1024\", \"fxfxc+c*bias = 2x2x16x8+16 = 528\"],\\\n",
    "                   [\"(2, 2, 16)\", \"2x2x16 = 64\", \"0\"],\\\n",
    "                   [\"(6,1)\", \"6\", \"6x64+6 = 390\"]],\\\n",
    "             index=idx, columns=c)"
   ]
  },
  {
   "cell_type": "markdown",
   "id": "90a9e057",
   "metadata": {},
   "source": [
    "**Entrada:**\n",
    "- Dimension de activacion: 64x64 pixeles y 3 canales\n",
    "- Tamaño de activacion: cada pixel es una entrada a mi red por lo tanto tengo 64x64 entradas por canal, 12288 entradas en total.\n",
    "- Parametros: 0\n",
    "\n",
    "**Conv2D(f=4, s=1,c=8,padding=same):**\n",
    "- Dimension de activacion: hay un filtro aplicado de 4x4x8 sobre la imagen con padding='same' por lo tanto a la salida del filtro mantenemos las dimensiones de las imagenes 64x64 pero tendremos 8 de ellas, resultando 64x64x8.\n",
    "- Tamaño de activacion: 64x64x8 = 32768\n",
    "- Parametros: Los parametros se calculan como fxfxfcxcanales+bias. Donde fxf es el tamaño de filtro en este caso 4x4, c es la cantidad de filtros aplicados, c=8, canales = 3 (de la imagen de entrada) y tendremos 8 entradas de bias ya que será uno por filtro. Por lo tanto 4x4x8x3+8 = 392.\n",
    "\n",
    "**MaxPool(f=8, s=8):**\n",
    "- Dimension de activacion: tenemos como entrada 8 imagenes de 64x64 de la capa anterior, aqui le aplicamos una capa de pool maximo por lo que nuestra salida tendra dimensiones ((n_entrada - f) / s ) + 1 = (64-8)/8+1 = 8. Por lo tanto nuestra salida seran 8 imagenes de 8x8, en otras palabras 8x8x8.\n",
    "- Tamaño de activacion: 8x8x8 = 512\n",
    "- Parametros: 0 parametros\n",
    "\n",
    "**Conv2D(f=2, s=1,c=16,padding=same):**\n",
    "- Dimension de activacion: Como tenemos padding='same' la salida de nuestra convolucion mantendra las imagenes de 8x8 de la etapa anterior. Pero como salida tendremos 16 imagens ya que tenemos dicha cantidad de filtros.\n",
    "- Tamaño de activacion: 8x8x16 = 1024\n",
    "- Parametros: Al igual que en la convolucion anterior podemos calcular la cantidad de parametros como 2x2x16x8+16 = 528.\n",
    "\n",
    "**MaxPool(f=4, s=4):**\n",
    "- Dimension de activacion: tenemos como entrada 16 imagenes de 8x8 de la capa anterior, aqui le aplicamos una capa de pool maximo por lo que nuestra salida tendra dimensiones ((n_entrada - f) / s ) + 1 = (8-4)/4+1 = 2. Por lo tanto nuestra salida seran 16 imagenes de 2x2, en otras palabras 8x8x8.\n",
    "- Tamaño de activacion: 2x2x16 = 64\n",
    "- Parametros: 0 parametros\n",
    "\n",
    "**Dense(salida=6):**\n",
    "- Dimension de activacion: ¿6x1?\n",
    "- Tamaño de activacion: la cantidad de salidas 6\n",
    "- Parametros: La cantidad de parametro será la cantidad de salidas deseadas por el tamaño de activacion de la capa anterior, es decir 6 x 64 + 6 = 390"
   ]
  },
  {
   "cell_type": "code",
   "execution_count": 5,
   "id": "276c8ecd",
   "metadata": {},
   "outputs": [
    {
     "name": "stdout",
     "output_type": "stream",
     "text": [
      "Model: \"sequential\"\n",
      "_________________________________________________________________\n",
      "Layer (type)                 Output Shape              Param #   \n",
      "=================================================================\n",
      "conv2d (Conv2D)              (None, 64, 64, 8)         392       \n",
      "_________________________________________________________________\n",
      "max_pooling2d (MaxPooling2D) (None, 8, 8, 8)           0         \n",
      "_________________________________________________________________\n",
      "conv2d_1 (Conv2D)            (None, 8, 8, 16)          528       \n",
      "_________________________________________________________________\n",
      "max_pooling2d_1 (MaxPooling2 (None, 2, 2, 16)          0         \n",
      "_________________________________________________________________\n",
      "flatten (Flatten)            (None, 64)                0         \n",
      "_________________________________________________________________\n",
      "dense (Dense)                (None, 6)                 390       \n",
      "=================================================================\n",
      "Total params: 1,310\n",
      "Trainable params: 1,310\n",
      "Non-trainable params: 0\n",
      "_________________________________________________________________\n"
     ]
    }
   ],
   "source": [
    "import numpy as np\n",
    "from keras.datasets import mnist\n",
    "from matplotlib import pyplot\n",
    "from tensorflow.keras.models import Sequential\n",
    "from tensorflow.keras.layers import Conv2D, MaxPooling2D, Dense, Flatten\n",
    "from tensorflow.keras.utils import to_categorical\n",
    "\n",
    "model = Sequential()\n",
    "model.add(Conv2D(filters = 8, kernel_size = (4, 4), strides=1, padding='same', activation='relu', input_shape=(64, 64, 3)))\n",
    "model.add(MaxPooling2D(pool_size=(8, 8), strides=8, padding=\"same\"))\n",
    "model.add(Conv2D(filters = 16, kernel_size = (2, 2), strides=1, padding='same', activation='relu'))\n",
    "model.add(MaxPooling2D(pool_size=(4, 4), strides=4, padding=\"same\"))\n",
    "model.add(Flatten())\n",
    "model.add(Dense(6, activation='softmax')) \n",
    "\n",
    "# otra manera de hacer lo mismo:\n",
    "#model = Sequential([\n",
    "#  Conv2D(num_filters, filter_size, input_shape=(28, 28, 1)),\n",
    "#  MaxPooling2D(pool_size=pool_size),\n",
    "#  Flatten(),\n",
    "#  Dense(10, activation='softmax'),\n",
    "#])\n",
    "\n",
    "# Compilar el modelo\n",
    "model.compile(\n",
    "  'adam',\n",
    "  loss='categorical_crossentropy',\n",
    "  metrics=['accuracy'],\n",
    ")\n",
    "\n",
    "model.summary()"
   ]
  },
  {
   "cell_type": "code",
   "execution_count": null,
   "id": "4801c8b1",
   "metadata": {},
   "outputs": [],
   "source": []
  }
 ],
 "metadata": {
  "kernelspec": {
   "display_name": "Python 3",
   "language": "python",
   "name": "python3"
  },
  "language_info": {
   "codemirror_mode": {
    "name": "ipython",
    "version": 3
   },
   "file_extension": ".py",
   "mimetype": "text/x-python",
   "name": "python",
   "nbconvert_exporter": "python",
   "pygments_lexer": "ipython3",
   "version": "3.8.8"
  }
 },
 "nbformat": 4,
 "nbformat_minor": 5
}
