{
 "cells": [
  {
   "cell_type": "markdown",
   "metadata": {
    "id": "gnz3-c4GTXm9"
   },
   "source": [
    "# Vamos a utilizar un dataset de perros y gatos para explorar técnicas de Data Augmentation"
   ]
  },
  {
   "cell_type": "code",
   "execution_count": 1,
   "metadata": {
    "id": "AvXs-cneTXm-"
   },
   "outputs": [],
   "source": [
    "import numpy as np\n",
    "import pandas as pd\n",
    "%matplotlib inline\n",
    "import matplotlib as mpl\n",
    "import matplotlib.pyplot as plt\n",
    "import os"
   ]
  },
  {
   "cell_type": "code",
   "execution_count": 2,
   "metadata": {
    "id": "PHVTt9_UTXnC"
   },
   "outputs": [],
   "source": [
    "import tensorflow as tf\n",
    "from tensorflow import keras"
   ]
  },
  {
   "cell_type": "markdown",
   "metadata": {
    "id": "Zk78JBqATXnG"
   },
   "source": [
    "### DATASET:"
   ]
  },
  {
   "cell_type": "markdown",
   "metadata": {
    "id": "PQ0QRvPATXnH"
   },
   "source": [
    "El Dataset contiene 4000 imágenes de gatos y perros (2000 gatos y 2000 perros). Vamos a usar 2000 imágenes para entrenar, 1000 para validación, 1000 para test."
   ]
  },
  {
   "cell_type": "code",
   "execution_count": 3,
   "metadata": {
    "id": "tomzRUadTXnJ"
   },
   "outputs": [],
   "source": [
    "train_dir = r'C:\\Users\\Agustin\\Documents\\VpC2_Datasets\\Clase2\\perros_y_gatos\\train'\n",
    "validation_dir = r'C:\\Users\\Agustin\\Documents\\VpC2_Datasets\\Clase2\\perros_y_gatos\\validation'\n",
    "test_dir = r'C:\\Users\\Agustin\\Documents\\VpC2_Datasets\\Clase2\\perros_y_gatos\\test'"
   ]
  },
  {
   "cell_type": "markdown",
   "metadata": {
    "id": "KDrroygKTXnM"
   },
   "source": [
    "### Preprocesamiento de los datos"
   ]
  },
  {
   "cell_type": "markdown",
   "metadata": {
    "id": "assnLl85TXnN"
   },
   "source": [
    "* Leer las imágenes\n",
    "* Decodificar los JPEG en imágenes de píxeles RGB\n",
    "* Convertir estas imágenes en tensores de valores en punto flotante\n",
    "* Reescalar los valores de los píxeles al intervalo [0,1]\n"
   ]
  },
  {
   "cell_type": "code",
   "execution_count": 4,
   "metadata": {
    "id": "HuOLXZOJTXnN"
   },
   "outputs": [],
   "source": [
    "from tensorflow.keras.preprocessing.image import ImageDataGenerator"
   ]
  },
  {
   "cell_type": "markdown",
   "metadata": {
    "id": "_0bUApO-TXnR"
   },
   "source": [
    "Link : https://keras.io/preprocessing/image/"
   ]
  },
  {
   "cell_type": "code",
   "execution_count": 5,
   "metadata": {
    "colab": {
     "base_uri": "https://localhost:8080/"
    },
    "id": "-yyUlq53TXnS",
    "outputId": "1335dd50-dc99-49cd-904c-128aa542fb20"
   },
   "outputs": [
    {
     "name": "stdout",
     "output_type": "stream",
     "text": [
      "Found 2000 images belonging to 2 classes.\n",
      "Found 1000 images belonging to 2 classes.\n",
      "Found 1000 images belonging to 2 classes.\n"
     ]
    }
   ],
   "source": [
    "# Así generamos batches desde los directorios de imágenes\n",
    "train_datagen = ImageDataGenerator(rescale=1./255)\n",
    "test_datagen = ImageDataGenerator(rescale=1./255)\n",
    "val_datagen = ImageDataGenerator(rescale=1./255)\n",
    "\n",
    "train_generator = train_datagen.flow_from_directory(\n",
    "        train_dir,\n",
    "        target_size=(150, 150),\n",
    "        batch_size=20,\n",
    "        class_mode='binary')\n",
    "\n",
    "validation_generator = val_datagen.flow_from_directory(\n",
    "        validation_dir,\n",
    "        target_size=(150, 150),\n",
    "        batch_size=20,\n",
    "        class_mode='binary')\n",
    "\n",
    "test_generator = test_datagen.flow_from_directory(\n",
    "        test_dir,\n",
    "        target_size=(150, 150),\n",
    "        batch_size=20,\n",
    "        class_mode='binary')"
   ]
  },
  {
   "cell_type": "code",
   "execution_count": 6,
   "metadata": {
    "id": "27lf0gY6TXnb"
   },
   "outputs": [],
   "source": [
    "from tensorflow.keras import layers\n",
    "from tensorflow.keras import models"
   ]
  },
  {
   "cell_type": "code",
   "execution_count": 7,
   "metadata": {
    "id": "4dfXCWT9TXne"
   },
   "outputs": [],
   "source": [
    "model = models.Sequential()\n",
    "\n",
    "#### COMPLETAR #####\n",
    "# agregar las siguientes capas:\n",
    "# convolucional f=(3,3), # de filtros: 32, activación relu\n",
    "# max pooling f=2, s=2\n",
    "# convolucional f=(3,3), # de filtros: 64, activación relu\n",
    "# max pooling f=2, s=2\n",
    "# convolucional f=(3,3), # de filtros: 128, activación relu\n",
    "# max pooling f=2, s=2\n",
    "# convolucional f=(3,3), # de filtros: 128, activación relu\n",
    "# max pooling f=2, s=2\n",
    "# capa flatten\n",
    "# capa densa de 512 elementos activación relu\n",
    "# capa densa con un output de 1 elemento con activación sigmoidea\n",
    "model.add(layers.Conv2D(32, (3,3), activation='relu', input_shape=(150,150,3)))\n",
    "model.add(layers.MaxPooling2D((2,2)))\n",
    "model.add(layers.Conv2D(64, (3,3), activation='relu'))\n",
    "model.add(layers.MaxPooling2D((2,2)))\n",
    "model.add(layers.Conv2D(128, (3,3), activation='relu'))\n",
    "model.add(layers.MaxPooling2D((2,2)))\n",
    "model.add(layers.Conv2D(128, (3,3), activation='relu'))\n",
    "model.add(layers.MaxPooling2D((2,2)))\n",
    "model.add(layers.Flatten())\n",
    "model.add(layers.Dense(512, activation='relu'))\n",
    "model.add(layers.Dense(1, activation='sigmoid'))\n",
    "\n"
   ]
  },
  {
   "cell_type": "code",
   "execution_count": 8,
   "metadata": {
    "colab": {
     "base_uri": "https://localhost:8080/"
    },
    "id": "0cp9q94YTXng",
    "outputId": "2215a187-f2ba-49ff-e754-134590d625c4"
   },
   "outputs": [
    {
     "name": "stdout",
     "output_type": "stream",
     "text": [
      "Model: \"sequential\"\n",
      "_________________________________________________________________\n",
      "Layer (type)                 Output Shape              Param #   \n",
      "=================================================================\n",
      "conv2d (Conv2D)              (None, 148, 148, 32)      896       \n",
      "_________________________________________________________________\n",
      "max_pooling2d (MaxPooling2D) (None, 74, 74, 32)        0         \n",
      "_________________________________________________________________\n",
      "conv2d_1 (Conv2D)            (None, 72, 72, 64)        18496     \n",
      "_________________________________________________________________\n",
      "max_pooling2d_1 (MaxPooling2 (None, 36, 36, 64)        0         \n",
      "_________________________________________________________________\n",
      "conv2d_2 (Conv2D)            (None, 34, 34, 128)       73856     \n",
      "_________________________________________________________________\n",
      "max_pooling2d_2 (MaxPooling2 (None, 17, 17, 128)       0         \n",
      "_________________________________________________________________\n",
      "conv2d_3 (Conv2D)            (None, 15, 15, 128)       147584    \n",
      "_________________________________________________________________\n",
      "max_pooling2d_3 (MaxPooling2 (None, 7, 7, 128)         0         \n",
      "_________________________________________________________________\n",
      "flatten (Flatten)            (None, 6272)              0         \n",
      "_________________________________________________________________\n",
      "dense (Dense)                (None, 512)               3211776   \n",
      "_________________________________________________________________\n",
      "dense_1 (Dense)              (None, 1)                 513       \n",
      "=================================================================\n",
      "Total params: 3,453,121\n",
      "Trainable params: 3,453,121\n",
      "Non-trainable params: 0\n",
      "_________________________________________________________________\n"
     ]
    }
   ],
   "source": [
    "model.summary()"
   ]
  },
  {
   "cell_type": "code",
   "execution_count": 9,
   "metadata": {
    "colab": {
     "base_uri": "https://localhost:8080/"
    },
    "id": "__ppSmEsTXnj",
    "outputId": "4448f520-a4f1-45e2-8eab-f061430476ff"
   },
   "outputs": [],
   "source": [
    "from tensorflow.keras import optimizers\n",
    "\n",
    "# compilar el modelo con binary_crossentropy y optimizador RMSprop con\n",
    "# learning rate 1e-4, la métrica a usar es la accuracy (acc)\n",
    "\n",
    "model.compile(loss='binary_crossentropy',\n",
    "              optimizer=optimizers.RMSprop(learning_rate=1e-4),\n",
    "              metrics=['acc'])"
   ]
  },
  {
   "cell_type": "code",
   "execution_count": 10,
   "metadata": {
    "colab": {
     "base_uri": "https://localhost:8080/"
    },
    "id": "VCXq57TfTXnn",
    "outputId": "28228d5e-a407-4c86-dd35-a7287b48256a"
   },
   "outputs": [
    {
     "name": "stdout",
     "output_type": "stream",
     "text": [
      "WARNING:tensorflow:From <ipython-input-10-e7af3f964552>:2: Model.fit_generator (from tensorflow.python.keras.engine.training) is deprecated and will be removed in a future version.\n",
      "Instructions for updating:\n",
      "Please use Model.fit, which supports generators.\n",
      "Epoch 1/5\n",
      "100/100 [==============================] - 31s 311ms/step - loss: 0.6892 - acc: 0.5325 - val_loss: 0.6728 - val_acc: 0.6250\n",
      "Epoch 2/5\n",
      "100/100 [==============================] - 32s 321ms/step - loss: 0.6629 - acc: 0.5955 - val_loss: 0.6661 - val_acc: 0.5830\n",
      "Epoch 3/5\n",
      "100/100 [==============================] - 33s 326ms/step - loss: 0.6179 - acc: 0.6600 - val_loss: 0.6200 - val_acc: 0.6570\n",
      "Epoch 4/5\n",
      "100/100 [==============================] - 32s 320ms/step - loss: 0.5686 - acc: 0.7000 - val_loss: 0.6353 - val_acc: 0.6340\n",
      "Epoch 5/5\n",
      "100/100 [==============================] - 30s 298ms/step - loss: 0.5443 - acc: 0.7195 - val_loss: 0.5771 - val_acc: 0.6920\n"
     ]
    }
   ],
   "source": [
    "# utilizar model.fit_generator para entrenar\n",
    "history = model.fit_generator(\n",
    "      train_generator,\n",
    "      steps_per_epoch=100,\n",
    "      epochs=5,\n",
    "      validation_data=validation_generator,\n",
    "      validation_steps=50)"
   ]
  },
  {
   "cell_type": "code",
   "execution_count": 11,
   "metadata": {
    "colab": {
     "base_uri": "https://localhost:8080/",
     "height": 324
    },
    "id": "Cl1_o5PlTXnq",
    "outputId": "8eedb1cf-4df3-4ace-db06-7d3b2af917ab"
   },
   "outputs": [
    {
     "data": {
      "image/png": "[encoded data removed]",
      "text/plain": [
       "<Figure size 576x360 with 1 Axes>"
      ]
     },
     "metadata": {
      "needs_background": "light"
     },
     "output_type": "display_data"
    }
   ],
   "source": [
    "pd.DataFrame(history.history).plot(figsize=(8, 5))\n",
    "plt.grid(True)\n",
    "plt.gca().set_ylim(0, 1)\n",
    "plt.show()"
   ]
  },
  {
   "cell_type": "code",
   "execution_count": 12,
   "metadata": {
    "colab": {
     "base_uri": "https://localhost:8080/"
    },
    "id": "bH0LnIwu5ZQu",
    "outputId": "fdd2f893-0e70-4bac-f5e9-761a7e8e2eab"
   },
   "outputs": [
    {
     "name": "stdout",
     "output_type": "stream",
     "text": [
      "50/50 [==============================] - 4s 88ms/step - loss: 0.5776 - acc: 0.6970\n"
     ]
    }
   ],
   "source": [
    "ev = model.evaluate(test_generator)"
   ]
  },
  {
   "cell_type": "code",
   "execution_count": 13,
   "metadata": {
    "id": "wBcVvX-HTXns"
   },
   "outputs": [],
   "source": [
    "from tensorflow.keras import backend as K \n",
    "\n",
    "#K.clear_session()\n",
    "#del model"
   ]
  },
  {
   "cell_type": "markdown",
   "metadata": {
    "id": "0lNZqKvXTXnv"
   },
   "source": [
    "### DATA AUGMENTATION"
   ]
  },
  {
   "cell_type": "markdown",
   "metadata": {
    "id": "O4YwS2n2TXnw"
   },
   "source": [
    "Distorsión, Rotación, Crop, Flip horizontal: \n",
    "![image.png](attachment:image.png)"
   ]
  },
  {
   "cell_type": "markdown",
   "metadata": {
    "id": "idlLIwPuTXnw"
   },
   "source": [
    "Vamos a distorsionar (estirando y escalando), rotar las imágenes, invertirlas horizontalmente, hacer zoom en una región, esto va a ser aleatorio dentro de un cierto rango, utilizar ImageDataGenerator con parámetros para que esto ocurra.\n",
    "\n",
    "https://keras.io/api/preprocessing/image/\n",
    "\n",
    "https://github.com/keras-team/keras-preprocessing/blob/master/keras_preprocessing/image/image_data_generator.py\n",
    "\n",
    "https://github.com/keras-team/keras-preprocessing/blob/master/keras_preprocessing/image/affine_transformations.py\n",
    "\n",
    "usar:\n",
    "\n",
    "- rotation_range -> rango aleatorio de angulo de rotacions\n",
    "- width_shift_range -> rango aleatorio de desplazamiento en x expresado como proporcion de la imagen [0,1]\n",
    "- height_shift_range -> rango aleatorio de desplazamiento en y expresado como proporcion de la imagen [0,1]\n",
    "- shear_range -> rango aleatorio de 'shear' o cillamiento https://en.wikipedia.org/wiki/Shear_mapping [0,1]\n",
    "- zoom_range -> rango aleatorio de zoom de la imagen [0,1]\n",
    "- horizontal_flip -> boolean (si se flipea aleatoriamente la imagen en la dirección horizontal)"
   ]
  },
  {
   "cell_type": "code",
   "execution_count": 14,
   "metadata": {
    "colab": {
     "base_uri": "https://localhost:8080/"
    },
    "id": "_4AfTtUYTXnx",
    "outputId": "fd2557be-429c-43ea-cdee-fd466ebad469"
   },
   "outputs": [
    {
     "name": "stdout",
     "output_type": "stream",
     "text": [
      "Found 2000 images belonging to 2 classes.\n",
      "Found 1000 images belonging to 2 classes.\n",
      "Found 1000 images belonging to 2 classes.\n"
     ]
    }
   ],
   "source": [
    "# Así generamos batches desde los directorios de imágenes\n",
    "train_datagen_aug = ImageDataGenerator(rescale=1./255,rotation_range=50,)\n",
    "test_datagen_aug = ImageDataGenerator(rescale=1./255)\n",
    "val_datagen_aug = ImageDataGenerator(rescale=1./255)\n",
    "\n",
    "train_generator_aug = train_datagen_aug.flow_from_directory(\n",
    "        train_dir,\n",
    "        target_size=(150, 150),\n",
    "        batch_size=20,\n",
    "        class_mode='binary')\n",
    "\n",
    "validation_generator_aug = val_datagen_aug.flow_from_directory(\n",
    "        validation_dir,\n",
    "        target_size=(150, 150),\n",
    "        batch_size=20,\n",
    "        class_mode='binary')\n",
    "\n",
    "test_generator_aug = test_datagen_aug.flow_from_directory(\n",
    "        test_dir,\n",
    "        target_size=(150, 150),\n",
    "        batch_size=20,\n",
    "        class_mode='binary')"
   ]
  },
  {
   "cell_type": "markdown",
   "metadata": {
    "id": "tyBxlQH-TXnz"
   },
   "source": [
    "### Veamos algunas imágenes"
   ]
  },
  {
   "cell_type": "code",
   "execution_count": 15,
   "metadata": {
    "id": "Gy6UlyMqTXnz",
    "outputId": "036ee318-556d-43e3-bdb6-ebd81eac4e76"
   },
   "outputs": [],
   "source": [
    "# i = 1\n",
    "# for batch in train_datagen.flow(train_generator, batch_size=1,\n",
    "#                           save_to_dir='.', save_prefix='img', save_format='jpeg'):\n",
    "#     i += 1\n",
    "#     if i > 6:\n",
    "#         break\n",
    "\n",
    "# import matplotlib.image as mpimg\n",
    "# import glob\n",
    "# import os\n",
    "\n",
    "# files =glob.glob(\".\\*.jpeg\")\n",
    "# plt.figure(figsize=(10,5))\n",
    "# i = 1\n",
    "# for f in files:\n",
    "#     if i > 6:\n",
    "#         break \n",
    "#     plt.subplot(2,3,i)\n",
    "#     image = mpimg.imread(f)\n",
    "#     plt.imshow(image)\n",
    "#     i+=1\n",
    "#     os.remove(f)\n",
    "    \n",
    "# plt.show()"
   ]
  },
  {
   "cell_type": "code",
   "execution_count": 16,
   "metadata": {
    "colab": {
     "base_uri": "https://localhost:8080/"
    },
    "id": "7EIKRxpHTXn2",
    "outputId": "8c01faa4-a43d-4c4a-8644-c50052a1dad9"
   },
   "outputs": [
    {
     "name": "stdout",
     "output_type": "stream",
     "text": [
      "Model: \"sequential_1\"\n",
      "_________________________________________________________________\n",
      "Layer (type)                 Output Shape              Param #   \n",
      "=================================================================\n",
      "conv2d_4 (Conv2D)            (None, 148, 148, 32)      896       \n",
      "_________________________________________________________________\n",
      "max_pooling2d_4 (MaxPooling2 (None, 74, 74, 32)        0         \n",
      "_________________________________________________________________\n",
      "conv2d_5 (Conv2D)            (None, 72, 72, 64)        18496     \n",
      "_________________________________________________________________\n",
      "max_pooling2d_5 (MaxPooling2 (None, 36, 36, 64)        0         \n",
      "_________________________________________________________________\n",
      "conv2d_6 (Conv2D)            (None, 34, 34, 128)       73856     \n",
      "_________________________________________________________________\n",
      "max_pooling2d_6 (MaxPooling2 (None, 17, 17, 128)       0         \n",
      "_________________________________________________________________\n",
      "conv2d_7 (Conv2D)            (None, 15, 15, 128)       147584    \n",
      "_________________________________________________________________\n",
      "max_pooling2d_7 (MaxPooling2 (None, 7, 7, 128)         0         \n",
      "_________________________________________________________________\n",
      "flatten_1 (Flatten)          (None, 6272)              0         \n",
      "_________________________________________________________________\n",
      "dense_2 (Dense)              (None, 512)               3211776   \n",
      "_________________________________________________________________\n",
      "dense_3 (Dense)              (None, 1)                 513       \n",
      "=================================================================\n",
      "Total params: 3,453,121\n",
      "Trainable params: 3,453,121\n",
      "Non-trainable params: 0\n",
      "_________________________________________________________________\n"
     ]
    }
   ],
   "source": [
    "model_aug = models.Sequential()\n",
    "\n",
    "#### COMPLETAR #####\n",
    "### usar el mismo modelo de antes\n",
    "\n",
    "# agregar las siguientes capas:\n",
    "# convolucional f=(3,3), # de filtros: 32, activación relu\n",
    "# max pooling f=2, s=2\n",
    "# convolucional f=(3,3), # de filtros: 64, activación relu\n",
    "# max pooling f=2, s=2\n",
    "# convolucional f=(3,3), # de filtros: 128, activación relu\n",
    "# max pooling f=2, s=2\n",
    "# convolucional f=(3,3), # de filtros: 128, activación relu\n",
    "# max pooling f=2, s=2\n",
    "# capa flatten\n",
    "# capa densa de 512 elementos activación relu\n",
    "# capa densa con un output de 1 elemento con activación sigmoidea\n",
    "\n",
    "model_aug.add(layers.Conv2D(32, (3,3), activation='relu', input_shape=(150,150,3)))\n",
    "model_aug.add(layers.MaxPooling2D((2,2)))\n",
    "model_aug.add(layers.Conv2D(64, (3,3), activation='relu'))\n",
    "model_aug.add(layers.MaxPooling2D((2,2)))\n",
    "model_aug.add(layers.Conv2D(128, (3,3), activation='relu'))\n",
    "model_aug.add(layers.MaxPooling2D((2,2)))\n",
    "model_aug.add(layers.Conv2D(128, (3,3), activation='relu'))\n",
    "model_aug.add(layers.MaxPooling2D((2,2)))\n",
    "model_aug.add(layers.Flatten())\n",
    "model_aug.add(layers.Dense(512, activation='relu'))\n",
    "model_aug.add(layers.Dense(1, activation='sigmoid'))\n",
    "\n",
    "model_aug.summary()\n",
    "\n",
    "model_aug.compile(loss='binary_crossentropy',\n",
    "              optimizer=optimizers.RMSprop(learning_rate=1e-4),\n",
    "              metrics=['acc'])"
   ]
  },
  {
   "cell_type": "code",
   "execution_count": 17,
   "metadata": {
    "colab": {
     "base_uri": "https://localhost:8080/"
    },
    "id": "zw0xmIUuTXn4",
    "outputId": "b8293c60-5a21-44c5-ba03-f39402d7fdb3"
   },
   "outputs": [
    {
     "name": "stdout",
     "output_type": "stream",
     "text": [
      "Epoch 1/5\n",
      "100/100 [==============================] - 34s 345ms/step - loss: 0.6886 - acc: 0.5535 - val_loss: 0.6846 - val_acc: 0.5030\n",
      "Epoch 2/5\n",
      "100/100 [==============================] - 40s 402ms/step - loss: 0.6632 - acc: 0.6010 - val_loss: 0.6683 - val_acc: 0.5750\n",
      "Epoch 3/5\n",
      "100/100 [==============================] - 34s 344ms/step - loss: 0.6355 - acc: 0.6405 - val_loss: 0.6229 - val_acc: 0.6510\n",
      "Epoch 4/5\n",
      "100/100 [==============================] - 34s 340ms/step - loss: 0.6105 - acc: 0.6545 - val_loss: 0.6576 - val_acc: 0.6080\n",
      "Epoch 5/5\n",
      "100/100 [==============================] - 34s 340ms/step - loss: 0.5853 - acc: 0.6970 - val_loss: 0.6002 - val_acc: 0.6660\n"
     ]
    }
   ],
   "source": [
    "history_aug = model_aug.fit_generator(\n",
    "      train_generator_aug,\n",
    "      steps_per_epoch=100,\n",
    "      epochs=5,\n",
    "      validation_data=validation_generator_aug,\n",
    "      validation_steps=50)"
   ]
  },
  {
   "cell_type": "code",
   "execution_count": 18,
   "metadata": {
    "colab": {
     "base_uri": "https://localhost:8080/",
     "height": 324
    },
    "id": "jn93iMM7TXn8",
    "outputId": "6e5a936e-d175-4062-e6b2-b9eab57cb1e2"
   },
   "outputs": [
    {
     "data": {
      "image/png": "[encoded data removed]",
      "text/plain": [
       "<Figure size 576x360 with 1 Axes>"
      ]
     },
     "metadata": {
      "needs_background": "light"
     },
     "output_type": "display_data"
    }
   ],
   "source": [
    "pd.DataFrame(history_aug.history).plot(figsize=(8, 5))\n",
    "plt.grid(True)\n",
    "plt.gca().set_ylim(0, 1)\n",
    "plt.show()"
   ]
  },
  {
   "cell_type": "code",
   "execution_count": 19,
   "metadata": {
    "colab": {
     "base_uri": "https://localhost:8080/"
    },
    "id": "QoSXX0icS3HY",
    "outputId": "387c2a1c-137f-4885-b4e9-198af73af262"
   },
   "outputs": [
    {
     "name": "stdout",
     "output_type": "stream",
     "text": [
      "50/50 [==============================] - 4s 80ms/step - loss: 0.5942 - acc: 0.6590\n"
     ]
    }
   ],
   "source": [
    "ev_aug = model_aug.evaluate(test_generator_aug)"
   ]
  },
  {
   "cell_type": "code",
   "execution_count": 20,
   "metadata": {
    "id": "7fD_0v5BTXn_"
   },
   "outputs": [],
   "source": [
    "keras.backend.clear_session\n",
    "del model\n",
    "del model_aug"
   ]
  },
  {
   "cell_type": "code",
   "execution_count": null,
   "metadata": {
    "id": "pjlFU9V6U4qg"
   },
   "outputs": [],
   "source": []
  }
 ],
 "metadata": {
  "colab": {
   "collapsed_sections": [],
   "name": "Data_augmentation_catdog.ipynb",
   "provenance": []
  },
  "kernelspec": {
   "display_name": "Python 3",
   "language": "python",
   "name": "python3"
  },
  "language_info": {
   "codemirror_mode": {
    "name": "ipython",
    "version": 3
   },
   "file_extension": ".py",
   "mimetype": "text/x-python",
   "name": "python",
   "nbconvert_exporter": "python",
   "pygments_lexer": "ipython3",
   "version": "3.8.8"
  }
 },
 "nbformat": 4,
 "nbformat_minor": 1
}
