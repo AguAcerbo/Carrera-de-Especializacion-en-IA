{
 "cells": [
  {
   "cell_type": "code",
   "execution_count": 1,
   "metadata": {},
   "outputs": [],
   "source": [
    "import os\n",
    "import csv\n",
    "import json\n",
    "import pandas as pd\n",
    "import numpy as np\n",
    "import matplotlib.pyplot as plt\n",
    "from os import listdir\n",
    "import pickle as pkl\n",
    "import cv2\n",
    "import numpy as np\n",
    "from sklearn import model_selection\n",
    "import tensorflow as tf\n",
    "from tensorflow.keras import backend as K\n",
    "from tensorflow.keras.layers import Input, Conv2D, Conv2DTranspose, MaxPooling2D, concatenate, Dropout,BatchNormalization, Dense, Add, ReLU\n",
    "from tensorflow.keras import Model\n",
    "from tensorflow.keras.optimizers import Adam\n",
    "from tensorflow.keras.preprocessing.image import ImageDataGenerator\n",
    "from tensorflow.keras.callbacks import ModelCheckpoint, EarlyStopping,ReduceLROnPlateau\n",
    "from tensorflow.keras.losses import sparse_categorical_crossentropy\n",
    "from tensorflow.keras.losses import binary_crossentropy\n",
    "from tensorflow.keras.metrics import MeanIoU\n",
    "import random"
   ]
  },
  {
   "cell_type": "markdown",
   "metadata": {},
   "source": [
    "## Check TF GPU"
   ]
  },
  {
   "cell_type": "code",
   "execution_count": 2,
   "metadata": {},
   "outputs": [
    {
     "name": "stdout",
     "output_type": "stream",
     "text": [
      "Default GPU Device:/device:GPU:0\n"
     ]
    }
   ],
   "source": [
    "if tf.test.gpu_device_name(): \n",
    "    print('Default GPU Device:{}'.format(tf.test.gpu_device_name()))\n",
    "else:\n",
    "    print(\"Please install GPU version of TF\")"
   ]
  },
  {
   "cell_type": "code",
   "execution_count": 3,
   "metadata": {},
   "outputs": [],
   "source": [
    "physical_devices = tf.config.list_physical_devices('GPU')\n",
    "tf.config.experimental.set_memory_growth(physical_devices[0], enable=True)"
   ]
  },
  {
   "cell_type": "markdown",
   "metadata": {},
   "source": [
    "## Load csv and paths"
   ]
  },
  {
   "cell_type": "code",
   "execution_count": 4,
   "metadata": {},
   "outputs": [],
   "source": [
    "csv_path = r\"C:\\Users\\Agustin\\Documents\\RepositorioCEIA_Git\\VpC2_Datasets\\severstal-steel-defect-detection/train.csv\"\n",
    "train_path = r\"C:\\Users\\Agustin\\Documents\\RepositorioCEIA_Git\\VpC2_Datasets\\severstal-steel-defect-detection/train_images/\"\n",
    "train_masks_path = r\"C:\\Users\\Agustin\\Documents\\RepositorioCEIA_Git\\VpC2_Datasets\\severstal-steel-defect-detection/train_masks/\"\n",
    "\n",
    "csv_reducido = r\"C:\\Users\\Agustin\\Documents\\RepositorioCEIA_Git\\VpC2_Datasets\\severstal-steel-defect-detection/train_4sigmoid.csv\""
   ]
  },
  {
   "cell_type": "code",
   "execution_count": 5,
   "metadata": {},
   "outputs": [],
   "source": [
    "n_w = 1600\n",
    "n_h = 256"
   ]
  },
  {
   "cell_type": "markdown",
   "metadata": {},
   "source": [
    "## Create a more balanced dataset with defects and extra 10% without defects"
   ]
  },
  {
   "cell_type": "code",
   "execution_count": 12,
   "metadata": {},
   "outputs": [],
   "source": [
    "#defective_csv = pd.read_csv(csv_reducido)\n",
    "\n",
    "defective_csv = pd.read_csv(csv_path)\n",
    "all_img = [value for value in listdir(train_path)]\n",
    "defective_img = [value for value in listdir(train_path) if value in list(defective_csv['ImageId'])]\n",
    "nondefective_img = [value for value in listdir(train_path) if value not in list(defective_csv['ImageId'])]"
   ]
  },
  {
   "cell_type": "code",
   "execution_count": 13,
   "metadata": {},
   "outputs": [
    {
     "name": "stdout",
     "output_type": "stream",
     "text": [
      "6666\n",
      "5902\n"
     ]
    }
   ],
   "source": [
    "print(len(defective_img))\n",
    "print(len(nondefective_img))"
   ]
  },
  {
   "cell_type": "code",
   "execution_count": 14,
   "metadata": {},
   "outputs": [],
   "source": [
    "idx_aux= np.random.permutation(len(nondefective_img))[0: int(len(defective_img)*0.1)-1]\n",
    "defective_img = defective_img + [nondefective_img[value] for value in idx_aux]"
   ]
  },
  {
   "cell_type": "code",
   "execution_count": 15,
   "metadata": {},
   "outputs": [
    {
     "data": {
      "text/plain": [
       "7331"
      ]
     },
     "execution_count": 15,
     "metadata": {},
     "output_type": "execute_result"
    }
   ],
   "source": [
    "len(defective_img)"
   ]
  },
  {
   "cell_type": "markdown",
   "metadata": {},
   "source": [
    "## Train, Test and Validation "
   ]
  },
  {
   "cell_type": "code",
   "execution_count": 16,
   "metadata": {},
   "outputs": [],
   "source": [
    "x_train, x_test = model_selection.train_test_split( defective_img, test_size=0.1, random_state=5)\n",
    "x_train, x_valid = model_selection.train_test_split( x_train, test_size=0.1, random_state=5)"
   ]
  },
  {
   "cell_type": "markdown",
   "metadata": {},
   "source": [
    "## Functions for inline (RAM) Y defect mask creation"
   ]
  },
  {
   "cell_type": "code",
   "execution_count": 17,
   "metadata": {},
   "outputs": [],
   "source": [
    "def decode_pixels(pixels_str):\n",
    "    \"\"\"\n",
    "    This function receives a list which contains the pixels as a space-separated code.\n",
    "    For example, '1 3 10 5' implies pixels 1,2,3,10,11,12,13,14 are to be included in the mask\n",
    "    \"\"\"\n",
    "    \n",
    "    pixels_encoded_list = pixels_str.split(' ')\n",
    "    pixels_list = []\n",
    "    for i in range(0, len(pixels_encoded_list), 2):\n",
    "        # Add to the pixels list all the pixels encoded by the 2 digits\n",
    "        pixels_list += range(\n",
    "            int(pixels_encoded_list[i]) - 1,\n",
    "            int(pixels_encoded_list[i]) + int(pixels_encoded_list[i + 1]) - 1,\n",
    "        )\n",
    "        \n",
    "    # Return the decoded list    \n",
    "    return pixels_list"
   ]
  },
  {
   "cell_type": "markdown",
   "metadata": {},
   "source": [
    "## Data Augmentation Functions"
   ]
  },
  {
   "cell_type": "code",
   "execution_count": 18,
   "metadata": {},
   "outputs": [],
   "source": [
    "def flip(image, mask , vflip=False, hflip=False):\n",
    "    '''\n",
    "    Flip the image\n",
    "    :param image: image to be processed\n",
    "    :param vflip: whether to flip the image vertically\n",
    "    :param hflip: whether to flip the image horizontally\n",
    "    '''\n",
    "    if hflip or vflip:\n",
    "        if hflip and vflip:\n",
    "            c = -1\n",
    "        else:\n",
    "            c = 0 if vflip else 1\n",
    "        image = cv2.flip(image, flipCode=c)\n",
    "        mask = cv2.flip(mask, flipCode=c)\n",
    "    return image, mask\n",
    "\n",
    "def rotate(image, mask, angle=90, scale=1.0):\n",
    "    '''\n",
    "    Rotate the image\n",
    "    :param image: image to be processed\n",
    "    :param angle: Rotation angle in degrees. Positive values mean counter-clockwise rotation (the coordinate origin is assumed to be the top-left corner).\n",
    "    :param scale: Isotropic scale factor.\n",
    "    '''\n",
    "    w = image.shape[1]\n",
    "    h = image.shape[0]\n",
    "    #rotate matrix\n",
    "    M = cv2.getRotationMatrix2D((w/2,h/2), angle, scale)\n",
    "    #rotate\n",
    "    image = cv2.warpAffine(image,M,(w,h))\n",
    "    mask = cv2.warpAffine(mask,M,(w,h))\n",
    "    return image, mask\n",
    "    \n",
    "def shift(image, mask, px, py):\n",
    "    w = image.shape[1]\n",
    "    h = image.shape[0]\n",
    "    #c = image.shape[2]\n",
    "    \n",
    "    img = np.zeros((h,w))\n",
    "    m = np.zeros((h,w))   \n",
    "    \n",
    "    if (py > 0) and (px > 0):\n",
    "        img[py:, px:] = image[:-py, :-px]\n",
    "        m[py:, px:] = mask[:-py, :-px]\n",
    "    elif (py < 0) and (px < 0):\n",
    "        img[:py, :px] = image[-py:, -px:]\n",
    "        m[:py, :px] = mask[-py:, -px:]\n",
    "    elif (py > 0) and (px < 0):\n",
    "        img[py:, :px] = image[:-py, -px:]\n",
    "        m[py:, :px] = mask[:-py, -px:]\n",
    "    elif (py < 0) and (px > 0):\n",
    "        img[:py, px:] = image[-py:, :-px]\n",
    "        m[:py, px:] = mask[-py:, :-px]\n",
    "    \n",
    "    return img, m"
   ]
  },
  {
   "cell_type": "markdown",
   "metadata": {},
   "source": [
    "## Data generator for train"
   ]
  },
  {
   "cell_type": "code",
   "execution_count": 19,
   "metadata": {},
   "outputs": [],
   "source": [
    "# Train Data Generator\n",
    "def data_generator(ids, batch_size):\n",
    "    Xs = []; ys = []\n",
    "    \n",
    "    while True:\n",
    "        i = 0\n",
    "        random.shuffle(ids)\n",
    "        aug_shift = np.random.randint(2, size=len(ids))\n",
    "        aug_rot = np.random.randint(2, size=len(ids))\n",
    "        aug_flip = np.random.randint(2, size=len(ids))\n",
    "        for id in ids:\n",
    "            img = cv2.imread(train_path + id)\n",
    "            img = cv2.cvtColor(img,cv2.COLOR_BGR2GRAY)\n",
    "            img = img / 255.\n",
    "            \n",
    "            mask = make_mask(id)\n",
    "            \n",
    "            img=cv2.resize(img, (int(img.shape[1]/2),int(img.shape[0]/2)))\n",
    "            mask=cv2.resize(mask, (int(mask.shape[1]/2),int(mask.shape[0]/2)))\n",
    "            \n",
    "            #if aug_shift[i] == 1:\n",
    "            #    img, mask = shift(img, mask,\n",
    "            #                      px=np.random.randint(low = -int(img.shape[1]/10),high = int(img.shape[1]/10)),\n",
    "            #                      py=np.random.randint(low = -int(img.shape[0]/10),high = int(img.shape[0]/10))\n",
    "            #                     )\n",
    "            #if aug_rot[i] == 1:\n",
    "            #    img, mask = rotate(img, mask, angle=np.random.randint(-10,10), scale=1.0 + (random.randint(0,20)/10) )\n",
    "            #if aug_flip[i] == 1:\n",
    "            #    img, mask = flip(img, mask, vflip=True, hflip=False)\n",
    "            #mask = (mask > 0.2) * 1.0\n",
    "            #\n",
    "            #i+=1\n",
    "            \n",
    "            Xs.append(img); ys.append(mask)\n",
    "            if len(Xs) == batch_size:\n",
    "                X = np.array(Xs); y = np.array(ys)\n",
    "                Xs = []; ys = []\n",
    "                yield (X, y)"
   ]
  },
  {
   "cell_type": "markdown",
   "metadata": {},
   "source": [
    "### Additional usefull metrics"
   ]
  },
  {
   "cell_type": "code",
   "execution_count": 20,
   "metadata": {},
   "outputs": [],
   "source": [
    "smooth = 1\n",
    "def dice_coef(y_true, y_pred):\n",
    "    y_true_f = K.flatten(y_true)\n",
    "    y_pred_f = K.flatten(y_pred)\n",
    "    intersection = K.sum(y_true_f * y_pred_f)\n",
    "    return (2. * intersection + smooth) / (K.sum(y_true_f) + K.sum(y_pred_f) + smooth)\n",
    "\n",
    "def dice_coef_multilabel(y_true, y_pred, numLabels=4):\n",
    "    dice=0\n",
    "    for index in range(numLabels):\n",
    "        dice -= dice_coef(y_true[:,:,index], y_pred[:,:,index])\n",
    "    return dice\n",
    "\n",
    "def dice_coef_nd(y_true, y_pred):\n",
    "    y_true_f = y_true.flatten()\n",
    "    y_pred_f = y_pred.flatten()\n",
    "    intersection = np.sum(y_true_f * y_pred_f)\n",
    "    return 2.*intersection, (np.sum(y_true_f)+np.sum(y_pred_f))\n",
    "\n",
    "def dice_loss(y_true,y_pred):\n",
    "    return (1 - dice_coef(y_true,y_pred))\n",
    "\n",
    "def bce_dice_loss(y_true, y_pred):\n",
    "    loss = binary_crossentropy(y_true, y_pred) + dice_loss(y_true, y_pred)\n",
    "    return loss\n",
    "\n",
    "def tversky(y_true, y_pred, smooth=1, alpha=0.7):\n",
    "    y_true_pos = K.flatten(y_true)\n",
    "    y_pred_pos = K.flatten(y_pred)\n",
    "    true_pos = K.sum(y_true_pos * y_pred_pos)\n",
    "    false_neg = K.sum(y_true_pos * (1 - y_pred_pos))\n",
    "    false_pos = K.sum((1 - y_true_pos) * y_pred_pos)\n",
    "    return (1 - ((true_pos + smooth) / (true_pos + alpha * false_neg + (1 - alpha) * false_pos + smooth)))\n",
    "\n",
    "def iou_coef(y_true, y_pred, smooth=1):\n",
    "    intersection = K.sum(K.abs(y_true * y_pred))\n",
    "    union = K.sum(y_true)+K.sum(y_pred)-intersection\n",
    "    iou = K.mean((intersection + smooth) / (union + smooth))\n",
    "    return iou"
   ]
  },
  {
   "cell_type": "markdown",
   "metadata": {},
   "source": [
    "# ResUnet - Inception"
   ]
  },
  {
   "cell_type": "code",
   "execution_count": 21,
   "metadata": {},
   "outputs": [],
   "source": [
    "def inception_block(prevlayer, a, b):\n",
    "    \n",
    "    conva = Conv2D(a, (1, 1), activation='relu', padding='same')(prevlayer)\n",
    "    conva = Conv2D(b, (3, 3), activation=None, padding='same')(conva)\n",
    "    conva = BatchNormalization()(conva)\n",
    "    conva = ReLU()(conva)\n",
    "    \n",
    "    \n",
    "    convb = Conv2D(a, (1, 1), activation='relu', padding='same')(prevlayer)\n",
    "    convb = Conv2D(b, (5, 5), activation=None, padding='same')(convb)\n",
    "    convb = BatchNormalization()(convb)\n",
    "    convb = ReLU()(convb)\n",
    "\n",
    "    convc = Conv2D(b, (1, 1), activation=None, padding='same')(prevlayer)\n",
    "    convc = BatchNormalization()(convc)\n",
    "    convc = ReLU()(convc)\n",
    "        \n",
    "    convd = MaxPooling2D(pool_size=(3, 3), strides=(1,1), padding= 'same')(prevlayer)\n",
    "    convd = Conv2D(b, (1, 1), activation=None, padding='same')(convd)\n",
    "    convd = BatchNormalization()(convd)\n",
    "    convd = ReLU()(convd)\n",
    "        \n",
    "        \n",
    "    up = concatenate([conva, convb, convc, convd])\n",
    "    return up"
   ]
  },
  {
   "cell_type": "code",
   "execution_count": 22,
   "metadata": {},
   "outputs": [],
   "source": [
    "def residual_block (input_layer, neurons):\n",
    "    \n",
    "    conv1 = Conv2D(neurons , (5, 5), activation=None, padding=\"same\",kernel_initializer='he_normal')(input_layer)\n",
    "    conv1 = BatchNormalization()(conv1)\n",
    "    conv1 = ReLU()(conv1)\n",
    "    conv1 = Conv2D(neurons, (5, 5), activation=None, padding=\"same\",kernel_initializer='he_normal')(conv1)\n",
    "    conv1 = BatchNormalization()(conv1)\n",
    "    conv1 = ReLU()(conv1)\n",
    "    conv1 = Conv2D(neurons, (5, 5), activation=None, padding=\"same\",kernel_initializer='he_normal')(conv1)\n",
    "    conv1 = BatchNormalization()(conv1)\n",
    "    \n",
    "    conv1_skip = Conv2D(neurons, 1, 1, activation=None, padding=\"same\",kernel_initializer='he_normal')(input_layer)\n",
    "    conv1_skip = BatchNormalization()(conv1_skip)\n",
    "    \n",
    "    added1 = Add()([conv1_skip, conv1])\n",
    "    relu1 = ReLU()(added1)\n",
    "    \n",
    "    return relu1"
   ]
  },
  {
   "cell_type": "code",
   "execution_count": 23,
   "metadata": {},
   "outputs": [],
   "source": [
    "def build_model(input_layer, start_neurons):\n",
    "    \n",
    "    conv1 = residual_block(input_layer,start_neurons * 1)\n",
    "    conv1 = residual_block(conv1,start_neurons * 1)\n",
    "    pool1 = MaxPooling2D((2, 2))(conv1)\n",
    "    #pool1 = Dropout(0.25)(pool1)\n",
    "\n",
    "    conv2 = residual_block(pool1,start_neurons * 2)\n",
    "    conv2 = residual_block(conv2,start_neurons * 2)\n",
    "    pool2 = MaxPooling2D((2, 2))(conv2)\n",
    "    #pool2 = Dropout(0.5)(pool2)\n",
    "\n",
    "    conv3 = residual_block(pool2,start_neurons * 4)\n",
    "    conv3 = residual_block(conv3,start_neurons * 4)\n",
    "    pool3 = MaxPooling2D((2, 2))(conv3)\n",
    "    #pool3 = Dropout(0.5)(pool3)\n",
    "\n",
    "    conv4 = residual_block(pool3,start_neurons * 8)\n",
    "    conv4 = residual_block(conv4,start_neurons * 8)\n",
    "    pool4 = MaxPooling2D((2, 2))(conv4)\n",
    "    #pool4 = Dropout(0.5)(pool4)\n",
    "\n",
    "    # Mitad\n",
    "    convm = inception_block (pool4, start_neurons * 4, start_neurons * 4)\n",
    "    convm = inception_block (convm, start_neurons * 4, start_neurons * 4)\n",
    "    convm = inception_block (convm, start_neurons * 4, start_neurons * 4)\n",
    "    convm = inception_block (convm, start_neurons * 4, start_neurons * 4)\n",
    "\n",
    "    deconv4 = Conv2DTranspose(start_neurons * 8, (5, 5), strides=(2, 2), padding=\"same\",kernel_initializer='he_normal')(convm)\n",
    "    uconv4 = concatenate([deconv4, conv4])\n",
    "    #uconv4 = Dropout(0.5)(uconv4)\n",
    "    uconv4 = residual_block(uconv4,start_neurons * 8)\n",
    "    uconv4 = residual_block(uconv4,start_neurons * 8)\n",
    "\n",
    "    deconv3 = Conv2DTranspose(start_neurons * 4, (5, 5), strides=(2, 2), padding=\"same\",kernel_initializer='he_normal')(uconv4)\n",
    "    uconv3 = concatenate([deconv3, conv3])\n",
    "    #uconv3 = Dropout(0.5)(uconv3)\n",
    "    uconv3 = residual_block(uconv3,start_neurons * 4)\n",
    "    uconv3 = residual_block(uconv3,start_neurons * 4)\n",
    "\n",
    "    deconv2 = Conv2DTranspose(start_neurons * 2, (5, 5), strides=(2, 2), padding=\"same\",kernel_initializer='he_normal')(uconv3)\n",
    "    uconv2 = concatenate([deconv2, conv2])\n",
    "    #uconv2 = Dropout(0.5)(uconv2)\n",
    "    uconv2 = residual_block(uconv2,start_neurons * 2)\n",
    "    uconv2 = residual_block(uconv2,start_neurons * 2)\n",
    "\n",
    "    deconv1 = Conv2DTranspose(start_neurons * 1, (5, 5), strides=(2, 2), padding=\"same\",kernel_initializer='he_normal')(uconv2)\n",
    "    uconv1 = concatenate([deconv1, conv1])\n",
    "    #uconv1 = Dropout(0.5)(uconv1)\n",
    "    uconv1 = residual_block(uconv1,start_neurons * 1)\n",
    "    uconv1 = residual_block(uconv1,start_neurons * 1)\n",
    "    \n",
    "    output_layer = Conv2D(1, (1,1), padding=\"same\", activation=\"sigmoid\",kernel_initializer='he_normal')(uconv1)\n",
    "    \n",
    "    return output_layer\n",
    "\n",
    "input_layer = Input((128, 800, 1))\n",
    "output_layer = build_model(input_layer, 8)\n",
    "\n",
    "model = Model(input_layer, output_layer)\n"
   ]
  },
  {
   "cell_type": "code",
   "execution_count": 24,
   "metadata": {},
   "outputs": [
    {
     "data": {
      "text/plain": [
       "<tensorflow.python.training.tracking.util.CheckpointLoadStatus at 0x275bc641490>"
      ]
     },
     "execution_count": 24,
     "metadata": {},
     "output_type": "execute_result"
    }
   ],
   "source": [
    "model.load_weights('./weights/resUnetInceptionV5/resUnetInceptionV5')"
   ]
  },
  {
   "cell_type": "markdown",
   "metadata": {},
   "source": [
    "## Model 2\n",
    "## U-Net Model with 4 sigmoid to detect presence or not of each class independently"
   ]
  },
  {
   "cell_type": "code",
   "execution_count": 25,
   "metadata": {},
   "outputs": [],
   "source": [
    "n_class = 4\n",
    "def make_mask(ImageId):\n",
    "    \n",
    "    y_out=defective_csv[defective_csv['ImageId'].eq(ImageId)]\n",
    "    \n",
    "    image_pixels = np.zeros((n_h, n_w,n_class), dtype=np.float32)\n",
    "\n",
    "    for index, row in y_out.iterrows():\n",
    "\n",
    "        # Generate the mask of the error type\n",
    "        mask = np.zeros((n_h * n_w, 1), dtype=np.float32)\n",
    "        mask[decode_pixels(row['EncodedPixels'])] = 1\n",
    "        mask = mask.reshape(n_w, n_h)\n",
    "        mask = mask.T\n",
    "    \n",
    "        # Update channel of the given error\n",
    "        image_pixels [:,:,int(row['ClassId'])-1] = np.logical_or(image_pixels [:,:,int(row['ClassId'])-1],mask)\n",
    "        \n",
    "    return image_pixels"
   ]
  },
  {
   "cell_type": "code",
   "execution_count": 26,
   "metadata": {},
   "outputs": [],
   "source": [
    "def build_model2(input_layer, start_neurons):\n",
    "    \n",
    "    uconv1 = residual_block(input_layer,start_neurons * 1)\n",
    "    uconv1 = residual_block(uconv1,start_neurons * 1)\n",
    "    output_layer1 = Conv2D(1, (1,1), padding=\"same\", activation=\"sigmoid\",kernel_initializer='he_normal')(uconv1)\n",
    "    \n",
    "    uconv2 = residual_block(input_layer,start_neurons * 1)\n",
    "    uconv2 = residual_block(uconv2,start_neurons * 1)\n",
    "    output_layer2 = Conv2D(1, (1,1), padding=\"same\", activation=\"sigmoid\",kernel_initializer='he_normal')(uconv2)\n",
    "    \n",
    "    uconv3 = residual_block(input_layer,start_neurons * 1)\n",
    "    uconv3 = residual_block(uconv3,start_neurons * 1)\n",
    "    output_layer3 = Conv2D(1, (1,1), padding=\"same\", activation=\"sigmoid\",kernel_initializer='he_normal')(uconv3)\n",
    "    \n",
    "    uconv4 = residual_block(input_layer,start_neurons * 1)\n",
    "    uconv4 = residual_block(uconv4,start_neurons * 1)\n",
    "    output_layer4 = Conv2D(1, (1,1), padding=\"same\", activation=\"sigmoid\",kernel_initializer='he_normal')(uconv4)\n",
    "    \n",
    "    uconvf = concatenate([output_layer1, output_layer2, output_layer3, output_layer4])\n",
    "    \n",
    "    return uconvf\n",
    "\n",
    "output_layer = build_model2(model.layers[-4].output,4)\n",
    "\n",
    "model2 = Model(model.layers[0].input, output_layer)"
   ]
  },
  {
   "cell_type": "code",
   "execution_count": 27,
   "metadata": {},
   "outputs": [
    {
     "data": {
      "text/plain": [
       "<tensorflow.python.training.tracking.util.CheckpointLoadStatus at 0x275b9285310>"
      ]
     },
     "execution_count": 27,
     "metadata": {},
     "output_type": "execute_result"
    }
   ],
   "source": [
    "model2.load_weights('./weights/resUnetInception4Sigmoid_5epocas_v1/resUnetInception4Sigmoid_25epocas_v4')"
   ]
  },
  {
   "cell_type": "code",
   "execution_count": 28,
   "metadata": {},
   "outputs": [],
   "source": [
    "optimizer = Adam()\n",
    "#model2.compile(loss=tversky, optimizer=optimizer, metrics=[dice_coef])\n",
    "#model2.compile(loss='binary_crossentropy', optimizer=optimizer, metrics=[dice_coef])\n",
    "model2.compile(optimizer, dice_loss, metrics=[dice_coef])"
   ]
  },
  {
   "cell_type": "code",
   "execution_count": 29,
   "metadata": {},
   "outputs": [
    {
     "name": "stdout",
     "output_type": "stream",
     "text": [
      "Model: \"functional_3\"\n",
      "__________________________________________________________________________________________________\n",
      "Layer (type)                    Output Shape         Param #     Connected to                     \n",
      "==================================================================================================\n",
      "input_1 (InputLayer)            [(None, 128, 800, 1) 0                                            \n",
      "__________________________________________________________________________________________________\n",
      "conv2d (Conv2D)                 (None, 128, 800, 8)  208         input_1[0][0]                    \n",
      "__________________________________________________________________________________________________\n",
      "batch_normalization (BatchNorma (None, 128, 800, 8)  32          conv2d[0][0]                     \n",
      "__________________________________________________________________________________________________\n",
      "re_lu (ReLU)                    (None, 128, 800, 8)  0           batch_normalization[0][0]        \n",
      "__________________________________________________________________________________________________\n",
      "conv2d_1 (Conv2D)               (None, 128, 800, 8)  1608        re_lu[0][0]                      \n",
      "__________________________________________________________________________________________________\n",
      "batch_normalization_1 (BatchNor (None, 128, 800, 8)  32          conv2d_1[0][0]                   \n",
      "__________________________________________________________________________________________________\n",
      "re_lu_1 (ReLU)                  (None, 128, 800, 8)  0           batch_normalization_1[0][0]      \n",
      "__________________________________________________________________________________________________\n",
      "conv2d_3 (Conv2D)               (None, 128, 800, 8)  16          input_1[0][0]                    \n",
      "__________________________________________________________________________________________________\n",
      "conv2d_2 (Conv2D)               (None, 128, 800, 8)  1608        re_lu_1[0][0]                    \n",
      "__________________________________________________________________________________________________\n",
      "batch_normalization_3 (BatchNor (None, 128, 800, 8)  32          conv2d_3[0][0]                   \n",
      "__________________________________________________________________________________________________\n",
      "batch_normalization_2 (BatchNor (None, 128, 800, 8)  32          conv2d_2[0][0]                   \n",
      "__________________________________________________________________________________________________\n",
      "add (Add)                       (None, 128, 800, 8)  0           batch_normalization_3[0][0]      \n",
      "                                                                 batch_normalization_2[0][0]      \n",
      "__________________________________________________________________________________________________\n",
      "re_lu_2 (ReLU)                  (None, 128, 800, 8)  0           add[0][0]                        \n",
      "__________________________________________________________________________________________________\n",
      "conv2d_4 (Conv2D)               (None, 128, 800, 8)  1608        re_lu_2[0][0]                    \n",
      "__________________________________________________________________________________________________\n",
      "batch_normalization_4 (BatchNor (None, 128, 800, 8)  32          conv2d_4[0][0]                   \n",
      "__________________________________________________________________________________________________\n",
      "re_lu_3 (ReLU)                  (None, 128, 800, 8)  0           batch_normalization_4[0][0]      \n",
      "__________________________________________________________________________________________________\n",
      "conv2d_5 (Conv2D)               (None, 128, 800, 8)  1608        re_lu_3[0][0]                    \n",
      "__________________________________________________________________________________________________\n",
      "batch_normalization_5 (BatchNor (None, 128, 800, 8)  32          conv2d_5[0][0]                   \n",
      "__________________________________________________________________________________________________\n",
      "re_lu_4 (ReLU)                  (None, 128, 800, 8)  0           batch_normalization_5[0][0]      \n",
      "__________________________________________________________________________________________________\n",
      "conv2d_7 (Conv2D)               (None, 128, 800, 8)  72          re_lu_2[0][0]                    \n",
      "__________________________________________________________________________________________________\n",
      "conv2d_6 (Conv2D)               (None, 128, 800, 8)  1608        re_lu_4[0][0]                    \n",
      "__________________________________________________________________________________________________\n",
      "batch_normalization_7 (BatchNor (None, 128, 800, 8)  32          conv2d_7[0][0]                   \n",
      "__________________________________________________________________________________________________\n",
      "batch_normalization_6 (BatchNor (None, 128, 800, 8)  32          conv2d_6[0][0]                   \n",
      "__________________________________________________________________________________________________\n",
      "add_1 (Add)                     (None, 128, 800, 8)  0           batch_normalization_7[0][0]      \n",
      "                                                                 batch_normalization_6[0][0]      \n",
      "__________________________________________________________________________________________________\n",
      "re_lu_5 (ReLU)                  (None, 128, 800, 8)  0           add_1[0][0]                      \n",
      "__________________________________________________________________________________________________\n",
      "max_pooling2d (MaxPooling2D)    (None, 64, 400, 8)   0           re_lu_5[0][0]                    \n",
      "__________________________________________________________________________________________________\n",
      "conv2d_8 (Conv2D)               (None, 64, 400, 16)  3216        max_pooling2d[0][0]              \n",
      "__________________________________________________________________________________________________\n",
      "batch_normalization_8 (BatchNor (None, 64, 400, 16)  64          conv2d_8[0][0]                   \n",
      "__________________________________________________________________________________________________\n",
      "re_lu_6 (ReLU)                  (None, 64, 400, 16)  0           batch_normalization_8[0][0]      \n",
      "__________________________________________________________________________________________________\n",
      "conv2d_9 (Conv2D)               (None, 64, 400, 16)  6416        re_lu_6[0][0]                    \n",
      "__________________________________________________________________________________________________\n",
      "batch_normalization_9 (BatchNor (None, 64, 400, 16)  64          conv2d_9[0][0]                   \n",
      "__________________________________________________________________________________________________\n",
      "re_lu_7 (ReLU)                  (None, 64, 400, 16)  0           batch_normalization_9[0][0]      \n",
      "__________________________________________________________________________________________________\n",
      "conv2d_11 (Conv2D)              (None, 64, 400, 16)  144         max_pooling2d[0][0]              \n",
      "__________________________________________________________________________________________________\n",
      "conv2d_10 (Conv2D)              (None, 64, 400, 16)  6416        re_lu_7[0][0]                    \n",
      "__________________________________________________________________________________________________\n",
      "batch_normalization_11 (BatchNo (None, 64, 400, 16)  64          conv2d_11[0][0]                  \n",
      "__________________________________________________________________________________________________\n",
      "batch_normalization_10 (BatchNo (None, 64, 400, 16)  64          conv2d_10[0][0]                  \n",
      "__________________________________________________________________________________________________\n",
      "add_2 (Add)                     (None, 64, 400, 16)  0           batch_normalization_11[0][0]     \n",
      "                                                                 batch_normalization_10[0][0]     \n",
      "__________________________________________________________________________________________________\n",
      "re_lu_8 (ReLU)                  (None, 64, 400, 16)  0           add_2[0][0]                      \n",
      "__________________________________________________________________________________________________\n",
      "conv2d_12 (Conv2D)              (None, 64, 400, 16)  6416        re_lu_8[0][0]                    \n",
      "__________________________________________________________________________________________________\n",
      "batch_normalization_12 (BatchNo (None, 64, 400, 16)  64          conv2d_12[0][0]                  \n",
      "__________________________________________________________________________________________________\n",
      "re_lu_9 (ReLU)                  (None, 64, 400, 16)  0           batch_normalization_12[0][0]     \n",
      "__________________________________________________________________________________________________\n",
      "conv2d_13 (Conv2D)              (None, 64, 400, 16)  6416        re_lu_9[0][0]                    \n",
      "__________________________________________________________________________________________________\n",
      "batch_normalization_13 (BatchNo (None, 64, 400, 16)  64          conv2d_13[0][0]                  \n",
      "__________________________________________________________________________________________________\n",
      "re_lu_10 (ReLU)                 (None, 64, 400, 16)  0           batch_normalization_13[0][0]     \n",
      "__________________________________________________________________________________________________\n",
      "conv2d_15 (Conv2D)              (None, 64, 400, 16)  272         re_lu_8[0][0]                    \n",
      "__________________________________________________________________________________________________\n",
      "conv2d_14 (Conv2D)              (None, 64, 400, 16)  6416        re_lu_10[0][0]                   \n",
      "__________________________________________________________________________________________________\n",
      "batch_normalization_15 (BatchNo (None, 64, 400, 16)  64          conv2d_15[0][0]                  \n",
      "__________________________________________________________________________________________________\n",
      "batch_normalization_14 (BatchNo (None, 64, 400, 16)  64          conv2d_14[0][0]                  \n",
      "__________________________________________________________________________________________________\n",
      "add_3 (Add)                     (None, 64, 400, 16)  0           batch_normalization_15[0][0]     \n",
      "                                                                 batch_normalization_14[0][0]     \n",
      "__________________________________________________________________________________________________\n",
      "re_lu_11 (ReLU)                 (None, 64, 400, 16)  0           add_3[0][0]                      \n",
      "__________________________________________________________________________________________________\n",
      "max_pooling2d_1 (MaxPooling2D)  (None, 32, 200, 16)  0           re_lu_11[0][0]                   \n",
      "__________________________________________________________________________________________________\n",
      "conv2d_16 (Conv2D)              (None, 32, 200, 32)  12832       max_pooling2d_1[0][0]            \n",
      "__________________________________________________________________________________________________\n",
      "batch_normalization_16 (BatchNo (None, 32, 200, 32)  128         conv2d_16[0][0]                  \n",
      "__________________________________________________________________________________________________\n",
      "re_lu_12 (ReLU)                 (None, 32, 200, 32)  0           batch_normalization_16[0][0]     \n",
      "__________________________________________________________________________________________________\n",
      "conv2d_17 (Conv2D)              (None, 32, 200, 32)  25632       re_lu_12[0][0]                   \n",
      "__________________________________________________________________________________________________\n",
      "batch_normalization_17 (BatchNo (None, 32, 200, 32)  128         conv2d_17[0][0]                  \n",
      "__________________________________________________________________________________________________\n",
      "re_lu_13 (ReLU)                 (None, 32, 200, 32)  0           batch_normalization_17[0][0]     \n",
      "__________________________________________________________________________________________________\n",
      "conv2d_19 (Conv2D)              (None, 32, 200, 32)  544         max_pooling2d_1[0][0]            \n",
      "__________________________________________________________________________________________________\n",
      "conv2d_18 (Conv2D)              (None, 32, 200, 32)  25632       re_lu_13[0][0]                   \n",
      "__________________________________________________________________________________________________\n",
      "batch_normalization_19 (BatchNo (None, 32, 200, 32)  128         conv2d_19[0][0]                  \n",
      "__________________________________________________________________________________________________\n",
      "batch_normalization_18 (BatchNo (None, 32, 200, 32)  128         conv2d_18[0][0]                  \n",
      "__________________________________________________________________________________________________\n",
      "add_4 (Add)                     (None, 32, 200, 32)  0           batch_normalization_19[0][0]     \n",
      "                                                                 batch_normalization_18[0][0]     \n",
      "__________________________________________________________________________________________________\n",
      "re_lu_14 (ReLU)                 (None, 32, 200, 32)  0           add_4[0][0]                      \n",
      "__________________________________________________________________________________________________\n",
      "conv2d_20 (Conv2D)              (None, 32, 200, 32)  25632       re_lu_14[0][0]                   \n",
      "__________________________________________________________________________________________________\n",
      "batch_normalization_20 (BatchNo (None, 32, 200, 32)  128         conv2d_20[0][0]                  \n",
      "__________________________________________________________________________________________________\n",
      "re_lu_15 (ReLU)                 (None, 32, 200, 32)  0           batch_normalization_20[0][0]     \n",
      "__________________________________________________________________________________________________\n",
      "conv2d_21 (Conv2D)              (None, 32, 200, 32)  25632       re_lu_15[0][0]                   \n",
      "__________________________________________________________________________________________________\n",
      "batch_normalization_21 (BatchNo (None, 32, 200, 32)  128         conv2d_21[0][0]                  \n",
      "__________________________________________________________________________________________________\n",
      "re_lu_16 (ReLU)                 (None, 32, 200, 32)  0           batch_normalization_21[0][0]     \n",
      "__________________________________________________________________________________________________\n",
      "conv2d_23 (Conv2D)              (None, 32, 200, 32)  1056        re_lu_14[0][0]                   \n",
      "__________________________________________________________________________________________________\n",
      "conv2d_22 (Conv2D)              (None, 32, 200, 32)  25632       re_lu_16[0][0]                   \n",
      "__________________________________________________________________________________________________\n",
      "batch_normalization_23 (BatchNo (None, 32, 200, 32)  128         conv2d_23[0][0]                  \n",
      "__________________________________________________________________________________________________\n",
      "batch_normalization_22 (BatchNo (None, 32, 200, 32)  128         conv2d_22[0][0]                  \n",
      "__________________________________________________________________________________________________\n",
      "add_5 (Add)                     (None, 32, 200, 32)  0           batch_normalization_23[0][0]     \n",
      "                                                                 batch_normalization_22[0][0]     \n",
      "__________________________________________________________________________________________________\n",
      "re_lu_17 (ReLU)                 (None, 32, 200, 32)  0           add_5[0][0]                      \n",
      "__________________________________________________________________________________________________\n",
      "max_pooling2d_2 (MaxPooling2D)  (None, 16, 100, 32)  0           re_lu_17[0][0]                   \n",
      "__________________________________________________________________________________________________\n",
      "conv2d_24 (Conv2D)              (None, 16, 100, 64)  51264       max_pooling2d_2[0][0]            \n",
      "__________________________________________________________________________________________________\n",
      "batch_normalization_24 (BatchNo (None, 16, 100, 64)  256         conv2d_24[0][0]                  \n",
      "__________________________________________________________________________________________________\n",
      "re_lu_18 (ReLU)                 (None, 16, 100, 64)  0           batch_normalization_24[0][0]     \n",
      "__________________________________________________________________________________________________\n",
      "conv2d_25 (Conv2D)              (None, 16, 100, 64)  102464      re_lu_18[0][0]                   \n",
      "__________________________________________________________________________________________________\n",
      "batch_normalization_25 (BatchNo (None, 16, 100, 64)  256         conv2d_25[0][0]                  \n",
      "__________________________________________________________________________________________________\n",
      "re_lu_19 (ReLU)                 (None, 16, 100, 64)  0           batch_normalization_25[0][0]     \n",
      "__________________________________________________________________________________________________\n",
      "conv2d_27 (Conv2D)              (None, 16, 100, 64)  2112        max_pooling2d_2[0][0]            \n",
      "__________________________________________________________________________________________________\n",
      "conv2d_26 (Conv2D)              (None, 16, 100, 64)  102464      re_lu_19[0][0]                   \n",
      "__________________________________________________________________________________________________\n",
      "batch_normalization_27 (BatchNo (None, 16, 100, 64)  256         conv2d_27[0][0]                  \n",
      "__________________________________________________________________________________________________\n",
      "batch_normalization_26 (BatchNo (None, 16, 100, 64)  256         conv2d_26[0][0]                  \n",
      "__________________________________________________________________________________________________\n",
      "add_6 (Add)                     (None, 16, 100, 64)  0           batch_normalization_27[0][0]     \n",
      "                                                                 batch_normalization_26[0][0]     \n",
      "__________________________________________________________________________________________________\n",
      "re_lu_20 (ReLU)                 (None, 16, 100, 64)  0           add_6[0][0]                      \n",
      "__________________________________________________________________________________________________\n",
      "conv2d_28 (Conv2D)              (None, 16, 100, 64)  102464      re_lu_20[0][0]                   \n",
      "__________________________________________________________________________________________________\n",
      "batch_normalization_28 (BatchNo (None, 16, 100, 64)  256         conv2d_28[0][0]                  \n",
      "__________________________________________________________________________________________________\n",
      "re_lu_21 (ReLU)                 (None, 16, 100, 64)  0           batch_normalization_28[0][0]     \n",
      "__________________________________________________________________________________________________\n",
      "conv2d_29 (Conv2D)              (None, 16, 100, 64)  102464      re_lu_21[0][0]                   \n",
      "__________________________________________________________________________________________________\n",
      "batch_normalization_29 (BatchNo (None, 16, 100, 64)  256         conv2d_29[0][0]                  \n",
      "__________________________________________________________________________________________________\n",
      "re_lu_22 (ReLU)                 (None, 16, 100, 64)  0           batch_normalization_29[0][0]     \n",
      "__________________________________________________________________________________________________\n",
      "conv2d_31 (Conv2D)              (None, 16, 100, 64)  4160        re_lu_20[0][0]                   \n",
      "__________________________________________________________________________________________________\n",
      "conv2d_30 (Conv2D)              (None, 16, 100, 64)  102464      re_lu_22[0][0]                   \n",
      "__________________________________________________________________________________________________\n",
      "batch_normalization_31 (BatchNo (None, 16, 100, 64)  256         conv2d_31[0][0]                  \n",
      "__________________________________________________________________________________________________\n",
      "batch_normalization_30 (BatchNo (None, 16, 100, 64)  256         conv2d_30[0][0]                  \n",
      "__________________________________________________________________________________________________\n",
      "add_7 (Add)                     (None, 16, 100, 64)  0           batch_normalization_31[0][0]     \n",
      "                                                                 batch_normalization_30[0][0]     \n",
      "__________________________________________________________________________________________________\n",
      "re_lu_23 (ReLU)                 (None, 16, 100, 64)  0           add_7[0][0]                      \n",
      "__________________________________________________________________________________________________\n",
      "max_pooling2d_3 (MaxPooling2D)  (None, 8, 50, 64)    0           re_lu_23[0][0]                   \n",
      "__________________________________________________________________________________________________\n",
      "conv2d_32 (Conv2D)              (None, 8, 50, 32)    2080        max_pooling2d_3[0][0]            \n",
      "__________________________________________________________________________________________________\n",
      "conv2d_34 (Conv2D)              (None, 8, 50, 32)    2080        max_pooling2d_3[0][0]            \n",
      "__________________________________________________________________________________________________\n",
      "max_pooling2d_4 (MaxPooling2D)  (None, 8, 50, 64)    0           max_pooling2d_3[0][0]            \n",
      "__________________________________________________________________________________________________\n",
      "conv2d_33 (Conv2D)              (None, 8, 50, 32)    9248        conv2d_32[0][0]                  \n",
      "__________________________________________________________________________________________________\n",
      "conv2d_35 (Conv2D)              (None, 8, 50, 32)    25632       conv2d_34[0][0]                  \n",
      "__________________________________________________________________________________________________\n",
      "conv2d_36 (Conv2D)              (None, 8, 50, 32)    2080        max_pooling2d_3[0][0]            \n",
      "__________________________________________________________________________________________________\n",
      "conv2d_37 (Conv2D)              (None, 8, 50, 32)    2080        max_pooling2d_4[0][0]            \n",
      "__________________________________________________________________________________________________\n",
      "batch_normalization_32 (BatchNo (None, 8, 50, 32)    128         conv2d_33[0][0]                  \n",
      "__________________________________________________________________________________________________\n",
      "batch_normalization_33 (BatchNo (None, 8, 50, 32)    128         conv2d_35[0][0]                  \n",
      "__________________________________________________________________________________________________\n",
      "batch_normalization_34 (BatchNo (None, 8, 50, 32)    128         conv2d_36[0][0]                  \n",
      "__________________________________________________________________________________________________\n",
      "batch_normalization_35 (BatchNo (None, 8, 50, 32)    128         conv2d_37[0][0]                  \n",
      "__________________________________________________________________________________________________\n",
      "re_lu_24 (ReLU)                 (None, 8, 50, 32)    0           batch_normalization_32[0][0]     \n",
      "__________________________________________________________________________________________________\n",
      "re_lu_25 (ReLU)                 (None, 8, 50, 32)    0           batch_normalization_33[0][0]     \n",
      "__________________________________________________________________________________________________\n",
      "re_lu_26 (ReLU)                 (None, 8, 50, 32)    0           batch_normalization_34[0][0]     \n",
      "__________________________________________________________________________________________________\n",
      "re_lu_27 (ReLU)                 (None, 8, 50, 32)    0           batch_normalization_35[0][0]     \n",
      "__________________________________________________________________________________________________\n",
      "concatenate (Concatenate)       (None, 8, 50, 128)   0           re_lu_24[0][0]                   \n",
      "                                                                 re_lu_25[0][0]                   \n",
      "                                                                 re_lu_26[0][0]                   \n",
      "                                                                 re_lu_27[0][0]                   \n",
      "__________________________________________________________________________________________________\n",
      "conv2d_38 (Conv2D)              (None, 8, 50, 32)    4128        concatenate[0][0]                \n",
      "__________________________________________________________________________________________________\n",
      "conv2d_40 (Conv2D)              (None, 8, 50, 32)    4128        concatenate[0][0]                \n",
      "__________________________________________________________________________________________________\n",
      "max_pooling2d_5 (MaxPooling2D)  (None, 8, 50, 128)   0           concatenate[0][0]                \n",
      "__________________________________________________________________________________________________\n",
      "conv2d_39 (Conv2D)              (None, 8, 50, 32)    9248        conv2d_38[0][0]                  \n",
      "__________________________________________________________________________________________________\n",
      "conv2d_41 (Conv2D)              (None, 8, 50, 32)    25632       conv2d_40[0][0]                  \n",
      "__________________________________________________________________________________________________\n",
      "conv2d_42 (Conv2D)              (None, 8, 50, 32)    4128        concatenate[0][0]                \n",
      "__________________________________________________________________________________________________\n",
      "conv2d_43 (Conv2D)              (None, 8, 50, 32)    4128        max_pooling2d_5[0][0]            \n",
      "__________________________________________________________________________________________________\n",
      "batch_normalization_36 (BatchNo (None, 8, 50, 32)    128         conv2d_39[0][0]                  \n",
      "__________________________________________________________________________________________________\n",
      "batch_normalization_37 (BatchNo (None, 8, 50, 32)    128         conv2d_41[0][0]                  \n",
      "__________________________________________________________________________________________________\n",
      "batch_normalization_38 (BatchNo (None, 8, 50, 32)    128         conv2d_42[0][0]                  \n",
      "__________________________________________________________________________________________________\n",
      "batch_normalization_39 (BatchNo (None, 8, 50, 32)    128         conv2d_43[0][0]                  \n",
      "__________________________________________________________________________________________________\n",
      "re_lu_28 (ReLU)                 (None, 8, 50, 32)    0           batch_normalization_36[0][0]     \n",
      "__________________________________________________________________________________________________\n",
      "re_lu_29 (ReLU)                 (None, 8, 50, 32)    0           batch_normalization_37[0][0]     \n",
      "__________________________________________________________________________________________________\n",
      "re_lu_30 (ReLU)                 (None, 8, 50, 32)    0           batch_normalization_38[0][0]     \n",
      "__________________________________________________________________________________________________\n",
      "re_lu_31 (ReLU)                 (None, 8, 50, 32)    0           batch_normalization_39[0][0]     \n",
      "__________________________________________________________________________________________________\n",
      "concatenate_1 (Concatenate)     (None, 8, 50, 128)   0           re_lu_28[0][0]                   \n",
      "                                                                 re_lu_29[0][0]                   \n",
      "                                                                 re_lu_30[0][0]                   \n",
      "                                                                 re_lu_31[0][0]                   \n",
      "__________________________________________________________________________________________________\n",
      "conv2d_44 (Conv2D)              (None, 8, 50, 32)    4128        concatenate_1[0][0]              \n",
      "__________________________________________________________________________________________________\n",
      "conv2d_46 (Conv2D)              (None, 8, 50, 32)    4128        concatenate_1[0][0]              \n",
      "__________________________________________________________________________________________________\n",
      "max_pooling2d_6 (MaxPooling2D)  (None, 8, 50, 128)   0           concatenate_1[0][0]              \n",
      "__________________________________________________________________________________________________\n",
      "conv2d_45 (Conv2D)              (None, 8, 50, 32)    9248        conv2d_44[0][0]                  \n",
      "__________________________________________________________________________________________________\n",
      "conv2d_47 (Conv2D)              (None, 8, 50, 32)    25632       conv2d_46[0][0]                  \n",
      "__________________________________________________________________________________________________\n",
      "conv2d_48 (Conv2D)              (None, 8, 50, 32)    4128        concatenate_1[0][0]              \n",
      "__________________________________________________________________________________________________\n",
      "conv2d_49 (Conv2D)              (None, 8, 50, 32)    4128        max_pooling2d_6[0][0]            \n",
      "__________________________________________________________________________________________________\n",
      "batch_normalization_40 (BatchNo (None, 8, 50, 32)    128         conv2d_45[0][0]                  \n",
      "__________________________________________________________________________________________________\n",
      "batch_normalization_41 (BatchNo (None, 8, 50, 32)    128         conv2d_47[0][0]                  \n",
      "__________________________________________________________________________________________________\n",
      "batch_normalization_42 (BatchNo (None, 8, 50, 32)    128         conv2d_48[0][0]                  \n",
      "__________________________________________________________________________________________________\n",
      "batch_normalization_43 (BatchNo (None, 8, 50, 32)    128         conv2d_49[0][0]                  \n",
      "__________________________________________________________________________________________________\n",
      "re_lu_32 (ReLU)                 (None, 8, 50, 32)    0           batch_normalization_40[0][0]     \n",
      "__________________________________________________________________________________________________\n",
      "re_lu_33 (ReLU)                 (None, 8, 50, 32)    0           batch_normalization_41[0][0]     \n",
      "__________________________________________________________________________________________________\n",
      "re_lu_34 (ReLU)                 (None, 8, 50, 32)    0           batch_normalization_42[0][0]     \n",
      "__________________________________________________________________________________________________\n",
      "re_lu_35 (ReLU)                 (None, 8, 50, 32)    0           batch_normalization_43[0][0]     \n",
      "__________________________________________________________________________________________________\n",
      "concatenate_2 (Concatenate)     (None, 8, 50, 128)   0           re_lu_32[0][0]                   \n",
      "                                                                 re_lu_33[0][0]                   \n",
      "                                                                 re_lu_34[0][0]                   \n",
      "                                                                 re_lu_35[0][0]                   \n",
      "__________________________________________________________________________________________________\n",
      "conv2d_50 (Conv2D)              (None, 8, 50, 32)    4128        concatenate_2[0][0]              \n",
      "__________________________________________________________________________________________________\n",
      "conv2d_52 (Conv2D)              (None, 8, 50, 32)    4128        concatenate_2[0][0]              \n",
      "__________________________________________________________________________________________________\n",
      "max_pooling2d_7 (MaxPooling2D)  (None, 8, 50, 128)   0           concatenate_2[0][0]              \n",
      "__________________________________________________________________________________________________\n",
      "conv2d_51 (Conv2D)              (None, 8, 50, 32)    9248        conv2d_50[0][0]                  \n",
      "__________________________________________________________________________________________________\n",
      "conv2d_53 (Conv2D)              (None, 8, 50, 32)    25632       conv2d_52[0][0]                  \n",
      "__________________________________________________________________________________________________\n",
      "conv2d_54 (Conv2D)              (None, 8, 50, 32)    4128        concatenate_2[0][0]              \n",
      "__________________________________________________________________________________________________\n",
      "conv2d_55 (Conv2D)              (None, 8, 50, 32)    4128        max_pooling2d_7[0][0]            \n",
      "__________________________________________________________________________________________________\n",
      "batch_normalization_44 (BatchNo (None, 8, 50, 32)    128         conv2d_51[0][0]                  \n",
      "__________________________________________________________________________________________________\n",
      "batch_normalization_45 (BatchNo (None, 8, 50, 32)    128         conv2d_53[0][0]                  \n",
      "__________________________________________________________________________________________________\n",
      "batch_normalization_46 (BatchNo (None, 8, 50, 32)    128         conv2d_54[0][0]                  \n",
      "__________________________________________________________________________________________________\n",
      "batch_normalization_47 (BatchNo (None, 8, 50, 32)    128         conv2d_55[0][0]                  \n",
      "__________________________________________________________________________________________________\n",
      "re_lu_36 (ReLU)                 (None, 8, 50, 32)    0           batch_normalization_44[0][0]     \n",
      "__________________________________________________________________________________________________\n",
      "re_lu_37 (ReLU)                 (None, 8, 50, 32)    0           batch_normalization_45[0][0]     \n",
      "__________________________________________________________________________________________________\n",
      "re_lu_38 (ReLU)                 (None, 8, 50, 32)    0           batch_normalization_46[0][0]     \n",
      "__________________________________________________________________________________________________\n",
      "re_lu_39 (ReLU)                 (None, 8, 50, 32)    0           batch_normalization_47[0][0]     \n",
      "__________________________________________________________________________________________________\n",
      "concatenate_3 (Concatenate)     (None, 8, 50, 128)   0           re_lu_36[0][0]                   \n",
      "                                                                 re_lu_37[0][0]                   \n",
      "                                                                 re_lu_38[0][0]                   \n",
      "                                                                 re_lu_39[0][0]                   \n",
      "__________________________________________________________________________________________________\n",
      "conv2d_transpose (Conv2DTranspo (None, 16, 100, 64)  204864      concatenate_3[0][0]              \n",
      "__________________________________________________________________________________________________\n",
      "concatenate_4 (Concatenate)     (None, 16, 100, 128) 0           conv2d_transpose[0][0]           \n",
      "                                                                 re_lu_23[0][0]                   \n",
      "__________________________________________________________________________________________________\n",
      "conv2d_56 (Conv2D)              (None, 16, 100, 64)  204864      concatenate_4[0][0]              \n",
      "__________________________________________________________________________________________________\n",
      "batch_normalization_48 (BatchNo (None, 16, 100, 64)  256         conv2d_56[0][0]                  \n",
      "__________________________________________________________________________________________________\n",
      "re_lu_40 (ReLU)                 (None, 16, 100, 64)  0           batch_normalization_48[0][0]     \n",
      "__________________________________________________________________________________________________\n",
      "conv2d_57 (Conv2D)              (None, 16, 100, 64)  102464      re_lu_40[0][0]                   \n",
      "__________________________________________________________________________________________________\n",
      "batch_normalization_49 (BatchNo (None, 16, 100, 64)  256         conv2d_57[0][0]                  \n",
      "__________________________________________________________________________________________________\n",
      "re_lu_41 (ReLU)                 (None, 16, 100, 64)  0           batch_normalization_49[0][0]     \n",
      "__________________________________________________________________________________________________\n",
      "conv2d_59 (Conv2D)              (None, 16, 100, 64)  8256        concatenate_4[0][0]              \n",
      "__________________________________________________________________________________________________\n",
      "conv2d_58 (Conv2D)              (None, 16, 100, 64)  102464      re_lu_41[0][0]                   \n",
      "__________________________________________________________________________________________________\n",
      "batch_normalization_51 (BatchNo (None, 16, 100, 64)  256         conv2d_59[0][0]                  \n",
      "__________________________________________________________________________________________________\n",
      "batch_normalization_50 (BatchNo (None, 16, 100, 64)  256         conv2d_58[0][0]                  \n",
      "__________________________________________________________________________________________________\n",
      "add_8 (Add)                     (None, 16, 100, 64)  0           batch_normalization_51[0][0]     \n",
      "                                                                 batch_normalization_50[0][0]     \n",
      "__________________________________________________________________________________________________\n",
      "re_lu_42 (ReLU)                 (None, 16, 100, 64)  0           add_8[0][0]                      \n",
      "__________________________________________________________________________________________________\n",
      "conv2d_60 (Conv2D)              (None, 16, 100, 64)  102464      re_lu_42[0][0]                   \n",
      "__________________________________________________________________________________________________\n",
      "batch_normalization_52 (BatchNo (None, 16, 100, 64)  256         conv2d_60[0][0]                  \n",
      "__________________________________________________________________________________________________\n",
      "re_lu_43 (ReLU)                 (None, 16, 100, 64)  0           batch_normalization_52[0][0]     \n",
      "__________________________________________________________________________________________________\n",
      "conv2d_61 (Conv2D)              (None, 16, 100, 64)  102464      re_lu_43[0][0]                   \n",
      "__________________________________________________________________________________________________\n",
      "batch_normalization_53 (BatchNo (None, 16, 100, 64)  256         conv2d_61[0][0]                  \n",
      "__________________________________________________________________________________________________\n",
      "re_lu_44 (ReLU)                 (None, 16, 100, 64)  0           batch_normalization_53[0][0]     \n",
      "__________________________________________________________________________________________________\n",
      "conv2d_63 (Conv2D)              (None, 16, 100, 64)  4160        re_lu_42[0][0]                   \n",
      "__________________________________________________________________________________________________\n",
      "conv2d_62 (Conv2D)              (None, 16, 100, 64)  102464      re_lu_44[0][0]                   \n",
      "__________________________________________________________________________________________________\n",
      "batch_normalization_55 (BatchNo (None, 16, 100, 64)  256         conv2d_63[0][0]                  \n",
      "__________________________________________________________________________________________________\n",
      "batch_normalization_54 (BatchNo (None, 16, 100, 64)  256         conv2d_62[0][0]                  \n",
      "__________________________________________________________________________________________________\n",
      "add_9 (Add)                     (None, 16, 100, 64)  0           batch_normalization_55[0][0]     \n",
      "                                                                 batch_normalization_54[0][0]     \n",
      "__________________________________________________________________________________________________\n",
      "re_lu_45 (ReLU)                 (None, 16, 100, 64)  0           add_9[0][0]                      \n",
      "__________________________________________________________________________________________________\n",
      "conv2d_transpose_1 (Conv2DTrans (None, 32, 200, 32)  51232       re_lu_45[0][0]                   \n",
      "__________________________________________________________________________________________________\n",
      "concatenate_5 (Concatenate)     (None, 32, 200, 64)  0           conv2d_transpose_1[0][0]         \n",
      "                                                                 re_lu_17[0][0]                   \n",
      "__________________________________________________________________________________________________\n",
      "conv2d_64 (Conv2D)              (None, 32, 200, 32)  51232       concatenate_5[0][0]              \n",
      "__________________________________________________________________________________________________\n",
      "batch_normalization_56 (BatchNo (None, 32, 200, 32)  128         conv2d_64[0][0]                  \n",
      "__________________________________________________________________________________________________\n",
      "re_lu_46 (ReLU)                 (None, 32, 200, 32)  0           batch_normalization_56[0][0]     \n",
      "__________________________________________________________________________________________________\n",
      "conv2d_65 (Conv2D)              (None, 32, 200, 32)  25632       re_lu_46[0][0]                   \n",
      "__________________________________________________________________________________________________\n",
      "batch_normalization_57 (BatchNo (None, 32, 200, 32)  128         conv2d_65[0][0]                  \n",
      "__________________________________________________________________________________________________\n",
      "re_lu_47 (ReLU)                 (None, 32, 200, 32)  0           batch_normalization_57[0][0]     \n",
      "__________________________________________________________________________________________________\n",
      "conv2d_67 (Conv2D)              (None, 32, 200, 32)  2080        concatenate_5[0][0]              \n",
      "__________________________________________________________________________________________________\n",
      "conv2d_66 (Conv2D)              (None, 32, 200, 32)  25632       re_lu_47[0][0]                   \n",
      "__________________________________________________________________________________________________\n",
      "batch_normalization_59 (BatchNo (None, 32, 200, 32)  128         conv2d_67[0][0]                  \n",
      "__________________________________________________________________________________________________\n",
      "batch_normalization_58 (BatchNo (None, 32, 200, 32)  128         conv2d_66[0][0]                  \n",
      "__________________________________________________________________________________________________\n",
      "add_10 (Add)                    (None, 32, 200, 32)  0           batch_normalization_59[0][0]     \n",
      "                                                                 batch_normalization_58[0][0]     \n",
      "__________________________________________________________________________________________________\n",
      "re_lu_48 (ReLU)                 (None, 32, 200, 32)  0           add_10[0][0]                     \n",
      "__________________________________________________________________________________________________\n",
      "conv2d_68 (Conv2D)              (None, 32, 200, 32)  25632       re_lu_48[0][0]                   \n",
      "__________________________________________________________________________________________________\n",
      "batch_normalization_60 (BatchNo (None, 32, 200, 32)  128         conv2d_68[0][0]                  \n",
      "__________________________________________________________________________________________________\n",
      "re_lu_49 (ReLU)                 (None, 32, 200, 32)  0           batch_normalization_60[0][0]     \n",
      "__________________________________________________________________________________________________\n",
      "conv2d_69 (Conv2D)              (None, 32, 200, 32)  25632       re_lu_49[0][0]                   \n",
      "__________________________________________________________________________________________________\n",
      "batch_normalization_61 (BatchNo (None, 32, 200, 32)  128         conv2d_69[0][0]                  \n",
      "__________________________________________________________________________________________________\n",
      "re_lu_50 (ReLU)                 (None, 32, 200, 32)  0           batch_normalization_61[0][0]     \n",
      "__________________________________________________________________________________________________\n",
      "conv2d_71 (Conv2D)              (None, 32, 200, 32)  1056        re_lu_48[0][0]                   \n",
      "__________________________________________________________________________________________________\n",
      "conv2d_70 (Conv2D)              (None, 32, 200, 32)  25632       re_lu_50[0][0]                   \n",
      "__________________________________________________________________________________________________\n",
      "batch_normalization_63 (BatchNo (None, 32, 200, 32)  128         conv2d_71[0][0]                  \n",
      "__________________________________________________________________________________________________\n",
      "batch_normalization_62 (BatchNo (None, 32, 200, 32)  128         conv2d_70[0][0]                  \n",
      "__________________________________________________________________________________________________\n",
      "add_11 (Add)                    (None, 32, 200, 32)  0           batch_normalization_63[0][0]     \n",
      "                                                                 batch_normalization_62[0][0]     \n",
      "__________________________________________________________________________________________________\n",
      "re_lu_51 (ReLU)                 (None, 32, 200, 32)  0           add_11[0][0]                     \n",
      "__________________________________________________________________________________________________\n",
      "conv2d_transpose_2 (Conv2DTrans (None, 64, 400, 16)  12816       re_lu_51[0][0]                   \n",
      "__________________________________________________________________________________________________\n",
      "concatenate_6 (Concatenate)     (None, 64, 400, 32)  0           conv2d_transpose_2[0][0]         \n",
      "                                                                 re_lu_11[0][0]                   \n",
      "__________________________________________________________________________________________________\n",
      "conv2d_72 (Conv2D)              (None, 64, 400, 16)  12816       concatenate_6[0][0]              \n",
      "__________________________________________________________________________________________________\n",
      "batch_normalization_64 (BatchNo (None, 64, 400, 16)  64          conv2d_72[0][0]                  \n",
      "__________________________________________________________________________________________________\n",
      "re_lu_52 (ReLU)                 (None, 64, 400, 16)  0           batch_normalization_64[0][0]     \n",
      "__________________________________________________________________________________________________\n",
      "conv2d_73 (Conv2D)              (None, 64, 400, 16)  6416        re_lu_52[0][0]                   \n",
      "__________________________________________________________________________________________________\n",
      "batch_normalization_65 (BatchNo (None, 64, 400, 16)  64          conv2d_73[0][0]                  \n",
      "__________________________________________________________________________________________________\n",
      "re_lu_53 (ReLU)                 (None, 64, 400, 16)  0           batch_normalization_65[0][0]     \n",
      "__________________________________________________________________________________________________\n",
      "conv2d_75 (Conv2D)              (None, 64, 400, 16)  528         concatenate_6[0][0]              \n",
      "__________________________________________________________________________________________________\n",
      "conv2d_74 (Conv2D)              (None, 64, 400, 16)  6416        re_lu_53[0][0]                   \n",
      "__________________________________________________________________________________________________\n",
      "batch_normalization_67 (BatchNo (None, 64, 400, 16)  64          conv2d_75[0][0]                  \n",
      "__________________________________________________________________________________________________\n",
      "batch_normalization_66 (BatchNo (None, 64, 400, 16)  64          conv2d_74[0][0]                  \n",
      "__________________________________________________________________________________________________\n",
      "add_12 (Add)                    (None, 64, 400, 16)  0           batch_normalization_67[0][0]     \n",
      "                                                                 batch_normalization_66[0][0]     \n",
      "__________________________________________________________________________________________________\n",
      "re_lu_54 (ReLU)                 (None, 64, 400, 16)  0           add_12[0][0]                     \n",
      "__________________________________________________________________________________________________\n",
      "conv2d_76 (Conv2D)              (None, 64, 400, 16)  6416        re_lu_54[0][0]                   \n",
      "__________________________________________________________________________________________________\n",
      "batch_normalization_68 (BatchNo (None, 64, 400, 16)  64          conv2d_76[0][0]                  \n",
      "__________________________________________________________________________________________________\n",
      "re_lu_55 (ReLU)                 (None, 64, 400, 16)  0           batch_normalization_68[0][0]     \n",
      "__________________________________________________________________________________________________\n",
      "conv2d_77 (Conv2D)              (None, 64, 400, 16)  6416        re_lu_55[0][0]                   \n",
      "__________________________________________________________________________________________________\n",
      "batch_normalization_69 (BatchNo (None, 64, 400, 16)  64          conv2d_77[0][0]                  \n",
      "__________________________________________________________________________________________________\n",
      "re_lu_56 (ReLU)                 (None, 64, 400, 16)  0           batch_normalization_69[0][0]     \n",
      "__________________________________________________________________________________________________\n",
      "conv2d_79 (Conv2D)              (None, 64, 400, 16)  272         re_lu_54[0][0]                   \n",
      "__________________________________________________________________________________________________\n",
      "conv2d_78 (Conv2D)              (None, 64, 400, 16)  6416        re_lu_56[0][0]                   \n",
      "__________________________________________________________________________________________________\n",
      "batch_normalization_71 (BatchNo (None, 64, 400, 16)  64          conv2d_79[0][0]                  \n",
      "__________________________________________________________________________________________________\n",
      "batch_normalization_70 (BatchNo (None, 64, 400, 16)  64          conv2d_78[0][0]                  \n",
      "__________________________________________________________________________________________________\n",
      "add_13 (Add)                    (None, 64, 400, 16)  0           batch_normalization_71[0][0]     \n",
      "                                                                 batch_normalization_70[0][0]     \n",
      "__________________________________________________________________________________________________\n",
      "re_lu_57 (ReLU)                 (None, 64, 400, 16)  0           add_13[0][0]                     \n",
      "__________________________________________________________________________________________________\n",
      "conv2d_transpose_3 (Conv2DTrans (None, 128, 800, 8)  3208        re_lu_57[0][0]                   \n",
      "__________________________________________________________________________________________________\n",
      "concatenate_7 (Concatenate)     (None, 128, 800, 16) 0           conv2d_transpose_3[0][0]         \n",
      "                                                                 re_lu_5[0][0]                    \n",
      "__________________________________________________________________________________________________\n",
      "conv2d_80 (Conv2D)              (None, 128, 800, 8)  3208        concatenate_7[0][0]              \n",
      "__________________________________________________________________________________________________\n",
      "batch_normalization_72 (BatchNo (None, 128, 800, 8)  32          conv2d_80[0][0]                  \n",
      "__________________________________________________________________________________________________\n",
      "re_lu_58 (ReLU)                 (None, 128, 800, 8)  0           batch_normalization_72[0][0]     \n",
      "__________________________________________________________________________________________________\n",
      "conv2d_81 (Conv2D)              (None, 128, 800, 8)  1608        re_lu_58[0][0]                   \n",
      "__________________________________________________________________________________________________\n",
      "batch_normalization_73 (BatchNo (None, 128, 800, 8)  32          conv2d_81[0][0]                  \n",
      "__________________________________________________________________________________________________\n",
      "re_lu_59 (ReLU)                 (None, 128, 800, 8)  0           batch_normalization_73[0][0]     \n",
      "__________________________________________________________________________________________________\n",
      "conv2d_83 (Conv2D)              (None, 128, 800, 8)  136         concatenate_7[0][0]              \n",
      "__________________________________________________________________________________________________\n",
      "conv2d_82 (Conv2D)              (None, 128, 800, 8)  1608        re_lu_59[0][0]                   \n",
      "__________________________________________________________________________________________________\n",
      "batch_normalization_75 (BatchNo (None, 128, 800, 8)  32          conv2d_83[0][0]                  \n",
      "__________________________________________________________________________________________________\n",
      "batch_normalization_74 (BatchNo (None, 128, 800, 8)  32          conv2d_82[0][0]                  \n",
      "__________________________________________________________________________________________________\n",
      "add_14 (Add)                    (None, 128, 800, 8)  0           batch_normalization_75[0][0]     \n",
      "                                                                 batch_normalization_74[0][0]     \n",
      "__________________________________________________________________________________________________\n",
      "re_lu_60 (ReLU)                 (None, 128, 800, 8)  0           add_14[0][0]                     \n",
      "__________________________________________________________________________________________________\n",
      "conv2d_84 (Conv2D)              (None, 128, 800, 8)  1608        re_lu_60[0][0]                   \n",
      "__________________________________________________________________________________________________\n",
      "batch_normalization_76 (BatchNo (None, 128, 800, 8)  32          conv2d_84[0][0]                  \n",
      "__________________________________________________________________________________________________\n",
      "re_lu_61 (ReLU)                 (None, 128, 800, 8)  0           batch_normalization_76[0][0]     \n",
      "__________________________________________________________________________________________________\n",
      "conv2d_85 (Conv2D)              (None, 128, 800, 8)  1608        re_lu_61[0][0]                   \n",
      "__________________________________________________________________________________________________\n",
      "batch_normalization_77 (BatchNo (None, 128, 800, 8)  32          conv2d_85[0][0]                  \n",
      "__________________________________________________________________________________________________\n",
      "re_lu_62 (ReLU)                 (None, 128, 800, 8)  0           batch_normalization_77[0][0]     \n",
      "__________________________________________________________________________________________________\n",
      "conv2d_86 (Conv2D)              (None, 128, 800, 8)  1608        re_lu_62[0][0]                   \n",
      "__________________________________________________________________________________________________\n",
      "batch_normalization_78 (BatchNo (None, 128, 800, 8)  32          conv2d_86[0][0]                  \n",
      "__________________________________________________________________________________________________\n",
      "conv2d_89 (Conv2D)              (None, 128, 800, 4)  804         batch_normalization_78[0][0]     \n",
      "__________________________________________________________________________________________________\n",
      "conv2d_98 (Conv2D)              (None, 128, 800, 4)  804         batch_normalization_78[0][0]     \n",
      "__________________________________________________________________________________________________\n",
      "conv2d_107 (Conv2D)             (None, 128, 800, 4)  804         batch_normalization_78[0][0]     \n",
      "__________________________________________________________________________________________________\n",
      "conv2d_116 (Conv2D)             (None, 128, 800, 4)  804         batch_normalization_78[0][0]     \n",
      "__________________________________________________________________________________________________\n",
      "batch_normalization_80 (BatchNo (None, 128, 800, 4)  16          conv2d_89[0][0]                  \n",
      "__________________________________________________________________________________________________\n",
      "batch_normalization_88 (BatchNo (None, 128, 800, 4)  16          conv2d_98[0][0]                  \n",
      "__________________________________________________________________________________________________\n",
      "batch_normalization_96 (BatchNo (None, 128, 800, 4)  16          conv2d_107[0][0]                 \n",
      "__________________________________________________________________________________________________\n",
      "batch_normalization_104 (BatchN (None, 128, 800, 4)  16          conv2d_116[0][0]                 \n",
      "__________________________________________________________________________________________________\n",
      "re_lu_64 (ReLU)                 (None, 128, 800, 4)  0           batch_normalization_80[0][0]     \n",
      "__________________________________________________________________________________________________\n",
      "re_lu_70 (ReLU)                 (None, 128, 800, 4)  0           batch_normalization_88[0][0]     \n",
      "__________________________________________________________________________________________________\n",
      "re_lu_76 (ReLU)                 (None, 128, 800, 4)  0           batch_normalization_96[0][0]     \n",
      "__________________________________________________________________________________________________\n",
      "re_lu_82 (ReLU)                 (None, 128, 800, 4)  0           batch_normalization_104[0][0]    \n",
      "__________________________________________________________________________________________________\n",
      "conv2d_90 (Conv2D)              (None, 128, 800, 4)  404         re_lu_64[0][0]                   \n",
      "__________________________________________________________________________________________________\n",
      "conv2d_99 (Conv2D)              (None, 128, 800, 4)  404         re_lu_70[0][0]                   \n",
      "__________________________________________________________________________________________________\n",
      "conv2d_108 (Conv2D)             (None, 128, 800, 4)  404         re_lu_76[0][0]                   \n",
      "__________________________________________________________________________________________________\n",
      "conv2d_117 (Conv2D)             (None, 128, 800, 4)  404         re_lu_82[0][0]                   \n",
      "__________________________________________________________________________________________________\n",
      "batch_normalization_81 (BatchNo (None, 128, 800, 4)  16          conv2d_90[0][0]                  \n",
      "__________________________________________________________________________________________________\n",
      "batch_normalization_89 (BatchNo (None, 128, 800, 4)  16          conv2d_99[0][0]                  \n",
      "__________________________________________________________________________________________________\n",
      "batch_normalization_97 (BatchNo (None, 128, 800, 4)  16          conv2d_108[0][0]                 \n",
      "__________________________________________________________________________________________________\n",
      "batch_normalization_105 (BatchN (None, 128, 800, 4)  16          conv2d_117[0][0]                 \n",
      "__________________________________________________________________________________________________\n",
      "re_lu_65 (ReLU)                 (None, 128, 800, 4)  0           batch_normalization_81[0][0]     \n",
      "__________________________________________________________________________________________________\n",
      "re_lu_71 (ReLU)                 (None, 128, 800, 4)  0           batch_normalization_89[0][0]     \n",
      "__________________________________________________________________________________________________\n",
      "re_lu_77 (ReLU)                 (None, 128, 800, 4)  0           batch_normalization_97[0][0]     \n",
      "__________________________________________________________________________________________________\n",
      "re_lu_83 (ReLU)                 (None, 128, 800, 4)  0           batch_normalization_105[0][0]    \n",
      "__________________________________________________________________________________________________\n",
      "conv2d_92 (Conv2D)              (None, 128, 800, 4)  36          batch_normalization_78[0][0]     \n",
      "__________________________________________________________________________________________________\n",
      "conv2d_91 (Conv2D)              (None, 128, 800, 4)  404         re_lu_65[0][0]                   \n",
      "__________________________________________________________________________________________________\n",
      "conv2d_101 (Conv2D)             (None, 128, 800, 4)  36          batch_normalization_78[0][0]     \n",
      "__________________________________________________________________________________________________\n",
      "conv2d_100 (Conv2D)             (None, 128, 800, 4)  404         re_lu_71[0][0]                   \n",
      "__________________________________________________________________________________________________\n",
      "conv2d_110 (Conv2D)             (None, 128, 800, 4)  36          batch_normalization_78[0][0]     \n",
      "__________________________________________________________________________________________________\n",
      "conv2d_109 (Conv2D)             (None, 128, 800, 4)  404         re_lu_77[0][0]                   \n",
      "__________________________________________________________________________________________________\n",
      "conv2d_119 (Conv2D)             (None, 128, 800, 4)  36          batch_normalization_78[0][0]     \n",
      "__________________________________________________________________________________________________\n",
      "conv2d_118 (Conv2D)             (None, 128, 800, 4)  404         re_lu_83[0][0]                   \n",
      "__________________________________________________________________________________________________\n",
      "batch_normalization_83 (BatchNo (None, 128, 800, 4)  16          conv2d_92[0][0]                  \n",
      "__________________________________________________________________________________________________\n",
      "batch_normalization_82 (BatchNo (None, 128, 800, 4)  16          conv2d_91[0][0]                  \n",
      "__________________________________________________________________________________________________\n",
      "batch_normalization_91 (BatchNo (None, 128, 800, 4)  16          conv2d_101[0][0]                 \n",
      "__________________________________________________________________________________________________\n",
      "batch_normalization_90 (BatchNo (None, 128, 800, 4)  16          conv2d_100[0][0]                 \n",
      "__________________________________________________________________________________________________\n",
      "batch_normalization_99 (BatchNo (None, 128, 800, 4)  16          conv2d_110[0][0]                 \n",
      "__________________________________________________________________________________________________\n",
      "batch_normalization_98 (BatchNo (None, 128, 800, 4)  16          conv2d_109[0][0]                 \n",
      "__________________________________________________________________________________________________\n",
      "batch_normalization_107 (BatchN (None, 128, 800, 4)  16          conv2d_119[0][0]                 \n",
      "__________________________________________________________________________________________________\n",
      "batch_normalization_106 (BatchN (None, 128, 800, 4)  16          conv2d_118[0][0]                 \n",
      "__________________________________________________________________________________________________\n",
      "add_16 (Add)                    (None, 128, 800, 4)  0           batch_normalization_83[0][0]     \n",
      "                                                                 batch_normalization_82[0][0]     \n",
      "__________________________________________________________________________________________________\n",
      "add_18 (Add)                    (None, 128, 800, 4)  0           batch_normalization_91[0][0]     \n",
      "                                                                 batch_normalization_90[0][0]     \n",
      "__________________________________________________________________________________________________\n",
      "add_20 (Add)                    (None, 128, 800, 4)  0           batch_normalization_99[0][0]     \n",
      "                                                                 batch_normalization_98[0][0]     \n",
      "__________________________________________________________________________________________________\n",
      "add_22 (Add)                    (None, 128, 800, 4)  0           batch_normalization_107[0][0]    \n",
      "                                                                 batch_normalization_106[0][0]    \n",
      "__________________________________________________________________________________________________\n",
      "re_lu_66 (ReLU)                 (None, 128, 800, 4)  0           add_16[0][0]                     \n",
      "__________________________________________________________________________________________________\n",
      "re_lu_72 (ReLU)                 (None, 128, 800, 4)  0           add_18[0][0]                     \n",
      "__________________________________________________________________________________________________\n",
      "re_lu_78 (ReLU)                 (None, 128, 800, 4)  0           add_20[0][0]                     \n",
      "__________________________________________________________________________________________________\n",
      "re_lu_84 (ReLU)                 (None, 128, 800, 4)  0           add_22[0][0]                     \n",
      "__________________________________________________________________________________________________\n",
      "conv2d_93 (Conv2D)              (None, 128, 800, 4)  404         re_lu_66[0][0]                   \n",
      "__________________________________________________________________________________________________\n",
      "conv2d_102 (Conv2D)             (None, 128, 800, 4)  404         re_lu_72[0][0]                   \n",
      "__________________________________________________________________________________________________\n",
      "conv2d_111 (Conv2D)             (None, 128, 800, 4)  404         re_lu_78[0][0]                   \n",
      "__________________________________________________________________________________________________\n",
      "conv2d_120 (Conv2D)             (None, 128, 800, 4)  404         re_lu_84[0][0]                   \n",
      "__________________________________________________________________________________________________\n",
      "batch_normalization_84 (BatchNo (None, 128, 800, 4)  16          conv2d_93[0][0]                  \n",
      "__________________________________________________________________________________________________\n",
      "batch_normalization_92 (BatchNo (None, 128, 800, 4)  16          conv2d_102[0][0]                 \n",
      "__________________________________________________________________________________________________\n",
      "batch_normalization_100 (BatchN (None, 128, 800, 4)  16          conv2d_111[0][0]                 \n",
      "__________________________________________________________________________________________________\n",
      "batch_normalization_108 (BatchN (None, 128, 800, 4)  16          conv2d_120[0][0]                 \n",
      "__________________________________________________________________________________________________\n",
      "re_lu_67 (ReLU)                 (None, 128, 800, 4)  0           batch_normalization_84[0][0]     \n",
      "__________________________________________________________________________________________________\n",
      "re_lu_73 (ReLU)                 (None, 128, 800, 4)  0           batch_normalization_92[0][0]     \n",
      "__________________________________________________________________________________________________\n",
      "re_lu_79 (ReLU)                 (None, 128, 800, 4)  0           batch_normalization_100[0][0]    \n",
      "__________________________________________________________________________________________________\n",
      "re_lu_85 (ReLU)                 (None, 128, 800, 4)  0           batch_normalization_108[0][0]    \n",
      "__________________________________________________________________________________________________\n",
      "conv2d_94 (Conv2D)              (None, 128, 800, 4)  404         re_lu_67[0][0]                   \n",
      "__________________________________________________________________________________________________\n",
      "conv2d_103 (Conv2D)             (None, 128, 800, 4)  404         re_lu_73[0][0]                   \n",
      "__________________________________________________________________________________________________\n",
      "conv2d_112 (Conv2D)             (None, 128, 800, 4)  404         re_lu_79[0][0]                   \n",
      "__________________________________________________________________________________________________\n",
      "conv2d_121 (Conv2D)             (None, 128, 800, 4)  404         re_lu_85[0][0]                   \n",
      "__________________________________________________________________________________________________\n",
      "batch_normalization_85 (BatchNo (None, 128, 800, 4)  16          conv2d_94[0][0]                  \n",
      "__________________________________________________________________________________________________\n",
      "batch_normalization_93 (BatchNo (None, 128, 800, 4)  16          conv2d_103[0][0]                 \n",
      "__________________________________________________________________________________________________\n",
      "batch_normalization_101 (BatchN (None, 128, 800, 4)  16          conv2d_112[0][0]                 \n",
      "__________________________________________________________________________________________________\n",
      "batch_normalization_109 (BatchN (None, 128, 800, 4)  16          conv2d_121[0][0]                 \n",
      "__________________________________________________________________________________________________\n",
      "re_lu_68 (ReLU)                 (None, 128, 800, 4)  0           batch_normalization_85[0][0]     \n",
      "__________________________________________________________________________________________________\n",
      "re_lu_74 (ReLU)                 (None, 128, 800, 4)  0           batch_normalization_93[0][0]     \n",
      "__________________________________________________________________________________________________\n",
      "re_lu_80 (ReLU)                 (None, 128, 800, 4)  0           batch_normalization_101[0][0]    \n",
      "__________________________________________________________________________________________________\n",
      "re_lu_86 (ReLU)                 (None, 128, 800, 4)  0           batch_normalization_109[0][0]    \n",
      "__________________________________________________________________________________________________\n",
      "conv2d_96 (Conv2D)              (None, 128, 800, 4)  20          re_lu_66[0][0]                   \n",
      "__________________________________________________________________________________________________\n",
      "conv2d_95 (Conv2D)              (None, 128, 800, 4)  404         re_lu_68[0][0]                   \n",
      "__________________________________________________________________________________________________\n",
      "conv2d_105 (Conv2D)             (None, 128, 800, 4)  20          re_lu_72[0][0]                   \n",
      "__________________________________________________________________________________________________\n",
      "conv2d_104 (Conv2D)             (None, 128, 800, 4)  404         re_lu_74[0][0]                   \n",
      "__________________________________________________________________________________________________\n",
      "conv2d_114 (Conv2D)             (None, 128, 800, 4)  20          re_lu_78[0][0]                   \n",
      "__________________________________________________________________________________________________\n",
      "conv2d_113 (Conv2D)             (None, 128, 800, 4)  404         re_lu_80[0][0]                   \n",
      "__________________________________________________________________________________________________\n",
      "conv2d_123 (Conv2D)             (None, 128, 800, 4)  20          re_lu_84[0][0]                   \n",
      "__________________________________________________________________________________________________\n",
      "conv2d_122 (Conv2D)             (None, 128, 800, 4)  404         re_lu_86[0][0]                   \n",
      "__________________________________________________________________________________________________\n",
      "batch_normalization_87 (BatchNo (None, 128, 800, 4)  16          conv2d_96[0][0]                  \n",
      "__________________________________________________________________________________________________\n",
      "batch_normalization_86 (BatchNo (None, 128, 800, 4)  16          conv2d_95[0][0]                  \n",
      "__________________________________________________________________________________________________\n",
      "batch_normalization_95 (BatchNo (None, 128, 800, 4)  16          conv2d_105[0][0]                 \n",
      "__________________________________________________________________________________________________\n",
      "batch_normalization_94 (BatchNo (None, 128, 800, 4)  16          conv2d_104[0][0]                 \n",
      "__________________________________________________________________________________________________\n",
      "batch_normalization_103 (BatchN (None, 128, 800, 4)  16          conv2d_114[0][0]                 \n",
      "__________________________________________________________________________________________________\n",
      "batch_normalization_102 (BatchN (None, 128, 800, 4)  16          conv2d_113[0][0]                 \n",
      "__________________________________________________________________________________________________\n",
      "batch_normalization_111 (BatchN (None, 128, 800, 4)  16          conv2d_123[0][0]                 \n",
      "__________________________________________________________________________________________________\n",
      "batch_normalization_110 (BatchN (None, 128, 800, 4)  16          conv2d_122[0][0]                 \n",
      "__________________________________________________________________________________________________\n",
      "add_17 (Add)                    (None, 128, 800, 4)  0           batch_normalization_87[0][0]     \n",
      "                                                                 batch_normalization_86[0][0]     \n",
      "__________________________________________________________________________________________________\n",
      "add_19 (Add)                    (None, 128, 800, 4)  0           batch_normalization_95[0][0]     \n",
      "                                                                 batch_normalization_94[0][0]     \n",
      "__________________________________________________________________________________________________\n",
      "add_21 (Add)                    (None, 128, 800, 4)  0           batch_normalization_103[0][0]    \n",
      "                                                                 batch_normalization_102[0][0]    \n",
      "__________________________________________________________________________________________________\n",
      "add_23 (Add)                    (None, 128, 800, 4)  0           batch_normalization_111[0][0]    \n",
      "                                                                 batch_normalization_110[0][0]    \n",
      "__________________________________________________________________________________________________\n",
      "re_lu_69 (ReLU)                 (None, 128, 800, 4)  0           add_17[0][0]                     \n",
      "__________________________________________________________________________________________________\n",
      "re_lu_75 (ReLU)                 (None, 128, 800, 4)  0           add_19[0][0]                     \n",
      "__________________________________________________________________________________________________\n",
      "re_lu_81 (ReLU)                 (None, 128, 800, 4)  0           add_21[0][0]                     \n",
      "__________________________________________________________________________________________________\n",
      "re_lu_87 (ReLU)                 (None, 128, 800, 4)  0           add_23[0][0]                     \n",
      "__________________________________________________________________________________________________\n",
      "conv2d_97 (Conv2D)              (None, 128, 800, 1)  5           re_lu_69[0][0]                   \n",
      "__________________________________________________________________________________________________\n",
      "conv2d_106 (Conv2D)             (None, 128, 800, 1)  5           re_lu_75[0][0]                   \n",
      "__________________________________________________________________________________________________\n",
      "conv2d_115 (Conv2D)             (None, 128, 800, 1)  5           re_lu_81[0][0]                   \n",
      "__________________________________________________________________________________________________\n",
      "conv2d_124 (Conv2D)             (None, 128, 800, 1)  5           re_lu_87[0][0]                   \n",
      "__________________________________________________________________________________________________\n",
      "concatenate_8 (Concatenate)     (None, 128, 800, 4)  0           conv2d_97[0][0]                  \n",
      "                                                                 conv2d_106[0][0]                 \n",
      "                                                                 conv2d_115[0][0]                 \n",
      "                                                                 conv2d_124[0][0]                 \n",
      "==================================================================================================\n",
      "Total params: 2,216,948\n",
      "Trainable params: 2,211,844\n",
      "Non-trainable params: 5,104\n",
      "__________________________________________________________________________________________________\n"
     ]
    }
   ],
   "source": [
    "model2.summary()"
   ]
  },
  {
   "cell_type": "markdown",
   "metadata": {
    "scrolled": true
   },
   "source": [
    "epochs = 25\n",
    "batch_size = 16\n",
    "\n",
    "train_generator = data_generator(x_train, batch_size)\n",
    "validation_generator = data_generator(x_valid, batch_size)\n",
    "\n",
    "train_steps_per_epoch=int(len(x_train)/batch_size)\n",
    "validation_steps_per_epoch=int(len(x_valid)/batch_size)\n",
    "\n",
    "history = model2.fit_generator(generator=train_generator,\n",
    "                               steps_per_epoch=train_steps_per_epoch,\n",
    "                               epochs=epochs,\n",
    "                               validation_data = validation_generator,\n",
    "                               validation_steps = validation_steps_per_epoch\n",
    "                               #callbacks=[early_stopping, model_checkpoint, reduce_lr])\n",
    "                              )"
   ]
  },
  {
   "cell_type": "markdown",
   "metadata": {},
   "source": [
    "model2.save_weights('./weights/resUnetInception4Sigmoid_5epocas_v1/resUnetInception4Sigmoid_25epocas_v4')"
   ]
  },
  {
   "cell_type": "code",
   "execution_count": 50,
   "metadata": {
    "scrolled": false
   },
   "outputs": [
    {
     "data": {
      "image/png": "[encoded data removed]",
      "text/plain": [
       "<Figure size 640x480 with 1 Axes>"
      ]
     },
     "metadata": {},
     "output_type": "display_data"
    },
    {
     "name": "stdout",
     "output_type": "stream",
     "text": [
      "Falla tipo: 1 - IOU: 1.0 - DICE: 1.0\n"
     ]
    },
    {
     "data": {
      "image/png": "[encoded data removed]",
      "text/plain": [
       "<Figure size 640x480 with 1 Axes>"
      ]
     },
     "metadata": {},
     "output_type": "display_data"
    },
    {
     "data": {
      "image/png": "[encoded data removed]",
      "text/plain": [
       "<Figure size 640x480 with 1 Axes>"
      ]
     },
     "metadata": {},
     "output_type": "display_data"
    },
    {
     "name": "stdout",
     "output_type": "stream",
     "text": [
      "Falla tipo: 2 - IOU: 1.0 - DICE: 1.0\n"
     ]
    },
    {
     "data": {
      "image/png": "[encoded data removed]",
      "text/plain": [
       "<Figure size 640x480 with 1 Axes>"
      ]
     },
     "metadata": {},
     "output_type": "display_data"
    },
    {
     "data": {
      "image/png": "[encoded data removed]",
      "text/plain": [
       "<Figure size 640x480 with 1 Axes>"
      ]
     },
     "metadata": {},
     "output_type": "display_data"
    },
    {
     "name": "stdout",
     "output_type": "stream",
     "text": [
      "Falla tipo: 3 - IOU: 1.0 - DICE: 1.0\n"
     ]
    },
    {
     "data": {
      "image/png": "[encoded data removed]",
      "text/plain": [
       "<Figure size 640x480 with 1 Axes>"
      ]
     },
     "metadata": {},
     "output_type": "display_data"
    },
    {
     "data": {
      "image/png": "[encoded data removed]",
      "text/plain": [
       "<Figure size 640x480 with 1 Axes>"
      ]
     },
     "metadata": {},
     "output_type": "display_data"
    },
    {
     "name": "stdout",
     "output_type": "stream",
     "text": [
      "Falla tipo: 4 - IOU: 0.7116793394088745 - DICE: 0.831523597240448\n"
     ]
    },
    {
     "data": {
      "image/png": "[encoded data removed]",
      "text/plain": [
       "<Figure size 640x480 with 1 Axes>"
      ]
     },
     "metadata": {},
     "output_type": "display_data"
    },
    {
     "data": {
      "image/png": "[encoded data removed]",
      "text/plain": [
       "<Figure size 640x480 with 1 Axes>"
      ]
     },
     "metadata": {},
     "output_type": "display_data"
    },
    {
     "name": "stdout",
     "output_type": "stream",
     "text": [
      "Mean IOU: 0.9279198348522186\n",
      "Mean DICE: 0.957880899310112\n",
      "Keras-IOU: 0.8736811876296997\n"
     ]
    },
    {
     "data": {
      "image/png": "[encoded data removed]",
      "text/plain": [
       "<Figure size 640x480 with 1 Axes>"
      ]
     },
     "metadata": {},
     "output_type": "display_data"
    },
    {
     "name": "stdout",
     "output_type": "stream",
     "text": [
      "Falla tipo: 1 - IOU: 1.0 - DICE: 1.0\n"
     ]
    },
    {
     "data": {
      "image/png": "[encoded data removed]",
      "text/plain": [
       "<Figure size 640x480 with 1 Axes>"
      ]
     },
     "metadata": {},
     "output_type": "display_data"
    },
    {
     "data": {
      "image/png": "[encoded data removed]",
      "text/plain": [
       "<Figure size 640x480 with 1 Axes>"
      ]
     },
     "metadata": {},
     "output_type": "display_data"
    },
    {
     "name": "stdout",
     "output_type": "stream",
     "text": [
      "Falla tipo: 2 - IOU: 1.0 - DICE: 1.0\n"
     ]
    },
    {
     "data": {
      "image/png": "[encoded data removed]",
      "text/plain": [
       "<Figure size 640x480 with 1 Axes>"
      ]
     },
     "metadata": {},
     "output_type": "display_data"
    },
    {
     "data": {
      "image/png": "[encoded data removed]",
      "text/plain": [
       "<Figure size 640x480 with 1 Axes>"
      ]
     },
     "metadata": {},
     "output_type": "display_data"
    },
    {
     "name": "stdout",
     "output_type": "stream",
     "text": [
      "Falla tipo: 3 - IOU: 0.45655158162117004 - DICE: 0.6267951130867004\n"
     ]
    },
    {
     "data": {
      "image/png": "[encoded data removed]",
      "text/plain": [
       "<Figure size 640x480 with 1 Axes>"
      ]
     },
     "metadata": {},
     "output_type": "display_data"
    },
    {
     "data": {
      "image/png": "[encoded data removed]",
      "text/plain": [
       "<Figure size 640x480 with 1 Axes>"
      ]
     },
     "metadata": {},
     "output_type": "display_data"
    },
    {
     "name": "stdout",
     "output_type": "stream",
     "text": [
      "Falla tipo: 4 - IOU: 1.0 - DICE: 1.0\n"
     ]
    },
    {
     "data": {
      "image/png": "[encoded data removed]",
      "text/plain": [
       "<Figure size 640x480 with 1 Axes>"
      ]
     },
     "metadata": {},
     "output_type": "display_data"
    },
    {
     "data": {
      "image/png": "[encoded data removed]",
      "text/plain": [
       "<Figure size 640x480 with 1 Axes>"
      ]
     },
     "metadata": {},
     "output_type": "display_data"
    },
    {
     "name": "stdout",
     "output_type": "stream",
     "text": [
      "Mean IOU: 0.8641378954052925\n",
      "Mean DICE: 0.9066987782716751\n",
      "Keras-IOU: 0.6378657817840576\n"
     ]
    },
    {
     "data": {
      "image/png": "[encoded data removed]",
      "text/plain": [
       "<Figure size 640x480 with 1 Axes>"
      ]
     },
     "metadata": {},
     "output_type": "display_data"
    },
    {
     "name": "stdout",
     "output_type": "stream",
     "text": [
      "Falla tipo: 1 - IOU: 1.0 - DICE: 1.0\n"
     ]
    },
    {
     "data": {
      "image/png": "[encoded data removed]",
      "text/plain": [
       "<Figure size 640x480 with 1 Axes>"
      ]
     },
     "metadata": {},
     "output_type": "display_data"
    },
    {
     "data": {
      "image/png": "[encoded data removed]",
      "text/plain": [
       "<Figure size 640x480 with 1 Axes>"
      ]
     },
     "metadata": {},
     "output_type": "display_data"
    },
    {
     "name": "stdout",
     "output_type": "stream",
     "text": [
      "Falla tipo: 2 - IOU: 1.0 - DICE: 1.0\n"
     ]
    },
    {
     "data": {
      "image/png": "[encoded data removed]",
      "text/plain": [
       "<Figure size 640x480 with 1 Axes>"
      ]
     },
     "metadata": {},
     "output_type": "display_data"
    },
    {
     "data": {
      "image/png": "[encoded data removed]",
      "text/plain": [
       "<Figure size 640x480 with 1 Axes>"
      ]
     },
     "metadata": {},
     "output_type": "display_data"
    },
    {
     "name": "stdout",
     "output_type": "stream",
     "text": [
      "Falla tipo: 3 - IOU: 1.0 - DICE: 1.0\n"
     ]
    },
    {
     "data": {
      "image/png": "[encoded data removed]",
      "text/plain": [
       "<Figure size 640x480 with 1 Axes>"
      ]
     },
     "metadata": {},
     "output_type": "display_data"
    },
    {
     "data": {
      "image/png": "[encoded data removed]",
      "text/plain": [
       "<Figure size 640x480 with 1 Axes>"
      ]
     },
     "metadata": {},
     "output_type": "display_data"
    },
    {
     "name": "stdout",
     "output_type": "stream",
     "text": [
      "Falla tipo: 4 - IOU: 0.002023225650191307 - DICE: 0.002023225650191307\n"
     ]
    },
    {
     "data": {
      "image/png": "[encoded data removed]",
      "text/plain": [
       "<Figure size 640x480 with 1 Axes>"
      ]
     },
     "metadata": {},
     "output_type": "display_data"
    },
    {
     "data": {
      "image/png": "[encoded data removed]",
      "text/plain": [
       "<Figure size 640x480 with 1 Axes>"
      ]
     },
     "metadata": {},
     "output_type": "display_data"
    },
    {
     "name": "stdout",
     "output_type": "stream",
     "text": [
      "Mean IOU: 0.7505058064125478\n",
      "Mean DICE: 0.7505058064125478\n",
      "Keras-IOU: 1.0\n"
     ]
    }
   ],
   "source": [
    "test_generator = data_generator(x_test,batch_size=1)\n",
    "\n",
    "for i in range(3):\n",
    "    data_test = next(test_generator)\n",
    "    prediction=model2.predict(data_test[0])\n",
    "    plt.imshow(data_test[0][0],cmap='gray', vmin=0, vmax=1)\n",
    "    plt.show()\n",
    "    iou = 0\n",
    "    dice_1 = 0\n",
    "    for j in range(data_test[1][0].shape[2]):\n",
    "        y_true = data_test[1][0][:,:,j]\n",
    "        y_pred = prediction[0][:,:,j]\n",
    "        \n",
    "        y_pred = (y_pred[:, :] > 0.5) * y_pred\n",
    "        \n",
    "        print(f\"Falla tipo: {j+1} - IOU: {iou_coef(K.flatten(y_true), K.flatten(y_pred), smooth=1).numpy()} - DICE: {dice_coef(y_true, y_pred).numpy()}\")\n",
    "        iou += iou_coef(K.flatten(y_true), K.flatten(y_pred), smooth=1).numpy()\n",
    "        dice_1 += dice_coef(y_true, y_pred).numpy()\n",
    "        plt.imshow(y_true)\n",
    "        plt.show()\n",
    "        plt.imshow(y_pred)\n",
    "        plt.show()\n",
    "        \n",
    "    print(f\"Mean IOU: {iou/4}\")\n",
    "    print(f\"Mean DICE: {dice_1/4}\")\n",
    "\n",
    "    m = tf.keras.metrics.MeanIoU(num_classes=4)\n",
    "    m.update_state([data_test[1][0][:,:,0], data_test[1][0][:,:,1], data_test[1][0][:,:,2], data_test[1][0][:,:,3]],\n",
    "                    [prediction[0][:,:,0], prediction[0][:,:,1], prediction[0][:,:,2], prediction[0][:,:,3]]).numpy()\n",
    "    print(f\"Keras-IOU: {m.result().numpy()}\")"
   ]
  },
  {
   "cell_type": "code",
   "execution_count": 47,
   "metadata": {},
   "outputs": [
    {
     "name": "stdout",
     "output_type": "stream",
     "text": [
      "[[2.2893232e-09 1.7644734e-08 1.9364934e-09 ... 2.5816798e-09\n",
      "  3.6611030e-07 1.3494065e-06]\n",
      " [1.8478679e-09 5.2157287e-07 9.8731073e-07 ... 6.8289961e-07\n",
      "  3.3422072e-07 1.1197069e-06]\n",
      " [2.5293481e-08 2.8274480e-06 1.8665386e-06 ... 2.2411025e-06\n",
      "  6.9182761e-07 8.0106553e-08]\n",
      " ...\n",
      " [5.4459392e-08 3.0891756e-06 2.3757150e-06 ... 9.8113505e-06\n",
      "  4.9871387e-06 4.4199257e-07]\n",
      " [1.8722820e-07 4.7099629e-06 3.6829360e-06 ... 1.8936309e-05\n",
      "  4.5046277e-06 7.3249618e-07]\n",
      " [2.0443103e-06 3.7034413e-06 7.1770555e-06 ... 1.1576970e-05\n",
      "  2.6930859e-06 4.6491714e-06]]\n"
     ]
    }
   ],
   "source": [
    "print(y_pred)"
   ]
  },
  {
   "cell_type": "code",
   "execution_count": null,
   "metadata": {},
   "outputs": [],
   "source": [
    "test_generator = data_generator(x_test,batch_size=1)\n",
    "\n",
    "tpn=0\n",
    "total = 0\n",
    "intersection = 0\n",
    "union = 0\n",
    "acum_sum=0\n",
    "\n",
    "for i in range(len(x_test)):\n",
    "    \n",
    "    data_test = next(test_generator)\n",
    "    y_true = data_test[1]\n",
    "    y_pred =  (model2.predict(data_test[0])>=0.5)\n",
    "    y_pred = (y_pred[:, :] > 0.5) * y_pred\n",
    "\n",
    "    #Pixel Accuracy\n",
    "    tpn += np.sum(y_true==y_pred) / y_true.shape[3]\n",
    "    total += y_true.shape[1]*y_true.shape[2]\n",
    "    \n",
    "    intersection += np.sum(y_true * y_pred,axis=(1,2))\n",
    "    union += np.sum(np.logical_or(y_true,y_pred), axis=(1,2))\n",
    "    \n",
    "    acum_sum += np.sum(y_true, axis=(1,2)) + np.sum(y_pred, axis=(1,2))\n",
    "    \n",
    "pixel_accuracy = tpn/total\n",
    "\n",
    "union[union==0]=1\n",
    "mean_iou = (intersection / union)\n",
    "    \n",
    "acum_sum[acum_sum==0]=1\n",
    "dice = (2* intersection / acum_sum)"
   ]
  },
  {
   "cell_type": "code",
   "execution_count": 35,
   "metadata": {},
   "outputs": [],
   "source": [
    "test_generator = data_generator(all_img,batch_size=1)\n",
    "\n",
    "tpn=0\n",
    "total = 0\n",
    "intersection = 0\n",
    "union = 0\n",
    "acum_sum=0\n",
    "dice2=0\n",
    "\n",
    "for i in range(len(all_img)):\n",
    "    \n",
    "    data_test = next(test_generator)\n",
    "    y_true = data_test[1]\n",
    "    y_pred =  (model2.predict(data_test[0])>=0.5)\n",
    "    \n",
    "    #Pixel Accuracy\n",
    "    tpn += np.sum(y_true==y_pred) / y_true.shape[3]\n",
    "    total += y_true.shape[1]*y_true.shape[2]\n",
    "    \n",
    "    intersection += np.sum(y_true * y_pred,axis=(1,2))\n",
    "    union += np.sum(np.logical_or(y_true,y_pred), axis=(1,2))\n",
    "    \n",
    "    acum_sum += np.sum(y_true, axis=(1,2)) + np.sum(y_pred, axis=(1,2))\n",
    "    \n",
    "    dice2 += dice_loss(y_true,model2.predict(data_test[0]))\n",
    "    \n",
    "    \n",
    "pixel_accuracy = tpn/total\n",
    "\n",
    "union[union==0]=1\n",
    "mean_iou = (intersection / union)\n",
    "    \n",
    "acum_sum[acum_sum==0]=1\n",
    "dice = (2* intersection / acum_sum)"
   ]
  },
  {
   "cell_type": "code",
   "execution_count": null,
   "metadata": {},
   "outputs": [],
   "source": [
    "union"
   ]
  },
  {
   "cell_type": "code",
   "execution_count": null,
   "metadata": {},
   "outputs": [],
   "source": [
    "pixel_accuracy"
   ]
  },
  {
   "cell_type": "code",
   "execution_count": null,
   "metadata": {},
   "outputs": [],
   "source": [
    "mean_iou"
   ]
  },
  {
   "cell_type": "code",
   "execution_count": null,
   "metadata": {},
   "outputs": [],
   "source": [
    "dice"
   ]
  },
  {
   "cell_type": "code",
   "execution_count": null,
   "metadata": {},
   "outputs": [],
   "source": [
    "print(dice2)"
   ]
  },
  {
   "cell_type": "code",
   "execution_count": 44,
   "metadata": {},
   "outputs": [
    {
     "name": "stdout",
     "output_type": "stream",
     "text": [
      "tf.Tensor(0.017955303, shape=(), dtype=float32)\n",
      "tf.Tensor(0.7205803, shape=(), dtype=float32)\n",
      "tf.Tensor(0.25446177, shape=(), dtype=float32)\n",
      "tf.Tensor(0.018603206, shape=(), dtype=float32)\n",
      "tf.Tensor(0.99992746, shape=(), dtype=float32)\n",
      "tf.Tensor(0.9985142, shape=(), dtype=float32)\n",
      "tf.Tensor(0.22992927, shape=(), dtype=float32)\n",
      "tf.Tensor(0.9109885, shape=(), dtype=float32)\n",
      "tf.Tensor(0.9996821, shape=(), dtype=float32)\n",
      "tf.Tensor(0.018184185, shape=(), dtype=float32)\n"
     ]
    }
   ],
   "source": [
    "for i in range(10):\n",
    "    data_test = next(test_generator)\n",
    "    y_true = data_test[1]\n",
    "    print(dice_loss(y_true,model2.predict(data_test[0])))"
   ]
  },
  {
   "cell_type": "code",
   "execution_count": null,
   "metadata": {},
   "outputs": [],
   "source": []
  }
 ],
 "metadata": {
  "kernelspec": {
   "display_name": "Python 3",
   "language": "python",
   "name": "python3"
  },
  "language_info": {
   "codemirror_mode": {
    "name": "ipython",
    "version": 3
   },
   "file_extension": ".py",
   "mimetype": "text/x-python",
   "name": "python",
   "nbconvert_exporter": "python",
   "pygments_lexer": "ipython3",
   "version": "3.8.11"
  }
 },
 "nbformat": 4,
 "nbformat_minor": 2
}
