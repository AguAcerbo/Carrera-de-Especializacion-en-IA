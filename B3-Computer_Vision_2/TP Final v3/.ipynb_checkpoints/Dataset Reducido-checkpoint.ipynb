{
 "cells": [
  {
   "cell_type": "code",
   "execution_count": 1,
   "id": "a4837191",
   "metadata": {},
   "outputs": [
    {
     "name": "stdout",
     "output_type": "stream",
     "text": [
      "Numpy:1.19.2\n",
      "Pandas:1.3.1\n",
      "Seaborn:0.11.1\n",
      "Open CV:4.0.1\n",
      "\n"
     ]
    }
   ],
   "source": [
    "import numpy as np\n",
    "import pandas as pd\n",
    "import matplotlib.pyplot as plt\n",
    "import seaborn as sns\n",
    "import cv2 as cv\n",
    "%matplotlib inline\n",
    "\n",
    "from os import listdir\n",
    "\n",
    "# Versiones de librerías\n",
    "print(\"\".join(f\"{x[0]}:{x[1]}\\n\" for x in [\n",
    "    (\"Numpy\",np.__version__),\n",
    "    (\"Pandas\",pd.__version__),\n",
    "    (\"Seaborn\",sns.__version__),\n",
    "    (\"Open CV\",cv.__version__)\n",
    "]))"
   ]
  },
  {
   "cell_type": "code",
   "execution_count": 2,
   "id": "ce515b87",
   "metadata": {},
   "outputs": [],
   "source": [
    "# Path dataset\n",
    "path_csv = r\"C:\\Users\\Agustin\\Documents\\RepositorioCEIA_Git\\VpC2_Datasets\\severstal-steel-defect-detection/train.csv\"\n",
    "path_img = r\"C:\\Users\\Agustin\\Documents\\RepositorioCEIA_Git\\VpC2_Datasets\\severstal-steel-defect-detection/train_images\"\n",
    "# Path dataset reducido\n",
    "csv_reducido = r\"C:\\Users\\Agustin\\Documents\\RepositorioCEIA_Git\\VpC2_Datasets\\severstal-steel-defect-detection/train_4sigmoid.csv\""
   ]
  },
  {
   "cell_type": "code",
   "execution_count": 3,
   "id": "c54e4927",
   "metadata": {},
   "outputs": [
    {
     "name": "stdout",
     "output_type": "stream",
     "text": [
      "Cantidad de imagenes: 12568\n"
     ]
    }
   ],
   "source": [
    "# Indice de ID img\n",
    "archivos = listdir(path_img)\n",
    "print(f\"Cantidad de imagenes: {len(archivos)}\")"
   ]
  },
  {
   "cell_type": "code",
   "execution_count": 4,
   "id": "955b1c2c",
   "metadata": {},
   "outputs": [],
   "source": [
    "# Lectura del csv\n",
    "train_csv = pd.read_csv(path_csv)"
   ]
  },
  {
   "cell_type": "code",
   "execution_count": 5,
   "id": "e478da57",
   "metadata": {},
   "outputs": [
    {
     "name": "stdout",
     "output_type": "stream",
     "text": [
      "Falla tipo 1: 897\n",
      "Falla tipo 2: 247\n",
      "Falla tipo 3: 5150\n",
      "Falla tipo 4: 801\n"
     ]
    }
   ],
   "source": [
    "print(f\"Falla tipo 1: {np.sum(train_csv.ClassId==1)}\")\n",
    "print(f\"Falla tipo 2: {np.sum(train_csv.ClassId==2)}\")\n",
    "print(f\"Falla tipo 3: {np.sum(train_csv.ClassId==3)}\")\n",
    "print(f\"Falla tipo 4: {np.sum(train_csv.ClassId==4)}\")"
   ]
  },
  {
   "cell_type": "code",
   "execution_count": 6,
   "id": "49bfc89b",
   "metadata": {},
   "outputs": [
    {
     "name": "stdout",
     "output_type": "stream",
     "text": [
      "<class 'pandas.core.frame.DataFrame'>\n",
      "RangeIndex: 7095 entries, 0 to 7094\n",
      "Data columns (total 3 columns):\n",
      " #   Column         Non-Null Count  Dtype \n",
      "---  ------         --------------  ----- \n",
      " 0   ImageId        7095 non-null   object\n",
      " 1   ClassId        7095 non-null   int64 \n",
      " 2   EncodedPixels  7095 non-null   object\n",
      "dtypes: int64(1), object(2)\n",
      "memory usage: 166.4+ KB\n"
     ]
    }
   ],
   "source": [
    "train_reducido = train_csv.copy()\n",
    "train_reducido.info()"
   ]
  },
  {
   "cell_type": "code",
   "execution_count": 7,
   "id": "1c56abae",
   "metadata": {},
   "outputs": [],
   "source": [
    "train_reducido = train_csv[train_csv['ClassId']!=3]"
   ]
  },
  {
   "cell_type": "code",
   "execution_count": 8,
   "id": "261b0e5d",
   "metadata": {},
   "outputs": [
    {
     "name": "stdout",
     "output_type": "stream",
     "text": [
      "<class 'pandas.core.frame.DataFrame'>\n",
      "Int64Index: 1945 entries, 0 to 7086\n",
      "Data columns (total 3 columns):\n",
      " #   Column         Non-Null Count  Dtype \n",
      "---  ------         --------------  ----- \n",
      " 0   ImageId        1945 non-null   object\n",
      " 1   ClassId        1945 non-null   int64 \n",
      " 2   EncodedPixels  1945 non-null   object\n",
      "dtypes: int64(1), object(2)\n",
      "memory usage: 60.8+ KB\n"
     ]
    }
   ],
   "source": [
    "train_reducido.info()"
   ]
  },
  {
   "cell_type": "code",
   "execution_count": 9,
   "id": "2601b104",
   "metadata": {},
   "outputs": [
    {
     "name": "stdout",
     "output_type": "stream",
     "text": [
      "<class 'pandas.core.frame.DataFrame'>\n",
      "Int64Index: 5150 entries, 1 to 7094\n",
      "Data columns (total 3 columns):\n",
      " #   Column         Non-Null Count  Dtype \n",
      "---  ------         --------------  ----- \n",
      " 0   ImageId        5150 non-null   object\n",
      " 1   ClassId        5150 non-null   int64 \n",
      " 2   EncodedPixels  5150 non-null   object\n",
      "dtypes: int64(1), object(2)\n",
      "memory usage: 160.9+ KB\n"
     ]
    }
   ],
   "source": [
    "type_3 = train_csv[train_csv['ClassId']==3]\n",
    "type_3.info()"
   ]
  },
  {
   "cell_type": "code",
   "execution_count": 10,
   "id": "c3a80194",
   "metadata": {},
   "outputs": [
    {
     "data": {
      "text/html": [
       "<div>\n",
       "<style scoped>\n",
       "    .dataframe tbody tr th:only-of-type {\n",
       "        vertical-align: middle;\n",
       "    }\n",
       "\n",
       "    .dataframe tbody tr th {\n",
       "        vertical-align: top;\n",
       "    }\n",
       "\n",
       "    .dataframe thead th {\n",
       "        text-align: right;\n",
       "    }\n",
       "</style>\n",
       "<table border=\"1\" class=\"dataframe\">\n",
       "  <thead>\n",
       "    <tr style=\"text-align: right;\">\n",
       "      <th></th>\n",
       "      <th>ImageId</th>\n",
       "      <th>ClassId</th>\n",
       "      <th>EncodedPixels</th>\n",
       "    </tr>\n",
       "  </thead>\n",
       "  <tbody>\n",
       "    <tr>\n",
       "      <th>1</th>\n",
       "      <td>0007a71bf.jpg</td>\n",
       "      <td>3</td>\n",
       "      <td>18661 28 18863 82 19091 110 19347 110 19603 11...</td>\n",
       "    </tr>\n",
       "    <tr>\n",
       "      <th>4</th>\n",
       "      <td>0014fce06.jpg</td>\n",
       "      <td>3</td>\n",
       "      <td>229501 11 229741 33 229981 55 230221 77 230468...</td>\n",
       "    </tr>\n",
       "    <tr>\n",
       "      <th>5</th>\n",
       "      <td>0025bde0c.jpg</td>\n",
       "      <td>3</td>\n",
       "      <td>8458 14 8707 35 8963 48 9219 71 9475 88 9731 8...</td>\n",
       "    </tr>\n",
       "    <tr>\n",
       "      <th>11</th>\n",
       "      <td>0046839bd.jpg</td>\n",
       "      <td>3</td>\n",
       "      <td>152926 1 153180 4 153434 6 153689 8 153943 11 ...</td>\n",
       "    </tr>\n",
       "    <tr>\n",
       "      <th>12</th>\n",
       "      <td>005d86c25.jpg</td>\n",
       "      <td>3</td>\n",
       "      <td>331 18 587 53 843 89 1099 124 1355 159 1611 17...</td>\n",
       "    </tr>\n",
       "    <tr>\n",
       "      <th>...</th>\n",
       "      <td>...</td>\n",
       "      <td>...</td>\n",
       "      <td>...</td>\n",
       "    </tr>\n",
       "    <tr>\n",
       "      <th>1259</th>\n",
       "      <td>2df1da5bd.jpg</td>\n",
       "      <td>3</td>\n",
       "      <td>241409 3328 244801 192 245185 64 277185 64 277...</td>\n",
       "    </tr>\n",
       "    <tr>\n",
       "      <th>1261</th>\n",
       "      <td>2e12e1c6a.jpg</td>\n",
       "      <td>3</td>\n",
       "      <td>279804 5 280057 8 280311 10 280565 12 280817 1...</td>\n",
       "    </tr>\n",
       "    <tr>\n",
       "      <th>1263</th>\n",
       "      <td>2e29001f1.jpg</td>\n",
       "      <td>3</td>\n",
       "      <td>126758 13 127014 39 127270 65 127526 78 127782...</td>\n",
       "    </tr>\n",
       "    <tr>\n",
       "      <th>1264</th>\n",
       "      <td>2e2f5467c.jpg</td>\n",
       "      <td>3</td>\n",
       "      <td>39937 43 40193 128 40449 213 40705 2048 42754 ...</td>\n",
       "    </tr>\n",
       "    <tr>\n",
       "      <th>1265</th>\n",
       "      <td>2e35ebe13.jpg</td>\n",
       "      <td>3</td>\n",
       "      <td>91379 6 91635 12 91890 13 92146 13 92401 14 92...</td>\n",
       "    </tr>\n",
       "  </tbody>\n",
       "</table>\n",
       "<p>900 rows × 3 columns</p>\n",
       "</div>"
      ],
      "text/plain": [
       "            ImageId  ClassId  \\\n",
       "1     0007a71bf.jpg        3   \n",
       "4     0014fce06.jpg        3   \n",
       "5     0025bde0c.jpg        3   \n",
       "11    0046839bd.jpg        3   \n",
       "12    005d86c25.jpg        3   \n",
       "...             ...      ...   \n",
       "1259  2df1da5bd.jpg        3   \n",
       "1261  2e12e1c6a.jpg        3   \n",
       "1263  2e29001f1.jpg        3   \n",
       "1264  2e2f5467c.jpg        3   \n",
       "1265  2e35ebe13.jpg        3   \n",
       "\n",
       "                                          EncodedPixels  \n",
       "1     18661 28 18863 82 19091 110 19347 110 19603 11...  \n",
       "4     229501 11 229741 33 229981 55 230221 77 230468...  \n",
       "5     8458 14 8707 35 8963 48 9219 71 9475 88 9731 8...  \n",
       "11    152926 1 153180 4 153434 6 153689 8 153943 11 ...  \n",
       "12    331 18 587 53 843 89 1099 124 1355 159 1611 17...  \n",
       "...                                                 ...  \n",
       "1259  241409 3328 244801 192 245185 64 277185 64 277...  \n",
       "1261  279804 5 280057 8 280311 10 280565 12 280817 1...  \n",
       "1263  126758 13 127014 39 127270 65 127526 78 127782...  \n",
       "1264  39937 43 40193 128 40449 213 40705 2048 42754 ...  \n",
       "1265  91379 6 91635 12 91890 13 92146 13 92401 14 92...  \n",
       "\n",
       "[900 rows x 3 columns]"
      ]
     },
     "execution_count": 10,
     "metadata": {},
     "output_type": "execute_result"
    }
   ],
   "source": [
    "type_3[:900]"
   ]
  },
  {
   "cell_type": "code",
   "execution_count": 11,
   "id": "6aebd204",
   "metadata": {},
   "outputs": [],
   "source": [
    "train_reducido = pd.concat([train_reducido, type_3[:900]])"
   ]
  },
  {
   "cell_type": "code",
   "execution_count": 12,
   "id": "21dfd15c",
   "metadata": {},
   "outputs": [
    {
     "name": "stdout",
     "output_type": "stream",
     "text": [
      "<class 'pandas.core.frame.DataFrame'>\n",
      "Int64Index: 2845 entries, 0 to 1265\n",
      "Data columns (total 3 columns):\n",
      " #   Column         Non-Null Count  Dtype \n",
      "---  ------         --------------  ----- \n",
      " 0   ImageId        2845 non-null   object\n",
      " 1   ClassId        2845 non-null   int64 \n",
      " 2   EncodedPixels  2845 non-null   object\n",
      "dtypes: int64(1), object(2)\n",
      "memory usage: 88.9+ KB\n"
     ]
    }
   ],
   "source": [
    "train_reducido.info()"
   ]
  },
  {
   "cell_type": "code",
   "execution_count": 13,
   "id": "dcbbad01",
   "metadata": {},
   "outputs": [],
   "source": [
    "train_reducido.to_csv(csv_reducido, index=False)"
   ]
  }
 ],
 "metadata": {
  "kernelspec": {
   "display_name": "Python 3",
   "language": "python",
   "name": "python3"
  },
  "language_info": {
   "codemirror_mode": {
    "name": "ipython",
    "version": 3
   },
   "file_extension": ".py",
   "mimetype": "text/x-python",
   "name": "python",
   "nbconvert_exporter": "python",
   "pygments_lexer": "ipython3",
   "version": "3.8.11"
  }
 },
 "nbformat": 4,
 "nbformat_minor": 5
}
