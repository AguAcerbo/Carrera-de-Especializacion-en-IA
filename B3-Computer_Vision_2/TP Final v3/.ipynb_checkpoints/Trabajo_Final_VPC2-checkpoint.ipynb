{
 "cells": [
  {
   "cell_type": "markdown",
   "id": "69dc9546",
   "metadata": {},
   "source": [
    "# Vision por Computadora II - Trabajo final\n",
    "\n",
    "<p style='text-align: justify;'>\n",
    "    El presente trabajo tiene como objetivo aplicar los conocimientos adquirido durante el cursado de \"Visión por Computadora II\" de la Carrera de Especialización en Inteligencia Artificial.Para ello se plantea obtener un algoritmo capaz de localizar y clasificar distintas fallas superficiales en laminas de acero.\n",
    "</p>\n",
    "\n",
    "<p style='text-align: justify;'>\n",
    "    El dataset se obtuvo de la competencia de Kaggle \"Severstal Steel Defect Detection\" (https://www.kaggle.com/c/severstal-steel-defect-detection/overview).\n",
    "</p>\n",
    "\n",
    "A continuación se realiza un analisis exploratorio inicial del dataset.\n"
   ]
  },
  {
   "cell_type": "markdown",
   "id": "7726d978",
   "metadata": {},
   "source": [
    "## Librerias utilizadas:"
   ]
  },
  {
   "cell_type": "code",
   "execution_count": 45,
   "id": "7fbd7755",
   "metadata": {},
   "outputs": [
    {
     "name": "stdout",
     "output_type": "stream",
     "text": [
      "Numpy:1.19.2\n",
      "Pandas:1.3.1\n",
      "Seaborn:0.11.1\n",
      "Open CV:4.0.1\n",
      "\n"
     ]
    }
   ],
   "source": [
    "import numpy as np\n",
    "import pandas as pd\n",
    "import matplotlib.pyplot as plt\n",
    "import seaborn as sns\n",
    "import cv2\n",
    "%matplotlib inline\n",
    "\n",
    "from os import listdir\n",
    "\n",
    "import os\n",
    "import csv\n",
    "import json\n",
    "import pickle as pkl\n",
    "from sklearn import model_selection\n",
    "import tensorflow as tf\n",
    "from tensorflow.keras import backend as K\n",
    "from tensorflow.keras.layers import Input, Conv2D, Conv2DTranspose, MaxPooling2D, concatenate, Dropout,BatchNormalization, Dense, Add, ReLU\n",
    "from tensorflow.keras import Model\n",
    "from tensorflow.keras.optimizers import Adam\n",
    "from tensorflow.keras.preprocessing.image import ImageDataGenerator\n",
    "from tensorflow.keras.callbacks import ModelCheckpoint, EarlyStopping,ReduceLROnPlateau\n",
    "from tensorflow.keras.losses import sparse_categorical_crossentropy\n",
    "from tensorflow.keras.losses import binary_crossentropy\n",
    "from tensorflow.keras.metrics import MeanIoU\n",
    "import random\n",
    "\n",
    "from keras.utils.vis_utils import plot_model\n",
    "\n",
    "\n",
    "# Versiones de librerías\n",
    "print(\"\".join(f\"{x[0]}:{x[1]}\\n\" for x in [\n",
    "    (\"Numpy\",np.__version__),\n",
    "    (\"Pandas\",pd.__version__),\n",
    "    (\"Seaborn\",sns.__version__),\n",
    "    (\"Open CV\",cv2.__version__)\n",
    "]))\n",
    "\n",
    "n_w = 1600\n",
    "n_h = 256"
   ]
  },
  {
   "cell_type": "markdown",
   "id": "b9210ff8",
   "metadata": {},
   "source": [
    "## Check TF GPU"
   ]
  },
  {
   "cell_type": "code",
   "execution_count": 2,
   "id": "aee7be32",
   "metadata": {},
   "outputs": [
    {
     "name": "stdout",
     "output_type": "stream",
     "text": [
      "Default GPU Device:/device:GPU:0\n"
     ]
    }
   ],
   "source": [
    "if tf.test.gpu_device_name(): \n",
    "    print('Default GPU Device:{}'.format(tf.test.gpu_device_name()))\n",
    "else:\n",
    "    print(\"Please install GPU version of TF\")"
   ]
  },
  {
   "cell_type": "code",
   "execution_count": 3,
   "id": "e868f06d",
   "metadata": {},
   "outputs": [],
   "source": [
    "physical_devices = tf.config.list_physical_devices('GPU')\n",
    "tf.config.experimental.set_memory_growth(physical_devices[0], enable=True)"
   ]
  },
  {
   "cell_type": "markdown",
   "id": "30d6a8b8",
   "metadata": {},
   "source": [
    "## 1. Análisis exploratorio inicial"
   ]
  },
  {
   "cell_type": "markdown",
   "id": "2c7e8b14",
   "metadata": {},
   "source": [
    "#### Path del dataset\n",
    "<p style='text-align: justify;'>\n",
    "    El dataset con el que trabajaremos esta compuesto una carpeta \"train_images\" que contiene las imagenes para el entrenamiento de nuestro algoritmo y un archivo \"train.csv\" que enlista las imagenes de la carpeta mencionada que contienen alguna falla. Este archivo detalla el ID de la falla y describe los pixeles donde se encuentra dicha falla.\n",
    "    </p>"
   ]
  },
  {
   "cell_type": "code",
   "execution_count": 4,
   "id": "4e07c68c",
   "metadata": {},
   "outputs": [],
   "source": [
    "csv_path = r\"C:\\Users\\Agustin\\Documents\\RepositorioCEIA_Git\\VpC2_Datasets\\severstal-steel-defect-detection/train.csv\"\n",
    "train_path = r\"C:\\Users\\Agustin\\Documents\\RepositorioCEIA_Git\\VpC2_Datasets\\severstal-steel-defect-detection/train_images/\""
   ]
  },
  {
   "cell_type": "markdown",
   "id": "a7b46443",
   "metadata": {},
   "source": [
    "### train_images"
   ]
  },
  {
   "cell_type": "markdown",
   "id": "378ed33c",
   "metadata": {},
   "source": [
    "#### Indice de imagenes\n",
    "\n",
    "<p style='text-align: justify;'>\n",
    "    En la variable \"archivos\" generamos un listado de nombres de todas las imagenes.\n",
    "    </p>"
   ]
  },
  {
   "cell_type": "code",
   "execution_count": 5,
   "id": "94593e11",
   "metadata": {},
   "outputs": [
    {
     "name": "stdout",
     "output_type": "stream",
     "text": [
      "Cantidad de imagenes: 12568\n"
     ]
    }
   ],
   "source": [
    "archivos = listdir(train_path)\n",
    "print(f\"Cantidad de imagenes: {len(archivos)}\")"
   ]
  },
  {
   "cell_type": "markdown",
   "id": "d2e7da9a",
   "metadata": {},
   "source": [
    "### train.csv"
   ]
  },
  {
   "cell_type": "markdown",
   "id": "e07a35fd",
   "metadata": {},
   "source": [
    "#### Lectura del archivo"
   ]
  },
  {
   "cell_type": "code",
   "execution_count": 6,
   "id": "599b6199",
   "metadata": {},
   "outputs": [],
   "source": [
    "train_csv = pd.read_csv(csv_path)"
   ]
  },
  {
   "cell_type": "markdown",
   "id": "50609f4b",
   "metadata": {},
   "source": [
    "#### Visualizacion de las primeras 5 filas del archivo\n",
    "\n",
    "<p style='text-align: justify;'>\n",
    "    A continuación podemos ver el archivos train.csv contiene una tabla de tres columnas. La primera de ellas contiene el ID de la imagen, la segunda el ID de la clase de falla y por ultimo se encuentran codificados los pixeles que forman parte de dicha falla.\n",
    "    </p>"
   ]
  },
  {
   "cell_type": "code",
   "execution_count": 7,
   "id": "247f67b9",
   "metadata": {},
   "outputs": [
    {
     "data": {
      "text/html": [
       "<div>\n",
       "<style scoped>\n",
       "    .dataframe tbody tr th:only-of-type {\n",
       "        vertical-align: middle;\n",
       "    }\n",
       "\n",
       "    .dataframe tbody tr th {\n",
       "        vertical-align: top;\n",
       "    }\n",
       "\n",
       "    .dataframe thead th {\n",
       "        text-align: right;\n",
       "    }\n",
       "</style>\n",
       "<table border=\"1\" class=\"dataframe\">\n",
       "  <thead>\n",
       "    <tr style=\"text-align: right;\">\n",
       "      <th></th>\n",
       "      <th>ImageId</th>\n",
       "      <th>ClassId</th>\n",
       "      <th>EncodedPixels</th>\n",
       "    </tr>\n",
       "  </thead>\n",
       "  <tbody>\n",
       "    <tr>\n",
       "      <th>0</th>\n",
       "      <td>0002cc93b.jpg</td>\n",
       "      <td>1</td>\n",
       "      <td>29102 12 29346 24 29602 24 29858 24 30114 24 3...</td>\n",
       "    </tr>\n",
       "    <tr>\n",
       "      <th>1</th>\n",
       "      <td>0007a71bf.jpg</td>\n",
       "      <td>3</td>\n",
       "      <td>18661 28 18863 82 19091 110 19347 110 19603 11...</td>\n",
       "    </tr>\n",
       "    <tr>\n",
       "      <th>2</th>\n",
       "      <td>000a4bcdd.jpg</td>\n",
       "      <td>1</td>\n",
       "      <td>37607 3 37858 8 38108 14 38359 20 38610 25 388...</td>\n",
       "    </tr>\n",
       "    <tr>\n",
       "      <th>3</th>\n",
       "      <td>000f6bf48.jpg</td>\n",
       "      <td>4</td>\n",
       "      <td>131973 1 132228 4 132483 6 132738 8 132993 11 ...</td>\n",
       "    </tr>\n",
       "    <tr>\n",
       "      <th>4</th>\n",
       "      <td>0014fce06.jpg</td>\n",
       "      <td>3</td>\n",
       "      <td>229501 11 229741 33 229981 55 230221 77 230468...</td>\n",
       "    </tr>\n",
       "  </tbody>\n",
       "</table>\n",
       "</div>"
      ],
      "text/plain": [
       "         ImageId  ClassId                                      EncodedPixels\n",
       "0  0002cc93b.jpg        1  29102 12 29346 24 29602 24 29858 24 30114 24 3...\n",
       "1  0007a71bf.jpg        3  18661 28 18863 82 19091 110 19347 110 19603 11...\n",
       "2  000a4bcdd.jpg        1  37607 3 37858 8 38108 14 38359 20 38610 25 388...\n",
       "3  000f6bf48.jpg        4  131973 1 132228 4 132483 6 132738 8 132993 11 ...\n",
       "4  0014fce06.jpg        3  229501 11 229741 33 229981 55 230221 77 230468..."
      ]
     },
     "execution_count": 7,
     "metadata": {},
     "output_type": "execute_result"
    }
   ],
   "source": [
    "train_csv.head()"
   ]
  },
  {
   "cell_type": "markdown",
   "id": "a8138aa5",
   "metadata": {},
   "source": [
    "#### Analisis de las etiquetas\n",
    "\n",
    "<p style='text-align: justify;'>\n",
    "    Como mencionamos anteriormente nuestro dataset contiene 3 columnas, a través del comando DataFrame.info() de la libreria Pandas, vemos que tenemos 7095 etiquetas. Esto quiere decir que tenemos 7095 fallas etiquetadas en las 12568 imagenes que tenemos. Realizando un análisis más profundo podemos ver las fallas etiquetadas se encuentran repartidas en 6666 imagenes de nuestro dataset.\n",
    "    </p>"
   ]
  },
  {
   "cell_type": "code",
   "execution_count": 8,
   "id": "b58fb181",
   "metadata": {},
   "outputs": [
    {
     "name": "stdout",
     "output_type": "stream",
     "text": [
      "<class 'pandas.core.frame.DataFrame'>\n",
      "RangeIndex: 7095 entries, 0 to 7094\n",
      "Data columns (total 3 columns):\n",
      " #   Column         Non-Null Count  Dtype \n",
      "---  ------         --------------  ----- \n",
      " 0   ImageId        7095 non-null   object\n",
      " 1   ClassId        7095 non-null   int64 \n",
      " 2   EncodedPixels  7095 non-null   object\n",
      "dtypes: int64(1), object(2)\n",
      "memory usage: 166.4+ KB\n"
     ]
    }
   ],
   "source": [
    "train_csv.info()"
   ]
  },
  {
   "cell_type": "code",
   "execution_count": 9,
   "id": "3e907d8a",
   "metadata": {},
   "outputs": [
    {
     "name": "stdout",
     "output_type": "stream",
     "text": [
      "Imagenes con fallas: 6666\n",
      "Clases de fallas: 4\n",
      "Fallas etiquetadas: 7095\n"
     ]
    }
   ],
   "source": [
    "print(f\"Imagenes con fallas: {len(np.unique(train_csv.ImageId))}\")\n",
    "print(f\"Clases de fallas: {len(np.unique(train_csv.ClassId))}\")\n",
    "print(f\"Fallas etiquetadas: {len(train_csv.ImageId)}\")"
   ]
  },
  {
   "cell_type": "markdown",
   "id": "55bbf71e",
   "metadata": {},
   "source": [
    "<p style='text-align: justify;'>\n",
    "    Se crea el Data Frame \"fallas\" que contiene dos columans, una de ellas contendra el ID de las imagenes y la otra la cantidad de fallas que se detectaron en dicha imagen, con el objetivo de obtener el detalle de cuantas images contiene distintas cantidades de fallas.\n",
    "    </p>"
   ]
  },
  {
   "cell_type": "code",
   "execution_count": 10,
   "id": "d57855ff",
   "metadata": {
    "scrolled": true
   },
   "outputs": [
    {
     "name": "stdout",
     "output_type": "stream",
     "text": [
      "<class 'pandas.core.frame.DataFrame'>\n",
      "Int64Index: 12568 entries, 0 to 12567\n",
      "Data columns (total 2 columns):\n",
      " #   Column              Non-Null Count  Dtype \n",
      "---  ------              --------------  ----- \n",
      " 0   ImageId             12568 non-null  object\n",
      " 1   Cantidad de Fallas  12568 non-null  object\n",
      "dtypes: object(2)\n",
      "memory usage: 294.6+ KB\n"
     ]
    }
   ],
   "source": [
    "fallas = pd.DataFrame(columns = ['ImageId', 'Cantidad de Fallas'])\n",
    "i=0\n",
    "for arch in archivos:\n",
    "    fallas.loc[i] = [arch] + [len(list(train_csv[train_csv.eq(arch).any(1)].ImageId))]\n",
    "    i += 1\n",
    "\n",
    "fallas.info()"
   ]
  },
  {
   "cell_type": "code",
   "execution_count": 11,
   "id": "1c97a91f",
   "metadata": {},
   "outputs": [
    {
     "data": {
      "text/plain": [
       "10803    db4867ee8.jpg\n",
       "11776    ef24da2ba.jpg\n",
       "Name: ImageId, dtype: object"
      ]
     },
     "execution_count": 11,
     "metadata": {},
     "output_type": "execute_result"
    }
   ],
   "source": [
    "# Se buscan aquellas imagenes que poseen 3 fallas\n",
    "fallas[fallas.eq(3).any(1)].ImageId"
   ]
  },
  {
   "cell_type": "code",
   "execution_count": 12,
   "id": "8f9b2fda",
   "metadata": {
    "scrolled": true
   },
   "outputs": [
    {
     "data": {
      "text/html": [
       "<div>\n",
       "<style scoped>\n",
       "    .dataframe tbody tr th:only-of-type {\n",
       "        vertical-align: middle;\n",
       "    }\n",
       "\n",
       "    .dataframe tbody tr th {\n",
       "        vertical-align: top;\n",
       "    }\n",
       "\n",
       "    .dataframe thead th {\n",
       "        text-align: right;\n",
       "    }\n",
       "</style>\n",
       "<table border=\"1\" class=\"dataframe\">\n",
       "  <thead>\n",
       "    <tr style=\"text-align: right;\">\n",
       "      <th></th>\n",
       "      <th>ImageId</th>\n",
       "      <th>Cantidad de Fallas</th>\n",
       "    </tr>\n",
       "  </thead>\n",
       "  <tbody>\n",
       "    <tr>\n",
       "      <th>0</th>\n",
       "      <td>0002cc93b.jpg</td>\n",
       "      <td>1</td>\n",
       "    </tr>\n",
       "    <tr>\n",
       "      <th>1</th>\n",
       "      <td>00031f466.jpg</td>\n",
       "      <td>0</td>\n",
       "    </tr>\n",
       "    <tr>\n",
       "      <th>2</th>\n",
       "      <td>000418bfc.jpg</td>\n",
       "      <td>0</td>\n",
       "    </tr>\n",
       "    <tr>\n",
       "      <th>3</th>\n",
       "      <td>000789191.jpg</td>\n",
       "      <td>0</td>\n",
       "    </tr>\n",
       "    <tr>\n",
       "      <th>4</th>\n",
       "      <td>0007a71bf.jpg</td>\n",
       "      <td>1</td>\n",
       "    </tr>\n",
       "  </tbody>\n",
       "</table>\n",
       "</div>"
      ],
      "text/plain": [
       "         ImageId Cantidad de Fallas\n",
       "0  0002cc93b.jpg                  1\n",
       "1  00031f466.jpg                  0\n",
       "2  000418bfc.jpg                  0\n",
       "3  000789191.jpg                  0\n",
       "4  0007a71bf.jpg                  1"
      ]
     },
     "execution_count": 12,
     "metadata": {},
     "output_type": "execute_result"
    }
   ],
   "source": [
    "fallas.head()"
   ]
  },
  {
   "cell_type": "code",
   "execution_count": 13,
   "id": "df9e2856",
   "metadata": {
    "scrolled": false
   },
   "outputs": [
    {
     "name": "stdout",
     "output_type": "stream",
     "text": [
      "Cantidades por Fallas:\n",
      "Imagenes con 0 fallas: 5902 -> 46.96053469127944%\n",
      "Imagenes con 1 fallas: 6239 -> 49.64194780394653%\n",
      "Imagenes con 2 fallas: 425 -> 3.3816040738383197%\n",
      "Imagenes con 3 fallas: 2 -> 0.015913430935709738%\n"
     ]
    },
    {
     "data": {
      "image/png": "[encoded data removed]",
      "text/plain": [
       "<Figure size 1080x360 with 1 Axes>"
      ]
     },
     "metadata": {
      "needs_background": "light"
     },
     "output_type": "display_data"
    }
   ],
   "source": [
    "fig,axes = plt.subplots(1,1,figsize=(15,5))\n",
    "sns.countplot(x='Cantidad de Fallas', data=fallas)\n",
    "\n",
    "print(\"Cantidades por Fallas:\")\n",
    "for i in range(fallas['Cantidad de Fallas'].nunique()):\n",
    "    print(f\"Imagenes con {i} fallas: {np.sum(fallas['Cantidad de Fallas'] == i)} -> {np.sum(fallas['Cantidad de Fallas'] == i)*100/fallas['Cantidad de Fallas'].count()}%\")"
   ]
  },
  {
   "cell_type": "markdown",
   "id": "3bff5748",
   "metadata": {},
   "source": [
    "<p style='text-align: justify;'>\n",
    "    Finalmente, se analiza el balance de los ID de fallas que tenemos en el dataset. Vemos un claro desbalance  debido a una gran cantidad de fallas de la falla de tipo 3 en comparación con el resto de los tipos.\n",
    "    </p>"
   ]
  },
  {
   "cell_type": "code",
   "execution_count": 14,
   "id": "f9d8f74c",
   "metadata": {},
   "outputs": [
    {
     "name": "stdout",
     "output_type": "stream",
     "text": [
      "Falla tipo 1: 897\n",
      "Falla tipo 2: 247\n",
      "Falla tipo 3: 5150\n",
      "Falla tipo 4: 801\n"
     ]
    }
   ],
   "source": [
    "print(f\"Falla tipo 1: {np.sum(train_csv.ClassId==1)}\")\n",
    "print(f\"Falla tipo 2: {np.sum(train_csv.ClassId==2)}\")\n",
    "print(f\"Falla tipo 3: {np.sum(train_csv.ClassId==3)}\")\n",
    "print(f\"Falla tipo 4: {np.sum(train_csv.ClassId==4)}\")"
   ]
  },
  {
   "cell_type": "code",
   "execution_count": 15,
   "id": "683193e4",
   "metadata": {
    "scrolled": false
   },
   "outputs": [
    {
     "data": {
      "text/plain": [
       "<AxesSubplot:xlabel='ClassId', ylabel='count'>"
      ]
     },
     "execution_count": 15,
     "metadata": {},
     "output_type": "execute_result"
    },
    {
     "data": {
      "image/png": "[encoded data removed]",
      "text/plain": [
       "<Figure size 1080x360 with 1 Axes>"
      ]
     },
     "metadata": {
      "needs_background": "light"
     },
     "output_type": "display_data"
    }
   ],
   "source": [
    "fig,axes = plt.subplots(1,1,figsize=(15,5))\n",
    "sns.countplot(x='ClassId', data=train_csv)"
   ]
  },
  {
   "cell_type": "markdown",
   "id": "c0f189f3",
   "metadata": {},
   "source": [
    "### Conclusiones\n",
    "\n",
    "<p style='text-align: justify;'>\n",
    "    En resumen, se tiene un dataset con 12568 imagenes, donde el 53% de ellas (6666 imagenes) poseen una o más fallas. Estas fallas se pueden clasificar en 4 según el ID de su etiqueta.\n",
    "    \n",
    "Por otro lado, en estas 6666 imagenes se encuentran etiquetadas 7095 fallas con un claro desbalance dado que el 73% de las fallas son de tipo 3.\n",
    "    \n",
    "En el desarrollo de nuestro algoritmo debemos tener en cuenta este desbalance entre los tipos de fallas, que hay imagenes con\n",
    "    </p>"
   ]
  },
  {
   "cell_type": "markdown",
   "id": "13f532c2",
   "metadata": {},
   "source": [
    "#### Visualización de imagenes\n",
    "\n",
    "<p style='text-align: justify;'>\n",
    "    Se muestran las primeras 5 imagenes del archivo train.csv:\n",
    "    </p>"
   ]
  },
  {
   "cell_type": "code",
   "execution_count": 16,
   "id": "0d9f9c56",
   "metadata": {},
   "outputs": [
    {
     "name": "stdout",
     "output_type": "stream",
     "text": [
      "ID de la imagen: 0002cc93b.jpg\n",
      "Tamaño de la imagen: (256, 1600, 3)\n"
     ]
    },
    {
     "data": {
      "image/png": "[encoded data removed]",
      "text/plain": [
       "<Figure size 432x288 with 1 Axes>"
      ]
     },
     "metadata": {
      "needs_background": "light"
     },
     "output_type": "display_data"
    },
    {
     "name": "stdout",
     "output_type": "stream",
     "text": [
      "ID de la imagen: 0007a71bf.jpg\n",
      "Tamaño de la imagen: (256, 1600, 3)\n"
     ]
    },
    {
     "data": {
      "image/png": "[encoded data removed]",
      "text/plain": [
       "<Figure size 432x288 with 1 Axes>"
      ]
     },
     "metadata": {
      "needs_background": "light"
     },
     "output_type": "display_data"
    },
    {
     "name": "stdout",
     "output_type": "stream",
     "text": [
      "ID de la imagen: 000a4bcdd.jpg\n",
      "Tamaño de la imagen: (256, 1600, 3)\n"
     ]
    },
    {
     "data": {
      "image/png": "[encoded data removed]",
      "text/plain": [
       "<Figure size 432x288 with 1 Axes>"
      ]
     },
     "metadata": {
      "needs_background": "light"
     },
     "output_type": "display_data"
    },
    {
     "name": "stdout",
     "output_type": "stream",
     "text": [
      "ID de la imagen: 000f6bf48.jpg\n",
      "Tamaño de la imagen: (256, 1600, 3)\n"
     ]
    },
    {
     "data": {
      "image/png": "[encoded data removed]",
      "text/plain": [
       "<Figure size 432x288 with 1 Axes>"
      ]
     },
     "metadata": {
      "needs_background": "light"
     },
     "output_type": "display_data"
    },
    {
     "name": "stdout",
     "output_type": "stream",
     "text": [
      "ID de la imagen: 0014fce06.jpg\n",
      "Tamaño de la imagen: (256, 1600, 3)\n"
     ]
    },
    {
     "data": {
      "image/png": "[encoded data removed]",
      "text/plain": [
       "<Figure size 432x288 with 1 Axes>"
      ]
     },
     "metadata": {
      "needs_background": "light"
     },
     "output_type": "display_data"
    },
    {
     "name": "stdout",
     "output_type": "stream",
     "text": [
      "ID de la imagen: 0025bde0c.jpg\n",
      "Tamaño de la imagen: (256, 1600, 3)\n"
     ]
    },
    {
     "data": {
      "image/png": "[encoded data removed]",
      "text/plain": [
       "<Figure size 432x288 with 1 Axes>"
      ]
     },
     "metadata": {
      "needs_background": "light"
     },
     "output_type": "display_data"
    }
   ],
   "source": [
    "i = 0\n",
    "for imgid in train_csv.ImageId:\n",
    "    print(f\"ID de la imagen: {imgid}\")\n",
    "    img = cv2.imread(train_path + '/' + imgid)\n",
    "    imgRGB = cv2.cvtColor(img,cv2.COLOR_BGR2RGB)\n",
    "    print(f\"Tamaño de la imagen: {img.shape}\")\n",
    "    plt.imshow(imgRGB)\n",
    "    plt.show()\n",
    "    i+=1\n",
    "    if i > 5:\n",
    "        break"
   ]
  },
  {
   "cell_type": "markdown",
   "id": "d6876f8a",
   "metadata": {},
   "source": [
    "## Ingenieria de Features\n",
    "<p style='text-align: justify;'>\n",
    "     Para el entrenamiento del algoritmo se comenzó con la creacion de un dataset que contuviera todas las muestras con fallas y un cierto numero de muestras sin defectos.\n",
    "</p>"
   ]
  },
  {
   "cell_type": "markdown",
   "id": "86fc041c",
   "metadata": {},
   "source": [
    "### Creación del dataset\n",
    "<p style='text-align: justify;'>\n",
    "     En las variables 'defective_img' y 'nondefective_img' guardamos los nombres de los archivos de imagenes con fallas etiquetadas y sin fallas respectivamente.\n",
    "</p>"
   ]
  },
  {
   "cell_type": "code",
   "execution_count": 17,
   "id": "316963a5",
   "metadata": {},
   "outputs": [
    {
     "name": "stdout",
     "output_type": "stream",
     "text": [
      "Muestras con fallas etiquetadas: 6666\n",
      "Muestras sin fallas etiquetadas: 5902\n"
     ]
    }
   ],
   "source": [
    "defective_csv = pd.read_csv(csv_path)\n",
    "defective_img = [value for value in listdir(train_path) if value in list(defective_csv['ImageId'])]\n",
    "nondefective_img = [value for value in listdir(train_path) if value not in list(defective_csv['ImageId'])]\n",
    "\n",
    "print(f\"Muestras con fallas etiquetadas: {len(defective_img)}\")\n",
    "print(f\"Muestras sin fallas etiquetadas: {len(nondefective_img)}\")"
   ]
  },
  {
   "cell_type": "markdown",
   "id": "f59a32e9",
   "metadata": {},
   "source": [
    "<p style='text-align: justify;'>\n",
    "    Con estas dos variables creamos el dataset con todas las imagenes con fallas etiquetadas y adicionamos 666 de imagenes sin falla.\n",
    "</p>"
   ]
  },
  {
   "cell_type": "code",
   "execution_count": 18,
   "id": "7d114215",
   "metadata": {},
   "outputs": [
    {
     "name": "stdout",
     "output_type": "stream",
     "text": [
      "Cantidad de imagenes en nuestro dataset: 7331\n"
     ]
    }
   ],
   "source": [
    "idx_aux= np.random.permutation(len(nondefective_img))[0: int(len(defective_img)*0.1)-1]\n",
    "dataset_img = defective_img + [nondefective_img[value] for value in idx_aux]\n",
    "\n",
    "print(f'Cantidad de imagenes en nuestro dataset: {len(dataset_img)}')"
   ]
  },
  {
   "cell_type": "markdown",
   "id": "5371eb9d",
   "metadata": {},
   "source": [
    "### Separación en Train, Test y Validation"
   ]
  },
  {
   "cell_type": "code",
   "execution_count": 19,
   "id": "30c5011a",
   "metadata": {},
   "outputs": [],
   "source": [
    "x_train, x_test = model_selection.train_test_split( dataset_img, test_size=0.1, random_state=5)\n",
    "x_train, x_valid = model_selection.train_test_split( x_train, test_size=0.1, random_state=5)"
   ]
  },
  {
   "cell_type": "markdown",
   "id": "7214d588",
   "metadata": {},
   "source": [
    "### Decodificación de región de falla y creación de máscara"
   ]
  },
  {
   "cell_type": "markdown",
   "id": "7a249f41",
   "metadata": {},
   "source": [
    "<p style='text-align: justify;'>\n",
    "    La siguiente función 'decode_pixels' recibe una lista que contiene la codificación de los pixeles donde se encuentra la falla en determinada imagen y devuelve el listado de pixeles que deben ser incluido en la máscara para identificar la posicion de la falla. Esta información es extraida del archivo train.csv de la columna 'EncodedPixels'. La información en custión esta codificada de modo que consiste en una serie de números separados por espacio, y su significado se va alternando en pixel y cantidad de pixel sucesivos que formarán parte de la máscara. Por ejemplo si la función resibe \"1 3 10 5\", implica que que los pixeles 1, 2, 3, 10, 11, 12, 13, 14 deben estar incluidos en la máscara. \n",
    "</p>"
   ]
  },
  {
   "cell_type": "code",
   "execution_count": 20,
   "id": "ee0888ff",
   "metadata": {},
   "outputs": [],
   "source": [
    "def decode_pixels(pixels_str):\n",
    "    \"\"\"\n",
    "    This function receives a list which contains the pixels as a space-separated code.\n",
    "    For example, '1 3 10 5' implies pixels 1, 2, 3, 10, 11, 12, 13, 14 are to be included in the mask\n",
    "    \"\"\"\n",
    "    \n",
    "    pixels_encoded_list = pixels_str.split(' ')\n",
    "    pixels_list = []\n",
    "    for i in range(0, len(pixels_encoded_list), 2):\n",
    "        # Add to the pixels list all the pixels encoded by the 2 digits\n",
    "        pixels_list += range(\n",
    "            int(pixels_encoded_list[i]) - 1,\n",
    "            int(pixels_encoded_list[i]) + int(pixels_encoded_list[i + 1]) - 1,\n",
    "        )\n",
    "        \n",
    "    # Return the decoded list    \n",
    "    return pixels_list"
   ]
  },
  {
   "cell_type": "markdown",
   "id": "c5f6bc5d",
   "metadata": {},
   "source": [
    "<p style='text-align: justify;'>\n",
    "    La función 'make_mask' que se muestra a continuación se diseño para obtener las máscaras de las imágenes que se utilizarán en el entrenamiento de los modelos. Esta función recibe el id de una imagen y la variable n_class.\n",
    "    \n",
    "Si n_class=1 entonces se crea una máscara que contiene todas las fallas de la imagen sin importar que sean de distinto tipo.\n",
    "    \n",
    "Si n_class=4 entonces se genera una máscara para cada tipo de falla devolviendo asi un arreglo de 4 máscaras, una por tipo de falla.\n",
    "</p>"
   ]
  },
  {
   "cell_type": "code",
   "execution_count": 21,
   "id": "cf1453e6",
   "metadata": {},
   "outputs": [],
   "source": [
    "def make_mask(ImageId, n_class=1):\n",
    "    \"\"\"\n",
    "    This function create the mask(s) to train the CNN models. It receives the ImageId and the number of classes to analyse.\n",
    "    \n",
    "    If the n_class is 1, it creates a mask for the image where all the failures in the image w\n",
    "    \n",
    "    \"\"\"\n",
    "    y_out=defective_csv[defective_csv['ImageId'].eq(ImageId)]\n",
    "    \n",
    "    image_pixels = np.zeros((n_h, n_w,n_class), dtype=np.float32)\n",
    "\n",
    "    for index, row in y_out.iterrows():\n",
    "\n",
    "        # Generate the mask of the error type\n",
    "        mask = np.zeros((n_h * n_w, 1), dtype=np.float32)\n",
    "        mask[decode_pixels(row['EncodedPixels'])] = 1\n",
    "        mask = mask.reshape(n_w, n_h)\n",
    "        mask = mask.T\n",
    "    \n",
    "        # Update channel of the given error\n",
    "        if n_class == 1:\n",
    "            image_pixels [:,:,0] = np.logical_or(image_pixels [:,:,0],mask)\n",
    "        else:\n",
    "            image_pixels [:,:,int(row['ClassId'])-1] = np.logical_or(image_pixels [:,:,int(row['ClassId'])-1],mask)\n",
    "            \n",
    "    return image_pixels"
   ]
  },
  {
   "cell_type": "markdown",
   "id": "92078fa6",
   "metadata": {},
   "source": [
    "### Funciones de Data Augmentation\n",
    "\n",
    "<p style='text-align: justify;'>\n",
    "    Para la aplicación de data augmentation se crearon tres funciones flip, rotate y shift que afectan a las imagenes como expresan su nombre. La función flip voltea la imagen y su máscara ya se horizontal y/o verticalmente segun sean sus argumentos. La función rotate rota la imagen y su máscara un determinado ángulo y tiene la posibilidad de reescalarla. Por último, la funcion shift la desplaza de manera horizontal y/o verticalmente según sus argumentos.\n",
    "</p>"
   ]
  },
  {
   "cell_type": "code",
   "execution_count": 22,
   "id": "64442f56",
   "metadata": {},
   "outputs": [],
   "source": [
    "def flip(image, mask , vflip=False, hflip=False):\n",
    "    '''\n",
    "    Flip the image\n",
    "    :param image: image to be processed\n",
    "    :param vflip: whether to flip the image vertically\n",
    "    :param hflip: whether to flip the image horizontally\n",
    "    '''\n",
    "    if hflip or vflip:\n",
    "        if hflip and vflip:\n",
    "            c = -1\n",
    "        else:\n",
    "            c = 0 if vflip else 1\n",
    "        image = cv2.flip(image, flipCode=c)\n",
    "        mask = cv2.flip(mask, flipCode=c)\n",
    "    return image, mask\n",
    "\n",
    "def rotate(image, mask, angle=90, scale=1.0):\n",
    "    '''\n",
    "    Rotate the image\n",
    "    :param image: image to be processed\n",
    "    :param angle: Rotation angle in degrees. Positive values mean counter-clockwise rotation (the coordinate origin is assumed to be the top-left corner).\n",
    "    :param scale: Isotropic scale factor.\n",
    "    '''\n",
    "    w = image.shape[1]\n",
    "    h = image.shape[0]\n",
    "    #rotate matrix\n",
    "    M = cv2.getRotationMatrix2D((w/2,h/2), angle, scale)\n",
    "    #rotate\n",
    "    image = cv2.warpAffine(image,M,(w,h))\n",
    "    mask = cv2.warpAffine(mask,M,(w,h))\n",
    "    return image, mask\n",
    "    \n",
    "def shift(image, mask, px, py):\n",
    "    w = image.shape[1]\n",
    "    h = image.shape[0]\n",
    "    \n",
    "    img = np.zeros((h,w))\n",
    "    m = np.zeros((h,w))   \n",
    "    \n",
    "    if (py > 0) and (px > 0):\n",
    "        img[py:, px:] = image[:-py, :-px]\n",
    "        m[py:, px:] = mask[:-py, :-px]\n",
    "    elif (py < 0) and (px < 0):\n",
    "        img[:py, :px] = image[-py:, -px:]\n",
    "        m[:py, :px] = mask[-py:, -px:]\n",
    "    elif (py > 0) and (px < 0):\n",
    "        img[py:, :px] = image[:-py, -px:]\n",
    "        m[py:, :px] = mask[:-py, -px:]\n",
    "    elif (py < 0) and (px > 0):\n",
    "        img[:py, px:] = image[-py:, :-px]\n",
    "        m[:py, px:] = mask[-py:, :-px]\n",
    "    \n",
    "    return img, m"
   ]
  },
  {
   "cell_type": "markdown",
   "id": "cc389e89",
   "metadata": {},
   "source": [
    "## Data generator"
   ]
  },
  {
   "cell_type": "code",
   "execution_count": 23,
   "id": "8549e313",
   "metadata": {},
   "outputs": [],
   "source": [
    "def data_generator(ids, batch_size, n_class = 4):\n",
    "    Xs = []; ys = []\n",
    "    \n",
    "    while True:\n",
    "        i = 0\n",
    "        random.shuffle(ids)\n",
    "        aug_shift = np.random.randint(2, size=len(ids))\n",
    "        aug_rot = np.random.randint(2, size=len(ids))\n",
    "        aug_flip = np.random.randint(2, size=len(ids))\n",
    "        for id in ids:\n",
    "            img = cv2.imread(train_path + id)\n",
    "            img = cv2.cvtColor(img,cv2.COLOR_BGR2GRAY)\n",
    "            img = img / 255.\n",
    "            \n",
    "            mask = make_mask(id,n_class=4)\n",
    "            \n",
    "            img=cv2.resize(img, (int(img.shape[1]/2),int(img.shape[0]/2)))\n",
    "            mask=cv2.resize(mask, (int(mask.shape[1]/2),int(mask.shape[0]/2)))\n",
    "            \n",
    "            #if aug_shift[i] == 1:\n",
    "            #    img, mask = shift(img, mask,\n",
    "            #                      px=np.random.randint(low = -int(img.shape[1]/10),high = int(img.shape[1]/10)),\n",
    "            #                      py=np.random.randint(low = -int(img.shape[0]/10),high = int(img.shape[0]/10))\n",
    "            #                     )\n",
    "            #if aug_rot[i] == 1:\n",
    "            #    img, mask = rotate(img, mask, angle=np.random.randint(-10,10), scale=1.0 + (random.randint(0,20)/10) )\n",
    "            #if aug_flip[i] == 1:\n",
    "            #    img, mask = flip(img, mask, vflip=True, hflip=False)\n",
    "            #mask = (mask > 0.2) * 1.0\n",
    "            #\n",
    "            #i+=1\n",
    "            \n",
    "            Xs.append(img); ys.append(mask)\n",
    "            if len(Xs) == batch_size:\n",
    "                X = np.array(Xs); y = np.array(ys)\n",
    "                Xs = []; ys = []\n",
    "                yield (X, y)"
   ]
  },
  {
   "cell_type": "markdown",
   "id": "e01105f0",
   "metadata": {},
   "source": [
    "## Metricas Utiles"
   ]
  },
  {
   "cell_type": "code",
   "execution_count": 24,
   "id": "7958c15a",
   "metadata": {},
   "outputs": [],
   "source": [
    "smooth = 1\n",
    "def dice_coef(y_true, y_pred):\n",
    "    y_true_f = K.flatten(y_true)\n",
    "    y_pred_f = K.flatten(y_pred)\n",
    "    intersection = K.sum(y_true_f * y_pred_f)\n",
    "    return (2. * intersection + smooth) / (K.sum(y_true_f) + K.sum(y_pred_f) + smooth)\n",
    "\n",
    "def dice_coef_multilabel(y_true, y_pred, numLabels=4):\n",
    "    dice=0\n",
    "    for index in range(numLabels):\n",
    "        dice -= dice_coef(y_true[:,:,index], y_pred[:,:,index])\n",
    "    return dice\n",
    "\n",
    "def dice_coef_nd(y_true, y_pred):\n",
    "    y_true_f = y_true.flatten()\n",
    "    y_pred_f = y_pred.flatten()\n",
    "    intersection = np.sum(y_true_f * y_pred_f)\n",
    "    return 2.*intersection, (np.sum(y_true_f)+np.sum(y_pred_f))\n",
    "\n",
    "def dice_loss(y_true,y_pred):\n",
    "    return (1 - dice_coef(y_true,y_pred))\n",
    "\n",
    "def bce_dice_loss(y_true, y_pred):\n",
    "    loss = binary_crossentropy(y_true, y_pred) + dice_loss(y_true, y_pred)\n",
    "    return loss\n",
    "\n",
    "def tversky(y_true, y_pred, smooth=1, alpha=0.7):\n",
    "    y_true_pos = K.flatten(y_true)\n",
    "    y_pred_pos = K.flatten(y_pred)\n",
    "    true_pos = K.sum(y_true_pos * y_pred_pos)\n",
    "    false_neg = K.sum(y_true_pos * (1 - y_pred_pos))\n",
    "    false_pos = K.sum((1 - y_true_pos) * y_pred_pos)\n",
    "    return (1 - ((true_pos + smooth) / (true_pos + alpha * false_neg + (1 - alpha) * false_pos + smooth)))\n",
    "\n",
    "def iou_coef(y_true, y_pred, smooth=1):\n",
    "    intersection = K.sum(K.abs(y_true * y_pred))\n",
    "    union = K.sum(y_true)+K.sum(y_pred)-intersection\n",
    "    iou = K.mean((intersection + smooth) / (union + smooth))\n",
    "    return iou.numpy()"
   ]
  },
  {
   "cell_type": "markdown",
   "id": "ce4ec08f",
   "metadata": {},
   "source": [
    "## xxx. Creación de dataset balanceado en tipos de fallas\n",
    "\n",
    "<p style='text-align: justify;'>\n",
    "    En el entrenamiento del algoritmo nos encontramos con grandes errores al reconocer fallas del tipo 1, 2 y 4, lo cual lo adjudicamos al desbalance entre los distintos tipos de falla. Dado la gran cantidad de muestras con fallas de tipo 3 los pesos aprendidos se vieron sesgados por dicho desbalance.\n",
    "    \n",
    "Para subsanar esta problematica se decidió crear un dataset más balanceado.\n",
    "</p>"
   ]
  },
  {
   "cell_type": "code",
   "execution_count": 25,
   "id": "9e5b6c6b",
   "metadata": {},
   "outputs": [],
   "source": [
    "# Path dataset reducido\n",
    "csv_reducido = r\"C:\\Users\\Agustin\\Documents\\RepositorioCEIA_Git\\VpC2_Datasets\\severstal-steel-defect-detection/train_reducido.csv\""
   ]
  },
  {
   "cell_type": "markdown",
   "id": "e76a28bc",
   "metadata": {},
   "source": [
    "<p style='text-align: justify;'>\n",
    "    Como ya hemos mencionado el dataset cuenta con 897 etiquetas de la falla tipo 1, 247 etiquetas de la falla tipo 2, 5150 etiquetas de la falla tipo 3 y finalmente 801 etiquetas de falla de tipo 4. Nuestro objetivo aqui será crear a partir de este set de entrenamiento uno más pequeño con un numero más balanceado, para ello quitaremos muestras del tipo 3. Como contrapartida obtendremos un set más pequeño.\n",
    "</p>"
   ]
  },
  {
   "cell_type": "markdown",
   "id": "e91fc5ce",
   "metadata": {},
   "source": [
    "<p style='text-align: justify;'>\n",
    "    Creamos una copia del dataset original quitando todas aquellas muestras que sean de falla tipo 3.\n",
    "</p>"
   ]
  },
  {
   "cell_type": "code",
   "execution_count": 26,
   "id": "76f3426e",
   "metadata": {},
   "outputs": [
    {
     "name": "stdout",
     "output_type": "stream",
     "text": [
      "<class 'pandas.core.frame.DataFrame'>\n",
      "Int64Index: 1945 entries, 0 to 7086\n",
      "Data columns (total 3 columns):\n",
      " #   Column         Non-Null Count  Dtype \n",
      "---  ------         --------------  ----- \n",
      " 0   ImageId        1945 non-null   object\n",
      " 1   ClassId        1945 non-null   int64 \n",
      " 2   EncodedPixels  1945 non-null   object\n",
      "dtypes: int64(1), object(2)\n",
      "memory usage: 60.8+ KB\n"
     ]
    }
   ],
   "source": [
    "train_reducido = train_csv[train_csv['ClassId']!=3].copy()\n",
    "train_reducido.info()"
   ]
  },
  {
   "cell_type": "markdown",
   "id": "18256d97",
   "metadata": {},
   "source": [
    "<p style='text-align: justify;'>\n",
    "    Creamos una copia del dataset original solo con las fallas tipo 3.\n",
    "</p>"
   ]
  },
  {
   "cell_type": "code",
   "execution_count": 27,
   "id": "583d202c",
   "metadata": {},
   "outputs": [
    {
     "name": "stdout",
     "output_type": "stream",
     "text": [
      "<class 'pandas.core.frame.DataFrame'>\n",
      "Int64Index: 5150 entries, 1 to 7094\n",
      "Data columns (total 3 columns):\n",
      " #   Column         Non-Null Count  Dtype \n",
      "---  ------         --------------  ----- \n",
      " 0   ImageId        5150 non-null   object\n",
      " 1   ClassId        5150 non-null   int64 \n",
      " 2   EncodedPixels  5150 non-null   object\n",
      "dtypes: int64(1), object(2)\n",
      "memory usage: 160.9+ KB\n"
     ]
    }
   ],
   "source": [
    "type_3 = train_csv[train_csv['ClassId']==3].copy()\n",
    "type_3.info()"
   ]
  },
  {
   "cell_type": "markdown",
   "id": "e89cb148",
   "metadata": {},
   "source": [
    "<p style='text-align: justify;'>\n",
    "    A continuación concatenamos al dataset 'train_reducido' 900 muestras con fallas de tipo 3:\n",
    "</p>"
   ]
  },
  {
   "cell_type": "code",
   "execution_count": 28,
   "id": "a321c41e",
   "metadata": {},
   "outputs": [
    {
     "name": "stdout",
     "output_type": "stream",
     "text": [
      "<class 'pandas.core.frame.DataFrame'>\n",
      "Int64Index: 2845 entries, 0 to 1265\n",
      "Data columns (total 3 columns):\n",
      " #   Column         Non-Null Count  Dtype \n",
      "---  ------         --------------  ----- \n",
      " 0   ImageId        2845 non-null   object\n",
      " 1   ClassId        2845 non-null   int64 \n",
      " 2   EncodedPixels  2845 non-null   object\n",
      "dtypes: int64(1), object(2)\n",
      "memory usage: 88.9+ KB\n"
     ]
    }
   ],
   "source": [
    "train_reducido = pd.concat([train_reducido, type_3[:900]])\n",
    "train_reducido.info()"
   ]
  },
  {
   "cell_type": "markdown",
   "id": "d87592fa",
   "metadata": {},
   "source": [
    "<p style='text-align: justify;'>\n",
    "    Finalmente guardamos el dataset reducido en formato .csv\n",
    "</p>"
   ]
  },
  {
   "cell_type": "code",
   "execution_count": 29,
   "id": "090bb0ae",
   "metadata": {},
   "outputs": [],
   "source": [
    "train_reducido.to_csv(csv_reducido, index=False)"
   ]
  },
  {
   "cell_type": "markdown",
   "id": "01ebbda7",
   "metadata": {},
   "source": [
    "# Modelos"
   ]
  },
  {
   "cell_type": "markdown",
   "id": "8e60fd26",
   "metadata": {},
   "source": [
    "## Modelo 1: U-Net con una salida\n",
    "<p style='text-align: justify;'>\n",
    "    Dado que el problema es de segmentación, nos pareció que una arquitectura que podría tener buenos resultados es la U-Net. Es por eso que el primer modelo que entrenamos fue de ese tipo, con una salida sigmóidea, de modo que clasificara falla contra fondo.\n",
    "\n",
    "Clasificar de esta manera nos daría una idea de si la arquitectura sirve, y al mismo tiempo comenzaríamos con un problema de dos clases con un buen balance. Si el modelo fallara en este caso, ya sabríamos que no tendría sentido usarlo para el problema de classificar los distintos tipos de falla.\n",
    "    </p>"
   ]
  },
  {
   "cell_type": "code",
   "execution_count": 30,
   "id": "5b593564",
   "metadata": {},
   "outputs": [],
   "source": [
    "def build_unet(input_layer, start_neurons):\n",
    "    conv1 = Conv2D(start_neurons * 1, (3, 3), activation=\"relu\", padding=\"same\")(input_layer)\n",
    "    conv1 = Conv2D(start_neurons * 1, (3, 3), activation=\"relu\", padding=\"same\")(conv1)\n",
    "    pool1 = MaxPooling2D((2, 2))(conv1)\n",
    "    pool1 = Dropout(0.25)(pool1)\n",
    "\n",
    "    conv2 = Conv2D(start_neurons * 2, (3, 3), activation=\"relu\", padding=\"same\")(pool1)\n",
    "    conv2 = Conv2D(start_neurons * 2, (3, 3), activation=\"relu\", padding=\"same\")(conv2)\n",
    "    pool2 = MaxPooling2D((2, 2))(conv2)\n",
    "    pool2 = Dropout(0.5)(pool2)\n",
    "\n",
    "    conv3 = Conv2D(start_neurons * 4, (3, 3), activation=\"relu\", padding=\"same\")(pool2)\n",
    "    conv3 = Conv2D(start_neurons * 4, (3, 3), activation=\"relu\", padding=\"same\")(conv3)\n",
    "    pool3 = MaxPooling2D((2, 2))(conv3)\n",
    "    pool3 = Dropout(0.5)(pool3)\n",
    "\n",
    "    conv4 = Conv2D(start_neurons * 8, (3, 3), activation=\"relu\", padding=\"same\")(pool3)\n",
    "    conv4 = Conv2D(start_neurons * 8, (3, 3), activation=\"relu\", padding=\"same\")(conv4)\n",
    "    pool4 = MaxPooling2D((2, 2))(conv4)\n",
    "    pool4 = Dropout(0.5)(pool4)\n",
    "\n",
    "    # Mitad\n",
    "    convm = Conv2D(start_neurons * 16, (3, 3), activation=\"relu\", padding=\"same\")(pool4)\n",
    "    convm = Conv2D(start_neurons * 16, (3, 3), activation=\"relu\", padding=\"same\")(convm)\n",
    "    \n",
    "    deconv4 = Conv2DTranspose(start_neurons * 8, (3, 3), strides=(2, 2), padding=\"same\")(convm)\n",
    "    uconv4 = concatenate([deconv4, conv4])\n",
    "    uconv4 = Dropout(0.5)(uconv4)\n",
    "    uconv4 = Conv2D(start_neurons * 8, (3, 3), activation=\"relu\", padding=\"same\")(uconv4)\n",
    "    uconv4 = Conv2D(start_neurons * 8, (3, 3), activation=\"relu\", padding=\"same\")(uconv4)\n",
    "\n",
    "    deconv3 = Conv2DTranspose(start_neurons * 4, (3, 3), strides=(2, 2), padding=\"same\")(uconv4)\n",
    "    uconv3 = concatenate([deconv3, conv3])\n",
    "    uconv3 = Dropout(0.5)(uconv3)\n",
    "    uconv3 = Conv2D(start_neurons * 4, (3, 3), activation=\"relu\", padding=\"same\")(uconv3)\n",
    "    uconv3 = Conv2D(start_neurons * 4, (3, 3), activation=\"relu\", padding=\"same\")(uconv3)\n",
    "\n",
    "    deconv2 = Conv2DTranspose(start_neurons * 2, (3, 3), strides=(2, 2), padding=\"same\")(uconv3)\n",
    "    uconv2 = concatenate([deconv2, conv2])\n",
    "    uconv2 = Dropout(0.5)(uconv2)\n",
    "    uconv2 = Conv2D(start_neurons * 2, (3, 3), activation=\"relu\", padding=\"same\")(uconv2)\n",
    "    uconv2 = Conv2D(start_neurons * 2, (3, 3), activation=\"relu\", padding=\"same\")(uconv2)\n",
    "\n",
    "    deconv1 = Conv2DTranspose(start_neurons * 1, (3, 3), strides=(2, 2), padding=\"same\")(uconv2)\n",
    "    uconv1 = concatenate([deconv1, conv1])\n",
    "    uconv1 = Dropout(0.5)(uconv1)\n",
    "    uconv1 = Conv2D(start_neurons * 1, (3, 3), activation=\"relu\", padding=\"same\")(uconv1)\n",
    "    uconv1 = Conv2D(start_neurons * 1, (3, 3), activation=\"relu\", padding=\"same\")(uconv1)\n",
    "    \n",
    "    output_layer = Conv2D(1, (1,1), padding=\"same\", activation=\"sigmoid\")(uconv1)\n",
    "    \n",
    "    return output_layer\n",
    "\n",
    "input_unet = Input((1600, 256, 3))\n",
    "output_unet = build_unet(input_unet, 16)\n"
   ]
  },
  {
   "cell_type": "code",
   "execution_count": 31,
   "id": "f0022713",
   "metadata": {},
   "outputs": [],
   "source": [
    "model_unet = Model(input_unet, output_unet)"
   ]
  },
  {
   "cell_type": "code",
   "execution_count": 32,
   "id": "3d582834",
   "metadata": {},
   "outputs": [
    {
     "name": "stdout",
     "output_type": "stream",
     "text": [
      "Model: \"functional_1\"\n",
      "__________________________________________________________________________________________________\n",
      "Layer (type)                    Output Shape         Param #     Connected to                     \n",
      "==================================================================================================\n",
      "input_1 (InputLayer)            [(None, 1600, 256, 3 0                                            \n",
      "__________________________________________________________________________________________________\n",
      "conv2d (Conv2D)                 (None, 1600, 256, 16 448         input_1[0][0]                    \n",
      "__________________________________________________________________________________________________\n",
      "conv2d_1 (Conv2D)               (None, 1600, 256, 16 2320        conv2d[0][0]                     \n",
      "__________________________________________________________________________________________________\n",
      "max_pooling2d (MaxPooling2D)    (None, 800, 128, 16) 0           conv2d_1[0][0]                   \n",
      "__________________________________________________________________________________________________\n",
      "dropout (Dropout)               (None, 800, 128, 16) 0           max_pooling2d[0][0]              \n",
      "__________________________________________________________________________________________________\n",
      "conv2d_2 (Conv2D)               (None, 800, 128, 32) 4640        dropout[0][0]                    \n",
      "__________________________________________________________________________________________________\n",
      "conv2d_3 (Conv2D)               (None, 800, 128, 32) 9248        conv2d_2[0][0]                   \n",
      "__________________________________________________________________________________________________\n",
      "max_pooling2d_1 (MaxPooling2D)  (None, 400, 64, 32)  0           conv2d_3[0][0]                   \n",
      "__________________________________________________________________________________________________\n",
      "dropout_1 (Dropout)             (None, 400, 64, 32)  0           max_pooling2d_1[0][0]            \n",
      "__________________________________________________________________________________________________\n",
      "conv2d_4 (Conv2D)               (None, 400, 64, 64)  18496       dropout_1[0][0]                  \n",
      "__________________________________________________________________________________________________\n",
      "conv2d_5 (Conv2D)               (None, 400, 64, 64)  36928       conv2d_4[0][0]                   \n",
      "__________________________________________________________________________________________________\n",
      "max_pooling2d_2 (MaxPooling2D)  (None, 200, 32, 64)  0           conv2d_5[0][0]                   \n",
      "__________________________________________________________________________________________________\n",
      "dropout_2 (Dropout)             (None, 200, 32, 64)  0           max_pooling2d_2[0][0]            \n",
      "__________________________________________________________________________________________________\n",
      "conv2d_6 (Conv2D)               (None, 200, 32, 128) 73856       dropout_2[0][0]                  \n",
      "__________________________________________________________________________________________________\n",
      "conv2d_7 (Conv2D)               (None, 200, 32, 128) 147584      conv2d_6[0][0]                   \n",
      "__________________________________________________________________________________________________\n",
      "max_pooling2d_3 (MaxPooling2D)  (None, 100, 16, 128) 0           conv2d_7[0][0]                   \n",
      "__________________________________________________________________________________________________\n",
      "dropout_3 (Dropout)             (None, 100, 16, 128) 0           max_pooling2d_3[0][0]            \n",
      "__________________________________________________________________________________________________\n",
      "conv2d_8 (Conv2D)               (None, 100, 16, 256) 295168      dropout_3[0][0]                  \n",
      "__________________________________________________________________________________________________\n",
      "conv2d_9 (Conv2D)               (None, 100, 16, 256) 590080      conv2d_8[0][0]                   \n",
      "__________________________________________________________________________________________________\n",
      "conv2d_transpose (Conv2DTranspo (None, 200, 32, 128) 295040      conv2d_9[0][0]                   \n",
      "__________________________________________________________________________________________________\n",
      "concatenate (Concatenate)       (None, 200, 32, 256) 0           conv2d_transpose[0][0]           \n",
      "                                                                 conv2d_7[0][0]                   \n",
      "__________________________________________________________________________________________________\n",
      "dropout_4 (Dropout)             (None, 200, 32, 256) 0           concatenate[0][0]                \n",
      "__________________________________________________________________________________________________\n",
      "conv2d_10 (Conv2D)              (None, 200, 32, 128) 295040      dropout_4[0][0]                  \n",
      "__________________________________________________________________________________________________\n",
      "conv2d_11 (Conv2D)              (None, 200, 32, 128) 147584      conv2d_10[0][0]                  \n",
      "__________________________________________________________________________________________________\n",
      "conv2d_transpose_1 (Conv2DTrans (None, 400, 64, 64)  73792       conv2d_11[0][0]                  \n",
      "__________________________________________________________________________________________________\n",
      "concatenate_1 (Concatenate)     (None, 400, 64, 128) 0           conv2d_transpose_1[0][0]         \n",
      "                                                                 conv2d_5[0][0]                   \n",
      "__________________________________________________________________________________________________\n",
      "dropout_5 (Dropout)             (None, 400, 64, 128) 0           concatenate_1[0][0]              \n",
      "__________________________________________________________________________________________________\n",
      "conv2d_12 (Conv2D)              (None, 400, 64, 64)  73792       dropout_5[0][0]                  \n",
      "__________________________________________________________________________________________________\n",
      "conv2d_13 (Conv2D)              (None, 400, 64, 64)  36928       conv2d_12[0][0]                  \n",
      "__________________________________________________________________________________________________\n",
      "conv2d_transpose_2 (Conv2DTrans (None, 800, 128, 32) 18464       conv2d_13[0][0]                  \n",
      "__________________________________________________________________________________________________\n",
      "concatenate_2 (Concatenate)     (None, 800, 128, 64) 0           conv2d_transpose_2[0][0]         \n",
      "                                                                 conv2d_3[0][0]                   \n",
      "__________________________________________________________________________________________________\n",
      "dropout_6 (Dropout)             (None, 800, 128, 64) 0           concatenate_2[0][0]              \n",
      "__________________________________________________________________________________________________\n",
      "conv2d_14 (Conv2D)              (None, 800, 128, 32) 18464       dropout_6[0][0]                  \n",
      "__________________________________________________________________________________________________\n",
      "conv2d_15 (Conv2D)              (None, 800, 128, 32) 9248        conv2d_14[0][0]                  \n",
      "__________________________________________________________________________________________________\n",
      "conv2d_transpose_3 (Conv2DTrans (None, 1600, 256, 16 4624        conv2d_15[0][0]                  \n",
      "__________________________________________________________________________________________________\n",
      "concatenate_3 (Concatenate)     (None, 1600, 256, 32 0           conv2d_transpose_3[0][0]         \n",
      "                                                                 conv2d_1[0][0]                   \n",
      "__________________________________________________________________________________________________\n",
      "dropout_7 (Dropout)             (None, 1600, 256, 32 0           concatenate_3[0][0]              \n",
      "__________________________________________________________________________________________________\n",
      "conv2d_16 (Conv2D)              (None, 1600, 256, 16 4624        dropout_7[0][0]                  \n",
      "__________________________________________________________________________________________________\n",
      "conv2d_17 (Conv2D)              (None, 1600, 256, 16 2320        conv2d_16[0][0]                  \n",
      "__________________________________________________________________________________________________\n",
      "conv2d_18 (Conv2D)              (None, 1600, 256, 1) 17          conv2d_17[0][0]                  \n",
      "==================================================================================================\n",
      "Total params: 2,158,705\n",
      "Trainable params: 2,158,705\n",
      "Non-trainable params: 0\n",
      "__________________________________________________________________________________________________\n"
     ]
    }
   ],
   "source": [
    "model_unet.compile(loss=\"SparseCategoricalCrossentropy\", optimizer=\"adam\", metrics=[\"accuracy\"])\n",
    "model_unet.summary()"
   ]
  },
  {
   "cell_type": "raw",
   "id": "7fdcab6c",
   "metadata": {},
   "source": [
    "model_unet.load_weights('./weights/Unet/model_pre_v3')"
   ]
  },
  {
   "cell_type": "code",
   "execution_count": 46,
   "id": "19bb9094",
   "metadata": {},
   "outputs": [
    {
     "name": "stdout",
     "output_type": "stream",
     "text": [
      "('Failed to import pydot. You must `pip install pydot` and install graphviz (https://graphviz.gitlab.io/download/), ', 'for `pydotprint` to work.')\n"
     ]
    }
   ],
   "source": [
    "plot_model(model_unet, show_shapes=True, show_layer_names=False)"
   ]
  },
  {
   "cell_type": "markdown",
   "id": "c931d0d8",
   "metadata": {},
   "source": [
    "## Model 2: ResUnet - Inception"
   ]
  },
  {
   "cell_type": "code",
   "execution_count": 34,
   "id": "ea6a1dd9",
   "metadata": {},
   "outputs": [],
   "source": [
    "def inception_block(prevlayer, a, b):\n",
    "    \n",
    "    conva = Conv2D(a, (1, 1), activation='relu', padding='same')(prevlayer)\n",
    "    conva = Conv2D(b, (3, 3), activation=None, padding='same')(conva)\n",
    "    conva = BatchNormalization()(conva)\n",
    "    conva = ReLU()(conva)\n",
    "    \n",
    "    convb = Conv2D(a, (1, 1), activation='relu', padding='same')(prevlayer)\n",
    "    convb = Conv2D(b, (5, 5), activation=None, padding='same')(convb)\n",
    "    convb = BatchNormalization()(convb)\n",
    "    convb = ReLU()(convb)\n",
    "\n",
    "    convc = Conv2D(b, (1, 1), activation=None, padding='same')(prevlayer)\n",
    "    convc = BatchNormalization()(convc)\n",
    "    convc = ReLU()(convc)\n",
    "        \n",
    "    convd = MaxPooling2D(pool_size=(3, 3), strides=(1,1), padding= 'same')(prevlayer)\n",
    "    convd = Conv2D(b, (1, 1), activation=None, padding='same')(convd)\n",
    "    convd = BatchNormalization()(convd)\n",
    "    convd = ReLU()(convd)\n",
    "        \n",
    "    up = concatenate([conva, convb, convc, convd])\n",
    "    return up"
   ]
  },
  {
   "cell_type": "code",
   "execution_count": 35,
   "id": "1f44932c",
   "metadata": {},
   "outputs": [],
   "source": [
    "def residual_block (input_layer, neurons):\n",
    "    \n",
    "    conv1 = Conv2D(neurons , (5, 5), activation=None, padding=\"same\",kernel_initializer='he_normal')(input_layer)\n",
    "    conv1 = BatchNormalization()(conv1)\n",
    "    conv1 = ReLU()(conv1)\n",
    "    conv1 = Conv2D(neurons, (5, 5), activation=None, padding=\"same\",kernel_initializer='he_normal')(conv1)\n",
    "    conv1 = BatchNormalization()(conv1)\n",
    "    conv1 = ReLU()(conv1)\n",
    "    conv1 = Conv2D(neurons, (5, 5), activation=None, padding=\"same\",kernel_initializer='he_normal')(conv1)\n",
    "    conv1 = BatchNormalization()(conv1)\n",
    "    \n",
    "    conv1_skip = Conv2D(neurons, 1, 1, activation=None, padding=\"same\",kernel_initializer='he_normal')(input_layer)\n",
    "    conv1_skip = BatchNormalization()(conv1_skip)\n",
    "    \n",
    "    added1 = Add()([conv1_skip, conv1])\n",
    "    relu1 = ReLU()(added1)\n",
    "    \n",
    "    return relu1"
   ]
  },
  {
   "cell_type": "code",
   "execution_count": 37,
   "id": "bd7b3b32",
   "metadata": {},
   "outputs": [],
   "source": [
    "def build_resunet(input_layer, start_neurons):\n",
    "    \n",
    "    conv1 = residual_block(input_layer,start_neurons * 1)\n",
    "    conv1 = residual_block(conv1,start_neurons * 1)\n",
    "    pool1 = MaxPooling2D((2, 2))(conv1)\n",
    "    #pool1 = Dropout(0.25)(pool1)\n",
    "\n",
    "    conv2 = residual_block(pool1,start_neurons * 2)\n",
    "    conv2 = residual_block(conv2,start_neurons * 2)\n",
    "    pool2 = MaxPooling2D((2, 2))(conv2)\n",
    "    #pool2 = Dropout(0.5)(pool2)\n",
    "\n",
    "    conv3 = residual_block(pool2,start_neurons * 4)\n",
    "    conv3 = residual_block(conv3,start_neurons * 4)\n",
    "    pool3 = MaxPooling2D((2, 2))(conv3)\n",
    "    #pool3 = Dropout(0.5)(pool3)\n",
    "\n",
    "    conv4 = residual_block(pool3,start_neurons * 8)\n",
    "    conv4 = residual_block(conv4,start_neurons * 8)\n",
    "    pool4 = MaxPooling2D((2, 2))(conv4)\n",
    "    #pool4 = Dropout(0.5)(pool4)\n",
    "\n",
    "    # Mitad\n",
    "    convm = inception_block (pool4, start_neurons * 4, start_neurons * 4)\n",
    "    convm = inception_block (convm, start_neurons * 4, start_neurons * 4)\n",
    "    convm = inception_block (convm, start_neurons * 4, start_neurons * 4)\n",
    "    convm = inception_block (convm, start_neurons * 4, start_neurons * 4)\n",
    "\n",
    "    deconv4 = Conv2DTranspose(start_neurons * 8, (5, 5), strides=(2, 2), padding=\"same\",kernel_initializer='he_normal')(convm)\n",
    "    uconv4 = concatenate([deconv4, conv4])\n",
    "    #uconv4 = Dropout(0.5)(uconv4)\n",
    "    uconv4 = residual_block(uconv4,start_neurons * 8)\n",
    "    uconv4 = residual_block(uconv4,start_neurons * 8)\n",
    "\n",
    "    deconv3 = Conv2DTranspose(start_neurons * 4, (5, 5), strides=(2, 2), padding=\"same\",kernel_initializer='he_normal')(uconv4)\n",
    "    uconv3 = concatenate([deconv3, conv3])\n",
    "    #uconv3 = Dropout(0.5)(uconv3)\n",
    "    uconv3 = residual_block(uconv3,start_neurons * 4)\n",
    "    uconv3 = residual_block(uconv3,start_neurons * 4)\n",
    "\n",
    "    deconv2 = Conv2DTranspose(start_neurons * 2, (5, 5), strides=(2, 2), padding=\"same\",kernel_initializer='he_normal')(uconv3)\n",
    "    uconv2 = concatenate([deconv2, conv2])\n",
    "    #uconv2 = Dropout(0.5)(uconv2)\n",
    "    uconv2 = residual_block(uconv2,start_neurons * 2)\n",
    "    uconv2 = residual_block(uconv2,start_neurons * 2)\n",
    "\n",
    "    deconv1 = Conv2DTranspose(start_neurons * 1, (5, 5), strides=(2, 2), padding=\"same\",kernel_initializer='he_normal')(uconv2)\n",
    "    uconv1 = concatenate([deconv1, conv1])\n",
    "    #uconv1 = Dropout(0.5)(uconv1)\n",
    "    uconv1 = residual_block(uconv1,start_neurons * 1)\n",
    "    uconv1 = residual_block(uconv1,start_neurons * 1)\n",
    "    \n",
    "    output_layer = Conv2D(1, (1,1), padding=\"same\", activation=\"sigmoid\",kernel_initializer='he_normal')(uconv1)\n",
    "    \n",
    "    return output_layer\n",
    "\n",
    "input_resunet = Input((128, 800, 1))\n",
    "output_resunet = build_resunet(input_resunet, 8)\n",
    "\n",
    "model_resunet = Model(input_resunet, output_resunet)"
   ]
  },
  {
   "cell_type": "code",
   "execution_count": 38,
   "id": "3138b8f3",
   "metadata": {},
   "outputs": [
    {
     "data": {
      "text/plain": [
       "<tensorflow.python.training.tracking.util.CheckpointLoadStatus at 0x2c6d2d8cdf0>"
      ]
     },
     "execution_count": 38,
     "metadata": {},
     "output_type": "execute_result"
    }
   ],
   "source": [
    "model_resunet.load_weights('./weights/resUnetInceptionV5/resUnetInceptionV5')"
   ]
  },
  {
   "cell_type": "markdown",
   "id": "aa283626",
   "metadata": {},
   "source": [
    "## Model 3: ResUnet - Inception with 4 sigmoid to detect presence or not of each class independently"
   ]
  },
  {
   "cell_type": "code",
   "execution_count": 39,
   "id": "a57c6c69",
   "metadata": {},
   "outputs": [],
   "source": [
    "def build_resunet_multiclass(input_layer, start_neurons):\n",
    "    \n",
    "    uconv1 = residual_block(input_layer,start_neurons * 1)\n",
    "    uconv1 = residual_block(uconv1,start_neurons * 1)\n",
    "    output_layer1 = Conv2D(1, (1,1), padding=\"same\", activation=\"sigmoid\",kernel_initializer='he_normal')(uconv1)\n",
    "    \n",
    "    uconv2 = residual_block(input_layer,start_neurons * 1)\n",
    "    uconv2 = residual_block(uconv2,start_neurons * 1)\n",
    "    output_layer2 = Conv2D(1, (1,1), padding=\"same\", activation=\"sigmoid\",kernel_initializer='he_normal')(uconv2)\n",
    "    \n",
    "    uconv3 = residual_block(input_layer,start_neurons * 1)\n",
    "    uconv3 = residual_block(uconv3,start_neurons * 1)\n",
    "    output_layer3 = Conv2D(1, (1,1), padding=\"same\", activation=\"sigmoid\",kernel_initializer='he_normal')(uconv3)\n",
    "    \n",
    "    uconv4 = residual_block(input_layer,start_neurons * 1)\n",
    "    uconv4 = residual_block(uconv4,start_neurons * 1)\n",
    "    output_layer4 = Conv2D(1, (1,1), padding=\"same\", activation=\"sigmoid\",kernel_initializer='he_normal')(uconv4)\n",
    "    \n",
    "    uconvf = concatenate([output_layer1, output_layer2, output_layer3, output_layer4])\n",
    "    \n",
    "    return uconvf\n",
    "\n",
    "output_resunet_multiclass = build_resunet_multiclass(model_resunet.layers[-4].output,4)\n",
    "\n",
    "model_resunet_multiclass = Model(model_resunet.layers[0].input, output_resunet_multiclass)"
   ]
  },
  {
   "cell_type": "code",
   "execution_count": 40,
   "id": "a6db0a3c",
   "metadata": {},
   "outputs": [
    {
     "data": {
      "text/plain": [
       "<tensorflow.python.training.tracking.util.CheckpointLoadStatus at 0x2c68f5357c0>"
      ]
     },
     "execution_count": 40,
     "metadata": {},
     "output_type": "execute_result"
    }
   ],
   "source": [
    "model_resunet_multiclass.load_weights('./weights/resUnetInception4Sigmoid_vFinal/resUnetInception4Sigmoid_vFinal')"
   ]
  },
  {
   "cell_type": "code",
   "execution_count": 41,
   "id": "1ecf5dd0",
   "metadata": {},
   "outputs": [],
   "source": [
    "optimizer = Adam()\n",
    "#model_resunet_multiclass.compile(loss=tversky, optimizer=optimizer, metrics=[dice_coef])\n",
    "#model_resunet_multiclass.compile(loss='binary_crossentropy', optimizer=optimizer, metrics=[dice_coef])\n",
    "model_resunet_multiclass.compile(optimizer, dice_loss, metrics=[dice_coef])"
   ]
  },
  {
   "cell_type": "code",
   "execution_count": 42,
   "id": "c56fdc03",
   "metadata": {},
   "outputs": [
    {
     "name": "stdout",
     "output_type": "stream",
     "text": [
      "Model: \"functional_5\"\n",
      "__________________________________________________________________________________________________\n",
      "Layer (type)                    Output Shape         Param #     Connected to                     \n",
      "==================================================================================================\n",
      "input_3 (InputLayer)            [(None, 128, 800, 1) 0                                            \n",
      "__________________________________________________________________________________________________\n",
      "conv2d_19 (Conv2D)              (None, 128, 800, 8)  208         input_3[0][0]                    \n",
      "__________________________________________________________________________________________________\n",
      "batch_normalization (BatchNorma (None, 128, 800, 8)  32          conv2d_19[0][0]                  \n",
      "__________________________________________________________________________________________________\n",
      "re_lu (ReLU)                    (None, 128, 800, 8)  0           batch_normalization[0][0]        \n",
      "__________________________________________________________________________________________________\n",
      "conv2d_20 (Conv2D)              (None, 128, 800, 8)  1608        re_lu[0][0]                      \n",
      "__________________________________________________________________________________________________\n",
      "batch_normalization_1 (BatchNor (None, 128, 800, 8)  32          conv2d_20[0][0]                  \n",
      "__________________________________________________________________________________________________\n",
      "re_lu_1 (ReLU)                  (None, 128, 800, 8)  0           batch_normalization_1[0][0]      \n",
      "__________________________________________________________________________________________________\n",
      "conv2d_22 (Conv2D)              (None, 128, 800, 8)  16          input_3[0][0]                    \n",
      "__________________________________________________________________________________________________\n",
      "conv2d_21 (Conv2D)              (None, 128, 800, 8)  1608        re_lu_1[0][0]                    \n",
      "__________________________________________________________________________________________________\n",
      "batch_normalization_3 (BatchNor (None, 128, 800, 8)  32          conv2d_22[0][0]                  \n",
      "__________________________________________________________________________________________________\n",
      "batch_normalization_2 (BatchNor (None, 128, 800, 8)  32          conv2d_21[0][0]                  \n",
      "__________________________________________________________________________________________________\n",
      "add (Add)                       (None, 128, 800, 8)  0           batch_normalization_3[0][0]      \n",
      "                                                                 batch_normalization_2[0][0]      \n",
      "__________________________________________________________________________________________________\n",
      "re_lu_2 (ReLU)                  (None, 128, 800, 8)  0           add[0][0]                        \n",
      "__________________________________________________________________________________________________\n",
      "conv2d_23 (Conv2D)              (None, 128, 800, 8)  1608        re_lu_2[0][0]                    \n",
      "__________________________________________________________________________________________________\n",
      "batch_normalization_4 (BatchNor (None, 128, 800, 8)  32          conv2d_23[0][0]                  \n",
      "__________________________________________________________________________________________________\n",
      "re_lu_3 (ReLU)                  (None, 128, 800, 8)  0           batch_normalization_4[0][0]      \n",
      "__________________________________________________________________________________________________\n",
      "conv2d_24 (Conv2D)              (None, 128, 800, 8)  1608        re_lu_3[0][0]                    \n",
      "__________________________________________________________________________________________________\n",
      "batch_normalization_5 (BatchNor (None, 128, 800, 8)  32          conv2d_24[0][0]                  \n",
      "__________________________________________________________________________________________________\n",
      "re_lu_4 (ReLU)                  (None, 128, 800, 8)  0           batch_normalization_5[0][0]      \n",
      "__________________________________________________________________________________________________\n",
      "conv2d_26 (Conv2D)              (None, 128, 800, 8)  72          re_lu_2[0][0]                    \n",
      "__________________________________________________________________________________________________\n",
      "conv2d_25 (Conv2D)              (None, 128, 800, 8)  1608        re_lu_4[0][0]                    \n",
      "__________________________________________________________________________________________________\n",
      "batch_normalization_7 (BatchNor (None, 128, 800, 8)  32          conv2d_26[0][0]                  \n",
      "__________________________________________________________________________________________________\n",
      "batch_normalization_6 (BatchNor (None, 128, 800, 8)  32          conv2d_25[0][0]                  \n",
      "__________________________________________________________________________________________________\n",
      "add_1 (Add)                     (None, 128, 800, 8)  0           batch_normalization_7[0][0]      \n",
      "                                                                 batch_normalization_6[0][0]      \n",
      "__________________________________________________________________________________________________\n",
      "re_lu_5 (ReLU)                  (None, 128, 800, 8)  0           add_1[0][0]                      \n",
      "__________________________________________________________________________________________________\n",
      "max_pooling2d_4 (MaxPooling2D)  (None, 64, 400, 8)   0           re_lu_5[0][0]                    \n",
      "__________________________________________________________________________________________________\n",
      "conv2d_27 (Conv2D)              (None, 64, 400, 16)  3216        max_pooling2d_4[0][0]            \n",
      "__________________________________________________________________________________________________\n",
      "batch_normalization_8 (BatchNor (None, 64, 400, 16)  64          conv2d_27[0][0]                  \n",
      "__________________________________________________________________________________________________\n",
      "re_lu_6 (ReLU)                  (None, 64, 400, 16)  0           batch_normalization_8[0][0]      \n",
      "__________________________________________________________________________________________________\n",
      "conv2d_28 (Conv2D)              (None, 64, 400, 16)  6416        re_lu_6[0][0]                    \n",
      "__________________________________________________________________________________________________\n",
      "batch_normalization_9 (BatchNor (None, 64, 400, 16)  64          conv2d_28[0][0]                  \n",
      "__________________________________________________________________________________________________\n",
      "re_lu_7 (ReLU)                  (None, 64, 400, 16)  0           batch_normalization_9[0][0]      \n",
      "__________________________________________________________________________________________________\n",
      "conv2d_30 (Conv2D)              (None, 64, 400, 16)  144         max_pooling2d_4[0][0]            \n",
      "__________________________________________________________________________________________________\n",
      "conv2d_29 (Conv2D)              (None, 64, 400, 16)  6416        re_lu_7[0][0]                    \n",
      "__________________________________________________________________________________________________\n",
      "batch_normalization_11 (BatchNo (None, 64, 400, 16)  64          conv2d_30[0][0]                  \n",
      "__________________________________________________________________________________________________\n",
      "batch_normalization_10 (BatchNo (None, 64, 400, 16)  64          conv2d_29[0][0]                  \n",
      "__________________________________________________________________________________________________\n",
      "add_2 (Add)                     (None, 64, 400, 16)  0           batch_normalization_11[0][0]     \n",
      "                                                                 batch_normalization_10[0][0]     \n",
      "__________________________________________________________________________________________________\n",
      "re_lu_8 (ReLU)                  (None, 64, 400, 16)  0           add_2[0][0]                      \n",
      "__________________________________________________________________________________________________\n",
      "conv2d_31 (Conv2D)              (None, 64, 400, 16)  6416        re_lu_8[0][0]                    \n",
      "__________________________________________________________________________________________________\n",
      "batch_normalization_12 (BatchNo (None, 64, 400, 16)  64          conv2d_31[0][0]                  \n",
      "__________________________________________________________________________________________________\n",
      "re_lu_9 (ReLU)                  (None, 64, 400, 16)  0           batch_normalization_12[0][0]     \n",
      "__________________________________________________________________________________________________\n",
      "conv2d_32 (Conv2D)              (None, 64, 400, 16)  6416        re_lu_9[0][0]                    \n",
      "__________________________________________________________________________________________________\n",
      "batch_normalization_13 (BatchNo (None, 64, 400, 16)  64          conv2d_32[0][0]                  \n",
      "__________________________________________________________________________________________________\n",
      "re_lu_10 (ReLU)                 (None, 64, 400, 16)  0           batch_normalization_13[0][0]     \n",
      "__________________________________________________________________________________________________\n",
      "conv2d_34 (Conv2D)              (None, 64, 400, 16)  272         re_lu_8[0][0]                    \n",
      "__________________________________________________________________________________________________\n",
      "conv2d_33 (Conv2D)              (None, 64, 400, 16)  6416        re_lu_10[0][0]                   \n",
      "__________________________________________________________________________________________________\n",
      "batch_normalization_15 (BatchNo (None, 64, 400, 16)  64          conv2d_34[0][0]                  \n",
      "__________________________________________________________________________________________________\n",
      "batch_normalization_14 (BatchNo (None, 64, 400, 16)  64          conv2d_33[0][0]                  \n",
      "__________________________________________________________________________________________________\n",
      "add_3 (Add)                     (None, 64, 400, 16)  0           batch_normalization_15[0][0]     \n",
      "                                                                 batch_normalization_14[0][0]     \n",
      "__________________________________________________________________________________________________\n",
      "re_lu_11 (ReLU)                 (None, 64, 400, 16)  0           add_3[0][0]                      \n",
      "__________________________________________________________________________________________________\n",
      "max_pooling2d_5 (MaxPooling2D)  (None, 32, 200, 16)  0           re_lu_11[0][0]                   \n",
      "__________________________________________________________________________________________________\n",
      "conv2d_35 (Conv2D)              (None, 32, 200, 32)  12832       max_pooling2d_5[0][0]            \n",
      "__________________________________________________________________________________________________\n",
      "batch_normalization_16 (BatchNo (None, 32, 200, 32)  128         conv2d_35[0][0]                  \n",
      "__________________________________________________________________________________________________\n",
      "re_lu_12 (ReLU)                 (None, 32, 200, 32)  0           batch_normalization_16[0][0]     \n",
      "__________________________________________________________________________________________________\n",
      "conv2d_36 (Conv2D)              (None, 32, 200, 32)  25632       re_lu_12[0][0]                   \n",
      "__________________________________________________________________________________________________\n",
      "batch_normalization_17 (BatchNo (None, 32, 200, 32)  128         conv2d_36[0][0]                  \n",
      "__________________________________________________________________________________________________\n",
      "re_lu_13 (ReLU)                 (None, 32, 200, 32)  0           batch_normalization_17[0][0]     \n",
      "__________________________________________________________________________________________________\n",
      "conv2d_38 (Conv2D)              (None, 32, 200, 32)  544         max_pooling2d_5[0][0]            \n",
      "__________________________________________________________________________________________________\n",
      "conv2d_37 (Conv2D)              (None, 32, 200, 32)  25632       re_lu_13[0][0]                   \n",
      "__________________________________________________________________________________________________\n",
      "batch_normalization_19 (BatchNo (None, 32, 200, 32)  128         conv2d_38[0][0]                  \n",
      "__________________________________________________________________________________________________\n",
      "batch_normalization_18 (BatchNo (None, 32, 200, 32)  128         conv2d_37[0][0]                  \n",
      "__________________________________________________________________________________________________\n",
      "add_4 (Add)                     (None, 32, 200, 32)  0           batch_normalization_19[0][0]     \n",
      "                                                                 batch_normalization_18[0][0]     \n",
      "__________________________________________________________________________________________________\n",
      "re_lu_14 (ReLU)                 (None, 32, 200, 32)  0           add_4[0][0]                      \n",
      "__________________________________________________________________________________________________\n",
      "conv2d_39 (Conv2D)              (None, 32, 200, 32)  25632       re_lu_14[0][0]                   \n",
      "__________________________________________________________________________________________________\n",
      "batch_normalization_20 (BatchNo (None, 32, 200, 32)  128         conv2d_39[0][0]                  \n",
      "__________________________________________________________________________________________________\n",
      "re_lu_15 (ReLU)                 (None, 32, 200, 32)  0           batch_normalization_20[0][0]     \n",
      "__________________________________________________________________________________________________\n",
      "conv2d_40 (Conv2D)              (None, 32, 200, 32)  25632       re_lu_15[0][0]                   \n",
      "__________________________________________________________________________________________________\n",
      "batch_normalization_21 (BatchNo (None, 32, 200, 32)  128         conv2d_40[0][0]                  \n",
      "__________________________________________________________________________________________________\n",
      "re_lu_16 (ReLU)                 (None, 32, 200, 32)  0           batch_normalization_21[0][0]     \n",
      "__________________________________________________________________________________________________\n",
      "conv2d_42 (Conv2D)              (None, 32, 200, 32)  1056        re_lu_14[0][0]                   \n",
      "__________________________________________________________________________________________________\n",
      "conv2d_41 (Conv2D)              (None, 32, 200, 32)  25632       re_lu_16[0][0]                   \n",
      "__________________________________________________________________________________________________\n",
      "batch_normalization_23 (BatchNo (None, 32, 200, 32)  128         conv2d_42[0][0]                  \n",
      "__________________________________________________________________________________________________\n",
      "batch_normalization_22 (BatchNo (None, 32, 200, 32)  128         conv2d_41[0][0]                  \n",
      "__________________________________________________________________________________________________\n",
      "add_5 (Add)                     (None, 32, 200, 32)  0           batch_normalization_23[0][0]     \n",
      "                                                                 batch_normalization_22[0][0]     \n",
      "__________________________________________________________________________________________________\n",
      "re_lu_17 (ReLU)                 (None, 32, 200, 32)  0           add_5[0][0]                      \n",
      "__________________________________________________________________________________________________\n",
      "max_pooling2d_6 (MaxPooling2D)  (None, 16, 100, 32)  0           re_lu_17[0][0]                   \n",
      "__________________________________________________________________________________________________\n",
      "conv2d_43 (Conv2D)              (None, 16, 100, 64)  51264       max_pooling2d_6[0][0]            \n",
      "__________________________________________________________________________________________________\n",
      "batch_normalization_24 (BatchNo (None, 16, 100, 64)  256         conv2d_43[0][0]                  \n",
      "__________________________________________________________________________________________________\n",
      "re_lu_18 (ReLU)                 (None, 16, 100, 64)  0           batch_normalization_24[0][0]     \n",
      "__________________________________________________________________________________________________\n",
      "conv2d_44 (Conv2D)              (None, 16, 100, 64)  102464      re_lu_18[0][0]                   \n",
      "__________________________________________________________________________________________________\n",
      "batch_normalization_25 (BatchNo (None, 16, 100, 64)  256         conv2d_44[0][0]                  \n",
      "__________________________________________________________________________________________________\n",
      "re_lu_19 (ReLU)                 (None, 16, 100, 64)  0           batch_normalization_25[0][0]     \n",
      "__________________________________________________________________________________________________\n",
      "conv2d_46 (Conv2D)              (None, 16, 100, 64)  2112        max_pooling2d_6[0][0]            \n",
      "__________________________________________________________________________________________________\n",
      "conv2d_45 (Conv2D)              (None, 16, 100, 64)  102464      re_lu_19[0][0]                   \n",
      "__________________________________________________________________________________________________\n",
      "batch_normalization_27 (BatchNo (None, 16, 100, 64)  256         conv2d_46[0][0]                  \n",
      "__________________________________________________________________________________________________\n",
      "batch_normalization_26 (BatchNo (None, 16, 100, 64)  256         conv2d_45[0][0]                  \n",
      "__________________________________________________________________________________________________\n",
      "add_6 (Add)                     (None, 16, 100, 64)  0           batch_normalization_27[0][0]     \n",
      "                                                                 batch_normalization_26[0][0]     \n",
      "__________________________________________________________________________________________________\n",
      "re_lu_20 (ReLU)                 (None, 16, 100, 64)  0           add_6[0][0]                      \n",
      "__________________________________________________________________________________________________\n",
      "conv2d_47 (Conv2D)              (None, 16, 100, 64)  102464      re_lu_20[0][0]                   \n",
      "__________________________________________________________________________________________________\n",
      "batch_normalization_28 (BatchNo (None, 16, 100, 64)  256         conv2d_47[0][0]                  \n",
      "__________________________________________________________________________________________________\n",
      "re_lu_21 (ReLU)                 (None, 16, 100, 64)  0           batch_normalization_28[0][0]     \n",
      "__________________________________________________________________________________________________\n",
      "conv2d_48 (Conv2D)              (None, 16, 100, 64)  102464      re_lu_21[0][0]                   \n",
      "__________________________________________________________________________________________________\n",
      "batch_normalization_29 (BatchNo (None, 16, 100, 64)  256         conv2d_48[0][0]                  \n",
      "__________________________________________________________________________________________________\n",
      "re_lu_22 (ReLU)                 (None, 16, 100, 64)  0           batch_normalization_29[0][0]     \n",
      "__________________________________________________________________________________________________\n",
      "conv2d_50 (Conv2D)              (None, 16, 100, 64)  4160        re_lu_20[0][0]                   \n",
      "__________________________________________________________________________________________________\n",
      "conv2d_49 (Conv2D)              (None, 16, 100, 64)  102464      re_lu_22[0][0]                   \n",
      "__________________________________________________________________________________________________\n",
      "batch_normalization_31 (BatchNo (None, 16, 100, 64)  256         conv2d_50[0][0]                  \n",
      "__________________________________________________________________________________________________\n",
      "batch_normalization_30 (BatchNo (None, 16, 100, 64)  256         conv2d_49[0][0]                  \n",
      "__________________________________________________________________________________________________\n",
      "add_7 (Add)                     (None, 16, 100, 64)  0           batch_normalization_31[0][0]     \n",
      "                                                                 batch_normalization_30[0][0]     \n",
      "__________________________________________________________________________________________________\n",
      "re_lu_23 (ReLU)                 (None, 16, 100, 64)  0           add_7[0][0]                      \n",
      "__________________________________________________________________________________________________\n",
      "max_pooling2d_7 (MaxPooling2D)  (None, 8, 50, 64)    0           re_lu_23[0][0]                   \n",
      "__________________________________________________________________________________________________\n",
      "conv2d_51 (Conv2D)              (None, 8, 50, 32)    2080        max_pooling2d_7[0][0]            \n",
      "__________________________________________________________________________________________________\n",
      "conv2d_53 (Conv2D)              (None, 8, 50, 32)    2080        max_pooling2d_7[0][0]            \n",
      "__________________________________________________________________________________________________\n",
      "max_pooling2d_8 (MaxPooling2D)  (None, 8, 50, 64)    0           max_pooling2d_7[0][0]            \n",
      "__________________________________________________________________________________________________\n",
      "conv2d_52 (Conv2D)              (None, 8, 50, 32)    9248        conv2d_51[0][0]                  \n",
      "__________________________________________________________________________________________________\n",
      "conv2d_54 (Conv2D)              (None, 8, 50, 32)    25632       conv2d_53[0][0]                  \n",
      "__________________________________________________________________________________________________\n",
      "conv2d_55 (Conv2D)              (None, 8, 50, 32)    2080        max_pooling2d_7[0][0]            \n",
      "__________________________________________________________________________________________________\n",
      "conv2d_56 (Conv2D)              (None, 8, 50, 32)    2080        max_pooling2d_8[0][0]            \n",
      "__________________________________________________________________________________________________\n",
      "batch_normalization_32 (BatchNo (None, 8, 50, 32)    128         conv2d_52[0][0]                  \n",
      "__________________________________________________________________________________________________\n",
      "batch_normalization_33 (BatchNo (None, 8, 50, 32)    128         conv2d_54[0][0]                  \n",
      "__________________________________________________________________________________________________\n",
      "batch_normalization_34 (BatchNo (None, 8, 50, 32)    128         conv2d_55[0][0]                  \n",
      "__________________________________________________________________________________________________\n",
      "batch_normalization_35 (BatchNo (None, 8, 50, 32)    128         conv2d_56[0][0]                  \n",
      "__________________________________________________________________________________________________\n",
      "re_lu_24 (ReLU)                 (None, 8, 50, 32)    0           batch_normalization_32[0][0]     \n",
      "__________________________________________________________________________________________________\n",
      "re_lu_25 (ReLU)                 (None, 8, 50, 32)    0           batch_normalization_33[0][0]     \n",
      "__________________________________________________________________________________________________\n",
      "re_lu_26 (ReLU)                 (None, 8, 50, 32)    0           batch_normalization_34[0][0]     \n",
      "__________________________________________________________________________________________________\n",
      "re_lu_27 (ReLU)                 (None, 8, 50, 32)    0           batch_normalization_35[0][0]     \n",
      "__________________________________________________________________________________________________\n",
      "concatenate_4 (Concatenate)     (None, 8, 50, 128)   0           re_lu_24[0][0]                   \n",
      "                                                                 re_lu_25[0][0]                   \n",
      "                                                                 re_lu_26[0][0]                   \n",
      "                                                                 re_lu_27[0][0]                   \n",
      "__________________________________________________________________________________________________\n",
      "conv2d_57 (Conv2D)              (None, 8, 50, 32)    4128        concatenate_4[0][0]              \n",
      "__________________________________________________________________________________________________\n",
      "conv2d_59 (Conv2D)              (None, 8, 50, 32)    4128        concatenate_4[0][0]              \n",
      "__________________________________________________________________________________________________\n",
      "max_pooling2d_9 (MaxPooling2D)  (None, 8, 50, 128)   0           concatenate_4[0][0]              \n",
      "__________________________________________________________________________________________________\n",
      "conv2d_58 (Conv2D)              (None, 8, 50, 32)    9248        conv2d_57[0][0]                  \n",
      "__________________________________________________________________________________________________\n",
      "conv2d_60 (Conv2D)              (None, 8, 50, 32)    25632       conv2d_59[0][0]                  \n",
      "__________________________________________________________________________________________________\n",
      "conv2d_61 (Conv2D)              (None, 8, 50, 32)    4128        concatenate_4[0][0]              \n",
      "__________________________________________________________________________________________________\n",
      "conv2d_62 (Conv2D)              (None, 8, 50, 32)    4128        max_pooling2d_9[0][0]            \n",
      "__________________________________________________________________________________________________\n",
      "batch_normalization_36 (BatchNo (None, 8, 50, 32)    128         conv2d_58[0][0]                  \n",
      "__________________________________________________________________________________________________\n",
      "batch_normalization_37 (BatchNo (None, 8, 50, 32)    128         conv2d_60[0][0]                  \n",
      "__________________________________________________________________________________________________\n",
      "batch_normalization_38 (BatchNo (None, 8, 50, 32)    128         conv2d_61[0][0]                  \n",
      "__________________________________________________________________________________________________\n",
      "batch_normalization_39 (BatchNo (None, 8, 50, 32)    128         conv2d_62[0][0]                  \n",
      "__________________________________________________________________________________________________\n",
      "re_lu_28 (ReLU)                 (None, 8, 50, 32)    0           batch_normalization_36[0][0]     \n",
      "__________________________________________________________________________________________________\n",
      "re_lu_29 (ReLU)                 (None, 8, 50, 32)    0           batch_normalization_37[0][0]     \n",
      "__________________________________________________________________________________________________\n",
      "re_lu_30 (ReLU)                 (None, 8, 50, 32)    0           batch_normalization_38[0][0]     \n",
      "__________________________________________________________________________________________________\n",
      "re_lu_31 (ReLU)                 (None, 8, 50, 32)    0           batch_normalization_39[0][0]     \n",
      "__________________________________________________________________________________________________\n",
      "concatenate_5 (Concatenate)     (None, 8, 50, 128)   0           re_lu_28[0][0]                   \n",
      "                                                                 re_lu_29[0][0]                   \n",
      "                                                                 re_lu_30[0][0]                   \n",
      "                                                                 re_lu_31[0][0]                   \n",
      "__________________________________________________________________________________________________\n",
      "conv2d_63 (Conv2D)              (None, 8, 50, 32)    4128        concatenate_5[0][0]              \n",
      "__________________________________________________________________________________________________\n",
      "conv2d_65 (Conv2D)              (None, 8, 50, 32)    4128        concatenate_5[0][0]              \n",
      "__________________________________________________________________________________________________\n",
      "max_pooling2d_10 (MaxPooling2D) (None, 8, 50, 128)   0           concatenate_5[0][0]              \n",
      "__________________________________________________________________________________________________\n",
      "conv2d_64 (Conv2D)              (None, 8, 50, 32)    9248        conv2d_63[0][0]                  \n",
      "__________________________________________________________________________________________________\n",
      "conv2d_66 (Conv2D)              (None, 8, 50, 32)    25632       conv2d_65[0][0]                  \n",
      "__________________________________________________________________________________________________\n",
      "conv2d_67 (Conv2D)              (None, 8, 50, 32)    4128        concatenate_5[0][0]              \n",
      "__________________________________________________________________________________________________\n",
      "conv2d_68 (Conv2D)              (None, 8, 50, 32)    4128        max_pooling2d_10[0][0]           \n",
      "__________________________________________________________________________________________________\n",
      "batch_normalization_40 (BatchNo (None, 8, 50, 32)    128         conv2d_64[0][0]                  \n",
      "__________________________________________________________________________________________________\n",
      "batch_normalization_41 (BatchNo (None, 8, 50, 32)    128         conv2d_66[0][0]                  \n",
      "__________________________________________________________________________________________________\n",
      "batch_normalization_42 (BatchNo (None, 8, 50, 32)    128         conv2d_67[0][0]                  \n",
      "__________________________________________________________________________________________________\n",
      "batch_normalization_43 (BatchNo (None, 8, 50, 32)    128         conv2d_68[0][0]                  \n",
      "__________________________________________________________________________________________________\n",
      "re_lu_32 (ReLU)                 (None, 8, 50, 32)    0           batch_normalization_40[0][0]     \n",
      "__________________________________________________________________________________________________\n",
      "re_lu_33 (ReLU)                 (None, 8, 50, 32)    0           batch_normalization_41[0][0]     \n",
      "__________________________________________________________________________________________________\n",
      "re_lu_34 (ReLU)                 (None, 8, 50, 32)    0           batch_normalization_42[0][0]     \n",
      "__________________________________________________________________________________________________\n",
      "re_lu_35 (ReLU)                 (None, 8, 50, 32)    0           batch_normalization_43[0][0]     \n",
      "__________________________________________________________________________________________________\n",
      "concatenate_6 (Concatenate)     (None, 8, 50, 128)   0           re_lu_32[0][0]                   \n",
      "                                                                 re_lu_33[0][0]                   \n",
      "                                                                 re_lu_34[0][0]                   \n",
      "                                                                 re_lu_35[0][0]                   \n",
      "__________________________________________________________________________________________________\n",
      "conv2d_69 (Conv2D)              (None, 8, 50, 32)    4128        concatenate_6[0][0]              \n",
      "__________________________________________________________________________________________________\n",
      "conv2d_71 (Conv2D)              (None, 8, 50, 32)    4128        concatenate_6[0][0]              \n",
      "__________________________________________________________________________________________________\n",
      "max_pooling2d_11 (MaxPooling2D) (None, 8, 50, 128)   0           concatenate_6[0][0]              \n",
      "__________________________________________________________________________________________________\n",
      "conv2d_70 (Conv2D)              (None, 8, 50, 32)    9248        conv2d_69[0][0]                  \n",
      "__________________________________________________________________________________________________\n",
      "conv2d_72 (Conv2D)              (None, 8, 50, 32)    25632       conv2d_71[0][0]                  \n",
      "__________________________________________________________________________________________________\n",
      "conv2d_73 (Conv2D)              (None, 8, 50, 32)    4128        concatenate_6[0][0]              \n",
      "__________________________________________________________________________________________________\n",
      "conv2d_74 (Conv2D)              (None, 8, 50, 32)    4128        max_pooling2d_11[0][0]           \n",
      "__________________________________________________________________________________________________\n",
      "batch_normalization_44 (BatchNo (None, 8, 50, 32)    128         conv2d_70[0][0]                  \n",
      "__________________________________________________________________________________________________\n",
      "batch_normalization_45 (BatchNo (None, 8, 50, 32)    128         conv2d_72[0][0]                  \n",
      "__________________________________________________________________________________________________\n",
      "batch_normalization_46 (BatchNo (None, 8, 50, 32)    128         conv2d_73[0][0]                  \n",
      "__________________________________________________________________________________________________\n",
      "batch_normalization_47 (BatchNo (None, 8, 50, 32)    128         conv2d_74[0][0]                  \n",
      "__________________________________________________________________________________________________\n",
      "re_lu_36 (ReLU)                 (None, 8, 50, 32)    0           batch_normalization_44[0][0]     \n",
      "__________________________________________________________________________________________________\n",
      "re_lu_37 (ReLU)                 (None, 8, 50, 32)    0           batch_normalization_45[0][0]     \n",
      "__________________________________________________________________________________________________\n",
      "re_lu_38 (ReLU)                 (None, 8, 50, 32)    0           batch_normalization_46[0][0]     \n",
      "__________________________________________________________________________________________________\n",
      "re_lu_39 (ReLU)                 (None, 8, 50, 32)    0           batch_normalization_47[0][0]     \n",
      "__________________________________________________________________________________________________\n",
      "concatenate_7 (Concatenate)     (None, 8, 50, 128)   0           re_lu_36[0][0]                   \n",
      "                                                                 re_lu_37[0][0]                   \n",
      "                                                                 re_lu_38[0][0]                   \n",
      "                                                                 re_lu_39[0][0]                   \n",
      "__________________________________________________________________________________________________\n",
      "conv2d_transpose_4 (Conv2DTrans (None, 16, 100, 64)  204864      concatenate_7[0][0]              \n",
      "__________________________________________________________________________________________________\n",
      "concatenate_8 (Concatenate)     (None, 16, 100, 128) 0           conv2d_transpose_4[0][0]         \n",
      "                                                                 re_lu_23[0][0]                   \n",
      "__________________________________________________________________________________________________\n",
      "conv2d_75 (Conv2D)              (None, 16, 100, 64)  204864      concatenate_8[0][0]              \n",
      "__________________________________________________________________________________________________\n",
      "batch_normalization_48 (BatchNo (None, 16, 100, 64)  256         conv2d_75[0][0]                  \n",
      "__________________________________________________________________________________________________\n",
      "re_lu_40 (ReLU)                 (None, 16, 100, 64)  0           batch_normalization_48[0][0]     \n",
      "__________________________________________________________________________________________________\n",
      "conv2d_76 (Conv2D)              (None, 16, 100, 64)  102464      re_lu_40[0][0]                   \n",
      "__________________________________________________________________________________________________\n",
      "batch_normalization_49 (BatchNo (None, 16, 100, 64)  256         conv2d_76[0][0]                  \n",
      "__________________________________________________________________________________________________\n",
      "re_lu_41 (ReLU)                 (None, 16, 100, 64)  0           batch_normalization_49[0][0]     \n",
      "__________________________________________________________________________________________________\n",
      "conv2d_78 (Conv2D)              (None, 16, 100, 64)  8256        concatenate_8[0][0]              \n",
      "__________________________________________________________________________________________________\n",
      "conv2d_77 (Conv2D)              (None, 16, 100, 64)  102464      re_lu_41[0][0]                   \n",
      "__________________________________________________________________________________________________\n",
      "batch_normalization_51 (BatchNo (None, 16, 100, 64)  256         conv2d_78[0][0]                  \n",
      "__________________________________________________________________________________________________\n",
      "batch_normalization_50 (BatchNo (None, 16, 100, 64)  256         conv2d_77[0][0]                  \n",
      "__________________________________________________________________________________________________\n",
      "add_8 (Add)                     (None, 16, 100, 64)  0           batch_normalization_51[0][0]     \n",
      "                                                                 batch_normalization_50[0][0]     \n",
      "__________________________________________________________________________________________________\n",
      "re_lu_42 (ReLU)                 (None, 16, 100, 64)  0           add_8[0][0]                      \n",
      "__________________________________________________________________________________________________\n",
      "conv2d_79 (Conv2D)              (None, 16, 100, 64)  102464      re_lu_42[0][0]                   \n",
      "__________________________________________________________________________________________________\n",
      "batch_normalization_52 (BatchNo (None, 16, 100, 64)  256         conv2d_79[0][0]                  \n",
      "__________________________________________________________________________________________________\n",
      "re_lu_43 (ReLU)                 (None, 16, 100, 64)  0           batch_normalization_52[0][0]     \n",
      "__________________________________________________________________________________________________\n",
      "conv2d_80 (Conv2D)              (None, 16, 100, 64)  102464      re_lu_43[0][0]                   \n",
      "__________________________________________________________________________________________________\n",
      "batch_normalization_53 (BatchNo (None, 16, 100, 64)  256         conv2d_80[0][0]                  \n",
      "__________________________________________________________________________________________________\n",
      "re_lu_44 (ReLU)                 (None, 16, 100, 64)  0           batch_normalization_53[0][0]     \n",
      "__________________________________________________________________________________________________\n",
      "conv2d_82 (Conv2D)              (None, 16, 100, 64)  4160        re_lu_42[0][0]                   \n",
      "__________________________________________________________________________________________________\n",
      "conv2d_81 (Conv2D)              (None, 16, 100, 64)  102464      re_lu_44[0][0]                   \n",
      "__________________________________________________________________________________________________\n",
      "batch_normalization_55 (BatchNo (None, 16, 100, 64)  256         conv2d_82[0][0]                  \n",
      "__________________________________________________________________________________________________\n",
      "batch_normalization_54 (BatchNo (None, 16, 100, 64)  256         conv2d_81[0][0]                  \n",
      "__________________________________________________________________________________________________\n",
      "add_9 (Add)                     (None, 16, 100, 64)  0           batch_normalization_55[0][0]     \n",
      "                                                                 batch_normalization_54[0][0]     \n",
      "__________________________________________________________________________________________________\n",
      "re_lu_45 (ReLU)                 (None, 16, 100, 64)  0           add_9[0][0]                      \n",
      "__________________________________________________________________________________________________\n",
      "conv2d_transpose_5 (Conv2DTrans (None, 32, 200, 32)  51232       re_lu_45[0][0]                   \n",
      "__________________________________________________________________________________________________\n",
      "concatenate_9 (Concatenate)     (None, 32, 200, 64)  0           conv2d_transpose_5[0][0]         \n",
      "                                                                 re_lu_17[0][0]                   \n",
      "__________________________________________________________________________________________________\n",
      "conv2d_83 (Conv2D)              (None, 32, 200, 32)  51232       concatenate_9[0][0]              \n",
      "__________________________________________________________________________________________________\n",
      "batch_normalization_56 (BatchNo (None, 32, 200, 32)  128         conv2d_83[0][0]                  \n",
      "__________________________________________________________________________________________________\n",
      "re_lu_46 (ReLU)                 (None, 32, 200, 32)  0           batch_normalization_56[0][0]     \n",
      "__________________________________________________________________________________________________\n",
      "conv2d_84 (Conv2D)              (None, 32, 200, 32)  25632       re_lu_46[0][0]                   \n",
      "__________________________________________________________________________________________________\n",
      "batch_normalization_57 (BatchNo (None, 32, 200, 32)  128         conv2d_84[0][0]                  \n",
      "__________________________________________________________________________________________________\n",
      "re_lu_47 (ReLU)                 (None, 32, 200, 32)  0           batch_normalization_57[0][0]     \n",
      "__________________________________________________________________________________________________\n",
      "conv2d_86 (Conv2D)              (None, 32, 200, 32)  2080        concatenate_9[0][0]              \n",
      "__________________________________________________________________________________________________\n",
      "conv2d_85 (Conv2D)              (None, 32, 200, 32)  25632       re_lu_47[0][0]                   \n",
      "__________________________________________________________________________________________________\n",
      "batch_normalization_59 (BatchNo (None, 32, 200, 32)  128         conv2d_86[0][0]                  \n",
      "__________________________________________________________________________________________________\n",
      "batch_normalization_58 (BatchNo (None, 32, 200, 32)  128         conv2d_85[0][0]                  \n",
      "__________________________________________________________________________________________________\n",
      "add_10 (Add)                    (None, 32, 200, 32)  0           batch_normalization_59[0][0]     \n",
      "                                                                 batch_normalization_58[0][0]     \n",
      "__________________________________________________________________________________________________\n",
      "re_lu_48 (ReLU)                 (None, 32, 200, 32)  0           add_10[0][0]                     \n",
      "__________________________________________________________________________________________________\n",
      "conv2d_87 (Conv2D)              (None, 32, 200, 32)  25632       re_lu_48[0][0]                   \n",
      "__________________________________________________________________________________________________\n",
      "batch_normalization_60 (BatchNo (None, 32, 200, 32)  128         conv2d_87[0][0]                  \n",
      "__________________________________________________________________________________________________\n",
      "re_lu_49 (ReLU)                 (None, 32, 200, 32)  0           batch_normalization_60[0][0]     \n",
      "__________________________________________________________________________________________________\n",
      "conv2d_88 (Conv2D)              (None, 32, 200, 32)  25632       re_lu_49[0][0]                   \n",
      "__________________________________________________________________________________________________\n",
      "batch_normalization_61 (BatchNo (None, 32, 200, 32)  128         conv2d_88[0][0]                  \n",
      "__________________________________________________________________________________________________\n",
      "re_lu_50 (ReLU)                 (None, 32, 200, 32)  0           batch_normalization_61[0][0]     \n",
      "__________________________________________________________________________________________________\n",
      "conv2d_90 (Conv2D)              (None, 32, 200, 32)  1056        re_lu_48[0][0]                   \n",
      "__________________________________________________________________________________________________\n",
      "conv2d_89 (Conv2D)              (None, 32, 200, 32)  25632       re_lu_50[0][0]                   \n",
      "__________________________________________________________________________________________________\n",
      "batch_normalization_63 (BatchNo (None, 32, 200, 32)  128         conv2d_90[0][0]                  \n",
      "__________________________________________________________________________________________________\n",
      "batch_normalization_62 (BatchNo (None, 32, 200, 32)  128         conv2d_89[0][0]                  \n",
      "__________________________________________________________________________________________________\n",
      "add_11 (Add)                    (None, 32, 200, 32)  0           batch_normalization_63[0][0]     \n",
      "                                                                 batch_normalization_62[0][0]     \n",
      "__________________________________________________________________________________________________\n",
      "re_lu_51 (ReLU)                 (None, 32, 200, 32)  0           add_11[0][0]                     \n",
      "__________________________________________________________________________________________________\n",
      "conv2d_transpose_6 (Conv2DTrans (None, 64, 400, 16)  12816       re_lu_51[0][0]                   \n",
      "__________________________________________________________________________________________________\n",
      "concatenate_10 (Concatenate)    (None, 64, 400, 32)  0           conv2d_transpose_6[0][0]         \n",
      "                                                                 re_lu_11[0][0]                   \n",
      "__________________________________________________________________________________________________\n",
      "conv2d_91 (Conv2D)              (None, 64, 400, 16)  12816       concatenate_10[0][0]             \n",
      "__________________________________________________________________________________________________\n",
      "batch_normalization_64 (BatchNo (None, 64, 400, 16)  64          conv2d_91[0][0]                  \n",
      "__________________________________________________________________________________________________\n",
      "re_lu_52 (ReLU)                 (None, 64, 400, 16)  0           batch_normalization_64[0][0]     \n",
      "__________________________________________________________________________________________________\n",
      "conv2d_92 (Conv2D)              (None, 64, 400, 16)  6416        re_lu_52[0][0]                   \n",
      "__________________________________________________________________________________________________\n",
      "batch_normalization_65 (BatchNo (None, 64, 400, 16)  64          conv2d_92[0][0]                  \n",
      "__________________________________________________________________________________________________\n",
      "re_lu_53 (ReLU)                 (None, 64, 400, 16)  0           batch_normalization_65[0][0]     \n",
      "__________________________________________________________________________________________________\n",
      "conv2d_94 (Conv2D)              (None, 64, 400, 16)  528         concatenate_10[0][0]             \n",
      "__________________________________________________________________________________________________\n",
      "conv2d_93 (Conv2D)              (None, 64, 400, 16)  6416        re_lu_53[0][0]                   \n",
      "__________________________________________________________________________________________________\n",
      "batch_normalization_67 (BatchNo (None, 64, 400, 16)  64          conv2d_94[0][0]                  \n",
      "__________________________________________________________________________________________________\n",
      "batch_normalization_66 (BatchNo (None, 64, 400, 16)  64          conv2d_93[0][0]                  \n",
      "__________________________________________________________________________________________________\n",
      "add_12 (Add)                    (None, 64, 400, 16)  0           batch_normalization_67[0][0]     \n",
      "                                                                 batch_normalization_66[0][0]     \n",
      "__________________________________________________________________________________________________\n",
      "re_lu_54 (ReLU)                 (None, 64, 400, 16)  0           add_12[0][0]                     \n",
      "__________________________________________________________________________________________________\n",
      "conv2d_95 (Conv2D)              (None, 64, 400, 16)  6416        re_lu_54[0][0]                   \n",
      "__________________________________________________________________________________________________\n",
      "batch_normalization_68 (BatchNo (None, 64, 400, 16)  64          conv2d_95[0][0]                  \n",
      "__________________________________________________________________________________________________\n",
      "re_lu_55 (ReLU)                 (None, 64, 400, 16)  0           batch_normalization_68[0][0]     \n",
      "__________________________________________________________________________________________________\n",
      "conv2d_96 (Conv2D)              (None, 64, 400, 16)  6416        re_lu_55[0][0]                   \n",
      "__________________________________________________________________________________________________\n",
      "batch_normalization_69 (BatchNo (None, 64, 400, 16)  64          conv2d_96[0][0]                  \n",
      "__________________________________________________________________________________________________\n",
      "re_lu_56 (ReLU)                 (None, 64, 400, 16)  0           batch_normalization_69[0][0]     \n",
      "__________________________________________________________________________________________________\n",
      "conv2d_98 (Conv2D)              (None, 64, 400, 16)  272         re_lu_54[0][0]                   \n",
      "__________________________________________________________________________________________________\n",
      "conv2d_97 (Conv2D)              (None, 64, 400, 16)  6416        re_lu_56[0][0]                   \n",
      "__________________________________________________________________________________________________\n",
      "batch_normalization_71 (BatchNo (None, 64, 400, 16)  64          conv2d_98[0][0]                  \n",
      "__________________________________________________________________________________________________\n",
      "batch_normalization_70 (BatchNo (None, 64, 400, 16)  64          conv2d_97[0][0]                  \n",
      "__________________________________________________________________________________________________\n",
      "add_13 (Add)                    (None, 64, 400, 16)  0           batch_normalization_71[0][0]     \n",
      "                                                                 batch_normalization_70[0][0]     \n",
      "__________________________________________________________________________________________________\n",
      "re_lu_57 (ReLU)                 (None, 64, 400, 16)  0           add_13[0][0]                     \n",
      "__________________________________________________________________________________________________\n",
      "conv2d_transpose_7 (Conv2DTrans (None, 128, 800, 8)  3208        re_lu_57[0][0]                   \n",
      "__________________________________________________________________________________________________\n",
      "concatenate_11 (Concatenate)    (None, 128, 800, 16) 0           conv2d_transpose_7[0][0]         \n",
      "                                                                 re_lu_5[0][0]                    \n",
      "__________________________________________________________________________________________________\n",
      "conv2d_99 (Conv2D)              (None, 128, 800, 8)  3208        concatenate_11[0][0]             \n",
      "__________________________________________________________________________________________________\n",
      "batch_normalization_72 (BatchNo (None, 128, 800, 8)  32          conv2d_99[0][0]                  \n",
      "__________________________________________________________________________________________________\n",
      "re_lu_58 (ReLU)                 (None, 128, 800, 8)  0           batch_normalization_72[0][0]     \n",
      "__________________________________________________________________________________________________\n",
      "conv2d_100 (Conv2D)             (None, 128, 800, 8)  1608        re_lu_58[0][0]                   \n",
      "__________________________________________________________________________________________________\n",
      "batch_normalization_73 (BatchNo (None, 128, 800, 8)  32          conv2d_100[0][0]                 \n",
      "__________________________________________________________________________________________________\n",
      "re_lu_59 (ReLU)                 (None, 128, 800, 8)  0           batch_normalization_73[0][0]     \n",
      "__________________________________________________________________________________________________\n",
      "conv2d_102 (Conv2D)             (None, 128, 800, 8)  136         concatenate_11[0][0]             \n",
      "__________________________________________________________________________________________________\n",
      "conv2d_101 (Conv2D)             (None, 128, 800, 8)  1608        re_lu_59[0][0]                   \n",
      "__________________________________________________________________________________________________\n",
      "batch_normalization_75 (BatchNo (None, 128, 800, 8)  32          conv2d_102[0][0]                 \n",
      "__________________________________________________________________________________________________\n",
      "batch_normalization_74 (BatchNo (None, 128, 800, 8)  32          conv2d_101[0][0]                 \n",
      "__________________________________________________________________________________________________\n",
      "add_14 (Add)                    (None, 128, 800, 8)  0           batch_normalization_75[0][0]     \n",
      "                                                                 batch_normalization_74[0][0]     \n",
      "__________________________________________________________________________________________________\n",
      "re_lu_60 (ReLU)                 (None, 128, 800, 8)  0           add_14[0][0]                     \n",
      "__________________________________________________________________________________________________\n",
      "conv2d_103 (Conv2D)             (None, 128, 800, 8)  1608        re_lu_60[0][0]                   \n",
      "__________________________________________________________________________________________________\n",
      "batch_normalization_76 (BatchNo (None, 128, 800, 8)  32          conv2d_103[0][0]                 \n",
      "__________________________________________________________________________________________________\n",
      "re_lu_61 (ReLU)                 (None, 128, 800, 8)  0           batch_normalization_76[0][0]     \n",
      "__________________________________________________________________________________________________\n",
      "conv2d_104 (Conv2D)             (None, 128, 800, 8)  1608        re_lu_61[0][0]                   \n",
      "__________________________________________________________________________________________________\n",
      "batch_normalization_77 (BatchNo (None, 128, 800, 8)  32          conv2d_104[0][0]                 \n",
      "__________________________________________________________________________________________________\n",
      "re_lu_62 (ReLU)                 (None, 128, 800, 8)  0           batch_normalization_77[0][0]     \n",
      "__________________________________________________________________________________________________\n",
      "conv2d_105 (Conv2D)             (None, 128, 800, 8)  1608        re_lu_62[0][0]                   \n",
      "__________________________________________________________________________________________________\n",
      "batch_normalization_78 (BatchNo (None, 128, 800, 8)  32          conv2d_105[0][0]                 \n",
      "__________________________________________________________________________________________________\n",
      "conv2d_108 (Conv2D)             (None, 128, 800, 4)  804         batch_normalization_78[0][0]     \n",
      "__________________________________________________________________________________________________\n",
      "conv2d_117 (Conv2D)             (None, 128, 800, 4)  804         batch_normalization_78[0][0]     \n",
      "__________________________________________________________________________________________________\n",
      "conv2d_126 (Conv2D)             (None, 128, 800, 4)  804         batch_normalization_78[0][0]     \n",
      "__________________________________________________________________________________________________\n",
      "conv2d_135 (Conv2D)             (None, 128, 800, 4)  804         batch_normalization_78[0][0]     \n",
      "__________________________________________________________________________________________________\n",
      "batch_normalization_80 (BatchNo (None, 128, 800, 4)  16          conv2d_108[0][0]                 \n",
      "__________________________________________________________________________________________________\n",
      "batch_normalization_88 (BatchNo (None, 128, 800, 4)  16          conv2d_117[0][0]                 \n",
      "__________________________________________________________________________________________________\n",
      "batch_normalization_96 (BatchNo (None, 128, 800, 4)  16          conv2d_126[0][0]                 \n",
      "__________________________________________________________________________________________________\n",
      "batch_normalization_104 (BatchN (None, 128, 800, 4)  16          conv2d_135[0][0]                 \n",
      "__________________________________________________________________________________________________\n",
      "re_lu_64 (ReLU)                 (None, 128, 800, 4)  0           batch_normalization_80[0][0]     \n",
      "__________________________________________________________________________________________________\n",
      "re_lu_70 (ReLU)                 (None, 128, 800, 4)  0           batch_normalization_88[0][0]     \n",
      "__________________________________________________________________________________________________\n",
      "re_lu_76 (ReLU)                 (None, 128, 800, 4)  0           batch_normalization_96[0][0]     \n",
      "__________________________________________________________________________________________________\n",
      "re_lu_82 (ReLU)                 (None, 128, 800, 4)  0           batch_normalization_104[0][0]    \n",
      "__________________________________________________________________________________________________\n",
      "conv2d_109 (Conv2D)             (None, 128, 800, 4)  404         re_lu_64[0][0]                   \n",
      "__________________________________________________________________________________________________\n",
      "conv2d_118 (Conv2D)             (None, 128, 800, 4)  404         re_lu_70[0][0]                   \n",
      "__________________________________________________________________________________________________\n",
      "conv2d_127 (Conv2D)             (None, 128, 800, 4)  404         re_lu_76[0][0]                   \n",
      "__________________________________________________________________________________________________\n",
      "conv2d_136 (Conv2D)             (None, 128, 800, 4)  404         re_lu_82[0][0]                   \n",
      "__________________________________________________________________________________________________\n",
      "batch_normalization_81 (BatchNo (None, 128, 800, 4)  16          conv2d_109[0][0]                 \n",
      "__________________________________________________________________________________________________\n",
      "batch_normalization_89 (BatchNo (None, 128, 800, 4)  16          conv2d_118[0][0]                 \n",
      "__________________________________________________________________________________________________\n",
      "batch_normalization_97 (BatchNo (None, 128, 800, 4)  16          conv2d_127[0][0]                 \n",
      "__________________________________________________________________________________________________\n",
      "batch_normalization_105 (BatchN (None, 128, 800, 4)  16          conv2d_136[0][0]                 \n",
      "__________________________________________________________________________________________________\n",
      "re_lu_65 (ReLU)                 (None, 128, 800, 4)  0           batch_normalization_81[0][0]     \n",
      "__________________________________________________________________________________________________\n",
      "re_lu_71 (ReLU)                 (None, 128, 800, 4)  0           batch_normalization_89[0][0]     \n",
      "__________________________________________________________________________________________________\n",
      "re_lu_77 (ReLU)                 (None, 128, 800, 4)  0           batch_normalization_97[0][0]     \n",
      "__________________________________________________________________________________________________\n",
      "re_lu_83 (ReLU)                 (None, 128, 800, 4)  0           batch_normalization_105[0][0]    \n",
      "__________________________________________________________________________________________________\n",
      "conv2d_111 (Conv2D)             (None, 128, 800, 4)  36          batch_normalization_78[0][0]     \n",
      "__________________________________________________________________________________________________\n",
      "conv2d_110 (Conv2D)             (None, 128, 800, 4)  404         re_lu_65[0][0]                   \n",
      "__________________________________________________________________________________________________\n",
      "conv2d_120 (Conv2D)             (None, 128, 800, 4)  36          batch_normalization_78[0][0]     \n",
      "__________________________________________________________________________________________________\n",
      "conv2d_119 (Conv2D)             (None, 128, 800, 4)  404         re_lu_71[0][0]                   \n",
      "__________________________________________________________________________________________________\n",
      "conv2d_129 (Conv2D)             (None, 128, 800, 4)  36          batch_normalization_78[0][0]     \n",
      "__________________________________________________________________________________________________\n",
      "conv2d_128 (Conv2D)             (None, 128, 800, 4)  404         re_lu_77[0][0]                   \n",
      "__________________________________________________________________________________________________\n",
      "conv2d_138 (Conv2D)             (None, 128, 800, 4)  36          batch_normalization_78[0][0]     \n",
      "__________________________________________________________________________________________________\n",
      "conv2d_137 (Conv2D)             (None, 128, 800, 4)  404         re_lu_83[0][0]                   \n",
      "__________________________________________________________________________________________________\n",
      "batch_normalization_83 (BatchNo (None, 128, 800, 4)  16          conv2d_111[0][0]                 \n",
      "__________________________________________________________________________________________________\n",
      "batch_normalization_82 (BatchNo (None, 128, 800, 4)  16          conv2d_110[0][0]                 \n",
      "__________________________________________________________________________________________________\n",
      "batch_normalization_91 (BatchNo (None, 128, 800, 4)  16          conv2d_120[0][0]                 \n",
      "__________________________________________________________________________________________________\n",
      "batch_normalization_90 (BatchNo (None, 128, 800, 4)  16          conv2d_119[0][0]                 \n",
      "__________________________________________________________________________________________________\n",
      "batch_normalization_99 (BatchNo (None, 128, 800, 4)  16          conv2d_129[0][0]                 \n",
      "__________________________________________________________________________________________________\n",
      "batch_normalization_98 (BatchNo (None, 128, 800, 4)  16          conv2d_128[0][0]                 \n",
      "__________________________________________________________________________________________________\n",
      "batch_normalization_107 (BatchN (None, 128, 800, 4)  16          conv2d_138[0][0]                 \n",
      "__________________________________________________________________________________________________\n",
      "batch_normalization_106 (BatchN (None, 128, 800, 4)  16          conv2d_137[0][0]                 \n",
      "__________________________________________________________________________________________________\n",
      "add_16 (Add)                    (None, 128, 800, 4)  0           batch_normalization_83[0][0]     \n",
      "                                                                 batch_normalization_82[0][0]     \n",
      "__________________________________________________________________________________________________\n",
      "add_18 (Add)                    (None, 128, 800, 4)  0           batch_normalization_91[0][0]     \n",
      "                                                                 batch_normalization_90[0][0]     \n",
      "__________________________________________________________________________________________________\n",
      "add_20 (Add)                    (None, 128, 800, 4)  0           batch_normalization_99[0][0]     \n",
      "                                                                 batch_normalization_98[0][0]     \n",
      "__________________________________________________________________________________________________\n",
      "add_22 (Add)                    (None, 128, 800, 4)  0           batch_normalization_107[0][0]    \n",
      "                                                                 batch_normalization_106[0][0]    \n",
      "__________________________________________________________________________________________________\n",
      "re_lu_66 (ReLU)                 (None, 128, 800, 4)  0           add_16[0][0]                     \n",
      "__________________________________________________________________________________________________\n",
      "re_lu_72 (ReLU)                 (None, 128, 800, 4)  0           add_18[0][0]                     \n",
      "__________________________________________________________________________________________________\n",
      "re_lu_78 (ReLU)                 (None, 128, 800, 4)  0           add_20[0][0]                     \n",
      "__________________________________________________________________________________________________\n",
      "re_lu_84 (ReLU)                 (None, 128, 800, 4)  0           add_22[0][0]                     \n",
      "__________________________________________________________________________________________________\n",
      "conv2d_112 (Conv2D)             (None, 128, 800, 4)  404         re_lu_66[0][0]                   \n",
      "__________________________________________________________________________________________________\n",
      "conv2d_121 (Conv2D)             (None, 128, 800, 4)  404         re_lu_72[0][0]                   \n",
      "__________________________________________________________________________________________________\n",
      "conv2d_130 (Conv2D)             (None, 128, 800, 4)  404         re_lu_78[0][0]                   \n",
      "__________________________________________________________________________________________________\n",
      "conv2d_139 (Conv2D)             (None, 128, 800, 4)  404         re_lu_84[0][0]                   \n",
      "__________________________________________________________________________________________________\n",
      "batch_normalization_84 (BatchNo (None, 128, 800, 4)  16          conv2d_112[0][0]                 \n",
      "__________________________________________________________________________________________________\n",
      "batch_normalization_92 (BatchNo (None, 128, 800, 4)  16          conv2d_121[0][0]                 \n",
      "__________________________________________________________________________________________________\n",
      "batch_normalization_100 (BatchN (None, 128, 800, 4)  16          conv2d_130[0][0]                 \n",
      "__________________________________________________________________________________________________\n",
      "batch_normalization_108 (BatchN (None, 128, 800, 4)  16          conv2d_139[0][0]                 \n",
      "__________________________________________________________________________________________________\n",
      "re_lu_67 (ReLU)                 (None, 128, 800, 4)  0           batch_normalization_84[0][0]     \n",
      "__________________________________________________________________________________________________\n",
      "re_lu_73 (ReLU)                 (None, 128, 800, 4)  0           batch_normalization_92[0][0]     \n",
      "__________________________________________________________________________________________________\n",
      "re_lu_79 (ReLU)                 (None, 128, 800, 4)  0           batch_normalization_100[0][0]    \n",
      "__________________________________________________________________________________________________\n",
      "re_lu_85 (ReLU)                 (None, 128, 800, 4)  0           batch_normalization_108[0][0]    \n",
      "__________________________________________________________________________________________________\n",
      "conv2d_113 (Conv2D)             (None, 128, 800, 4)  404         re_lu_67[0][0]                   \n",
      "__________________________________________________________________________________________________\n",
      "conv2d_122 (Conv2D)             (None, 128, 800, 4)  404         re_lu_73[0][0]                   \n",
      "__________________________________________________________________________________________________\n",
      "conv2d_131 (Conv2D)             (None, 128, 800, 4)  404         re_lu_79[0][0]                   \n",
      "__________________________________________________________________________________________________\n",
      "conv2d_140 (Conv2D)             (None, 128, 800, 4)  404         re_lu_85[0][0]                   \n",
      "__________________________________________________________________________________________________\n",
      "batch_normalization_85 (BatchNo (None, 128, 800, 4)  16          conv2d_113[0][0]                 \n",
      "__________________________________________________________________________________________________\n",
      "batch_normalization_93 (BatchNo (None, 128, 800, 4)  16          conv2d_122[0][0]                 \n",
      "__________________________________________________________________________________________________\n",
      "batch_normalization_101 (BatchN (None, 128, 800, 4)  16          conv2d_131[0][0]                 \n",
      "__________________________________________________________________________________________________\n",
      "batch_normalization_109 (BatchN (None, 128, 800, 4)  16          conv2d_140[0][0]                 \n",
      "__________________________________________________________________________________________________\n",
      "re_lu_68 (ReLU)                 (None, 128, 800, 4)  0           batch_normalization_85[0][0]     \n",
      "__________________________________________________________________________________________________\n",
      "re_lu_74 (ReLU)                 (None, 128, 800, 4)  0           batch_normalization_93[0][0]     \n",
      "__________________________________________________________________________________________________\n",
      "re_lu_80 (ReLU)                 (None, 128, 800, 4)  0           batch_normalization_101[0][0]    \n",
      "__________________________________________________________________________________________________\n",
      "re_lu_86 (ReLU)                 (None, 128, 800, 4)  0           batch_normalization_109[0][0]    \n",
      "__________________________________________________________________________________________________\n",
      "conv2d_115 (Conv2D)             (None, 128, 800, 4)  20          re_lu_66[0][0]                   \n",
      "__________________________________________________________________________________________________\n",
      "conv2d_114 (Conv2D)             (None, 128, 800, 4)  404         re_lu_68[0][0]                   \n",
      "__________________________________________________________________________________________________\n",
      "conv2d_124 (Conv2D)             (None, 128, 800, 4)  20          re_lu_72[0][0]                   \n",
      "__________________________________________________________________________________________________\n",
      "conv2d_123 (Conv2D)             (None, 128, 800, 4)  404         re_lu_74[0][0]                   \n",
      "__________________________________________________________________________________________________\n",
      "conv2d_133 (Conv2D)             (None, 128, 800, 4)  20          re_lu_78[0][0]                   \n",
      "__________________________________________________________________________________________________\n",
      "conv2d_132 (Conv2D)             (None, 128, 800, 4)  404         re_lu_80[0][0]                   \n",
      "__________________________________________________________________________________________________\n",
      "conv2d_142 (Conv2D)             (None, 128, 800, 4)  20          re_lu_84[0][0]                   \n",
      "__________________________________________________________________________________________________\n",
      "conv2d_141 (Conv2D)             (None, 128, 800, 4)  404         re_lu_86[0][0]                   \n",
      "__________________________________________________________________________________________________\n",
      "batch_normalization_87 (BatchNo (None, 128, 800, 4)  16          conv2d_115[0][0]                 \n",
      "__________________________________________________________________________________________________\n",
      "batch_normalization_86 (BatchNo (None, 128, 800, 4)  16          conv2d_114[0][0]                 \n",
      "__________________________________________________________________________________________________\n",
      "batch_normalization_95 (BatchNo (None, 128, 800, 4)  16          conv2d_124[0][0]                 \n",
      "__________________________________________________________________________________________________\n",
      "batch_normalization_94 (BatchNo (None, 128, 800, 4)  16          conv2d_123[0][0]                 \n",
      "__________________________________________________________________________________________________\n",
      "batch_normalization_103 (BatchN (None, 128, 800, 4)  16          conv2d_133[0][0]                 \n",
      "__________________________________________________________________________________________________\n",
      "batch_normalization_102 (BatchN (None, 128, 800, 4)  16          conv2d_132[0][0]                 \n",
      "__________________________________________________________________________________________________\n",
      "batch_normalization_111 (BatchN (None, 128, 800, 4)  16          conv2d_142[0][0]                 \n",
      "__________________________________________________________________________________________________\n",
      "batch_normalization_110 (BatchN (None, 128, 800, 4)  16          conv2d_141[0][0]                 \n",
      "__________________________________________________________________________________________________\n",
      "add_17 (Add)                    (None, 128, 800, 4)  0           batch_normalization_87[0][0]     \n",
      "                                                                 batch_normalization_86[0][0]     \n",
      "__________________________________________________________________________________________________\n",
      "add_19 (Add)                    (None, 128, 800, 4)  0           batch_normalization_95[0][0]     \n",
      "                                                                 batch_normalization_94[0][0]     \n",
      "__________________________________________________________________________________________________\n",
      "add_21 (Add)                    (None, 128, 800, 4)  0           batch_normalization_103[0][0]    \n",
      "                                                                 batch_normalization_102[0][0]    \n",
      "__________________________________________________________________________________________________\n",
      "add_23 (Add)                    (None, 128, 800, 4)  0           batch_normalization_111[0][0]    \n",
      "                                                                 batch_normalization_110[0][0]    \n",
      "__________________________________________________________________________________________________\n",
      "re_lu_69 (ReLU)                 (None, 128, 800, 4)  0           add_17[0][0]                     \n",
      "__________________________________________________________________________________________________\n",
      "re_lu_75 (ReLU)                 (None, 128, 800, 4)  0           add_19[0][0]                     \n",
      "__________________________________________________________________________________________________\n",
      "re_lu_81 (ReLU)                 (None, 128, 800, 4)  0           add_21[0][0]                     \n",
      "__________________________________________________________________________________________________\n",
      "re_lu_87 (ReLU)                 (None, 128, 800, 4)  0           add_23[0][0]                     \n",
      "__________________________________________________________________________________________________\n",
      "conv2d_116 (Conv2D)             (None, 128, 800, 1)  5           re_lu_69[0][0]                   \n",
      "__________________________________________________________________________________________________\n",
      "conv2d_125 (Conv2D)             (None, 128, 800, 1)  5           re_lu_75[0][0]                   \n",
      "__________________________________________________________________________________________________\n",
      "conv2d_134 (Conv2D)             (None, 128, 800, 1)  5           re_lu_81[0][0]                   \n",
      "__________________________________________________________________________________________________\n",
      "conv2d_143 (Conv2D)             (None, 128, 800, 1)  5           re_lu_87[0][0]                   \n",
      "__________________________________________________________________________________________________\n",
      "concatenate_12 (Concatenate)    (None, 128, 800, 4)  0           conv2d_116[0][0]                 \n",
      "                                                                 conv2d_125[0][0]                 \n",
      "                                                                 conv2d_134[0][0]                 \n",
      "                                                                 conv2d_143[0][0]                 \n",
      "==================================================================================================\n",
      "Total params: 2,216,948\n",
      "Trainable params: 2,211,844\n",
      "Non-trainable params: 5,104\n",
      "__________________________________________________________________________________________________\n"
     ]
    }
   ],
   "source": [
    "model_resunet_multiclass.summary()"
   ]
  },
  {
   "cell_type": "raw",
   "id": "184f0201",
   "metadata": {},
   "source": [
    "epochs = 25\n",
    "batch_size = 16\n",
    "\n",
    "train_generator = data_generator(x_train, batch_size, n_class = 4)\n",
    "validation_generator = data_generator(x_valid, batch_size, n_class = 4)\n",
    "\n",
    "train_steps_per_epoch=int(len(x_train)/batch_size)\n",
    "validation_steps_per_epoch=int(len(x_valid)/batch_size)\n",
    "\n",
    "history = model_resunet_multiclass.fit_generator(generator=train_generator,\n",
    "                               steps_per_epoch=train_steps_per_epoch,\n",
    "                               epochs=epochs,\n",
    "                               validation_data = validation_generator,\n",
    "                               validation_steps = validation_steps_per_epoch\n",
    "                               #callbacks=[early_stopping, model_checkpoint, reduce_lr])\n",
    "                              )"
   ]
  },
  {
   "cell_type": "raw",
   "id": "1743ef30",
   "metadata": {},
   "source": [
    "model_resunet_multiclass.save_weights('./weights/resUnetInception4Sigmoid_vFinal/resUnetInception4Sigmoid_vFinal')"
   ]
  },
  {
   "cell_type": "code",
   "execution_count": 43,
   "id": "e4ed34f0",
   "metadata": {
    "scrolled": true
   },
   "outputs": [
    {
     "data": {
      "image/png": "[encoded data removed]",
      "text/plain": [
       "<Figure size 432x288 with 1 Axes>"
      ]
     },
     "metadata": {
      "needs_background": "light"
     },
     "output_type": "display_data"
    },
    {
     "name": "stdout",
     "output_type": "stream",
     "text": [
      "Falla tipo: 1 - IOU: 1.0 - DICE: 1.0\n"
     ]
    },
    {
     "data": {
      "image/png": "[encoded data removed]",
      "text/plain": [
       "<Figure size 432x288 with 1 Axes>"
      ]
     },
     "metadata": {
      "needs_background": "light"
     },
     "output_type": "display_data"
    },
    {
     "data": {
      "image/png": "[encoded data removed]",
      "text/plain": [
       "<Figure size 432x288 with 1 Axes>"
      ]
     },
     "metadata": {
      "needs_background": "light"
     },
     "output_type": "display_data"
    },
    {
     "name": "stdout",
     "output_type": "stream",
     "text": [
      "Falla tipo: 2 - IOU: 0.0040241447277367115 - DICE: 0.0040241447277367115\n"
     ]
    },
    {
     "data": {
      "image/png": "[encoded data removed]",
      "text/plain": [
       "<Figure size 432x288 with 1 Axes>"
      ]
     },
     "metadata": {
      "needs_background": "light"
     },
     "output_type": "display_data"
    },
    {
     "data": {
      "image/png": "[encoded data removed]",
      "text/plain": [
       "<Figure size 432x288 with 1 Axes>"
      ]
     },
     "metadata": {
      "needs_background": "light"
     },
     "output_type": "display_data"
    },
    {
     "name": "stdout",
     "output_type": "stream",
     "text": [
      "Falla tipo: 3 - IOU: 1.0 - DICE: 1.0\n"
     ]
    },
    {
     "data": {
      "image/png": "[encoded data removed]",
      "text/plain": [
       "<Figure size 432x288 with 1 Axes>"
      ]
     },
     "metadata": {
      "needs_background": "light"
     },
     "output_type": "display_data"
    },
    {
     "data": {
      "image/png": "[encoded data removed]",
      "text/plain": [
       "<Figure size 432x288 with 1 Axes>"
      ]
     },
     "metadata": {
      "needs_background": "light"
     },
     "output_type": "display_data"
    },
    {
     "name": "stdout",
     "output_type": "stream",
     "text": [
      "Falla tipo: 4 - IOU: 1.0 - DICE: 1.0\n"
     ]
    },
    {
     "data": {
      "image/png": "[encoded data removed]",
      "text/plain": [
       "<Figure size 432x288 with 1 Axes>"
      ]
     },
     "metadata": {
      "needs_background": "light"
     },
     "output_type": "display_data"
    },
    {
     "data": {
      "image/png": "[encoded data removed]",
      "text/plain": [
       "<Figure size 432x288 with 1 Axes>"
      ]
     },
     "metadata": {
      "needs_background": "light"
     },
     "output_type": "display_data"
    },
    {
     "name": "stdout",
     "output_type": "stream",
     "text": [
      "Mean IOU: 0.7510060361819342\n",
      "Mean DICE: 0.751006007194519\n",
      "Keras-IOU: 0.49971312284469604\n"
     ]
    },
    {
     "data": {
      "image/png": "[encoded data removed]",
      "text/plain": [
       "<Figure size 432x288 with 1 Axes>"
      ]
     },
     "metadata": {
      "needs_background": "light"
     },
     "output_type": "display_data"
    },
    {
     "name": "stdout",
     "output_type": "stream",
     "text": [
      "Falla tipo: 1 - IOU: 1.0 - DICE: 1.0\n"
     ]
    },
    {
     "data": {
      "image/png": "[encoded data removed]",
      "text/plain": [
       "<Figure size 432x288 with 1 Axes>"
      ]
     },
     "metadata": {
      "needs_background": "light"
     },
     "output_type": "display_data"
    },
    {
     "data": {
      "image/png": "[encoded data removed]",
      "text/plain": [
       "<Figure size 432x288 with 1 Axes>"
      ]
     },
     "metadata": {
      "needs_background": "light"
     },
     "output_type": "display_data"
    },
    {
     "name": "stdout",
     "output_type": "stream",
     "text": [
      "Falla tipo: 2 - IOU: 1.0 - DICE: 1.0\n"
     ]
    },
    {
     "data": {
      "image/png": "[encoded data removed]",
      "text/plain": [
       "<Figure size 432x288 with 1 Axes>"
      ]
     },
     "metadata": {
      "needs_background": "light"
     },
     "output_type": "display_data"
    },
    {
     "data": {
      "image/png": "[encoded data removed]",
      "text/plain": [
       "<Figure size 432x288 with 1 Axes>"
      ]
     },
     "metadata": {
      "needs_background": "light"
     },
     "output_type": "display_data"
    },
    {
     "name": "stdout",
     "output_type": "stream",
     "text": [
      "Falla tipo: 3 - IOU: 0.20745819807052612 - DICE: 0.3434033691883087\n"
     ]
    },
    {
     "data": {
      "image/png": "[encoded data removed]",
      "text/plain": [
       "<Figure size 432x288 with 1 Axes>"
      ]
     },
     "metadata": {
      "needs_background": "light"
     },
     "output_type": "display_data"
    },
    {
     "data": {
      "image/png": "[encoded data removed]",
      "text/plain": [
       "<Figure size 432x288 with 1 Axes>"
      ]
     },
     "metadata": {
      "needs_background": "light"
     },
     "output_type": "display_data"
    },
    {
     "name": "stdout",
     "output_type": "stream",
     "text": [
      "Falla tipo: 4 - IOU: 1.0 - DICE: 1.0\n"
     ]
    },
    {
     "data": {
      "image/png": "[encoded data removed]",
      "text/plain": [
       "<Figure size 432x288 with 1 Axes>"
      ]
     },
     "metadata": {
      "needs_background": "light"
     },
     "output_type": "display_data"
    },
    {
     "data": {
      "image/png": "[encoded data removed]",
      "text/plain": [
       "<Figure size 432x288 with 1 Axes>"
      ]
     },
     "metadata": {
      "needs_background": "light"
     },
     "output_type": "display_data"
    },
    {
     "name": "stdout",
     "output_type": "stream",
     "text": [
      "Mean IOU: 0.8018645495176315\n",
      "Mean DICE: 0.8358508348464966\n",
      "Keras-IOU: 0.5696203708648682\n"
     ]
    },
    {
     "data": {
      "image/png": "[encoded data removed]",
      "text/plain": [
       "<Figure size 432x288 with 1 Axes>"
      ]
     },
     "metadata": {
      "needs_background": "light"
     },
     "output_type": "display_data"
    },
    {
     "name": "stdout",
     "output_type": "stream",
     "text": [
      "Falla tipo: 1 - IOU: 1.0 - DICE: 1.0\n"
     ]
    },
    {
     "data": {
      "image/png": "[encoded data removed]",
      "text/plain": [
       "<Figure size 432x288 with 1 Axes>"
      ]
     },
     "metadata": {
      "needs_background": "light"
     },
     "output_type": "display_data"
    },
    {
     "data": {
      "image/png": "[encoded data removed]",
      "text/plain": [
       "<Figure size 432x288 with 1 Axes>"
      ]
     },
     "metadata": {
      "needs_background": "light"
     },
     "output_type": "display_data"
    },
    {
     "name": "stdout",
     "output_type": "stream",
     "text": [
      "Falla tipo: 2 - IOU: 1.0 - DICE: 1.0\n"
     ]
    },
    {
     "data": {
      "image/png": "[encoded data removed]",
      "text/plain": [
       "<Figure size 432x288 with 1 Axes>"
      ]
     },
     "metadata": {
      "needs_background": "light"
     },
     "output_type": "display_data"
    },
    {
     "data": {
      "image/png": "[encoded data removed]",
      "text/plain": [
       "<Figure size 432x288 with 1 Axes>"
      ]
     },
     "metadata": {
      "needs_background": "light"
     },
     "output_type": "display_data"
    },
    {
     "name": "stdout",
     "output_type": "stream",
     "text": [
      "Falla tipo: 3 - IOU: 1.0 - DICE: 1.0\n"
     ]
    },
    {
     "data": {
      "image/png": "[encoded data removed]",
      "text/plain": [
       "<Figure size 432x288 with 1 Axes>"
      ]
     },
     "metadata": {
      "needs_background": "light"
     },
     "output_type": "display_data"
    },
    {
     "data": {
      "image/png": "[encoded data removed]",
      "text/plain": [
       "<Figure size 432x288 with 1 Axes>"
      ]
     },
     "metadata": {
      "needs_background": "light"
     },
     "output_type": "display_data"
    },
    {
     "name": "stdout",
     "output_type": "stream",
     "text": [
      "Falla tipo: 4 - IOU: 1.0 - DICE: 1.0\n"
     ]
    },
    {
     "data": {
      "image/png": "[encoded data removed]",
      "text/plain": [
       "<Figure size 432x288 with 1 Axes>"
      ]
     },
     "metadata": {
      "needs_background": "light"
     },
     "output_type": "display_data"
    },
    {
     "data": {
      "image/png": "[encoded data removed]",
      "text/plain": [
       "<Figure size 432x288 with 1 Axes>"
      ]
     },
     "metadata": {
      "needs_background": "light"
     },
     "output_type": "display_data"
    },
    {
     "name": "stdout",
     "output_type": "stream",
     "text": [
      "Mean IOU: 1.0\n",
      "Mean DICE: 1.0\n",
      "Keras-IOU: 1.0\n"
     ]
    },
    {
     "data": {
      "image/png": "[encoded data removed]",
      "text/plain": [
       "<Figure size 432x288 with 1 Axes>"
      ]
     },
     "metadata": {
      "needs_background": "light"
     },
     "output_type": "display_data"
    },
    {
     "name": "stdout",
     "output_type": "stream",
     "text": [
      "Falla tipo: 1 - IOU: 1.0 - DICE: 1.0\n"
     ]
    },
    {
     "data": {
      "image/png": "[encoded data removed]",
      "text/plain": [
       "<Figure size 432x288 with 1 Axes>"
      ]
     },
     "metadata": {
      "needs_background": "light"
     },
     "output_type": "display_data"
    },
    {
     "data": {
      "image/png": "[encoded data removed]",
      "text/plain": [
       "<Figure size 432x288 with 1 Axes>"
      ]
     },
     "metadata": {
      "needs_background": "light"
     },
     "output_type": "display_data"
    },
    {
     "name": "stdout",
     "output_type": "stream",
     "text": [
      "Falla tipo: 2 - IOU: 1.0 - DICE: 1.0\n"
     ]
    },
    {
     "data": {
      "image/png": "[encoded data removed]",
      "text/plain": [
       "<Figure size 432x288 with 1 Axes>"
      ]
     },
     "metadata": {
      "needs_background": "light"
     },
     "output_type": "display_data"
    },
    {
     "data": {
      "image/png": "[encoded data removed]",
      "text/plain": [
       "<Figure size 432x288 with 1 Axes>"
      ]
     },
     "metadata": {
      "needs_background": "light"
     },
     "output_type": "display_data"
    },
    {
     "name": "stdout",
     "output_type": "stream",
     "text": [
      "Falla tipo: 3 - IOU: 0.5701224207878113 - DICE: 0.7261891961097717\n"
     ]
    },
    {
     "data": {
      "image/png": "[encoded data removed]",
      "text/plain": [
       "<Figure size 432x288 with 1 Axes>"
      ]
     },
     "metadata": {
      "needs_background": "light"
     },
     "output_type": "display_data"
    },
    {
     "data": {
      "image/png": "[encoded data removed]",
      "text/plain": [
       "<Figure size 432x288 with 1 Axes>"
      ]
     },
     "metadata": {
      "needs_background": "light"
     },
     "output_type": "display_data"
    },
    {
     "name": "stdout",
     "output_type": "stream",
     "text": [
      "Falla tipo: 4 - IOU: 0.09488882124423981 - DICE: 0.09488882124423981\n"
     ]
    },
    {
     "data": {
      "image/png": "[encoded data removed]",
      "text/plain": [
       "<Figure size 432x288 with 1 Axes>"
      ]
     },
     "metadata": {
      "needs_background": "light"
     },
     "output_type": "display_data"
    },
    {
     "data": {
      "image/png": "[encoded data removed]",
      "text/plain": [
       "<Figure size 432x288 with 1 Axes>"
      ]
     },
     "metadata": {
      "needs_background": "light"
     },
     "output_type": "display_data"
    },
    {
     "name": "stdout",
     "output_type": "stream",
     "text": [
      "Mean IOU: 0.6662528105080128\n",
      "Mean DICE: 0.7052695155143738\n",
      "Keras-IOU: 0.6754425764083862\n"
     ]
    },
    {
     "data": {
      "image/png": "[encoded data removed]",
      "text/plain": [
       "<Figure size 432x288 with 1 Axes>"
      ]
     },
     "metadata": {
      "needs_background": "light"
     },
     "output_type": "display_data"
    },
    {
     "name": "stdout",
     "output_type": "stream",
     "text": [
      "Falla tipo: 1 - IOU: 1.0 - DICE: 1.0\n"
     ]
    },
    {
     "data": {
      "image/png": "[encoded data removed]",
      "text/plain": [
       "<Figure size 432x288 with 1 Axes>"
      ]
     },
     "metadata": {
      "needs_background": "light"
     },
     "output_type": "display_data"
    },
    {
     "data": {
      "image/png": "[encoded data removed]",
      "text/plain": [
       "<Figure size 432x288 with 1 Axes>"
      ]
     },
     "metadata": {
      "needs_background": "light"
     },
     "output_type": "display_data"
    },
    {
     "name": "stdout",
     "output_type": "stream",
     "text": [
      "Falla tipo: 2 - IOU: 1.0 - DICE: 1.0\n"
     ]
    },
    {
     "data": {
      "image/png": "[encoded data removed]",
      "text/plain": [
       "<Figure size 432x288 with 1 Axes>"
      ]
     },
     "metadata": {
      "needs_background": "light"
     },
     "output_type": "display_data"
    },
    {
     "data": {
      "image/png": "[encoded data removed]",
      "text/plain": [
       "<Figure size 432x288 with 1 Axes>"
      ]
     },
     "metadata": {
      "needs_background": "light"
     },
     "output_type": "display_data"
    },
    {
     "name": "stdout",
     "output_type": "stream",
     "text": [
      "Falla tipo: 3 - IOU: 0.7513421177864075 - DICE: 0.8580015897750854\n"
     ]
    },
    {
     "data": {
      "image/png": "[encoded data removed]",
      "text/plain": [
       "<Figure size 432x288 with 1 Axes>"
      ]
     },
     "metadata": {
      "needs_background": "light"
     },
     "output_type": "display_data"
    },
    {
     "data": {
      "image/png": "[encoded data removed]",
      "text/plain": [
       "<Figure size 432x288 with 1 Axes>"
      ]
     },
     "metadata": {
      "needs_background": "light"
     },
     "output_type": "display_data"
    },
    {
     "name": "stdout",
     "output_type": "stream",
     "text": [
      "Falla tipo: 4 - IOU: 1.0 - DICE: 1.0\n"
     ]
    },
    {
     "data": {
      "image/png": "[encoded data removed]",
      "text/plain": [
       "<Figure size 432x288 with 1 Axes>"
      ]
     },
     "metadata": {
      "needs_background": "light"
     },
     "output_type": "display_data"
    },
    {
     "data": {
      "image/png": "[encoded data removed]",
      "text/plain": [
       "<Figure size 432x288 with 1 Axes>"
      ]
     },
     "metadata": {
      "needs_background": "light"
     },
     "output_type": "display_data"
    },
    {
     "name": "stdout",
     "output_type": "stream",
     "text": [
      "Mean IOU: 0.9378355294466019\n",
      "Mean DICE: 0.9645004272460938\n",
      "Keras-IOU: 0.8380913734436035\n"
     ]
    },
    {
     "data": {
      "image/png": "[encoded data removed]",
      "text/plain": [
       "<Figure size 432x288 with 1 Axes>"
      ]
     },
     "metadata": {
      "needs_background": "light"
     },
     "output_type": "display_data"
    },
    {
     "name": "stdout",
     "output_type": "stream",
     "text": [
      "Falla tipo: 1 - IOU: 1.0 - DICE: 1.0\n"
     ]
    },
    {
     "data": {
      "image/png": "[encoded data removed]",
      "text/plain": [
       "<Figure size 432x288 with 1 Axes>"
      ]
     },
     "metadata": {
      "needs_background": "light"
     },
     "output_type": "display_data"
    },
    {
     "data": {
      "image/png": "[encoded data removed]",
      "text/plain": [
       "<Figure size 432x288 with 1 Axes>"
      ]
     },
     "metadata": {
      "needs_background": "light"
     },
     "output_type": "display_data"
    },
    {
     "name": "stdout",
     "output_type": "stream",
     "text": [
      "Falla tipo: 2 - IOU: 1.0 - DICE: 1.0\n"
     ]
    },
    {
     "data": {
      "image/png": "[encoded data removed]",
      "text/plain": [
       "<Figure size 432x288 with 1 Axes>"
      ]
     },
     "metadata": {
      "needs_background": "light"
     },
     "output_type": "display_data"
    },
    {
     "data": {
      "image/png": "[encoded data removed]",
      "text/plain": [
       "<Figure size 432x288 with 1 Axes>"
      ]
     },
     "metadata": {
      "needs_background": "light"
     },
     "output_type": "display_data"
    },
    {
     "name": "stdout",
     "output_type": "stream",
     "text": [
      "Falla tipo: 3 - IOU: 0.2676944136619568 - DICE: 0.422311931848526\n"
     ]
    },
    {
     "data": {
      "image/png": "[encoded data removed]",
      "text/plain": [
       "<Figure size 432x288 with 1 Axes>"
      ]
     },
     "metadata": {
      "needs_background": "light"
     },
     "output_type": "display_data"
    },
    {
     "data": {
      "image/png": "[encoded data removed]",
      "text/plain": [
       "<Figure size 432x288 with 1 Axes>"
      ]
     },
     "metadata": {
      "needs_background": "light"
     },
     "output_type": "display_data"
    },
    {
     "name": "stdout",
     "output_type": "stream",
     "text": [
      "Falla tipo: 4 - IOU: 0.00019689580949489027 - DICE: 0.00019689580949489027\n"
     ]
    },
    {
     "data": {
      "image/png": "[encoded data removed]",
      "text/plain": [
       "<Figure size 432x288 with 1 Axes>"
      ]
     },
     "metadata": {
      "needs_background": "light"
     },
     "output_type": "display_data"
    },
    {
     "data": {
      "image/png": "[encoded data removed]",
      "text/plain": [
       "<Figure size 432x288 with 1 Axes>"
      ]
     },
     "metadata": {
      "needs_background": "light"
     },
     "output_type": "display_data"
    },
    {
     "name": "stdout",
     "output_type": "stream",
     "text": [
      "Mean IOU: 0.5669728273678629\n",
      "Mean DICE: 0.6056272387504578\n",
      "Keras-IOU: 0.5377030372619629\n"
     ]
    },
    {
     "data": {
      "image/png": "[encoded data removed]",
      "text/plain": [
       "<Figure size 432x288 with 1 Axes>"
      ]
     },
     "metadata": {
      "needs_background": "light"
     },
     "output_type": "display_data"
    },
    {
     "name": "stdout",
     "output_type": "stream",
     "text": [
      "Falla tipo: 1 - IOU: 1.0 - DICE: 1.0\n"
     ]
    },
    {
     "data": {
      "image/png": "[encoded data removed]",
      "text/plain": [
       "<Figure size 432x288 with 1 Axes>"
      ]
     },
     "metadata": {
      "needs_background": "light"
     },
     "output_type": "display_data"
    },
    {
     "data": {
      "image/png": "[encoded data removed]",
      "text/plain": [
       "<Figure size 432x288 with 1 Axes>"
      ]
     },
     "metadata": {
      "needs_background": "light"
     },
     "output_type": "display_data"
    },
    {
     "name": "stdout",
     "output_type": "stream",
     "text": [
      "Falla tipo: 2 - IOU: 1.0 - DICE: 1.0\n"
     ]
    },
    {
     "data": {
      "image/png": "[encoded data removed]",
      "text/plain": [
       "<Figure size 432x288 with 1 Axes>"
      ]
     },
     "metadata": {
      "needs_background": "light"
     },
     "output_type": "display_data"
    },
    {
     "data": {
      "image/png": "[encoded data removed]",
      "text/plain": [
       "<Figure size 432x288 with 1 Axes>"
      ]
     },
     "metadata": {
      "needs_background": "light"
     },
     "output_type": "display_data"
    },
    {
     "name": "stdout",
     "output_type": "stream",
     "text": [
      "Falla tipo: 3 - IOU: 1.0 - DICE: 1.0\n"
     ]
    },
    {
     "data": {
      "image/png": "[encoded data removed]",
      "text/plain": [
       "<Figure size 432x288 with 1 Axes>"
      ]
     },
     "metadata": {
      "needs_background": "light"
     },
     "output_type": "display_data"
    },
    {
     "data": {
      "image/png": "[encoded data removed]",
      "text/plain": [
       "<Figure size 432x288 with 1 Axes>"
      ]
     },
     "metadata": {
      "needs_background": "light"
     },
     "output_type": "display_data"
    },
    {
     "name": "stdout",
     "output_type": "stream",
     "text": [
      "Falla tipo: 4 - IOU: 0.5633609890937805 - DICE: 0.7206636071205139\n"
     ]
    },
    {
     "data": {
      "image/png": "[encoded data removed]",
      "text/plain": [
       "<Figure size 432x288 with 1 Axes>"
      ]
     },
     "metadata": {
      "needs_background": "light"
     },
     "output_type": "display_data"
    },
    {
     "data": {
      "image/png": "[encoded data removed]",
      "text/plain": [
       "<Figure size 432x288 with 1 Axes>"
      ]
     },
     "metadata": {
      "needs_background": "light"
     },
     "output_type": "display_data"
    },
    {
     "name": "stdout",
     "output_type": "stream",
     "text": [
      "Mean IOU: 0.8908402472734451\n",
      "Mean DICE: 0.9301658868789673\n",
      "Keras-IOU: 0.8083759546279907\n"
     ]
    },
    {
     "data": {
      "image/png": "[encoded data removed]",
      "text/plain": [
       "<Figure size 432x288 with 1 Axes>"
      ]
     },
     "metadata": {
      "needs_background": "light"
     },
     "output_type": "display_data"
    },
    {
     "name": "stdout",
     "output_type": "stream",
     "text": [
      "Falla tipo: 1 - IOU: 0.0011431837920099497 - DICE: 0.0011431837920099497\n"
     ]
    },
    {
     "data": {
      "image/png": "[encoded data removed]",
      "text/plain": [
       "<Figure size 432x288 with 1 Axes>"
      ]
     },
     "metadata": {
      "needs_background": "light"
     },
     "output_type": "display_data"
    },
    {
     "data": {
      "image/png": "[encoded data removed]",
      "text/plain": [
       "<Figure size 432x288 with 1 Axes>"
      ]
     },
     "metadata": {
      "needs_background": "light"
     },
     "output_type": "display_data"
    },
    {
     "name": "stdout",
     "output_type": "stream",
     "text": [
      "Falla tipo: 2 - IOU: 1.0 - DICE: 1.0\n"
     ]
    },
    {
     "data": {
      "image/png": "[encoded data removed]",
      "text/plain": [
       "<Figure size 432x288 with 1 Axes>"
      ]
     },
     "metadata": {
      "needs_background": "light"
     },
     "output_type": "display_data"
    },
    {
     "data": {
      "image/png": "[encoded data removed]",
      "text/plain": [
       "<Figure size 432x288 with 1 Axes>"
      ]
     },
     "metadata": {
      "needs_background": "light"
     },
     "output_type": "display_data"
    },
    {
     "name": "stdout",
     "output_type": "stream",
     "text": [
      "Falla tipo: 3 - IOU: 1.0 - DICE: 1.0\n"
     ]
    },
    {
     "data": {
      "image/png": "[encoded data removed]",
      "text/plain": [
       "<Figure size 432x288 with 1 Axes>"
      ]
     },
     "metadata": {
      "needs_background": "light"
     },
     "output_type": "display_data"
    },
    {
     "data": {
      "image/png": "[encoded data removed]",
      "text/plain": [
       "<Figure size 432x288 with 1 Axes>"
      ]
     },
     "metadata": {
      "needs_background": "light"
     },
     "output_type": "display_data"
    },
    {
     "name": "stdout",
     "output_type": "stream",
     "text": [
      "Falla tipo: 4 - IOU: 1.0 - DICE: 1.0\n"
     ]
    },
    {
     "data": {
      "image/png": "[encoded data removed]",
      "text/plain": [
       "<Figure size 432x288 with 1 Axes>"
      ]
     },
     "metadata": {
      "needs_background": "light"
     },
     "output_type": "display_data"
    },
    {
     "data": {
      "image/png": "[encoded data removed]",
      "text/plain": [
       "<Figure size 432x288 with 1 Axes>"
      ]
     },
     "metadata": {
      "needs_background": "light"
     },
     "output_type": "display_data"
    },
    {
     "name": "stdout",
     "output_type": "stream",
     "text": [
      "Mean IOU: 0.7502857959480025\n",
      "Mean DICE: 0.750285804271698\n",
      "Keras-IOU: 0.49904051423072815\n"
     ]
    },
    {
     "data": {
      "image/png": "[encoded data removed]",
      "text/plain": [
       "<Figure size 432x288 with 1 Axes>"
      ]
     },
     "metadata": {
      "needs_background": "light"
     },
     "output_type": "display_data"
    },
    {
     "name": "stdout",
     "output_type": "stream",
     "text": [
      "Falla tipo: 1 - IOU: 1.0 - DICE: 1.0\n"
     ]
    },
    {
     "data": {
      "image/png": "[encoded data removed]",
      "text/plain": [
       "<Figure size 432x288 with 1 Axes>"
      ]
     },
     "metadata": {
      "needs_background": "light"
     },
     "output_type": "display_data"
    },
    {
     "data": {
      "image/png": "[encoded data removed]",
      "text/plain": [
       "<Figure size 432x288 with 1 Axes>"
      ]
     },
     "metadata": {
      "needs_background": "light"
     },
     "output_type": "display_data"
    },
    {
     "name": "stdout",
     "output_type": "stream",
     "text": [
      "Falla tipo: 2 - IOU: 1.0 - DICE: 1.0\n"
     ]
    },
    {
     "data": {
      "image/png": "[encoded data removed]",
      "text/plain": [
       "<Figure size 432x288 with 1 Axes>"
      ]
     },
     "metadata": {
      "needs_background": "light"
     },
     "output_type": "display_data"
    },
    {
     "data": {
      "image/png": "[encoded data removed]",
      "text/plain": [
       "<Figure size 432x288 with 1 Axes>"
      ]
     },
     "metadata": {
      "needs_background": "light"
     },
     "output_type": "display_data"
    },
    {
     "name": "stdout",
     "output_type": "stream",
     "text": [
      "Falla tipo: 3 - IOU: 1.0 - DICE: 1.0\n"
     ]
    },
    {
     "data": {
      "image/png": "[encoded data removed]",
      "text/plain": [
       "<Figure size 432x288 with 1 Axes>"
      ]
     },
     "metadata": {
      "needs_background": "light"
     },
     "output_type": "display_data"
    },
    {
     "data": {
      "image/png": "[encoded data removed]",
      "text/plain": [
       "<Figure size 432x288 with 1 Axes>"
      ]
     },
     "metadata": {
      "needs_background": "light"
     },
     "output_type": "display_data"
    },
    {
     "name": "stdout",
     "output_type": "stream",
     "text": [
      "Falla tipo: 4 - IOU: 1.0 - DICE: 1.0\n"
     ]
    },
    {
     "data": {
      "image/png": "[encoded data removed]",
      "text/plain": [
       "<Figure size 432x288 with 1 Axes>"
      ]
     },
     "metadata": {
      "needs_background": "light"
     },
     "output_type": "display_data"
    },
    {
     "data": {
      "image/png": "[encoded data removed]",
      "text/plain": [
       "<Figure size 432x288 with 1 Axes>"
      ]
     },
     "metadata": {
      "needs_background": "light"
     },
     "output_type": "display_data"
    },
    {
     "name": "stdout",
     "output_type": "stream",
     "text": [
      "Mean IOU: 1.0\n",
      "Mean DICE: 1.0\n",
      "Keras-IOU: 1.0\n"
     ]
    },
    {
     "data": {
      "image/png": "[encoded data removed]",
      "text/plain": [
       "<Figure size 432x288 with 1 Axes>"
      ]
     },
     "metadata": {
      "needs_background": "light"
     },
     "output_type": "display_data"
    },
    {
     "name": "stdout",
     "output_type": "stream",
     "text": [
      "Falla tipo: 1 - IOU: 1.0 - DICE: 1.0\n"
     ]
    },
    {
     "data": {
      "image/png": "[encoded data removed]",
      "text/plain": [
       "<Figure size 432x288 with 1 Axes>"
      ]
     },
     "metadata": {
      "needs_background": "light"
     },
     "output_type": "display_data"
    },
    {
     "data": {
      "image/png": "[encoded data removed]",
      "text/plain": [
       "<Figure size 432x288 with 1 Axes>"
      ]
     },
     "metadata": {
      "needs_background": "light"
     },
     "output_type": "display_data"
    },
    {
     "name": "stdout",
     "output_type": "stream",
     "text": [
      "Falla tipo: 2 - IOU: 1.0 - DICE: 1.0\n"
     ]
    },
    {
     "data": {
      "image/png": "[encoded data removed]",
      "text/plain": [
       "<Figure size 432x288 with 1 Axes>"
      ]
     },
     "metadata": {
      "needs_background": "light"
     },
     "output_type": "display_data"
    },
    {
     "data": {
      "image/png": "[encoded data removed]",
      "text/plain": [
       "<Figure size 432x288 with 1 Axes>"
      ]
     },
     "metadata": {
      "needs_background": "light"
     },
     "output_type": "display_data"
    },
    {
     "name": "stdout",
     "output_type": "stream",
     "text": [
      "Falla tipo: 3 - IOU: 1.0 - DICE: 1.0\n"
     ]
    },
    {
     "data": {
      "image/png": "[encoded data removed]",
      "text/plain": [
       "<Figure size 432x288 with 1 Axes>"
      ]
     },
     "metadata": {
      "needs_background": "light"
     },
     "output_type": "display_data"
    },
    {
     "data": {
      "image/png": "[encoded data removed]",
      "text/plain": [
       "<Figure size 432x288 with 1 Axes>"
      ]
     },
     "metadata": {
      "needs_background": "light"
     },
     "output_type": "display_data"
    },
    {
     "name": "stdout",
     "output_type": "stream",
     "text": [
      "Falla tipo: 4 - IOU: 1.0 - DICE: 1.0\n"
     ]
    },
    {
     "data": {
      "image/png": "[encoded data removed]",
      "text/plain": [
       "<Figure size 432x288 with 1 Axes>"
      ]
     },
     "metadata": {
      "needs_background": "light"
     },
     "output_type": "display_data"
    },
    {
     "data": {
      "image/png": "[encoded data removed]",
      "text/plain": [
       "<Figure size 432x288 with 1 Axes>"
      ]
     },
     "metadata": {
      "needs_background": "light"
     },
     "output_type": "display_data"
    },
    {
     "name": "stdout",
     "output_type": "stream",
     "text": [
      "Mean IOU: 1.0\n",
      "Mean DICE: 1.0\n",
      "Keras-IOU: 1.0\n",
      "\n",
      "Mean IOU Total: 0.8365057796243491\n",
      "Mean DICE Total: 0.7427986949682236\n",
      "Keras-IOU Total: 0.8542705774307251\n"
     ]
    }
   ],
   "source": [
    "test_generator = data_generator(x_test,batch_size=1, n_class = 4)\n",
    "\n",
    "iou_total = 0\n",
    "iou_keras_total = 0\n",
    "dice_total = 0\n",
    "\n",
    "for i in range(10):\n",
    "    data_test = next(test_generator)\n",
    "    prediction = model_resunet_multiclass.predict(data_test[0])\n",
    "    plt.imshow(data_test[0][0],cmap='gray', vmin=0, vmax=1)\n",
    "    plt.show()\n",
    "    \n",
    "    iou = 0\n",
    "    dice_1 = 0\n",
    "\n",
    "    y_pred_keras = []\n",
    "    y_true_keras = []\n",
    "    for j in range(data_test[1][0].shape[2]):\n",
    "        y_true = data_test[1][0][:,:,j]\n",
    "        y_pred = prediction[0][:,:,j]\n",
    "        \n",
    "        y_pred = (y_pred[:, :] > 0.5) * y_pred\n",
    "        print(f\"Falla tipo: {j+1} - \"\n",
    "              f\"IOU: {iou_coef(K.flatten(y_true), K.flatten(y_pred), smooth=1)} - \"\n",
    "              f\"DICE: {dice_coef(y_true, y_pred)}\")\n",
    "        iou += iou_coef(K.flatten(y_true), K.flatten(y_pred), smooth=1)\n",
    "        dice_1 += dice_coef(y_true, y_pred)\n",
    "        plt.imshow(y_true)\n",
    "        plt.show()\n",
    "        plt.imshow(y_pred)\n",
    "        plt.show()\n",
    "        \n",
    "        y_pred_keras.append(y_pred)\n",
    "        y_true_keras.append(y_true)\n",
    "        \n",
    "    print(f\"Mean IOU: {iou/4}\")\n",
    "    print(f\"Mean DICE: {dice_1/4}\")\n",
    "    \n",
    "    m = tf.keras.metrics.MeanIoU(num_classes=4)\n",
    "    m.update_state(y_true_keras, y_pred_keras).numpy()\n",
    "    #m.update_state([data_test[1][0][:,:,0], data_test[1][0][:,:,1], data_test[1][0][:,:,2], data_test[1][0][:,:,3]],\n",
    "    #                [prediction[0][:,:,0], prediction[0][:,:,1], prediction[0][:,:,2], prediction[0][:,:,3]]).numpy()\n",
    "    print(f\"Keras-IOU: {m.result().numpy()}\")\n",
    "    \n",
    "    iou_total += iou/4\n",
    "    iou_keras_total += dice_1/4\n",
    "    dice_total += m.result().numpy()\n",
    "    \n",
    "print()\n",
    "print(f\"Mean IOU Total: {iou_total/10}\")\n",
    "print(f\"Mean DICE Total: {dice_total/10}\")\n",
    "print(f\"Keras-IOU Total: {iou_keras_total/10}\")"
   ]
  },
  {
   "cell_type": "markdown",
   "id": "4171de32",
   "metadata": {},
   "source": [
    "### Testeo de modelo\n",
    "<p style='text-align: justify;'>\n",
    "    \n",
    "</p>\n"
   ]
  },
  {
   "cell_type": "code",
   "execution_count": 44,
   "id": "5bf127ec",
   "metadata": {},
   "outputs": [
    {
     "name": "stdout",
     "output_type": "stream",
     "text": [
      "Mean IOU Total: 0.7842167406434394\n",
      "Mean DICE Total: 0.6508923091745507\n",
      "Keras-IOU Total: 0.8034462982728329\n"
     ]
    }
   ],
   "source": [
    "test_generator = data_generator(x_test,batch_size=1)\n",
    "\n",
    "iou_total = 0\n",
    "iou_keras_total = 0\n",
    "dice_total = 0\n",
    "\n",
    "for i in range(len(x_test)):\n",
    "    data_test = next(test_generator)\n",
    "    prediction = model_resunet_multiclass.predict(data_test[0])\n",
    "    \n",
    "    iou = 0\n",
    "    dice_1 = 0\n",
    "\n",
    "    y_pred_keras = []\n",
    "    y_true_keras = []\n",
    "    for j in range(data_test[1][0].shape[2]):\n",
    "        y_true = data_test[1][0][:,:,j]\n",
    "        y_pred = prediction[0][:,:,j]\n",
    "        y_pred = (y_pred[:, :] > 0.5) * y_pred\n",
    "        \n",
    "        #print(f\"Falla tipo: {j+1} - IOU: {iou_coef(K.flatten(y_true), K.flatten(y_pred), smooth=1)} - DICE: {dice_coef(y_true, y_pred)}\")\n",
    "        #print(f\"Interseccion: {K.sum(K.abs(y_true * y_pred))}\")\n",
    "        iou += iou_coef(K.flatten(y_true), K.flatten(y_pred), smooth=1)\n",
    "        dice_1 += dice_coef(y_true, y_pred).numpy()\n",
    "\n",
    "        y_pred_keras.append(y_pred)\n",
    "        y_true_keras.append(y_true)\n",
    "    \n",
    "    m = tf.keras.metrics.MeanIoU(num_classes=4)\n",
    "    m.update_state(y_true_keras, y_pred_keras).numpy()\n",
    "    \n",
    "    #print(f\"Mean IOU: {iou/4}\")\n",
    "    #print(f\"Mean DICE: {dice_1/4}\")\n",
    "    #print(f\"Keras-IOU: {m.result().numpy()}\")\n",
    "    #print()\n",
    "    iou_total += iou/4\n",
    "    iou_keras_total += dice_1/4\n",
    "    dice_total += m.result().numpy()\n",
    "\n",
    "print(f\"Mean IOU Total: {iou_total/len(x_test)}\")\n",
    "print(f\"Mean DICE Total: {dice_total/len(x_test)}\")\n",
    "print(f\"Keras-IOU Total: {iou_keras_total/len(x_test)}\")"
   ]
  },
  {
   "cell_type": "code",
   "execution_count": null,
   "id": "5fd1ee5e",
   "metadata": {},
   "outputs": [],
   "source": []
  }
 ],
 "metadata": {
  "kernelspec": {
   "display_name": "Python 3",
   "language": "python",
   "name": "python3"
  },
  "language_info": {
   "codemirror_mode": {
    "name": "ipython",
    "version": 3
   },
   "file_extension": ".py",
   "mimetype": "text/x-python",
   "name": "python",
   "nbconvert_exporter": "python",
   "pygments_lexer": "ipython3",
   "version": "3.8.11"
  }
 },
 "nbformat": 4,
 "nbformat_minor": 5
}
