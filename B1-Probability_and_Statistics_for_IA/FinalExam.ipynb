{
 "cells": [
  {
   "cell_type": "markdown",
   "id": "10e08018",
   "metadata": {},
   "source": [
    "## Examen Final Probabilidad y Estadística para Inteligencia Artificial\n",
    "\n",
    "Abril 2021"
   ]
  },
  {
   "cell_type": "code",
   "execution_count": 1,
   "id": "b08846f7",
   "metadata": {},
   "outputs": [],
   "source": [
    "import matplotlib.pyplot as plt\n",
    "from scipy import stats\n",
    "import math as mt"
   ]
  },
  {
   "cell_type": "markdown",
   "id": "3ddceb28",
   "metadata": {},
   "source": [
    "### Ejercicio 1\n",
    "<p style='text-align: justify;'>\n",
    "Jerónimo y Marcelo juegan un partido de ta-te-tí. Si la primera jugada la hace Marcelo, la probabilidad de que gane el partido es de 0.8, mientras que si comienza Jerónimo es de 0.5. Para elegir quien comienza el juego, lanzan una moneda equilibrada 4 veces y si se observa una cantidad de caras mayor a la de\n",
    "cecas, el juego lo comieza Jerónimo.\n",
    "</p>\n",
    "\n",
    "a) Si se sabe que Marcelo fue el ganador del partido, hallar es la probabilidad de haber observado un número impar de caras.\n",
    "\n",
    "b) Simular el juego 1000 veces y estimar la probabilidad de que Marcelo gane el partido.\n",
    "\n",
    "c) En base a las simulaciones del item previo, verificar el resulado teórico del item a)\n",
    "</p>"
   ]
  },
  {
   "cell_type": "markdown",
   "id": "bd421d93",
   "metadata": {},
   "source": [
    "#### Desarrollo:\n",
    "<p style='text-align: justify;'>\n",
    "    \n",
    "$M$ = evento Marcelo gana\n",
    "    \n",
    "$J$ = evento Jerónimo gana\n",
    "    \n",
    "$m$ = evento Marcelo comienza\n",
    "    \n",
    "$j$ = evento Jerónimo comienza\n",
    "    \n",
    "$P(M|m) = 0.8$\n",
    "\n",
    "$P(J|m)=0.2$\n",
    "    \n",
    "$P(M|j) = 0.5$\n",
    "    \n",
    "$P(J|j)=0.5$\n",
    "       \n",
    "X = exitos en tiradas de moneda (cara). P(X = cara) = 0.5 ya que es una moneda balanceada.   \n",
    "</p>"
   ]
  },
  {
   "cell_type": "code",
   "execution_count": 2,
   "id": "eda3c6ea",
   "metadata": {},
   "outputs": [],
   "source": [
    "# DATOS DEL PROBLEMA\n",
    "pMm = 0.8   # Probabilidad de que gane Marcelo habiendo empezado Marcelo\n",
    "pJm = 0.2   # Probabilidad de que gane Jeronimo habiendo empezado Marcelo\n",
    "pMj = 0.5   # Probabilidad de que gane Marcelo habiendo empezado Jeronimo\n",
    "pJj = 0.5   # Probabilidad de que gane Jeronimo habiendo empezado Jeronimo\n",
    "\n",
    "# PROBABILIDADES DE ARRANQUE DE PARTIDA\n",
    "n = 4       # Tiradas total de monedas\n",
    "p = 0.5     # Moneda balanceada"
   ]
  },
  {
   "cell_type": "markdown",
   "id": "a2948aec",
   "metadata": {},
   "source": [
    "<p style='text-align: justify;'>\n",
    "    a) ¿$P(X=impar|M)$?\n",
    "</p>\n",
    "\n",
    "<p style='text-align: center;'>\n",
    "    $P(X=impar|M) = P(X=1|M) + P(X=3|M)$\n",
    "</p>\n",
    "\n",
    "<p style='text-align: justify;'>\n",
    "Por formula de bayes podemos escribir:\n",
    "</p>\n",
    "\n",
    "<p style='text-align: center;'>\n",
    "    $P(X=impar|M) = \\frac {P(X=1) . P(M|X=1)}{P(M)}  + \\frac {P(X=3) . P(M|X=3)} {P(M)}$\n",
    "</p>\n",
    "\n",
    "<p style='text-align: justify;'>\n",
    "Por lo que tenemos los siguientes términos:\n",
    "</p>\n",
    "\n",
    "- $P(M)$ calculable a partir de los datos del problema.\n",
    "\n",
    "- $P(X=1)$ y $P(X=3)$ son desconocidos que pueden calcularse con la binomial. Esto es posible porque es indistinto el orden de las tiradas.\n",
    "\n",
    "- $P(M|X=1) = P(M|m) = 0.8$ dato del problema.\n",
    "\n",
    "- $P(M|X=3) = P(M|j) = 0.5$ dato del problema.\n",
    "\n"
   ]
  },
  {
   "cell_type": "markdown",
   "id": "4e909dfc",
   "metadata": {},
   "source": [
    "$P(M)$:\n",
    "<p style='text-align: justify;'>\n",
    "La probabilidad de que gane Marcelo la puedo descomponer de la siguiente manera:\n",
    "</p>\n",
    "\n",
    "<p style='text-align: center;'>\n",
    "    $P(M) = P(M|m) . P(m) + P(M|j) . P(j)$\n",
    "</p>\n",
    "\n",
    "<p style='text-align: justify;'>\n",
    "    Donde $P(m) = 1 - P(j)$.\n",
    "</p>\n",
    "\n",
    "<p style='text-align: center;'>\n",
    "    $P(M) = P(M|m) . (1 - P(j)) + P(M|j) . P(j)$\n",
    "    $P(M) = P(M|m) - P(M|m) P(j) + P(M|j) . P(j)$\n",
    "    $P(M) = P(M|m) + (P(M|j) - P(M|m)) P(j)$\n",
    "    $P(M) = 0.8 + (0.5 - 0.8) P(j)$\n",
    "    $P(M) = 0.8 + 0.3 P(j)$\n",
    "</p>\n",
    "\n",
    "<p style='text-align: justify;'>\n",
    "    $P(j)$ puede escribirse como:\n",
    "</p>\n",
    "<p style='text-align: center;'>\n",
    "    $P(j) = P(X>2) = 1 - P(X\\leqslant2) $\n",
    "</p>\n",
    "\n",
    "<p style='text-align: justify;'>\n",
    "    Es decir, que es igual a la probabilidad de que en las 4 tiradas la mayoria sean caras. Esto lo calculamos a través de la siguiente linea de codigo:\n",
    "</p>"
   ]
  },
  {
   "cell_type": "code",
   "execution_count": 3,
   "id": "ccd0db4f",
   "metadata": {},
   "outputs": [
    {
     "name": "stdout",
     "output_type": "stream",
     "text": [
      "La probabilidad de que arranque Jeronimo es  0.3125\n",
      "La probabilidad de que arranque Marcelo es  0.6875\n"
     ]
    }
   ],
   "source": [
    "# PROBABILIDAD ACUMULADA DE QUE HAYA 3 O 4 CARAS, ES DECIR, LA PROBABILIDAD\n",
    "# DE QUE ARRANQUE LA PARTIDA JERONIMO => 1 - P(X <= 2 )\n",
    "k = 2       # Tiradas con exito, en este caso sale cara\n",
    "pj = 1 - stats.binom.cdf(k, n, p) #   Probabilidad de que arranque Jeronimo\n",
    "\n",
    "print('La probabilidad de que arranque Jeronimo es ', pj)\n",
    "\n",
    "pm = 1 - pj     # Probabilidad de que arranque Marcelo\n",
    "print('La probabilidad de que arranque Marcelo es ', pm)"
   ]
  },
  {
   "cell_type": "markdown",
   "id": "6b09bf52",
   "metadata": {},
   "source": [
    "<p style='text-align: justify;'>\n",
    "Por lo tanto, llegamos a que:\n",
    "</p>\n",
    "<p style='text-align: center;'>\n",
    "    $P(M) = 0.8 + 0.3 0.3125 = 0.70625$\n",
    "</p>"
   ]
  },
  {
   "cell_type": "markdown",
   "id": "f73d97fc",
   "metadata": {},
   "source": [
    "$P(X=1)$ y $P(X=3)$:\n",
    "<p style='text-align: justify;'>\n",
    "Como ya se ha mencionado se utilizará la expresión binomial para el calculo de las probabilidades de las distintas cantidades caras que nos interesan que salgan. Esta expresión es:\n",
    "</p>\n",
    "\n",
    "<p style='text-align: center;'>\n",
    "    $P(X = i) = {n \\choose i} p^{i} (1-p)^{n-i}$\n",
    "</p>\n",
    "\n",
    "<p style='text-align: justify;'>\n",
    "Donde n=4 que son las cantidad de tiradas. Esto resulta:\n",
    "</p>\n",
    "\n",
    "<p style='text-align: center;'>\n",
    "    $P(X = 1) = {4 \\choose 1} 0.5^{1} (1-0.5)^{4-1} = 0.25$\n",
    "</p>\n",
    "\n",
    "<p style='text-align: center;'>\n",
    "    $P(X = 3) = {4 \\choose 3} 0.5^{3} (1-0.5)^{4-3} = 0.25$\n",
    "</p>"
   ]
  },
  {
   "cell_type": "code",
   "execution_count": 4,
   "id": "2fa66590",
   "metadata": {},
   "outputs": [
    {
     "name": "stdout",
     "output_type": "stream",
     "text": [
      "\n",
      "La probabilidad de que salga 1 cara es 0.25000000000000006\n",
      "La probabilidad de que salgan 3 caras es  0.25000000000000006\n",
      "La probabilidad de que salga un nro impar de caras es 0.5000000000000001\n"
     ]
    }
   ],
   "source": [
    "# CALCULO DE pj CON LA PROBABILITY MASS FUNCTION\n",
    "# x1 = binom.pmf(3,4,0.5)\n",
    "# x2 = binom.pmf(4,4,0.5)\n",
    "# pj2 = x1 + x2\n",
    "\n",
    "# probabilidad de 1 cara\n",
    "px1 = stats.binom.pmf(1,n,p)\n",
    "\n",
    "# probabilidad de 3 caras\n",
    "px3 = stats.binom.pmf(3,n,p)\n",
    "\n",
    "print('\\nLa probabilidad de que salga 1 cara es', px1)\n",
    "print('La probabilidad de que salgan 3 caras es ', px3)\n",
    "print('La probabilidad de que salga un nro impar de caras es', px1+px3)"
   ]
  },
  {
   "cell_type": "markdown",
   "id": "42f1d6a9",
   "metadata": {},
   "source": [
    "Finalmente:\n",
    "\n",
    "<p style='text-align: center;'>\n",
    "    $P(X=impar|M) = \\frac {P(X=1) . P(M|X=1)}{P(M)}  + \\frac {P(X=3) . P(M|X=3)} {P(M)} = \\frac {0.25 x 0.8}{0.70625}  + \\frac {0.25 x 0.5} {0.70625} $\n",
    "    $P(X=impar|M) = 0.4602$\n",
    "</p>"
   ]
  },
  {
   "cell_type": "code",
   "execution_count": 5,
   "id": "752ec972",
   "metadata": {},
   "outputs": [
    {
     "name": "stdout",
     "output_type": "stream",
     "text": [
      "La probabilidad de que gane Marcelo es 0.70625\n",
      "La probabilidad de que gane Jeronimo es 0.29374999999999996\n",
      "La probabilidad de que el numero de caras haya sido impar, habiendo ganado marcelo es 0.4601769911504425\n"
     ]
    }
   ],
   "source": [
    "# PROBABILIDADES DE GANAR\n",
    "p_gana_M = 0.8 - 0.3 * pj      # Probabilidades de que gane Marcelop \n",
    "                               # Calculado como pMm * pm + pMj * pj\n",
    "\n",
    "p_gana_J = 1 - p_gana_M        # Probabilidades de que gane Jeronimo\n",
    "\n",
    "p_ximpar_ganamarcelo = ((px1 * pMm)/p_gana_M) + ((px3 * pMj)/p_gana_M)\n",
    "\n",
    "print('La probabilidad de que gane Marcelo es', p_gana_M)\n",
    "print('La probabilidad de que gane Jeronimo es', p_gana_J)\n",
    "print('La probabilidad de que el numero de caras haya sido impar, habiendo ganado marcelo es', p_ximpar_ganamarcelo)"
   ]
  },
  {
   "cell_type": "code",
   "execution_count": 6,
   "id": "b1234ee3",
   "metadata": {},
   "outputs": [
    {
     "name": "stdout",
     "output_type": "stream",
     "text": [
      "La probabilidad de que gane Marcelo es 0.704\n",
      "La probabilidad de que gane Jeronimo es 0.296\n",
      "La probabilidad de que el numero de caras haya sido impar, habiendo ganado marcelo es 0.4578125\n"
     ]
    }
   ],
   "source": [
    "#******************************************************************\n",
    "#   SIMULACION DEL EJERCICIO\n",
    "#******************************************************************\n",
    "\n",
    "N = 10000\n",
    "marcelo = 0\n",
    "jeronimo = 0\n",
    "ximpar_marcelo = 0\n",
    "victorias_marcelo = 0\n",
    "\n",
    "for simulacion in range(N):\n",
    "    \n",
    "    # Simulacion de 4 tiradas de moneda\n",
    "    caras = stats.binom.rvs(4, 0.5, size=1)\n",
    "    \n",
    "    if (caras >= 3):\n",
    "        gana_marcelo = stats.binom.rvs(1, 0.5, size=1)\n",
    "    elif (caras < 3):\n",
    "        gana_marcelo = stats.binom.rvs(1, 0.8, size=1)\n",
    "    \n",
    "    if gana_marcelo == 1:\n",
    "        marcelo += 1\n",
    "        if (caras==3)|(caras==1):\n",
    "            ximpar_marcelo += 1\n",
    "        victorias_marcelo += 1\n",
    "    else:\n",
    "        jeronimo += 1\n",
    "\n",
    "    \n",
    "p_marcelo = marcelo / N\n",
    "p_jeronimo = jeronimo / N\n",
    "p_ximp_marc_sim = ximpar_marcelo / victorias_marcelo\n",
    "\n",
    "print('La probabilidad de que gane Marcelo es', p_marcelo)\n",
    "print('La probabilidad de que gane Jeronimo es', p_jeronimo)\n",
    "print('La probabilidad de que el numero de caras haya sido impar, habiendo ganado marcelo es', p_ximp_marc_sim)"
   ]
  },
  {
   "cell_type": "markdown",
   "id": "da33ca15",
   "metadata": {},
   "source": [
    "### Ejercicio 2\n",
    "<p style='text-align: justify;'>\n",
    "La producción de gasolina mensual (en m3) en Neuquén sigue una distribución normal de media 95529 y desvío estándar 30127, mientras que la de Santa Cruz sigue una distribución también normal pero de media 8268 y desvío estándar 2481.\n",
    "    \n",
    "a) Hallar la probabilidad de que la producción total entre Neuquén y Santa Cruz de un mes supere los 142925 $m^3$.\n",
    "    \n",
    "b) Hallar la probabilidad de que en un mes la producción de Neuquén sea 10 veces más grande que la de Santa Cruz.\n",
    "    \n",
    "c) Si cada barril de gasolina tiene una capacidad de 159 l (0,159 $m^3$), hallar la cantidad mínima de barriles necesarios para almacenar la producción de gasolina de Santa Cruz de un mes con 95 % de probabilidad.\n",
    "    \n",
    "d) Simular el experimento y verificar los resultados obtenidos en los puntos a), b) y c).\n",
    "</p>"
   ]
  },
  {
   "cell_type": "code",
   "execution_count": 7,
   "id": "bd00b184",
   "metadata": {},
   "outputs": [],
   "source": [
    "#*******************************\n",
    "#   Datos del problema\n",
    "#*******************************\n",
    "mun, sigman = 95529, 30127  # media y desvio de Neuquén\n",
    "musc, sigmasc = 8268, 2481  # media y desvio de Santa Cruz\n",
    "\n",
    "capacidad_barril = 0.159 # Capacidad de barril en m3"
   ]
  },
  {
   "cell_type": "code",
   "execution_count": 8,
   "id": "83442ee6",
   "metadata": {},
   "outputs": [
    {
     "data": {
      "text/plain": [
       "Text(0.5, 1.0, 'Santa Cruz')"
      ]
     },
     "execution_count": 8,
     "metadata": {},
     "output_type": "execute_result"
    },
    {
     "data": {
      "image/png": "[encoded data removed]",
      "text/plain": [
       "<Figure size 432x288 with 1 Axes>"
      ]
     },
     "metadata": {
      "needs_background": "light"
     },
     "output_type": "display_data"
    }
   ],
   "source": [
    "#*******************************\n",
    "#   Inicializacion de variables\n",
    "#*******************************\n",
    "\n",
    "prod_neuquen = stats.norm.rvs(mun, sigman, size=100000)\n",
    "prod_santacruz = stats.norm.rvs(musc, sigmasc, size=100000)\n",
    "\n",
    "plt.hist(prod_neuquen, 100)\n",
    "plt.ylabel('frequencia')\n",
    "plt.xlabel('valores')\n",
    "plt.title('Neuquen')\n",
    "\n",
    "plt.hist(prod_santacruz, 100)\n",
    "plt.ylabel('frequencia')\n",
    "plt.xlabel('valores')\n",
    "plt.title('Santa Cruz')\n",
    "\n",
    "# varianzan = prod_neuquen.var()\n",
    "# median = prod_neuquen.mean()\n",
    "# varianzasc = prod_santacruz.var()\n",
    "# mediasc = prod_santacruz.mean()"
   ]
  },
  {
   "cell_type": "markdown",
   "id": "c20eab47",
   "metadata": {},
   "source": [
    "<p style='text-align: justify;'>\n",
    "a) $¿P(N + S > 142925)?$\n",
    "    \n",
    "Donde N es la v.a. de la producción de Neuquén y S la de Santa Cruz.\n",
    "\n",
    "Defino la producción total:\n",
    "</p>\n",
    "<p style='text-align: center;'>\n",
    "    $T = N + S$\n",
    "    \n",
    "</p>\n",
    "<p style='text-align: justify;'>\n",
    "Como las producciones de ambas provincias son independientes entre si, podemos escribir:\n",
    "    \n",
    "$E[T] = \\mu_{T} = \\mu_{N} + \\mu_{S}$\n",
    "\n",
    "$\\sigma[T] = \\sigma[N] + \\sigma[S]$\n",
    "    \n",
    "$T \\sim N (103797, 913791490)$\n",
    "    \n",
    "</p>\n",
    "\n",
    "<p style='text-align: justify;'>\n",
    "\n",
    "</p>"
   ]
  },
  {
   "cell_type": "code",
   "execution_count": 9,
   "id": "58b3e4a3",
   "metadata": {},
   "outputs": [
    {
     "name": "stdout",
     "output_type": "stream",
     "text": [
      "La probabilidad de que la produccion total sea mayor a 142925 m3 es de: 0.09776591372037358\n"
     ]
    }
   ],
   "source": [
    "puntoa_teorico = 1 - stats.norm.cdf((142925-(mun+musc))/(mt.sqrt(sigman**2+sigmasc**2)))\n",
    "print(f\"La probabilidad de que la produccion total sea mayor a 142925 m3 es de: {puntoa_teorico}\")"
   ]
  },
  {
   "cell_type": "markdown",
   "id": "8c5afefe",
   "metadata": {},
   "source": [
    "<p style='text-align: justify;'>\n",
    "b) $¿P(N \\geq 10*S)?$\n",
    "    \n",
    "$P(N \\geq 10*S) = P(N - 10*S \\geq 0) $    \n",
    "\n",
    "Definimos:\n",
    "\n",
    "$ Y = N - 10*S$\n",
    "</p>\n",
    "\n",
    "<p style='text-align: justify;'>\n",
    "Por lo tanto:\n",
    "    \n",
    "$E[Y] = \\mu_{Y} = \\mu_{N} + 10 * \\mu_{S}$\n",
    "\n",
    "$\\sigma[Y] = \\sigma[N] + 100 * \\sigma[S]$\n",
    "    \n",
    "$Y \\sim N (12849, 1523172229)$\n",
    "</p>\n",
    "\n",
    "<p style='text-align: justify;'>\n",
    "\n",
    "$P(N \\geq 10*S) = 1 - P(Y < 0)$\n",
    "\n",
    "Normalizo para utizar la funcion \"norm.cdf\" y calcular la probabilidad:\n",
    "    \n",
    "$P(N \\geq 10*S) = 1 - P(y < \\frac {-12849}{\\sqrt{1523172229}})$\n",
    "    \n",
    "$P(N \\geq 10*S) = 0.629$\n",
    "</p>"
   ]
  },
  {
   "cell_type": "code",
   "execution_count": 10,
   "id": "8df9163b",
   "metadata": {},
   "outputs": [
    {
     "name": "stdout",
     "output_type": "stream",
     "text": [
      "La probabilidad de que la produccion de Neuquén sea al menos 10 veces mayor a la de Santa Cruz es: 0.6290077636227774\n"
     ]
    }
   ],
   "source": [
    "puntob_teorico = 1 - stats.norm.cdf((-mun+10*musc)/(mt.sqrt(sigman**2+100*sigmasc**2)))\n",
    "print(f\"La probabilidad de que la produccion de Neuquén sea al menos 10 veces mayor a la de Santa Cruz es: {puntob_teorico}\")"
   ]
  },
  {
   "cell_type": "markdown",
   "id": "2a9052a1",
   "metadata": {},
   "source": [
    "c) $¿P(\\bar{S} \\leq s)=0.95?$\n",
    "    \n",
    "$\\bar{S} \\sim N (8268, 2481)$\n",
    "\n",
    "Definimos:\n",
    "\n",
    "$\\hat{S} = \\frac{\\bar{S} - \\mu_\\bar{S}}{\\sigma_\\bar{S}}$, tal que $\\hat{S} \\sim N (0, 1)$\n",
    "</p>\n",
    "\n",
    "<p style='text-align: justify;'>\n",
    "$P(\\hat{S} \\leq s') = 0.95$\n",
    "\n",
    "A s' lo calculamos con octave: s' = norminv(0.95) = 1.6449\n",
    "\n",
    "$P(\\frac{\\bar{S} - \\mu_\\bar{S}}{\\sigma_\\bar{S}} \\leq 1.6449) = 0.95$  \n",
    "    \n",
    "$P(\\bar{S} \\leq (1.6449*\\sigma_\\bar{S}) + \\mu_\\bar{S}) = 0.95$\n",
    "    \n",
    "$P(\\bar{S} \\leq (1.6449*2481) + 8268) = 0.95$\n",
    "\n",
    "$P(\\bar{S} \\leq 12348.9969) = 0.95$\n",
    "    \n",
    "Barriles necesarios = 12348.9969 / 0.159 = 77666.65 => 77667 Barriles\n",
    "</p>"
   ]
  },
  {
   "cell_type": "markdown",
   "id": "77529921",
   "metadata": {},
   "source": [
    "d) Simulacion"
   ]
  },
  {
   "cell_type": "code",
   "execution_count": 11,
   "id": "78218c25",
   "metadata": {},
   "outputs": [
    {
     "name": "stdout",
     "output_type": "stream",
     "text": [
      "\n",
      "a) La probabilidad de que la produccion total de un mes entre Neuquen y Santa Cruz  supere los 142925 m3 es de:\n",
      "Valor teorico:  0.09776591372037358\n",
      "Valor practico:  0.0904\n",
      "\n",
      "b) La probabilidad de que en un mes la producci´on de Neuqu´en sea 10 veces m´as grande que la de Santa Cruz es de:\n",
      "Valor teorico:  0.6290077636227774\n",
      "Valor practico:  0.6282\n",
      "\n",
      "c) Cantidad minima de barriles necesarios para almacenar la produccion de gasolina de Santa Cruz de un mes con 95 % de probabilidad:\n",
      "Valor teorico: 77667\n",
      "Valor practico:  77671\n"
     ]
    }
   ],
   "source": [
    "#*******************************\n",
    "#   Calculos y simulacion\n",
    "#*******************************\n",
    "n = 10000      #   Muestras a evaluar\n",
    "puntoa, puntob, puntoc = 0, 0, 0\n",
    "\n",
    "e = 0.0001\n",
    "puntoc2 = 0\n",
    "\n",
    "for muestra in range(n):\n",
    "    if prod_neuquen[muestra]+prod_santacruz[muestra]>142925:\n",
    "        puntoa += 1\n",
    "    if prod_neuquen[muestra]>=10*prod_santacruz[muestra]:\n",
    "        puntob += 1\n",
    "\n",
    "#   Se prueban dos calculos practicos de calcular el nro de barriles\n",
    "    if ((stats.norm.cdf((prod_santacruz[muestra]-musc)/sigmasc) <= 0.95-e)|(stats.norm.cdf((prod_santacruz[muestra]-musc)/sigmasc) <= 0.95+e)):\n",
    "        if prod_santacruz[muestra] > puntoc:\n",
    "            puntoc = prod_santacruz[muestra]\n",
    "    if (stats.norm.cdf((prod_santacruz[muestra]-musc)/sigmasc) <= 0.95):\n",
    "        if prod_santacruz[muestra] > puntoc2:\n",
    "            puntoc2 = prod_santacruz[muestra]\n",
    "\n",
    "puntoa = puntoa / n\n",
    "puntob = puntob / n\n",
    "puntoc = mt.ceil(puntoc / capacidad_barril)\n",
    "puntoc2 = mt.ceil(puntoc2 / capacidad_barril)\n",
    "\n",
    "print('\\na) La probabilidad de que la produccion total de un mes entre Neuquen y Santa Cruz  supere los 142925 m3 es de:')\n",
    "print('Valor teorico: ', puntoa_teorico)\n",
    "print('Valor practico: ', puntoa)\n",
    "\n",
    "print('\\nb) La probabilidad de que en un mes la producci´on de Neuqu´en sea 10 veces m´as grande que la de Santa Cruz es de:')\n",
    "print('Valor teorico: ', puntob_teorico)\n",
    "print('Valor practico: ', puntob)\n",
    "\n",
    "print('\\nc) Cantidad minima de barriles necesarios para almacenar la produccion de gasolina de Santa Cruz de un mes con 95 % de probabilidad:')\n",
    "print('Valor teorico: 77667')\n",
    "print('Valor practico: ', puntoc)"
   ]
  },
  {
   "cell_type": "markdown",
   "id": "9c2ccd1c",
   "metadata": {},
   "source": [
    "### Ejercicio 3\n",
    "<p style='text-align: justify;'>\n",
    "    Considere un problema de detección, donde se quiere detectar la presencia de una señal de amplitud constante desconocida A inmersa en ruido gaussiano aditivo blanco (AWGN) de media $0$ y varianza $σ^2$, también desconocida. Se tienen 10 mediciones de la señal recibida $Y = [Y [0], . . . , Y [9]]$.\n",
    "\n",
    "a) Hallar un intervalo de confianza del 95 % para la media de amplitud recibida.\n",
    "\n",
    "b) Si en las 10 mediciones se observó que el promedio $\\hat{y} = 1,02962$ y el desvío muestral estándar es de 0,3838 , determinar si existe evidencia suficiente para asegurar que hay presencia de señal con un 5 % de significación (Ayuda: plantear como hipótesis nula que no se envió una señal, es decir A = 0).\n",
    "\n",
    "c) Simular el experimento usando A = 1, σ = 0,4 y verificar los resultados obtenidos en los puntos a) y b).\n",
    "</p>"
   ]
  },
  {
   "cell_type": "code",
   "execution_count": 12,
   "id": "184e55a8",
   "metadata": {},
   "outputs": [],
   "source": [
    "#*******************************\n",
    "#   Datos del problema\n",
    "#*******************************\n",
    "n_3 = 10  # Cantidad de muestras\n",
    "A = 1   # Amplitud de la senal\n",
    "\n",
    "alpha = 0.05\n",
    "\n",
    "muw = 0         # Media del ruido\n",
    "sigmaw = 0.4    # Desvio del estandar del ruido\n",
    "\n",
    "#*******************************\n",
    "#   Inicializaciones\n",
    "#*******************************\n",
    "N_3 = 10000\n",
    "contador = 0"
   ]
  },
  {
   "cell_type": "markdown",
   "id": "77ea77e6",
   "metadata": {},
   "source": [
    "<p style='text-align: justify;'>\n",
    "a) Dado que no conozco la varianza de la medición, utilizaré la varianza muestral para calcular el intervalo de confianza a través de la distribución de t-Student.\n",
    "\n",
    "Media amplitud recibida: $\\bar{y} = \\frac{1}{10} * \\sum \\limits _{i=1} ^{N} y_i$\n",
    "<p>\n",
    "    \n",
    "<p style='text-align: center;'>\n",
    "$P(t_{1-\\frac{\\alpha}{2},N-1} < \\frac{\\bar{y}-A}{\\frac{S}{\\sqrt{N}}} < t_{\\frac{\\alpha}{2},N-1}) = 1- \\alpha$, tal que, $1-\\alpha = 0.95 => \\alpha = 0.05$\n",
    "    \n",
    "    \n",
    "<p>"
   ]
  },
  {
   "cell_type": "code",
   "execution_count": 13,
   "id": "7688e0c4",
   "metadata": {},
   "outputs": [
    {
     "name": "stdout",
     "output_type": "stream",
     "text": [
      "(-2.2621571627409915, 2.2621571627409915)\n"
     ]
    }
   ],
   "source": [
    "# Calculo el t de student con percentil alpha/2 y n_3-1\n",
    "t = stats.t.interval(1-alpha, n_3-1)\n",
    "print(t)"
   ]
  },
  {
   "cell_type": "markdown",
   "id": "2726bc4d",
   "metadata": {},
   "source": [
    "<p style='text-align: center;'>\n",
    "$t_{\\frac{\\alpha}{2},N-1} = t_{1-\\frac{\\alpha}{2},N-1} = 2.262$\n",
    "<p>"
   ]
  },
  {
   "cell_type": "markdown",
   "id": "f750740e",
   "metadata": {},
   "source": [
    "<p style='text-align: center;'>\n",
    "$P(-2.262 < \\frac{A-\\bar{y}}{\\frac{S}{\\sqrt{N}}} < 2.262) = 0.95$\n",
    "<p>\n",
    "<p style='text-align: center;'>\n",
    "$P(\\bar{y}-2.262*\\frac{S}{\\sqrt{N}} < A < \\bar{y}-2.262*\\frac{S}{\\sqrt{N}}) = 0.95$\n",
    "<p>"
   ]
  },
  {
   "cell_type": "markdown",
   "id": "d4c3d385",
   "metadata": {},
   "source": [
    "<p style='text-align: justify;'>\n",
    "    La varianza muestral estimada por el estimador insesgado:\n",
    "<p>\n",
    "    \n",
    "<p style='text-align: center;'>\n",
    "    $S^2 = \\frac{1}{N-1} \\sum \\limits _{i=1} ^{N} (y_i-\\hat{y})^2$\n",
    "<p>"
   ]
  },
  {
   "cell_type": "markdown",
   "id": "507b336c",
   "metadata": {},
   "source": [
    "<p style='text-align: justify;'>\n",
    "b) $\\bar{y} = 1.02962$ con $S=0.3838$\n",
    "    \n",
    "$P(A - \\frac{2.262*S}{\\sqrt{10}} < \\bar{y} < A + \\frac{2.262*S}{\\sqrt{10}}) = 0.95 $\n",
    "    \n",
    "    En caso de que no hubiera se;al transmitida A=0 y la media muestral debería pertenecer al rango:\n",
    "    \n",
    "$P(-0.274 < \\bar{y} < 0.274) = 0.95$\n",
    "    \n",
    "    para poder asegurar que hay un 95% de confianza en decir que no hay señal.\n",
    "    \n",
    "    Por lo tanto, es posible asegurar con un 5% de significancia que hay presencia de señal.\n",
    "<p>"
   ]
  },
  {
   "cell_type": "markdown",
   "id": "481fc682",
   "metadata": {},
   "source": [
    "c) Simulación"
   ]
  },
  {
   "cell_type": "code",
   "execution_count": 14,
   "id": "3844484e",
   "metadata": {},
   "outputs": [
    {
     "name": "stdout",
     "output_type": "stream",
     "text": [
      "La confianza de que haya una señal de amplitud 1 en las mediciones es de 0.9501\n"
     ]
    }
   ],
   "source": [
    "#*******************************\n",
    "#   Simulación\n",
    "#*******************************\n",
    "\n",
    "for simulacion in range(N_3):\n",
    "    \n",
    "    varianza_muestral = 0\n",
    "    #   Ruido montado\n",
    "    w = stats.norm.rvs(muw, sigmaw, size=n_3)\n",
    "    \n",
    "    #   Señal con ruido montado\n",
    "    y = 1 + w\n",
    "    \n",
    "    media_muestral = sum(y)/n_3\n",
    "    \n",
    "    for medicion in range(n_3):\n",
    "        varianza_muestral += ((y[medicion]-media_muestral)**2)/(n_3-1)\n",
    "    \n",
    "    desvio_muestral = mt.sqrt(varianza_muestral)\n",
    "    \n",
    "    #   Limites del intervalo\n",
    "    ymin = A + t[0] * desvio_muestral / mt.sqrt(n_3)\n",
    "    ymax = A + t[1] * desvio_muestral / mt.sqrt(n_3)\n",
    "    \n",
    "    if (media_muestral > ymin)&(media_muestral < ymax):\n",
    "        contador += 1\n",
    "        \n",
    "confianza = contador / N_3\n",
    "\n",
    "print(\"La confianza de que haya una señal de amplitud 1 en las mediciones es de\", confianza)"
   ]
  },
  {
   "cell_type": "code",
   "execution_count": null,
   "id": "b0816987",
   "metadata": {},
   "outputs": [],
   "source": []
  }
 ],
 "metadata": {
  "kernelspec": {
   "display_name": "Python 3",
   "language": "python",
   "name": "python3"
  },
  "language_info": {
   "codemirror_mode": {
    "name": "ipython",
    "version": 3
   },
   "file_extension": ".py",
   "mimetype": "text/x-python",
   "name": "python",
   "nbconvert_exporter": "python",
   "pygments_lexer": "ipython3",
   "version": "3.8.8"
  }
 },
 "nbformat": 4,
 "nbformat_minor": 5
}
