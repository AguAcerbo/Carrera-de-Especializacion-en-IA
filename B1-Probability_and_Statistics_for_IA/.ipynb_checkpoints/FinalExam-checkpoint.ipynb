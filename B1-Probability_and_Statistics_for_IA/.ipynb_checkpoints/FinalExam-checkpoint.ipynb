{
 "cells": [
  {
   "cell_type": "markdown",
   "id": "02344e50",
   "metadata": {},
   "source": [
    "## Examen Final Probabilidad y Estadística para Inteligencia Artificial\n",
    "\n",
    "Abril 2021"
   ]
  },
  {
   "cell_type": "code",
   "execution_count": 1,
   "id": "b14c2aed",
   "metadata": {},
   "outputs": [],
   "source": [
    "from scipy.stats import binom"
   ]
  },
  {
   "cell_type": "markdown",
   "id": "67978958",
   "metadata": {},
   "source": [
    "### Ejercicio 1\n",
    "<p style='text-align: justify;'>\n",
    "Jerónimo y Marcelo juegan un partido de ta-te-tí. Si la primera jugada la hace Marcelo, la probabilidad de que gane el partido es de 0.8, mientras que si comienza Jerónimo es de 0.5. Para elegir quien comienza el juego, lanzan una moneda equilibrada 4 veces y si se observa una cantidad de caras mayor a la de\n",
    "cecas, el juego lo comieza Jerónimo.\n",
    "</p>\n",
    "\n",
    "a) Si se sabe que Marcelo fue el ganador del partido, hallar es la probabilidad de haber observado un número impar de caras.\n",
    "\n",
    "b) Simular el juego 1000 veces y estimar la probabilidad de que Marcelo gane el partido.\n",
    "\n",
    "c) En base a las simulaciones del item previo, verificar el resulado teórico del item a)\n",
    "</p>"
   ]
  },
  {
   "cell_type": "markdown",
   "id": "3d2f47d6",
   "metadata": {},
   "source": [
    "#### Desarrollo:\n",
    "<p style='text-align: justify;'>\n",
    "    \n",
    "$M$ = evento Marcelo gana\n",
    "    \n",
    "$J$ = evento Jerónimo gana\n",
    "    \n",
    "$m$ = evento Marcelo comienza\n",
    "    \n",
    "$j$ = evento Jerónimo comienza\n",
    "    \n",
    "$P(M|m) = 0.8$\n",
    "\n",
    "$P(J|m)=0.2$\n",
    "    \n",
    "$P(M|j) = 0.5$\n",
    "    \n",
    "$P(J|j)=0.5$\n",
    "       \n",
    "X = exitos en tiradas de moneda (cara). P(X = cara) = 0.5 ya que es una moneda balanceada.   \n",
    "</p>"
   ]
  },
  {
   "cell_type": "code",
   "execution_count": 10,
   "id": "584c742f",
   "metadata": {},
   "outputs": [],
   "source": [
    "# DATOS DEL PROBLEMA\n",
    "pMm = 0.8   # Probabilidad de que gane Marcelo habiendo empezado Marcelo\n",
    "pJm = 0.2   # Probabilidad de que gane Jeronimo habiendo empezado Marcelo\n",
    "pMj = 0.5   # Probabilidad de que gane Marcelo habiendo empezado Jeronimo\n",
    "pJj = 0.5   # Probabilidad de que gane Jeronimo habiendo empezado Jeronimo\n",
    "\n",
    "# PROBABILIDADES DE ARRANQUE DE PARTIDA\n",
    "n = 4       # Tiradas total de monedas\n",
    "p = 0.5     # Moneda balanceada"
   ]
  },
  {
   "cell_type": "markdown",
   "id": "7f9cc5c9",
   "metadata": {},
   "source": [
    "<p style='text-align: justify;'>\n",
    "    a) ¿$P(X=impar|M)$?\n",
    "</p>\n",
    "\n",
    "<p style='text-align: center;'>\n",
    "    $P(X=impar|M) = P(X=1|M) + P(X=3|M)$\n",
    "</p>\n",
    "\n",
    "<p style='text-align: justify;'>\n",
    "Por formula de bayes podemos escribir:\n",
    "</p>\n",
    "\n",
    "<p style='text-align: center;'>\n",
    "    $P(X=impar|M) = \\frac {P(X=1) . P(M|X=1)}{P(M)}  + \\frac {P(X=3) . P(M|X=3)} {P(M)}$\n",
    "</p>\n",
    "\n",
    "<p style='text-align: justify;'>\n",
    "Por lo que tenemos los siguientes términos:\n",
    "</p>\n",
    "\n",
    "- $P(M)$ calculable a partir de los datos del problema.\n",
    "\n",
    "- $P(X=1)$ y $P(X=3)$ son desconocidos que pueden calcularse con la binomial. Esto es posible porque es indistinto el orden de las tiradas.\n",
    "\n",
    "- $P(M|X=1) = P(M|m) = 0.8$ dato del problema.\n",
    "\n",
    "- $P(M|X=3) = P(M|j) = 0.5$ dato del problema.\n",
    "\n"
   ]
  },
  {
   "cell_type": "markdown",
   "id": "5a83a4af",
   "metadata": {},
   "source": [
    "$P(M)$:\n",
    "<p style='text-align: justify;'>\n",
    "La probabilidad de que gane Marcelo la puedo descomponer de la siguiente manera:\n",
    "</p>\n",
    "\n",
    "<p style='text-align: center;'>\n",
    "    $P(M) = P(M|m) . P(m) + P(M|j) . P(j)$\n",
    "</p>\n",
    "\n",
    "<p style='text-align: justify;'>\n",
    "    Donde $P(m) = 1 - P(j)$.\n",
    "</p>\n",
    "\n",
    "<p style='text-align: center;'>\n",
    "    $P(M) = P(M|m) . (1 - P(j)) + P(M|j) . P(j)$\n",
    "    $P(M) = P(M|m) - P(M|m) P(j) + P(M|j) . P(j)$\n",
    "    $P(M) = P(M|m) + (P(M|j) - P(M|m)) P(j)$\n",
    "    $P(M) = 0.8 + (0.5 - 0.8) P(j)$\n",
    "    $P(M) = 0.8 + 0.3 P(j)$\n",
    "</p>\n",
    "\n",
    "<p style='text-align: justify;'>\n",
    "    $P(j)$ puede escribirse como:\n",
    "</p>\n",
    "<p style='text-align: center;'>\n",
    "    $P(j) = P(X>2) = 1 - P(X\\leqslant2) $\n",
    "</p>\n",
    "\n",
    "<p style='text-align: justify;'>\n",
    "    Es decir, que es igual a la probabilidad de que en las 4 tiradas la mayoria sean caras. Esto lo calculamos a través de la siguiente linea de codigo:\n",
    "</p>"
   ]
  },
  {
   "cell_type": "code",
   "execution_count": 11,
   "id": "4fc78ba4",
   "metadata": {},
   "outputs": [
    {
     "name": "stdout",
     "output_type": "stream",
     "text": [
      "La probabilidad de que arranque Jeronimo es  0.3125\n",
      "La probabilidad de que arranque Marcelo es  0.6875\n"
     ]
    }
   ],
   "source": [
    "# PROBABILIDAD ACUMULADA DE QUE HAYA 3 O 4 CARAS, ES DECIR, LA PROBABILIDAD\n",
    "# DE QUE ARRANQUE LA PARTIDA JERONIMO => 1 - P(X <= 2 )\n",
    "k = 2       # Tiradas con exito, en este caso sale cara\n",
    "pj = 1 - binom.cdf(k, n, p) #   Probabilidad de que arranque Jeronimo\n",
    "\n",
    "print('La probabilidad de que arranque Jeronimo es ', pj)\n",
    "\n",
    "pm = 1 - pj     # Probabilidad de que arranque Marcelo\n",
    "print('La probabilidad de que arranque Marcelo es ', pm)"
   ]
  },
  {
   "cell_type": "markdown",
   "id": "a9ba9c97",
   "metadata": {},
   "source": [
    "<p style='text-align: justify;'>\n",
    "Por lo tanto, llegamos a que:\n",
    "</p>\n",
    "<p style='text-align: center;'>\n",
    "    $P(M) = 0.8 + 0.3 0.3125 = 0.70625$\n",
    "</p>"
   ]
  },
  {
   "cell_type": "markdown",
   "id": "f50175a9",
   "metadata": {},
   "source": [
    "$P(X=1)$ y $P(X=3)$:\n",
    "<p style='text-align: justify;'>\n",
    "Como ya se ha mencionado se utilizará la expresión binomial para el calculo de las probabilidades de las distintas cantidades caras que nos interesan que salgan. Esta expresión es:\n",
    "</p>\n",
    "\n",
    "<p style='text-align: center;'>\n",
    "    $P(X = i) = {n \\choose i} p^{i} (1-p)^{n-i}$\n",
    "</p>\n",
    "\n",
    "<p style='text-align: justify;'>\n",
    "Donde n=4 que son las cantidad de tiradas. Esto resulta:\n",
    "</p>\n",
    "\n",
    "<p style='text-align: center;'>\n",
    "    $P(X = 1) = {4 \\choose 1} 0.5^{1} (1-0.5)^{4-1} = 0.25$\n",
    "</p>\n",
    "\n",
    "<p style='text-align: center;'>\n",
    "    $P(X = 3) = {4 \\choose 3} 0.5^{3} (1-0.5)^{4-3} = 0.25$\n",
    "</p>"
   ]
  },
  {
   "cell_type": "code",
   "execution_count": 12,
   "id": "0ed40e63",
   "metadata": {},
   "outputs": [
    {
     "name": "stdout",
     "output_type": "stream",
     "text": [
      "\n",
      "La probabilidad de que salga 1 cara es 0.25000000000000006\n",
      "La probabilidad de que salgan 3 caras es  0.25000000000000006\n",
      "La probabilidad de que salga un nro impar de caras es 0.5000000000000001\n"
     ]
    }
   ],
   "source": [
    "# CALCULO DE pj CON LA PROBABILITY MASS FUNCTION\n",
    "# x1 = binom.pmf(3,4,0.5)\n",
    "# x2 = binom.pmf(4,4,0.5)\n",
    "# pj2 = x1 + x2\n",
    "\n",
    "# probabilidad de 1 cara\n",
    "px1 = binom.pmf(1,n,p)\n",
    "\n",
    "# probabilidad de 3 caras\n",
    "px3 = binom.pmf(3,n,p)\n",
    "\n",
    "print('\\nLa probabilidad de que salga 1 cara es', px1)\n",
    "print('La probabilidad de que salgan 3 caras es ', px3)\n",
    "print('La probabilidad de que salga un nro impar de caras es', px1+px3)"
   ]
  },
  {
   "cell_type": "markdown",
   "id": "f422813d",
   "metadata": {},
   "source": [
    "Finalmente:\n",
    "\n",
    "<p style='text-align: center;'>\n",
    "    $P(X=impar|M) = \\frac {P(X=1) . P(M|X=1)}{P(M)}  + \\frac {P(X=3) . P(M|X=3)} {P(M)} = \\frac {0.25 x 0.8}{0.70625}  + \\frac {0.25 x 0.5} {0.70625} $\n",
    "    $P(X=impar|M) = 0.4602$\n",
    "</p>"
   ]
  },
  {
   "cell_type": "code",
   "execution_count": 13,
   "id": "5601d5c5",
   "metadata": {},
   "outputs": [
    {
     "name": "stdout",
     "output_type": "stream",
     "text": [
      "La probabilidad de que gane Marcelo es 0.70625\n",
      "La probabilidad de que gane Jeronimo es 0.29374999999999996\n",
      "La probabilidad de que el numero de caras haya sido impar, habiendo ganado marcelo es 0.4601769911504425\n"
     ]
    }
   ],
   "source": [
    "# PROBABILIDADES DE GANAR\n",
    "p_gana_M = 0.8 - 0.3 * pj      # Probabilidades de que gane Marcelop \n",
    "                               # Calculado como pMm * pm + pMj * pj\n",
    "\n",
    "p_gana_J = 1 - p_gana_M        # Probabilidades de que gane Jeronimo\n",
    "\n",
    "p_ximpar_ganamarcelo = ((px1 * pMm)/p_gana_M) + ((px3 * pMj)/p_gana_M)\n",
    "\n",
    "print('La probabilidad de que gane Marcelo es', p_gana_M)\n",
    "print('La probabilidad de que gane Jeronimo es', p_gana_J)\n",
    "print('La probabilidad de que el numero de caras haya sido impar, habiendo ganado marcelo es', p_ximpar_ganamarcelo)"
   ]
  },
  {
   "cell_type": "code",
   "execution_count": 14,
   "id": "a43fbc8f",
   "metadata": {},
   "outputs": [
    {
     "name": "stdout",
     "output_type": "stream",
     "text": [
      "La probabilidad de que gane Marcelo es 0.7088\n",
      "La probabilidad de que gane Jeronimo es 0.2912\n",
      "La probabilidad de que el numero de caras haya sido impar, habiendo ganado marcelo es 0.45598194130925507\n"
     ]
    }
   ],
   "source": [
    "#******************************************************************\n",
    "#   SIMULACION DEL EJERCICIO\n",
    "#******************************************************************\n",
    "\n",
    "N = 10000\n",
    "marcelo = 0\n",
    "jeronimo = 0\n",
    "ximpar_marcelo = 0\n",
    "victorias_marcelo = 0\n",
    "\n",
    "for simulacion in range(N):\n",
    "    \n",
    "    # Simulacion de 4 tiradas de moneda\n",
    "    caras = binom.rvs(4, 0.5, size=1)\n",
    "    \n",
    "    if (caras >= 3):\n",
    "        gana_marcelo = binom.rvs(1, 0.5, size=1)\n",
    "    elif (caras < 3):\n",
    "        gana_marcelo = binom.rvs(1, 0.8, size=1)\n",
    "    \n",
    "    if gana_marcelo == 1:\n",
    "        marcelo += 1\n",
    "        if (caras==3)|(caras==1):\n",
    "            ximpar_marcelo += 1\n",
    "        victorias_marcelo += 1\n",
    "    else:\n",
    "        jeronimo += 1\n",
    "\n",
    "    \n",
    "p_marcelo = marcelo / N\n",
    "p_jeronimo = jeronimo / N\n",
    "p_ximp_marc_sim = ximpar_marcelo / victorias_marcelo\n",
    "\n",
    "print('La probabilidad de que gane Marcelo es', p_marcelo)\n",
    "print('La probabilidad de que gane Jeronimo es', p_jeronimo)\n",
    "print('La probabilidad de que el numero de caras haya sido impar, habiendo ganado marcelo es', p_ximp_marc_sim)"
   ]
  },
  {
   "cell_type": "code",
   "execution_count": null,
   "id": "bd70b5aa",
   "metadata": {},
   "outputs": [],
   "source": []
  }
 ],
 "metadata": {
  "kernelspec": {
   "display_name": "Python 3",
   "language": "python",
   "name": "python3"
  },
  "language_info": {
   "codemirror_mode": {
    "name": "ipython",
    "version": 3
   },
   "file_extension": ".py",
   "mimetype": "text/x-python",
   "name": "python",
   "nbconvert_exporter": "python",
   "pygments_lexer": "ipython3",
   "version": "3.8.8"
  }
 },
 "nbformat": 4,
 "nbformat_minor": 5
}
