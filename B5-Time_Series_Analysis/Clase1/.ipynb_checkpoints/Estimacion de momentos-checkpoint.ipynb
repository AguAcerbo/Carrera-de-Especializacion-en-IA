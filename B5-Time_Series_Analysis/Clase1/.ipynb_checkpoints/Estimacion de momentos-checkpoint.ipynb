{
 "cells": [
  {
   "cell_type": "code",
   "execution_count": null,
   "id": "7a48e591",
   "metadata": {},
   "outputs": [],
   "source": [
    "def mean_tsa(tsa, N):\n",
    "    mean = np.array([])\n",
    "\n",
    "    for i in range(int(np.floor(len(tsa)/N))):\n",
    "        mean = np.append(mean, np.sum(tsa[i*N:(i+1)*(N-1)])/ N)\n",
    "    return mean\n",
    "\n",
    "\n",
    "def autocorrelacion_k_tsa(tsa, N, k):\n",
    "    ac = np.array([])\n",
    "    mean = mean_tsa(tsa, N)\n",
    "    \n",
    "    for i in range(int(np.floor(len(tsa)/N))):\n",
    "        ac = np.append(ac, np.sum((tsa[k:(N-1)]-mean[i])*(tsa[0:(N-1-k)]-mean[i]))/N)\n",
    "        \n",
    "    return ac\n",
    "\n",
    "def autocovarianza_k_tsa(tsa, N, k):\n",
    "    return autocorrelacion_k_tsa(tsa, N, k)/autocorrelacion_k_tsa(tsa, N, 0)"
   ]
  }
 ],
 "metadata": {
  "kernelspec": {
   "display_name": "Python 3 (ipykernel)",
   "language": "python",
   "name": "python3"
  },
  "language_info": {
   "codemirror_mode": {
    "name": "ipython",
    "version": 3
   },
   "file_extension": ".py",
   "mimetype": "text/x-python",
   "name": "python",
   "nbconvert_exporter": "python",
   "pygments_lexer": "ipython3",
   "version": "3.8.12"
  }
 },
 "nbformat": 4,
 "nbformat_minor": 5
}
