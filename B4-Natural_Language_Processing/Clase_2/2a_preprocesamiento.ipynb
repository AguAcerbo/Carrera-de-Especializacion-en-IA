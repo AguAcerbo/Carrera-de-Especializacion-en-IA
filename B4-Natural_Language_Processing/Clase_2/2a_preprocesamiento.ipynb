{
  "nbformat": 4,
  "nbformat_minor": 0,
  "metadata": {
    "colab": {
      "name": "Copia de 2a - preprocesamiento.ipynb",
      "provenance": [],
      "collapsed_sections": []
    },
    "kernelspec": {
      "name": "python3",
      "display_name": "Python 3"
    },
    "language_info": {
      "name": "python"
    }
  },
  "cells": [
    {
      "cell_type": "markdown",
      "metadata": {
        "id": "Ue5hxxkdAQJg"
      },
      "source": [
        "<a href=\"https://www.inove.com.ar\"><img src=\"https://github.com/hernancontigiani/ceia_memorias_especializacion/raw/master/Figures/logoFIUBA.jpg\" width=\"500\" align=\"center\"></a>\n",
        "\n",
        "\n",
        "# Procesamiento de lenguaje natural\n",
        "## Preprocesamiento con NLTK y Spacy\n"
      ]
    },
    {
      "cell_type": "code",
      "metadata": {
        "id": "kCED1hh-Ioyf"
      },
      "source": [
        "import json\n",
        "import string\n",
        "import random \n",
        "\n",
        "import numpy as np"
      ],
      "execution_count": 1,
      "outputs": []
    },
    {
      "cell_type": "markdown",
      "metadata": {
        "id": "DMOa4JPSCJ29"
      },
      "source": [
        "### Datos"
      ]
    },
    {
      "cell_type": "code",
      "metadata": {
        "id": "gdW55pJin1rt"
      },
      "source": [
        "simple_text = \"if she leaves now she might miss something importart!\""
      ],
      "execution_count": 2,
      "outputs": []
    },
    {
      "cell_type": "code",
      "metadata": {
        "id": "RIO7b8GjAC17"
      },
      "source": [
        "large_text = \"Patients who in late middle age have smoked 20 cigarettes a day since their teens constitute an at-risk group. One thing they’re clearly at risk for is the acute sense of guilt that a clinician can incite, which immediately makes a consultation tense.\""
      ],
      "execution_count": 3,
      "outputs": []
    },
    {
      "cell_type": "markdown",
      "metadata": {
        "id": "FVHxBRNzCMOS"
      },
      "source": [
        "### 1 - Preprocesamiento con NLTK\n",
        "- Cada documento transformarlo en una lista de términos\n",
        "- Armar un vector de términos no repetidos de todos los documentos"
      ]
    },
    {
      "cell_type": "code",
      "metadata": {
        "id": "wM-lmmsFnC6X",
        "colab": {
          "base_uri": "https://localhost:8080/"
        },
        "outputId": "aba9b083-4004-490a-ae12-6ce4d99fec67"
      },
      "source": [
        "import nltk\n",
        "from nltk.tokenize import word_tokenize  \n",
        "from nltk.corpus import stopwords\n",
        "\n",
        "# Descargar el diccionario\n",
        "nltk.download(\"punkt\")\n",
        "nltk.download(\"wordnet\")\n",
        "nltk.download('stopwords')"
      ],
      "execution_count": 4,
      "outputs": [
        {
          "output_type": "stream",
          "name": "stdout",
          "text": [
            "[nltk_data] Downloading package punkt to /root/nltk_data...\n",
            "[nltk_data]   Unzipping tokenizers/punkt.zip.\n",
            "[nltk_data] Downloading package wordnet to /root/nltk_data...\n",
            "[nltk_data]   Unzipping corpora/wordnet.zip.\n",
            "[nltk_data] Downloading package stopwords to /root/nltk_data...\n",
            "[nltk_data]   Unzipping corpora/stopwords.zip.\n"
          ]
        },
        {
          "output_type": "execute_result",
          "data": {
            "text/plain": [
              "True"
            ]
          },
          "metadata": {},
          "execution_count": 4
        }
      ]
    },
    {
      "cell_type": "code",
      "metadata": {
        "id": "1Er9fvFonfT1"
      },
      "source": [
        "# Crear el derivador\n",
        "from nltk.stem.snowball import SnowballStemmer\n",
        "from nltk.stem.porter import *\n",
        "p_stemmer = PorterStemmer()"
      ],
      "execution_count": 5,
      "outputs": []
    },
    {
      "cell_type": "code",
      "metadata": {
        "id": "BuEob1D6nEPK"
      },
      "source": [
        "# Crear el lematizador\n",
        "from nltk.stem import WordNetLemmatizer\n",
        "lemmatizer = WordNetLemmatizer()"
      ],
      "execution_count": 6,
      "outputs": []
    },
    {
      "cell_type": "code",
      "metadata": {
        "id": "GE9pq3dMod6Y",
        "colab": {
          "base_uri": "https://localhost:8080/"
        },
        "outputId": "5c2bf7ab-0785-4d5e-8d07-ec1b454f09c4"
      },
      "source": [
        "# Extraer los tokens de un doc\n",
        "tokens = word_tokenize(simple_text)\n",
        "print(\"Tokens:\", tokens)"
      ],
      "execution_count": 7,
      "outputs": [
        {
          "output_type": "stream",
          "name": "stdout",
          "text": [
            "Tokens: ['if', 'she', 'leaves', 'now', 'she', 'might', 'miss', 'something', 'importart', '!']\n"
          ]
        }
      ]
    },
    {
      "cell_type": "code",
      "metadata": {
        "id": "lSdedQvVM-wN",
        "colab": {
          "base_uri": "https://localhost:8080/"
        },
        "outputId": "02c4cc71-ad7f-474c-cc57-69423a2ba845"
      },
      "source": [
        "# Transformar los tokens a sus respectivas palabras derivadas\n",
        "# Stemming\n",
        "nltk_stemedList = []\n",
        "for word in tokens:\n",
        "    nltk_stemedList.append(p_stemmer.stem(word))\n",
        "print(\"Stemming:\", nltk_stemedList)"
      ],
      "execution_count": 8,
      "outputs": [
        {
          "output_type": "stream",
          "name": "stdout",
          "text": [
            "Stemming: ['if', 'she', 'leav', 'now', 'she', 'might', 'miss', 'someth', 'importart', '!']\n"
          ]
        }
      ]
    },
    {
      "cell_type": "code",
      "metadata": {
        "id": "OV3-wVBSNNaA",
        "colab": {
          "base_uri": "https://localhost:8080/"
        },
        "outputId": "1ac58f14-a46f-4733-8f21-e2b1ef6823cf"
      },
      "source": [
        "# Transformar los tokens a sus respectivas palabras raiz\n",
        "# Lemmatization\n",
        "nltk_lemmaList = []\n",
        "for word in tokens:\n",
        "    nltk_lemmaList.append(lemmatizer.lemmatize(word))\n",
        "print(\"Lemmatization:\", nltk_lemmaList)"
      ],
      "execution_count": 9,
      "outputs": [
        {
          "output_type": "stream",
          "name": "stdout",
          "text": [
            "Lemmatization: ['if', 'she', 'leaf', 'now', 'she', 'might', 'miss', 'something', 'importart', '!']\n"
          ]
        }
      ]
    },
    {
      "cell_type": "code",
      "metadata": {
        "id": "U47nxm8ZNiIr",
        "colab": {
          "base_uri": "https://localhost:8080/"
        },
        "outputId": "4df75c5a-71ea-445b-cc33-18908b94293e"
      },
      "source": [
        "# Quitar los signos de puntuacion\n",
        "nltk_punctuation = [w for w in nltk_lemmaList if w not in string.punctuation]\n",
        "print(string.punctuation)\n",
        "print(\"Punctuation filter:\", nltk_punctuation)"
      ],
      "execution_count": 14,
      "outputs": [
        {
          "output_type": "stream",
          "name": "stdout",
          "text": [
            "!\"#$%&'()*+,-./:;<=>?@[\\]^_`{|}~\n",
            "Punctuation filter: ['if', 'she', 'leaf', 'now', 'she', 'might', 'miss', 'something', 'importart']\n"
          ]
        }
      ]
    },
    {
      "cell_type": "code",
      "metadata": {
        "id": "ImlO-N45OuKG",
        "colab": {
          "base_uri": "https://localhost:8080/"
        },
        "outputId": "aa8fcf59-abbb-45ca-a584-7d05644888d4"
      },
      "source": [
        "# Stop words\n",
        "nltk_stop_words = set(stopwords.words(\"english\"))\n",
        "filtered_sentence = [w for w in nltk_punctuation if w not in nltk_stop_words]\n",
        "print(\"Stop words filter:\", filtered_sentence)"
      ],
      "execution_count": 11,
      "outputs": [
        {
          "output_type": "stream",
          "name": "stdout",
          "text": [
            "Stop words filter: ['leaf', 'might', 'miss', 'something', 'importart']\n"
          ]
        }
      ]
    },
    {
      "cell_type": "code",
      "metadata": {
        "colab": {
          "base_uri": "https://localhost:8080/"
        },
        "id": "LhkKdBcPut6-",
        "outputId": "211c1a5d-b6bc-47e4-fab9-5144b23d0476"
      },
      "source": [
        "stopwords.words('english')"
      ],
      "execution_count": 16,
      "outputs": [
        {
          "output_type": "execute_result",
          "data": {
            "text/plain": [
              "['i',\n",
              " 'me',\n",
              " 'my',\n",
              " 'myself',\n",
              " 'we',\n",
              " 'our',\n",
              " 'ours',\n",
              " 'ourselves',\n",
              " 'you',\n",
              " \"you're\",\n",
              " \"you've\",\n",
              " \"you'll\",\n",
              " \"you'd\",\n",
              " 'your',\n",
              " 'yours',\n",
              " 'yourself',\n",
              " 'yourselves',\n",
              " 'he',\n",
              " 'him',\n",
              " 'his',\n",
              " 'himself',\n",
              " 'she',\n",
              " \"she's\",\n",
              " 'her',\n",
              " 'hers',\n",
              " 'herself',\n",
              " 'it',\n",
              " \"it's\",\n",
              " 'its',\n",
              " 'itself',\n",
              " 'they',\n",
              " 'them',\n",
              " 'their',\n",
              " 'theirs',\n",
              " 'themselves',\n",
              " 'what',\n",
              " 'which',\n",
              " 'who',\n",
              " 'whom',\n",
              " 'this',\n",
              " 'that',\n",
              " \"that'll\",\n",
              " 'these',\n",
              " 'those',\n",
              " 'am',\n",
              " 'is',\n",
              " 'are',\n",
              " 'was',\n",
              " 'were',\n",
              " 'be',\n",
              " 'been',\n",
              " 'being',\n",
              " 'have',\n",
              " 'has',\n",
              " 'had',\n",
              " 'having',\n",
              " 'do',\n",
              " 'does',\n",
              " 'did',\n",
              " 'doing',\n",
              " 'a',\n",
              " 'an',\n",
              " 'the',\n",
              " 'and',\n",
              " 'but',\n",
              " 'if',\n",
              " 'or',\n",
              " 'because',\n",
              " 'as',\n",
              " 'until',\n",
              " 'while',\n",
              " 'of',\n",
              " 'at',\n",
              " 'by',\n",
              " 'for',\n",
              " 'with',\n",
              " 'about',\n",
              " 'against',\n",
              " 'between',\n",
              " 'into',\n",
              " 'through',\n",
              " 'during',\n",
              " 'before',\n",
              " 'after',\n",
              " 'above',\n",
              " 'below',\n",
              " 'to',\n",
              " 'from',\n",
              " 'up',\n",
              " 'down',\n",
              " 'in',\n",
              " 'out',\n",
              " 'on',\n",
              " 'off',\n",
              " 'over',\n",
              " 'under',\n",
              " 'again',\n",
              " 'further',\n",
              " 'then',\n",
              " 'once',\n",
              " 'here',\n",
              " 'there',\n",
              " 'when',\n",
              " 'where',\n",
              " 'why',\n",
              " 'how',\n",
              " 'all',\n",
              " 'any',\n",
              " 'both',\n",
              " 'each',\n",
              " 'few',\n",
              " 'more',\n",
              " 'most',\n",
              " 'other',\n",
              " 'some',\n",
              " 'such',\n",
              " 'no',\n",
              " 'nor',\n",
              " 'not',\n",
              " 'only',\n",
              " 'own',\n",
              " 'same',\n",
              " 'so',\n",
              " 'than',\n",
              " 'too',\n",
              " 'very',\n",
              " 's',\n",
              " 't',\n",
              " 'can',\n",
              " 'will',\n",
              " 'just',\n",
              " 'don',\n",
              " \"don't\",\n",
              " 'should',\n",
              " \"should've\",\n",
              " 'now',\n",
              " 'd',\n",
              " 'll',\n",
              " 'm',\n",
              " 'o',\n",
              " 're',\n",
              " 've',\n",
              " 'y',\n",
              " 'ain',\n",
              " 'aren',\n",
              " \"aren't\",\n",
              " 'couldn',\n",
              " \"couldn't\",\n",
              " 'didn',\n",
              " \"didn't\",\n",
              " 'doesn',\n",
              " \"doesn't\",\n",
              " 'hadn',\n",
              " \"hadn't\",\n",
              " 'hasn',\n",
              " \"hasn't\",\n",
              " 'haven',\n",
              " \"haven't\",\n",
              " 'isn',\n",
              " \"isn't\",\n",
              " 'ma',\n",
              " 'mightn',\n",
              " \"mightn't\",\n",
              " 'mustn',\n",
              " \"mustn't\",\n",
              " 'needn',\n",
              " \"needn't\",\n",
              " 'shan',\n",
              " \"shan't\",\n",
              " 'shouldn',\n",
              " \"shouldn't\",\n",
              " 'wasn',\n",
              " \"wasn't\",\n",
              " 'weren',\n",
              " \"weren't\",\n",
              " 'won',\n",
              " \"won't\",\n",
              " 'wouldn',\n",
              " \"wouldn't\"]"
            ]
          },
          "metadata": {},
          "execution_count": 16
        }
      ]
    },
    {
      "cell_type": "markdown",
      "metadata": {
        "id": "6NrPtt2OmWBv"
      },
      "source": [
        "### 2 - Proceso completo con NLTK\n",
        "Tokenization → Lemmatization → Remove stopwords → Remove punctuation"
      ]
    },
    {
      "cell_type": "code",
      "metadata": {
        "id": "3ZqTOZzDI7uv"
      },
      "source": [
        "def nltk_process(text):\n",
        "    # Tokenization\n",
        "    nltk_tokenList = word_tokenize(text)\n",
        "      \n",
        "    # Lemmatization\n",
        "    lemmatizer = WordNetLemmatizer()\n",
        "    nltk_lemmaList = []\n",
        "    for word in nltk_tokenList:\n",
        "        nltk_lemmaList.append(lemmatizer.lemmatize(word))\n",
        "    \n",
        "    print(\"Lemmatization\")\n",
        "    print(nltk_lemmaList)\n",
        "\n",
        "    # Stop words\n",
        "    nltk_stop_words = set(stopwords.words(\"english\"))\n",
        "    filtered_sentence = [w for w in nltk_lemmaList if w not in nltk_stop_words]\n",
        "\n",
        "    # Filter Punctuation\n",
        "    filtered_sentence = [w for w in filtered_sentence if w not in string.punctuation]\n",
        "\n",
        "    print(\" \")\n",
        "    print(\"Remove stopword & Punctuation\")\n",
        "    print(filtered_sentence)\n",
        "    return filtered_sentence"
      ],
      "execution_count": 12,
      "outputs": []
    },
    {
      "cell_type": "code",
      "metadata": {
        "id": "CZdiop6IJpZN",
        "colab": {
          "base_uri": "https://localhost:8080/"
        },
        "outputId": "562033c5-beb5-4034-b7bf-def1f5302356"
      },
      "source": [
        "nltk_text = nltk_process(large_text)\n",
        "print(\"Text len:\", len(nltk_text))"
      ],
      "execution_count": 13,
      "outputs": [
        {
          "output_type": "stream",
          "name": "stdout",
          "text": [
            "Lemmatization\n",
            "['Patients', 'who', 'in', 'late', 'middle', 'age', 'have', 'smoked', '20', 'cigarette', 'a', 'day', 'since', 'their', 'teen', 'constitute', 'an', 'at-risk', 'group', '.', 'One', 'thing', 'they', '’', 're', 'clearly', 'at', 'risk', 'for', 'is', 'the', 'acute', 'sense', 'of', 'guilt', 'that', 'a', 'clinician', 'can', 'incite', ',', 'which', 'immediately', 'make', 'a', 'consultation', 'tense', '.']\n",
            " \n",
            "Remove stopword & Punctuation\n",
            "['Patients', 'late', 'middle', 'age', 'smoked', '20', 'cigarette', 'day', 'since', 'teen', 'constitute', 'at-risk', 'group', 'One', 'thing', '’', 'clearly', 'risk', 'acute', 'sense', 'guilt', 'clinician', 'incite', 'immediately', 'make', 'consultation', 'tense']\n",
            "Text len: 27\n"
          ]
        }
      ]
    },
    {
      "cell_type": "markdown",
      "metadata": {
        "id": "_M4F0ll1msUY"
      },
      "source": [
        "### 3 - Proceso completo con spaCy\n",
        "Tokenization → Lemmatization → Remove stopwords → Remove punctuation"
      ]
    },
    {
      "cell_type": "code",
      "metadata": {
        "id": "r57e9b9Omwnh"
      },
      "source": [
        "import spacy\n",
        "nlp = spacy.load('en_core_web_sm') # le digo que diccionario voy a utilizar\n",
        "\n",
        "def spacy_process(text):\n",
        "    doc = nlp(text)\n",
        "    \n",
        "    # Tokenization & lemmatization\n",
        "    lemma_list = []\n",
        "    for token in doc:\n",
        "        lemma_list.append(token.lemma_)\n",
        "    print(\"Tokenize+Lemmatize:\")\n",
        "    print(lemma_list)\n",
        "    \n",
        "    # Stop words\n",
        "    filtered_sentence =[]\n",
        "    for word in lemma_list:\n",
        "        lexeme = nlp.vocab[word]\n",
        "        if lexeme.is_stop == False:\n",
        "            filtered_sentence.append(word) \n",
        "    \n",
        "    # Filter punctuation\n",
        "    filtered_sentence = [w for w in filtered_sentence if w not in string.punctuation]\n",
        "\n",
        "    print(\" \")\n",
        "    print(\"Remove stopword & punctuation: \")\n",
        "    print(filtered_sentence)\n",
        "    return filtered_sentence"
      ],
      "execution_count": 17,
      "outputs": []
    },
    {
      "cell_type": "code",
      "metadata": {
        "id": "9x_iKHu1pKBE",
        "colab": {
          "base_uri": "https://localhost:8080/"
        },
        "outputId": "b28f9441-c1d8-4474-b75f-7dffbc880aab"
      },
      "source": [
        "spacy_text = spacy_process(large_text)\n",
        "print(\"Text len:\", len(nltk_text))"
      ],
      "execution_count": 19,
      "outputs": [
        {
          "output_type": "stream",
          "name": "stdout",
          "text": [
            "Tokenize+Lemmatize:\n",
            "['patient', 'who', 'in', 'late', 'middle', 'age', 'have', 'smoke', '20', 'cigarette', 'a', 'day', 'since', '-PRON-', 'teen', 'constitute', 'an', 'at', '-', 'risk', 'group', '.', 'one', 'thing', '-PRON-', 'be', 'clearly', 'at', 'risk', 'for', 'be', 'the', 'acute', 'sense', 'of', 'guilt', 'that', 'a', 'clinician', 'can', 'incite', ',', 'which', 'immediately', 'make', 'a', 'consultation', 'tense', '.']\n",
            " \n",
            "Remove stopword & punctuation: \n",
            "['patient', 'late', 'middle', 'age', 'smoke', '20', 'cigarette', 'day', '-PRON-', 'teen', 'constitute', 'risk', 'group', 'thing', '-PRON-', 'clearly', 'risk', 'acute', 'sense', 'guilt', 'clinician', 'incite', 'immediately', 'consultation', 'tense']\n",
            "Text len: 27\n"
          ]
        }
      ]
    },
    {
      "cell_type": "code",
      "metadata": {
        "colab": {
          "base_uri": "https://localhost:8080/"
        },
        "id": "s9ROE1qGwHlM",
        "outputId": "ad99b499-3a03-44e0-df86-f0746de3cd87"
      },
      "source": [
        "nlp = spacy.load('en_core_web_sm')\n",
        "print(simple_text)\n",
        "doc = nlp(simple_text)\n",
        "for token in doc:\n",
        "  print([token.lemma_, token.is_stop])"
      ],
      "execution_count": 20,
      "outputs": [
        {
          "output_type": "stream",
          "name": "stdout",
          "text": [
            "if she leaves now she might miss something importart!\n",
            "['if', True]\n",
            "['-PRON-', True]\n",
            "['leave', False]\n",
            "['now', True]\n",
            "['-PRON-', True]\n",
            "['may', True]\n",
            "['miss', False]\n",
            "['something', True]\n",
            "['importart', False]\n",
            "['!', False]\n"
          ]
        }
      ]
    },
    {
      "cell_type": "markdown",
      "metadata": {
        "id": "txMZ7lR-pvHB"
      },
      "source": [
        "### 4 - Conclusiones\n",
        "- NLTK no pasa a minúsculas el texto por su cuenta\n",
        "- spacy algunas palabras las reemplaza por su Tag (como \"'\")\n",
        "- spacy descompone palabras"
      ]
    },
    {
      "cell_type": "code",
      "metadata": {
        "id": "Te3GgSNzpbGq",
        "colab": {
          "base_uri": "https://localhost:8080/"
        },
        "outputId": "4c11d051-6ea0-4e59-9d3b-0b44c4afdc96"
      },
      "source": [
        "from prettytable import PrettyTable\n",
        "table = PrettyTable(['NLTK', 'spaCy'])\n",
        "for nltk_word, spacy_word in zip(nltk_text, spacy_text):\n",
        "    table.add_row([nltk_word, spacy_word])\n",
        "print(table)"
      ],
      "execution_count": 21,
      "outputs": [
        {
          "output_type": "stream",
          "name": "stdout",
          "text": [
            "+-------------+--------------+\n",
            "|     NLTK    |    spaCy     |\n",
            "+-------------+--------------+\n",
            "|   Patients  |   patient    |\n",
            "|     late    |     late     |\n",
            "|    middle   |    middle    |\n",
            "|     age     |     age      |\n",
            "|    smoked   |    smoke     |\n",
            "|      20     |      20      |\n",
            "|  cigarette  |  cigarette   |\n",
            "|     day     |     day      |\n",
            "|    since    |    -PRON-    |\n",
            "|     teen    |     teen     |\n",
            "|  constitute |  constitute  |\n",
            "|   at-risk   |     risk     |\n",
            "|    group    |    group     |\n",
            "|     One     |    thing     |\n",
            "|    thing    |    -PRON-    |\n",
            "|      ’      |   clearly    |\n",
            "|   clearly   |     risk     |\n",
            "|     risk    |    acute     |\n",
            "|    acute    |    sense     |\n",
            "|    sense    |    guilt     |\n",
            "|    guilt    |  clinician   |\n",
            "|  clinician  |    incite    |\n",
            "|    incite   | immediately  |\n",
            "| immediately | consultation |\n",
            "|     make    |    tense     |\n",
            "+-------------+--------------+\n"
          ]
        }
      ]
    },
    {
      "cell_type": "code",
      "metadata": {
        "id": "evsh4aHyxBcW"
      },
      "source": [
        ""
      ],
      "execution_count": null,
      "outputs": []
    }
  ]
}