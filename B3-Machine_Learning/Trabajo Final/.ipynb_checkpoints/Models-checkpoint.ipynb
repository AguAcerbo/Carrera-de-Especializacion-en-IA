{
 "cells": [
  {
   "cell_type": "code",
   "execution_count": 4,
   "id": "59d61970",
   "metadata": {},
   "outputs": [],
   "source": [
    "import pandas as pd\n",
    "import numpy as np\n",
    "from scipy import stats\n",
    "import matplotlib.pyplot as plt\n",
    "import os\n",
    "import seaborn as sns"
   ]
  },
  {
   "cell_type": "markdown",
   "id": "573e40c4",
   "metadata": {},
   "source": [
    "## Lectura del Dataset"
   ]
  },
  {
   "cell_type": "code",
   "execution_count": 2,
   "id": "7aefc1d0",
   "metadata": {},
   "outputs": [],
   "source": [
    "path = './World Happiness Report/'"
   ]
  },
  {
   "cell_type": "code",
   "execution_count": 5,
   "id": "f0d4122b",
   "metadata": {},
   "outputs": [
    {
     "name": "stdout",
     "output_type": "stream",
     "text": [
      "['2015.csv', '2016.csv', '2017.csv', '2018.csv', '2019.csv', 'ds_final.csv', 'full_2015.csv', 'full_2016.csv', 'full_2017.csv', 'full_2018.csv', 'full_2019.csv', 'full_data.csv']\n"
     ]
    }
   ],
   "source": [
    "data_csv = os.listdir(path)\n",
    "print(data_csv)"
   ]
  },
  {
   "cell_type": "code",
   "execution_count": 7,
   "id": "d0f1d344",
   "metadata": {},
   "outputs": [],
   "source": [
    "ds = pd.read_csv(path+'ds_final.csv')"
   ]
  },
  {
   "cell_type": "code",
   "execution_count": 9,
   "id": "b433837e",
   "metadata": {},
   "outputs": [
    {
     "name": "stdout",
     "output_type": "stream",
     "text": [
      "<class 'pandas.core.frame.DataFrame'>\n",
      "RangeIndex: 782 entries, 0 to 781\n",
      "Data columns (total 9 columns):\n",
      " #   Column                     Non-Null Count  Dtype  \n",
      "---  ------                     --------------  -----  \n",
      " 0   Year                       782 non-null    float64\n",
      " 1   Country                    782 non-null    object \n",
      " 2   Happiness Score            782 non-null    float64\n",
      " 3   GDP per Capita             782 non-null    float64\n",
      " 4   Life Expectancy            782 non-null    float64\n",
      " 5   Freedom                    782 non-null    float64\n",
      " 6   Perceptions of corruption  782 non-null    float64\n",
      " 7   Generosity                 782 non-null    float64\n",
      " 8   Region                     782 non-null    object \n",
      "dtypes: float64(7), object(2)\n",
      "memory usage: 55.1+ KB\n"
     ]
    }
   ],
   "source": [
    "ds.info()"
   ]
  },
  {
   "cell_type": "code",
   "execution_count": 8,
   "id": "a5c864e2",
   "metadata": {},
   "outputs": [
    {
     "data": {
      "text/html": [
       "<div>\n",
       "<style scoped>\n",
       "    .dataframe tbody tr th:only-of-type {\n",
       "        vertical-align: middle;\n",
       "    }\n",
       "\n",
       "    .dataframe tbody tr th {\n",
       "        vertical-align: top;\n",
       "    }\n",
       "\n",
       "    .dataframe thead th {\n",
       "        text-align: right;\n",
       "    }\n",
       "</style>\n",
       "<table border=\"1\" class=\"dataframe\">\n",
       "  <thead>\n",
       "    <tr style=\"text-align: right;\">\n",
       "      <th></th>\n",
       "      <th>Year</th>\n",
       "      <th>Country</th>\n",
       "      <th>Happiness Score</th>\n",
       "      <th>GDP per Capita</th>\n",
       "      <th>Life Expectancy</th>\n",
       "      <th>Freedom</th>\n",
       "      <th>Perceptions of corruption</th>\n",
       "      <th>Generosity</th>\n",
       "      <th>Region</th>\n",
       "    </tr>\n",
       "  </thead>\n",
       "  <tbody>\n",
       "    <tr>\n",
       "      <th>0</th>\n",
       "      <td>2015.0</td>\n",
       "      <td>Switzerland</td>\n",
       "      <td>7.587</td>\n",
       "      <td>1.39651</td>\n",
       "      <td>0.94143</td>\n",
       "      <td>0.66557</td>\n",
       "      <td>0.41978</td>\n",
       "      <td>0.29678</td>\n",
       "      <td>Western Europe</td>\n",
       "    </tr>\n",
       "    <tr>\n",
       "      <th>1</th>\n",
       "      <td>2015.0</td>\n",
       "      <td>Iceland</td>\n",
       "      <td>7.561</td>\n",
       "      <td>1.30232</td>\n",
       "      <td>0.94784</td>\n",
       "      <td>0.62877</td>\n",
       "      <td>0.14145</td>\n",
       "      <td>0.43630</td>\n",
       "      <td>Western Europe</td>\n",
       "    </tr>\n",
       "    <tr>\n",
       "      <th>2</th>\n",
       "      <td>2015.0</td>\n",
       "      <td>Denmark</td>\n",
       "      <td>7.527</td>\n",
       "      <td>1.32548</td>\n",
       "      <td>0.87464</td>\n",
       "      <td>0.64938</td>\n",
       "      <td>0.48357</td>\n",
       "      <td>0.34139</td>\n",
       "      <td>Western Europe</td>\n",
       "    </tr>\n",
       "    <tr>\n",
       "      <th>3</th>\n",
       "      <td>2015.0</td>\n",
       "      <td>Norway</td>\n",
       "      <td>7.522</td>\n",
       "      <td>1.45900</td>\n",
       "      <td>0.88521</td>\n",
       "      <td>0.66973</td>\n",
       "      <td>0.36503</td>\n",
       "      <td>0.34699</td>\n",
       "      <td>Western Europe</td>\n",
       "    </tr>\n",
       "    <tr>\n",
       "      <th>4</th>\n",
       "      <td>2015.0</td>\n",
       "      <td>Canada</td>\n",
       "      <td>7.427</td>\n",
       "      <td>1.32629</td>\n",
       "      <td>0.90563</td>\n",
       "      <td>0.63297</td>\n",
       "      <td>0.32957</td>\n",
       "      <td>0.45811</td>\n",
       "      <td>North America</td>\n",
       "    </tr>\n",
       "  </tbody>\n",
       "</table>\n",
       "</div>"
      ],
      "text/plain": [
       "     Year      Country  Happiness Score  GDP per Capita  Life Expectancy  \\\n",
       "0  2015.0  Switzerland            7.587         1.39651          0.94143   \n",
       "1  2015.0      Iceland            7.561         1.30232          0.94784   \n",
       "2  2015.0      Denmark            7.527         1.32548          0.87464   \n",
       "3  2015.0       Norway            7.522         1.45900          0.88521   \n",
       "4  2015.0       Canada            7.427         1.32629          0.90563   \n",
       "\n",
       "   Freedom  Perceptions of corruption  Generosity          Region  \n",
       "0  0.66557                    0.41978     0.29678  Western Europe  \n",
       "1  0.62877                    0.14145     0.43630  Western Europe  \n",
       "2  0.64938                    0.48357     0.34139  Western Europe  \n",
       "3  0.66973                    0.36503     0.34699  Western Europe  \n",
       "4  0.63297                    0.32957     0.45811   North America  "
      ]
     },
     "execution_count": 8,
     "metadata": {},
     "output_type": "execute_result"
    }
   ],
   "source": [
    "ds.head()"
   ]
  },
  {
   "cell_type": "markdown",
   "id": "c99aabc0",
   "metadata": {},
   "source": [
    "Para el entrenamiento dejaremos fuera la feature 'Country'. Por otro lado crearemos 4 modelos:\n",
    "\n",
    "- Modelo 1:\n",
    "    - 'Region' con OHE\n",
    "    - Variables numericas sin modificar\n",
    "- Modelo 2:\n",
    "    - 'Region' con OHE\n",
    "    - Variables numericas normalizadas\n",
    "- Modelo 3:\n",
    "    - Se quita feature 'Region\n",
    "    - Variables numercias sin modificar\n",
    "- Modelo 4:\n",
    "    - Se quita feature 'Region\n",
    "    - Variables numericas normalizadas"
   ]
  },
  {
   "cell_type": "code",
   "execution_count": 11,
   "id": "55e80fc1",
   "metadata": {},
   "outputs": [],
   "source": [
    "ds.drop(['Country'], axis=1, inplace=True)"
   ]
  },
  {
   "cell_type": "code",
   "execution_count": 12,
   "id": "5dee989b",
   "metadata": {},
   "outputs": [],
   "source": [
    "categoricas = ['Region']\n",
    "numericas = ['GDP per Capita', 'Life Expectancy','Freedom', 'Perceptions of corruption', 'Generosity']\n",
    "output =  ['Happiness Score']"
   ]
  },
  {
   "cell_type": "markdown",
   "id": "460661d1",
   "metadata": {},
   "source": [
    "## Separación en train/test"
   ]
  },
  {
   "cell_type": "code",
   "execution_count": 14,
   "id": "109c7010",
   "metadata": {},
   "outputs": [],
   "source": [
    "from sklearn.model_selection import train_test_split\n",
    "\n",
    "\n",
    "features = ['Region', 'GDP per Capita', 'Life Expectancy',\n",
    "            'Freedom', 'Perceptions of corruption', 'Generosity']\n",
    "\n",
    "x_train, x_test, y_train, y_test = train_test_split(\n",
    "    ds[features], \n",
    "    ds[output],  \n",
    "    test_size=0.3,\n",
    "    random_state=42)"
   ]
  },
  {
   "cell_type": "code",
   "execution_count": 15,
   "id": "1b02e22f",
   "metadata": {},
   "outputs": [
    {
     "name": "stdout",
     "output_type": "stream",
     "text": [
      "(547, 6)\n",
      "(547, 1)\n",
      "(235, 6)\n",
      "(235, 1)\n"
     ]
    }
   ],
   "source": [
    "print(x_train.shape)\n",
    "print(y_train.shape)\n",
    "print(x_test.shape)\n",
    "print(y_test.shape)"
   ]
  },
  {
   "cell_type": "markdown",
   "id": "1014906c",
   "metadata": {},
   "source": [
    "## Entrenamiento de modelos"
   ]
  },
  {
   "cell_type": "code",
   "execution_count": 18,
   "id": "da09459a",
   "metadata": {},
   "outputs": [],
   "source": [
    "# Entrenamiento de modelos de prueba\n",
    "from sklearn.pipeline import Pipeline\n",
    "from sklearn.linear_model import LinearRegression\n",
    "from sklearn.ensemble import AdaBoostRegressor\n",
    "from sklearn.ensemble import RandomForestRegressor\n",
    "\n",
    "# Evaluación de modelos de prueba\n",
    "from sklearn.metrics import balanced_accuracy_score\n",
    "\n",
    "def pipeline_ml_models(preprocessing_pipeline):\n",
    "  # Modelos a ensayar.\n",
    "  models = [\n",
    "      (\"RandomForest\", \n",
    "          Pipeline([\n",
    "              ('preprocessor', preprocessing_pipeline),\n",
    "              ('model', RandomForestRegressor(n_estimators=200, random_state=42)) \n",
    "          ])\n",
    "      ),\n",
    "      \n",
    "      (\"Adaboost\", \n",
    "          Pipeline([\n",
    "              ('preprocessor', preprocessing_pipeline),\n",
    "              ('model', AdaBoostRegressor(n_estimators=200, random_state=42)) \n",
    "          ])\n",
    "      ),\n",
    "      \n",
    "      (\"LinearRegression\", \n",
    "          Pipeline([\n",
    "              ('preprocessor', preprocessing_pipeline),\n",
    "              ('model', LinearRegression())\n",
    "          ])\n",
    "      ),\n",
    "      \n",
    "  ]\n",
    "  \n",
    "  return models"
   ]
  },
  {
   "cell_type": "code",
   "execution_count": null,
   "id": "707d54bc",
   "metadata": {},
   "outputs": [],
   "source": [
    "from sklearn.preprocessing import StandardScaler\n",
    "from sklearn.compose import ColumnTransformer\n",
    "\n",
    "# Cadena de preprocesamiento\n",
    "\n",
    "preprocessing_pipeline1 = ColumnTransformer(\n",
    "    # Transformaciones a aplicar a cada columna\n",
    "             transformers=[\n",
    "                           (\"numerical\", StandardScaler(), numericas)\n",
    "                           ('categoric', OneHotEncoder(handle_unknown='ignore'),categoricas)\n",
    "              ],\n",
    "              remainder='passthrough'\n",
    ")\n",
    "models1 = pipeline_ml_models(preprocessing_pipeline)"
   ]
  },
  {
   "cell_type": "code",
   "execution_count": null,
   "id": "86308a1b",
   "metadata": {},
   "outputs": [],
   "source": [
    "from sklearn.model_selection import StratifiedKFold\n",
    "from sklearn.model_selection import KFold\n",
    "from sklearn.base import clone\n",
    "from sklearn.metrics import roc_auc_score\n",
    "\n",
    "def kfold_pipeline(models_pipeline, samples , target, x_test, y_test, k = 5):\n",
    "    \n",
    "    \"\"\"\n",
    "    Esta funcion recibe:\n",
    "        models_pipeline: el pipeline de los modelos a evaluar\n",
    "        samples: set de entrenamiento\n",
    "        target: salidas del set de entrenamiento\n",
    "        x_test: set de testeo\n",
    "        y_test: set de testeo\n",
    "        k: el numero de segmentos que utilizara el algoritmo de K-Fold\n",
    "    \"\"\"\n",
    "    results = {}\n",
    "    for model in models_pipeline:\n",
    "        model_name = model[0]\n",
    "        results[model_name] = {}\n",
    "        \n",
    "        train_auc = 0\n",
    "        valid_auc = 0\n",
    "        \n",
    "        kf = KFold(n_splits=k)\n",
    "        kf.get_n_splits(samples)\n",
    "        \n",
    "        for train_index, valid_index in kf.split(samples, target):\n",
    "            x_valid = samples.iloc[valid_index]\n",
    "            y_valid = target.iloc[valid_index]\n",
    "            x_train = samples.iloc[train_index]\n",
    "            y_train = target.iloc[train_index]\n",
    "            \n",
    "            model[1].fit(x_train, y_train)\n",
    "            pred_train = model[1].predict_proba(x_train)\n",
    "            pred_valid = model[1].predict_proba(x_valid)\n",
    "            \n",
    "            if len(pred_train.shape)>1 and (pred_train.shape[1]>1):\n",
    "                train_auc = train_auc + roc_auc_score(y_train, pred_train[:,1]) / k\n",
    "                valid_auc = valid_auc + roc_auc_score(y_valid, pred_valid[:,1]) / k\n",
    "            else:\n",
    "                train_auc = train_auc + roc_auc_score(y_train, pred_train) / k\n",
    "                valid_auc = valid_auc + roc_auc_score(y_valid, pred_valid) / k\n",
    "        \n",
    "        pred_test = model[1].predict_proba(x_test)\n",
    "\n",
    "        results[model_name][\"Train\"] = train_auc\n",
    "        results[model_name][\"Valid\"] = valid_auc\n",
    "        results[model_name][\"test\"] = roc_auc_score(y_test, pred_test[:,1])\n",
    "\n",
    "    models_results = pd.DataFrame(results).T\n",
    "    return models_results"
   ]
  },
  {
   "cell_type": "code",
   "execution_count": null,
   "id": "00b1999c",
   "metadata": {},
   "outputs": [],
   "source": []
  }
 ],
 "metadata": {
  "kernelspec": {
   "display_name": "Python 3",
   "language": "python",
   "name": "python3"
  },
  "language_info": {
   "codemirror_mode": {
    "name": "ipython",
    "version": 3
   },
   "file_extension": ".py",
   "mimetype": "text/x-python",
   "name": "python",
   "nbconvert_exporter": "python",
   "pygments_lexer": "ipython3",
   "version": "3.8.8"
  }
 },
 "nbformat": 4,
 "nbformat_minor": 5
}
