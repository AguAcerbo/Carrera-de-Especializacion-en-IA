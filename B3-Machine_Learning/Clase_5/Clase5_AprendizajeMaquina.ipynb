{
  "nbformat": 4,
  "nbformat_minor": 0,
  "metadata": {
    "colab": {
      "name": "Clase5_AprendizajeMaquina.ipynb",
      "provenance": [],
      "collapsed_sections": []
    },
    "kernelspec": {
      "name": "python3",
      "display_name": "Python 3"
    },
    "language_info": {
      "name": "python"
    }
  },
  "cells": [
    {
      "cell_type": "code",
      "metadata": {
        "colab": {
          "base_uri": "https://localhost:8080/"
        },
        "id": "nQMtRTG9sF_9",
        "outputId": "42e6f142-0ff3-4c4d-d453-9cdaeb3c1a2e"
      },
      "source": [
        "from google.colab import drive\n",
        "drive.mount('/content/drive')"
      ],
      "execution_count": 1,
      "outputs": [
        {
          "output_type": "stream",
          "text": [
            "Drive already mounted at /content/drive; to attempt to forcibly remount, call drive.mount(\"/content/drive\", force_remount=True).\n"
          ],
          "name": "stdout"
        }
      ]
    },
    {
      "cell_type": "code",
      "metadata": {
        "colab": {
          "base_uri": "https://localhost:8080/"
        },
        "id": "zvQD_mxYsS0N",
        "outputId": "78da93c3-846e-41e7-a805-73efb851871c"
      },
      "source": [
        "!pip install funpymodeling\n",
        "!pip install tensorflow\n",
        "\n",
        "import pandas as pd\n",
        "import numpy as np\n",
        "from scipy import stats\n",
        "import matplotlib.pyplot as plt\n",
        "\n",
        "import seaborn as sns\n",
        "sns.set(style=\"ticks\", color_codes=True, font_scale=1.5)\n",
        "\n",
        "from sklearn import preprocessing\n",
        "from sklearn.linear_model import LogisticRegression\n",
        "from sklearn import metrics\n",
        "from sklearn.ensemble import RandomForestClassifier\n",
        "from sklearn.metrics import roc_curve\n",
        "from sklearn.metrics import auc\n",
        "\n",
        "import tensorflow as tf\n",
        "from tensorflow import keras\n",
        "\n",
        "from keras.models import Sequential\n",
        "from keras.layers import Dense\n",
        "from keras.layers import Dropout\n",
        "from keras.utils.vis_utils import plot_model\n",
        "from funpymodeling.exploratory import status, freq_tbl, profiling_num\n",
        "\n",
        "\n",
        "# https://www.kaggle.com/ronitf/heart-disease-uci\n",
        "dataset = pd.read_csv('/content/drive/MyDrive/Colab Notebooks/HeartDesease/heart.csv')"
      ],
      "execution_count": 2,
      "outputs": [
        {
          "output_type": "stream",
          "text": [
            "Collecting funpymodeling\n",
            "  Downloading funpymodeling-0.1.7-py3-none-any.whl (6.4 kB)\n",
            "Requirement already satisfied: numpy<2.0.0,>=1.18.5 in /usr/local/lib/python3.7/dist-packages (from funpymodeling) (1.19.5)\n",
            "Requirement already satisfied: pandas<2.0.0,>=1.0.5 in /usr/local/lib/python3.7/dist-packages (from funpymodeling) (1.1.5)\n",
            "Requirement already satisfied: matplotlib<4.0.0,>=3.2.2 in /usr/local/lib/python3.7/dist-packages (from funpymodeling) (3.2.2)\n",
            "Requirement already satisfied: sklearn<0.1,>=0.0 in /usr/local/lib/python3.7/dist-packages (from funpymodeling) (0.0)\n",
            "Requirement already satisfied: typing-extensions<4.0.0,>=3.7.4 in /usr/local/lib/python3.7/dist-packages (from funpymodeling) (3.7.4.3)\n",
            "Collecting seaborn<0.11.0,>=0.10.1\n",
            "  Downloading seaborn-0.10.1-py3-none-any.whl (215 kB)\n",
            "\u001b[K     |████████████████████████████████| 215 kB 4.1 MB/s \n",
            "\u001b[?25hRequirement already satisfied: pyparsing!=2.0.4,!=2.1.2,!=2.1.6,>=2.0.1 in /usr/local/lib/python3.7/dist-packages (from matplotlib<4.0.0,>=3.2.2->funpymodeling) (2.4.7)\n",
            "Requirement already satisfied: kiwisolver>=1.0.1 in /usr/local/lib/python3.7/dist-packages (from matplotlib<4.0.0,>=3.2.2->funpymodeling) (1.3.1)\n",
            "Requirement already satisfied: python-dateutil>=2.1 in /usr/local/lib/python3.7/dist-packages (from matplotlib<4.0.0,>=3.2.2->funpymodeling) (2.8.1)\n",
            "Requirement already satisfied: cycler>=0.10 in /usr/local/lib/python3.7/dist-packages (from matplotlib<4.0.0,>=3.2.2->funpymodeling) (0.10.0)\n",
            "Requirement already satisfied: six in /usr/local/lib/python3.7/dist-packages (from cycler>=0.10->matplotlib<4.0.0,>=3.2.2->funpymodeling) (1.15.0)\n",
            "Requirement already satisfied: pytz>=2017.2 in /usr/local/lib/python3.7/dist-packages (from pandas<2.0.0,>=1.0.5->funpymodeling) (2018.9)\n",
            "Requirement already satisfied: scipy>=1.0.1 in /usr/local/lib/python3.7/dist-packages (from seaborn<0.11.0,>=0.10.1->funpymodeling) (1.4.1)\n",
            "Requirement already satisfied: scikit-learn in /usr/local/lib/python3.7/dist-packages (from sklearn<0.1,>=0.0->funpymodeling) (0.22.2.post1)\n",
            "Requirement already satisfied: joblib>=0.11 in /usr/local/lib/python3.7/dist-packages (from scikit-learn->sklearn<0.1,>=0.0->funpymodeling) (1.0.1)\n",
            "Installing collected packages: seaborn, funpymodeling\n",
            "  Attempting uninstall: seaborn\n",
            "    Found existing installation: seaborn 0.11.1\n",
            "    Uninstalling seaborn-0.11.1:\n",
            "      Successfully uninstalled seaborn-0.11.1\n",
            "Successfully installed funpymodeling-0.1.7 seaborn-0.10.1\n",
            "Requirement already satisfied: tensorflow in /usr/local/lib/python3.7/dist-packages (2.5.0)\n",
            "Requirement already satisfied: six~=1.15.0 in /usr/local/lib/python3.7/dist-packages (from tensorflow) (1.15.0)\n",
            "Requirement already satisfied: flatbuffers~=1.12.0 in /usr/local/lib/python3.7/dist-packages (from tensorflow) (1.12)\n",
            "Requirement already satisfied: typing-extensions~=3.7.4 in /usr/local/lib/python3.7/dist-packages (from tensorflow) (3.7.4.3)\n",
            "Requirement already satisfied: termcolor~=1.1.0 in /usr/local/lib/python3.7/dist-packages (from tensorflow) (1.1.0)\n",
            "Requirement already satisfied: protobuf>=3.9.2 in /usr/local/lib/python3.7/dist-packages (from tensorflow) (3.17.3)\n",
            "Requirement already satisfied: tensorflow-estimator<2.6.0,>=2.5.0rc0 in /usr/local/lib/python3.7/dist-packages (from tensorflow) (2.5.0)\n",
            "Requirement already satisfied: grpcio~=1.34.0 in /usr/local/lib/python3.7/dist-packages (from tensorflow) (1.34.1)\n",
            "Requirement already satisfied: wrapt~=1.12.1 in /usr/local/lib/python3.7/dist-packages (from tensorflow) (1.12.1)\n",
            "Requirement already satisfied: opt-einsum~=3.3.0 in /usr/local/lib/python3.7/dist-packages (from tensorflow) (3.3.0)\n",
            "Requirement already satisfied: keras-nightly~=2.5.0.dev in /usr/local/lib/python3.7/dist-packages (from tensorflow) (2.5.0.dev2021032900)\n",
            "Requirement already satisfied: numpy~=1.19.2 in /usr/local/lib/python3.7/dist-packages (from tensorflow) (1.19.5)\n",
            "Requirement already satisfied: gast==0.4.0 in /usr/local/lib/python3.7/dist-packages (from tensorflow) (0.4.0)\n",
            "Requirement already satisfied: wheel~=0.35 in /usr/local/lib/python3.7/dist-packages (from tensorflow) (0.36.2)\n",
            "Requirement already satisfied: google-pasta~=0.2 in /usr/local/lib/python3.7/dist-packages (from tensorflow) (0.2.0)\n",
            "Requirement already satisfied: astunparse~=1.6.3 in /usr/local/lib/python3.7/dist-packages (from tensorflow) (1.6.3)\n",
            "Requirement already satisfied: h5py~=3.1.0 in /usr/local/lib/python3.7/dist-packages (from tensorflow) (3.1.0)\n",
            "Requirement already satisfied: tensorboard~=2.5 in /usr/local/lib/python3.7/dist-packages (from tensorflow) (2.5.0)\n",
            "Requirement already satisfied: absl-py~=0.10 in /usr/local/lib/python3.7/dist-packages (from tensorflow) (0.12.0)\n",
            "Requirement already satisfied: keras-preprocessing~=1.1.2 in /usr/local/lib/python3.7/dist-packages (from tensorflow) (1.1.2)\n",
            "Requirement already satisfied: cached-property in /usr/local/lib/python3.7/dist-packages (from h5py~=3.1.0->tensorflow) (1.5.2)\n",
            "Requirement already satisfied: google-auth-oauthlib<0.5,>=0.4.1 in /usr/local/lib/python3.7/dist-packages (from tensorboard~=2.5->tensorflow) (0.4.4)\n",
            "Requirement already satisfied: markdown>=2.6.8 in /usr/local/lib/python3.7/dist-packages (from tensorboard~=2.5->tensorflow) (3.3.4)\n",
            "Requirement already satisfied: tensorboard-data-server<0.7.0,>=0.6.0 in /usr/local/lib/python3.7/dist-packages (from tensorboard~=2.5->tensorflow) (0.6.1)\n",
            "Requirement already satisfied: tensorboard-plugin-wit>=1.6.0 in /usr/local/lib/python3.7/dist-packages (from tensorboard~=2.5->tensorflow) (1.8.0)\n",
            "Requirement already satisfied: requests<3,>=2.21.0 in /usr/local/lib/python3.7/dist-packages (from tensorboard~=2.5->tensorflow) (2.23.0)\n",
            "Requirement already satisfied: werkzeug>=0.11.15 in /usr/local/lib/python3.7/dist-packages (from tensorboard~=2.5->tensorflow) (1.0.1)\n",
            "Requirement already satisfied: google-auth<2,>=1.6.3 in /usr/local/lib/python3.7/dist-packages (from tensorboard~=2.5->tensorflow) (1.32.1)\n",
            "Requirement already satisfied: setuptools>=41.0.0 in /usr/local/lib/python3.7/dist-packages (from tensorboard~=2.5->tensorflow) (57.2.0)\n",
            "Requirement already satisfied: cachetools<5.0,>=2.0.0 in /usr/local/lib/python3.7/dist-packages (from google-auth<2,>=1.6.3->tensorboard~=2.5->tensorflow) (4.2.2)\n",
            "Requirement already satisfied: rsa<5,>=3.1.4 in /usr/local/lib/python3.7/dist-packages (from google-auth<2,>=1.6.3->tensorboard~=2.5->tensorflow) (4.7.2)\n",
            "Requirement already satisfied: pyasn1-modules>=0.2.1 in /usr/local/lib/python3.7/dist-packages (from google-auth<2,>=1.6.3->tensorboard~=2.5->tensorflow) (0.2.8)\n",
            "Requirement already satisfied: requests-oauthlib>=0.7.0 in /usr/local/lib/python3.7/dist-packages (from google-auth-oauthlib<0.5,>=0.4.1->tensorboard~=2.5->tensorflow) (1.3.0)\n",
            "Requirement already satisfied: importlib-metadata in /usr/local/lib/python3.7/dist-packages (from markdown>=2.6.8->tensorboard~=2.5->tensorflow) (4.6.1)\n",
            "Requirement already satisfied: pyasn1<0.5.0,>=0.4.6 in /usr/local/lib/python3.7/dist-packages (from pyasn1-modules>=0.2.1->google-auth<2,>=1.6.3->tensorboard~=2.5->tensorflow) (0.4.8)\n",
            "Requirement already satisfied: urllib3!=1.25.0,!=1.25.1,<1.26,>=1.21.1 in /usr/local/lib/python3.7/dist-packages (from requests<3,>=2.21.0->tensorboard~=2.5->tensorflow) (1.24.3)\n",
            "Requirement already satisfied: chardet<4,>=3.0.2 in /usr/local/lib/python3.7/dist-packages (from requests<3,>=2.21.0->tensorboard~=2.5->tensorflow) (3.0.4)\n",
            "Requirement already satisfied: idna<3,>=2.5 in /usr/local/lib/python3.7/dist-packages (from requests<3,>=2.21.0->tensorboard~=2.5->tensorflow) (2.10)\n",
            "Requirement already satisfied: certifi>=2017.4.17 in /usr/local/lib/python3.7/dist-packages (from requests<3,>=2.21.0->tensorboard~=2.5->tensorflow) (2021.5.30)\n",
            "Requirement already satisfied: oauthlib>=3.0.0 in /usr/local/lib/python3.7/dist-packages (from requests-oauthlib>=0.7.0->google-auth-oauthlib<0.5,>=0.4.1->tensorboard~=2.5->tensorflow) (3.1.1)\n",
            "Requirement already satisfied: zipp>=0.5 in /usr/local/lib/python3.7/dist-packages (from importlib-metadata->markdown>=2.6.8->tensorboard~=2.5->tensorflow) (3.5.0)\n"
          ],
          "name": "stdout"
        },
        {
          "output_type": "stream",
          "text": [
            "/usr/local/lib/python3.7/dist-packages/statsmodels/tools/_testing.py:19: FutureWarning: pandas.util.testing is deprecated. Use the functions in the public API at pandas.testing instead.\n",
            "  import pandas.util.testing as tm\n"
          ],
          "name": "stderr"
        }
      ]
    },
    {
      "cell_type": "markdown",
      "metadata": {
        "id": "8zzCWDna3lrI"
      },
      "source": [
        "# Exploracion inicial"
      ]
    },
    {
      "cell_type": "code",
      "metadata": {
        "colab": {
          "base_uri": "https://localhost:8080/",
          "height": 297
        },
        "id": "V-S7hxk6ub75",
        "outputId": "3715573f-ab3f-4436-ad79-8015f3ef5cad"
      },
      "source": [
        "dataset.describe()"
      ],
      "execution_count": 3,
      "outputs": [
        {
          "output_type": "execute_result",
          "data": {
            "text/html": [
              "<div>\n",
              "<style scoped>\n",
              "    .dataframe tbody tr th:only-of-type {\n",
              "        vertical-align: middle;\n",
              "    }\n",
              "\n",
              "    .dataframe tbody tr th {\n",
              "        vertical-align: top;\n",
              "    }\n",
              "\n",
              "    .dataframe thead th {\n",
              "        text-align: right;\n",
              "    }\n",
              "</style>\n",
              "<table border=\"1\" class=\"dataframe\">\n",
              "  <thead>\n",
              "    <tr style=\"text-align: right;\">\n",
              "      <th></th>\n",
              "      <th>age</th>\n",
              "      <th>sex</th>\n",
              "      <th>cp</th>\n",
              "      <th>trestbps</th>\n",
              "      <th>chol</th>\n",
              "      <th>fbs</th>\n",
              "      <th>restecg</th>\n",
              "      <th>thalach</th>\n",
              "      <th>exang</th>\n",
              "      <th>oldpeak</th>\n",
              "      <th>slope</th>\n",
              "      <th>ca</th>\n",
              "      <th>thal</th>\n",
              "      <th>target</th>\n",
              "    </tr>\n",
              "  </thead>\n",
              "  <tbody>\n",
              "    <tr>\n",
              "      <th>count</th>\n",
              "      <td>303.000000</td>\n",
              "      <td>303.000000</td>\n",
              "      <td>303.000000</td>\n",
              "      <td>303.000000</td>\n",
              "      <td>303.000000</td>\n",
              "      <td>303.000000</td>\n",
              "      <td>303.000000</td>\n",
              "      <td>303.000000</td>\n",
              "      <td>303.000000</td>\n",
              "      <td>303.000000</td>\n",
              "      <td>303.000000</td>\n",
              "      <td>303.000000</td>\n",
              "      <td>303.000000</td>\n",
              "      <td>303.000000</td>\n",
              "    </tr>\n",
              "    <tr>\n",
              "      <th>mean</th>\n",
              "      <td>54.366337</td>\n",
              "      <td>0.683168</td>\n",
              "      <td>0.966997</td>\n",
              "      <td>131.623762</td>\n",
              "      <td>246.264026</td>\n",
              "      <td>0.148515</td>\n",
              "      <td>0.528053</td>\n",
              "      <td>149.646865</td>\n",
              "      <td>0.326733</td>\n",
              "      <td>1.039604</td>\n",
              "      <td>1.399340</td>\n",
              "      <td>0.729373</td>\n",
              "      <td>2.313531</td>\n",
              "      <td>0.544554</td>\n",
              "    </tr>\n",
              "    <tr>\n",
              "      <th>std</th>\n",
              "      <td>9.082101</td>\n",
              "      <td>0.466011</td>\n",
              "      <td>1.032052</td>\n",
              "      <td>17.538143</td>\n",
              "      <td>51.830751</td>\n",
              "      <td>0.356198</td>\n",
              "      <td>0.525860</td>\n",
              "      <td>22.905161</td>\n",
              "      <td>0.469794</td>\n",
              "      <td>1.161075</td>\n",
              "      <td>0.616226</td>\n",
              "      <td>1.022606</td>\n",
              "      <td>0.612277</td>\n",
              "      <td>0.498835</td>\n",
              "    </tr>\n",
              "    <tr>\n",
              "      <th>min</th>\n",
              "      <td>29.000000</td>\n",
              "      <td>0.000000</td>\n",
              "      <td>0.000000</td>\n",
              "      <td>94.000000</td>\n",
              "      <td>126.000000</td>\n",
              "      <td>0.000000</td>\n",
              "      <td>0.000000</td>\n",
              "      <td>71.000000</td>\n",
              "      <td>0.000000</td>\n",
              "      <td>0.000000</td>\n",
              "      <td>0.000000</td>\n",
              "      <td>0.000000</td>\n",
              "      <td>0.000000</td>\n",
              "      <td>0.000000</td>\n",
              "    </tr>\n",
              "    <tr>\n",
              "      <th>25%</th>\n",
              "      <td>47.500000</td>\n",
              "      <td>0.000000</td>\n",
              "      <td>0.000000</td>\n",
              "      <td>120.000000</td>\n",
              "      <td>211.000000</td>\n",
              "      <td>0.000000</td>\n",
              "      <td>0.000000</td>\n",
              "      <td>133.500000</td>\n",
              "      <td>0.000000</td>\n",
              "      <td>0.000000</td>\n",
              "      <td>1.000000</td>\n",
              "      <td>0.000000</td>\n",
              "      <td>2.000000</td>\n",
              "      <td>0.000000</td>\n",
              "    </tr>\n",
              "    <tr>\n",
              "      <th>50%</th>\n",
              "      <td>55.000000</td>\n",
              "      <td>1.000000</td>\n",
              "      <td>1.000000</td>\n",
              "      <td>130.000000</td>\n",
              "      <td>240.000000</td>\n",
              "      <td>0.000000</td>\n",
              "      <td>1.000000</td>\n",
              "      <td>153.000000</td>\n",
              "      <td>0.000000</td>\n",
              "      <td>0.800000</td>\n",
              "      <td>1.000000</td>\n",
              "      <td>0.000000</td>\n",
              "      <td>2.000000</td>\n",
              "      <td>1.000000</td>\n",
              "    </tr>\n",
              "    <tr>\n",
              "      <th>75%</th>\n",
              "      <td>61.000000</td>\n",
              "      <td>1.000000</td>\n",
              "      <td>2.000000</td>\n",
              "      <td>140.000000</td>\n",
              "      <td>274.500000</td>\n",
              "      <td>0.000000</td>\n",
              "      <td>1.000000</td>\n",
              "      <td>166.000000</td>\n",
              "      <td>1.000000</td>\n",
              "      <td>1.600000</td>\n",
              "      <td>2.000000</td>\n",
              "      <td>1.000000</td>\n",
              "      <td>3.000000</td>\n",
              "      <td>1.000000</td>\n",
              "    </tr>\n",
              "    <tr>\n",
              "      <th>max</th>\n",
              "      <td>77.000000</td>\n",
              "      <td>1.000000</td>\n",
              "      <td>3.000000</td>\n",
              "      <td>200.000000</td>\n",
              "      <td>564.000000</td>\n",
              "      <td>1.000000</td>\n",
              "      <td>2.000000</td>\n",
              "      <td>202.000000</td>\n",
              "      <td>1.000000</td>\n",
              "      <td>6.200000</td>\n",
              "      <td>2.000000</td>\n",
              "      <td>4.000000</td>\n",
              "      <td>3.000000</td>\n",
              "      <td>1.000000</td>\n",
              "    </tr>\n",
              "  </tbody>\n",
              "</table>\n",
              "</div>"
            ],
            "text/plain": [
              "              age         sex          cp  ...          ca        thal      target\n",
              "count  303.000000  303.000000  303.000000  ...  303.000000  303.000000  303.000000\n",
              "mean    54.366337    0.683168    0.966997  ...    0.729373    2.313531    0.544554\n",
              "std      9.082101    0.466011    1.032052  ...    1.022606    0.612277    0.498835\n",
              "min     29.000000    0.000000    0.000000  ...    0.000000    0.000000    0.000000\n",
              "25%     47.500000    0.000000    0.000000  ...    0.000000    2.000000    0.000000\n",
              "50%     55.000000    1.000000    1.000000  ...    0.000000    2.000000    1.000000\n",
              "75%     61.000000    1.000000    2.000000  ...    1.000000    3.000000    1.000000\n",
              "max     77.000000    1.000000    3.000000  ...    4.000000    3.000000    1.000000\n",
              "\n",
              "[8 rows x 14 columns]"
            ]
          },
          "metadata": {
            "tags": []
          },
          "execution_count": 3
        }
      ]
    },
    {
      "cell_type": "code",
      "metadata": {
        "colab": {
          "base_uri": "https://localhost:8080/",
          "height": 204
        },
        "id": "OkkIxzuOshc1",
        "outputId": "6e3e0685-55f3-4947-c12a-6b9c6a378763"
      },
      "source": [
        "dataset.head()"
      ],
      "execution_count": 4,
      "outputs": [
        {
          "output_type": "execute_result",
          "data": {
            "text/html": [
              "<div>\n",
              "<style scoped>\n",
              "    .dataframe tbody tr th:only-of-type {\n",
              "        vertical-align: middle;\n",
              "    }\n",
              "\n",
              "    .dataframe tbody tr th {\n",
              "        vertical-align: top;\n",
              "    }\n",
              "\n",
              "    .dataframe thead th {\n",
              "        text-align: right;\n",
              "    }\n",
              "</style>\n",
              "<table border=\"1\" class=\"dataframe\">\n",
              "  <thead>\n",
              "    <tr style=\"text-align: right;\">\n",
              "      <th></th>\n",
              "      <th>age</th>\n",
              "      <th>sex</th>\n",
              "      <th>cp</th>\n",
              "      <th>trestbps</th>\n",
              "      <th>chol</th>\n",
              "      <th>fbs</th>\n",
              "      <th>restecg</th>\n",
              "      <th>thalach</th>\n",
              "      <th>exang</th>\n",
              "      <th>oldpeak</th>\n",
              "      <th>slope</th>\n",
              "      <th>ca</th>\n",
              "      <th>thal</th>\n",
              "      <th>target</th>\n",
              "    </tr>\n",
              "  </thead>\n",
              "  <tbody>\n",
              "    <tr>\n",
              "      <th>0</th>\n",
              "      <td>63</td>\n",
              "      <td>1</td>\n",
              "      <td>3</td>\n",
              "      <td>145</td>\n",
              "      <td>233</td>\n",
              "      <td>1</td>\n",
              "      <td>0</td>\n",
              "      <td>150</td>\n",
              "      <td>0</td>\n",
              "      <td>2.3</td>\n",
              "      <td>0</td>\n",
              "      <td>0</td>\n",
              "      <td>1</td>\n",
              "      <td>1</td>\n",
              "    </tr>\n",
              "    <tr>\n",
              "      <th>1</th>\n",
              "      <td>37</td>\n",
              "      <td>1</td>\n",
              "      <td>2</td>\n",
              "      <td>130</td>\n",
              "      <td>250</td>\n",
              "      <td>0</td>\n",
              "      <td>1</td>\n",
              "      <td>187</td>\n",
              "      <td>0</td>\n",
              "      <td>3.5</td>\n",
              "      <td>0</td>\n",
              "      <td>0</td>\n",
              "      <td>2</td>\n",
              "      <td>1</td>\n",
              "    </tr>\n",
              "    <tr>\n",
              "      <th>2</th>\n",
              "      <td>41</td>\n",
              "      <td>0</td>\n",
              "      <td>1</td>\n",
              "      <td>130</td>\n",
              "      <td>204</td>\n",
              "      <td>0</td>\n",
              "      <td>0</td>\n",
              "      <td>172</td>\n",
              "      <td>0</td>\n",
              "      <td>1.4</td>\n",
              "      <td>2</td>\n",
              "      <td>0</td>\n",
              "      <td>2</td>\n",
              "      <td>1</td>\n",
              "    </tr>\n",
              "    <tr>\n",
              "      <th>3</th>\n",
              "      <td>56</td>\n",
              "      <td>1</td>\n",
              "      <td>1</td>\n",
              "      <td>120</td>\n",
              "      <td>236</td>\n",
              "      <td>0</td>\n",
              "      <td>1</td>\n",
              "      <td>178</td>\n",
              "      <td>0</td>\n",
              "      <td>0.8</td>\n",
              "      <td>2</td>\n",
              "      <td>0</td>\n",
              "      <td>2</td>\n",
              "      <td>1</td>\n",
              "    </tr>\n",
              "    <tr>\n",
              "      <th>4</th>\n",
              "      <td>57</td>\n",
              "      <td>0</td>\n",
              "      <td>0</td>\n",
              "      <td>120</td>\n",
              "      <td>354</td>\n",
              "      <td>0</td>\n",
              "      <td>1</td>\n",
              "      <td>163</td>\n",
              "      <td>1</td>\n",
              "      <td>0.6</td>\n",
              "      <td>2</td>\n",
              "      <td>0</td>\n",
              "      <td>2</td>\n",
              "      <td>1</td>\n",
              "    </tr>\n",
              "  </tbody>\n",
              "</table>\n",
              "</div>"
            ],
            "text/plain": [
              "   age  sex  cp  trestbps  chol  fbs  ...  exang  oldpeak  slope  ca  thal  target\n",
              "0   63    1   3       145   233    1  ...      0      2.3      0   0     1       1\n",
              "1   37    1   2       130   250    0  ...      0      3.5      0   0     2       1\n",
              "2   41    0   1       130   204    0  ...      0      1.4      2   0     2       1\n",
              "3   56    1   1       120   236    0  ...      0      0.8      2   0     2       1\n",
              "4   57    0   0       120   354    0  ...      1      0.6      2   0     2       1\n",
              "\n",
              "[5 rows x 14 columns]"
            ]
          },
          "metadata": {
            "tags": []
          },
          "execution_count": 4
        }
      ]
    },
    {
      "cell_type": "code",
      "metadata": {
        "colab": {
          "base_uri": "https://localhost:8080/"
        },
        "id": "JFx124xusonP",
        "outputId": "d28610c2-eb69-4561-f521-09afe19070d0"
      },
      "source": [
        "dataset.info()"
      ],
      "execution_count": 5,
      "outputs": [
        {
          "output_type": "stream",
          "text": [
            "<class 'pandas.core.frame.DataFrame'>\n",
            "RangeIndex: 303 entries, 0 to 302\n",
            "Data columns (total 14 columns):\n",
            " #   Column    Non-Null Count  Dtype  \n",
            "---  ------    --------------  -----  \n",
            " 0   age       303 non-null    int64  \n",
            " 1   sex       303 non-null    int64  \n",
            " 2   cp        303 non-null    int64  \n",
            " 3   trestbps  303 non-null    int64  \n",
            " 4   chol      303 non-null    int64  \n",
            " 5   fbs       303 non-null    int64  \n",
            " 6   restecg   303 non-null    int64  \n",
            " 7   thalach   303 non-null    int64  \n",
            " 8   exang     303 non-null    int64  \n",
            " 9   oldpeak   303 non-null    float64\n",
            " 10  slope     303 non-null    int64  \n",
            " 11  ca        303 non-null    int64  \n",
            " 12  thal      303 non-null    int64  \n",
            " 13  target    303 non-null    int64  \n",
            "dtypes: float64(1), int64(13)\n",
            "memory usage: 33.3 KB\n"
          ],
          "name": "stdout"
        }
      ]
    },
    {
      "cell_type": "markdown",
      "metadata": {
        "id": "ilNRapi-sz5v"
      },
      "source": [
        "0 age\n",
        "\n",
        "1 sex 1-male 0-fem\n",
        "\n",
        "2 cp - chest pain type\n",
        "\n",
        "3 trestbps resting blood pressure (in mm Hg on admission to the hospital)\n",
        "\n",
        "4 chol serum cholestoral in mg/dl\n",
        "\n",
        "5 fbs (fasting blood sugar &gt; 120 mg/dl) (1 = true; 0 = false)\n",
        "\n",
        "6 restecg resting electrocardiographic results\n",
        "\n",
        "7 thalach maximum heart rate achieved\n",
        "\n",
        "8 exang exercise induced angina (1 = yes; 0 = no)\n",
        "\n",
        "9 oldpeak ST depression induced by exercise relative to rest\n",
        "\n",
        "10 slope the slope of the peak exercise ST segment\n",
        "\n",
        "11 ca number of major vessels (0-3) colored by flourosopy\n",
        "\n",
        "12 thal 3 = normal; 6 = fixed defect; 7 = reversable defect\n",
        "\n",
        "13 target 1 or 0\n"
      ]
    },
    {
      "cell_type": "code",
      "metadata": {
        "colab": {
          "base_uri": "https://localhost:8080/",
          "height": 483
        },
        "id": "D_w2guf7stVS",
        "outputId": "8fcdb65c-4d61-4ab4-cfcb-23508bfccf63"
      },
      "source": [
        "status(dataset)"
      ],
      "execution_count": 6,
      "outputs": [
        {
          "output_type": "execute_result",
          "data": {
            "text/html": [
              "<div>\n",
              "<style scoped>\n",
              "    .dataframe tbody tr th:only-of-type {\n",
              "        vertical-align: middle;\n",
              "    }\n",
              "\n",
              "    .dataframe tbody tr th {\n",
              "        vertical-align: top;\n",
              "    }\n",
              "\n",
              "    .dataframe thead th {\n",
              "        text-align: right;\n",
              "    }\n",
              "</style>\n",
              "<table border=\"1\" class=\"dataframe\">\n",
              "  <thead>\n",
              "    <tr style=\"text-align: right;\">\n",
              "      <th></th>\n",
              "      <th>variable</th>\n",
              "      <th>q_nan</th>\n",
              "      <th>p_nan</th>\n",
              "      <th>q_zeros</th>\n",
              "      <th>p_zeros</th>\n",
              "      <th>unique</th>\n",
              "      <th>type</th>\n",
              "    </tr>\n",
              "  </thead>\n",
              "  <tbody>\n",
              "    <tr>\n",
              "      <th>0</th>\n",
              "      <td>age</td>\n",
              "      <td>0</td>\n",
              "      <td>0.0</td>\n",
              "      <td>0</td>\n",
              "      <td>0.000000</td>\n",
              "      <td>41</td>\n",
              "      <td>int64</td>\n",
              "    </tr>\n",
              "    <tr>\n",
              "      <th>1</th>\n",
              "      <td>sex</td>\n",
              "      <td>0</td>\n",
              "      <td>0.0</td>\n",
              "      <td>96</td>\n",
              "      <td>0.316832</td>\n",
              "      <td>2</td>\n",
              "      <td>int64</td>\n",
              "    </tr>\n",
              "    <tr>\n",
              "      <th>2</th>\n",
              "      <td>cp</td>\n",
              "      <td>0</td>\n",
              "      <td>0.0</td>\n",
              "      <td>143</td>\n",
              "      <td>0.471947</td>\n",
              "      <td>4</td>\n",
              "      <td>int64</td>\n",
              "    </tr>\n",
              "    <tr>\n",
              "      <th>3</th>\n",
              "      <td>trestbps</td>\n",
              "      <td>0</td>\n",
              "      <td>0.0</td>\n",
              "      <td>0</td>\n",
              "      <td>0.000000</td>\n",
              "      <td>49</td>\n",
              "      <td>int64</td>\n",
              "    </tr>\n",
              "    <tr>\n",
              "      <th>4</th>\n",
              "      <td>chol</td>\n",
              "      <td>0</td>\n",
              "      <td>0.0</td>\n",
              "      <td>0</td>\n",
              "      <td>0.000000</td>\n",
              "      <td>152</td>\n",
              "      <td>int64</td>\n",
              "    </tr>\n",
              "    <tr>\n",
              "      <th>5</th>\n",
              "      <td>fbs</td>\n",
              "      <td>0</td>\n",
              "      <td>0.0</td>\n",
              "      <td>258</td>\n",
              "      <td>0.851485</td>\n",
              "      <td>2</td>\n",
              "      <td>int64</td>\n",
              "    </tr>\n",
              "    <tr>\n",
              "      <th>6</th>\n",
              "      <td>restecg</td>\n",
              "      <td>0</td>\n",
              "      <td>0.0</td>\n",
              "      <td>147</td>\n",
              "      <td>0.485149</td>\n",
              "      <td>3</td>\n",
              "      <td>int64</td>\n",
              "    </tr>\n",
              "    <tr>\n",
              "      <th>7</th>\n",
              "      <td>thalach</td>\n",
              "      <td>0</td>\n",
              "      <td>0.0</td>\n",
              "      <td>0</td>\n",
              "      <td>0.000000</td>\n",
              "      <td>91</td>\n",
              "      <td>int64</td>\n",
              "    </tr>\n",
              "    <tr>\n",
              "      <th>8</th>\n",
              "      <td>exang</td>\n",
              "      <td>0</td>\n",
              "      <td>0.0</td>\n",
              "      <td>204</td>\n",
              "      <td>0.673267</td>\n",
              "      <td>2</td>\n",
              "      <td>int64</td>\n",
              "    </tr>\n",
              "    <tr>\n",
              "      <th>9</th>\n",
              "      <td>oldpeak</td>\n",
              "      <td>0</td>\n",
              "      <td>0.0</td>\n",
              "      <td>99</td>\n",
              "      <td>0.326733</td>\n",
              "      <td>40</td>\n",
              "      <td>float64</td>\n",
              "    </tr>\n",
              "    <tr>\n",
              "      <th>10</th>\n",
              "      <td>slope</td>\n",
              "      <td>0</td>\n",
              "      <td>0.0</td>\n",
              "      <td>21</td>\n",
              "      <td>0.069307</td>\n",
              "      <td>3</td>\n",
              "      <td>int64</td>\n",
              "    </tr>\n",
              "    <tr>\n",
              "      <th>11</th>\n",
              "      <td>ca</td>\n",
              "      <td>0</td>\n",
              "      <td>0.0</td>\n",
              "      <td>175</td>\n",
              "      <td>0.577558</td>\n",
              "      <td>5</td>\n",
              "      <td>int64</td>\n",
              "    </tr>\n",
              "    <tr>\n",
              "      <th>12</th>\n",
              "      <td>thal</td>\n",
              "      <td>0</td>\n",
              "      <td>0.0</td>\n",
              "      <td>2</td>\n",
              "      <td>0.006601</td>\n",
              "      <td>4</td>\n",
              "      <td>int64</td>\n",
              "    </tr>\n",
              "    <tr>\n",
              "      <th>13</th>\n",
              "      <td>target</td>\n",
              "      <td>0</td>\n",
              "      <td>0.0</td>\n",
              "      <td>138</td>\n",
              "      <td>0.455446</td>\n",
              "      <td>2</td>\n",
              "      <td>int64</td>\n",
              "    </tr>\n",
              "  </tbody>\n",
              "</table>\n",
              "</div>"
            ],
            "text/plain": [
              "    variable  q_nan  p_nan  q_zeros   p_zeros  unique     type\n",
              "0        age      0    0.0        0  0.000000      41    int64\n",
              "1        sex      0    0.0       96  0.316832       2    int64\n",
              "2         cp      0    0.0      143  0.471947       4    int64\n",
              "3   trestbps      0    0.0        0  0.000000      49    int64\n",
              "4       chol      0    0.0        0  0.000000     152    int64\n",
              "5        fbs      0    0.0      258  0.851485       2    int64\n",
              "6    restecg      0    0.0      147  0.485149       3    int64\n",
              "7    thalach      0    0.0        0  0.000000      91    int64\n",
              "8      exang      0    0.0      204  0.673267       2    int64\n",
              "9    oldpeak      0    0.0       99  0.326733      40  float64\n",
              "10     slope      0    0.0       21  0.069307       3    int64\n",
              "11        ca      0    0.0      175  0.577558       5    int64\n",
              "12      thal      0    0.0        2  0.006601       4    int64\n",
              "13    target      0    0.0      138  0.455446       2    int64"
            ]
          },
          "metadata": {
            "tags": []
          },
          "execution_count": 6
        }
      ]
    },
    {
      "cell_type": "code",
      "metadata": {
        "colab": {
          "base_uri": "https://localhost:8080/"
        },
        "id": "YN4XLMlvwPGG",
        "outputId": "2048dd7a-26c5-4512-e326-737aef88c4d7"
      },
      "source": [
        "nans = dataset[dataset.isna().sum(axis=1)==1]\n",
        "print(nans.shape)"
      ],
      "execution_count": 7,
      "outputs": [
        {
          "output_type": "stream",
          "text": [
            "(0, 14)\n"
          ],
          "name": "stdout"
        }
      ]
    },
    {
      "cell_type": "markdown",
      "metadata": {
        "id": "BDABBZaowSJW"
      },
      "source": [
        "Tengo 14 columnas, no hay filas con valores Nans "
      ]
    },
    {
      "cell_type": "code",
      "metadata": {
        "id": "rTeVIpxi4EXX"
      },
      "source": [
        "categoricas = ['sex', 'cp', 'fbs', 'restecg', 'exang', 'slope', 'ca', 'thal']\n",
        "numericas = ['age','trestbps', 'chol', 'thalach', 'oldpeak']"
      ],
      "execution_count": 8,
      "outputs": []
    },
    {
      "cell_type": "markdown",
      "metadata": {
        "id": "-uYZcZXr3tK-"
      },
      "source": [
        "# Variable de salida \"Target\""
      ]
    },
    {
      "cell_type": "code",
      "metadata": {
        "colab": {
          "base_uri": "https://localhost:8080/",
          "height": 436
        },
        "id": "HfMTxVUxuZQd",
        "outputId": "9ed1276f-56a8-4967-f493-2280a4999261"
      },
      "source": [
        "# Analizar la variable de salida\n",
        "target = dataset.target.to_numpy()\n",
        "fig, ax = plt.subplots(1,figsize=(8,6))\n",
        "ax.hist(target)"
      ],
      "execution_count": 9,
      "outputs": [
        {
          "output_type": "execute_result",
          "data": {
            "text/plain": [
              "(array([138.,   0.,   0.,   0.,   0.,   0.,   0.,   0.,   0., 165.]),\n",
              " array([0. , 0.1, 0.2, 0.3, 0.4, 0.5, 0.6, 0.7, 0.8, 0.9, 1. ]),\n",
              " <a list of 10 Patch objects>)"
            ]
          },
          "metadata": {
            "tags": []
          },
          "execution_count": 9
        },
        {
          "output_type": "display_data",
          "data": {
            "image/png": "[encoded data removed]",
            "text/plain": [
              "<Figure size 576x432 with 1 Axes>"
            ]
          },
          "metadata": {
            "tags": []
          }
        }
      ]
    },
    {
      "cell_type": "code",
      "metadata": {
        "colab": {
          "base_uri": "https://localhost:8080/"
        },
        "id": "iVOh_BD1u0KO",
        "outputId": "c4a9012e-4dc2-4984-ba7c-6fc3f264d50c"
      },
      "source": [
        "ds = dataset.copy() #creo una copia del dataset para realizar la ingenieria de features\n",
        "ds['target'] = ds.target.apply(lambda label: False if (label == 0) else True)\n",
        "ds.info() # Modifico la variable Target a tipo bool"
      ],
      "execution_count": 10,
      "outputs": [
        {
          "output_type": "stream",
          "text": [
            "<class 'pandas.core.frame.DataFrame'>\n",
            "RangeIndex: 303 entries, 0 to 302\n",
            "Data columns (total 14 columns):\n",
            " #   Column    Non-Null Count  Dtype  \n",
            "---  ------    --------------  -----  \n",
            " 0   age       303 non-null    int64  \n",
            " 1   sex       303 non-null    int64  \n",
            " 2   cp        303 non-null    int64  \n",
            " 3   trestbps  303 non-null    int64  \n",
            " 4   chol      303 non-null    int64  \n",
            " 5   fbs       303 non-null    int64  \n",
            " 6   restecg   303 non-null    int64  \n",
            " 7   thalach   303 non-null    int64  \n",
            " 8   exang     303 non-null    int64  \n",
            " 9   oldpeak   303 non-null    float64\n",
            " 10  slope     303 non-null    int64  \n",
            " 11  ca        303 non-null    int64  \n",
            " 12  thal      303 non-null    int64  \n",
            " 13  target    303 non-null    bool   \n",
            "dtypes: bool(1), float64(1), int64(12)\n",
            "memory usage: 31.2 KB\n"
          ],
          "name": "stdout"
        }
      ]
    },
    {
      "cell_type": "code",
      "metadata": {
        "colab": {
          "base_uri": "https://localhost:8080/"
        },
        "id": "UMdudP0dw0QB",
        "outputId": "df5373ec-0c2f-4896-f223-5008f5f6178a"
      },
      "source": [
        "print(ds[ds['target'] == 0].shape)\n",
        "print(ds[ds['target'] == 1].shape)"
      ],
      "execution_count": 11,
      "outputs": [
        {
          "output_type": "stream",
          "text": [
            "(138, 14)\n",
            "(165, 14)\n"
          ],
          "name": "stdout"
        }
      ]
    },
    {
      "cell_type": "markdown",
      "metadata": {
        "id": "Awbq0Gkm37Ue"
      },
      "source": [
        "# Variables Numericas"
      ]
    },
    {
      "cell_type": "code",
      "metadata": {
        "id": "P6ttRyx039oe"
      },
      "source": [
        "def show_boxplot(df, variable):\n",
        "    fig,axes = plt.subplots(1,len(variable),figsize=(22,8),sharex='row',sharey='row')\n",
        "    for i, var in enumerate(variable):\n",
        "        sns.boxplot(y=df[var],ax=axes[i])\n",
        "        \n",
        "def show_histogram(dt, var):\n",
        "    fig = dt.hist(xlabelsize=12, ylabelsize=12,figsize=(22,8), bins=50)\n",
        "    plt.suptitle(var, fontsize=20)\n",
        "    [x.title.set_size(14) for x in fig.ravel()]\n",
        "    plt.tight_layout()\n",
        "    plt.show()"
      ],
      "execution_count": 12,
      "outputs": []
    },
    {
      "cell_type": "code",
      "metadata": {
        "colab": {
          "base_uri": "https://localhost:8080/",
          "height": 1000
        },
        "id": "XTAocXYp4MgG",
        "outputId": "af1975b0-58f1-4f02-a687-159891b760f1"
      },
      "source": [
        "show_histogram(ds[numericas], numericas)\n",
        "show_boxplot(ds, numericas)"
      ],
      "execution_count": 13,
      "outputs": [
        {
          "output_type": "display_data",
          "data": {
            "image/png": "[encoded data removed]",
            "text/plain": [
              "<Figure size 1584x576 with 6 Axes>"
            ]
          },
          "metadata": {
            "tags": []
          }
        },
        {
          "output_type": "display_data",
          "data": {
            "image/png": "[encoded data removed]",
            "text/plain": [
              "<Figure size 1584x576 with 5 Axes>"
            ]
          },
          "metadata": {
            "tags": []
          }
        }
      ]
    },
    {
      "cell_type": "code",
      "metadata": {
        "colab": {
          "base_uri": "https://localhost:8080/",
          "height": 500
        },
        "id": "seyDSAjU4Ml_",
        "outputId": "37fc3b1d-2a4b-4a7d-bbc1-dbbfb0e54611"
      },
      "source": [
        "# Matriz de correlación de las variables numericas y variable objetivo, redondeo a 2 decimales\n",
        "correlation_matrix = ds[['age','trestbps', 'chol', 'thalach', 'oldpeak', 'target']].corr(method='pearson').round(2)\n",
        "fig,axes = plt.subplots(1,1,figsize=(20,8))\n",
        "sns.heatmap(data=correlation_matrix, annot=True,ax=axes);"
      ],
      "execution_count": 14,
      "outputs": [
        {
          "output_type": "display_data",
          "data": {
            "image/png": "[encoded data removed]",
            "text/plain": [
              "<Figure size 1440x576 with 2 Axes>"
            ]
          },
          "metadata": {
            "tags": []
          }
        }
      ]
    },
    {
      "cell_type": "markdown",
      "metadata": {
        "id": "MfhqWYuqoiNv"
      },
      "source": [
        "A continuacion se prueban distintas funciones para ver como afectan a las distribuciones de las variables numericas"
      ]
    },
    {
      "cell_type": "code",
      "metadata": {
        "colab": {
          "base_uri": "https://localhost:8080/",
          "height": 1000
        },
        "id": "6aKBvkLlL_oH",
        "outputId": "58c6f887-f9b0-40b1-dd97-ac96ea497c8d"
      },
      "source": [
        "transoform1 = np.log(ds[numericas]+1)\n",
        "show_histogram(transoform1, numericas)\n",
        "show_boxplot(transoform1, numericas)"
      ],
      "execution_count": 15,
      "outputs": [
        {
          "output_type": "display_data",
          "data": {
            "image/png": "[encoded data removed]",
            "text/plain": [
              "<Figure size 1584x576 with 6 Axes>"
            ]
          },
          "metadata": {
            "tags": []
          }
        },
        {
          "output_type": "display_data",
          "data": {
            "image/png": "[encoded data removed]",
            "text/plain": [
              "<Figure size 1584x576 with 5 Axes>"
            ]
          },
          "metadata": {
            "tags": []
          }
        }
      ]
    },
    {
      "cell_type": "code",
      "metadata": {
        "colab": {
          "base_uri": "https://localhost:8080/",
          "height": 1000
        },
        "id": "NyXrMmlQQfQj",
        "outputId": "da9d4388-b0a9-425e-e5d5-7f0359f7fd1f"
      },
      "source": [
        "transoform2 = 1/(ds[numericas]+1)\n",
        "show_histogram(transoform2, numericas)\n",
        "show_boxplot(transoform2, numericas)"
      ],
      "execution_count": 16,
      "outputs": [
        {
          "output_type": "display_data",
          "data": {
            "image/png": "[encoded data removed]",
            "text/plain": [
              "<Figure size 1584x576 with 6 Axes>"
            ]
          },
          "metadata": {
            "tags": []
          }
        },
        {
          "output_type": "display_data",
          "data": {
            "image/png": "[encoded data removed]",
            "text/plain": [
              "<Figure size 1584x576 with 5 Axes>"
            ]
          },
          "metadata": {
            "tags": []
          }
        }
      ]
    },
    {
      "cell_type": "markdown",
      "metadata": {
        "id": "QT_-Cyep35Av"
      },
      "source": [
        "# Variables Categoricas"
      ]
    },
    {
      "cell_type": "code",
      "metadata": {
        "colab": {
          "base_uri": "https://localhost:8080/"
        },
        "id": "ghYgiEiQ5zLR",
        "outputId": "412db9bd-4b79-471f-d462-868443d0db87"
      },
      "source": [
        "dataset[categoricas].nunique()"
      ],
      "execution_count": 17,
      "outputs": [
        {
          "output_type": "execute_result",
          "data": {
            "text/plain": [
              "sex        2\n",
              "cp         4\n",
              "fbs        2\n",
              "restecg    3\n",
              "exang      2\n",
              "slope      3\n",
              "ca         5\n",
              "thal       4\n",
              "dtype: int64"
            ]
          },
          "metadata": {
            "tags": []
          },
          "execution_count": 17
        }
      ]
    },
    {
      "cell_type": "code",
      "metadata": {
        "id": "w8oNOIFw0bZu"
      },
      "source": [
        "# Transformo a binarias las variables sex, fbs y exang\n",
        "ds['sex'] = ds.sex.apply(lambda label: False if (label == 0) else True)\n",
        "ds['fbs'] = ds.sex.apply(lambda label: False if (label == 0) else True)\n",
        "ds['exang'] = ds.sex.apply(lambda label: False if (label == 0) else True)"
      ],
      "execution_count": 18,
      "outputs": []
    },
    {
      "cell_type": "code",
      "metadata": {
        "colab": {
          "base_uri": "https://localhost:8080/"
        },
        "id": "BKxNaqYI0404",
        "outputId": "311a78a1-87eb-4044-a532-45dda0c34df1"
      },
      "source": [
        "ds.info() # Creo una variable Target de tipo bool"
      ],
      "execution_count": 19,
      "outputs": [
        {
          "output_type": "stream",
          "text": [
            "<class 'pandas.core.frame.DataFrame'>\n",
            "RangeIndex: 303 entries, 0 to 302\n",
            "Data columns (total 14 columns):\n",
            " #   Column    Non-Null Count  Dtype  \n",
            "---  ------    --------------  -----  \n",
            " 0   age       303 non-null    int64  \n",
            " 1   sex       303 non-null    bool   \n",
            " 2   cp        303 non-null    int64  \n",
            " 3   trestbps  303 non-null    int64  \n",
            " 4   chol      303 non-null    int64  \n",
            " 5   fbs       303 non-null    bool   \n",
            " 6   restecg   303 non-null    int64  \n",
            " 7   thalach   303 non-null    int64  \n",
            " 8   exang     303 non-null    bool   \n",
            " 9   oldpeak   303 non-null    float64\n",
            " 10  slope     303 non-null    int64  \n",
            " 11  ca        303 non-null    int64  \n",
            " 12  thal      303 non-null    int64  \n",
            " 13  target    303 non-null    bool   \n",
            "dtypes: bool(4), float64(1), int64(9)\n",
            "memory usage: 25.0 KB\n"
          ],
          "name": "stdout"
        }
      ]
    },
    {
      "cell_type": "code",
      "metadata": {
        "colab": {
          "base_uri": "https://localhost:8080/",
          "height": 204
        },
        "id": "Z_d8NTZX1vMh",
        "outputId": "4c3c05b3-3e5c-4f28-da09-bda8810cd626"
      },
      "source": [
        "ds[categoricas].head(5)"
      ],
      "execution_count": 20,
      "outputs": [
        {
          "output_type": "execute_result",
          "data": {
            "text/html": [
              "<div>\n",
              "<style scoped>\n",
              "    .dataframe tbody tr th:only-of-type {\n",
              "        vertical-align: middle;\n",
              "    }\n",
              "\n",
              "    .dataframe tbody tr th {\n",
              "        vertical-align: top;\n",
              "    }\n",
              "\n",
              "    .dataframe thead th {\n",
              "        text-align: right;\n",
              "    }\n",
              "</style>\n",
              "<table border=\"1\" class=\"dataframe\">\n",
              "  <thead>\n",
              "    <tr style=\"text-align: right;\">\n",
              "      <th></th>\n",
              "      <th>sex</th>\n",
              "      <th>cp</th>\n",
              "      <th>fbs</th>\n",
              "      <th>restecg</th>\n",
              "      <th>exang</th>\n",
              "      <th>slope</th>\n",
              "      <th>ca</th>\n",
              "      <th>thal</th>\n",
              "    </tr>\n",
              "  </thead>\n",
              "  <tbody>\n",
              "    <tr>\n",
              "      <th>0</th>\n",
              "      <td>True</td>\n",
              "      <td>3</td>\n",
              "      <td>True</td>\n",
              "      <td>0</td>\n",
              "      <td>True</td>\n",
              "      <td>0</td>\n",
              "      <td>0</td>\n",
              "      <td>1</td>\n",
              "    </tr>\n",
              "    <tr>\n",
              "      <th>1</th>\n",
              "      <td>True</td>\n",
              "      <td>2</td>\n",
              "      <td>True</td>\n",
              "      <td>1</td>\n",
              "      <td>True</td>\n",
              "      <td>0</td>\n",
              "      <td>0</td>\n",
              "      <td>2</td>\n",
              "    </tr>\n",
              "    <tr>\n",
              "      <th>2</th>\n",
              "      <td>False</td>\n",
              "      <td>1</td>\n",
              "      <td>False</td>\n",
              "      <td>0</td>\n",
              "      <td>False</td>\n",
              "      <td>2</td>\n",
              "      <td>0</td>\n",
              "      <td>2</td>\n",
              "    </tr>\n",
              "    <tr>\n",
              "      <th>3</th>\n",
              "      <td>True</td>\n",
              "      <td>1</td>\n",
              "      <td>True</td>\n",
              "      <td>1</td>\n",
              "      <td>True</td>\n",
              "      <td>2</td>\n",
              "      <td>0</td>\n",
              "      <td>2</td>\n",
              "    </tr>\n",
              "    <tr>\n",
              "      <th>4</th>\n",
              "      <td>False</td>\n",
              "      <td>0</td>\n",
              "      <td>False</td>\n",
              "      <td>1</td>\n",
              "      <td>False</td>\n",
              "      <td>2</td>\n",
              "      <td>0</td>\n",
              "      <td>2</td>\n",
              "    </tr>\n",
              "  </tbody>\n",
              "</table>\n",
              "</div>"
            ],
            "text/plain": [
              "     sex  cp    fbs  restecg  exang  slope  ca  thal\n",
              "0   True   3   True        0   True      0   0     1\n",
              "1   True   2   True        1   True      0   0     2\n",
              "2  False   1  False        0  False      2   0     2\n",
              "3   True   1   True        1   True      2   0     2\n",
              "4  False   0  False        1  False      2   0     2"
            ]
          },
          "metadata": {
            "tags": []
          },
          "execution_count": 20
        }
      ]
    },
    {
      "cell_type": "code",
      "metadata": {
        "colab": {
          "base_uri": "https://localhost:8080/",
          "height": 1000
        },
        "id": "PnDjcFTS9T6b",
        "outputId": "72878859-a6f4-4bd4-c652-628576da6b5b"
      },
      "source": [
        "fig, ax = plt.subplots(8,figsize=(10,20))\n",
        "ax[0].hist(dataset.sex)\n",
        "ax[1].hist(dataset.cp)\n",
        "ax[2].hist(dataset.fbs)\n",
        "ax[3].hist(dataset.restecg)\n",
        "ax[4].hist(dataset.exang)\n",
        "ax[5].hist(dataset.slope)\n",
        "ax[6].hist(dataset.ca)\n",
        "ax[7].hist(dataset.thal)"
      ],
      "execution_count": 21,
      "outputs": [
        {
          "output_type": "execute_result",
          "data": {
            "text/plain": [
              "(array([  2.,   0.,   0.,  18.,   0.,   0., 166.,   0.,   0., 117.]),\n",
              " array([0. , 0.3, 0.6, 0.9, 1.2, 1.5, 1.8, 2.1, 2.4, 2.7, 3. ]),\n",
              " <a list of 10 Patch objects>)"
            ]
          },
          "metadata": {
            "tags": []
          },
          "execution_count": 21
        },
        {
          "output_type": "display_data",
          "data": {
            "image/png": "[encoded data removed]",
            "text/plain": [
              "<Figure size 720x1440 with 8 Axes>"
            ]
          },
          "metadata": {
            "tags": []
          }
        }
      ]
    },
    {
      "cell_type": "code",
      "metadata": {
        "id": "JoqScxs1qR3u"
      },
      "source": [
        "# Se elimina la etiqueta 0 de la columna thal ya que era un dato no valido o faltante\n",
        "ds.drop(ds[ds['thal'] == 0].index, axis = 0, inplace=True)"
      ],
      "execution_count": 22,
      "outputs": []
    },
    {
      "cell_type": "code",
      "metadata": {
        "colab": {
          "base_uri": "https://localhost:8080/"
        },
        "id": "WkcT5vi8rMEF",
        "outputId": "cae84b96-70d8-49b5-b0a3-33ef9d5f836e"
      },
      "source": [
        "ds.info()"
      ],
      "execution_count": 23,
      "outputs": [
        {
          "output_type": "stream",
          "text": [
            "<class 'pandas.core.frame.DataFrame'>\n",
            "Int64Index: 301 entries, 0 to 302\n",
            "Data columns (total 14 columns):\n",
            " #   Column    Non-Null Count  Dtype  \n",
            "---  ------    --------------  -----  \n",
            " 0   age       301 non-null    int64  \n",
            " 1   sex       301 non-null    bool   \n",
            " 2   cp        301 non-null    int64  \n",
            " 3   trestbps  301 non-null    int64  \n",
            " 4   chol      301 non-null    int64  \n",
            " 5   fbs       301 non-null    bool   \n",
            " 6   restecg   301 non-null    int64  \n",
            " 7   thalach   301 non-null    int64  \n",
            " 8   exang     301 non-null    bool   \n",
            " 9   oldpeak   301 non-null    float64\n",
            " 10  slope     301 non-null    int64  \n",
            " 11  ca        301 non-null    int64  \n",
            " 12  thal      301 non-null    int64  \n",
            " 13  target    301 non-null    bool   \n",
            "dtypes: bool(4), float64(1), int64(9)\n",
            "memory usage: 27.0 KB\n"
          ],
          "name": "stdout"
        }
      ]
    },
    {
      "cell_type": "code",
      "metadata": {
        "colab": {
          "base_uri": "https://localhost:8080/"
        },
        "id": "7iTAUTw5u3Rx",
        "outputId": "c988a25e-6cdd-42f2-a00e-215288f752cb"
      },
      "source": [
        "ds[categoricas].nunique()"
      ],
      "execution_count": 24,
      "outputs": [
        {
          "output_type": "execute_result",
          "data": {
            "text/plain": [
              "sex        2\n",
              "cp         4\n",
              "fbs        2\n",
              "restecg    3\n",
              "exang      2\n",
              "slope      3\n",
              "ca         5\n",
              "thal       3\n",
              "dtype: int64"
            ]
          },
          "metadata": {
            "tags": []
          },
          "execution_count": 24
        }
      ]
    },
    {
      "cell_type": "markdown",
      "metadata": {
        "id": "nu0Tz9D0wQpe"
      },
      "source": [
        "El resto de las variables categoricas se encuentran etiquetadas con valores numericos. Si bien se podria aplicar un one hot encoding en un principio voy a evitarlo debido a que hay muy pocas observaciones. Si realizamos OHE en estas variables el nro de features aumentara pudiendo no resultar un buen dataset. De todos modos el nro de etiquetas o categorias de las distintas variables son similares lo cual permite que tomemos esta decision."
      ]
    },
    {
      "cell_type": "code",
      "metadata": {
        "colab": {
          "base_uri": "https://localhost:8080/"
        },
        "id": "mxOySIEdw6Vo",
        "outputId": "cf184823-8734-4909-d2f4-e92f6c17793a"
      },
      "source": [
        "ds.info()"
      ],
      "execution_count": 25,
      "outputs": [
        {
          "output_type": "stream",
          "text": [
            "<class 'pandas.core.frame.DataFrame'>\n",
            "Int64Index: 301 entries, 0 to 302\n",
            "Data columns (total 14 columns):\n",
            " #   Column    Non-Null Count  Dtype  \n",
            "---  ------    --------------  -----  \n",
            " 0   age       301 non-null    int64  \n",
            " 1   sex       301 non-null    bool   \n",
            " 2   cp        301 non-null    int64  \n",
            " 3   trestbps  301 non-null    int64  \n",
            " 4   chol      301 non-null    int64  \n",
            " 5   fbs       301 non-null    bool   \n",
            " 6   restecg   301 non-null    int64  \n",
            " 7   thalach   301 non-null    int64  \n",
            " 8   exang     301 non-null    bool   \n",
            " 9   oldpeak   301 non-null    float64\n",
            " 10  slope     301 non-null    int64  \n",
            " 11  ca        301 non-null    int64  \n",
            " 12  thal      301 non-null    int64  \n",
            " 13  target    301 non-null    bool   \n",
            "dtypes: bool(4), float64(1), int64(9)\n",
            "memory usage: 27.0 KB\n"
          ],
          "name": "stdout"
        }
      ]
    },
    {
      "cell_type": "code",
      "metadata": {
        "colab": {
          "base_uri": "https://localhost:8080/",
          "height": 204
        },
        "id": "Z_Z7sMbhxA4k",
        "outputId": "369b79d5-9867-4f42-a1d7-9b26cdb7bbc4"
      },
      "source": [
        "ds.head()"
      ],
      "execution_count": 26,
      "outputs": [
        {
          "output_type": "execute_result",
          "data": {
            "text/html": [
              "<div>\n",
              "<style scoped>\n",
              "    .dataframe tbody tr th:only-of-type {\n",
              "        vertical-align: middle;\n",
              "    }\n",
              "\n",
              "    .dataframe tbody tr th {\n",
              "        vertical-align: top;\n",
              "    }\n",
              "\n",
              "    .dataframe thead th {\n",
              "        text-align: right;\n",
              "    }\n",
              "</style>\n",
              "<table border=\"1\" class=\"dataframe\">\n",
              "  <thead>\n",
              "    <tr style=\"text-align: right;\">\n",
              "      <th></th>\n",
              "      <th>age</th>\n",
              "      <th>sex</th>\n",
              "      <th>cp</th>\n",
              "      <th>trestbps</th>\n",
              "      <th>chol</th>\n",
              "      <th>fbs</th>\n",
              "      <th>restecg</th>\n",
              "      <th>thalach</th>\n",
              "      <th>exang</th>\n",
              "      <th>oldpeak</th>\n",
              "      <th>slope</th>\n",
              "      <th>ca</th>\n",
              "      <th>thal</th>\n",
              "      <th>target</th>\n",
              "    </tr>\n",
              "  </thead>\n",
              "  <tbody>\n",
              "    <tr>\n",
              "      <th>0</th>\n",
              "      <td>63</td>\n",
              "      <td>True</td>\n",
              "      <td>3</td>\n",
              "      <td>145</td>\n",
              "      <td>233</td>\n",
              "      <td>True</td>\n",
              "      <td>0</td>\n",
              "      <td>150</td>\n",
              "      <td>True</td>\n",
              "      <td>2.3</td>\n",
              "      <td>0</td>\n",
              "      <td>0</td>\n",
              "      <td>1</td>\n",
              "      <td>True</td>\n",
              "    </tr>\n",
              "    <tr>\n",
              "      <th>1</th>\n",
              "      <td>37</td>\n",
              "      <td>True</td>\n",
              "      <td>2</td>\n",
              "      <td>130</td>\n",
              "      <td>250</td>\n",
              "      <td>True</td>\n",
              "      <td>1</td>\n",
              "      <td>187</td>\n",
              "      <td>True</td>\n",
              "      <td>3.5</td>\n",
              "      <td>0</td>\n",
              "      <td>0</td>\n",
              "      <td>2</td>\n",
              "      <td>True</td>\n",
              "    </tr>\n",
              "    <tr>\n",
              "      <th>2</th>\n",
              "      <td>41</td>\n",
              "      <td>False</td>\n",
              "      <td>1</td>\n",
              "      <td>130</td>\n",
              "      <td>204</td>\n",
              "      <td>False</td>\n",
              "      <td>0</td>\n",
              "      <td>172</td>\n",
              "      <td>False</td>\n",
              "      <td>1.4</td>\n",
              "      <td>2</td>\n",
              "      <td>0</td>\n",
              "      <td>2</td>\n",
              "      <td>True</td>\n",
              "    </tr>\n",
              "    <tr>\n",
              "      <th>3</th>\n",
              "      <td>56</td>\n",
              "      <td>True</td>\n",
              "      <td>1</td>\n",
              "      <td>120</td>\n",
              "      <td>236</td>\n",
              "      <td>True</td>\n",
              "      <td>1</td>\n",
              "      <td>178</td>\n",
              "      <td>True</td>\n",
              "      <td>0.8</td>\n",
              "      <td>2</td>\n",
              "      <td>0</td>\n",
              "      <td>2</td>\n",
              "      <td>True</td>\n",
              "    </tr>\n",
              "    <tr>\n",
              "      <th>4</th>\n",
              "      <td>57</td>\n",
              "      <td>False</td>\n",
              "      <td>0</td>\n",
              "      <td>120</td>\n",
              "      <td>354</td>\n",
              "      <td>False</td>\n",
              "      <td>1</td>\n",
              "      <td>163</td>\n",
              "      <td>False</td>\n",
              "      <td>0.6</td>\n",
              "      <td>2</td>\n",
              "      <td>0</td>\n",
              "      <td>2</td>\n",
              "      <td>True</td>\n",
              "    </tr>\n",
              "  </tbody>\n",
              "</table>\n",
              "</div>"
            ],
            "text/plain": [
              "   age    sex  cp  trestbps  chol  ...  oldpeak  slope  ca  thal  target\n",
              "0   63   True   3       145   233  ...      2.3      0   0     1    True\n",
              "1   37   True   2       130   250  ...      3.5      0   0     2    True\n",
              "2   41  False   1       130   204  ...      1.4      2   0     2    True\n",
              "3   56   True   1       120   236  ...      0.8      2   0     2    True\n",
              "4   57  False   0       120   354  ...      0.6      2   0     2    True\n",
              "\n",
              "[5 rows x 14 columns]"
            ]
          },
          "metadata": {
            "tags": []
          },
          "execution_count": 26
        }
      ]
    },
    {
      "cell_type": "markdown",
      "metadata": {
        "id": "Q59dn4kuom7j"
      },
      "source": [
        "# Separacion train y test"
      ]
    },
    {
      "cell_type": "code",
      "metadata": {
        "id": "1SirRFXHoma2"
      },
      "source": [
        "# Partición de train-test set. SE QUITAN LOS FEATURES 'Sunshine', 'Evaporation', 'Cloud3pm' y 'Cloud9am':\n",
        "from sklearn.model_selection import train_test_split\n",
        "\n",
        "\n",
        "features = ['age', 'sex', 'cp', 'trestbps', 'chol', 'fbs', 'restecg',\n",
        "            'thalach', 'exang','oldpeak', 'slope', 'ca', 'thal']\n",
        "\n",
        "x_train, x_test, y_train, y_test = train_test_split(\n",
        "    ds[features], \n",
        "    ds['target'],  \n",
        "    test_size=0.3,\n",
        "    random_state=42)"
      ],
      "execution_count": 28,
      "outputs": []
    },
    {
      "cell_type": "code",
      "metadata": {
        "colab": {
          "base_uri": "https://localhost:8080/"
        },
        "id": "0wMLBfgDpvom",
        "outputId": "9075d71b-8cf8-4d7a-b778-90305726d389"
      },
      "source": [
        "print(x_train.shape)\n",
        "print(y_train.shape)\n",
        "print(x_test.shape)\n",
        "print(y_test.shape)"
      ],
      "execution_count": 29,
      "outputs": [
        {
          "output_type": "stream",
          "text": [
            "(210, 13)\n",
            "(210,)\n",
            "(91, 13)\n",
            "(91,)\n"
          ],
          "name": "stdout"
        }
      ]
    },
    {
      "cell_type": "markdown",
      "metadata": {
        "id": "nqYq594WoZ_k"
      },
      "source": [
        "# Entrenamiento de modelos"
      ]
    },
    {
      "cell_type": "code",
      "metadata": {
        "id": "rXXSHyUKxNaW"
      },
      "source": [
        "# Entrenamiento de modelos de prueba\n",
        "from sklearn.pipeline import Pipeline\n",
        "from sklearn.linear_model import LogisticRegression\n",
        "from sklearn.ensemble import AdaBoostClassifier\n",
        "from sklearn.ensemble import RandomForestClassifier\n",
        "from sklearn.ensemble import GradientBoostingClassifier\n",
        "from sklearn.neighbors import KNeighborsClassifier\n",
        "from sklearn.svm import SVC\n",
        "\n",
        "# Evaluación de modelos de prueba\n",
        "from sklearn.metrics import balanced_accuracy_score\n",
        "def pipeline_ml_models(preprocessing_pipeline):\n",
        "  # Modelos a ensayar.\n",
        "  models = [\n",
        "      (\"RandomForest\", \n",
        "          Pipeline([\n",
        "              ('preprocessor', preprocessing_pipeline),\n",
        "              ('model', RandomForestClassifier(n_estimators=200, random_state=42)) \n",
        "          ])\n",
        "      ),\n",
        "      \n",
        "      (\"Adaboost\", \n",
        "          Pipeline([\n",
        "              ('preprocessor', preprocessing_pipeline),\n",
        "              ('model', AdaBoostClassifier(n_estimators=200, random_state=42)) \n",
        "          ])\n",
        "      ),\n",
        "      \n",
        "      (\"LogisticRegression\", \n",
        "          Pipeline([\n",
        "              ('preprocessor', preprocessing_pipeline),\n",
        "              ('model', LogisticRegression(random_state=42, solver='lbfgs') )\n",
        "          ])\n",
        "      ),\n",
        "      \n",
        "      (\"KNN\", \n",
        "          Pipeline([\n",
        "              ('preprocessor', preprocessing_pipeline),\n",
        "              ('model', KNeighborsClassifier(n_neighbors=5) )\n",
        "          ])\n",
        "      ),\n",
        "      \n",
        "      (\"SVM\", \n",
        "          Pipeline([\n",
        "              ('preprocessor', preprocessing_pipeline),\n",
        "              ('model', SVC(random_state=44, probability=True, gamma='auto') )\n",
        "          ])\n",
        "      )\n",
        "  ]\n",
        "  \n",
        "  return models"
      ],
      "execution_count": 54,
      "outputs": []
    },
    {
      "cell_type": "code",
      "metadata": {
        "id": "dOvMAUntqJGZ"
      },
      "source": [
        "from sklearn.preprocessing import StandardScaler\n",
        "from sklearn.compose import ColumnTransformer\n",
        "\n",
        "# categoricas = ['sex', 'cp', 'fbs', 'restecg', 'exang', 'slope', 'ca', 'thal']\n",
        "# numericas = ['age','trestbps', 'chol', 'thalach', 'oldpeak']\n",
        "\n",
        "# Cadena de preprocesamiento\n",
        "\n",
        "preprocessing_pipeline1 = ColumnTransformer(\n",
        "    # Transformaciones a aplicar a cada columna\n",
        "             transformers=[\n",
        "                           (\"numerical\", StandardScaler(), numericas)\n",
        "              ],\n",
        "              remainder='passthrough'\n",
        ")\n",
        "models1 = pipeline_ml_models(preprocessing_pipeline)"
      ],
      "execution_count": 83,
      "outputs": []
    },
    {
      "cell_type": "code",
      "metadata": {
        "id": "plAHoSGyrc8D"
      },
      "source": [
        "from sklearn.preprocessing import OneHotEncoder\n",
        "from sklearn.preprocessing import MinMaxScaler\n",
        "\n",
        "# categoricas1 = ['sex', 'cp', 'fbs', 'restecg', 'exang', 'slope', 'ca', 'thal']\n",
        "categoricas1 = ['cp', 'restecg', 'slope', 'ca', 'thal']\n",
        "# numericas = ['age','trestbps', 'chol', 'thalach', 'oldpeak']\n",
        "\n",
        "# Cadena de preprocesamiento\n",
        "\n",
        "preprocessing_pipeline2 = ColumnTransformer(\n",
        "    # Transformaciones a aplicar a cada columna\n",
        "             transformers=[\n",
        "                           (\"numerical\", StandardScaler(), numericas),\n",
        "                           ('categoric1', OneHotEncoder(handle_unknown='ignore'),categoricas1)\n",
        "              ],\n",
        "              remainder='passthrough'\n",
        ")\n",
        "\n",
        "models2 = pipeline_ml_models(preprocessing_pipeline2)\n"
      ],
      "execution_count": 84,
      "outputs": []
    },
    {
      "cell_type": "code",
      "metadata": {
        "id": "jPu0bs2pHyPa"
      },
      "source": [
        "preprocessing_pipeline3 = ColumnTransformer(\n",
        "    # Transformaciones a aplicar a cada columna\n",
        "             transformers=[\n",
        "                           (\"numerical\", MinMaxScaler(), numericas)\n",
        "              ],\n",
        "              remainder='passthrough'\n",
        ")\n",
        "\n",
        "models3 = pipeline_ml_models(preprocessing_pipeline3)"
      ],
      "execution_count": 85,
      "outputs": []
    },
    {
      "cell_type": "code",
      "metadata": {
        "id": "8UZ-tWNxIUxX"
      },
      "source": [
        "preprocessing_pipeline4 = ColumnTransformer(\n",
        "    # Transformaciones a aplicar a cada columna\n",
        "             transformers=[\n",
        "                           (\"numerical\", MinMaxScaler(), numericas),\n",
        "                           ('categoric1', OneHotEncoder(handle_unknown='ignore'),categoricas1)\n",
        "              ],\n",
        "              remainder='passthrough'\n",
        ")\n",
        "\n",
        "models4 = pipeline_ml_models(preprocessing_pipeline4)"
      ],
      "execution_count": 86,
      "outputs": []
    },
    {
      "cell_type": "markdown",
      "metadata": {
        "id": "07VsBzt0eGK6"
      },
      "source": [
        "Modelo 1: Se aplica la transformacion StandarScaler en las variable numericas. Las variables categoricas no se modifican\n",
        "\n",
        "Modelo 2: Se aplica la transformacion StandarScaler en las variable numericas. Se aplica OHE a las variables categoricas no binarias\n",
        "\n",
        "Modelo 3: Se aplica la transformacion MinMaxScaler en las variable numericas. Las variables categoricas no se modifican\n",
        "\n",
        "Modelo 4: Se aplica la transformacion MinMaxScaler en las variable numericas. Se aplica OHE a las variables categoricas no binarias"
      ]
    },
    {
      "cell_type": "code",
      "metadata": {
        "id": "1ZeHk7GQIiQ2"
      },
      "source": [
        "from sklearn.model_selection import StratifiedKFold\n",
        "from sklearn.model_selection import KFold\n",
        "from sklearn.base import clone\n",
        "from sklearn.metrics import roc_auc_score\n",
        "\n",
        "def kfold_pipeline(models_pipeline, samples , target, x_test, y_test, k = 5):\n",
        "    \n",
        "    \"\"\"\n",
        "    Esta funcion recibe:\n",
        "        models_pipeline: el pipeline de los modelos a evaluar\n",
        "        samples: set de entrenamiento\n",
        "        target: salidas del set de entrenamiento\n",
        "        x_test: set de testeo\n",
        "        y_test: set de testeo\n",
        "        k: el numero de segmentos que utilizara el algoritmo de K-Fold\n",
        "    \"\"\"\n",
        "    results = {}\n",
        "    for model in models_pipeline:\n",
        "        model_name = model[0]\n",
        "        results[model_name] = {}\n",
        "        \n",
        "        train_auc = 0\n",
        "        valid_auc = 0\n",
        "        \n",
        "        kf = KFold(n_splits=k)\n",
        "        kf.get_n_splits(samples)\n",
        "        \n",
        "        for train_index, valid_index in kf.split(samples, target):\n",
        "            x_valid = samples.iloc[valid_index]\n",
        "            y_valid = target.iloc[valid_index]\n",
        "            x_train = samples.iloc[train_index]\n",
        "            y_train = target.iloc[train_index]\n",
        "            \n",
        "            model[1].fit(x_train, y_train)\n",
        "            pred_train = model[1].predict_proba(x_train)\n",
        "            pred_valid = model[1].predict_proba(x_valid)\n",
        "            \n",
        "            if len(pred_train.shape)>1 and (pred_train.shape[1]>1):\n",
        "                train_auc = train_auc + roc_auc_score(y_train, pred_train[:,1]) / k\n",
        "                valid_auc = valid_auc + roc_auc_score(y_valid, pred_valid[:,1]) / k\n",
        "            else:\n",
        "                train_auc = train_auc + roc_auc_score(y_train, pred_train) / k\n",
        "                valid_auc = valid_auc + roc_auc_score(y_valid, pred_valid) / k\n",
        "        \n",
        "        pred_test = model[1].predict_proba(x_test)\n",
        "\n",
        "        results[model_name][\"Train\"] = train_auc\n",
        "        results[model_name][\"Valid\"] = valid_auc\n",
        "        results[model_name][\"test\"] = roc_auc_score(y_test, pred_test[:,1])\n",
        "\n",
        "    models_results = pd.DataFrame(results).T\n",
        "    return models_results"
      ],
      "execution_count": 87,
      "outputs": []
    },
    {
      "cell_type": "code",
      "metadata": {
        "id": "4jBb0LsnSidK"
      },
      "source": [
        "res1 = kfold_pipeline(models1, x_train , y_train, x_test, y_test, k = 5)\n",
        "res2 = kfold_pipeline(models2, x_train , y_train, x_test, y_test, k = 5)\n",
        "res3 = kfold_pipeline(models3, x_train , y_train, x_test, y_test, k = 5)\n",
        "res4 = kfold_pipeline(models4, x_train , y_train, x_test, y_test, k = 5)"
      ],
      "execution_count": 88,
      "outputs": []
    },
    {
      "cell_type": "code",
      "metadata": {
        "colab": {
          "base_uri": "https://localhost:8080/",
          "height": 204
        },
        "id": "578Q9I9wTavR",
        "outputId": "dcf5714b-1e44-4cad-d9bf-9b1bba5c2eb1"
      },
      "source": [
        "pd.concat([res1, res2, res3, res4], axis = 1)"
      ],
      "execution_count": 89,
      "outputs": [
        {
          "output_type": "execute_result",
          "data": {
            "text/html": [
              "<div>\n",
              "<style scoped>\n",
              "    .dataframe tbody tr th:only-of-type {\n",
              "        vertical-align: middle;\n",
              "    }\n",
              "\n",
              "    .dataframe tbody tr th {\n",
              "        vertical-align: top;\n",
              "    }\n",
              "\n",
              "    .dataframe thead th {\n",
              "        text-align: right;\n",
              "    }\n",
              "</style>\n",
              "<table border=\"1\" class=\"dataframe\">\n",
              "  <thead>\n",
              "    <tr style=\"text-align: right;\">\n",
              "      <th></th>\n",
              "      <th>Train</th>\n",
              "      <th>Valid</th>\n",
              "      <th>test</th>\n",
              "      <th>Train</th>\n",
              "      <th>Valid</th>\n",
              "      <th>test</th>\n",
              "      <th>Train</th>\n",
              "      <th>Valid</th>\n",
              "      <th>test</th>\n",
              "      <th>Train</th>\n",
              "      <th>Valid</th>\n",
              "      <th>test</th>\n",
              "    </tr>\n",
              "  </thead>\n",
              "  <tbody>\n",
              "    <tr>\n",
              "      <th>RandomForest</th>\n",
              "      <td>1.000000</td>\n",
              "      <td>0.908538</td>\n",
              "      <td>0.886520</td>\n",
              "      <td>1.000000</td>\n",
              "      <td>0.902552</td>\n",
              "      <td>0.881127</td>\n",
              "      <td>1.000000</td>\n",
              "      <td>0.907846</td>\n",
              "      <td>0.884804</td>\n",
              "      <td>1.000000</td>\n",
              "      <td>0.903007</td>\n",
              "      <td>0.880637</td>\n",
              "    </tr>\n",
              "    <tr>\n",
              "      <th>Adaboost</th>\n",
              "      <td>1.000000</td>\n",
              "      <td>0.807821</td>\n",
              "      <td>0.852941</td>\n",
              "      <td>1.000000</td>\n",
              "      <td>0.818800</td>\n",
              "      <td>0.838725</td>\n",
              "      <td>1.000000</td>\n",
              "      <td>0.808739</td>\n",
              "      <td>0.852941</td>\n",
              "      <td>1.000000</td>\n",
              "      <td>0.820630</td>\n",
              "      <td>0.839706</td>\n",
              "    </tr>\n",
              "    <tr>\n",
              "      <th>LogisticRegression</th>\n",
              "      <td>0.922610</td>\n",
              "      <td>0.912082</td>\n",
              "      <td>0.903431</td>\n",
              "      <td>0.951664</td>\n",
              "      <td>0.922702</td>\n",
              "      <td>0.896078</td>\n",
              "      <td>0.917962</td>\n",
              "      <td>0.906194</td>\n",
              "      <td>0.897059</td>\n",
              "      <td>0.949185</td>\n",
              "      <td>0.926351</td>\n",
              "      <td>0.891667</td>\n",
              "    </tr>\n",
              "    <tr>\n",
              "      <th>KNN</th>\n",
              "      <td>0.945611</td>\n",
              "      <td>0.880345</td>\n",
              "      <td>0.865686</td>\n",
              "      <td>0.957912</td>\n",
              "      <td>0.898199</td>\n",
              "      <td>0.845588</td>\n",
              "      <td>0.957501</td>\n",
              "      <td>0.902701</td>\n",
              "      <td>0.868137</td>\n",
              "      <td>0.959380</td>\n",
              "      <td>0.903465</td>\n",
              "      <td>0.853922</td>\n",
              "    </tr>\n",
              "    <tr>\n",
              "      <th>SVM</th>\n",
              "      <td>0.962759</td>\n",
              "      <td>0.903413</td>\n",
              "      <td>0.911275</td>\n",
              "      <td>0.955999</td>\n",
              "      <td>0.914876</td>\n",
              "      <td>0.899020</td>\n",
              "      <td>0.934630</td>\n",
              "      <td>0.910679</td>\n",
              "      <td>0.890196</td>\n",
              "      <td>0.940817</td>\n",
              "      <td>0.915811</td>\n",
              "      <td>0.888235</td>\n",
              "    </tr>\n",
              "  </tbody>\n",
              "</table>\n",
              "</div>"
            ],
            "text/plain": [
              "                       Train     Valid      test  ...     Train     Valid      test\n",
              "RandomForest        1.000000  0.908538  0.886520  ...  1.000000  0.903007  0.880637\n",
              "Adaboost            1.000000  0.807821  0.852941  ...  1.000000  0.820630  0.839706\n",
              "LogisticRegression  0.922610  0.912082  0.903431  ...  0.949185  0.926351  0.891667\n",
              "KNN                 0.945611  0.880345  0.865686  ...  0.959380  0.903465  0.853922\n",
              "SVM                 0.962759  0.903413  0.911275  ...  0.940817  0.915811  0.888235\n",
              "\n",
              "[5 rows x 12 columns]"
            ]
          },
          "metadata": {
            "tags": []
          },
          "execution_count": 89
        }
      ]
    },
    {
      "cell_type": "code",
      "metadata": {
        "id": "m0plT7aBUI72"
      },
      "source": [
        ""
      ],
      "execution_count": null,
      "outputs": []
    }
  ]
}