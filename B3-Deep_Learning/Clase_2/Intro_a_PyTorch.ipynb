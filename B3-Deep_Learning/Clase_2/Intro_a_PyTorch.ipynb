{
 "cells": [
  {
   "cell_type": "code",
   "execution_count": 1,
   "metadata": {
    "id": "Ur-ExA0LnXPe"
   },
   "outputs": [],
   "source": [
    "import numpy as np\n",
    "from matplotlib import pyplot as plt\n",
    "\n",
    "import torch # Libreria\n",
    "from torch.utils.data import Dataset # Clase u objeto que va a contener la informacion que vamos a utilizar para entrenar y evaluar nuestro algoritmo\n",
    "from torch.utils.data import DataLoader"
   ]
  },
  {
   "cell_type": "code",
   "execution_count": 2,
   "metadata": {
    "colab": {
     "base_uri": "https://localhost:8080/",
     "height": 285
    },
    "id": "ZG6kHIqfoI8o",
    "outputId": "5e3c0dc7-1627-4970-d392-7d61a9bcae91"
   },
   "outputs": [
    {
     "data": {
      "text/plain": [
       "<matplotlib.collections.PathCollection at 0x2a45552e2b0>"
      ]
     },
     "execution_count": 2,
     "metadata": {},
     "output_type": "execute_result"
    },
    {
     "data": {
      "image/png": "[encoded data removed]",
      "text/plain": [
       "<Figure size 432x288 with 1 Axes>"
      ]
     },
     "metadata": {
      "needs_background": "light"
     },
     "output_type": "display_data"
    }
   ],
   "source": [
    "w = np.random.uniform(0, 8, 10000)\n",
    "u = np.random.uniform(0, 1, 10000)\n",
    "n1 = np.random.normal(3, 0.1, 10000)\n",
    "n2 = np.random.normal(-3, 0.1, 10000)\n",
    "z = (w-4)**2\n",
    "z[u >= 0.5] = z[u >= 0.5] + n1[u >= 0.5]\n",
    "z[u < 0.5] = z[u < 0.5] + n2[u <= 0.5]\n",
    "fig, ax = plt.subplots(1,1)\n",
    "ax.scatter(w, z)"
   ]
  },
  {
   "cell_type": "code",
   "execution_count": 3,
   "metadata": {
    "colab": {
     "base_uri": "https://localhost:8080/"
    },
    "id": "qvr2H0XLpQyK",
    "outputId": "9c52c59a-efc8-4cc3-fea1-865038b4ff77"
   },
   "outputs": [
    {
     "name": "stdout",
     "output_type": "stream",
     "text": [
      "(8000,)\n",
      "(2000,)\n",
      "(8000,)\n",
      "(2000,)\n",
      "(8000, 2)\n",
      "(2000, 2)\n"
     ]
    }
   ],
   "source": [
    "l = np.zeros(10000)\n",
    "mask = z >= (w-4)**2\n",
    "l[mask] = 1\n",
    "l[~mask] = 0\n",
    "\n",
    "idx = np.random.permutation(np.arange(0, 10000))\n",
    "w_train = w[idx[0:int(0.8*10000)]]\n",
    "w_test = w[idx[int(0.8*10000):]]\n",
    "\n",
    "z_train = z[idx[0:int(0.8*10000)]]\n",
    "z_test = z[idx[int(0.8*10000):]]\n",
    "\n",
    "l_train = l[idx[0:int(0.8*10000)]]\n",
    "l_test = l[idx[int(0.8*10000):]]\n",
    "\n",
    "x_train = np.zeros((w_train.shape[0],2))\n",
    "x_train[:,0] = w_train\n",
    "x_train[:,1] = z_train\n",
    "\n",
    "x_test = np.zeros((w_test.shape[0],2))\n",
    "x_test[:,0] = w_test\n",
    "x_test[:,1] = z_test\n",
    "\n",
    "print(w_train.shape)\n",
    "print(w_test.shape)\n",
    "print(z_train.shape)\n",
    "print(z_test.shape)\n",
    "print(x_train.shape)\n",
    "print(x_test.shape)"
   ]
  },
  {
   "cell_type": "code",
   "execution_count": 4,
   "metadata": {
    "id": "APqJO0H7s6Uw"
   },
   "outputs": [],
   "source": [
    "class CustomDataset(Dataset):\n",
    "    def __init__(self, x, y):\n",
    "        super().__init__()\n",
    "        self.x = x\n",
    "        self.y = y\n",
    "\n",
    "    def __len__(self):\n",
    "        return self.x.shape[0]\n",
    "  \n",
    "    def __getitem__(self, idx):\n",
    "        return self.x[idx,:], self.y[idx]\n"
   ]
  },
  {
   "cell_type": "code",
   "execution_count": 5,
   "metadata": {
    "id": "cc129yBrtcKh"
   },
   "outputs": [],
   "source": [
    "training_set = CustomDataset(x_train, l_train)"
   ]
  },
  {
   "cell_type": "code",
   "execution_count": 6,
   "metadata": {
    "colab": {
     "base_uri": "https://localhost:8080/"
    },
    "id": "RjaqeWNhttQn",
    "outputId": "800347d8-2678-46c3-f4e8-1a82d97b338c"
   },
   "outputs": [
    {
     "data": {
      "text/plain": [
       "8000"
      ]
     },
     "execution_count": 6,
     "metadata": {},
     "output_type": "execute_result"
    }
   ],
   "source": [
    "len(training_set) #sobrecarga del operador 'len()'"
   ]
  },
  {
   "cell_type": "code",
   "execution_count": 7,
   "metadata": {
    "colab": {
     "base_uri": "https://localhost:8080/"
    },
    "id": "yK-PdlDMu_tX",
    "outputId": "153fac5a-b5dc-46cb-b368-17b87d9da851"
   },
   "outputs": [
    {
     "data": {
      "text/plain": [
       "8000"
      ]
     },
     "execution_count": 7,
     "metadata": {},
     "output_type": "execute_result"
    }
   ],
   "source": [
    "training_set.__len__()"
   ]
  },
  {
   "cell_type": "code",
   "execution_count": 8,
   "metadata": {
    "colab": {
     "base_uri": "https://localhost:8080/"
    },
    "id": "xQR5yCkHvDmR",
    "outputId": "22cfd020-ecdb-4997-d380-ea6a8e413f94"
   },
   "outputs": [
    {
     "data": {
      "text/plain": [
       "(array([ 5.59511736, -0.45669661]), 0.0)"
      ]
     },
     "execution_count": 8,
     "metadata": {},
     "output_type": "execute_result"
    }
   ],
   "source": [
    "training_set[0] # sobrecarga de operador '[]'"
   ]
  },
  {
   "cell_type": "code",
   "execution_count": 9,
   "metadata": {
    "colab": {
     "base_uri": "https://localhost:8080/"
    },
    "id": "ZML8t1-qvHoW",
    "outputId": "d5ce492d-723d-4850-c89e-8eba45be0751"
   },
   "outputs": [
    {
     "data": {
      "text/plain": [
       "(array([ 5.59511736, -0.45669661]), 0.0)"
      ]
     },
     "execution_count": 9,
     "metadata": {},
     "output_type": "execute_result"
    }
   ],
   "source": [
    "training_set.__getitem__(0)"
   ]
  },
  {
   "cell_type": "code",
   "execution_count": 10,
   "metadata": {
    "id": "Do14Mt_5vKjb"
   },
   "outputs": [],
   "source": [
    "test_set = CustomDataset(x_test, l_test)"
   ]
  },
  {
   "cell_type": "code",
   "execution_count": 11,
   "metadata": {
    "id": "DAmys7nNvgI9"
   },
   "outputs": [],
   "source": [
    "training_dataloader = DataLoader(training_set, batch_size = 512, shuffle=True)\n",
    "# El data loader simpre espera el set de datos, el batch_size que \n",
    "# preferentemente deberia ser potencia de 2 para optimizar los calculos,\n",
    "# y opcional el shuffel que mezcla los datos cada vez que comienza una epoch\n",
    "test_dataloader = DataLoader(test_set, batch_size = 256, shuffle=True)"
   ]
  },
  {
   "cell_type": "code",
   "execution_count": 12,
   "metadata": {
    "colab": {
     "base_uri": "https://localhost:8080/"
    },
    "id": "OT3Eg4ihwXxN",
    "outputId": "d80e3990-f6a1-4667-edd3-ba274b97afef"
   },
   "outputs": [
    {
     "data": {
      "text/plain": [
       "16"
      ]
     },
     "execution_count": 12,
     "metadata": {},
     "output_type": "execute_result"
    }
   ],
   "source": [
    "len(training_dataloader) # Muestra el tamaño de cada batch"
   ]
  },
  {
   "cell_type": "code",
   "execution_count": 13,
   "metadata": {
    "colab": {
     "base_uri": "https://localhost:8080/"
    },
    "id": "SBj_5WsJwgxN",
    "outputId": "a536aa48-577d-4d08-ca04-80a0f1b33467"
   },
   "outputs": [
    {
     "data": {
      "text/plain": [
       "15.625"
      ]
     },
     "execution_count": 13,
     "metadata": {},
     "output_type": "execute_result"
    }
   ],
   "source": [
    "x_train.shape[0]/512 # batch_size = 256"
   ]
  },
  {
   "cell_type": "code",
   "execution_count": 14,
   "metadata": {
    "id": "TbTjObEOwxBc"
   },
   "outputs": [],
   "source": [
    "# Muestro un batch de ejemplo\n",
    "batch_example = next(iter(training_dataloader))"
   ]
  },
  {
   "cell_type": "code",
   "execution_count": 15,
   "metadata": {
    "colab": {
     "base_uri": "https://localhost:8080/"
    },
    "id": "WbZ2KxUtxcd4",
    "outputId": "81265b0a-5f2c-4fee-cdcb-d7ec3666f8e7"
   },
   "outputs": [
    {
     "data": {
      "text/plain": [
       "torch.Size([512, 2])"
      ]
     },
     "execution_count": 15,
     "metadata": {},
     "output_type": "execute_result"
    }
   ],
   "source": [
    "batch_example[0].shape # dimensiones de las features, 256 muestras, 2 features"
   ]
  },
  {
   "cell_type": "code",
   "execution_count": 16,
   "metadata": {
    "colab": {
     "base_uri": "https://localhost:8080/"
    },
    "id": "mPG7PX5JxgLZ",
    "outputId": "52ef3a0e-9df8-497a-e2aa-8e4a0e8a0ade"
   },
   "outputs": [
    {
     "data": {
      "text/plain": [
       "torch.Size([512])"
      ]
     },
     "execution_count": 16,
     "metadata": {},
     "output_type": "execute_result"
    }
   ],
   "source": [
    "batch_example[1].shape # dimensiones de mi lavel de salida"
   ]
  },
  {
   "cell_type": "code",
   "execution_count": 17,
   "metadata": {
    "id": "dYNDNiVwxi6k"
   },
   "outputs": [],
   "source": [
    "# Definimos el modelo\n",
    "class NNet(torch.nn.Module):\n",
    "    def __init__(self):\n",
    "        super().__init__()\n",
    "        self.linear_1 = torch.nn.Linear(in_features = 2, out_features = 10, bias = True)\n",
    "        self.sigmoid_1 = torch.nn.Sigmoid()\n",
    "        self.linear_2 = torch.nn.Linear(in_features = 10, out_features = 20, bias = True)\n",
    "        self.sigmoid_2 = torch.nn.Sigmoid()\n",
    "        self.linear_3 = torch.nn.Linear(in_features = 20, out_features = 1, bias = True)\n",
    "        self.sigmoid_3 = torch.nn.Sigmoid()\n",
    "\n",
    "    def forward(self, x):\n",
    "                                    # x.shape = 512 x 2\n",
    "        z1 = self.linear_1(x)       # z1.shape = 512 x 10\n",
    "        a1 = self.sigmoid_1(z1)     # a1.shape = 512 x 10\n",
    "        z2 = self.linear_2(a1)      # z2.shape = 512 x 20 \n",
    "        a2 = self.sigmoid_2(z2)     # a2.shape = 512 x 20\n",
    "        z3 = self.linear_3(a2)      # z3.shape = 512 x 1 -> [-inf, +inf]\n",
    "        y = self.sigmoid_3(z3)      # y.shape = 512 x 1 -> [0, 1]\n",
    "        return y"
   ]
  },
  {
   "cell_type": "code",
   "execution_count": 18,
   "metadata": {
    "id": "H_mQWNHBxvum"
   },
   "outputs": [],
   "source": [
    "nnet = NNet()"
   ]
  },
  {
   "cell_type": "code",
   "execution_count": 19,
   "metadata": {
    "colab": {
     "base_uri": "https://localhost:8080/"
    },
    "id": "8dLJ0LcAmnXh",
    "outputId": "5136f560-0045-413d-9352-ea5e2aadd559"
   },
   "outputs": [
    {
     "name": "stdout",
     "output_type": "stream",
     "text": [
      "NNet(\n",
      "  (linear_1): Linear(in_features=2, out_features=10, bias=True)\n",
      "  (sigmoid_1): Sigmoid()\n",
      "  (linear_2): Linear(in_features=10, out_features=20, bias=True)\n",
      "  (sigmoid_2): Sigmoid()\n",
      "  (linear_3): Linear(in_features=20, out_features=1, bias=True)\n",
      "  (sigmoid_3): Sigmoid()\n",
      ")\n"
     ]
    }
   ],
   "source": [
    "print(nnet)"
   ]
  },
  {
   "cell_type": "code",
   "execution_count": 20,
   "metadata": {
    "id": "7eAFBLYimx3B"
   },
   "outputs": [],
   "source": [
    "criterion = torch.nn.BCELoss(reduction='sum') # criterion, is my lost fuction\n",
    "optimizer = torch.optim.SGD(nnet.parameters(), lr=0.005) # is my optimizer"
   ]
  },
  {
   "cell_type": "code",
   "execution_count": 21,
   "metadata": {
    "id": "3C2OCTy_nSmY"
   },
   "outputs": [],
   "source": [
    "# Until now we have:\n",
    "# dataset -> OK\n",
    "# model -> OK\n",
    "# loss/criterios as Binary Cross Entropy\n",
    "# optimizar as SGD (supports mini-batch)"
   ]
  },
  {
   "cell_type": "code",
   "execution_count": 22,
   "metadata": {
    "colab": {
     "base_uri": "https://localhost:8080/"
    },
    "id": "N5UMFvs-n7cH",
    "outputId": "caf89939-4196-4674-d6b0-aeb5e57fb99d"
   },
   "outputs": [
    {
     "name": "stdout",
     "output_type": "stream",
     "text": [
      "False\n"
     ]
    }
   ],
   "source": [
    "#device = torch.device(\"cuda:0\" if torch.cuda.is_available else \"cpu\")\n",
    "device = \"\"\n",
    "if torch.cuda.is_available():\n",
    "    device = \"cuda:0\"\n",
    "else:\n",
    "    device = \"cpu\"\n",
    "\n",
    "print(torch.cuda.is_available())"
   ]
  },
  {
   "cell_type": "code",
   "execution_count": 23,
   "metadata": {
    "colab": {
     "base_uri": "https://localhost:8080/"
    },
    "id": "4FcyCgG0ouhv",
    "outputId": "c7474c53-c615-4865-977e-02e525ae10eb"
   },
   "outputs": [
    {
     "data": {
      "text/plain": [
       "NNet(\n",
       "  (linear_1): Linear(in_features=2, out_features=10, bias=True)\n",
       "  (sigmoid_1): Sigmoid()\n",
       "  (linear_2): Linear(in_features=10, out_features=20, bias=True)\n",
       "  (sigmoid_2): Sigmoid()\n",
       "  (linear_3): Linear(in_features=20, out_features=1, bias=True)\n",
       "  (sigmoid_3): Sigmoid()\n",
       ")"
      ]
     },
     "execution_count": 23,
     "metadata": {},
     "output_type": "execute_result"
    }
   ],
   "source": [
    "nnet.to(device)"
   ]
  },
  {
   "cell_type": "code",
   "execution_count": 24,
   "metadata": {
    "colab": {
     "base_uri": "https://localhost:8080/"
    },
    "id": "R4JQSNLwni_u",
    "outputId": "d8b747bc-b3e1-4640-bdae-accddd4aa42e"
   },
   "outputs": [
    {
     "name": "stdout",
     "output_type": "stream",
     "text": [
      "Epoch = 0 - loss = 0.8804379367828369\n",
      "Epoch = 1 - loss = 0.52912495803833\n",
      "Epoch = 2 - loss = 0.4567417526245117\n",
      "Epoch = 3 - loss = 0.4440790824890137\n",
      "Epoch = 4 - loss = 0.4376102638244629\n",
      "Epoch = 5 - loss = 0.431597806930542\n",
      "Epoch = 6 - loss = 0.42669920349121093\n",
      "Epoch = 7 - loss = 0.42219131088256834\n",
      "Epoch = 8 - loss = 0.4118348684310913\n",
      "Epoch = 9 - loss = 0.4163453311920166\n",
      "Epoch = 10 - loss = 0.4341749267578125\n",
      "Epoch = 11 - loss = 0.4193687515258789\n",
      "Epoch = 12 - loss = 0.4150648918151855\n",
      "Epoch = 13 - loss = 0.40718750381469726\n",
      "Epoch = 14 - loss = 0.4168334369659424\n",
      "Epoch = 15 - loss = 0.4013858823776245\n",
      "Epoch = 16 - loss = 0.4151249885559082\n",
      "Epoch = 17 - loss = 0.422140323638916\n",
      "Epoch = 18 - loss = 0.41214145278930664\n",
      "Epoch = 19 - loss = 0.4180258159637451\n",
      "Epoch = 20 - loss = 0.40717401123046876\n",
      "Epoch = 21 - loss = 0.3932732410430908\n",
      "Epoch = 22 - loss = 0.4054090576171875\n",
      "Epoch = 23 - loss = 0.4272148113250732\n",
      "Epoch = 24 - loss = 0.4109829444885254\n",
      "Epoch = 25 - loss = 0.4155337142944336\n",
      "Epoch = 26 - loss = 0.42304593658447265\n",
      "Epoch = 27 - loss = 0.39942271518707273\n",
      "Epoch = 28 - loss = 0.39189676380157473\n",
      "Epoch = 29 - loss = 0.42194061851501463\n",
      "Epoch = 30 - loss = 0.3984100360870361\n",
      "Epoch = 31 - loss = 0.3977426662445068\n",
      "Epoch = 32 - loss = 0.3886051044464111\n",
      "Epoch = 33 - loss = 0.38450673484802245\n",
      "Epoch = 34 - loss = 0.3885192584991455\n",
      "Epoch = 35 - loss = 0.40830451583862304\n",
      "Epoch = 36 - loss = 0.42095338439941404\n",
      "Epoch = 37 - loss = 0.4103581838607788\n",
      "Epoch = 38 - loss = 0.3969834728240967\n",
      "Epoch = 39 - loss = 0.385031044960022\n",
      "Epoch = 40 - loss = 0.3858211126327515\n",
      "Epoch = 41 - loss = 0.3977945680618286\n",
      "Epoch = 42 - loss = 0.39888892555236816\n",
      "Epoch = 43 - loss = 0.38332619857788086\n",
      "Epoch = 44 - loss = 0.3853276634216309\n",
      "Epoch = 45 - loss = 0.40123332214355467\n",
      "Epoch = 46 - loss = 0.4286111469268799\n",
      "Epoch = 47 - loss = 0.38997511863708495\n",
      "Epoch = 48 - loss = 0.3880428142547607\n",
      "Epoch = 49 - loss = 0.39186572074890136\n",
      "Epoch = 50 - loss = 0.3826601085662842\n",
      "Epoch = 51 - loss = 0.3605796184539795\n",
      "Epoch = 52 - loss = 0.3765508060455322\n",
      "Epoch = 53 - loss = 0.3869344234466553\n",
      "Epoch = 54 - loss = 0.39078913688659667\n",
      "Epoch = 55 - loss = 0.38212778949737547\n",
      "Epoch = 56 - loss = 0.4036867780685425\n",
      "Epoch = 57 - loss = 0.38712235069274903\n",
      "Epoch = 58 - loss = 0.38277238273620606\n",
      "Epoch = 59 - loss = 0.3582894802093506\n",
      "Epoch = 60 - loss = 0.3798562307357788\n",
      "Epoch = 61 - loss = 0.3839702568054199\n",
      "Epoch = 62 - loss = 0.3511579818725586\n",
      "Epoch = 63 - loss = 0.37295735549926756\n",
      "Epoch = 64 - loss = 0.3535946435928345\n",
      "Epoch = 65 - loss = 0.4243658638000488\n",
      "Epoch = 66 - loss = 0.39238610076904296\n",
      "Epoch = 67 - loss = 0.40866608333587645\n",
      "Epoch = 68 - loss = 0.3831772804260254\n",
      "Epoch = 69 - loss = 0.377656476020813\n",
      "Epoch = 70 - loss = 0.39250722122192383\n",
      "Epoch = 71 - loss = 0.3681717147827148\n",
      "Epoch = 72 - loss = 0.3961849422454834\n",
      "Epoch = 73 - loss = 0.386568115234375\n",
      "Epoch = 74 - loss = 0.40358223247528074\n",
      "Epoch = 75 - loss = 0.3773466796875\n",
      "Epoch = 76 - loss = 0.3832887744903564\n",
      "Epoch = 77 - loss = 0.3645362939834595\n",
      "Epoch = 78 - loss = 0.3552312889099121\n",
      "Epoch = 79 - loss = 0.3990345220565796\n",
      "Epoch = 80 - loss = 0.3842118034362793\n",
      "Epoch = 81 - loss = 0.3574178647994995\n",
      "Epoch = 82 - loss = 0.350935263633728\n",
      "Epoch = 83 - loss = 0.335696533203125\n",
      "Epoch = 84 - loss = 0.3922943305969238\n",
      "Epoch = 85 - loss = 0.35921975135803225\n",
      "Epoch = 86 - loss = 0.3959908351898193\n",
      "Epoch = 87 - loss = 0.38359393501281736\n",
      "Epoch = 88 - loss = 0.3655312204360962\n",
      "Epoch = 89 - loss = 0.37783377838134763\n",
      "Epoch = 90 - loss = 0.3669876041412353\n",
      "Epoch = 91 - loss = 0.39431779479980467\n",
      "Epoch = 92 - loss = 0.3747439556121826\n",
      "Epoch = 93 - loss = 0.36344386196136474\n",
      "Epoch = 94 - loss = 0.361359320640564\n",
      "Epoch = 95 - loss = 0.34519924545288083\n",
      "Epoch = 96 - loss = 0.39224819469451905\n",
      "Epoch = 97 - loss = 0.37293398094177244\n",
      "Epoch = 98 - loss = 0.37251631927490236\n",
      "Epoch = 99 - loss = 0.37133778381347654\n"
     ]
    }
   ],
   "source": [
    "for epoch in range(100):\n",
    "    running_loss = 0\n",
    "    for i, data in enumerate(training_dataloader):\n",
    "        # data\n",
    "        x, y = data\n",
    "        x = x.to(device).float()\n",
    "        y = y.to(device).float().reshape(-1,1)\n",
    "\n",
    "        # set gradient to zero\n",
    "        optimizer.zero_grad()  #pytorch requiere que inicializemos en cada corrida los gradientes\n",
    "\n",
    "        #forward\n",
    "        y_hat = nnet(x)\n",
    "\n",
    "        #loss\n",
    "        loss = criterion(y_hat, y)\n",
    "\n",
    "        #backward\n",
    "        loss.backward()\n",
    "\n",
    "        #update of parameters\n",
    "        optimizer.step()\n",
    "\n",
    "        #compute metrics and statistics\n",
    "        running_loss += loss.item()\n",
    "  \n",
    "    print(f\"Epoch = {epoch} - loss = {running_loss / len(training_set)}\")"
   ]
  },
  {
   "cell_type": "code",
   "execution_count": 25,
   "metadata": {
    "colab": {
     "base_uri": "https://localhost:8080/"
    },
    "id": "A3np4Mc0t2Ju",
    "outputId": "9e0225a2-b0d2-4d92-ef6d-c5603c0fe680"
   },
   "outputs": [
    {
     "name": "stdout",
     "output_type": "stream",
     "text": [
      "Accuracy: 0.84765625\n",
      "Precision: 0.7784090909090909\n",
      "Recall: 1.0\n",
      "F1: 0.8753993610223643\n",
      "\n",
      "Accuracy: 0.828125\n",
      "Precision: 0.7333333333333333\n",
      "Recall: 1.0\n",
      "F1: 0.846153846153846\n",
      "\n",
      "Accuracy: 0.82421875\n",
      "Precision: 0.7305389221556886\n",
      "Recall: 1.0\n",
      "F1: 0.8442906574394463\n",
      "\n",
      "Accuracy: 0.80859375\n",
      "Precision: 0.7183908045977011\n",
      "Recall: 1.0\n",
      "F1: 0.8361204013377925\n",
      "\n",
      "Accuracy: 0.80859375\n",
      "Precision: 0.711764705882353\n",
      "Recall: 1.0\n",
      "F1: 0.831615120274914\n",
      "\n",
      "Accuracy: 0.796875\n",
      "Precision: 0.7028571428571428\n",
      "Recall: 1.0\n",
      "F1: 0.825503355704698\n",
      "\n",
      "Accuracy: 0.8125\n",
      "Precision: 0.7241379310344828\n",
      "Recall: 1.0\n",
      "F1: 0.8400000000000001\n",
      "\n",
      "Accuracy: 0.8413461538461539\n",
      "Precision: 0.7518796992481203\n",
      "Recall: 1.0\n",
      "F1: 0.8583690987124464\n",
      "\n"
     ]
    }
   ],
   "source": [
    "from sklearn import metrics\n",
    "# https://scikit-learn.org/stable/modules/model_evaluation.html\n",
    "\n",
    "for i, data in enumerate(test_dataloader):\n",
    "    # compute metrics\n",
    "    # precision, recall,  acc, f1\n",
    "    # use scikit learn\n",
    "  \n",
    "    # data\n",
    "    x_tst, y_tst = data\n",
    "    x_tst = x_tst.to(device).float()\n",
    "    #y_tst = y_tst.to(device).float().reshape(-1,1)\n",
    "\n",
    "    y_hat_test = (nnet(x_tst).detach().numpy() >= 0.5)\n",
    "\n",
    "    print(\"Accuracy:\",metrics.accuracy_score(y_tst, y_hat_test))\n",
    "    print(\"Precision:\",metrics.precision_score(y_tst, y_hat_test))\n",
    "    print(\"Recall:\",metrics.recall_score(y_tst, y_hat_test))\n",
    "    print(\"F1:\",metrics.f1_score(y_tst, y_hat_test))\n",
    "    print()"
   ]
  },
  {
   "cell_type": "code",
   "execution_count": null,
   "metadata": {
    "id": "NLEknmPOGANH"
   },
   "outputs": [],
   "source": []
  }
 ],
 "metadata": {
  "colab": {
   "collapsed_sections": [],
   "name": "Intro a PyTorch.ipynb",
   "provenance": []
  },
  "kernelspec": {
   "display_name": "Python 3",
   "language": "python",
   "name": "python3"
  },
  "language_info": {
   "codemirror_mode": {
    "name": "ipython",
    "version": 3
   },
   "file_extension": ".py",
   "mimetype": "text/x-python",
   "name": "python",
   "nbconvert_exporter": "python",
   "pygments_lexer": "ipython3",
   "version": "3.8.8"
  }
 },
 "nbformat": 4,
 "nbformat_minor": 1
}
