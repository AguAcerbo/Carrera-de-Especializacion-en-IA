{
  "nbformat": 4,
  "nbformat_minor": 0,
  "metadata": {
    "colab": {
      "name": "Intro a PyTorch.ipynb",
      "provenance": [],
      "collapsed_sections": []
    },
    "kernelspec": {
      "name": "python3",
      "display_name": "Python 3"
    },
    "language_info": {
      "name": "python"
    }
  },
  "cells": [
    {
      "cell_type": "code",
      "metadata": {
        "id": "Ur-ExA0LnXPe"
      },
      "source": [
        "import numpy as np\n",
        "from matplotlib import pyplot as plt\n",
        "\n",
        "import torch # Libreria\n",
        "from torch.utils.data import Dataset # Clase u objeto que va a contener la informacion que vamos a utilizar para entrenar y evaluar nuestro algoritmo\n",
        "from torch.utils.data import DataLoader"
      ],
      "execution_count": 1,
      "outputs": []
    },
    {
      "cell_type": "code",
      "metadata": {
        "colab": {
          "base_uri": "https://localhost:8080/",
          "height": 285
        },
        "id": "ZG6kHIqfoI8o",
        "outputId": "5e3c0dc7-1627-4970-d392-7d61a9bcae91"
      },
      "source": [
        "w = np.random.uniform(0, 8, 10000)\n",
        "u = np.random.uniform(0, 1, 10000)\n",
        "n1 = np.random.normal(3, 0.1, 10000)\n",
        "n2 = np.random.normal(-3, 0.1, 10000)\n",
        "z = (w-4)**2\n",
        "z[u >= 0.5] = z[u >= 0.5] + n1[u >= 0.5]\n",
        "z[u < 0.5] = z[u < 0.5] + n2[u <= 0.5]\n",
        "fig, ax = plt.subplots(1,1)\n",
        "ax.scatter(w, z)"
      ],
      "execution_count": 2,
      "outputs": [
        {
          "output_type": "execute_result",
          "data": {
            "text/plain": [
              "<matplotlib.collections.PathCollection at 0x7f4d0d622810>"
            ]
          },
          "metadata": {
            "tags": []
          },
          "execution_count": 2
        },
        {
          "output_type": "display_data",
          "data": {
            "image/png": "[encoded data removed]",
            "text/plain": [
              "<Figure size 432x288 with 1 Axes>"
            ]
          },
          "metadata": {
            "tags": [],
            "needs_background": "light"
          }
        }
      ]
    },
    {
      "cell_type": "code",
      "metadata": {
        "colab": {
          "base_uri": "https://localhost:8080/"
        },
        "id": "qvr2H0XLpQyK",
        "outputId": "9c52c59a-efc8-4cc3-fea1-865038b4ff77"
      },
      "source": [
        "l = np.zeros(10000)\n",
        "mask = z >= (w-4)**2\n",
        "l[mask] = 1\n",
        "l[~mask] = 0\n",
        "\n",
        "idx = np.random.permutation(np.arange(0, 10000))\n",
        "w_train = w[idx[0:int(0.8*10000)]]\n",
        "w_test = w[idx[int(0.8*10000):]]\n",
        "\n",
        "z_train = z[idx[0:int(0.8*10000)]]\n",
        "z_test = z[idx[int(0.8*10000):]]\n",
        "\n",
        "l_train = l[idx[0:int(0.8*10000)]]\n",
        "l_test = l[idx[int(0.8*10000):]]\n",
        "\n",
        "x_train = np.zeros((w_train.shape[0],2))\n",
        "x_train[:,0] = w_train\n",
        "x_train[:,1] = z_train\n",
        "\n",
        "x_test = np.zeros((w_test.shape[0],2))\n",
        "x_test[:,0] = w_test\n",
        "x_test[:,1] = z_test\n",
        "\n",
        "print(w_train.shape)\n",
        "print(w_test.shape)\n",
        "print(z_train.shape)\n",
        "print(z_test.shape)\n",
        "print(x_train.shape)\n",
        "print(x_test.shape)"
      ],
      "execution_count": 3,
      "outputs": [
        {
          "output_type": "stream",
          "text": [
            "(8000,)\n",
            "(2000,)\n",
            "(8000,)\n",
            "(2000,)\n",
            "(8000, 2)\n",
            "(2000, 2)\n"
          ],
          "name": "stdout"
        }
      ]
    },
    {
      "cell_type": "code",
      "metadata": {
        "id": "APqJO0H7s6Uw"
      },
      "source": [
        "class CustomDataset(Dataset):\n",
        "  def __init__(self, x, y):\n",
        "    super().__init__()\n",
        "    self.x = x\n",
        "    self.y = y\n",
        "\n",
        "  def __len__(self):\n",
        "    return self.x.shape[0]\n",
        "  \n",
        "  def __getitem__(self, idx):\n",
        "    return self.x[idx,:], self.y[idx]\n"
      ],
      "execution_count": 4,
      "outputs": []
    },
    {
      "cell_type": "code",
      "metadata": {
        "id": "cc129yBrtcKh"
      },
      "source": [
        "training_set = CustomDataset(x_train, l_train)"
      ],
      "execution_count": 5,
      "outputs": []
    },
    {
      "cell_type": "code",
      "metadata": {
        "colab": {
          "base_uri": "https://localhost:8080/"
        },
        "id": "RjaqeWNhttQn",
        "outputId": "800347d8-2678-46c3-f4e8-1a82d97b338c"
      },
      "source": [
        "len(training_set) #sobrecarga del operador 'len()'"
      ],
      "execution_count": 6,
      "outputs": [
        {
          "output_type": "execute_result",
          "data": {
            "text/plain": [
              "8000"
            ]
          },
          "metadata": {
            "tags": []
          },
          "execution_count": 6
        }
      ]
    },
    {
      "cell_type": "code",
      "metadata": {
        "colab": {
          "base_uri": "https://localhost:8080/"
        },
        "id": "yK-PdlDMu_tX",
        "outputId": "153fac5a-b5dc-46cb-b368-17b87d9da851"
      },
      "source": [
        "training_set.__len__()"
      ],
      "execution_count": 7,
      "outputs": [
        {
          "output_type": "execute_result",
          "data": {
            "text/plain": [
              "8000"
            ]
          },
          "metadata": {
            "tags": []
          },
          "execution_count": 7
        }
      ]
    },
    {
      "cell_type": "code",
      "metadata": {
        "colab": {
          "base_uri": "https://localhost:8080/"
        },
        "id": "xQR5yCkHvDmR",
        "outputId": "22cfd020-ecdb-4997-d380-ea6a8e413f94"
      },
      "source": [
        "training_set[0] # sobrecarga de operador '[]'"
      ],
      "execution_count": 8,
      "outputs": [
        {
          "output_type": "execute_result",
          "data": {
            "text/plain": [
              "(array([ 0.17514614, 11.57051156]), 0.0)"
            ]
          },
          "metadata": {
            "tags": []
          },
          "execution_count": 8
        }
      ]
    },
    {
      "cell_type": "code",
      "metadata": {
        "colab": {
          "base_uri": "https://localhost:8080/"
        },
        "id": "ZML8t1-qvHoW",
        "outputId": "d5ce492d-723d-4850-c89e-8eba45be0751"
      },
      "source": [
        "training_set.__getitem__(0)"
      ],
      "execution_count": 9,
      "outputs": [
        {
          "output_type": "execute_result",
          "data": {
            "text/plain": [
              "(array([ 0.17514614, 11.57051156]), 0.0)"
            ]
          },
          "metadata": {
            "tags": []
          },
          "execution_count": 9
        }
      ]
    },
    {
      "cell_type": "code",
      "metadata": {
        "id": "Do14Mt_5vKjb"
      },
      "source": [
        "test_set = CustomDataset(x_test, l_test)"
      ],
      "execution_count": 10,
      "outputs": []
    },
    {
      "cell_type": "code",
      "metadata": {
        "id": "DAmys7nNvgI9"
      },
      "source": [
        "training_dataloader = DataLoader(training_set, batch_size = 512, shuffle=True)\n",
        "# El data loader simpre espera el set de datos, el batch_size que \n",
        "# preferentemente deberia ser potencia de 2 para optimizar los calculos,\n",
        "# y opcional el shuffel que mezcla los datos cada vez que comienza una epoch\n",
        "test_dataloader = DataLoader(test_set, batch_size = 256, shuffle=True)"
      ],
      "execution_count": 11,
      "outputs": []
    },
    {
      "cell_type": "code",
      "metadata": {
        "colab": {
          "base_uri": "https://localhost:8080/"
        },
        "id": "OT3Eg4ihwXxN",
        "outputId": "d80e3990-f6a1-4667-edd3-ba274b97afef"
      },
      "source": [
        "len(training_dataloader) # Muestra el tamaño de cada batch"
      ],
      "execution_count": 12,
      "outputs": [
        {
          "output_type": "execute_result",
          "data": {
            "text/plain": [
              "16"
            ]
          },
          "metadata": {
            "tags": []
          },
          "execution_count": 12
        }
      ]
    },
    {
      "cell_type": "code",
      "metadata": {
        "colab": {
          "base_uri": "https://localhost:8080/"
        },
        "id": "SBj_5WsJwgxN",
        "outputId": "a536aa48-577d-4d08-ca04-80a0f1b33467"
      },
      "source": [
        "x_train.shape[0]/512 # batch_size = 256"
      ],
      "execution_count": 13,
      "outputs": [
        {
          "output_type": "execute_result",
          "data": {
            "text/plain": [
              "15.625"
            ]
          },
          "metadata": {
            "tags": []
          },
          "execution_count": 13
        }
      ]
    },
    {
      "cell_type": "code",
      "metadata": {
        "id": "TbTjObEOwxBc"
      },
      "source": [
        "# Muestro un batch de ejemplo\n",
        "batch_example = next(iter(training_dataloader))"
      ],
      "execution_count": 14,
      "outputs": []
    },
    {
      "cell_type": "code",
      "metadata": {
        "colab": {
          "base_uri": "https://localhost:8080/"
        },
        "id": "WbZ2KxUtxcd4",
        "outputId": "81265b0a-5f2c-4fee-cdcb-d7ec3666f8e7"
      },
      "source": [
        "batch_example[0].shape # dimensiones de las features, 256 muestras, 2 features"
      ],
      "execution_count": 15,
      "outputs": [
        {
          "output_type": "execute_result",
          "data": {
            "text/plain": [
              "torch.Size([512, 2])"
            ]
          },
          "metadata": {
            "tags": []
          },
          "execution_count": 15
        }
      ]
    },
    {
      "cell_type": "code",
      "metadata": {
        "colab": {
          "base_uri": "https://localhost:8080/"
        },
        "id": "mPG7PX5JxgLZ",
        "outputId": "52ef3a0e-9df8-497a-e2aa-8e4a0e8a0ade"
      },
      "source": [
        "batch_example[1].shape # dimensiones de mi lavel de salida"
      ],
      "execution_count": 16,
      "outputs": [
        {
          "output_type": "execute_result",
          "data": {
            "text/plain": [
              "torch.Size([512])"
            ]
          },
          "metadata": {
            "tags": []
          },
          "execution_count": 16
        }
      ]
    },
    {
      "cell_type": "code",
      "metadata": {
        "id": "dYNDNiVwxi6k"
      },
      "source": [
        "# Definimos el modelo\n",
        "class NNet(torch.nn.Module):\n",
        "  def __init__(self):\n",
        "    super().__init__()\n",
        "    self.linear_1 = torch.nn.Linear(in_features = 2, out_features = 10, bias = True)\n",
        "    self.sigmoid_1 = torch.nn.Sigmoid()\n",
        "    self.linear_2 = torch.nn.Linear(in_features = 10, out_features = 20, bias = True)\n",
        "    self.sigmoid_2 = torch.nn.Sigmoid()\n",
        "    self.linear_3 = torch.nn.Linear(in_features = 20, out_features = 1, bias = True)\n",
        "    self.sigmoid_3 = torch.nn.Sigmoid()\n",
        "\n",
        "  def forward(self, x):\n",
        "                                # x.shape = 512 x 2\n",
        "    z1 = self.linear_1(x)       # z1.shape = 512 x 10\n",
        "    a1 = self.sigmoid_1(z1)     # a1.shape = 512 x 10\n",
        "    z2 = self.linear_2(a1)      # z2.shape = 512 x 20 \n",
        "    a2 = self.sigmoid_2(z2)     # a2.shape = 512 x 20\n",
        "    z3 = self.linear_3(a2)      # z3.shape = 512 x 1 -> [-inf, +inf]\n",
        "    y = self.sigmoid_3(z3)      # y.shape = 512 x 1 -> [0, 1]\n",
        "    return y"
      ],
      "execution_count": 17,
      "outputs": []
    },
    {
      "cell_type": "code",
      "metadata": {
        "id": "H_mQWNHBxvum"
      },
      "source": [
        "nnet = NNet()"
      ],
      "execution_count": 18,
      "outputs": []
    },
    {
      "cell_type": "code",
      "metadata": {
        "colab": {
          "base_uri": "https://localhost:8080/"
        },
        "id": "8dLJ0LcAmnXh",
        "outputId": "5136f560-0045-413d-9352-ea5e2aadd559"
      },
      "source": [
        "print(nnet)"
      ],
      "execution_count": 19,
      "outputs": [
        {
          "output_type": "stream",
          "text": [
            "NNet(\n",
            "  (linear_1): Linear(in_features=2, out_features=10, bias=True)\n",
            "  (sigmoid_1): Sigmoid()\n",
            "  (linear_2): Linear(in_features=10, out_features=20, bias=True)\n",
            "  (sigmoid_2): Sigmoid()\n",
            "  (linear_3): Linear(in_features=20, out_features=1, bias=True)\n",
            "  (sigmoid_3): Sigmoid()\n",
            ")\n"
          ],
          "name": "stdout"
        }
      ]
    },
    {
      "cell_type": "code",
      "metadata": {
        "id": "7eAFBLYimx3B"
      },
      "source": [
        "criterion = torch.nn.BCELoss(reduction='sum') # criterion, is my lost fuction\n",
        "optimizer = torch.optim.SGD(nnet.parameters(), lr=0.005) # is my optimizer"
      ],
      "execution_count": 41,
      "outputs": []
    },
    {
      "cell_type": "code",
      "metadata": {
        "id": "3C2OCTy_nSmY"
      },
      "source": [
        "# Until now we have:\n",
        "# dataset -> OK\n",
        "# model -> OK\n",
        "# loss/criterios as Binary Cross Entropy\n",
        "# optimizar as SGD (supports mini-batch)"
      ],
      "execution_count": 36,
      "outputs": []
    },
    {
      "cell_type": "code",
      "metadata": {
        "colab": {
          "base_uri": "https://localhost:8080/"
        },
        "id": "N5UMFvs-n7cH",
        "outputId": "caf89939-4196-4674-d6b0-aeb5e57fb99d"
      },
      "source": [
        "#device = torch.device(\"cuda:0\" if torch.cuda.is_available else \"cpu\")\n",
        "device = \"\"\n",
        "if torch.cuda.is_available():\n",
        "  device = \"cuda:0\"\n",
        "else:\n",
        "  device = \"cpu\"\n",
        "\n",
        "print(torch.cuda.is_available())"
      ],
      "execution_count": 37,
      "outputs": [
        {
          "output_type": "stream",
          "text": [
            "False\n"
          ],
          "name": "stdout"
        }
      ]
    },
    {
      "cell_type": "code",
      "metadata": {
        "colab": {
          "base_uri": "https://localhost:8080/"
        },
        "id": "4FcyCgG0ouhv",
        "outputId": "c7474c53-c615-4865-977e-02e525ae10eb"
      },
      "source": [
        "nnet.to(device)"
      ],
      "execution_count": 38,
      "outputs": [
        {
          "output_type": "execute_result",
          "data": {
            "text/plain": [
              "NNet(\n",
              "  (linear_1): Linear(in_features=2, out_features=10, bias=True)\n",
              "  (sigmoid_1): Sigmoid()\n",
              "  (linear_2): Linear(in_features=10, out_features=20, bias=True)\n",
              "  (sigmoid_2): Sigmoid()\n",
              "  (linear_3): Linear(in_features=20, out_features=1, bias=True)\n",
              "  (sigmoid_3): Sigmoid()\n",
              ")"
            ]
          },
          "metadata": {
            "tags": []
          },
          "execution_count": 38
        }
      ]
    },
    {
      "cell_type": "code",
      "metadata": {
        "colab": {
          "base_uri": "https://localhost:8080/"
        },
        "id": "R4JQSNLwni_u",
        "outputId": "d8b747bc-b3e1-4640-bdae-accddd4aa42e"
      },
      "source": [
        "for epoch in range(100):\n",
        "  running_loss = 0\n",
        "  for i, data in enumerate(training_dataloader):\n",
        "    # data\n",
        "    x, y = data\n",
        "    x = x.to(device).float()\n",
        "    y = y.to(device).float().reshape(-1,1)\n",
        "\n",
        "    # set gradient to zero\n",
        "    optimizer.zero_grad()  #pytorch requiere que inicializemos en cada corrida los gradientes\n",
        "\n",
        "    #forward\n",
        "    y_hat = nnet(x)\n",
        "\n",
        "    #loss\n",
        "    loss = criterion(y_hat, y)\n",
        "\n",
        "    #backward\n",
        "    loss.backward()\n",
        "\n",
        "    #update of parameters\n",
        "    optimizer.step()\n",
        "\n",
        "    #compute metrics and statistics\n",
        "    running_loss += loss.item()\n",
        "  \n",
        "  print(f\"Epoch = {epoch} - loss = {running_loss / len(training_set)}\")"
      ],
      "execution_count": 42,
      "outputs": [
        {
          "output_type": "stream",
          "text": [
            "Epoch = 0 - loss = 0.30718202304840087\n",
            "Epoch = 1 - loss = 0.2894500980377197\n",
            "Epoch = 2 - loss = 0.2703366470336914\n",
            "Epoch = 3 - loss = 0.2648364315032959\n",
            "Epoch = 4 - loss = 0.29522329330444336\n",
            "Epoch = 5 - loss = 0.29432888078689573\n",
            "Epoch = 6 - loss = 0.2276790132522583\n",
            "Epoch = 7 - loss = 0.2788464660644531\n",
            "Epoch = 8 - loss = 0.2255361695289612\n",
            "Epoch = 9 - loss = 0.20327118253707885\n",
            "Epoch = 10 - loss = 0.18979370427131653\n",
            "Epoch = 11 - loss = 0.26017744493484496\n",
            "Epoch = 12 - loss = 0.2244016752243042\n",
            "Epoch = 13 - loss = 0.15889630889892578\n",
            "Epoch = 14 - loss = 0.12420984125137328\n",
            "Epoch = 15 - loss = 0.22362119817733764\n",
            "Epoch = 16 - loss = 0.14210451078414918\n",
            "Epoch = 17 - loss = 0.2367339177131653\n",
            "Epoch = 18 - loss = 0.19808080101013184\n",
            "Epoch = 19 - loss = 0.13060848808288575\n",
            "Epoch = 20 - loss = 0.13627497911453246\n",
            "Epoch = 21 - loss = 0.14039438819885253\n",
            "Epoch = 22 - loss = 0.17825089836120606\n",
            "Epoch = 23 - loss = 0.17078007650375365\n",
            "Epoch = 24 - loss = 0.146802481174469\n",
            "Epoch = 25 - loss = 0.11251825571060181\n",
            "Epoch = 26 - loss = 0.18320463991165162\n",
            "Epoch = 27 - loss = 0.1105752673149109\n",
            "Epoch = 28 - loss = 0.14104335355758668\n",
            "Epoch = 29 - loss = 0.1881704626083374\n",
            "Epoch = 30 - loss = 0.14697049379348756\n",
            "Epoch = 31 - loss = 0.1580884437561035\n",
            "Epoch = 32 - loss = 0.13585421776771545\n",
            "Epoch = 33 - loss = 0.1258987934589386\n",
            "Epoch = 34 - loss = 0.15154552721977235\n",
            "Epoch = 35 - loss = 0.23135431003570556\n",
            "Epoch = 36 - loss = 0.22623450803756714\n",
            "Epoch = 37 - loss = 0.17075107097625733\n",
            "Epoch = 38 - loss = 0.10474288082122803\n",
            "Epoch = 39 - loss = 0.09130133485794067\n",
            "Epoch = 40 - loss = 0.25752910375595095\n",
            "Epoch = 41 - loss = 0.18330216312408448\n",
            "Epoch = 42 - loss = 0.10724069976806641\n",
            "Epoch = 43 - loss = 0.14084692096710205\n",
            "Epoch = 44 - loss = 0.15929103326797486\n",
            "Epoch = 45 - loss = 0.17759760618209838\n",
            "Epoch = 46 - loss = 0.1287901120185852\n",
            "Epoch = 47 - loss = 0.1273659930229187\n",
            "Epoch = 48 - loss = 0.11097177505493164\n",
            "Epoch = 49 - loss = 0.09976473045349121\n",
            "Epoch = 50 - loss = 0.0979073053598404\n",
            "Epoch = 51 - loss = 0.3984551246166229\n",
            "Epoch = 52 - loss = 0.18344813251495362\n",
            "Epoch = 53 - loss = 0.20233666896820068\n",
            "Epoch = 54 - loss = 0.18070411777496337\n",
            "Epoch = 55 - loss = 0.19329970121383666\n",
            "Epoch = 56 - loss = 0.18559314060211182\n",
            "Epoch = 57 - loss = 0.16428434658050536\n",
            "Epoch = 58 - loss = 0.20314969611167907\n",
            "Epoch = 59 - loss = 0.18065108251571654\n",
            "Epoch = 60 - loss = 0.18079879212379454\n",
            "Epoch = 61 - loss = 0.16600491094589234\n",
            "Epoch = 62 - loss = 0.18799595975875855\n",
            "Epoch = 63 - loss = 0.16269507932662963\n",
            "Epoch = 64 - loss = 0.19010883522033692\n",
            "Epoch = 65 - loss = 0.17511801433563232\n",
            "Epoch = 66 - loss = 0.19616657853126526\n",
            "Epoch = 67 - loss = 0.18947476482391357\n",
            "Epoch = 68 - loss = 0.18151017141342163\n",
            "Epoch = 69 - loss = 0.16533570623397828\n",
            "Epoch = 70 - loss = 0.1643155653476715\n",
            "Epoch = 71 - loss = 0.15113390254974365\n",
            "Epoch = 72 - loss = 0.22532733011245729\n",
            "Epoch = 73 - loss = 0.167616379737854\n",
            "Epoch = 74 - loss = 0.157434853553772\n",
            "Epoch = 75 - loss = 0.1587071237564087\n",
            "Epoch = 76 - loss = 0.18199222326278686\n",
            "Epoch = 77 - loss = 0.169500226020813\n",
            "Epoch = 78 - loss = 0.1829397282600403\n",
            "Epoch = 79 - loss = 0.1694525532722473\n",
            "Epoch = 80 - loss = 0.17162447333335876\n",
            "Epoch = 81 - loss = 0.15905623388290405\n",
            "Epoch = 82 - loss = 0.19183747506141663\n",
            "Epoch = 83 - loss = 0.15723548889160155\n",
            "Epoch = 84 - loss = 0.1659875931739807\n",
            "Epoch = 85 - loss = 0.16611077117919923\n",
            "Epoch = 86 - loss = 0.16016989421844482\n",
            "Epoch = 87 - loss = 0.18166453552246092\n",
            "Epoch = 88 - loss = 0.1611887001991272\n",
            "Epoch = 89 - loss = 0.15397678518295288\n",
            "Epoch = 90 - loss = 0.194876624584198\n",
            "Epoch = 91 - loss = 0.14766101121902467\n",
            "Epoch = 92 - loss = 0.15645121788978578\n",
            "Epoch = 93 - loss = 0.16895411849021913\n",
            "Epoch = 94 - loss = 0.1786208348274231\n",
            "Epoch = 95 - loss = 0.11253108763694764\n",
            "Epoch = 96 - loss = 0.21375414657592773\n",
            "Epoch = 97 - loss = 0.15075913834571839\n",
            "Epoch = 98 - loss = 0.13863560676574707\n",
            "Epoch = 99 - loss = 0.15004667711257935\n"
          ],
          "name": "stdout"
        }
      ]
    },
    {
      "cell_type": "code",
      "metadata": {
        "colab": {
          "base_uri": "https://localhost:8080/"
        },
        "id": "A3np4Mc0t2Ju",
        "outputId": "9e0225a2-b0d2-4d92-ef6d-c5603c0fe680"
      },
      "source": [
        "from sklearn import metrics\n",
        "# https://scikit-learn.org/stable/modules/model_evaluation.html\n",
        "\n",
        "for i, data in enumerate(test_dataloader):\n",
        "  # compute metrics\n",
        "  # precision, recall,  acc, f1\n",
        "  # use scikit learn\n",
        "  \n",
        "  # data\n",
        "  x_tst, y_tst = data\n",
        "  x_tst = x_tst.to(device).float()\n",
        "  #y_tst = y_tst.to(device).float().reshape(-1,1)\n",
        "\n",
        "  y_hat_test = (nnet(x_tst).detach().numpy() >= 0.5)\n",
        "\n",
        "  print(\"Accuracy:\",metrics.accuracy_score(y_tst, y_hat_test))\n",
        "  print(\"Precision:\",metrics.precision_score(y_tst, y_hat_test))\n",
        "  print(\"Recall:\",metrics.recall_score(y_tst, y_hat_test))\n",
        "  print(\"F1:\",metrics.f1_score(y_tst, y_hat_test))\n",
        "  print()"
      ],
      "execution_count": 43,
      "outputs": [
        {
          "output_type": "stream",
          "text": [
            "Accuracy: 0.98828125\n",
            "Precision: 0.9781021897810219\n",
            "Recall: 1.0\n",
            "F1: 0.988929889298893\n",
            "\n",
            "Accuracy: 0.99609375\n",
            "Precision: 0.9921875\n",
            "Recall: 1.0\n",
            "F1: 0.996078431372549\n",
            "\n",
            "Accuracy: 0.99609375\n",
            "Precision: 0.9920634920634921\n",
            "Recall: 1.0\n",
            "F1: 0.9960159362549801\n",
            "\n",
            "Accuracy: 0.99609375\n",
            "Precision: 0.9923076923076923\n",
            "Recall: 1.0\n",
            "F1: 0.9961389961389961\n",
            "\n",
            "Accuracy: 0.99609375\n",
            "Precision: 0.9929577464788732\n",
            "Recall: 1.0\n",
            "F1: 0.9964664310954063\n",
            "\n",
            "Accuracy: 0.984375\n",
            "Precision: 0.9701492537313433\n",
            "Recall: 1.0\n",
            "F1: 0.9848484848484849\n",
            "\n",
            "Accuracy: 0.9921875\n",
            "Precision: 0.9855072463768116\n",
            "Recall: 1.0\n",
            "F1: 0.9927007299270074\n",
            "\n",
            "Accuracy: 0.9903846153846154\n",
            "Precision: 0.9819819819819819\n",
            "Recall: 1.0\n",
            "F1: 0.9909090909090909\n",
            "\n"
          ],
          "name": "stdout"
        }
      ]
    },
    {
      "cell_type": "code",
      "metadata": {
        "id": "NLEknmPOGANH"
      },
      "source": [
        ""
      ],
      "execution_count": null,
      "outputs": []
    }
  ]
}