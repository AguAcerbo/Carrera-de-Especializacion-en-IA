{
 "cells": [
  {
   "cell_type": "code",
   "execution_count": 1,
   "id": "83c2672c",
   "metadata": {},
   "outputs": [],
   "source": [
    "#DeepLearning"
   ]
  },
  {
   "cell_type": "code",
   "execution_count": null,
   "id": "3d14bf8c",
   "metadata": {},
   "outputs": [],
   "source": []
  }
 ],
 "metadata": {
  "kernelspec": {
   "display_name": "Python 3",
   "language": "python",
   "name": "python3"
  },
  "language_info": {
   "codemirror_mode": {
    "name": "ipython",
    "version": 3
   },
   "file_extension": ".py",
   "mimetype": "text/x-python",
   "name": "python",
   "nbconvert_exporter": "python",
   "pygments_lexer": "ipython3",
   "version": "3.8.8"
  }
 },
 "nbformat": 4,
 "nbformat_minor": 5
}
