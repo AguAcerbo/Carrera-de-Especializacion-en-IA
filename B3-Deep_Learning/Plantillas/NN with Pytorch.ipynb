{
 "cells": [
  {
   "cell_type": "code",
   "execution_count": null,
   "id": "d70cfba2",
   "metadata": {},
   "outputs": [],
   "source": [
    "import numpy as np\n",
    "from matplotlib import pyplot as plt\n",
    "from sklearn import metrics\n",
    "\n",
    "import torch # Libreria\n",
    "from torch.utils.data import Dataset # Clase u objeto que va a contener la informacion que vamos a utilizar para entrenar y evaluar nuestro algoritmo\n",
    "from torch.utils.data import DataLoader"
   ]
  },
  {
   "cell_type": "markdown",
   "id": "4d7561cf",
   "metadata": {},
   "source": [
    "## Uso de GPU"
   ]
  },
  {
   "cell_type": "code",
   "execution_count": null,
   "id": "b795adac",
   "metadata": {},
   "outputs": [],
   "source": [
    "device = \"\"\n",
    "if torch.cuda.is_available():\n",
    "    device = \"cuda:0\"\n",
    "else:\n",
    "    device = \"cpu\"\n",
    "\n",
    "print(torch.cuda.is_available())"
   ]
  },
  {
   "cell_type": "code",
   "execution_count": null,
   "id": "d526d667",
   "metadata": {},
   "outputs": [],
   "source": [
    "if torch.cuda.is_available():\n",
    "    print('__CUDNN VERSION:', torch.backends.cudnn.version())\n",
    "    print('__Number CUDA Devices:', torch.cuda.device_count())\n",
    "    print('__CUDA Device Name:',torch.cuda.get_device_name(0))\n",
    "    print('__CUDA Device Total Memory [GB]:',torch.cuda.get_device_properties(0).total_memory/1e9)"
   ]
  },
  {
   "cell_type": "code",
   "execution_count": null,
   "id": "477f7412",
   "metadata": {},
   "outputs": [],
   "source": [
    "print(\"Device: \",device)"
   ]
  },
  {
   "cell_type": "markdown",
   "id": "4470e71c",
   "metadata": {},
   "source": [
    "## CustomDataset y DataLoader"
   ]
  },
  {
   "cell_type": "code",
   "execution_count": null,
   "id": "eaeedf33",
   "metadata": {},
   "outputs": [],
   "source": [
    "class CustomDataset(Dataset):\n",
    "    def __init__(self, x, y):\n",
    "        super().__init__()\n",
    "        self.x = x\n",
    "        self.y = y\n",
    "\n",
    "    def __len__(self):\n",
    "        return self.x.shape[0]\n",
    "  \n",
    "    def __getitem__(self, idx):\n",
    "        return self.x[idx,:], self.y[idx]"
   ]
  },
  {
   "cell_type": "code",
   "execution_count": null,
   "id": "50ac1b30",
   "metadata": {},
   "outputs": [],
   "source": [
    "training_set = CustomDataset(x_train, l_train)\n",
    "print(training_set.__len__())\n",
    "print(training_set.__getitem__(0))"
   ]
  },
  {
   "cell_type": "code",
   "execution_count": null,
   "id": "956a03ea",
   "metadata": {},
   "outputs": [],
   "source": [
    "test_set = CustomDataset(x_test, l_test)\n",
    "print(test_set.__len__())\n",
    "print(test_set.__getitem__(0))"
   ]
  },
  {
   "cell_type": "markdown",
   "id": "c436e17a",
   "metadata": {},
   "source": [
    "El **DataLoader** simpre espera el set de datos, el batch_size que preferentemente deberia ser potencia de 2 para optimizar los calculos, y opcional el shuffel que mezcla los datos cada vez que comienza una epoch"
   ]
  },
  {
   "cell_type": "code",
   "execution_count": null,
   "id": "be5cfb7e",
   "metadata": {},
   "outputs": [],
   "source": [
    "training_dataloader = DataLoader(training_set, batch_size = 512, shuffle=True)\n",
    "test_dataloader = DataLoader(test_set, batch_size = 256, shuffle=True)"
   ]
  },
  {
   "cell_type": "code",
   "execution_count": null,
   "id": "846b3538",
   "metadata": {},
   "outputs": [],
   "source": [
    "len(training_dataloader) # Muestra el tamaño de cada batch"
   ]
  },
  {
   "cell_type": "markdown",
   "id": "92bc458e",
   "metadata": {},
   "source": [
    "## Regresion Logistica Bivariada"
   ]
  },
  {
   "cell_type": "code",
   "execution_count": null,
   "id": "d29804ac",
   "metadata": {},
   "outputs": [],
   "source": [
    "# Definimos el modelo\n",
    "class NNet(torch.nn.Module):\n",
    "    def __init__(self):\n",
    "        super().__init__()\n",
    "        self.linear_1 = torch.nn.Linear(in_features = 2, out_features = 10, bias = True)\n",
    "        self.sigmoid_1 = torch.nn.ReLU()\n",
    "        self.linear_2 = torch.nn.Linear(in_features = 10, out_features = 20, bias = True)\n",
    "        self.sigmoid_2 = torch.nn.ReLU()\n",
    "        self.linear_3 = torch.nn.Linear(in_features = 20, out_features = 1, bias = True)\n",
    "        self.sigmoid_3 = torch.nn.ReLU()\n",
    "\n",
    "    def forward(self, x):\n",
    "                                    # x.shape = 512 x 2\n",
    "        z1 = self.linear_1(x)       # z1.shape = 512 x 10\n",
    "        a1 = self.relu_1(z1)        # a1.shape = 512 x 10\n",
    "        z2 = self.linear_2(a1)      # z2.shape = 512 x 20 \n",
    "        a2 = self.relu_2(z2)        # a2.shape = 512 x 20\n",
    "        z3 = self.linear_3(a2)      # z3.shape = 512 x 1 -> [-inf, +inf]\n",
    "        y = self.relu_3(z3)         # y.shape = 512 x 1 -> [0, 1]\n",
    "        return y"
   ]
  },
  {
   "cell_type": "code",
   "execution_count": null,
   "id": "0295d9ca",
   "metadata": {},
   "outputs": [],
   "source": [
    "nnet = NNet()\n",
    "print(nnet)"
   ]
  },
  {
   "cell_type": "code",
   "execution_count": null,
   "id": "7af80704",
   "metadata": {},
   "outputs": [],
   "source": [
    "criterion = torch.nn.BCELoss(reduction='sum') # criterion, is my lost fuction\n",
    "optimizer = torch.optim.SGD(nnet.parameters(), lr=0.005) # is my optimizer"
   ]
  },
  {
   "cell_type": "code",
   "execution_count": null,
   "id": "c39e785f",
   "metadata": {},
   "outputs": [],
   "source": [
    "nnet.to(device)"
   ]
  },
  {
   "cell_type": "code",
   "execution_count": null,
   "id": "46e37920",
   "metadata": {},
   "outputs": [],
   "source": [
    "for epoch in range(100):\n",
    "    running_loss = 0\n",
    "    for i, data in enumerate(training_dataloader):\n",
    "        # data\n",
    "        x, y = data\n",
    "        x = x.to(device).float()\n",
    "        y = y.to(device).float().reshape(-1,1)\n",
    "\n",
    "        # set gradient to zero\n",
    "        optimizer.zero_grad()  #pytorch requiere que inicializemos en cada corrida los gradientes\n",
    "\n",
    "        #forward\n",
    "        y_hat = nnet(x)\n",
    "\n",
    "        #loss\n",
    "        loss = criterion(y_hat, y)\n",
    "\n",
    "        #backward\n",
    "        loss.backward()\n",
    "\n",
    "        #update of parameters\n",
    "        optimizer.step()\n",
    "\n",
    "        #compute metrics and statistics\n",
    "        running_loss += loss.item()\n",
    "  \n",
    "    print(f\"Epoch = {epoch} - loss = {running_loss / len(training_set)}\")"
   ]
  },
  {
   "cell_type": "code",
   "execution_count": null,
   "id": "b71b42b4",
   "metadata": {},
   "outputs": [],
   "source": [
    "for i, data in enumerate(test_dataloader):\n",
    "    # compute metrics\n",
    "    # precision, recall,  acc, f1\n",
    "    # use scikit learn\n",
    "  \n",
    "    # data\n",
    "    x_tst, y_tst = data\n",
    "    x_tst = x_tst.to(device).float()\n",
    "    #y_tst = y_tst.to(device).float().reshape(-1,1)\n",
    "\n",
    "    y_hat_test = (nnet(x_tst).detach().numpy() >= 0.5)\n",
    "\n",
    "    print(\"Accuracy:\",metrics.accuracy_score(y_tst, y_hat_test))\n",
    "    print(\"Precision:\",metrics.precision_score(y_tst, y_hat_test))\n",
    "    print(\"Recall:\",metrics.recall_score(y_tst, y_hat_test))\n",
    "    print(\"F1:\",metrics.f1_score(y_tst, y_hat_test))\n",
    "    print()"
   ]
  },
  {
   "cell_type": "markdown",
   "id": "fba3109f",
   "metadata": {},
   "source": [
    "## Regresion Lineal"
   ]
  },
  {
   "cell_type": "code",
   "execution_count": null,
   "id": "bcd896c6",
   "metadata": {},
   "outputs": [],
   "source": []
  }
 ],
 "metadata": {
  "kernelspec": {
   "display_name": "Python 3",
   "language": "python",
   "name": "python3"
  },
  "language_info": {
   "codemirror_mode": {
    "name": "ipython",
    "version": 3
   },
   "file_extension": ".py",
   "mimetype": "text/x-python",
   "name": "python",
   "nbconvert_exporter": "python",
   "pygments_lexer": "ipython3",
   "version": "3.8.8"
  }
 },
 "nbformat": 4,
 "nbformat_minor": 5
}
