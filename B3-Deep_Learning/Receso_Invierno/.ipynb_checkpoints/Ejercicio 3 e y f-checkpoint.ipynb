{
 "cells": [
  {
   "cell_type": "code",
   "execution_count": 2,
   "id": "8f087fa4",
   "metadata": {},
   "outputs": [],
   "source": [
    "import numpy as np\n",
    "from matplotlib import pyplot as plt\n",
    "\n",
    "import torch # Libreria\n",
    "from torch.utils.data import Dataset # Clase u objeto que va a contener la informacion que vamos a utilizar para entrenar y evaluar nuestro algoritmo\n",
    "from torch.utils.data import DataLoader"
   ]
  },
  {
   "cell_type": "markdown",
   "id": "343f734a",
   "metadata": {},
   "source": [
    "<p style='text-align: justify;'>\n",
    "$e.$ En los puntos (b), (c) y (d) utilizaste Python para hacer la implementación y el modelo ya estaba establecido. En este punto se pide hacer una implementación con Deep Learning en PyTorch.\n",
    "\n",
    "Las redes neuronales, si tienen la suficiente cantidad de layers y se están utilizando las funciones de activación adecuadas, son capaces de representar cualquier función para mapear la entrada a la salida. Proponer una arquitectura, agregar regularización mediante la técnica dropout, entrenar la red neuronal, buscar los mejores hiper parámetros y presentar el ECM sobre el dataset de testing.\n",
    "    \n",
    "Comparar los resultados obtenidos en (e) con los puntos anteriores.\n",
    "<p>"
   ]
  },
  {
   "cell_type": "code",
   "execution_count": 3,
   "id": "fb4f643c",
   "metadata": {},
   "outputs": [
    {
     "data": {
      "text/plain": [
       "<matplotlib.collections.PathCollection at 0x29d60cdf7f0>"
      ]
     },
     "execution_count": 3,
     "metadata": {},
     "output_type": "execute_result"
    },
    {
     "data": {
      "image/png": "[encoded data removed]",
      "text/plain": [
       "<Figure size 432x288 with 1 Axes>"
      ]
     },
     "metadata": {
      "needs_background": "light"
     },
     "output_type": "display_data"
    }
   ],
   "source": [
    "x = np.arange(-3, 7, 0.001)\n",
    "N = np.random.normal(0, 0.2, 10000)\n",
    "y = (x-2)**2+3+N\n",
    "fig, ax = plt.subplots(1,1)\n",
    "ax.scatter(x, y)"
   ]
  },
  {
   "cell_type": "code",
   "execution_count": 4,
   "id": "4b676e27",
   "metadata": {},
   "outputs": [
    {
     "name": "stdout",
     "output_type": "stream",
     "text": [
      "(8000, 2)\n",
      "(2000, 2)\n"
     ]
    }
   ],
   "source": [
    "x_train = np.zeros((int(0.8 *len(x)),2))\n",
    "x_test = np.zeros((int(0.2*len(x)),2))\n",
    "\n",
    "print(x_train.shape)\n",
    "print(x_test.shape)"
   ]
  },
  {
   "cell_type": "code",
   "execution_count": 5,
   "id": "b84d5a57",
   "metadata": {},
   "outputs": [],
   "source": [
    "idx = np.random.permutation(np.arange(0, 10000))\n",
    "\n",
    "x_train[:,0] = x[idx[0:int(0.8*10000)]]\n",
    "x_test[:,0] = x[idx[int(0.8*10000):]]\n",
    "\n",
    "x_train[:,1] = x[idx[0:int(0.8*10000)]]**2\n",
    "x_test[:,1] = x[idx[int(0.8*10000):]]**2\n",
    "\n",
    "N_train = N[idx[0:int(0.8*10000)]]\n",
    "N_test = N[idx[int(0.8*10000):]]\n",
    "\n",
    "y_train = (x_train[:,0] - 2)**2 + 3 + N_train\n",
    "y_test = (x_test[:,0] - 2)**2 + 3 + N_test"
   ]
  },
  {
   "cell_type": "code",
   "execution_count": 6,
   "id": "21925988",
   "metadata": {},
   "outputs": [
    {
     "data": {
      "text/plain": [
       "array([[ 3.5810000e+00,  1.2823561e+01],\n",
       "       [ 3.5400000e-01,  1.2531600e-01],\n",
       "       [-9.3000000e-02,  8.6490000e-03],\n",
       "       [ 3.1790000e+00,  1.0106041e+01],\n",
       "       [-6.0000000e-02,  3.6000000e-03]])"
      ]
     },
     "execution_count": 6,
     "metadata": {},
     "output_type": "execute_result"
    }
   ],
   "source": [
    "x_train[0:5,:]"
   ]
  },
  {
   "cell_type": "code",
   "execution_count": 7,
   "id": "1183e6a0",
   "metadata": {},
   "outputs": [
    {
     "data": {
      "text/plain": [
       "array([[ 0.19068454,  0.00283833],\n",
       "       [-0.19841585, -0.06493089],\n",
       "       [-0.25231355, -0.06555353],\n",
       "       [ 0.14221279, -0.01166479],\n",
       "       [-0.24833452, -0.06558047]])"
      ]
     },
     "execution_count": 7,
     "metadata": {},
     "output_type": "execute_result"
    }
   ],
   "source": [
    "x_train_mean = x_train.mean(axis=0)\n",
    "x_train_var = x_train.var(axis=0)\n",
    "\n",
    "x_train_norm = x_train.copy()\n",
    "x_train_norm = (x_train_norm-x_train_mean)/x_train_var\n",
    "x_train_norm[:5,:]"
   ]
  },
  {
   "cell_type": "code",
   "execution_count": 8,
   "id": "d9806985",
   "metadata": {},
   "outputs": [
    {
     "data": {
      "text/plain": [
       "array([[-0.52095801, -0.0368496 ],\n",
       "       [-0.57738782, -0.02408652],\n",
       "       [-0.02731778, -0.048823  ],\n",
       "       [ 0.18393226,  0.00071459],\n",
       "       [-0.30681413, -0.06401449]])"
      ]
     },
     "execution_count": 8,
     "metadata": {},
     "output_type": "execute_result"
    }
   ],
   "source": [
    "x_test_mean = x_test.mean(axis=0)\n",
    "x_test_var = x_test.var(axis=0)\n",
    "\n",
    "x_test_norm = x_test.copy()\n",
    "x_test_norm = (x_test_norm-x_train_mean)/x_train_var\n",
    "x_test_norm[:5,:]"
   ]
  },
  {
   "cell_type": "code",
   "execution_count": 9,
   "id": "52c6b938",
   "metadata": {},
   "outputs": [],
   "source": [
    "class CustomDataset(Dataset):\n",
    "    def __init__(self, x, y):\n",
    "        super().__init__()\n",
    "        self.x = x\n",
    "        self.y = y\n",
    "\n",
    "    def __len__(self):\n",
    "        return self.x.shape[0]\n",
    "  \n",
    "    def __getitem__(self, idx):\n",
    "        return self.x[idx,:], self.y[idx]"
   ]
  },
  {
   "cell_type": "code",
   "execution_count": 10,
   "id": "8e86ba2f",
   "metadata": {},
   "outputs": [],
   "source": [
    "training_set = CustomDataset(x_train_norm, y_train)"
   ]
  },
  {
   "cell_type": "code",
   "execution_count": 11,
   "id": "ff77d816",
   "metadata": {},
   "outputs": [
    {
     "data": {
      "text/plain": [
       "8000"
      ]
     },
     "execution_count": 11,
     "metadata": {},
     "output_type": "execute_result"
    }
   ],
   "source": [
    "training_set.__len__()"
   ]
  },
  {
   "cell_type": "code",
   "execution_count": 12,
   "id": "766b5768",
   "metadata": {},
   "outputs": [
    {
     "data": {
      "text/plain": [
       "(array([0.19068454, 0.00283833]), 5.764724663767254)"
      ]
     },
     "execution_count": 12,
     "metadata": {},
     "output_type": "execute_result"
    }
   ],
   "source": [
    "training_set.__getitem__(0)"
   ]
  },
  {
   "cell_type": "code",
   "execution_count": 13,
   "id": "c2a3b290",
   "metadata": {},
   "outputs": [],
   "source": [
    "test_set = CustomDataset(x_test_norm, y_test)"
   ]
  },
  {
   "cell_type": "code",
   "execution_count": 14,
   "id": "9dd0a9c7",
   "metadata": {},
   "outputs": [
    {
     "data": {
      "text/plain": [
       "2000"
      ]
     },
     "execution_count": 14,
     "metadata": {},
     "output_type": "execute_result"
    }
   ],
   "source": [
    "test_set.__len__()"
   ]
  },
  {
   "cell_type": "code",
   "execution_count": 15,
   "id": "6b16e063",
   "metadata": {},
   "outputs": [
    {
     "data": {
      "text/plain": [
       "(array([-0.52095801, -0.0368496 ]), 21.625377254214364)"
      ]
     },
     "execution_count": 15,
     "metadata": {},
     "output_type": "execute_result"
    }
   ],
   "source": [
    "test_set.__getitem__(0)"
   ]
  },
  {
   "cell_type": "code",
   "execution_count": 16,
   "id": "afdea2c5",
   "metadata": {},
   "outputs": [],
   "source": [
    "training_dataloader = DataLoader(training_set, batch_size = 512, shuffle=True)\n",
    "test_dataloader = DataLoader(test_set, batch_size = 256, shuffle=True)"
   ]
  },
  {
   "cell_type": "code",
   "execution_count": 28,
   "id": "44349952",
   "metadata": {},
   "outputs": [],
   "source": [
    "# Definimos el modelo\n",
    "class NNet(torch.nn.Module):\n",
    "    def __init__(self):\n",
    "        super().__init__()\n",
    "        self.linear_1 = torch.nn.Linear(in_features = 2, out_features = 100, bias = True)\n",
    "        self.sigmoid_1 = torch.nn.ReLU()\n",
    "        self.linear_2 = torch.nn.Linear(in_features = 100, out_features = 500, bias = True)\n",
    "        self.sigmoid_2 = torch.nn.ReLU()\n",
    "        self.linear_3 = torch.nn.Linear(in_features = 500, out_features = 1000, bias = True)\n",
    "        self.sigmoid_3 = torch.nn.ReLU()\n",
    "        self.linear_4 = torch.nn.Linear(in_features = 1000, out_features = 800, bias = True)\n",
    "        self.sigmoid_4 = torch.nn.ReLU()\n",
    "        self.linear_5 = torch.nn.Linear(in_features = 800, out_features = 200, bias = True)\n",
    "        self.sigmoid_5 = torch.nn.ReLU()\n",
    "        self.linear_6 = torch.nn.Linear(in_features = 200, out_features = 1, bias = True)\n",
    "        \n",
    "    def forward(self, x):\n",
    "                                    \n",
    "        z1 = self.linear_1(x)\n",
    "        a1 = self.sigmoid_1(z1)\n",
    "        z2 = self.linear_2(a1)\n",
    "        a2 = self.sigmoid_2(z2)\n",
    "        z3 = self.linear_3(a2)\n",
    "        a3 = self.sigmoid_3(z3)\n",
    "        z4 = self.linear_4(a3)\n",
    "        a4 = self.sigmoid_4(z4)\n",
    "        z5 = self.linear_5(a4)\n",
    "        a5 = self.sigmoid_5(z5)\n",
    "        y = self.linear_6(a5)\n",
    "\n",
    "        return y"
   ]
  },
  {
   "cell_type": "code",
   "execution_count": 29,
   "id": "14debd17",
   "metadata": {},
   "outputs": [],
   "source": [
    "nnet = NNet()"
   ]
  },
  {
   "cell_type": "code",
   "execution_count": 30,
   "id": "aca7df8b",
   "metadata": {},
   "outputs": [
    {
     "name": "stdout",
     "output_type": "stream",
     "text": [
      "NNet(\n",
      "  (linear_1): Linear(in_features=2, out_features=100, bias=True)\n",
      "  (sigmoid_1): ReLU()\n",
      "  (linear_2): Linear(in_features=100, out_features=500, bias=True)\n",
      "  (sigmoid_2): ReLU()\n",
      "  (linear_3): Linear(in_features=500, out_features=1000, bias=True)\n",
      "  (sigmoid_3): ReLU()\n",
      "  (linear_4): Linear(in_features=1000, out_features=800, bias=True)\n",
      "  (sigmoid_4): ReLU()\n",
      "  (linear_5): Linear(in_features=800, out_features=200, bias=True)\n",
      "  (sigmoid_5): ReLU()\n",
      "  (linear_6): Linear(in_features=200, out_features=1, bias=True)\n",
      ")\n"
     ]
    }
   ],
   "source": [
    "print(nnet)"
   ]
  },
  {
   "cell_type": "code",
   "execution_count": 20,
   "id": "13f01c3a",
   "metadata": {},
   "outputs": [],
   "source": [
    "criterion = torch.nn.MSELoss(reduction='mean')\n",
    "optimizer = torch.optim.SGD(nnet.parameters(), lr=0.005)"
   ]
  },
  {
   "cell_type": "code",
   "execution_count": 21,
   "id": "df7a5f95",
   "metadata": {},
   "outputs": [
    {
     "name": "stdout",
     "output_type": "stream",
     "text": [
      "False\n"
     ]
    }
   ],
   "source": [
    "device = \"\"\n",
    "if torch.cuda.is_available():\n",
    "    device = \"cuda:0\"\n",
    "else:\n",
    "    device = \"cpu\"\n",
    "\n",
    "print(torch.cuda.is_available())"
   ]
  },
  {
   "cell_type": "code",
   "execution_count": 31,
   "id": "e4963790",
   "metadata": {},
   "outputs": [
    {
     "data": {
      "text/plain": [
       "NNet(\n",
       "  (linear_1): Linear(in_features=2, out_features=100, bias=True)\n",
       "  (sigmoid_1): ReLU()\n",
       "  (linear_2): Linear(in_features=100, out_features=500, bias=True)\n",
       "  (sigmoid_2): ReLU()\n",
       "  (linear_3): Linear(in_features=500, out_features=1000, bias=True)\n",
       "  (sigmoid_3): ReLU()\n",
       "  (linear_4): Linear(in_features=1000, out_features=800, bias=True)\n",
       "  (sigmoid_4): ReLU()\n",
       "  (linear_5): Linear(in_features=800, out_features=200, bias=True)\n",
       "  (sigmoid_5): ReLU()\n",
       "  (linear_6): Linear(in_features=200, out_features=1, bias=True)\n",
       ")"
      ]
     },
     "execution_count": 31,
     "metadata": {},
     "output_type": "execute_result"
    }
   ],
   "source": [
    "nnet.to(device)"
   ]
  },
  {
   "cell_type": "code",
   "execution_count": 32,
   "id": "c9bf2a80",
   "metadata": {},
   "outputs": [
    {
     "name": "stdout",
     "output_type": "stream",
     "text": [
      "Epoch = 0 - loss = 0.3645093879699707\n",
      "Epoch = 1 - loss = 0.36505415725708007\n",
      "Epoch = 2 - loss = 0.3656894569396973\n",
      "Epoch = 3 - loss = 0.3643782024383545\n",
      "Epoch = 4 - loss = 0.36524108505249026\n",
      "Epoch = 5 - loss = 0.364401741027832\n",
      "Epoch = 6 - loss = 0.3643840866088867\n",
      "Epoch = 7 - loss = 0.3648014354705811\n",
      "Epoch = 8 - loss = 0.36504312896728514\n",
      "Epoch = 9 - loss = 0.3651795139312744\n",
      "Epoch = 10 - loss = 0.36479773330688475\n",
      "Epoch = 11 - loss = 0.3642885284423828\n",
      "Epoch = 12 - loss = 0.36476895332336423\n",
      "Epoch = 13 - loss = 0.36563872718811036\n",
      "Epoch = 14 - loss = 0.3646291618347168\n",
      "Epoch = 15 - loss = 0.3643473968505859\n",
      "Epoch = 16 - loss = 0.3646773090362549\n",
      "Epoch = 17 - loss = 0.3646030330657959\n",
      "Epoch = 18 - loss = 0.3649850635528564\n",
      "Epoch = 19 - loss = 0.36447706031799315\n",
      "Epoch = 20 - loss = 0.3650101737976074\n",
      "Epoch = 21 - loss = 0.3656331615447998\n",
      "Epoch = 22 - loss = 0.36430051040649414\n",
      "Epoch = 23 - loss = 0.36412790870666506\n",
      "Epoch = 24 - loss = 0.36401079750061033\n",
      "Epoch = 25 - loss = 0.36577773094177246\n",
      "Epoch = 26 - loss = 0.36561401176452635\n",
      "Epoch = 27 - loss = 0.36585326766967774\n",
      "Epoch = 28 - loss = 0.36471666145324705\n",
      "Epoch = 29 - loss = 0.36427356719970705\n",
      "Epoch = 30 - loss = 0.36490263366699216\n",
      "Epoch = 31 - loss = 0.3650106029510498\n",
      "Epoch = 32 - loss = 0.3643674468994141\n",
      "Epoch = 33 - loss = 0.3649461727142334\n",
      "Epoch = 34 - loss = 0.36524344444274903\n",
      "Epoch = 35 - loss = 0.36471478080749514\n",
      "Epoch = 36 - loss = 0.36498823165893557\n",
      "Epoch = 37 - loss = 0.36608578109741213\n",
      "Epoch = 38 - loss = 0.36507023239135744\n",
      "Epoch = 39 - loss = 0.36546271133422853\n",
      "Epoch = 40 - loss = 0.36469659996032716\n",
      "Epoch = 41 - loss = 0.3646454925537109\n",
      "Epoch = 42 - loss = 0.3644653511047363\n",
      "Epoch = 43 - loss = 0.3656922492980957\n",
      "Epoch = 44 - loss = 0.3655893669128418\n",
      "Epoch = 45 - loss = 0.36484996032714845\n",
      "Epoch = 46 - loss = 0.3648093357086182\n",
      "Epoch = 47 - loss = 0.3645726585388184\n",
      "Epoch = 48 - loss = 0.36439110374450684\n",
      "Epoch = 49 - loss = 0.36605666732788084\n",
      "Epoch = 50 - loss = 0.3648327198028564\n",
      "Epoch = 51 - loss = 0.3651611404418945\n",
      "Epoch = 52 - loss = 0.36468267822265626\n",
      "Epoch = 53 - loss = 0.3647006435394287\n",
      "Epoch = 54 - loss = 0.3660351467132568\n",
      "Epoch = 55 - loss = 0.36482264137268067\n",
      "Epoch = 56 - loss = 0.3656735191345215\n",
      "Epoch = 57 - loss = 0.36385610008239744\n",
      "Epoch = 58 - loss = 0.36546372032165525\n",
      "Epoch = 59 - loss = 0.36384021186828613\n",
      "Epoch = 60 - loss = 0.36516445922851565\n",
      "Epoch = 61 - loss = 0.3643027744293213\n",
      "Epoch = 62 - loss = 0.3658678760528564\n",
      "Epoch = 63 - loss = 0.3649646034240723\n",
      "Epoch = 64 - loss = 0.364235237121582\n",
      "Epoch = 65 - loss = 0.3639174289703369\n",
      "Epoch = 66 - loss = 0.3652354755401611\n",
      "Epoch = 67 - loss = 0.3650887279510498\n",
      "Epoch = 68 - loss = 0.3658075199127197\n",
      "Epoch = 69 - loss = 0.36448732948303225\n",
      "Epoch = 70 - loss = 0.36509961318969725\n",
      "Epoch = 71 - loss = 0.3640176544189453\n",
      "Epoch = 72 - loss = 0.36432596015930174\n",
      "Epoch = 73 - loss = 0.3640415668487549\n",
      "Epoch = 74 - loss = 0.3652572422027588\n",
      "Epoch = 75 - loss = 0.36546400833129883\n",
      "Epoch = 76 - loss = 0.36543159675598147\n",
      "Epoch = 77 - loss = 0.36522134590148925\n",
      "Epoch = 78 - loss = 0.3643864517211914\n",
      "Epoch = 79 - loss = 0.36513887405395506\n",
      "Epoch = 80 - loss = 0.3649576168060303\n",
      "Epoch = 81 - loss = 0.3643722286224365\n",
      "Epoch = 82 - loss = 0.36501397895812987\n",
      "Epoch = 83 - loss = 0.36466854095458984\n",
      "Epoch = 84 - loss = 0.3653167915344238\n",
      "Epoch = 85 - loss = 0.364753885269165\n",
      "Epoch = 86 - loss = 0.36545232009887696\n",
      "Epoch = 87 - loss = 0.3647746429443359\n",
      "Epoch = 88 - loss = 0.3648149242401123\n",
      "Epoch = 89 - loss = 0.36472971725463865\n",
      "Epoch = 90 - loss = 0.3647720241546631\n",
      "Epoch = 91 - loss = 0.3645265464782715\n",
      "Epoch = 92 - loss = 0.3647918357849121\n",
      "Epoch = 93 - loss = 0.3658640193939209\n",
      "Epoch = 94 - loss = 0.36574577140808107\n",
      "Epoch = 95 - loss = 0.36476056289672854\n",
      "Epoch = 96 - loss = 0.36457562255859377\n",
      "Epoch = 97 - loss = 0.36508075904846193\n",
      "Epoch = 98 - loss = 0.36449198150634765\n",
      "Epoch = 99 - loss = 0.36507811546325686\n"
     ]
    }
   ],
   "source": [
    "for epoch in range(100):\n",
    "    running_loss = 0\n",
    "    for i, data in enumerate(training_dataloader):\n",
    "        # data\n",
    "        x, y = data\n",
    "        x = x.to(device).float()\n",
    "        y = y.to(device).float().reshape(-1,1)\n",
    "        \n",
    "        # set gradient to zero\n",
    "        optimizer.zero_grad()\n",
    "\n",
    "        #forward\n",
    "        y_hat = nnet(x).reshape(-1,1)\n",
    "\n",
    "        #loss\n",
    "        loss = criterion(y_hat, y)\n",
    "\n",
    "        #backward\n",
    "        loss.backward()\n",
    "\n",
    "        #update of parameters\n",
    "        optimizer.step()\n",
    "\n",
    "        #compute metrics and statistics\n",
    "        running_loss += loss.item()\n",
    "  \n",
    "    print(f\"Epoch = {epoch} - loss = {running_loss / len(training_set)}\")"
   ]
  },
  {
   "cell_type": "code",
   "execution_count": null,
   "id": "85f5f620",
   "metadata": {},
   "outputs": [],
   "source": []
  },
  {
   "cell_type": "markdown",
   "id": "aa4ef90f",
   "metadata": {},
   "source": [
    "<p style='text-align: justify;'>\n",
    "$f.$ Para el punto (e), ¿qué función de activación seleccionaste y por qué? Para la función que hayas seleccionado, explica sus características, su forward y su backward.\n",
    "<p>"
   ]
  }
 ],
 "metadata": {
  "kernelspec": {
   "display_name": "Python 3",
   "language": "python",
   "name": "python3"
  },
  "language_info": {
   "codemirror_mode": {
    "name": "ipython",
    "version": 3
   },
   "file_extension": ".py",
   "mimetype": "text/x-python",
   "name": "python",
   "nbconvert_exporter": "python",
   "pygments_lexer": "ipython3",
   "version": "3.8.8"
  }
 },
 "nbformat": 4,
 "nbformat_minor": 5
}
