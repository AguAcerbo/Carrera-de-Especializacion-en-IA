{
 "cells": [
  {
   "cell_type": "markdown",
   "id": "1a1bf35b",
   "metadata": {},
   "source": [
    "# Deep Learning: Ejercicios de mitad de curso\n",
    "### Junio 2021"
   ]
  },
  {
   "cell_type": "code",
   "execution_count": 1,
   "id": "a04d0d2f",
   "metadata": {},
   "outputs": [],
   "source": [
    "import numpy as np\n",
    "from matplotlib import pyplot as plt"
   ]
  },
  {
   "cell_type": "markdown",
   "id": "d8bdadee",
   "metadata": {},
   "source": [
    "#### 1. Stochastic Gradient Descent\n",
    "\n",
    "<p style='text-align: justify;'>\n",
    "$a.$ Implementar en Python un algoritmo basado en Stochastic Gradient Descent para encontrar numéricamente el mínimo de $y=(x-2)^{2}+3$. ¿Cuál es el mínimo valor que encontró el algoritmo y para qué valor de x? ¿En qué momento detuviste la búsqueda y por qué? ¿Cómo inicializamos los valores random del algoritmo y cómo afectan la convergencia? ¿Cuáles son los hiperparámetros del algoritmo?\n",
    "<p>"
   ]
  },
  {
   "cell_type": "code",
   "execution_count": 2,
   "id": "6c2e3b56",
   "metadata": {},
   "outputs": [
    {
     "data": {
      "text/plain": [
       "[<matplotlib.lines.Line2D at 0x1e0aa4f2910>]"
      ]
     },
     "execution_count": 2,
     "metadata": {},
     "output_type": "execute_result"
    },
    {
     "data": {
      "image/png": "[encoded data removed]",
      "text/plain": [
       "<Figure size 432x288 with 1 Axes>"
      ]
     },
     "metadata": {
      "needs_background": "light"
     },
     "output_type": "display_data"
    }
   ],
   "source": [
    "x = np.arange(-20, 20)\n",
    "y = (x-2)**2+3\n",
    "fig, ax = plt.subplots(1,1)\n",
    "ax.plot(x, y)"
   ]
  },
  {
   "cell_type": "code",
   "execution_count": 16,
   "id": "c97cae4f",
   "metadata": {},
   "outputs": [],
   "source": [
    "def stochastic_gradient_descent(lr=0.01, amt_epochs=100):\n",
    "    x = []\n",
    "    epch = []\n",
    "    x_min = np.random.randn()\n",
    "    x.append(x_min)\n",
    "    for epoch in range(amt_epochs):\n",
    "        x_min = x_min - (lr * 2*(x_min-2))\n",
    "        x.append(x_min)\n",
    "        epch.append(epoch)\n",
    "    epch.append(epoch+1)\n",
    "    return epch, x"
   ]
  },
  {
   "cell_type": "code",
   "execution_count": 17,
   "id": "33d6b787",
   "metadata": {},
   "outputs": [],
   "source": [
    "e, x_min = stochastic_gradient_descent(lr=0.1, amt_epochs=100)"
   ]
  },
  {
   "cell_type": "code",
   "execution_count": 18,
   "id": "76c1e643",
   "metadata": {},
   "outputs": [
    {
     "data": {
      "text/plain": [
       "[<matplotlib.lines.Line2D at 0x1e0aa811280>]"
      ]
     },
     "execution_count": 18,
     "metadata": {},
     "output_type": "execute_result"
    },
    {
     "data": {
      "image/png": "[encoded data removed]",
      "text/plain": [
       "<Figure size 432x288 with 1 Axes>"
      ]
     },
     "metadata": {
      "needs_background": "light"
     },
     "output_type": "display_data"
    }
   ],
   "source": [
    "fig, ax = plt.subplots(1,1)\n",
    "ax.plot(e, x_min)"
   ]
  },
  {
   "cell_type": "markdown",
   "id": "495edbce",
   "metadata": {},
   "source": [
    "a)¿En qué momento detuviste la búsqueda y por qué?\n",
    "Detengo la iteacion cuando la loss deja de disminuir o cuando deja de modificarse el valor de x\n",
    "\n",
    "¿Cómo inicializamos los valores random del algoritmo y cómo afectan la convergencia?\n",
    "Se elige un x que pueda converger rapidamente \n",
    "\n",
    "¿Cuáles son los hiperparámetros del algoritmo?\n",
    "epoch y lr\n",
    "\n",
    "b) las ecuaciones de actualizacion se modifican agregando un parametro adicional"
   ]
  }
 ],
 "metadata": {
  "kernelspec": {
   "display_name": "Python 3",
   "language": "python",
   "name": "python3"
  },
  "language_info": {
   "codemirror_mode": {
    "name": "ipython",
    "version": 3
   },
   "file_extension": ".py",
   "mimetype": "text/x-python",
   "name": "python",
   "nbconvert_exporter": "python",
   "pygments_lexer": "ipython3",
   "version": "3.8.8"
  }
 },
 "nbformat": 4,
 "nbformat_minor": 5
}
