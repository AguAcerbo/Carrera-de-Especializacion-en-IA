{
 "cells": [
  {
   "cell_type": "code",
   "execution_count": 1,
   "id": "8f087fa4",
   "metadata": {},
   "outputs": [],
   "source": [
    "import numpy as np\n",
    "from matplotlib import pyplot as plt\n",
    "from sklearn import metrics\n",
    "\n",
    "import torch # Libreria\n",
    "from torch.utils.data import Dataset # Clase u objeto que va a contener la informacion que vamos a utilizar para entrenar y evaluar nuestro algoritmo\n",
    "from torch.utils.data import DataLoader"
   ]
  },
  {
   "cell_type": "code",
   "execution_count": 2,
   "id": "0f91f249",
   "metadata": {},
   "outputs": [
    {
     "name": "stdout",
     "output_type": "stream",
     "text": [
      "True\n"
     ]
    }
   ],
   "source": [
    "device = \"\"\n",
    "if torch.cuda.is_available():\n",
    "    device = \"cuda:0\"\n",
    "else:\n",
    "    device = \"cpu\"\n",
    "\n",
    "print(torch.cuda.is_available())"
   ]
  },
  {
   "cell_type": "code",
   "execution_count": 3,
   "id": "89cc15ef",
   "metadata": {},
   "outputs": [
    {
     "name": "stdout",
     "output_type": "stream",
     "text": [
      "__CUDNN VERSION: 7605\n",
      "__Number CUDA Devices: 1\n",
      "__CUDA Device Name: NVIDIA GeForce RTX 2060\n",
      "__CUDA Device Total Memory [GB]: 6.442450944\n"
     ]
    }
   ],
   "source": [
    "if torch.cuda.is_available():\n",
    "    print('__CUDNN VERSION:', torch.backends.cudnn.version())\n",
    "    print('__Number CUDA Devices:', torch.cuda.device_count())\n",
    "    print('__CUDA Device Name:',torch.cuda.get_device_name(0))\n",
    "    print('__CUDA Device Total Memory [GB]:',torch.cuda.get_device_properties(0).total_memory/1e9)"
   ]
  },
  {
   "cell_type": "code",
   "execution_count": 4,
   "id": "95de98b1",
   "metadata": {},
   "outputs": [
    {
     "name": "stdout",
     "output_type": "stream",
     "text": [
      "Device:  cuda:0\n"
     ]
    }
   ],
   "source": [
    "print(\"Device: \",device)"
   ]
  },
  {
   "cell_type": "markdown",
   "id": "343f734a",
   "metadata": {},
   "source": [
    "<p style='text-align: justify;'>\n",
    "$e.$ En los puntos (b), (c) y (d) utilizaste Python para hacer la implementación y el modelo ya estaba establecido. En este punto se pide hacer una implementación con Deep Learning en PyTorch.\n",
    "\n",
    "Las redes neuronales, si tienen la suficiente cantidad de layers y se están utilizando las funciones de activación adecuadas, son capaces de representar cualquier función para mapear la entrada a la salida. Proponer una arquitectura, agregar regularización mediante la técnica dropout, entrenar la red neuronal, buscar los mejores hiper parámetros y presentar el ECM sobre el dataset de testing.\n",
    "    \n",
    "Comparar los resultados obtenidos en (e) con los puntos anteriores.\n",
    "<p>"
   ]
  },
  {
   "cell_type": "markdown",
   "id": "2fbc7671",
   "metadata": {},
   "source": [
    "### Declaracion de dataset"
   ]
  },
  {
   "cell_type": "code",
   "execution_count": 5,
   "id": "fb4f643c",
   "metadata": {},
   "outputs": [
    {
     "data": {
      "text/plain": [
       "<matplotlib.collections.PathCollection at 0x2cc2bd0ec10>"
      ]
     },
     "execution_count": 5,
     "metadata": {},
     "output_type": "execute_result"
    },
    {
     "data": {
      "image/png": "[encoded data removed]",
      "text/plain": [
       "<Figure size 432x288 with 1 Axes>"
      ]
     },
     "metadata": {
      "needs_background": "light"
     },
     "output_type": "display_data"
    }
   ],
   "source": [
    "x = np.arange(-3, 7, 0.001)\n",
    "N = np.random.normal(0, 0.2, 10000)\n",
    "y = (x-2)**2+3+N\n",
    "fig, ax = plt.subplots(1,1)\n",
    "ax.scatter(x, y)"
   ]
  },
  {
   "cell_type": "markdown",
   "id": "0469bfbc",
   "metadata": {},
   "source": [
    "### Split y normalizacion de datos/"
   ]
  },
  {
   "cell_type": "code",
   "execution_count": 6,
   "id": "4b676e27",
   "metadata": {},
   "outputs": [
    {
     "name": "stdout",
     "output_type": "stream",
     "text": [
      "(8000, 2)\n",
      "(2000, 2)\n"
     ]
    }
   ],
   "source": [
    "x_train = np.zeros((int(0.8 *len(x)),2))\n",
    "x_test = np.zeros((int(0.2*len(x)),2))\n",
    "\n",
    "print(x_train.shape)\n",
    "print(x_test.shape)"
   ]
  },
  {
   "cell_type": "code",
   "execution_count": 7,
   "id": "b84d5a57",
   "metadata": {},
   "outputs": [],
   "source": [
    "idx = np.random.permutation(np.arange(0, 10000))\n",
    "\n",
    "x_train[:,0] = x[idx[0:int(0.8*10000)]]\n",
    "x_test[:,0] = x[idx[int(0.8*10000):]]\n",
    "\n",
    "x_train[:,1] = x[idx[0:int(0.8*10000)]]**2\n",
    "x_test[:,1] = x[idx[int(0.8*10000):]]**2\n",
    "\n",
    "N_train = N[idx[0:int(0.8*10000)]]\n",
    "N_test = N[idx[int(0.8*10000):]]\n",
    "\n",
    "y_train = (x_train[:,0] - 2)**2 + 3 + N_train\n",
    "y_test = (x_test[:,0] - 2)**2 + 3 + N_test"
   ]
  },
  {
   "cell_type": "code",
   "execution_count": 8,
   "id": "21925988",
   "metadata": {},
   "outputs": [
    {
     "data": {
      "text/plain": [
       "array([[ 5.29    , 27.9841  ],\n",
       "       [ 1.231   ,  1.515361],\n",
       "       [ 0.479   ,  0.229441],\n",
       "       [ 3.861   , 14.907321],\n",
       "       [ 4.63    , 21.4369  ]])"
      ]
     },
     "execution_count": 8,
     "metadata": {},
     "output_type": "execute_result"
    }
   ],
   "source": [
    "x_train[0:5,:]"
   ]
  },
  {
   "cell_type": "code",
   "execution_count": 9,
   "id": "1183e6a0",
   "metadata": {},
   "outputs": [
    {
     "data": {
      "text/plain": [
       "array([[ 0.39424401,  0.08223601],\n",
       "       [-0.09470015, -0.05717338],\n",
       "       [-0.18528552, -0.06394625],\n",
       "       [ 0.22210772,  0.01336134],\n",
       "       [ 0.31474089,  0.04775227]])"
      ]
     },
     "execution_count": 9,
     "metadata": {},
     "output_type": "execute_result"
    }
   ],
   "source": [
    "x_train_mean = x_train.mean(axis=0)\n",
    "x_train_var = x_train.var(axis=0)\n",
    "\n",
    "x_train_norm = x_train.copy()\n",
    "x_train_norm = (x_train_norm-x_train_mean)/x_train_var\n",
    "x_train_norm[:5,:]"
   ]
  },
  {
   "cell_type": "code",
   "execution_count": 10,
   "id": "d9806985",
   "metadata": {},
   "outputs": [
    {
     "data": {
      "text/plain": [
       "array([[-0.17311913, -0.0633829 ],\n",
       "       [ 0.36376781,  0.0684749 ],\n",
       "       [ 0.1984977 ,  0.00559209],\n",
       "       [-0.35742181, -0.06040128],\n",
       "       [ 0.33871229,  0.05766645]])"
      ]
     },
     "execution_count": 10,
     "metadata": {},
     "output_type": "execute_result"
    }
   ],
   "source": [
    "x_test_mean = x_test.mean(axis=0)\n",
    "x_test_var = x_test.var(axis=0)\n",
    "\n",
    "x_test_norm = x_test.copy()\n",
    "x_test_norm = (x_test_norm-x_train_mean)/x_train_var\n",
    "x_test_norm[:5,:]"
   ]
  },
  {
   "cell_type": "code",
   "execution_count": 11,
   "id": "2868bb8f",
   "metadata": {},
   "outputs": [
    {
     "name": "stdout",
     "output_type": "stream",
     "text": [
      "[0.60010889 0.19285186]\n",
      "[-0.6043633 -0.0651547]\n",
      "[[ 0.39424401  0.08223601]\n",
      " [-0.09470015 -0.05717338]\n",
      " [-0.18528552 -0.06394625]\n",
      " ...\n",
      " [-0.31369509 -0.06333987]\n",
      " [-0.45005498 -0.04959108]\n",
      " [ 0.46001477  0.11423162]]\n"
     ]
    }
   ],
   "source": [
    "print(np.max(x_train_norm, axis=0))\n",
    "print(np.min(x_train_norm, axis=0))\n",
    "print(x_train_norm)"
   ]
  },
  {
   "cell_type": "code",
   "execution_count": 12,
   "id": "6feb00bb",
   "metadata": {},
   "outputs": [
    {
     "name": "stdout",
     "output_type": "stream",
     "text": [
      "[0.59962705 0.19255703]\n",
      "[-0.60400192 -0.06515469]\n",
      "[[-0.17311913 -0.0633829 ]\n",
      " [ 0.36376781  0.0684749 ]\n",
      " [ 0.1984977   0.00559209]\n",
      " ...\n",
      " [ 0.12140377 -0.01695886]\n",
      " [ 0.01961569 -0.04012407]\n",
      " [ 0.13441337 -0.01345601]]\n"
     ]
    }
   ],
   "source": [
    "print(np.max(x_test_norm, axis=0))\n",
    "print(np.min(x_test_norm, axis=0))\n",
    "print(x_test_norm)"
   ]
  },
  {
   "cell_type": "markdown",
   "id": "64d5f91d",
   "metadata": {},
   "source": [
    "### Deep Learning"
   ]
  },
  {
   "cell_type": "code",
   "execution_count": 13,
   "id": "52c6b938",
   "metadata": {},
   "outputs": [],
   "source": [
    "class CustomDataset(Dataset):\n",
    "    def __init__(self, x, y):\n",
    "        super().__init__()\n",
    "        self.x = x\n",
    "        self.y = y\n",
    "\n",
    "    def __len__(self):\n",
    "        return self.x.shape[0]\n",
    "  \n",
    "    def __getitem__(self, idx):\n",
    "        return self.x[idx,:], self.y[idx]"
   ]
  },
  {
   "cell_type": "code",
   "execution_count": 14,
   "id": "8e86ba2f",
   "metadata": {},
   "outputs": [],
   "source": [
    "training_set = CustomDataset(x_train_norm, y_train)"
   ]
  },
  {
   "cell_type": "code",
   "execution_count": 15,
   "id": "ff77d816",
   "metadata": {},
   "outputs": [
    {
     "data": {
      "text/plain": [
       "8000"
      ]
     },
     "execution_count": 15,
     "metadata": {},
     "output_type": "execute_result"
    }
   ],
   "source": [
    "training_set.__len__()"
   ]
  },
  {
   "cell_type": "code",
   "execution_count": 16,
   "id": "766b5768",
   "metadata": {},
   "outputs": [
    {
     "data": {
      "text/plain": [
       "(array([0.39424401, 0.08223601]), 13.77010005048317)"
      ]
     },
     "execution_count": 16,
     "metadata": {},
     "output_type": "execute_result"
    }
   ],
   "source": [
    "training_set.__getitem__(0)"
   ]
  },
  {
   "cell_type": "code",
   "execution_count": 17,
   "id": "c2a3b290",
   "metadata": {},
   "outputs": [],
   "source": [
    "test_set = CustomDataset(x_test_norm, y_test)"
   ]
  },
  {
   "cell_type": "code",
   "execution_count": 18,
   "id": "9dd0a9c7",
   "metadata": {},
   "outputs": [
    {
     "data": {
      "text/plain": [
       "2000"
      ]
     },
     "execution_count": 18,
     "metadata": {},
     "output_type": "execute_result"
    }
   ],
   "source": [
    "test_set.__len__()"
   ]
  },
  {
   "cell_type": "code",
   "execution_count": 19,
   "id": "6b16e063",
   "metadata": {},
   "outputs": [
    {
     "data": {
      "text/plain": [
       "(array([-0.17311913, -0.0633829 ]), 5.4765581321900125)"
      ]
     },
     "execution_count": 19,
     "metadata": {},
     "output_type": "execute_result"
    }
   ],
   "source": [
    "test_set.__getitem__(0)"
   ]
  },
  {
   "cell_type": "code",
   "execution_count": 20,
   "id": "afdea2c5",
   "metadata": {},
   "outputs": [],
   "source": [
    "training_dataloader = DataLoader(training_set, batch_size = 512, shuffle=True)\n",
    "test_dataloader = DataLoader(test_set, batch_size = 256, shuffle=True)"
   ]
  },
  {
   "cell_type": "code",
   "execution_count": 33,
   "id": "44349952",
   "metadata": {},
   "outputs": [],
   "source": [
    "# Definimos el modelo\n",
    "class NNet(torch.nn.Module):\n",
    "    def __init__(self):\n",
    "        super().__init__()\n",
    "        self.linear_1 = torch.nn.Linear(in_features = 2, out_features = 100, bias = True)\n",
    "        self.dropout_1 = torch.nn.Dropout(p=0.5)\n",
    "        self.relu_1 = torch.nn.ReLU()\n",
    "        self.linear_2 = torch.nn.Linear(in_features = 100, out_features = 500, bias = True)\n",
    "        self.dropout_2 = torch.nn.Dropout(p=0.25)\n",
    "        self.relu_2 = torch.nn.ReLU()\n",
    "        self.linear_3 = torch.nn.Linear(in_features = 500, out_features = 800, bias = True)\n",
    "        self.dropout_3 = torch.nn.Dropout(p=0.25)\n",
    "        self.relu_3 = torch.nn.ReLU()\n",
    "        self.linear_4 = torch.nn.Linear(in_features = 800, out_features = 200, bias = True)\n",
    "        self.dropout_4 = torch.nn.Dropout(p=0.5)\n",
    "        self.relu_4 = torch.nn.ReLU()\n",
    "        self.linear_5 = torch.nn.Linear(in_features = 200, out_features = 1, bias = True)\n",
    "        \n",
    "    def forward(self, x):\n",
    "                                    \n",
    "        z1 = self.linear_1(x)\n",
    "        z1_1 = self.dropout_1(z1)\n",
    "        a1 = self.relu_1(z1_1)\n",
    "        z2 = self.linear_2(a1)\n",
    "        z2_1 = self.dropout_2(z2)\n",
    "        a2 = self.relu_2(z2_1)\n",
    "        z3 = self.linear_3(a2)\n",
    "        z3_1 = self.dropout_3(z3)\n",
    "        a3 = self.relu_3(z3_1)\n",
    "        z4 = self.linear_4(a3)\n",
    "        z4_1 = self.dropout_4(z4)\n",
    "        a4 = self.relu_4(z4_1)\n",
    "        y = self.linear_5(a4)\n",
    "\n",
    "        return y"
   ]
  },
  {
   "cell_type": "code",
   "execution_count": 34,
   "id": "14debd17",
   "metadata": {},
   "outputs": [],
   "source": [
    "nnet = NNet()"
   ]
  },
  {
   "cell_type": "code",
   "execution_count": 35,
   "id": "aca7df8b",
   "metadata": {},
   "outputs": [
    {
     "name": "stdout",
     "output_type": "stream",
     "text": [
      "NNet(\n",
      "  (linear_1): Linear(in_features=2, out_features=100, bias=True)\n",
      "  (dropout_1): Dropout(p=0.5, inplace=False)\n",
      "  (relu_1): ReLU()\n",
      "  (linear_2): Linear(in_features=100, out_features=500, bias=True)\n",
      "  (dropout_2): Dropout(p=0.25, inplace=False)\n",
      "  (relu_2): ReLU()\n",
      "  (linear_3): Linear(in_features=500, out_features=800, bias=True)\n",
      "  (dropout_3): Dropout(p=0.25, inplace=False)\n",
      "  (relu_3): ReLU()\n",
      "  (linear_4): Linear(in_features=800, out_features=200, bias=True)\n",
      "  (dropout_4): Dropout(p=0.5, inplace=False)\n",
      "  (relu_4): ReLU()\n",
      "  (linear_5): Linear(in_features=200, out_features=1, bias=True)\n",
      ")\n"
     ]
    }
   ],
   "source": [
    "print(nnet)"
   ]
  },
  {
   "cell_type": "code",
   "execution_count": 36,
   "id": "13f01c3a",
   "metadata": {},
   "outputs": [],
   "source": [
    "criterion = torch.nn.MSELoss(reduction='mean')\n",
    "optimizer = torch.optim.SGD(nnet.parameters(), lr=0.005)"
   ]
  },
  {
   "cell_type": "code",
   "execution_count": 37,
   "id": "e4963790",
   "metadata": {},
   "outputs": [
    {
     "data": {
      "text/plain": [
       "NNet(\n",
       "  (linear_1): Linear(in_features=2, out_features=100, bias=True)\n",
       "  (dropout_1): Dropout(p=0.5, inplace=False)\n",
       "  (relu_1): ReLU()\n",
       "  (linear_2): Linear(in_features=100, out_features=500, bias=True)\n",
       "  (dropout_2): Dropout(p=0.25, inplace=False)\n",
       "  (relu_2): ReLU()\n",
       "  (linear_3): Linear(in_features=500, out_features=800, bias=True)\n",
       "  (dropout_3): Dropout(p=0.25, inplace=False)\n",
       "  (relu_3): ReLU()\n",
       "  (linear_4): Linear(in_features=800, out_features=200, bias=True)\n",
       "  (dropout_4): Dropout(p=0.5, inplace=False)\n",
       "  (relu_4): ReLU()\n",
       "  (linear_5): Linear(in_features=200, out_features=1, bias=True)\n",
       ")"
      ]
     },
     "execution_count": 37,
     "metadata": {},
     "output_type": "execute_result"
    }
   ],
   "source": [
    "nnet.to(device)"
   ]
  },
  {
   "cell_type": "code",
   "execution_count": 44,
   "id": "c9bf2a80",
   "metadata": {},
   "outputs": [
    {
     "name": "stdout",
     "output_type": "stream",
     "text": [
      "Epoch = 0 - loss = 0.00010551634663715958 - mse: 0.04991092532873154\n",
      "Epoch = 1 - loss = 0.00015513532282784582 - mse: 0.0904272124171257\n",
      "Epoch = 2 - loss = 0.00019491899479180574 - mse: 0.15036247670650482\n",
      "Epoch = 3 - loss = 0.00024733020178973675 - mse: 0.1172303855419159\n",
      "Epoch = 4 - loss = 0.00026649103965610267 - mse: 0.11166049540042877\n",
      "Epoch = 5 - loss = 0.00015757846971973776 - mse: 0.06531418114900589\n",
      "Epoch = 6 - loss = 0.00010717794578522444 - mse: 0.04030127078294754\n",
      "Epoch = 7 - loss = 0.00013293750816956162 - mse: 0.13751505315303802\n",
      "Epoch = 8 - loss = 0.00017351566534489393 - mse: 0.06487400084733963\n",
      "Epoch = 9 - loss = 0.0001723101884126663 - mse: 0.046631500124931335\n",
      "Epoch = 10 - loss = 0.00011606304347515107 - mse: 0.07178284972906113\n",
      "Epoch = 11 - loss = 0.00010108633106574416 - mse: 0.04125427454710007\n",
      "Epoch = 12 - loss = 8.943736599758267e-05 - mse: 0.04804334416985512\n",
      "Epoch = 13 - loss = 0.00015040082950145006 - mse: 0.06585805118083954\n",
      "Epoch = 14 - loss = 0.00011553695518523455 - mse: 0.045932769775390625\n",
      "Epoch = 15 - loss = 0.00014056825451552867 - mse: 0.06626344472169876\n",
      "Epoch = 16 - loss = 9.244254557415843e-05 - mse: 0.05849773436784744\n",
      "Epoch = 17 - loss = 0.0001379737867973745 - mse: 0.0612243227660656\n",
      "Epoch = 18 - loss = 0.00010562894213944674 - mse: 0.06439794600009918\n",
      "Epoch = 19 - loss = 0.00010931682586669921 - mse: 0.059453289955854416\n",
      "Epoch = 20 - loss = 0.00014086200296878815 - mse: 0.07327575236558914\n",
      "Epoch = 21 - loss = 0.00018202955182641743 - mse: 0.0987042635679245\n",
      "Epoch = 22 - loss = 0.00019410952646285295 - mse: 0.07288900762796402\n",
      "Epoch = 23 - loss = 0.00016011514142155647 - mse: 0.10700046271085739\n",
      "Epoch = 24 - loss = 0.00022659010533243416 - mse: 0.10685142874717712\n",
      "Epoch = 25 - loss = 0.00021745328046381474 - mse: 0.1826542317867279\n",
      "Epoch = 26 - loss = 0.0003040328547358513 - mse: 0.1451115757226944\n",
      "Epoch = 27 - loss = 0.00040159756317734716 - mse: 0.21322327852249146\n",
      "Epoch = 28 - loss = 0.0004702721070498228 - mse: 0.283414363861084\n",
      "Epoch = 29 - loss = 0.0002951000798493624 - mse: 0.10417353361845016\n",
      "Epoch = 30 - loss = 0.000266267666593194 - mse: 0.14247415959835052\n",
      "Epoch = 31 - loss = 0.00040404188819229603 - mse: 0.13907113671302795\n",
      "Epoch = 32 - loss = 0.0002604988943785429 - mse: 0.1422090083360672\n",
      "Epoch = 33 - loss = 0.000426273413002491 - mse: 0.17574021220207214\n",
      "Epoch = 34 - loss = 0.0004286107234656811 - mse: 0.08803971111774445\n",
      "Epoch = 35 - loss = 0.00025863011740148066 - mse: 0.08499845862388611\n",
      "Epoch = 36 - loss = 0.00015852740872651338 - mse: 0.11395912617444992\n",
      "Epoch = 37 - loss = 0.0001870413743890822 - mse: 0.058746688067913055\n",
      "Epoch = 38 - loss = 0.00014813384180888535 - mse: 0.047390975058078766\n",
      "Epoch = 39 - loss = 9.571589482948183e-05 - mse: 0.042104098945856094\n",
      "Epoch = 40 - loss = 0.0001159344264306128 - mse: 0.04911551624536514\n",
      "Epoch = 41 - loss = 9.763980191200971e-05 - mse: 0.057794392108917236\n",
      "Epoch = 42 - loss = 0.0001450657551176846 - mse: 0.05805819854140282\n",
      "Epoch = 43 - loss = 0.00014592162985354663 - mse: 0.08924155682325363\n",
      "Epoch = 44 - loss = 0.0003630807138979435 - mse: 0.13131298124790192\n",
      "Epoch = 45 - loss = 0.0002054843036457896 - mse: 0.10101679712533951\n",
      "Epoch = 46 - loss = 0.00020887464936822651 - mse: 0.08536256849765778\n",
      "Epoch = 47 - loss = 0.000172188188880682 - mse: 0.0707704946398735\n",
      "Epoch = 48 - loss = 0.0001539807482622564 - mse: 0.10339506715536118\n",
      "Epoch = 49 - loss = 0.00021661049593240024 - mse: 0.06668222695589066\n",
      "Epoch = 50 - loss = 0.00010490694409236311 - mse: 0.042035285383462906\n",
      "Epoch = 51 - loss = 8.703352743759751e-05 - mse: 0.04801312834024429\n",
      "Epoch = 52 - loss = 9.782297536730766e-05 - mse: 0.09354400634765625\n",
      "Epoch = 53 - loss = 0.0001584876598790288 - mse: 0.05178843066096306\n",
      "Epoch = 54 - loss = 9.069151151925325e-05 - mse: 0.05117112770676613\n",
      "Epoch = 55 - loss = 0.00013216949487105013 - mse: 0.0779237374663353\n",
      "Epoch = 56 - loss = 0.0001897946298122406 - mse: 0.0702107846736908\n",
      "Epoch = 57 - loss = 0.0001696087084710598 - mse: 0.11079010367393494\n",
      "Epoch = 58 - loss = 0.0004139474127441645 - mse: 0.135586217045784\n",
      "Epoch = 59 - loss = 0.0004018095228821039 - mse: 0.16980519890785217\n",
      "Epoch = 60 - loss = 0.0002859152369201183 - mse: 0.11788200587034225\n",
      "Epoch = 61 - loss = 0.0002524702707305551 - mse: 0.1324864774942398\n",
      "Epoch = 62 - loss = 0.00045276292506605387 - mse: 0.11496204882860184\n",
      "Epoch = 63 - loss = 0.0004181862752884626 - mse: 0.2635195255279541\n",
      "Epoch = 64 - loss = 0.00034784352872520687 - mse: 0.08460093289613724\n",
      "Epoch = 65 - loss = 0.00017167556378990412 - mse: 0.076844222843647\n",
      "Epoch = 66 - loss = 0.00010163175547495484 - mse: 0.0566917285323143\n",
      "Epoch = 67 - loss = 0.00012482357397675513 - mse: 0.041496243327856064\n",
      "Epoch = 68 - loss = 8.93288436345756e-05 - mse: 0.039670009166002274\n",
      "Epoch = 69 - loss = 9.206306934356689e-05 - mse: 0.059065718203783035\n",
      "Epoch = 70 - loss = 0.00012288219435140492 - mse: 0.06501740962266922\n",
      "Epoch = 71 - loss = 9.090052684769034e-05 - mse: 0.047486599534749985\n",
      "Epoch = 72 - loss = 9.27602886222303e-05 - mse: 0.046825043857097626\n",
      "Epoch = 73 - loss = 9.978449158370495e-05 - mse: 0.0467756912112236\n",
      "Epoch = 74 - loss = 9.830048214644194e-05 - mse: 0.050201416015625\n",
      "Epoch = 75 - loss = 0.0001430229330435395 - mse: 0.07221778482198715\n",
      "Epoch = 76 - loss = 0.0001195210935547948 - mse: 0.04179127514362335\n",
      "Epoch = 77 - loss = 0.00010967263905331492 - mse: 0.06902282685041428\n",
      "Epoch = 78 - loss = 0.0001294705173932016 - mse: 0.040969546884298325\n",
      "Epoch = 79 - loss = 0.00010951084876433015 - mse: 0.04709160327911377\n",
      "Epoch = 80 - loss = 9.893877571448683e-05 - mse: 0.05107536166906357\n",
      "Epoch = 81 - loss = 0.00011037897923961282 - mse: 0.06327944993972778\n",
      "Epoch = 82 - loss = 0.00013010268425568938 - mse: 0.058330003172159195\n",
      "Epoch = 83 - loss = 0.00013526451727375387 - mse: 0.07287601381540298\n",
      "Epoch = 84 - loss = 0.00012949122581630944 - mse: 0.04677535966038704\n",
      "Epoch = 85 - loss = 0.00013078225078061223 - mse: 0.08415228873491287\n",
      "Epoch = 86 - loss = 0.00014798295125365257 - mse: 0.1414322853088379\n",
      "Epoch = 87 - loss = 0.0002613322474062443 - mse: 0.1675223708152771\n",
      "Epoch = 88 - loss = 0.0003636140087619424 - mse: 0.12122403085231781\n",
      "Epoch = 89 - loss = 0.00022339388821274043 - mse: 0.07825799286365509\n",
      "Epoch = 90 - loss = 0.00016462305001914502 - mse: 0.09214349091053009\n",
      "Epoch = 91 - loss = 0.0001893568057566881 - mse: 0.0608057901263237\n",
      "Epoch = 92 - loss = 0.00011895762942731381 - mse: 0.07176375389099121\n",
      "Epoch = 93 - loss = 0.0001742104422301054 - mse: 0.10498888790607452\n",
      "Epoch = 94 - loss = 0.00024331971071660518 - mse: 0.12334206700325012\n",
      "Epoch = 95 - loss = 0.00030970113631337883 - mse: 0.19626954197883606\n",
      "Epoch = 96 - loss = 0.00048799660615622995 - mse: 0.2154952436685562\n",
      "Epoch = 97 - loss = 0.0003419539239257574 - mse: 0.2122698575258255\n",
      "Epoch = 98 - loss = 0.00028303672559559345 - mse: 0.0872894823551178\n",
      "Epoch = 99 - loss = 0.00011879140883684159 - mse: 0.05706540495157242\n"
     ]
    }
   ],
   "source": [
    "for epoch in range(100):\n",
    "    running_loss = 0\n",
    "    for i, data in enumerate(training_dataloader):\n",
    "        # data\n",
    "        x, y = data\n",
    "        x = x.to(device).float()\n",
    "        y = y.to(device).float().reshape(-1,1)\n",
    "        \n",
    "        # set gradient to zero\n",
    "        optimizer.zero_grad()\n",
    "\n",
    "        #forward\n",
    "        y_hat = nnet(x).reshape(-1,1)\n",
    "\n",
    "        #loss\n",
    "        loss = criterion(y_hat, y)\n",
    "\n",
    "        #backward\n",
    "        loss.backward()\n",
    "\n",
    "        #update of parameters\n",
    "        optimizer.step()\n",
    "\n",
    "        #compute metrics and statistics\n",
    "        running_loss += loss.item()\n",
    "    \n",
    "    nnet.eval()\n",
    "    with torch.no_grad():\n",
    "        nnet_test_scores = []\n",
    "        truth = []\n",
    "        \n",
    "        for i, data in enumerate(test_dataloader):\n",
    "            #batch\n",
    "            x, y = data\n",
    "            x = x.to(device).float()\n",
    "            y = y.to(device).float().reshape(-1,1)\n",
    "        \n",
    "            # forward \n",
    "            y_hat = nnet(x)\n",
    "            #y_hat = torch.abs(y_hat)\n",
    "        \n",
    "            # accumulate data\n",
    "            truth = list(y.cpu().detach().numpy()) \n",
    "            nnet_test_scores = list(y_hat.cpu().detach().numpy())\n",
    "            \n",
    "        mse = metrics.mean_squared_error(truth, nnet_test_scores)\n",
    "        \n",
    "    print(f\"Epoch = {epoch} - loss = {running_loss / len(training_set)} - mse: {mse}\")"
   ]
  },
  {
   "cell_type": "markdown",
   "id": "aa4ef90f",
   "metadata": {},
   "source": [
    "<p style='text-align: justify;'>\n",
    "$f.$ Para el punto (e), ¿qué función de activación seleccionaste y por qué? Para la función que hayas seleccionado, explica sus características, su forward y su backward.\n",
    "<p>"
   ]
  },
  {
   "cell_type": "markdown",
   "id": "04b8ba3e",
   "metadata": {},
   "source": [
    "Para el punto e seleccione funciones de activacion tipo relu, su objetivo es aportar alinealidad a la red neuronal, esta posee ventajas a comparacion de la sigmoid evitando la posibilidad de que haya Vanishing Gradients.\n",
    "\n",
    "Forward:\n",
    "$ f(x) =\n",
    "\\begin{cases}\n",
    "\\hphantom{-}x &,\\, \\text{if }x\\geq 0 ,\\\\\n",
    "\\hphantom{-}0 &,\\, \\text{if }x<0\n",
    "\\end{cases}$\n",
    "\n",
    "Backward:\n",
    "$ f'(x) =\n",
    "\\begin{cases}\n",
    "\\hphantom{-}1 &,\\, \\text{if }x\\geq 0 ,\\\\\n",
    "\\hphantom{-}0 &,\\, \\text{if }x<0\n",
    "\\end{cases}$"
   ]
  },
  {
   "cell_type": "code",
   "execution_count": null,
   "id": "32e2e142",
   "metadata": {},
   "outputs": [],
   "source": []
  }
 ],
 "metadata": {
  "kernelspec": {
   "display_name": "Python 3",
   "language": "python",
   "name": "python3"
  },
  "language_info": {
   "codemirror_mode": {
    "name": "ipython",
    "version": 3
   },
   "file_extension": ".py",
   "mimetype": "text/x-python",
   "name": "python",
   "nbconvert_exporter": "python",
   "pygments_lexer": "ipython3",
   "version": "3.8.8"
  }
 },
 "nbformat": 4,
 "nbformat_minor": 5
}
