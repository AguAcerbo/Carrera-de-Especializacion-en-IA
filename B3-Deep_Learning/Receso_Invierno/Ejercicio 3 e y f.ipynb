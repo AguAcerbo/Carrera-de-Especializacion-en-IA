{
 "cells": [
  {
   "cell_type": "code",
   "execution_count": 1,
   "id": "8f087fa4",
   "metadata": {},
   "outputs": [],
   "source": [
    "import numpy as np\n",
    "from matplotlib import pyplot as plt\n",
    "\n",
    "import torch # Libreria\n",
    "from torch.utils.data import Dataset # Clase u objeto que va a contener la informacion que vamos a utilizar para entrenar y evaluar nuestro algoritmo\n",
    "from torch.utils.data import DataLoader"
   ]
  },
  {
   "cell_type": "markdown",
   "id": "343f734a",
   "metadata": {},
   "source": [
    "<p style='text-align: justify;'>\n",
    "$e.$ En los puntos (b), (c) y (d) utilizaste Python para hacer la implementación y el modelo ya estaba establecido. En este punto se pide hacer una implementación con Deep Learning en PyTorch.\n",
    "\n",
    "Las redes neuronales, si tienen la suficiente cantidad de layers y se están utilizando las funciones de activación adecuadas, son capaces de representar cualquier función para mapear la entrada a la salida. Proponer una arquitectura, agregar regularización mediante la técnica dropout, entrenar la red neuronal, buscar los mejores hiper parámetros y presentar el ECM sobre el dataset de testing.\n",
    "    \n",
    "Comparar los resultados obtenidos en (e) con los puntos anteriores.\n",
    "<p>"
   ]
  },
  {
   "cell_type": "code",
   "execution_count": 2,
   "id": "fb4f643c",
   "metadata": {},
   "outputs": [
    {
     "data": {
      "text/plain": [
       "<matplotlib.collections.PathCollection at 0x1cb2bd14760>"
      ]
     },
     "execution_count": 2,
     "metadata": {},
     "output_type": "execute_result"
    },
    {
     "data": {
      "image/png": "[encoded data removed]",
      "text/plain": [
       "<Figure size 432x288 with 1 Axes>"
      ]
     },
     "metadata": {
      "needs_background": "light"
     },
     "output_type": "display_data"
    }
   ],
   "source": [
    "x = np.arange(-3, 7, 0.001)\n",
    "N = np.random.normal(0, 0.2, 10000)\n",
    "y = (x-2)**2+3+N\n",
    "fig, ax = plt.subplots(1,1)\n",
    "ax.scatter(x, y)"
   ]
  },
  {
   "cell_type": "code",
   "execution_count": 3,
   "id": "4b676e27",
   "metadata": {},
   "outputs": [
    {
     "name": "stdout",
     "output_type": "stream",
     "text": [
      "(8000, 2)\n",
      "(2000, 2)\n"
     ]
    }
   ],
   "source": [
    "x_train = np.zeros((int(0.8 *len(x)),2))\n",
    "x_test = np.zeros((int(0.2*len(x)),2))\n",
    "\n",
    "print(x_train.shape)\n",
    "print(x_test.shape)"
   ]
  },
  {
   "cell_type": "code",
   "execution_count": 4,
   "id": "b84d5a57",
   "metadata": {},
   "outputs": [],
   "source": [
    "idx = np.random.permutation(np.arange(0, 10000))\n",
    "\n",
    "x_train[:,0] = x[idx[0:int(0.8*10000)]]\n",
    "x_test[:,0] = x[idx[int(0.8*10000):]]\n",
    "\n",
    "x_train[:,1] = x[idx[0:int(0.8*10000)]]**2\n",
    "x_test[:,1] = x[idx[int(0.8*10000):]]**2\n",
    "\n",
    "N_train = N[idx[0:int(0.8*10000)]]\n",
    "N_test = N[idx[int(0.8*10000):]]\n",
    "\n",
    "y_train = (x_train[:,0] - 2)**2 + 3 + N_train\n",
    "y_test = (x_test[:,0] - 2)**2 + 3 + N_test"
   ]
  },
  {
   "cell_type": "code",
   "execution_count": 5,
   "id": "21925988",
   "metadata": {},
   "outputs": [
    {
     "data": {
      "text/plain": [
       "array([[ 3.426   , 11.737476],\n",
       "       [-1.605   ,  2.576025],\n",
       "       [ 2.991   ,  8.946081],\n",
       "       [-2.106   ,  4.435236],\n",
       "       [ 5.872   , 34.480384]])"
      ]
     },
     "execution_count": 5,
     "metadata": {},
     "output_type": "execute_result"
    }
   ],
   "source": [
    "x_train[0:5,:]"
   ]
  },
  {
   "cell_type": "code",
   "execution_count": 6,
   "id": "1183e6a0",
   "metadata": {},
   "outputs": [
    {
     "data": {
      "text/plain": [
       "array([[ 0.17017504, -0.00331511],\n",
       "       [-0.43376074, -0.05179455],\n",
       "       [ 0.11795638, -0.01808627],\n",
       "       [-0.49390223, -0.0419562 ],\n",
       "       [ 0.46379994,  0.11703302]])"
      ]
     },
     "execution_count": 6,
     "metadata": {},
     "output_type": "execute_result"
    }
   ],
   "source": [
    "x_train_mean = x_train.mean(axis=0)\n",
    "x_train_var = x_train.var(axis=0)\n",
    "\n",
    "x_train_norm = x_train.copy()\n",
    "x_train_norm = (x_train_norm-x_train_mean)/x_train_var\n",
    "x_train_norm[:5,:]"
   ]
  },
  {
   "cell_type": "code",
   "execution_count": 7,
   "id": "d9806985",
   "metadata": {},
   "outputs": [
    {
     "data": {
      "text/plain": [
       "array([[ 0.38229082,  0.07727594],\n",
       "       [ 0.41002073,  0.09025392],\n",
       "       [ 0.36920614,  0.07134824],\n",
       "       [-0.35429235, -0.06072042],\n",
       "       [-0.25153563, -0.06538599]])"
      ]
     },
     "execution_count": 7,
     "metadata": {},
     "output_type": "execute_result"
    }
   ],
   "source": [
    "x_test_mean = x_test.mean(axis=0)\n",
    "x_test_var = x_test.var(axis=0)\n",
    "\n",
    "x_test_norm = x_test.copy()\n",
    "x_test_norm = (x_test_norm-x_train_mean)/x_train_var\n",
    "x_test_norm[:5,:]"
   ]
  },
  {
   "cell_type": "code",
   "execution_count": 8,
   "id": "52c6b938",
   "metadata": {},
   "outputs": [],
   "source": [
    "class CustomDataset(Dataset):\n",
    "    def __init__(self, x, y):\n",
    "        super().__init__()\n",
    "        self.x = x\n",
    "        self.y = y\n",
    "\n",
    "    def __len__(self):\n",
    "        return self.x.shape[0]\n",
    "  \n",
    "    def __getitem__(self, idx):\n",
    "        return self.x[idx,:], self.y[idx]"
   ]
  },
  {
   "cell_type": "code",
   "execution_count": 9,
   "id": "8e86ba2f",
   "metadata": {},
   "outputs": [],
   "source": [
    "training_set = CustomDataset(x_train_norm, y_train)"
   ]
  },
  {
   "cell_type": "code",
   "execution_count": 10,
   "id": "ff77d816",
   "metadata": {},
   "outputs": [
    {
     "data": {
      "text/plain": [
       "8000"
      ]
     },
     "execution_count": 10,
     "metadata": {},
     "output_type": "execute_result"
    }
   ],
   "source": [
    "training_set.__len__()"
   ]
  },
  {
   "cell_type": "code",
   "execution_count": 11,
   "id": "766b5768",
   "metadata": {},
   "outputs": [
    {
     "data": {
      "text/plain": [
       "(array([ 0.17017504, -0.00331511]), 5.271288938452906)"
      ]
     },
     "execution_count": 11,
     "metadata": {},
     "output_type": "execute_result"
    }
   ],
   "source": [
    "training_set.__getitem__(0)"
   ]
  },
  {
   "cell_type": "code",
   "execution_count": 12,
   "id": "c2a3b290",
   "metadata": {},
   "outputs": [],
   "source": [
    "test_set = CustomDataset(x_test_norm, y_test)"
   ]
  },
  {
   "cell_type": "code",
   "execution_count": 13,
   "id": "9dd0a9c7",
   "metadata": {},
   "outputs": [
    {
     "data": {
      "text/plain": [
       "2000"
      ]
     },
     "execution_count": 13,
     "metadata": {},
     "output_type": "execute_result"
    }
   ],
   "source": [
    "test_set.__len__()"
   ]
  },
  {
   "cell_type": "code",
   "execution_count": 14,
   "id": "6b16e063",
   "metadata": {},
   "outputs": [
    {
     "data": {
      "text/plain": [
       "(array([0.38229082, 0.07727594]), 13.29933197551691)"
      ]
     },
     "execution_count": 14,
     "metadata": {},
     "output_type": "execute_result"
    }
   ],
   "source": [
    "test_set.__getitem__(0)"
   ]
  },
  {
   "cell_type": "code",
   "execution_count": 15,
   "id": "afdea2c5",
   "metadata": {},
   "outputs": [],
   "source": [
    "training_dataloader = DataLoader(training_set, batch_size = 512, shuffle=True)\n",
    "test_dataloader = DataLoader(test_set, batch_size = 256, shuffle=True)"
   ]
  },
  {
   "cell_type": "code",
   "execution_count": 16,
   "id": "44349952",
   "metadata": {},
   "outputs": [],
   "source": [
    "# Definimos el modelo\n",
    "class NNet(torch.nn.Module):\n",
    "    def __init__(self):\n",
    "        super().__init__()\n",
    "        self.linear_1 = torch.nn.Linear(in_features = 2, out_features = 100, bias = True)\n",
    "        self.relu_1 = torch.nn.ReLU()\n",
    "        self.linear_2 = torch.nn.Linear(in_features = 100, out_features = 500, bias = True)\n",
    "        self.relu_2 = torch.nn.ReLU()\n",
    "        self.linear_3 = torch.nn.Linear(in_features = 500, out_features = 1000, bias = True)\n",
    "        self.relu_3 = torch.nn.ReLU()\n",
    "        self.linear_4 = torch.nn.Linear(in_features = 1000, out_features = 800, bias = True)\n",
    "        self.relu_4 = torch.nn.ReLU()\n",
    "        self.linear_5 = torch.nn.Linear(in_features = 800, out_features = 200, bias = True)\n",
    "        self.relu_5 = torch.nn.ReLU()\n",
    "        self.linear_6 = torch.nn.Linear(in_features = 200, out_features = 1, bias = True)\n",
    "        \n",
    "    def forward(self, x):\n",
    "                                    \n",
    "        z1 = self.linear_1(x)\n",
    "        a1 = self.relu_1(z1)\n",
    "        z2 = self.linear_2(a1)\n",
    "        a2 = self.relu_2(z2)\n",
    "        z3 = self.linear_3(a2)\n",
    "        a3 = self.relu_3(z3)\n",
    "        z4 = self.linear_4(a3)\n",
    "        a4 = self.relu_4(z4)\n",
    "        z5 = self.linear_5(a4)\n",
    "        a5 = self.relu_5(z5)\n",
    "        y = self.linear_6(a5)\n",
    "\n",
    "        return y"
   ]
  },
  {
   "cell_type": "code",
   "execution_count": 17,
   "id": "14debd17",
   "metadata": {},
   "outputs": [],
   "source": [
    "nnet = NNet()"
   ]
  },
  {
   "cell_type": "code",
   "execution_count": 18,
   "id": "aca7df8b",
   "metadata": {},
   "outputs": [
    {
     "name": "stdout",
     "output_type": "stream",
     "text": [
      "NNet(\n",
      "  (linear_1): Linear(in_features=2, out_features=100, bias=True)\n",
      "  (relu_1): ReLU()\n",
      "  (linear_2): Linear(in_features=100, out_features=500, bias=True)\n",
      "  (relu_2): ReLU()\n",
      "  (linear_3): Linear(in_features=500, out_features=1000, bias=True)\n",
      "  (relu_3): ReLU()\n",
      "  (linear_4): Linear(in_features=1000, out_features=800, bias=True)\n",
      "  (relu_4): ReLU()\n",
      "  (linear_5): Linear(in_features=800, out_features=200, bias=True)\n",
      "  (relu_5): ReLU()\n",
      "  (linear_6): Linear(in_features=200, out_features=1, bias=True)\n",
      ")\n"
     ]
    }
   ],
   "source": [
    "print(nnet)"
   ]
  },
  {
   "cell_type": "code",
   "execution_count": 19,
   "id": "13f01c3a",
   "metadata": {},
   "outputs": [],
   "source": [
    "criterion = torch.nn.MSELoss(reduction='mean')\n",
    "optimizer = torch.optim.SGD(nnet.parameters(), lr=0.005)"
   ]
  },
  {
   "cell_type": "code",
   "execution_count": 20,
   "id": "df7a5f95",
   "metadata": {},
   "outputs": [
    {
     "name": "stdout",
     "output_type": "stream",
     "text": [
      "False\n"
     ]
    }
   ],
   "source": [
    "device = \"\"\n",
    "if torch.cuda.is_available():\n",
    "    device = \"cuda:0\"\n",
    "else:\n",
    "    device = \"cpu\"\n",
    "\n",
    "print(torch.cuda.is_available())"
   ]
  },
  {
   "cell_type": "code",
   "execution_count": 21,
   "id": "e4963790",
   "metadata": {},
   "outputs": [
    {
     "data": {
      "text/plain": [
       "NNet(\n",
       "  (linear_1): Linear(in_features=2, out_features=100, bias=True)\n",
       "  (relu_1): ReLU()\n",
       "  (linear_2): Linear(in_features=100, out_features=500, bias=True)\n",
       "  (relu_2): ReLU()\n",
       "  (linear_3): Linear(in_features=500, out_features=1000, bias=True)\n",
       "  (relu_3): ReLU()\n",
       "  (linear_4): Linear(in_features=1000, out_features=800, bias=True)\n",
       "  (relu_4): ReLU()\n",
       "  (linear_5): Linear(in_features=800, out_features=200, bias=True)\n",
       "  (relu_5): ReLU()\n",
       "  (linear_6): Linear(in_features=200, out_features=1, bias=True)\n",
       ")"
      ]
     },
     "execution_count": 21,
     "metadata": {},
     "output_type": "execute_result"
    }
   ],
   "source": [
    "nnet.to(device)"
   ]
  },
  {
   "cell_type": "code",
   "execution_count": 22,
   "id": "c9bf2a80",
   "metadata": {},
   "outputs": [
    {
     "name": "stdout",
     "output_type": "stream",
     "text": [
      "Epoch = 0 - loss = 0.2515618467330933\n",
      "Epoch = 1 - loss = 0.12517170238494874\n",
      "Epoch = 2 - loss = 0.0892711775302887\n",
      "Epoch = 3 - loss = 0.058431793570518496\n",
      "Epoch = 4 - loss = 0.04231310772895813\n",
      "Epoch = 5 - loss = 0.04034331148862839\n",
      "Epoch = 6 - loss = 0.034430802136659625\n",
      "Epoch = 7 - loss = 0.01674763535708189\n",
      "Epoch = 8 - loss = 0.024672144293785093\n",
      "Epoch = 9 - loss = 0.015015451215207577\n",
      "Epoch = 10 - loss = 0.011928325146436691\n",
      "Epoch = 11 - loss = 0.027557708382606506\n",
      "Epoch = 12 - loss = 0.020873596042394638\n",
      "Epoch = 13 - loss = 0.023460398346185685\n",
      "Epoch = 14 - loss = 0.01990195333957672\n",
      "Epoch = 15 - loss = 0.017733490347862244\n",
      "Epoch = 16 - loss = 0.01576765687763691\n",
      "Epoch = 17 - loss = 0.01973364733159542\n",
      "Epoch = 18 - loss = 0.0183807692527771\n",
      "Epoch = 19 - loss = 0.017122150510549546\n",
      "Epoch = 20 - loss = 0.017158676385879517\n",
      "Epoch = 21 - loss = 0.018633939027786255\n",
      "Epoch = 22 - loss = 0.01656814455986023\n",
      "Epoch = 23 - loss = 0.014465974673628807\n",
      "Epoch = 24 - loss = 0.01359523969888687\n",
      "Epoch = 25 - loss = 0.012948639810085297\n",
      "Epoch = 26 - loss = 0.013824119389057159\n",
      "Epoch = 27 - loss = 0.014092918395996093\n",
      "Epoch = 28 - loss = 0.01360393962264061\n",
      "Epoch = 29 - loss = 0.01246275919675827\n",
      "Epoch = 30 - loss = 0.011575356155633926\n",
      "Epoch = 31 - loss = 0.014011835992336272\n",
      "Epoch = 32 - loss = 0.010677667498588563\n",
      "Epoch = 33 - loss = 0.011438804984092712\n",
      "Epoch = 34 - loss = 0.009670706361532212\n",
      "Epoch = 35 - loss = 0.00911202409863472\n",
      "Epoch = 36 - loss = 0.010119654148817062\n",
      "Epoch = 37 - loss = 0.012346345692873002\n",
      "Epoch = 38 - loss = 0.009508549809455872\n",
      "Epoch = 39 - loss = 0.010479633092880249\n",
      "Epoch = 40 - loss = 0.007314064353704452\n",
      "Epoch = 41 - loss = 0.008762434631586075\n",
      "Epoch = 42 - loss = 0.00814640474319458\n",
      "Epoch = 43 - loss = 0.007429996430873871\n",
      "Epoch = 44 - loss = 0.007890248239040375\n",
      "Epoch = 45 - loss = 0.00818533156812191\n",
      "Epoch = 46 - loss = 0.005538319453597069\n",
      "Epoch = 47 - loss = 0.006483926773071289\n",
      "Epoch = 48 - loss = 0.005220487177371978\n",
      "Epoch = 49 - loss = 0.0077852864563465116\n",
      "Epoch = 50 - loss = 0.007322371661663055\n",
      "Epoch = 51 - loss = 0.006126218780875206\n",
      "Epoch = 52 - loss = 0.0066738582402467725\n",
      "Epoch = 53 - loss = 0.0046816420406103135\n",
      "Epoch = 54 - loss = 0.005244595304131508\n",
      "Epoch = 55 - loss = 0.004356549203395844\n",
      "Epoch = 56 - loss = 0.005781868010759353\n",
      "Epoch = 57 - loss = 0.003828425265848637\n",
      "Epoch = 58 - loss = 0.004589288383722305\n",
      "Epoch = 59 - loss = 0.0038532214611768723\n",
      "Epoch = 60 - loss = 0.003279892697930336\n",
      "Epoch = 61 - loss = 0.00478299018740654\n",
      "Epoch = 62 - loss = 0.0039816263020038605\n",
      "Epoch = 63 - loss = 0.0024985052794218063\n",
      "Epoch = 64 - loss = 0.0038200482949614523\n",
      "Epoch = 65 - loss = 0.0033252533078193666\n",
      "Epoch = 66 - loss = 0.002506798230111599\n",
      "Epoch = 67 - loss = 0.0036901362612843515\n",
      "Epoch = 68 - loss = 0.003192598268389702\n",
      "Epoch = 69 - loss = 0.0026744349375367165\n",
      "Epoch = 70 - loss = 0.003493144452571869\n",
      "Epoch = 71 - loss = 0.0011170080825686456\n",
      "Epoch = 72 - loss = 0.0016458972990512847\n",
      "Epoch = 73 - loss = 0.002750700883567333\n",
      "Epoch = 74 - loss = 0.00212028369307518\n",
      "Epoch = 75 - loss = 0.002159977287054062\n",
      "Epoch = 76 - loss = 0.0026956227198243143\n",
      "Epoch = 77 - loss = 0.0027121981978416444\n",
      "Epoch = 78 - loss = 0.0024288041070103647\n",
      "Epoch = 79 - loss = 0.001733410954475403\n",
      "Epoch = 80 - loss = 0.0022175743244588373\n",
      "Epoch = 81 - loss = 0.002524011366069317\n",
      "Epoch = 82 - loss = 0.0019291571155190467\n",
      "Epoch = 83 - loss = 0.0015839193910360337\n",
      "Epoch = 84 - loss = 0.0023575347810983658\n",
      "Epoch = 85 - loss = 0.0010420929789543153\n",
      "Epoch = 86 - loss = 0.0010581203699111938\n",
      "Epoch = 87 - loss = 0.0009356399029493332\n",
      "Epoch = 88 - loss = 0.0020284183174371717\n",
      "Epoch = 89 - loss = 0.0012833725996315478\n",
      "Epoch = 90 - loss = 0.0019759675562381744\n",
      "Epoch = 91 - loss = 0.0015352166518568992\n",
      "Epoch = 92 - loss = 0.0018748266659677029\n",
      "Epoch = 93 - loss = 0.0006830795165151357\n",
      "Epoch = 94 - loss = 0.001360608745366335\n",
      "Epoch = 95 - loss = 0.00016685376921668648\n",
      "Epoch = 96 - loss = 0.0001938661872409284\n",
      "Epoch = 97 - loss = 0.0005530357677489519\n",
      "Epoch = 98 - loss = 0.0015020222701132297\n",
      "Epoch = 99 - loss = 0.0008098742514848709\n"
     ]
    }
   ],
   "source": [
    "for epoch in range(100):\n",
    "    running_loss = 0\n",
    "    for i, data in enumerate(training_dataloader):\n",
    "        # data\n",
    "        x, y = data\n",
    "        x = x.to(device).float()\n",
    "        y = y.to(device).float().reshape(-1,1)\n",
    "        \n",
    "        # set gradient to zero\n",
    "        optimizer.zero_grad()\n",
    "\n",
    "        #forward\n",
    "        y_hat = nnet(x).reshape(-1,1)\n",
    "\n",
    "        #loss\n",
    "        loss = criterion(y_hat, y)\n",
    "\n",
    "        #backward\n",
    "        loss.backward()\n",
    "\n",
    "        #update of parameters\n",
    "        optimizer.step()\n",
    "\n",
    "        #compute metrics and statistics\n",
    "        running_loss += loss.item()\n",
    "  \n",
    "    print(f\"Epoch = {epoch} - loss = {running_loss / len(training_set)}\")"
   ]
  },
  {
   "cell_type": "markdown",
   "id": "aa4ef90f",
   "metadata": {},
   "source": [
    "<p style='text-align: justify;'>\n",
    "$f.$ Para el punto (e), ¿qué función de activación seleccionaste y por qué? Para la función que hayas seleccionado, explica sus características, su forward y su backward.\n",
    "<p>"
   ]
  }
 ],
 "metadata": {
  "kernelspec": {
   "display_name": "Python 3",
   "language": "python",
   "name": "python3"
  },
  "language_info": {
   "codemirror_mode": {
    "name": "ipython",
    "version": 3
   },
   "file_extension": ".py",
   "mimetype": "text/x-python",
   "name": "python",
   "nbconvert_exporter": "python",
   "pygments_lexer": "ipython3",
   "version": "3.8.8"
  }
 },
 "nbformat": 4,
 "nbformat_minor": 5
}
