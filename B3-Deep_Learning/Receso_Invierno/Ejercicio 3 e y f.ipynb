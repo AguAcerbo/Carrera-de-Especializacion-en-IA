{
 "cells": [
  {
   "cell_type": "code",
   "execution_count": 1,
   "id": "8f087fa4",
   "metadata": {},
   "outputs": [],
   "source": [
    "import numpy as np\n",
    "from matplotlib import pyplot as plt\n",
    "\n",
    "import torch # Libreria\n",
    "from torch.utils.data import Dataset # Clase u objeto que va a contener la informacion que vamos a utilizar para entrenar y evaluar nuestro algoritmo\n",
    "from torch.utils.data import DataLoader"
   ]
  },
  {
   "cell_type": "markdown",
   "id": "343f734a",
   "metadata": {},
   "source": [
    "<p style='text-align: justify;'>\n",
    "$e.$ En los puntos (b), (c) y (d) utilizaste Python para hacer la implementación y el modelo ya estaba establecido. En este punto se pide hacer una implementación con Deep Learning en PyTorch.\n",
    "\n",
    "Las redes neuronales, si tienen la suficiente cantidad de layers y se están utilizando las funciones de activación adecuadas, son capaces de representar cualquier función para mapear la entrada a la salida. Proponer una arquitectura, agregar regularización mediante la técnica dropout, entrenar la red neuronal, buscar los mejores hiper parámetros y presentar el ECM sobre el dataset de testing.\n",
    "    \n",
    "Comparar los resultados obtenidos en (e) con los puntos anteriores.\n",
    "<p>"
   ]
  },
  {
   "cell_type": "code",
   "execution_count": 2,
   "id": "fb4f643c",
   "metadata": {},
   "outputs": [
    {
     "data": {
      "text/plain": [
       "<matplotlib.collections.PathCollection at 0x1e9762a7730>"
      ]
     },
     "execution_count": 2,
     "metadata": {},
     "output_type": "execute_result"
    },
    {
     "data": {
      "image/png": "[encoded data removed]",
      "text/plain": [
       "<Figure size 432x288 with 1 Axes>"
      ]
     },
     "metadata": {
      "needs_background": "light"
     },
     "output_type": "display_data"
    }
   ],
   "source": [
    "x = np.arange(-3, 7, 0.001)\n",
    "N = np.random.normal(0, 0.2, 10000)\n",
    "y = (x-2)**2+3+N\n",
    "fig, ax = plt.subplots(1,1)\n",
    "ax.scatter(x, y)"
   ]
  },
  {
   "cell_type": "code",
   "execution_count": 3,
   "id": "4b676e27",
   "metadata": {},
   "outputs": [
    {
     "name": "stdout",
     "output_type": "stream",
     "text": [
      "(8000, 2)\n",
      "(2000, 2)\n"
     ]
    }
   ],
   "source": [
    "x_train = np.zeros((int(0.8 *len(x)),2))\n",
    "x_test = np.zeros((int(0.2*len(x)),2))\n",
    "\n",
    "print(x_train.shape)\n",
    "print(x_test.shape)"
   ]
  },
  {
   "cell_type": "code",
   "execution_count": 4,
   "id": "b84d5a57",
   "metadata": {},
   "outputs": [],
   "source": [
    "idx = np.random.permutation(np.arange(0, 10000))\n",
    "\n",
    "x_train[:,0] = x[idx[0:int(0.8*10000)]]\n",
    "x_test[:,0] = x[idx[int(0.8*10000):]]\n",
    "\n",
    "x_train[:,1] = x[idx[0:int(0.8*10000)]]**2\n",
    "x_test[:,1] = x[idx[int(0.8*10000):]]**2\n",
    "\n",
    "N_train = N[idx[0:int(0.8*10000)]]\n",
    "N_test = N[idx[int(0.8*10000):]]\n",
    "\n",
    "y_train = (x_train[:,0] - 2)**2 + 3 + N_train\n",
    "y_test = (x_test[:,0] - 2)**2 + 3 + N_test"
   ]
  },
  {
   "cell_type": "code",
   "execution_count": 5,
   "id": "21925988",
   "metadata": {},
   "outputs": [
    {
     "data": {
      "text/plain": [
       "array([[-2.017   ,  4.068289],\n",
       "       [ 0.369   ,  0.136161],\n",
       "       [-2.037   ,  4.149369],\n",
       "       [ 2.448   ,  5.992704],\n",
       "       [-2.737   ,  7.491169]])"
      ]
     },
     "execution_count": 5,
     "metadata": {},
     "output_type": "execute_result"
    }
   ],
   "source": [
    "x_train[0:5,:]"
   ]
  },
  {
   "cell_type": "code",
   "execution_count": 6,
   "id": "1183e6a0",
   "metadata": {},
   "outputs": [
    {
     "data": {
      "text/plain": [
       "array([[-0.48048041, -0.04356392],\n",
       "       [-0.19468502, -0.06430785],\n",
       "       [-0.48287602, -0.04313618],\n",
       "       [ 0.05433787, -0.03341168],\n",
       "       [-0.56672211, -0.02550653]])"
      ]
     },
     "execution_count": 6,
     "metadata": {},
     "output_type": "execute_result"
    }
   ],
   "source": [
    "x_train_mean = x_train.mean(axis=0)\n",
    "x_train_var = x_train.var(axis=0)\n",
    "\n",
    "x_train_norm = x_train.copy()\n",
    "x_train_norm = (x_train_norm-x_train_mean)/x_train_var\n",
    "x_train_norm[:5,:]"
   ]
  },
  {
   "cell_type": "code",
   "execution_count": 7,
   "id": "d9806985",
   "metadata": {},
   "outputs": [
    {
     "data": {
      "text/plain": [
       "array([[-0.12820705, -0.06052207],\n",
       "       [-0.13659166, -0.06117866],\n",
       "       [-0.4118464 , -0.05402604],\n",
       "       [-0.40789365, -0.05452307],\n",
       "       [ 0.03601151, -0.03723999]])"
      ]
     },
     "execution_count": 7,
     "metadata": {},
     "output_type": "execute_result"
    }
   ],
   "source": [
    "x_test_mean = x_test.mean(axis=0)\n",
    "x_test_var = x_test.var(axis=0)\n",
    "\n",
    "x_test_norm = x_test.copy()\n",
    "x_test_norm = (x_test_norm-x_train_mean)/x_train_var\n",
    "x_test_norm[:5,:]"
   ]
  },
  {
   "cell_type": "code",
   "execution_count": 8,
   "id": "52c6b938",
   "metadata": {},
   "outputs": [],
   "source": [
    "class CustomDataset(Dataset):\n",
    "    def __init__(self, x, y):\n",
    "        super().__init__()\n",
    "        self.x = x\n",
    "        self.y = y\n",
    "\n",
    "    def __len__(self):\n",
    "        return self.x.shape[0]\n",
    "  \n",
    "    def __getitem__(self, idx):\n",
    "        return self.x[idx,:], self.y[idx]"
   ]
  },
  {
   "cell_type": "code",
   "execution_count": 9,
   "id": "8e86ba2f",
   "metadata": {},
   "outputs": [],
   "source": [
    "training_set = CustomDataset(x_train_norm, y_train)"
   ]
  },
  {
   "cell_type": "code",
   "execution_count": 10,
   "id": "ff77d816",
   "metadata": {},
   "outputs": [
    {
     "data": {
      "text/plain": [
       "8000"
      ]
     },
     "execution_count": 10,
     "metadata": {},
     "output_type": "execute_result"
    }
   ],
   "source": [
    "training_set.__len__()"
   ]
  },
  {
   "cell_type": "code",
   "execution_count": 11,
   "id": "766b5768",
   "metadata": {},
   "outputs": [
    {
     "data": {
      "text/plain": [
       "(array([-0.48048041, -0.04356392]), 19.083464270666134)"
      ]
     },
     "execution_count": 11,
     "metadata": {},
     "output_type": "execute_result"
    }
   ],
   "source": [
    "training_set.__getitem__(0)"
   ]
  },
  {
   "cell_type": "code",
   "execution_count": 12,
   "id": "c2a3b290",
   "metadata": {},
   "outputs": [],
   "source": [
    "test_set = CustomDataset(x_test_norm, y_test)"
   ]
  },
  {
   "cell_type": "code",
   "execution_count": 13,
   "id": "9dd0a9c7",
   "metadata": {},
   "outputs": [
    {
     "data": {
      "text/plain": [
       "2000"
      ]
     },
     "execution_count": 13,
     "metadata": {},
     "output_type": "execute_result"
    }
   ],
   "source": [
    "test_set.__len__()"
   ]
  },
  {
   "cell_type": "code",
   "execution_count": 14,
   "id": "6b16e063",
   "metadata": {},
   "outputs": [
    {
     "data": {
      "text/plain": [
       "(array([-0.12820705, -0.06052207]), 4.193147925342641)"
      ]
     },
     "execution_count": 14,
     "metadata": {},
     "output_type": "execute_result"
    }
   ],
   "source": [
    "test_set.__getitem__(0)"
   ]
  },
  {
   "cell_type": "code",
   "execution_count": 15,
   "id": "afdea2c5",
   "metadata": {},
   "outputs": [],
   "source": [
    "training_dataloader = DataLoader(training_set, batch_size = 512, shuffle=True)\n",
    "test_dataloader = DataLoader(test_set, batch_size = 256, shuffle=True)"
   ]
  },
  {
   "cell_type": "code",
   "execution_count": 16,
   "id": "44349952",
   "metadata": {},
   "outputs": [],
   "source": [
    "# Definimos el modelo\n",
    "class NNet(torch.nn.Module):\n",
    "    def __init__(self):\n",
    "        super().__init__()\n",
    "        self.linear_1 = torch.nn.Linear(in_features = 2, out_features = 100, bias = True)\n",
    "        self.relu_1 = torch.nn.ReLU()\n",
    "        self.linear_2 = torch.nn.Linear(in_features = 100, out_features = 500, bias = True)\n",
    "        self.relu_2 = torch.nn.ReLU()\n",
    "        self.linear_3 = torch.nn.Linear(in_features = 500, out_features = 1000, bias = True)\n",
    "        self.relu_3 = torch.nn.ReLU()\n",
    "        self.linear_4 = torch.nn.Linear(in_features = 1000, out_features = 800, bias = True)\n",
    "        self.relu_4 = torch.nn.ReLU()\n",
    "        self.linear_5 = torch.nn.Linear(in_features = 800, out_features = 200, bias = True)\n",
    "        self.relu_5 = torch.nn.ReLU()\n",
    "        self.linear_6 = torch.nn.Linear(in_features = 200, out_features = 1, bias = True)\n",
    "        \n",
    "    def forward(self, x):\n",
    "                                    \n",
    "        z1 = self.linear_1(x)\n",
    "        a1 = self.relu_1(z1)\n",
    "        z2 = self.linear_2(a1)\n",
    "        a2 = self.relu_2(z2)\n",
    "        z3 = self.linear_3(a2)\n",
    "        a3 = self.relu_3(z3)\n",
    "        z4 = self.linear_4(a3)\n",
    "        a4 = self.relu_4(z4)\n",
    "        z5 = self.linear_5(a4)\n",
    "        a5 = self.relu_5(z5)\n",
    "        y = self.linear_6(a5)\n",
    "\n",
    "        return y"
   ]
  },
  {
   "cell_type": "code",
   "execution_count": 17,
   "id": "14debd17",
   "metadata": {},
   "outputs": [],
   "source": [
    "nnet = NNet()"
   ]
  },
  {
   "cell_type": "code",
   "execution_count": 18,
   "id": "aca7df8b",
   "metadata": {},
   "outputs": [
    {
     "name": "stdout",
     "output_type": "stream",
     "text": [
      "NNet(\n",
      "  (linear_1): Linear(in_features=2, out_features=100, bias=True)\n",
      "  (relu_1): ReLU()\n",
      "  (linear_2): Linear(in_features=100, out_features=500, bias=True)\n",
      "  (relu_2): ReLU()\n",
      "  (linear_3): Linear(in_features=500, out_features=1000, bias=True)\n",
      "  (relu_3): ReLU()\n",
      "  (linear_4): Linear(in_features=1000, out_features=800, bias=True)\n",
      "  (relu_4): ReLU()\n",
      "  (linear_5): Linear(in_features=800, out_features=200, bias=True)\n",
      "  (relu_5): ReLU()\n",
      "  (linear_6): Linear(in_features=200, out_features=1, bias=True)\n",
      ")\n"
     ]
    }
   ],
   "source": [
    "print(nnet)"
   ]
  },
  {
   "cell_type": "code",
   "execution_count": 19,
   "id": "13f01c3a",
   "metadata": {},
   "outputs": [],
   "source": [
    "criterion = torch.nn.MSELoss(reduction='mean')\n",
    "optimizer = torch.optim.SGD(nnet.parameters(), lr=0.005)"
   ]
  },
  {
   "cell_type": "code",
   "execution_count": 20,
   "id": "df7a5f95",
   "metadata": {},
   "outputs": [
    {
     "name": "stdout",
     "output_type": "stream",
     "text": [
      "False\n"
     ]
    }
   ],
   "source": [
    "device = \"\"\n",
    "if torch.cuda.is_available():\n",
    "    device = \"cuda:0\"\n",
    "else:\n",
    "    device = \"cpu\"\n",
    "\n",
    "print(torch.cuda.is_available())"
   ]
  },
  {
   "cell_type": "code",
   "execution_count": 21,
   "id": "e4963790",
   "metadata": {},
   "outputs": [
    {
     "data": {
      "text/plain": [
       "NNet(\n",
       "  (linear_1): Linear(in_features=2, out_features=100, bias=True)\n",
       "  (relu_1): ReLU()\n",
       "  (linear_2): Linear(in_features=100, out_features=500, bias=True)\n",
       "  (relu_2): ReLU()\n",
       "  (linear_3): Linear(in_features=500, out_features=1000, bias=True)\n",
       "  (relu_3): ReLU()\n",
       "  (linear_4): Linear(in_features=1000, out_features=800, bias=True)\n",
       "  (relu_4): ReLU()\n",
       "  (linear_5): Linear(in_features=800, out_features=200, bias=True)\n",
       "  (relu_5): ReLU()\n",
       "  (linear_6): Linear(in_features=200, out_features=1, bias=True)\n",
       ")"
      ]
     },
     "execution_count": 21,
     "metadata": {},
     "output_type": "execute_result"
    }
   ],
   "source": [
    "nnet.to(device)"
   ]
  },
  {
   "cell_type": "code",
   "execution_count": 22,
   "id": "c9bf2a80",
   "metadata": {},
   "outputs": [
    {
     "name": "stdout",
     "output_type": "stream",
     "text": [
      "Epoch = 0 - loss = 0.25067694091796877\n",
      "Epoch = 1 - loss = 0.12332799291610717\n",
      "Epoch = 2 - loss = 0.09907527685165406\n",
      "Epoch = 3 - loss = 0.06856340157985687\n",
      "Epoch = 4 - loss = 0.0483836522102356\n",
      "Epoch = 5 - loss = 0.03391685727238655\n",
      "Epoch = 6 - loss = 0.0344059208035469\n",
      "Epoch = 7 - loss = 0.020378490030765535\n",
      "Epoch = 8 - loss = 0.03318827441334724\n",
      "Epoch = 9 - loss = 0.0258798770904541\n",
      "Epoch = 10 - loss = 0.022968080192804337\n",
      "Epoch = 11 - loss = 0.02619873470067978\n",
      "Epoch = 12 - loss = 0.024987679958343507\n",
      "Epoch = 13 - loss = 0.019017119690775873\n",
      "Epoch = 14 - loss = 0.020330881983041765\n",
      "Epoch = 15 - loss = 0.019236495301127435\n",
      "Epoch = 16 - loss = 0.020435218036174773\n",
      "Epoch = 17 - loss = 0.020309227526187898\n",
      "Epoch = 18 - loss = 0.01959406369924545\n",
      "Epoch = 19 - loss = 0.0173485656529665\n",
      "Epoch = 20 - loss = 0.018003894597291948\n",
      "Epoch = 21 - loss = 0.015112878769636155\n",
      "Epoch = 22 - loss = 0.015599440068006516\n",
      "Epoch = 23 - loss = 0.0159220587015152\n",
      "Epoch = 24 - loss = 0.017079672157764434\n",
      "Epoch = 25 - loss = 0.01203974798321724\n",
      "Epoch = 26 - loss = 0.01207386338710785\n",
      "Epoch = 27 - loss = 0.011477178618311882\n",
      "Epoch = 28 - loss = 0.016482058793306352\n",
      "Epoch = 29 - loss = 0.010888476759195327\n",
      "Epoch = 30 - loss = 0.012066092610359192\n",
      "Epoch = 31 - loss = 0.011428996682167054\n",
      "Epoch = 32 - loss = 0.010985925734043122\n",
      "Epoch = 33 - loss = 0.011070417195558548\n",
      "Epoch = 34 - loss = 0.010079364091157913\n",
      "Epoch = 35 - loss = 0.009562529236078263\n",
      "Epoch = 36 - loss = 0.010413204759359359\n",
      "Epoch = 37 - loss = 0.008110017985105515\n",
      "Epoch = 38 - loss = 0.011515136331319809\n",
      "Epoch = 39 - loss = 0.008708998799324035\n",
      "Epoch = 40 - loss = 0.010827696710824966\n",
      "Epoch = 41 - loss = 0.007148748248815537\n",
      "Epoch = 42 - loss = 0.007509053573012352\n",
      "Epoch = 43 - loss = 0.0075504380017518994\n",
      "Epoch = 44 - loss = 0.007686436519026756\n",
      "Epoch = 45 - loss = 0.00716545233130455\n",
      "Epoch = 46 - loss = 0.0037748183235526084\n",
      "Epoch = 47 - loss = 0.006808526709675789\n",
      "Epoch = 48 - loss = 0.006792185485363007\n",
      "Epoch = 49 - loss = 0.007033675953745842\n",
      "Epoch = 50 - loss = 0.006406308248639107\n",
      "Epoch = 51 - loss = 0.004683679282665253\n",
      "Epoch = 52 - loss = 0.006459877073764801\n",
      "Epoch = 53 - loss = 0.005844319209456444\n",
      "Epoch = 54 - loss = 0.005233173683285713\n",
      "Epoch = 55 - loss = 0.005386853918433189\n",
      "Epoch = 56 - loss = 0.0049661389440298085\n",
      "Epoch = 57 - loss = 0.0048795857280492785\n",
      "Epoch = 58 - loss = 0.004044437453150749\n",
      "Epoch = 59 - loss = 0.005892125681042671\n",
      "Epoch = 60 - loss = 0.00217267220467329\n",
      "Epoch = 61 - loss = 0.0037624189406633376\n",
      "Epoch = 62 - loss = 0.0037825640141963958\n",
      "Epoch = 63 - loss = 0.0050124556049704555\n",
      "Epoch = 64 - loss = 0.0025645914301276208\n",
      "Epoch = 65 - loss = 0.00457341531664133\n",
      "Epoch = 66 - loss = 0.003022923797369003\n",
      "Epoch = 67 - loss = 0.0034355611652135847\n",
      "Epoch = 68 - loss = 0.002432002745568752\n",
      "Epoch = 69 - loss = 0.0032095137238502503\n",
      "Epoch = 70 - loss = 0.0030579947084188462\n",
      "Epoch = 71 - loss = 0.003525629222393036\n",
      "Epoch = 72 - loss = 0.002413317985832691\n",
      "Epoch = 73 - loss = 0.0026571677997708322\n",
      "Epoch = 74 - loss = 0.002388228848576546\n",
      "Epoch = 75 - loss = 0.002235551580786705\n",
      "Epoch = 76 - loss = 0.0029571906067430973\n",
      "Epoch = 77 - loss = 0.0022219424545764925\n",
      "Epoch = 78 - loss = 0.0027835220843553544\n",
      "Epoch = 79 - loss = 0.0024152185320854185\n",
      "Epoch = 80 - loss = 0.003120418354868889\n",
      "Epoch = 81 - loss = 0.001948403924703598\n",
      "Epoch = 82 - loss = 0.0014473242610692977\n",
      "Epoch = 83 - loss = 0.002079109884798527\n",
      "Epoch = 84 - loss = 0.0029505695104598997\n",
      "Epoch = 85 - loss = 0.002079805798828602\n",
      "Epoch = 86 - loss = 0.0017988114058971405\n",
      "Epoch = 87 - loss = 0.0021246293634176253\n",
      "Epoch = 88 - loss = 0.0014291347302496434\n",
      "Epoch = 89 - loss = 0.0034924440681934356\n",
      "Epoch = 90 - loss = 0.0015487891286611558\n",
      "Epoch = 91 - loss = 0.0011144086867570877\n",
      "Epoch = 92 - loss = 0.0012533616200089454\n",
      "Epoch = 93 - loss = 0.0018535425513982772\n",
      "Epoch = 94 - loss = 0.0015618057176470758\n",
      "Epoch = 95 - loss = 0.00070817881077528\n",
      "Epoch = 96 - loss = 0.0010602492354810239\n",
      "Epoch = 97 - loss = 0.0004936594888567924\n",
      "Epoch = 98 - loss = 0.0010662259161472322\n",
      "Epoch = 99 - loss = 0.0010362958498299122\n"
     ]
    }
   ],
   "source": [
    "for epoch in range(100):\n",
    "    running_loss = 0\n",
    "    for i, data in enumerate(training_dataloader):\n",
    "        # data\n",
    "        x, y = data\n",
    "        x = x.to(device).float()\n",
    "        y = y.to(device).float().reshape(-1,1)\n",
    "        \n",
    "        # set gradient to zero\n",
    "        optimizer.zero_grad()\n",
    "\n",
    "        #forward\n",
    "        y_hat = nnet(x).reshape(-1,1)\n",
    "\n",
    "        #loss\n",
    "        loss = criterion(y_hat, y)\n",
    "\n",
    "        #backward\n",
    "        loss.backward()\n",
    "\n",
    "        #update of parameters\n",
    "        optimizer.step()\n",
    "\n",
    "        #compute metrics and statistics\n",
    "        running_loss += loss.item()\n",
    "  \n",
    "    print(f\"Epoch = {epoch} - loss = {running_loss / len(training_set)}\")"
   ]
  },
  {
   "cell_type": "code",
   "execution_count": 35,
   "id": "fec6b3e4",
   "metadata": {},
   "outputs": [
    {
     "data": {
      "text/plain": [
       "(320,)"
      ]
     },
     "execution_count": 35,
     "metadata": {},
     "output_type": "execute_result"
    }
   ],
   "source": [
    "x.detach().numpy()[:,0].shape"
   ]
  },
  {
   "cell_type": "code",
   "execution_count": 27,
   "id": "333c407e",
   "metadata": {},
   "outputs": [
    {
     "data": {
      "text/plain": [
       "(320, 1)"
      ]
     },
     "execution_count": 27,
     "metadata": {},
     "output_type": "execute_result"
    }
   ],
   "source": [
    "nnet(x).detach().numpy().shape"
   ]
  },
  {
   "cell_type": "code",
   "execution_count": 38,
   "id": "85f5f620",
   "metadata": {},
   "outputs": [
    {
     "data": {
      "text/plain": [
       "<matplotlib.collections.PathCollection at 0x1e901cb80d0>"
      ]
     },
     "execution_count": 38,
     "metadata": {},
     "output_type": "execute_result"
    },
    {
     "data": {
      "image/png": "[encoded data removed]",
      "text/plain": [
       "<Figure size 432x288 with 1 Axes>"
      ]
     },
     "metadata": {
      "needs_background": "light"
     },
     "output_type": "display_data"
    }
   ],
   "source": [
    "fig, ax = plt.subplots(1,1)\n",
    "ax.scatter(x.detach().numpy()[:,0], nnet(x).detach().numpy())"
   ]
  },
  {
   "cell_type": "code",
   "execution_count": null,
   "id": "2c089c2a",
   "metadata": {},
   "outputs": [],
   "source": [
    "test_dataloader"
   ]
  },
  {
   "cell_type": "code",
   "execution_count": 44,
   "id": "71f1fa46",
   "metadata": {
    "scrolled": true
   },
   "outputs": [
    {
     "ename": "AttributeError",
     "evalue": "'numpy.ndarray' object has no attribute 'dim'",
     "output_type": "error",
     "traceback": [
      "\u001b[1;31m---------------------------------------------------------------------------\u001b[0m",
      "\u001b[1;31mAttributeError\u001b[0m                            Traceback (most recent call last)",
      "\u001b[1;32m<ipython-input-44-079922a82122>\u001b[0m in \u001b[0;36m<module>\u001b[1;34m\u001b[0m\n\u001b[0;32m      1\u001b[0m \u001b[0mfig\u001b[0m\u001b[1;33m,\u001b[0m \u001b[0max\u001b[0m \u001b[1;33m=\u001b[0m \u001b[0mplt\u001b[0m\u001b[1;33m.\u001b[0m\u001b[0msubplots\u001b[0m\u001b[1;33m(\u001b[0m\u001b[1;36m1\u001b[0m\u001b[1;33m,\u001b[0m\u001b[1;36m1\u001b[0m\u001b[1;33m)\u001b[0m\u001b[1;33m\u001b[0m\u001b[1;33m\u001b[0m\u001b[0m\n\u001b[1;32m----> 2\u001b[1;33m \u001b[0max\u001b[0m\u001b[1;33m.\u001b[0m\u001b[0mscatter\u001b[0m\u001b[1;33m(\u001b[0m\u001b[0mx_test\u001b[0m\u001b[1;33m,\u001b[0m \u001b[0mnnet\u001b[0m\u001b[1;33m(\u001b[0m\u001b[0mx_test\u001b[0m\u001b[1;33m)\u001b[0m\u001b[1;33m.\u001b[0m\u001b[0mdetach\u001b[0m\u001b[1;33m(\u001b[0m\u001b[1;33m)\u001b[0m\u001b[1;33m.\u001b[0m\u001b[0mnumpy\u001b[0m\u001b[1;33m(\u001b[0m\u001b[1;33m)\u001b[0m\u001b[1;33m)\u001b[0m\u001b[1;33m\u001b[0m\u001b[1;33m\u001b[0m\u001b[0m\n\u001b[0m",
      "\u001b[1;32m~\\anaconda3\\envs\\EspecializacionIA\\lib\\site-packages\\torch\\nn\\modules\\module.py\u001b[0m in \u001b[0;36m__call__\u001b[1;34m(self, *input, **kwargs)\u001b[0m\n\u001b[0;32m    530\u001b[0m             \u001b[0mresult\u001b[0m \u001b[1;33m=\u001b[0m \u001b[0mself\u001b[0m\u001b[1;33m.\u001b[0m\u001b[0m_slow_forward\u001b[0m\u001b[1;33m(\u001b[0m\u001b[1;33m*\u001b[0m\u001b[0minput\u001b[0m\u001b[1;33m,\u001b[0m \u001b[1;33m**\u001b[0m\u001b[0mkwargs\u001b[0m\u001b[1;33m)\u001b[0m\u001b[1;33m\u001b[0m\u001b[1;33m\u001b[0m\u001b[0m\n\u001b[0;32m    531\u001b[0m         \u001b[1;32melse\u001b[0m\u001b[1;33m:\u001b[0m\u001b[1;33m\u001b[0m\u001b[1;33m\u001b[0m\u001b[0m\n\u001b[1;32m--> 532\u001b[1;33m             \u001b[0mresult\u001b[0m \u001b[1;33m=\u001b[0m \u001b[0mself\u001b[0m\u001b[1;33m.\u001b[0m\u001b[0mforward\u001b[0m\u001b[1;33m(\u001b[0m\u001b[1;33m*\u001b[0m\u001b[0minput\u001b[0m\u001b[1;33m,\u001b[0m \u001b[1;33m**\u001b[0m\u001b[0mkwargs\u001b[0m\u001b[1;33m)\u001b[0m\u001b[1;33m\u001b[0m\u001b[1;33m\u001b[0m\u001b[0m\n\u001b[0m\u001b[0;32m    533\u001b[0m         \u001b[1;32mfor\u001b[0m \u001b[0mhook\u001b[0m \u001b[1;32min\u001b[0m \u001b[0mself\u001b[0m\u001b[1;33m.\u001b[0m\u001b[0m_forward_hooks\u001b[0m\u001b[1;33m.\u001b[0m\u001b[0mvalues\u001b[0m\u001b[1;33m(\u001b[0m\u001b[1;33m)\u001b[0m\u001b[1;33m:\u001b[0m\u001b[1;33m\u001b[0m\u001b[1;33m\u001b[0m\u001b[0m\n\u001b[0;32m    534\u001b[0m             \u001b[0mhook_result\u001b[0m \u001b[1;33m=\u001b[0m \u001b[0mhook\u001b[0m\u001b[1;33m(\u001b[0m\u001b[0mself\u001b[0m\u001b[1;33m,\u001b[0m \u001b[0minput\u001b[0m\u001b[1;33m,\u001b[0m \u001b[0mresult\u001b[0m\u001b[1;33m)\u001b[0m\u001b[1;33m\u001b[0m\u001b[1;33m\u001b[0m\u001b[0m\n",
      "\u001b[1;32m<ipython-input-16-624bdb718777>\u001b[0m in \u001b[0;36mforward\u001b[1;34m(self, x)\u001b[0m\n\u001b[0;32m     17\u001b[0m     \u001b[1;32mdef\u001b[0m \u001b[0mforward\u001b[0m\u001b[1;33m(\u001b[0m\u001b[0mself\u001b[0m\u001b[1;33m,\u001b[0m \u001b[0mx\u001b[0m\u001b[1;33m)\u001b[0m\u001b[1;33m:\u001b[0m\u001b[1;33m\u001b[0m\u001b[1;33m\u001b[0m\u001b[0m\n\u001b[0;32m     18\u001b[0m \u001b[1;33m\u001b[0m\u001b[0m\n\u001b[1;32m---> 19\u001b[1;33m         \u001b[0mz1\u001b[0m \u001b[1;33m=\u001b[0m \u001b[0mself\u001b[0m\u001b[1;33m.\u001b[0m\u001b[0mlinear_1\u001b[0m\u001b[1;33m(\u001b[0m\u001b[0mx\u001b[0m\u001b[1;33m)\u001b[0m\u001b[1;33m\u001b[0m\u001b[1;33m\u001b[0m\u001b[0m\n\u001b[0m\u001b[0;32m     20\u001b[0m         \u001b[0ma1\u001b[0m \u001b[1;33m=\u001b[0m \u001b[0mself\u001b[0m\u001b[1;33m.\u001b[0m\u001b[0mrelu_1\u001b[0m\u001b[1;33m(\u001b[0m\u001b[0mz1\u001b[0m\u001b[1;33m)\u001b[0m\u001b[1;33m\u001b[0m\u001b[1;33m\u001b[0m\u001b[0m\n\u001b[0;32m     21\u001b[0m         \u001b[0mz2\u001b[0m \u001b[1;33m=\u001b[0m \u001b[0mself\u001b[0m\u001b[1;33m.\u001b[0m\u001b[0mlinear_2\u001b[0m\u001b[1;33m(\u001b[0m\u001b[0ma1\u001b[0m\u001b[1;33m)\u001b[0m\u001b[1;33m\u001b[0m\u001b[1;33m\u001b[0m\u001b[0m\n",
      "\u001b[1;32m~\\anaconda3\\envs\\EspecializacionIA\\lib\\site-packages\\torch\\nn\\modules\\module.py\u001b[0m in \u001b[0;36m__call__\u001b[1;34m(self, *input, **kwargs)\u001b[0m\n\u001b[0;32m    530\u001b[0m             \u001b[0mresult\u001b[0m \u001b[1;33m=\u001b[0m \u001b[0mself\u001b[0m\u001b[1;33m.\u001b[0m\u001b[0m_slow_forward\u001b[0m\u001b[1;33m(\u001b[0m\u001b[1;33m*\u001b[0m\u001b[0minput\u001b[0m\u001b[1;33m,\u001b[0m \u001b[1;33m**\u001b[0m\u001b[0mkwargs\u001b[0m\u001b[1;33m)\u001b[0m\u001b[1;33m\u001b[0m\u001b[1;33m\u001b[0m\u001b[0m\n\u001b[0;32m    531\u001b[0m         \u001b[1;32melse\u001b[0m\u001b[1;33m:\u001b[0m\u001b[1;33m\u001b[0m\u001b[1;33m\u001b[0m\u001b[0m\n\u001b[1;32m--> 532\u001b[1;33m             \u001b[0mresult\u001b[0m \u001b[1;33m=\u001b[0m \u001b[0mself\u001b[0m\u001b[1;33m.\u001b[0m\u001b[0mforward\u001b[0m\u001b[1;33m(\u001b[0m\u001b[1;33m*\u001b[0m\u001b[0minput\u001b[0m\u001b[1;33m,\u001b[0m \u001b[1;33m**\u001b[0m\u001b[0mkwargs\u001b[0m\u001b[1;33m)\u001b[0m\u001b[1;33m\u001b[0m\u001b[1;33m\u001b[0m\u001b[0m\n\u001b[0m\u001b[0;32m    533\u001b[0m         \u001b[1;32mfor\u001b[0m \u001b[0mhook\u001b[0m \u001b[1;32min\u001b[0m \u001b[0mself\u001b[0m\u001b[1;33m.\u001b[0m\u001b[0m_forward_hooks\u001b[0m\u001b[1;33m.\u001b[0m\u001b[0mvalues\u001b[0m\u001b[1;33m(\u001b[0m\u001b[1;33m)\u001b[0m\u001b[1;33m:\u001b[0m\u001b[1;33m\u001b[0m\u001b[1;33m\u001b[0m\u001b[0m\n\u001b[0;32m    534\u001b[0m             \u001b[0mhook_result\u001b[0m \u001b[1;33m=\u001b[0m \u001b[0mhook\u001b[0m\u001b[1;33m(\u001b[0m\u001b[0mself\u001b[0m\u001b[1;33m,\u001b[0m \u001b[0minput\u001b[0m\u001b[1;33m,\u001b[0m \u001b[0mresult\u001b[0m\u001b[1;33m)\u001b[0m\u001b[1;33m\u001b[0m\u001b[1;33m\u001b[0m\u001b[0m\n",
      "\u001b[1;32m~\\anaconda3\\envs\\EspecializacionIA\\lib\\site-packages\\torch\\nn\\modules\\linear.py\u001b[0m in \u001b[0;36mforward\u001b[1;34m(self, input)\u001b[0m\n\u001b[0;32m     85\u001b[0m \u001b[1;33m\u001b[0m\u001b[0m\n\u001b[0;32m     86\u001b[0m     \u001b[1;32mdef\u001b[0m \u001b[0mforward\u001b[0m\u001b[1;33m(\u001b[0m\u001b[0mself\u001b[0m\u001b[1;33m,\u001b[0m \u001b[0minput\u001b[0m\u001b[1;33m)\u001b[0m\u001b[1;33m:\u001b[0m\u001b[1;33m\u001b[0m\u001b[1;33m\u001b[0m\u001b[0m\n\u001b[1;32m---> 87\u001b[1;33m         \u001b[1;32mreturn\u001b[0m \u001b[0mF\u001b[0m\u001b[1;33m.\u001b[0m\u001b[0mlinear\u001b[0m\u001b[1;33m(\u001b[0m\u001b[0minput\u001b[0m\u001b[1;33m,\u001b[0m \u001b[0mself\u001b[0m\u001b[1;33m.\u001b[0m\u001b[0mweight\u001b[0m\u001b[1;33m,\u001b[0m \u001b[0mself\u001b[0m\u001b[1;33m.\u001b[0m\u001b[0mbias\u001b[0m\u001b[1;33m)\u001b[0m\u001b[1;33m\u001b[0m\u001b[1;33m\u001b[0m\u001b[0m\n\u001b[0m\u001b[0;32m     88\u001b[0m \u001b[1;33m\u001b[0m\u001b[0m\n\u001b[0;32m     89\u001b[0m     \u001b[1;32mdef\u001b[0m \u001b[0mextra_repr\u001b[0m\u001b[1;33m(\u001b[0m\u001b[0mself\u001b[0m\u001b[1;33m)\u001b[0m\u001b[1;33m:\u001b[0m\u001b[1;33m\u001b[0m\u001b[1;33m\u001b[0m\u001b[0m\n",
      "\u001b[1;32m~\\anaconda3\\envs\\EspecializacionIA\\lib\\site-packages\\torch\\nn\\functional.py\u001b[0m in \u001b[0;36mlinear\u001b[1;34m(input, weight, bias)\u001b[0m\n\u001b[0;32m   1366\u001b[0m         \u001b[1;33m-\u001b[0m \u001b[0mOutput\u001b[0m\u001b[1;33m:\u001b[0m \u001b[1;33m:\u001b[0m\u001b[0mmath\u001b[0m\u001b[1;33m:\u001b[0m\u001b[0;31m`\u001b[0m\u001b[1;33m(\u001b[0m\u001b[0mN\u001b[0m\u001b[1;33m,\u001b[0m \u001b[1;33m*\u001b[0m\u001b[1;33m,\u001b[0m \u001b[0mout\u001b[0m\u001b[0;31m\\\u001b[0m\u001b[0m_features\u001b[0m\u001b[1;33m)\u001b[0m\u001b[0;31m`\u001b[0m\u001b[1;33m\u001b[0m\u001b[1;33m\u001b[0m\u001b[0m\n\u001b[0;32m   1367\u001b[0m     \"\"\"\n\u001b[1;32m-> 1368\u001b[1;33m     \u001b[1;32mif\u001b[0m \u001b[0minput\u001b[0m\u001b[1;33m.\u001b[0m\u001b[0mdim\u001b[0m\u001b[1;33m(\u001b[0m\u001b[1;33m)\u001b[0m \u001b[1;33m==\u001b[0m \u001b[1;36m2\u001b[0m \u001b[1;32mand\u001b[0m \u001b[0mbias\u001b[0m \u001b[1;32mis\u001b[0m \u001b[1;32mnot\u001b[0m \u001b[1;32mNone\u001b[0m\u001b[1;33m:\u001b[0m\u001b[1;33m\u001b[0m\u001b[1;33m\u001b[0m\u001b[0m\n\u001b[0m\u001b[0;32m   1369\u001b[0m         \u001b[1;31m# fused op is marginally faster\u001b[0m\u001b[1;33m\u001b[0m\u001b[1;33m\u001b[0m\u001b[1;33m\u001b[0m\u001b[0m\n\u001b[0;32m   1370\u001b[0m         \u001b[0mret\u001b[0m \u001b[1;33m=\u001b[0m \u001b[0mtorch\u001b[0m\u001b[1;33m.\u001b[0m\u001b[0maddmm\u001b[0m\u001b[1;33m(\u001b[0m\u001b[0mbias\u001b[0m\u001b[1;33m,\u001b[0m \u001b[0minput\u001b[0m\u001b[1;33m,\u001b[0m \u001b[0mweight\u001b[0m\u001b[1;33m.\u001b[0m\u001b[0mt\u001b[0m\u001b[1;33m(\u001b[0m\u001b[1;33m)\u001b[0m\u001b[1;33m)\u001b[0m\u001b[1;33m\u001b[0m\u001b[1;33m\u001b[0m\u001b[0m\n",
      "\u001b[1;31mAttributeError\u001b[0m: 'numpy.ndarray' object has no attribute 'dim'"
     ]
    },
    {
     "data": {
      "image/png": "[encoded data removed]",
      "text/plain": [
       "<Figure size 432x288 with 1 Axes>"
      ]
     },
     "metadata": {
      "needs_background": "light"
     },
     "output_type": "display_data"
    }
   ],
   "source": [
    "fig, ax = plt.subplots(1,1)\n",
    "ax.scatter(x_test, nnet(x_test).detach().numpy())"
   ]
  },
  {
   "cell_type": "markdown",
   "id": "aa4ef90f",
   "metadata": {},
   "source": [
    "<p style='text-align: justify;'>\n",
    "$f.$ Para el punto (e), ¿qué función de activación seleccionaste y por qué? Para la función que hayas seleccionado, explica sus características, su forward y su backward.\n",
    "<p>"
   ]
  }
 ],
 "metadata": {
  "kernelspec": {
   "display_name": "Python 3",
   "language": "python",
   "name": "python3"
  },
  "language_info": {
   "codemirror_mode": {
    "name": "ipython",
    "version": 3
   },
   "file_extension": ".py",
   "mimetype": "text/x-python",
   "name": "python",
   "nbconvert_exporter": "python",
   "pygments_lexer": "ipython3",
   "version": "3.8.8"
  }
 },
 "nbformat": 4,
 "nbformat_minor": 5
}
