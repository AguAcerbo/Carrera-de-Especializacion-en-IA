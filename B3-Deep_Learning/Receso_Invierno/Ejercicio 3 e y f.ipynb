{
 "cells": [
  {
   "cell_type": "code",
   "execution_count": 1,
   "id": "8f087fa4",
   "metadata": {},
   "outputs": [],
   "source": [
    "import numpy as np\n",
    "from matplotlib import pyplot as plt\n",
    "\n",
    "import torch # Libreria\n",
    "from torch.utils.data import Dataset # Clase u objeto que va a contener la informacion que vamos a utilizar para entrenar y evaluar nuestro algoritmo\n",
    "from torch.utils.data import DataLoader"
   ]
  },
  {
   "cell_type": "markdown",
   "id": "343f734a",
   "metadata": {},
   "source": [
    "<p style='text-align: justify;'>\n",
    "$e.$ En los puntos (b), (c) y (d) utilizaste Python para hacer la implementación y el modelo ya estaba establecido. En este punto se pide hacer una implementación con Deep Learning en PyTorch.\n",
    "\n",
    "Las redes neuronales, si tienen la suficiente cantidad de layers y se están utilizando las funciones de activación adecuadas, son capaces de representar cualquier función para mapear la entrada a la salida. Proponer una arquitectura, agregar regularización mediante la técnica dropout, entrenar la red neuronal, buscar los mejores hiper parámetros y presentar el ECM sobre el dataset de testing.\n",
    "    \n",
    "Comparar los resultados obtenidos en (e) con los puntos anteriores.\n",
    "<p>"
   ]
  },
  {
   "cell_type": "code",
   "execution_count": 2,
   "id": "fb4f643c",
   "metadata": {},
   "outputs": [
    {
     "data": {
      "text/plain": [
       "<matplotlib.collections.PathCollection at 0x24eafdf5790>"
      ]
     },
     "execution_count": 2,
     "metadata": {},
     "output_type": "execute_result"
    },
    {
     "data": {
      "image/png": "[encoded data removed]",
      "text/plain": [
       "<Figure size 432x288 with 1 Axes>"
      ]
     },
     "metadata": {
      "needs_background": "light"
     },
     "output_type": "display_data"
    }
   ],
   "source": [
    "x = np.arange(-50, 50, 0.01)\n",
    "N = np.random.normal(0, 0.2, 10000)\n",
    "y = (x-2)**2+3+N\n",
    "fig, ax = plt.subplots(1,1)\n",
    "ax.scatter(x, y)"
   ]
  },
  {
   "cell_type": "code",
   "execution_count": 3,
   "id": "4b676e27",
   "metadata": {},
   "outputs": [
    {
     "name": "stdout",
     "output_type": "stream",
     "text": [
      "(8000, 2)\n",
      "(2000, 2)\n"
     ]
    }
   ],
   "source": [
    "x_train = np.zeros((int(0.8 *len(x)),2))\n",
    "x_test = np.zeros((int(0.2*len(x)),2))\n",
    "\n",
    "print(x_train.shape)\n",
    "print(x_test.shape)"
   ]
  },
  {
   "cell_type": "code",
   "execution_count": 4,
   "id": "b84d5a57",
   "metadata": {},
   "outputs": [],
   "source": [
    "idx = np.random.permutation(np.arange(0, 10000))\n",
    "\n",
    "x_train[:,0] = x[idx[0:int(0.8*10000)]]\n",
    "x_test[:,0] = x[idx[int(0.8*10000):]]\n",
    "\n",
    "x_train[:,1] = x[idx[0:int(0.8*10000)]]**2\n",
    "x_test[:,1] = x[idx[int(0.8*10000):]]**2\n",
    "\n",
    "N_train = N[idx[0:int(0.8*10000)]]\n",
    "N_test = N[idx[int(0.8*10000):]]\n",
    "\n",
    "y_train = (x_train[:,0] - 2)**2 + 3 + N_train\n",
    "y_test = (x_test[:,0] - 2)**2 + 3 + N_test"
   ]
  },
  {
   "cell_type": "code",
   "execution_count": 5,
   "id": "21925988",
   "metadata": {},
   "outputs": [
    {
     "data": {
      "text/plain": [
       "array([[ -20.37  ,  414.9369],\n",
       "       [   7.91  ,   62.5681],\n",
       "       [  23.54  ,  554.1316],\n",
       "       [  12.63  ,  159.5169],\n",
       "       [  32.16  , 1034.2656]])"
      ]
     },
     "execution_count": 5,
     "metadata": {},
     "output_type": "execute_result"
    }
   ],
   "source": [
    "x_train[0:5,:]"
   ]
  },
  {
   "cell_type": "code",
   "execution_count": 6,
   "id": "1183e6a0",
   "metadata": {},
   "outputs": [
    {
     "data": {
      "text/plain": [
       "array([[-0.02440007, -0.0007515 ],\n",
       "       [ 0.00953116, -0.00138422],\n",
       "       [ 0.02828452, -0.00050156],\n",
       "       [ 0.01519436, -0.00121014],\n",
       "       [ 0.03862706,  0.00036059]])"
      ]
     },
     "execution_count": 6,
     "metadata": {},
     "output_type": "execute_result"
    }
   ],
   "source": [
    "x_train_mean = x_train.mean(axis=0)\n",
    "x_train_var = x_train.var(axis=0)\n",
    "\n",
    "x_train_norm = x_train.copy()\n",
    "x_train_norm = (x_train_norm-x_train_mean)/x_train_var\n",
    "x_train_norm[:5,:]"
   ]
  },
  {
   "cell_type": "code",
   "execution_count": 7,
   "id": "d9806985",
   "metadata": {},
   "outputs": [
    {
     "data": {
      "text/plain": [
       "array([[ 0.04520635,  0.00107781],\n",
       "       [-0.00924539, -0.00140917],\n",
       "       [ 0.01446843, -0.00124511],\n",
       "       [ 0.02821645, -0.00050064],\n",
       "       [-0.05114981,  0.00176778]])"
      ]
     },
     "execution_count": 7,
     "metadata": {},
     "output_type": "execute_result"
    }
   ],
   "source": [
    "x_test_mean = x_test.mean(axis=0)\n",
    "x_test_var = x_test.var(axis=0)\n",
    "\n",
    "x_test_norm = x_test.copy()\n",
    "x_test_norm = (x_test_norm-x_test_mean)/x_test_var\n",
    "x_test_norm[:5,:]"
   ]
  },
  {
   "cell_type": "code",
   "execution_count": 8,
   "id": "52c6b938",
   "metadata": {},
   "outputs": [],
   "source": [
    "class CustomDataset(Dataset):\n",
    "    def __init__(self, x, y):\n",
    "        super().__init__()\n",
    "        self.x = x\n",
    "        self.y = y\n",
    "\n",
    "    def __len__(self):\n",
    "        return self.x.shape[0]\n",
    "  \n",
    "    def __getitem__(self, idx):\n",
    "        return self.x[idx,:], self.y[idx]"
   ]
  },
  {
   "cell_type": "code",
   "execution_count": 9,
   "id": "8e86ba2f",
   "metadata": {},
   "outputs": [],
   "source": [
    "training_set = CustomDataset(x_train_norm, y_train)"
   ]
  },
  {
   "cell_type": "code",
   "execution_count": 10,
   "id": "ff77d816",
   "metadata": {},
   "outputs": [
    {
     "data": {
      "text/plain": [
       "8000"
      ]
     },
     "execution_count": 10,
     "metadata": {},
     "output_type": "execute_result"
    }
   ],
   "source": [
    "training_set.__len__()"
   ]
  },
  {
   "cell_type": "code",
   "execution_count": 11,
   "id": "766b5768",
   "metadata": {},
   "outputs": [
    {
     "data": {
      "text/plain": [
       "(array([-0.02440007, -0.0007515 ]), 503.31751252463823)"
      ]
     },
     "execution_count": 11,
     "metadata": {},
     "output_type": "execute_result"
    }
   ],
   "source": [
    "training_set.__getitem__(0)"
   ]
  },
  {
   "cell_type": "code",
   "execution_count": 12,
   "id": "c2a3b290",
   "metadata": {},
   "outputs": [],
   "source": [
    "test_set = CustomDataset(x_test_norm, y_test)"
   ]
  },
  {
   "cell_type": "code",
   "execution_count": 13,
   "id": "9dd0a9c7",
   "metadata": {},
   "outputs": [
    {
     "data": {
      "text/plain": [
       "2000"
      ]
     },
     "execution_count": 13,
     "metadata": {},
     "output_type": "execute_result"
    }
   ],
   "source": [
    "test_set.__len__()"
   ]
  },
  {
   "cell_type": "code",
   "execution_count": 14,
   "id": "6b16e063",
   "metadata": {},
   "outputs": [
    {
     "data": {
      "text/plain": [
       "(array([0.04520635, 0.00107781]), 1281.8240424453274)"
      ]
     },
     "execution_count": 14,
     "metadata": {},
     "output_type": "execute_result"
    }
   ],
   "source": [
    "test_set.__getitem__(0)"
   ]
  },
  {
   "cell_type": "code",
   "execution_count": 15,
   "id": "afdea2c5",
   "metadata": {},
   "outputs": [],
   "source": [
    "training_dataloader = DataLoader(training_set, batch_size = 512, shuffle=True)\n",
    "test_dataloader = DataLoader(test_set, batch_size = 256, shuffle=True)"
   ]
  },
  {
   "cell_type": "code",
   "execution_count": 25,
   "id": "44349952",
   "metadata": {},
   "outputs": [],
   "source": [
    "# Definimos el modelo\n",
    "class NNet(torch.nn.Module):\n",
    "    def __init__(self):\n",
    "        super().__init__()\n",
    "        self.linear_1 = torch.nn.Linear(in_features = 2, out_features = 100, bias = True)\n",
    "        self.sigmoid_1 = torch.nn.Sigmoid()\n",
    "        self.linear_2 = torch.nn.Linear(in_features = 100, out_features = 500, bias = True)\n",
    "        self.sigmoid_2 = torch.nn.Sigmoid()\n",
    "        self.linear_3 = torch.nn.Linear(in_features = 500, out_features = 1000, bias = True)\n",
    "        self.sigmoid_3 = torch.nn.Sigmoid()\n",
    "        self.linear_4 = torch.nn.Linear(in_features = 1000, out_features = 800, bias = True)\n",
    "        self.sigmoid_4 = torch.nn.Sigmoid()\n",
    "        self.linear_5 = torch.nn.Linear(in_features = 800, out_features = 200, bias = True)\n",
    "        self.sigmoid_5 = torch.nn.Sigmoid()\n",
    "        self.linear_6 = torch.nn.Linear(in_features = 200, out_features = 1, bias = True)\n",
    "        \n",
    "    def forward(self, x):\n",
    "                                    \n",
    "        z1 = self.linear_1(x)\n",
    "        a1 = self.sigmoid_1(z1)\n",
    "        z2 = self.linear_2(a1)\n",
    "        a2 = self.sigmoid_2(z2)\n",
    "        z3 = self.linear_3(a2)\n",
    "        a3 = self.sigmoid_3(z3)\n",
    "        z4 = self.linear_4(a3)\n",
    "        a4 = self.sigmoid_4(z4)\n",
    "        z5 = self.linear_5(a4)\n",
    "        a5 = self.sigmoid_5(z5)\n",
    "        y = self.linear_6(a5)\n",
    "\n",
    "        return y"
   ]
  },
  {
   "cell_type": "code",
   "execution_count": 26,
   "id": "14debd17",
   "metadata": {},
   "outputs": [],
   "source": [
    "nnet = NNet()"
   ]
  },
  {
   "cell_type": "code",
   "execution_count": 27,
   "id": "aca7df8b",
   "metadata": {},
   "outputs": [
    {
     "name": "stdout",
     "output_type": "stream",
     "text": [
      "NNet(\n",
      "  (linear_1): Linear(in_features=2, out_features=100, bias=True)\n",
      "  (sigmoid_1): Sigmoid()\n",
      "  (linear_2): Linear(in_features=100, out_features=500, bias=True)\n",
      "  (sigmoid_2): Sigmoid()\n",
      "  (linear_3): Linear(in_features=500, out_features=1000, bias=True)\n",
      "  (sigmoid_3): Sigmoid()\n",
      "  (linear_4): Linear(in_features=1000, out_features=800, bias=True)\n",
      "  (sigmoid_4): Sigmoid()\n",
      "  (linear_5): Linear(in_features=800, out_features=200, bias=True)\n",
      "  (sigmoid_5): Sigmoid()\n",
      "  (linear_6): Linear(in_features=200, out_features=1, bias=True)\n",
      ")\n"
     ]
    }
   ],
   "source": [
    "print(nnet)"
   ]
  },
  {
   "cell_type": "code",
   "execution_count": 28,
   "id": "13f01c3a",
   "metadata": {},
   "outputs": [],
   "source": [
    "criterion = torch.nn.MSELoss(reduction='mean')\n",
    "optimizer = torch.optim.SGD(nnet.parameters(), lr=0.005)"
   ]
  },
  {
   "cell_type": "code",
   "execution_count": 29,
   "id": "df7a5f95",
   "metadata": {},
   "outputs": [
    {
     "name": "stdout",
     "output_type": "stream",
     "text": [
      "False\n"
     ]
    }
   ],
   "source": [
    "device = \"\"\n",
    "if torch.cuda.is_available():\n",
    "    device = \"cuda:0\"\n",
    "else:\n",
    "    device = \"cpu\"\n",
    "\n",
    "print(torch.cuda.is_available())"
   ]
  },
  {
   "cell_type": "code",
   "execution_count": 30,
   "id": "e4963790",
   "metadata": {},
   "outputs": [
    {
     "data": {
      "text/plain": [
       "NNet(\n",
       "  (linear_1): Linear(in_features=2, out_features=100, bias=True)\n",
       "  (sigmoid_1): Sigmoid()\n",
       "  (linear_2): Linear(in_features=100, out_features=500, bias=True)\n",
       "  (sigmoid_2): Sigmoid()\n",
       "  (linear_3): Linear(in_features=500, out_features=1000, bias=True)\n",
       "  (sigmoid_3): Sigmoid()\n",
       "  (linear_4): Linear(in_features=1000, out_features=800, bias=True)\n",
       "  (sigmoid_4): Sigmoid()\n",
       "  (linear_5): Linear(in_features=800, out_features=200, bias=True)\n",
       "  (sigmoid_5): Sigmoid()\n",
       "  (linear_6): Linear(in_features=200, out_features=1, bias=True)\n",
       ")"
      ]
     },
     "execution_count": 30,
     "metadata": {},
     "output_type": "execute_result"
    }
   ],
   "source": [
    "nnet.to(device)"
   ]
  },
  {
   "cell_type": "code",
   "execution_count": 31,
   "id": "c9bf2a80",
   "metadata": {},
   "outputs": [
    {
     "name": "stdout",
     "output_type": "stream",
     "text": [
      "Epoch = 0 - loss = 1256.1498671875\n",
      "Epoch = 1 - loss = 1140.80355078125\n",
      "Epoch = 2 - loss = 1139.2404453125\n",
      "Epoch = 3 - loss = 1143.814828125\n",
      "Epoch = 4 - loss = 1140.636640625\n",
      "Epoch = 5 - loss = 1142.72228125\n",
      "Epoch = 6 - loss = 1138.986359375\n",
      "Epoch = 7 - loss = 1142.00128515625\n",
      "Epoch = 8 - loss = 1139.3808125\n",
      "Epoch = 9 - loss = 1138.2893828125\n",
      "Epoch = 10 - loss = 1142.98734765625\n",
      "Epoch = 11 - loss = 1142.85015234375\n",
      "Epoch = 12 - loss = 1139.6639296875\n",
      "Epoch = 13 - loss = 1138.5048984375\n",
      "Epoch = 14 - loss = 1143.69115625\n",
      "Epoch = 15 - loss = 1140.0337421875\n",
      "Epoch = 16 - loss = 1145.67971875\n",
      "Epoch = 17 - loss = 1142.354265625\n",
      "Epoch = 18 - loss = 1141.01088671875\n",
      "Epoch = 19 - loss = 1140.58209375\n",
      "Epoch = 20 - loss = 1140.3930546875\n",
      "Epoch = 21 - loss = 1147.19731640625\n",
      "Epoch = 22 - loss = 1145.46562109375\n",
      "Epoch = 23 - loss = 1139.56819921875\n",
      "Epoch = 24 - loss = 1145.1105859375\n",
      "Epoch = 25 - loss = 1141.04176953125\n",
      "Epoch = 26 - loss = 1137.39051953125\n",
      "Epoch = 27 - loss = 1140.7831484375\n",
      "Epoch = 28 - loss = 1143.614453125\n",
      "Epoch = 29 - loss = 1138.4307734375\n",
      "Epoch = 30 - loss = 1139.9619140625\n",
      "Epoch = 31 - loss = 1141.1912265625\n",
      "Epoch = 32 - loss = 1143.1784921875\n",
      "Epoch = 33 - loss = 1143.797234375\n",
      "Epoch = 34 - loss = 1145.5683984375\n",
      "Epoch = 35 - loss = 1139.7278828125\n",
      "Epoch = 36 - loss = 1144.4319140625\n",
      "Epoch = 37 - loss = 1140.002796875\n",
      "Epoch = 38 - loss = 1141.6134765625\n",
      "Epoch = 39 - loss = 1141.3388828125\n",
      "Epoch = 40 - loss = 1138.60428515625\n",
      "Epoch = 41 - loss = 1143.150625\n",
      "Epoch = 42 - loss = 1147.5462109375\n",
      "Epoch = 43 - loss = 1148.26884765625\n",
      "Epoch = 44 - loss = 1142.222171875\n",
      "Epoch = 45 - loss = 1140.28915234375\n",
      "Epoch = 46 - loss = 1139.9599609375\n",
      "Epoch = 47 - loss = 1143.9521875\n",
      "Epoch = 48 - loss = 1141.89024609375\n",
      "Epoch = 49 - loss = 1140.61221875\n",
      "Epoch = 50 - loss = 1144.31898046875\n",
      "Epoch = 51 - loss = 1141.38809375\n",
      "Epoch = 52 - loss = 1143.906421875\n",
      "Epoch = 53 - loss = 1141.9028203125\n",
      "Epoch = 54 - loss = 1141.241421875\n",
      "Epoch = 55 - loss = 1138.10545703125\n",
      "Epoch = 56 - loss = 1143.4137890625\n",
      "Epoch = 57 - loss = 1142.8945\n",
      "Epoch = 58 - loss = 1141.9157734375\n",
      "Epoch = 59 - loss = 1140.251984375\n",
      "Epoch = 60 - loss = 1144.483875\n",
      "Epoch = 61 - loss = 1144.57765625\n",
      "Epoch = 62 - loss = 1142.12673046875\n",
      "Epoch = 63 - loss = 1143.1102890625\n",
      "Epoch = 64 - loss = 1146.9697578125\n",
      "Epoch = 65 - loss = 1140.4692890625\n",
      "Epoch = 66 - loss = 1139.61014453125\n",
      "Epoch = 67 - loss = 1142.7273671875\n",
      "Epoch = 68 - loss = 1140.686984375\n",
      "Epoch = 69 - loss = 1142.05899609375\n",
      "Epoch = 70 - loss = 1144.43678125\n",
      "Epoch = 71 - loss = 1147.12316796875\n",
      "Epoch = 72 - loss = 1142.1967109375\n",
      "Epoch = 73 - loss = 1139.428484375\n",
      "Epoch = 74 - loss = 1142.246140625\n",
      "Epoch = 75 - loss = 1143.3517265625\n",
      "Epoch = 76 - loss = 1138.9623203125\n",
      "Epoch = 77 - loss = 1151.8579296875\n",
      "Epoch = 78 - loss = 1141.11896875\n",
      "Epoch = 79 - loss = 1143.62767578125\n",
      "Epoch = 80 - loss = 1147.00587890625\n",
      "Epoch = 81 - loss = 1140.4268671875\n",
      "Epoch = 82 - loss = 1146.66650390625\n",
      "Epoch = 83 - loss = 1135.99996875\n",
      "Epoch = 84 - loss = 1143.666\n",
      "Epoch = 85 - loss = 1144.4420078125\n",
      "Epoch = 86 - loss = 1141.981578125\n",
      "Epoch = 87 - loss = 1141.15490234375\n",
      "Epoch = 88 - loss = 1139.7362109375\n",
      "Epoch = 89 - loss = 1142.61397265625\n",
      "Epoch = 90 - loss = 1141.900359375\n",
      "Epoch = 91 - loss = 1143.7660625\n",
      "Epoch = 92 - loss = 1142.3444921875\n",
      "Epoch = 93 - loss = 1147.67629296875\n",
      "Epoch = 94 - loss = 1145.795078125\n",
      "Epoch = 95 - loss = 1142.029796875\n",
      "Epoch = 96 - loss = 1143.804796875\n",
      "Epoch = 97 - loss = 1146.14101171875\n",
      "Epoch = 98 - loss = 1147.457046875\n",
      "Epoch = 99 - loss = 1139.360265625\n"
     ]
    }
   ],
   "source": [
    "for epoch in range(100):\n",
    "    running_loss = 0\n",
    "    for i, data in enumerate(training_dataloader):\n",
    "        # data\n",
    "        x, y = data\n",
    "        x = x.to(device).float()\n",
    "        y = y.to(device).float().reshape(-1,1)\n",
    "        \n",
    "        # set gradient to zero\n",
    "        optimizer.zero_grad()\n",
    "\n",
    "        #forward\n",
    "        y_hat = nnet(x).reshape(-1,1)\n",
    "\n",
    "        #loss\n",
    "        loss = criterion(y_hat, y)\n",
    "\n",
    "        #backward\n",
    "        loss.backward()\n",
    "\n",
    "        #update of parameters\n",
    "        optimizer.step()\n",
    "\n",
    "        #compute metrics and statistics\n",
    "        running_loss += loss.item()\n",
    "  \n",
    "    print(f\"Epoch = {epoch} - loss = {running_loss / len(training_set)}\")"
   ]
  },
  {
   "cell_type": "code",
   "execution_count": null,
   "id": "85f5f620",
   "metadata": {},
   "outputs": [],
   "source": []
  },
  {
   "cell_type": "markdown",
   "id": "aa4ef90f",
   "metadata": {},
   "source": [
    "<p style='text-align: justify;'>\n",
    "$f.$ Para el punto (e), ¿qué función de activación seleccionaste y por qué? Para la función que hayas seleccionado, explica sus características, su forward y su backward.\n",
    "<p>"
   ]
  }
 ],
 "metadata": {
  "kernelspec": {
   "display_name": "Python 3",
   "language": "python",
   "name": "python3"
  },
  "language_info": {
   "codemirror_mode": {
    "name": "ipython",
    "version": 3
   },
   "file_extension": ".py",
   "mimetype": "text/x-python",
   "name": "python",
   "nbconvert_exporter": "python",
   "pygments_lexer": "ipython3",
   "version": "3.8.8"
  }
 },
 "nbformat": 4,
 "nbformat_minor": 5
}
