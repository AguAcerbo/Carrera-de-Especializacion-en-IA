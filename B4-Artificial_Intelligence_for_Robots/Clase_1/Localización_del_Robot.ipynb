{
  "nbformat": 4,
  "nbformat_minor": 0,
  "metadata": {
    "colab": {
      "name": "Localización del Robot.ipynb",
      "provenance": [],
      "collapsed_sections": []
    },
    "kernelspec": {
      "name": "python3",
      "display_name": "Python 3"
    },
    "language_info": {
      "name": "python"
    }
  },
  "cells": [
    {
      "cell_type": "code",
      "metadata": {
        "id": "ihwdVIICBAbe"
      },
      "source": [
        "import numpy as np\n"
      ],
      "execution_count": 1,
      "outputs": []
    },
    {
      "cell_type": "markdown",
      "metadata": {
        "id": "pvsyyMFFxWkI"
      },
      "source": [
        "# Robot Localization\n",
        "[Prob. aplicada a robots](https://www.notion.so/Probabilidades-aplicadas-a-la-rob-tica-1d6c5fad35f04cdcaa6781121da341e7)\n",
        "\n"
      ]
    },
    {
      "cell_type": "code",
      "metadata": {
        "id": "fLUt3fy5ydHI",
        "colab": {
          "base_uri": "https://localhost:8080/"
        },
        "outputId": "ca29c302-cda2-4078-8f37-ca29dabc8e22"
      },
      "source": [
        "# Programar para un número variable de celdas una distribución uniforme\n",
        "p=[]\n",
        "n=5\n",
        "p = np.ones((1,n))/n\n",
        "print(p)"
      ],
      "execution_count": 2,
      "outputs": [
        {
          "output_type": "stream",
          "name": "stdout",
          "text": [
            "[[0.2 0.2 0.2 0.2 0.2]]\n"
          ]
        }
      ]
    },
    {
      "cell_type": "markdown",
      "metadata": {
        "id": "WAEKdVd1-aky"
      },
      "source": [
        "## Probabildad después de la medición\n",
        "\n",
        "Consideremos un mundo con cinco celdas, $x_1$ a $x_5$. Asumamos que 2 de las celdas son de color rojo y el resto de color verde.\n",
        "\n",
        ">> mundo = ['verde','rojo','rojo','verde','verde']\n",
        "\n",
        "cada celda sigue teniendo probabilidad uniforme\n",
        "\n",
        ">> p = [0.2, 0.2, 0.2, 0.2, 0.2]\n",
        "\n",
        "Supongamos que el robot detecta el rojo. Vamos a ver una forma simple de incorporar la medición en nuestra *creencia*, usando el producto. Cada vez que la celda coincida con la medición (celda de color rojo) se va a multiplicar por .6, mientras que si la celda es verde, se multiplica por .2.\n",
        "\n",
        "Como se modificarían las probabilidades en este caso? (editar este texto y completar)\n",
        "\n",
        ">> p=[0.04, 0.12, 0.12, 0.04, 0.04]\n",
        "\n",
        "Van a ver que las probabilidades no suman 1. Por eso vamos a ver una forma de renormalizar.\n"
      ]
    },
    {
      "cell_type": "markdown",
      "metadata": {
        "id": "tyD-s_rABUnF"
      },
      "source": [
        "## Normalizando la distribución\n",
        "\n",
        "Como habrán observado, la suma de las probabilidades de cada celda después de la medición no suma 1. Para que esto ahora sea una distribución es necesario dividir cada celda por la suma de las celdas.\n",
        "\n",
        "Como sería la nueva distribución de probabilidad una vez que se dividió por el total anterior?\n",
        "\n",
        ">> p_N = [1/9, 1/3, 1/3, 1/9, 1/9] = p / 0.36\n",
        "\n",
        "Revisar que la suma de cada celda da 1.\n",
        "\n",
        "Con qué probabilidades el robot *cree* que está en cada celda? Porque sucede que el robot no tiene seguridad absoluta de estar en una celda?"
      ]
    },
    {
      "cell_type": "markdown",
      "metadata": {
        "id": "qeRfu-mkNjYi"
      },
      "source": [
        "## Función Sense"
      ]
    },
    {
      "cell_type": "code",
      "metadata": {
        "id": "5rqzXhVHINxz",
        "colab": {
          "base_uri": "https://localhost:8080/"
        },
        "outputId": "977aca9d-b2a2-4776-c3db-d41838641d0d"
      },
      "source": [
        "p = [0.2,0.2,0.2,0.2,0.2]\n",
        "# Vamos a introducir una variable llamada mundo\n",
        "mundo = ['green','red','red','green','green']\n",
        "# Y otra variable de medición Z\n",
        "Z = 'red'\n",
        "pHit = 0.6 #p(z_{red}|p_i)\n",
        "pMiss = 0.2 #p(z_{green}|p_i)\n",
        "\n",
        "# pHit y pMiss son valores arbitrarios\n",
        "\n",
        "# Defina una función sense que me devuelva la probabilidad normalizada q en función de las mediciones\n",
        "\n",
        "def sense(p,Z):\n",
        "  pHit = 0.6\n",
        "  pMiss = 0.2\n",
        "  observacion = np.zeros(len(p))\n",
        "  for i in range(len(p)):\n",
        "    if Z == mundo[i]:\n",
        "      observacion[i] = pHit\n",
        "    else:\n",
        "      observacion[i] = pMiss\n",
        "  q = (observacion*p)/np.sum(observacion*p)\n",
        "  return q\n",
        "\n",
        "print(sense(p,Z))\n"
      ],
      "execution_count": 10,
      "outputs": [
        {
          "output_type": "stream",
          "name": "stdout",
          "text": [
            "[0.11111111 0.33333333 0.33333333 0.11111111 0.11111111]\n"
          ]
        }
      ]
    },
    {
      "cell_type": "code",
      "metadata": {
        "id": "jHNwEuNdL-7g",
        "colab": {
          "base_uri": "https://localhost:8080/"
        },
        "outputId": "020addac-8d50-4614-a6e4-8ec65061ff26"
      },
      "source": [
        "|# Ahora supongamos que en vez de una medición tenemos varias mediciones (en principio 2)\n",
        "measurements = ['red','green']\n",
        "# Sin modificar la función sense.\n",
        "# Qué agregarían para modificar la probabilidad a posteriori para cada una de las mediciones?\n",
        "\n",
        "for measure in measurements:\n",
        "  p = sense(p, measure)\n",
        "  print(p)\n",
        "\n",
        "# Para el caso de las mediciones que les dimos. Porqué se obtiene este resultado?"
      ],
      "execution_count": 9,
      "outputs": [
        {
          "output_type": "stream",
          "name": "stdout",
          "text": [
            "[0.11111111 0.33333333 0.33333333 0.11111111 0.11111111]\n",
            "[0.2 0.2 0.2 0.2 0.2]\n"
          ]
        }
      ]
    },
    {
      "cell_type": "markdown",
      "metadata": {
        "id": "BwsaEZEeHy58"
      },
      "source": [
        "# Movimiento"
      ]
    },
    {
      "cell_type": "markdown",
      "metadata": {
        "id": "Awphq8avn1h-"
      },
      "source": [
        "## Movimiento Exacto\n",
        "Supongamos que tenemos una distribución en las 5 celdas de: [1/9][1/3][1/3][1/9][1/9]. Sin saber donde se encuentra el robot, este se mueve hacia la derecha. Se considerará que el mundo es cíclico, es decir, que cuando llegue a la última celda va a regresar a la primera. Cómo serán las probabilidades si el robot se mueve un lugar hacia la derecha?\n",
        "\n",
        "[1/9][1/9][1/3][1/3][1/9]\n",
        "\n"
      ]
    },
    {
      "cell_type": "code",
      "metadata": {
        "id": "xp2Q53hfKjGL",
        "colab": {
          "base_uri": "https://localhost:8080/"
        },
        "outputId": "6650a1fd-c322-4c52-a244-ab634cac2978"
      },
      "source": [
        "from collections import deque\n",
        "# Definamos una función de movimiento exacto que represente lo anterior. \n",
        "p = [0,1,0,0,0]\n",
        "U = 1\n",
        "def move(p, U):\n",
        "  ''' p: distribución\n",
        "      U: numero de celdas que se mueve (Cuando es positivo mueve hacia la derecha)'''\n",
        "\n",
        "  a_list = deque(p)\n",
        "  a_list.rotate(U)\n",
        "  q = list(a_list)\n",
        "  return q\n",
        "\n",
        "print(move(p,1))\n",
        "      "
      ],
      "execution_count": 18,
      "outputs": [
        {
          "output_type": "stream",
          "name": "stdout",
          "text": [
            "[0, 0, 1, 0, 0]\n"
          ]
        }
      ]
    },
    {
      "cell_type": "markdown",
      "metadata": {
        "id": "jisJkz_-MrJu"
      },
      "source": [
        "## Movimiento Inexacto (Real)\n",
        "En la realidad, el movimiento del robot está sujeto a ruido. Las velocidades de movimiento difieren de las envíadas por el comando. Supongamos que queremos movernos en U=2, pero el robot tiene las siguientes probabilidades a priori para su movimiento:\n",
        "\n",
        "$P(x_{i+U}|X_i)=0.8$\n",
        "\n",
        "$P(x_{i+(U-1)}|X_i)=0.1$ \n",
        "\n",
        "$P(x_{i+(U+1)}|X_i)=0.1$ \n",
        "\n",
        "Si el robot comienza desde la siguiente posición: [0][1][0][0][0] y se mueve en U=2. Cómo queda la distribución?\n",
        "\n",
        "[0][0][0.1][0.8][0.1]\n",
        "\n",
        "Fijense que el movimiento agregó incertidumrbe a la posición del robot."
      ]
    },
    {
      "cell_type": "markdown",
      "metadata": {
        "id": "55VPS6_YQYwi"
      },
      "source": [
        "### Otros ejemplos\n",
        "Que sucede ahora si la distribución a priori es:\n",
        "\n",
        "[0][0.5][0][0.5][0]\n",
        "\n",
        "El robot se mueve en U=2 con las mismas probabilidades a priori que antes:\n",
        "\n",
        "[0.4][0.05][0.05][0.4][0.1]\n",
        "\n",
        "Recordemos que estamos considerando un mundo cíclico.\n",
        "\n",
        "\n",
        "---\n",
        "\n",
        "Y si la distribución fuera uniforme?\n",
        "\n",
        "[0.2][0.2][0.2][0.2][0.2]\n",
        "\n",
        "Como sería la distribución luego de moverse en U=2?\n",
        "\n",
        "[0.2][0.2][0.2][0.2][0.2]\n",
        "\n"
      ]
    },
    {
      "cell_type": "markdown",
      "metadata": {
        "id": "3Yu31hcKXMVA"
      },
      "source": [
        "## Función move inexacta"
      ]
    },
    {
      "cell_type": "code",
      "metadata": {
        "id": "wc0eQFeFWpAj",
        "colab": {
          "base_uri": "https://localhost:8080/"
        },
        "outputId": "d1161a6d-5240-4b26-f96a-47ddc720b8cd"
      },
      "source": [
        "# Modificar la función move con tal de agregar las probabilidades\n",
        "# de overshooting y undershooting al destino deseado.\n",
        "\n",
        "# Traten de mantener la función move para que haga solamente un movimiento\n",
        "# cada vez que es llamada.\n",
        "\n",
        "p = [0,1,0,0,0]\n",
        "U = 1\n",
        "pExact = 0.8\n",
        "pOvershoot = 0.1\n",
        "pUndershoot = 0.1\n",
        "\n",
        "def move(p,U):\n",
        "  q = np.zeros(len(p))\n",
        "\n",
        "  i = U - 1\n",
        "  a_list = deque(p)\n",
        "  a_list.rotate(i)\n",
        "  q += np.array(a_list) * pUndershoot\n",
        "\n",
        "  i = U\n",
        "  a_list = deque(p)\n",
        "  a_list.rotate(i)\n",
        "  q += np.array(a_list) * pExact\n",
        "  \n",
        "  i = U + 1\n",
        "  a_list = deque(p)\n",
        "  a_list.rotate(i)\n",
        "  q += np.array(a_list) * pOvershoot\n",
        "  return q\n",
        "\n",
        "#print(move(p,U))\n",
        "\n",
        "for i in range(100):\n",
        "  p = move(p,U)\n",
        "  print(p)\n",
        "\n",
        "\n",
        "# Que sucede si el robot continúa moviendose en U=1 sin sensar donde está parado?"
      ],
      "execution_count": 23,
      "outputs": [
        {
          "output_type": "stream",
          "name": "stdout",
          "text": [
            "[0.  0.1 0.8 0.1 0. ]\n",
            "[0.01 0.01 0.16 0.66 0.16]\n",
            "[0.195 0.025 0.025 0.195 0.56 ]\n",
            "[0.487  0.2145 0.042  0.042  0.2145]\n",
            "[0.2245  0.4325  0.2245  0.05925 0.05925]\n",
            "[0.075775 0.228775 0.3909   0.228775 0.075775]\n",
            "[0.091075  0.091075  0.2296875 0.358475  0.2296875]\n",
            "[0.228705   0.10493625 0.10493625 0.228705   0.3327175 ]\n",
            "[0.311915   0.22672938 0.11731313 0.11731313 0.22672938]\n",
            "[0.22430631 0.29487788 0.22430631 0.12825475 0.12825475]\n",
            "[0.13785991 0.22175831 0.28076356 0.22175831 0.13785991]\n",
            "[0.14624975 0.14624975 0.219269   0.26896251 0.219269  ]\n",
            "[0.21693642 0.15355167 0.15355167 0.21693642 0.25902381]\n",
            "[0.25060633 0.21480669 0.15989015 0.15989015 0.21480669]\n",
            "[0.212895  0.2434464 0.212895  0.1653818 0.1653818]\n",
            "[0.17013312 0.21119882 0.23733612 0.21119882 0.17013312]\n",
            "[0.17423969 0.17423969 0.20970598 0.23210866 0.20970598]\n",
            "[0.20839962 0.17778632 0.17778632 0.20839962 0.22762812]\n",
            "[0.22378242 0.20726114 0.18084765 0.18084765 0.20726114]\n",
            "[0.20627192 0.22047817 0.20627192 0.183489   0.183489  ]\n",
            "[0.18576729 0.20541425 0.21763692 0.20541425 0.18576729]\n",
            "[0.18773199 0.18773199 0.20467182 0.21519238 0.20467182]\n",
            "[0.20402989 0.18942597 0.18942597 0.20402989 0.21308827]\n",
            "[0.2112766  0.20347534 0.19088636 0.19088636 0.20347534]\n",
            "[0.20299657 0.20971634 0.20299657 0.19214526 0.19214526]\n",
            "[0.19323039 0.20258341 0.20837239 0.20258341 0.19323039]\n",
            "[0.19416569 0.19416569 0.20222701 0.20721459 0.20222701]\n",
            "[0.20191964 0.19497182 0.19497182 0.20191964 0.20621708]\n",
            "[0.20535759 0.2016546  0.19566661 0.19566661 0.2016546 ]\n",
            "[0.2014261  0.20461699 0.2014261  0.19626541 0.19626541]\n",
            "[0.19678147 0.20122912 0.20397881 0.20122912 0.19678147]\n",
            "[0.19722624 0.19722624 0.20105932 0.20342887 0.20105932]\n",
            "[0.20091297 0.19760955 0.19760955 0.20091297 0.20295496]\n",
            "[0.20254657 0.20078683 0.19793989 0.19793989 0.20078683]\n",
            "[0.20067811 0.20219462 0.20067811 0.19822458 0.19822458]\n",
            "[0.19846994 0.20058441 0.20189132 0.20058441 0.19846994]\n",
            "[0.19868138 0.19868138 0.20050365 0.20162993 0.20050365]\n",
            "[0.20043405 0.19886361 0.19886361 0.20043405 0.20140468]\n",
            "[0.20121055 0.20037407 0.19902065 0.19902065 0.20037407]\n",
            "[0.20032238 0.20104326 0.20032238 0.199156   0.199156  ]\n",
            "[0.19927263 0.20027783 0.20089908 0.20027783 0.19927263]\n",
            "[0.19937315 0.19937315 0.20023943 0.20077483 0.20023943]\n",
            "[0.20020634 0.19945978 0.19945978 0.20020634 0.20066775]\n",
            "[0.20057547 0.20017783 0.19953444 0.19953444 0.20017783]\n",
            "[0.20015325 0.20049594 0.20015325 0.19959878 0.19959878]\n",
            "[0.19965422 0.20013207 0.2004274  0.20013207 0.19965422]\n",
            "[0.19970201 0.19970201 0.20011382 0.20036834 0.20011382]\n",
            "[0.20009809 0.19974319 0.19974319 0.20009809 0.20031743]\n",
            "[0.20027357 0.20008454 0.19977868 0.19977868 0.20008454]\n",
            "[0.20007285 0.20023576 0.20007285 0.19980927 0.19980927]\n",
            "[0.19983562 0.20006279 0.20020318 0.20006279 0.19983562]\n",
            "[0.19985834 0.19985834 0.20005411 0.2001751  0.20005411]\n",
            "[0.20004663 0.19987792 0.19987792 0.20004663 0.2001509 ]\n",
            "[0.20013005 0.20004019 0.19989479 0.19989479 0.20004019]\n",
            "[0.20003463 0.20011208 0.20003463 0.19990933 0.19990933]\n",
            "[0.19992186 0.20002985 0.20009659 0.20002985 0.19992186]\n",
            "[0.19993266 0.19993266 0.20002572 0.20008324 0.20002572]\n",
            "[0.20002217 0.19994196 0.19994196 0.20002217 0.20007174]\n",
            "[0.20006182 0.2000191  0.19994998 0.19994998 0.2000191 ]\n",
            "[0.20001646 0.20005328 0.20001646 0.1999569  0.1999569 ]\n",
            "[0.19996285 0.20001419 0.20004592 0.20001419 0.19996285]\n",
            "[0.19996799 0.19996799 0.20001223 0.20003957 0.20001223]\n",
            "[0.20001054 0.19997241 0.19997241 0.20001054 0.2000341 ]\n",
            "[0.20002939 0.20000908 0.19997622 0.19997622 0.20000908]\n",
            "[0.20000783 0.20002533 0.20000783 0.19997951 0.19997951]\n",
            "[0.19998234 0.20000675 0.20002183 0.20000675 0.19998234]\n",
            "[0.19998478 0.19998478 0.20000581 0.20001881 0.20000581]\n",
            "[0.20000501 0.19998688 0.19998688 0.20000501 0.20001621]\n",
            "[0.20001397 0.20000432 0.1999887  0.1999887  0.20000432]\n",
            "[0.20000372 0.20001204 0.20000372 0.19999026 0.19999026]\n",
            "[0.19999161 0.20000321 0.20001038 0.20000321 0.19999161]\n",
            "[0.19999277 0.19999277 0.20000276 0.20000894 0.20000276]\n",
            "[0.20000238 0.19999377 0.19999377 0.20000238 0.20000771]\n",
            "[0.20000664 0.20000205 0.19999463 0.19999463 0.20000205]\n",
            "[0.20000177 0.20000572 0.20000177 0.19999537 0.19999537]\n",
            "[0.19999601 0.20000152 0.20000493 0.20000152 0.19999601]\n",
            "[0.19999656 0.19999656 0.20000131 0.20000425 0.20000131]\n",
            "[0.20000113 0.19999704 0.19999704 0.20000113 0.20000366]\n",
            "[0.20000316 0.20000098 0.19999745 0.19999745 0.20000098]\n",
            "[0.20000084 0.20000272 0.20000084 0.1999978  0.1999978 ]\n",
            "[0.1999981  0.20000072 0.20000234 0.20000072 0.1999981 ]\n",
            "[0.19999837 0.19999837 0.20000062 0.20000202 0.20000062]\n",
            "[0.20000054 0.19999859 0.19999859 0.20000054 0.20000174]\n",
            "[0.2000015  0.20000046 0.19999879 0.19999879 0.20000046]\n",
            "[0.2000004  0.20000129 0.2000004  0.19999895 0.19999895]\n",
            "[0.1999991  0.20000034 0.20000111 0.20000034 0.1999991 ]\n",
            "[0.19999922 0.19999922 0.2000003  0.20000096 0.2000003 ]\n",
            "[0.20000026 0.19999933 0.19999933 0.20000026 0.20000083]\n",
            "[0.20000071 0.20000022 0.19999942 0.19999942 0.20000022]\n",
            "[0.20000019 0.20000061 0.20000019 0.1999995  0.1999995 ]\n",
            "[0.19999957 0.20000016 0.20000053 0.20000016 0.19999957]\n",
            "[0.19999963 0.19999963 0.20000014 0.20000046 0.20000014]\n",
            "[0.20000012 0.19999968 0.19999968 0.20000012 0.20000039]\n",
            "[0.20000034 0.2000001  0.19999973 0.19999973 0.2000001 ]\n",
            "[0.20000009 0.20000029 0.20000009 0.19999976 0.19999976]\n",
            "[0.1999998  0.20000008 0.20000025 0.20000008 0.1999998 ]\n",
            "[0.19999982 0.19999982 0.20000007 0.20000022 0.20000007]\n",
            "[0.20000006 0.19999985 0.19999985 0.20000006 0.20000019]\n",
            "[0.20000016 0.20000005 0.19999987 0.19999987 0.20000005]\n",
            "[0.20000004 0.20000014 0.20000004 0.19999989 0.19999989]\n"
          ]
        }
      ]
    },
    {
      "cell_type": "markdown",
      "metadata": {
        "id": "O2VqIFemZeK7"
      },
      "source": [
        "# Sense and Move\n"
      ]
    },
    {
      "cell_type": "markdown",
      "metadata": {
        "id": "57ZkIEYXfHm2"
      },
      "source": [
        "[Pizarra](https://jamboard.google.com/d/1_hrIzxYzVzBlikjVzoWb4Bn4ortIB128wx13MfWvlqc/viewer)\n",
        "\n"
      ]
    },
    {
      "cell_type": "code",
      "metadata": {
        "id": "ju_KEfJTsRNQ",
        "colab": {
          "base_uri": "https://localhost:8080/"
        },
        "outputId": "631ccd4e-615d-4496-c3aa-4171724bacc5"
      },
      "source": [
        "# Con la lista de movimientos dados \n",
        "# motions = [1,1] que significa que el robot se mueve dos veces hacia la derecha\n",
        "# calcular la probabilidad a posteriori si el robot\n",
        "# primero mide rojo, luego se mueve, luego mide verde y se mueve de nuevo.\n",
        "# Comenzando con una distribución a priori uniforme.\n",
        "\n",
        "p=[0.2, 0.2, 0.2, 0.2, 0.2]\n",
        "world=['green', 'red', 'red', 'green', 'green']\n",
        "measurements = ['red', 'green']\n",
        "motions = [1,1]\n",
        "pHit = 0.6\n",
        "pMiss = 0.2\n",
        "pExact = 0.8\n",
        "pOvershoot = 0.1\n",
        "pUndershoot = 0.1\n",
        "\n",
        "def sense(p,Z):\n",
        "  pHit = 0.6\n",
        "  pMiss = 0.2\n",
        "  observacion = np.zeros(len(p))\n",
        "  for i in range(len(p)):\n",
        "    if Z == mundo[i]:\n",
        "      observacion[i] = pHit\n",
        "    else:\n",
        "      observacion[i] = pMiss\n",
        "  q = (observacion*p)/np.sum(observacion*p)\n",
        "  return q\n",
        "\n",
        "def move(p,U):\n",
        "  q = np.zeros(len(p))\n",
        "\n",
        "  i = U - 1\n",
        "  a_list = deque(p)\n",
        "  a_list.rotate(i)\n",
        "  q += np.array(a_list) * pUndershoot\n",
        "\n",
        "  i = U\n",
        "  a_list = deque(p)\n",
        "  a_list.rotate(i)\n",
        "  q += np.array(a_list) * pExact\n",
        "  \n",
        "  i = U + 1\n",
        "  a_list = deque(p)\n",
        "  a_list.rotate(i)\n",
        "  q += np.array(a_list) * pOvershoot\n",
        "  return q\n",
        "\n",
        "for k in range(len(measurements)):\n",
        "  p = sense(p, measurements[k])\n",
        "  p = move(p, motions[k])\n",
        "  print(p)\n",
        "\n",
        "print()\n",
        "# Analizar los resultados observando las mediciones y el mundo.\n",
        "# Ahora hacer el mismo ejemplo con\n",
        "# measurements = ['red','red']\n",
        "p=[0.2, 0.2, 0.2, 0.2, 0.2]\n",
        "world=['green', 'red', 'red', 'green', 'green']\n",
        "measurements = ['red', 'red']\n",
        "\n",
        "for k in range(len(measurements)):\n",
        "  p = sense(p, measurements[k])\n",
        "  p = move(p, motions[k])\n",
        "  print(p)"
      ],
      "execution_count": 27,
      "outputs": [
        {
          "output_type": "stream",
          "name": "stdout",
          "text": [
            "[0.11111111 0.13333333 0.31111111 0.31111111 0.13333333]\n",
            "[0.21157895 0.15157895 0.08105263 0.16842105 0.38736842]\n",
            "\n",
            "[0.11111111 0.13333333 0.31111111 0.31111111 0.13333333]\n",
            "[0.07882353 0.07529412 0.22470588 0.43294118 0.18823529]\n"
          ]
        }
      ]
    },
    {
      "cell_type": "code",
      "metadata": {
        "id": "nCveTsF9sQQP"
      },
      "source": [
        ""
      ],
      "execution_count": null,
      "outputs": []
    }
  ]
}