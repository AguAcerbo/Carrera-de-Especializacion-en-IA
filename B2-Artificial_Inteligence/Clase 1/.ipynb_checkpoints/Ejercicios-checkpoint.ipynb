{
 "cells": [
  {
   "cell_type": "code",
   "execution_count": 2,
   "id": "9972e9d4",
   "metadata": {},
   "outputs": [],
   "source": [
    "import numpy as np"
   ]
  },
  {
   "cell_type": "markdown",
   "id": "230b0620",
   "metadata": {},
   "source": [
    "# Ejercicio 1: Operaciones Matriciales\n",
    "Dada una matriz en formato numpy array, donde cada fila de la matriz representa un vector matemático:\n",
    "\n",
    "Computar las normas l0, l1, l2, l-infinito "
   ]
  },
  {
   "cell_type": "code",
   "execution_count": 24,
   "id": "2611edf3",
   "metadata": {},
   "outputs": [
    {
     "name": "stdout",
     "output_type": "stream",
     "text": [
      "[[2 4 7 5]\n",
      " [5 5 6 4]\n",
      " [6 8 6 9]\n",
      " [6 6 9 9]\n",
      " [7 0 1 7]]\n"
     ]
    }
   ],
   "source": [
    "A = np.random.randint(0, 10, (5, 4))\n",
    "print(A)"
   ]
  },
  {
   "cell_type": "markdown",
   "id": "a89b70f3",
   "metadata": {},
   "source": [
    "#### Norma 0 (I0)"
   ]
  },
  {
   "cell_type": "code",
   "execution_count": 25,
   "id": "8e9a5899",
   "metadata": {},
   "outputs": [],
   "source": [
    "def norma_0(matriz):\n",
    "    \"\"\"Calcula la norma cero de los vectores filas de la matriz\n",
    "    que recibe. Es decir, devuelve la cantidad de valores distintos\n",
    "    de cero que hay en cada vector\"\"\"\n",
    "    return np.count_nonzero(matriz, axis=1)"
   ]
  },
  {
   "cell_type": "markdown",
   "id": "431288e4",
   "metadata": {},
   "source": [
    "#### Norma p\n",
    "<p style='text-align: justify;'>\n",
    "    Devuelve la noma:\n",
    "</p>\n",
    "\n",
    "<p style='text-align: center;'>\n",
    "    $||x||_p = \\Large (\\sum \\limits _{i=1} ^{n} |x_i|^p)^{1/p}$\n",
    "</p>"
   ]
  },
  {
   "cell_type": "code",
   "execution_count": 26,
   "id": "3d7f454a",
   "metadata": {},
   "outputs": [],
   "source": [
    "def norma_p(matriz, p=1):\n",
    "    \"\"\"Calcula la norma p de los vectores\n",
    "    filas de la matriz que recibe.\"\"\"\n",
    "    return np.power(np.sum(np.power(np.abs(matriz),p),axis=1),1/p)"
   ]
  },
  {
   "cell_type": "markdown",
   "id": "5866a7ba",
   "metadata": {},
   "source": [
    "#### Norma infinita $\\infty$ (I-infinito)\n",
    "<p style='text-align: center;'>\n",
    "    $||x||_\\infty =  max_i |x_i|$\n",
    "</p>"
   ]
  },
  {
   "cell_type": "code",
   "execution_count": 27,
   "id": "5c056bb7",
   "metadata": {},
   "outputs": [],
   "source": [
    "def normainf(matriz):\n",
    "    \"\"\"Calcula la norma infinito de los vectores filas de la matriz\n",
    "    que recibe. Es decir, devuelve el elemento de mayor valor que \n",
    "    hay en cada vector\"\"\"\n",
    "    return np.amax(matriz,axis = 1)"
   ]
  },
  {
   "cell_type": "markdown",
   "id": "53ae2fe2",
   "metadata": {},
   "source": [
    "#### Adicional: Deteccion de elemento de valor minimo"
   ]
  },
  {
   "cell_type": "code",
   "execution_count": 28,
   "id": "63eac99d",
   "metadata": {},
   "outputs": [],
   "source": [
    "def minimo(matriz):\n",
    "    return np.amin(matriz,axis = 1)"
   ]
  },
  {
   "cell_type": "code",
   "execution_count": 29,
   "id": "29ab675c",
   "metadata": {},
   "outputs": [
    {
     "name": "stdout",
     "output_type": "stream",
     "text": [
      "Vector: [2 4 7 5]\n",
      "Norma 0 (I0): 4\n",
      "Norma 1 (I1): 18.0\n",
      "Norma 2 (I2): 9.695359714832659\n",
      "Norma inf (I∞): 7\n",
      "\n",
      "Vector: [5 5 6 4]\n",
      "Norma 0 (I0): 4\n",
      "Norma 1 (I1): 20.0\n",
      "Norma 2 (I2): 10.099504938362077\n",
      "Norma inf (I∞): 6\n",
      "\n",
      "Vector: [6 8 6 9]\n",
      "Norma 0 (I0): 4\n",
      "Norma 1 (I1): 29.0\n",
      "Norma 2 (I2): 14.730919862656235\n",
      "Norma inf (I∞): 9\n",
      "\n",
      "Vector: [6 6 9 9]\n",
      "Norma 0 (I0): 4\n",
      "Norma 1 (I1): 30.0\n",
      "Norma 2 (I2): 15.297058540778355\n",
      "Norma inf (I∞): 9\n",
      "\n",
      "Vector: [7 0 1 7]\n",
      "Norma 0 (I0): 3\n",
      "Norma 1 (I1): 15.0\n",
      "Norma 2 (I2): 9.9498743710662\n",
      "Norma inf (I∞): 7\n",
      "\n"
     ]
    }
   ],
   "source": [
    "n_0 = norma_0(A)\n",
    "n_1 = norma_p(A, 1)\n",
    "n_2 = norma_p(A, 2)\n",
    "n_inf = normainf(A)\n",
    "for vector in range(A.shape[0]):\n",
    "    print(f\"Vector: {A[vector,:]}\")\n",
    "    print(f\"Norma 0 (I0): {n_0[vector]}\")\n",
    "    print(f\"Norma 1 (I1): {n_1[vector]}\")\n",
    "    print(f\"Norma 2 (I2): {n_2[vector]}\")\n",
    "    print(f\"Norma inf (I∞): {n_inf[vector]}\\n\")"
   ]
  },
  {
   "cell_type": "markdown",
   "id": "8d0b9c77",
   "metadata": {},
   "source": [
    "# Ejercicio 2: Sorting\n",
    "<p style='text-align: justify;'>\n",
    "    Dada una matriz en formato numpy array, donde cada fila de la matriz representa un vector matemático, se requiere computar la norma l2 de cada vector. Una vez obtenida la norma, se debe ordenar las mísmas de mayor a menor. Finalmente, obtener la matriz original ordenada por fila según la norma l2.\n",
    "\n",
    "\n",
    "Todas las operaciones debe ser vectorizadas.\n",
    "</p>"
   ]
  },
  {
   "cell_type": "code",
   "execution_count": 85,
   "id": "940e81e6",
   "metadata": {},
   "outputs": [],
   "source": [
    "def sort_of_vectors(matriz, p, show = False):\n",
    "    \"\"\"Ordena de mayor a menor segun el\n",
    "    valor de la norma p de los  vectores\n",
    "    filas de la matriz que recibe\n",
    "    * Devuelve la matriz con sus filas ordenadas segun la norma-2,\n",
    "    * El arreglo de indices de la matriz original ordenado segun la norma-2,\n",
    "    * El arreglo de norma-2 de la matriz original\"\"\"\n",
    "    n2 = norma_p(matriz, p)       #Genero un vector con las normas-2 de cada vector\n",
    "    orden = np.argsort(n2)[::-1]  #Genero un vector con los indices de manera ordenada segun la norma-2\n",
    "    matriz_sort = matriz[orden]   #Genero la matriz ordenada segun la norma-2 de los vectores filas\n",
    "    if show == True:\n",
    "        # Muestro el orden original\n",
    "        print(\"Orden original\")\n",
    "        for vector in range(matriz.shape[0]):\n",
    "            print(f\"Vector: {matriz[vector,:]} \\t Norma-{p}: {n2[vector]}\")\n",
    "        print(\"\\nOrdenado segun su norma 2\")\n",
    "        for vector in range(matriz.shape[0]):\n",
    "            print(f\"Vector: {matriz_sort[vector,:]} \\t Norma-{p}: {n2[orden[vector]]}\")\n",
    "    return matriz_sort, orden, n2"
   ]
  },
  {
   "cell_type": "code",
   "execution_count": 77,
   "id": "2b8fa58b",
   "metadata": {},
   "outputs": [
    {
     "name": "stdout",
     "output_type": "stream",
     "text": [
      "[[0 6 5 9]\n",
      " [6 9 5 0]\n",
      " [7 9 5 5]\n",
      " [8 8 0 6]\n",
      " [7 2 7 0]]\n"
     ]
    }
   ],
   "source": [
    "# Declaro la matriz\n",
    "B = np.random.randint(0, 10, (5, 4))\n",
    "print(B)"
   ]
  },
  {
   "cell_type": "code",
   "execution_count": 86,
   "id": "1dfdc11d",
   "metadata": {},
   "outputs": [
    {
     "name": "stdout",
     "output_type": "stream",
     "text": [
      "Orden original\n",
      "Vector: [0 6 5 9] \t Norma-2: 11.916375287812984\n",
      "Vector: [6 9 5 0] \t Norma-2: 11.916375287812984\n",
      "Vector: [7 9 5 5] \t Norma-2: 13.416407864998739\n",
      "Vector: [8 8 0 6] \t Norma-2: 12.806248474865697\n",
      "Vector: [7 2 7 0] \t Norma-2: 10.099504938362077\n",
      "\n",
      "Ordenado segun su norma 2\n",
      "Vector: [7 9 5 5] \t Norma-2: 13.416407864998739\n",
      "Vector: [8 8 0 6] \t Norma-2: 12.806248474865697\n",
      "Vector: [6 9 5 0] \t Norma-2: 11.916375287812984\n",
      "Vector: [0 6 5 9] \t Norma-2: 11.916375287812984\n",
      "Vector: [7 2 7 0] \t Norma-2: 10.099504938362077\n"
     ]
    }
   ],
   "source": [
    "p = 2\n",
    "BS, orden, n2 = sort_of_vectors(B, p, show = True)"
   ]
  },
  {
   "cell_type": "markdown",
   "id": "3eaa7f70",
   "metadata": {},
   "source": [
    "# Ejercicio 3: Indexing\n",
    "<p style='text-align: justify;'>\n",
    "    El objetivo es construir un índice para identificadores de usuarios, es decir id2idx e idx2id. Para ello crear una clase, donde el índice se genere en el constructor. Armar métodos get_users_id y get_users_idx.\n",
    "\n",
    "    - Identificadores de usuarios : users_id  = [15, 12, 14, 10, 1, 2, 1]\n",
    "    - Índice de usuarios :          users_idx = [ 0,  1,  2,  3, 4, 5, 4]\n",
    "    \n",
    "    id2idx =  [-1     4     5    -1    -1    -1     -1    -1    -1    -1     3     -1      1    -1     2     0]\n",
    "              [ 0     1     2     3     4     5      6     7     8     9    10     11     12    13    14    15]\n",
    "\n",
    "    id2idx[15] -> 0 ; id2idx[12] -> 1 ; id2idx[3] -> -1\n",
    "    idx2id[0] -> 15 ; idx2id[4] -> 1\n",
    "    \n",
    "</p>"
   ]
  },
  {
   "cell_type": "code",
   "execution_count": 53,
   "id": "68927100",
   "metadata": {},
   "outputs": [
    {
     "name": "stdout",
     "output_type": "stream",
     "text": [
      "ID:\t[ 0  1  2  3  4  5  6  7  8  9 10 11 12 13 14 15]\n",
      "Indice:\t[-1  4  5 -1 -1 -1 -1 -1 -1 -1  3 -1  1 -1  2  0]\n",
      "\n",
      "idx2id[0]->15\n",
      "idx2id[4]->1\n",
      "\n",
      "id2idx[15]->0\n",
      "id2idx[12]->1\n",
      "id2idx[3]->-1\n",
      "id2idx[1]->4\n"
     ]
    }
   ],
   "source": [
    "class UsersIndex:\n",
    "    def __init__(self,users_ids):\n",
    "        ids, idxs = np.unique(users_ids, return_index=True)\n",
    "        idx2 = np.full((np.max(ids)+1),-1)\n",
    "        idx2[ids]=idxs\n",
    "        \n",
    "        self.idx2id = idx2\n",
    "        self.id2idx = np.arange(ids.max()+1)\n",
    "        print(f\"ID:\\t{self.id2idx}\")\n",
    "        print(f\"Indice:\\t{self.idx2id}\")\n",
    "        \n",
    "        \n",
    "    def get_users_id(self, index):\n",
    "        if index != -1:\n",
    "            print(f\"idx2id[{index}]->{self.id2idx[np.argwhere(self.idx2id == index)[0,0]]}\")\n",
    "        else:\n",
    "            print(f\"idx2id[{index}]->{self.id2idx[np.argwhere(self.idx2id == index)[0,0]]}\")\n",
    "\n",
    "    def get_users_idx(self, identification):\n",
    "        print(f\"id2idx[{identification}]->{self.idx2id[np.argwhere(self.id2idx == identification)[0,0]]}\")\n",
    "        \n",
    "adm = UsersIndex([15, 12, 14, 10, 1, 2, 1])\n",
    "print()\n",
    "adm.get_users_id(0)\n",
    "adm.get_users_id(4)\n",
    "print()\n",
    "adm.get_users_idx(15)\n",
    "adm.get_users_idx(12)\n",
    "adm.get_users_idx(3)\n",
    "adm.get_users_idx(1)"
   ]
  },
  {
   "cell_type": "markdown",
   "id": "cc111987",
   "metadata": {},
   "source": [
    "# Ejercicio 4: Precision, Recall, Accuracy\n",
    "<p style='text-align: justify;'>\n",
    "    En los problemas de clasificación, se cuenta con dos arreglos, la verdad (ground truth) y la predicción (prediction). Cada elemento de los arreglos puede tomar dos valores: True (representado por 1) y False (representado por 0). Por lo tanto, se pueden definir cuatro variables:\n",
    "\n",
    "- True Positive (TP): la verdad es 1 y la predicción es 1.\n",
    "- True Negative (TN): la verdad es 0 y la predicción es 0.\n",
    "- False Negative (FN): la verdad es 1 y la predicción es 0.\n",
    "- False Positive (FP): la verdad es 0 y la predicción es 1.\n",
    "\n",
    "A partir de esas cuatro variables, se definen las siguientes métricas:\n",
    "\n",
    "- Precision = TP / (TP + FP)\n",
    "- Recall = TP / (TP + FN)\n",
    "- Accuracy = (TP + TN) / (TP + TN + FP + FN)\n",
    "\n",
    "Para los siguientes arreglos, representando la verdad y la predicción, calcular las métricas anteriores con operaciones vectorizadas en NumPy.\n",
    "\n",
    "* truth = [1,1,0,1,1,1,0,0,0,1]\n",
    "* prediction = [1,1,1,1,0,0,1,1,0,0]\n",
    "</p>"
   ]
  },
  {
   "cell_type": "code",
   "execution_count": 89,
   "id": "391822d6",
   "metadata": {},
   "outputs": [
    {
     "name": "stdout",
     "output_type": "stream",
     "text": [
      "[1, 1, 0, 1, 1, 1, 0, 0, 0, 1]\n",
      "[1, 1, 1, 1, 0, 0, 1, 1, 0, 0]\n"
     ]
    }
   ],
   "source": [
    "truth = [1, 1, 0, 1, 1, 1, 0, 0, 0, 1]\n",
    "pred = [1, 1, 1, 1, 0, 0, 1, 1, 0, 0]\n",
    "print(truth)\n",
    "print(pred)"
   ]
  },
  {
   "cell_type": "code",
   "execution_count": 90,
   "id": "b1e4d70a",
   "metadata": {},
   "outputs": [],
   "source": [
    "def PRA(truth, pred):\n",
    "    # Calculo el valor True Positive\n",
    "    TP = sum(np.logical_and(truth,pred))\n",
    "    # Calculo el valor True Negative\n",
    "    TN = sum(np.logical_and(np.logical_not(truth),np.logical_not(pred)))\n",
    "    # Calculo el valor False Negative\n",
    "    FN = sum(np.logical_and(truth,np.logical_not(pred)))\n",
    "    # Calculo el valor False Negative\n",
    "    FP = sum(np.logical_and(np.logical_not(truth),pred))\n",
    "    PRECISION = TP / (TP + FP)\n",
    "    RECALL = TP / (TP + FN)\n",
    "    ACCURACY = (TP + TN) / (TP + TN + FP + FN)\n",
    "    \n",
    "    return TP, TN, FN, FP, PRECISION, RECALL, ACCURACY"
   ]
  },
  {
   "cell_type": "code",
   "execution_count": 91,
   "id": "7dc7bcbd",
   "metadata": {},
   "outputs": [
    {
     "name": "stdout",
     "output_type": "stream",
     "text": [
      "Cantidad de Verdaderos Positivos: 3\n",
      "Cantidad de Verdaderos Negativos: 1\n",
      "Cantidad de Falsos Negativos: 3\n",
      "Cantidad de Falsos Positivos: 3\n",
      "Precision: 0.5\n",
      "Precision: 0.5\n",
      "Precision: 0.4\n"
     ]
    }
   ],
   "source": [
    "TP, TN, FN, FP, PRECISION, RECALL, ACCURACY = PRA(truth, pred)\n",
    "print(f\"Cantidad de Verdaderos Positivos: {TP}\")\n",
    "print(f\"Cantidad de Verdaderos Negativos: {TN}\")\n",
    "print(f\"Cantidad de Falsos Negativos: {FN}\")\n",
    "print(f\"Cantidad de Falsos Positivos: {FP}\")\n",
    "print(f\"Precision: {PRECISION}\")\n",
    "print(f\"Precision: {RECALL}\") #sensibilidad?\n",
    "print(f\"Precision: {ACCURACY}\")"
   ]
  },
  {
   "cell_type": "markdown",
   "id": "49def8fc",
   "metadata": {},
   "source": [
    "# Ejecicio 5: Average Query Precision\n",
    "<p style='text-align: justify;'>\n",
    "    En information retrieval o search engines, en general contamos con queries “q” y para cada “q” una lista de documentos que son verdaderamente relevantes. Para evaluar un search engine, es común utilizar la métrica average query precision. Tomando de referencia el siguiente ejemplo, calcular la métrica con NumPy utilizando operaciones vectorizadas.\n",
    "\n",
    "    q_id            = [1, 1, 1, 1, 2, 2, 2, 3, 3, 3, 3, 3, 4, 4, 4, 4]\n",
    "    predicted_rank  = [0, 1, 2, 3, 0, 1, 2, 0, 1, 2, 3, 4, 0, 1, 2, 3]\n",
    "    truth_relevance = [T, F, T, F, T, T, T, F, F, F, F, F, T, F, F, T] \n",
    "\n",
    "* Precision para q_id 1 = 2 / 4\n",
    "* Precision para q_id 2 = 3 / 3\n",
    "* Precision para q_id 3 = 0 / 5\n",
    "* Precision para q_id 4 = 2 / 4\n",
    "\n",
    "Average query precision = ((2/4) + (3/3) + (0/5) + (2/4)) / 4\n",
    "</p>"
   ]
  },
  {
   "cell_type": "code",
   "execution_count": null,
   "id": "bdeb1c0e",
   "metadata": {},
   "outputs": [],
   "source": []
  },
  {
   "cell_type": "markdown",
   "id": "01f430db",
   "metadata": {},
   "source": []
  }
 ],
 "metadata": {
  "kernelspec": {
   "display_name": "Python 3",
   "language": "python",
   "name": "python3"
  },
  "language_info": {
   "codemirror_mode": {
    "name": "ipython",
    "version": 3
   },
   "file_extension": ".py",
   "mimetype": "text/x-python",
   "name": "python",
   "nbconvert_exporter": "python",
   "pygments_lexer": "ipython3",
   "version": "3.8.8"
  }
 },
 "nbformat": 4,
 "nbformat_minor": 5
}
