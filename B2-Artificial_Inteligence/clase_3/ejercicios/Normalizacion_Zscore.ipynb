{
 "cells": [
  {
   "cell_type": "markdown",
   "id": "de053836",
   "metadata": {},
   "source": [
    "# CLASE 3"
   ]
  },
  {
   "cell_type": "code",
   "execution_count": null,
   "id": "804bfe91",
   "metadata": {},
   "outputs": [],
   "source": [
    "import numpy as np"
   ]
  },
  {
   "cell_type": "code",
   "execution_count": 11,
   "id": "30e33bdd",
   "metadata": {},
   "outputs": [],
   "source": [
    "def dataset(muestras, features):\n",
    "    \n",
    "    '''Crea un dataset'''\n",
    "    \n",
    "    x = np.zeros((muestras,features))\n",
    "\n",
    "    for i in range(features):\n",
    "        mu = np.random.randint(100)\n",
    "        sigma = np.random.randint(1,10)\n",
    "        x[:,i] = np.random.normal(mu, sigma, muestras)\n",
    "    \n",
    "    return x"
   ]
  },
  {
   "cell_type": "code",
   "execution_count": null,
   "id": "cd6ea605",
   "metadata": {},
   "outputs": [],
   "source": [
    "x1 = dataset(10,5)\n",
    "print(x1)"
   ]
  },
  {
   "cell_type": "markdown",
   "id": "97411291",
   "metadata": {},
   "source": [
    "## Ejercicio 1: Normalización\n",
    "Muchos algoritmos de Machine Learning necesitan datos de entrada centrados y normalizados. Una normalización habitual es el z-score, que implica restarle la media y dividir por el desvío a cada feature de mi dataset.\n",
    "Dado un dataset X de n muestras y m features, implementar un método en numpy para normalizar con z-score. Pueden utilizar np.mean() y np.std()."
   ]
  },
  {
   "cell_type": "code",
   "execution_count": 12,
   "id": "9ce11f00",
   "metadata": {},
   "outputs": [],
   "source": [
    "def zscore(x):\n",
    "    return (x - x.mean(axis=0))/x.std(axis=0)"
   ]
  },
  {
   "cell_type": "code",
   "execution_count": 14,
   "id": "fc5ca269",
   "metadata": {},
   "outputs": [
    {
     "name": "stdout",
     "output_type": "stream",
     "text": [
      "[[-0.35584077  1.58792417  1.91747651 -0.28064966 -2.1393887 ]\n",
      " [-0.29908421 -1.0259985  -0.17111784  0.88867057 -0.89852575]\n",
      " [ 0.79464306  0.33829663  0.15580479 -0.58055939 -1.01896333]\n",
      " [ 1.26412749  0.90343262 -0.75867638  1.33708586  1.32611042]\n",
      " [ 0.65439746 -0.53513608 -0.08797972  0.98469524  0.13519131]\n",
      " [-2.01122158  0.41771199 -0.29545662 -2.05637708  0.47962712]\n",
      " [ 0.98502172  0.92133742  0.63471915 -0.63067693  0.72445328]\n",
      " [ 0.72622817 -0.96177296 -1.69064532 -0.63642413  0.63833004]\n",
      " [-0.74171729 -1.79915169  1.21896091 -0.02814174  0.79763298]\n",
      " [-1.01655405  0.1533564  -0.92308546  1.00237726 -0.04446736]]\n"
     ]
    }
   ],
   "source": [
    "print(zscore(x1))"
   ]
  },
  {
   "cell_type": "markdown",
   "id": "fad2ae59",
   "metadata": {},
   "source": [
    "### Agregar elementos NaN aleatorios"
   ]
  },
  {
   "cell_type": "code",
   "execution_count": 75,
   "id": "7ff1fe9f",
   "metadata": {},
   "outputs": [],
   "source": [
    "def nanvalues(data):\n",
    "    \n",
    "    \"\"\"Esta funcion agrega valores NaN a un dataset de forma aleatoria\"\"\"\n",
    "    \n",
    "    muestras, features = data.shape\n",
    "    \n",
    "    for feature in range(features):\n",
    "        #Cantidad de valores NaN que tendra el feature\n",
    "        value = np.random.randint(1,4)\n",
    "        \n",
    "        idx = np.random.randint(0,muestras,(muestras//value,1))\n",
    "        data[np.unique(idx),feature] = np.NaN\n",
    "    return data"
   ]
  },
  {
   "cell_type": "markdown",
   "id": "3be07d10",
   "metadata": {},
   "source": [
    "## NaN evaluation\n",
    "\n",
    "### Ejercicio 2: Remover filas y columnas con NaNs en un dataset\n",
    "Dado un dataset, hacer una función que, utilizando numpy, filtre las columnas y las filas que tienen NaNs.\n",
    "\n",
    "### Ejercicio 3: Reemplazar NaNs por la media de la columna.\n",
    "Dado un dataset, hacer una función que utilizando numpy reemplace los NaNs por la media de la columna."
   ]
  },
  {
   "cell_type": "code",
   "execution_count": 94,
   "id": "ed7555ab",
   "metadata": {},
   "outputs": [],
   "source": [
    "def nan_evaluation(dataset, threshold_muestra = 0.8, threshold_feature = 0.5):\n",
    "    \"\"\"\n",
    "    1ro: Elimina las muestras del dataset que superan threshold_muestra*nro_feature en cantidad de NaN.\n",
    "    \n",
    "    2do: Elimina los features del dataset que superen threshold_feature*muestras en cantidad de NaN.\n",
    "     \n",
    "    3ro: Si la cantidad de NaN es menor entonces lo reemplza por la media.\n",
    "    \"\"\"\n",
    "    dataset_bool = np.isnan(dataset)\n",
    "    clean_dataset = np.delete(dataset, np.argwhere((np.sum(dataset_bool, axis=1) >= threshold_muestra*dataset.shape[1]) == True), axis = 0)\n",
    "    \n",
    "    dataset_bool = np.isnan(clean_dataset)\n",
    "    clean_dataset = np.delete(clean_dataset, np.argwhere((np.sum(dataset_bool, axis=0) >= threshold_feature*clean_dataset.shape[0]) == True), axis = 1)\n",
    "\n",
    "    dataset_bool = np.isnan(clean_dataset)\n",
    "    for feature in range(clean_dataset.shape[1]):\n",
    "        clean_dataset[dataset_bool[:,feature]==True, feature] = clean_dataset[dataset_bool[:,feature]==False, feature].mean()\n",
    "    \n",
    "    return clean_dataset"
   ]
  },
  {
   "cell_type": "code",
   "execution_count": 87,
   "id": "539a55db",
   "metadata": {},
   "outputs": [
    {
     "name": "stdout",
     "output_type": "stream",
     "text": [
      "[[18.42762342         nan 56.77623424 35.17573623         nan]\n",
      " [23.71409567 77.63707535         nan 31.8317243          nan]\n",
      " [25.58161669 81.87441848         nan         nan         nan]\n",
      " [19.08486918 77.53187678 46.5550717  30.7673192          nan]\n",
      " [18.73017753 86.81121379 52.48747424 23.90849744  4.64244059]\n",
      " [        nan         nan 41.36347117         nan         nan]\n",
      " [22.45735407 77.08153179         nan 34.79856169  5.70423764]\n",
      " [22.68439264 84.88057597 41.97937385         nan         nan]\n",
      " [16.82630365 84.0273469          nan         nan         nan]\n",
      " [14.42641053 74.27374702 58.60159917 30.67524204  3.35194073]\n",
      " [17.82759614         nan 62.27384929         nan  6.42232994]\n",
      " [19.55514883 82.12392029 52.7407611  40.89030699         nan]\n",
      " [23.64064712 90.43578022 41.32780542 35.77283044         nan]\n",
      " [        nan 77.20343164         nan 38.21091005  4.45044392]\n",
      " [21.37501746         nan         nan         nan  7.2235319 ]\n",
      " [        nan 80.61845873 45.90638066 32.04201     4.59004482]\n",
      " [        nan 85.76532425 44.91045378 34.50663381  4.80695903]\n",
      " [20.18289713 77.67055182 47.3973197  32.84104554         nan]\n",
      " [        nan         nan 51.0927538  29.17501247         nan]\n",
      " [13.54601081 83.14785044         nan 28.34277951         nan]]\n"
     ]
    }
   ],
   "source": [
    "x = nanvalues(dataset(20,5))\n",
    "print(x)"
   ]
  },
  {
   "cell_type": "code",
   "execution_count": 96,
   "id": "f16fb77f",
   "metadata": {},
   "outputs": [
    {
     "name": "stdout",
     "output_type": "stream",
     "text": [
      "(15, 4)\n",
      "\n",
      "[[18.42762342 81.16779524 56.77623424 35.17573623]\n",
      " [23.71409567 77.63707535 50.08693847 31.8317243 ]\n",
      " [19.08486918 77.53187678 46.5550717  30.7673192 ]\n",
      " [18.73017753 86.81121379 52.48747424 23.90849744]\n",
      " [22.45735407 77.08153179 50.08693847 34.79856169]\n",
      " [22.68439264 84.88057597 41.97937385 33.05873825]\n",
      " [14.42641053 74.27374702 58.60159917 30.67524204]\n",
      " [17.82759614 81.16779524 62.27384929 33.05873825]\n",
      " [19.55514883 82.12392029 52.7407611  40.89030699]\n",
      " [23.64064712 90.43578022 41.32780542 35.77283044]\n",
      " [19.52310192 77.20343164 50.08693847 38.21091005]\n",
      " [19.52310192 80.61845873 45.90638066 32.04201   ]\n",
      " [19.52310192 85.76532425 44.91045378 34.50663381]\n",
      " [20.18289713 77.67055182 47.3973197  32.84104554]\n",
      " [13.54601081 83.14785044 50.08693847 28.34277951]]\n"
     ]
    }
   ],
   "source": [
    "clean_dataset = nan_evaluation(x, 0.6, 0.5)\n",
    "print(clean_dataset.shape)\n",
    "print()\n",
    "print(clean_dataset)"
   ]
  },
  {
   "cell_type": "code",
   "execution_count": null,
   "id": "118540d5",
   "metadata": {},
   "outputs": [],
   "source": []
  }
 ],
 "metadata": {
  "kernelspec": {
   "display_name": "Python 3",
   "language": "python",
   "name": "python3"
  },
  "language_info": {
   "codemirror_mode": {
    "name": "ipython",
    "version": 3
   },
   "file_extension": ".py",
   "mimetype": "text/x-python",
   "name": "python",
   "nbconvert_exporter": "python",
   "pygments_lexer": "ipython3",
   "version": "3.8.8"
  }
 },
 "nbformat": 4,
 "nbformat_minor": 5
}
