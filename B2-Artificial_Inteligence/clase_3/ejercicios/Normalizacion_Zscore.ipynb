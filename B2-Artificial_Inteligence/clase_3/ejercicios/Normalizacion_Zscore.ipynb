{
 "cells": [
  {
   "cell_type": "code",
   "execution_count": 10,
   "id": "c7dbef7a",
   "metadata": {},
   "outputs": [],
   "source": [
    "import numpy as np"
   ]
  },
  {
   "cell_type": "code",
   "execution_count": 14,
   "id": "30e33bdd",
   "metadata": {},
   "outputs": [],
   "source": [
    "def dataset(muestras, features):\n",
    "\n",
    "    x = np.zeros((muestras,features))\n",
    "\n",
    "    for i in range(features):\n",
    "        mu = np.random.randint(100)\n",
    "        sigma = np.random.randint(10)\n",
    "        x[:,i] = np.random.normal(mu, sigma, muestras)\n",
    "    \n",
    "    return x"
   ]
  },
  {
   "cell_type": "code",
   "execution_count": 15,
   "id": "9ce11f00",
   "metadata": {},
   "outputs": [],
   "source": [
    "def zscore(x):\n",
    "    return (x - x.mean(axis=0))/x.std(axis=0)"
   ]
  },
  {
   "cell_type": "code",
   "execution_count": 19,
   "id": "fd7151a0",
   "metadata": {},
   "outputs": [
    {
     "name": "stdout",
     "output_type": "stream",
     "text": [
      "[[ 95.07231538  67.29109473  94.94659766  77.06886125  72.05241462\n",
      "   68.27950432 110.9723269   72.3383281 ]\n",
      " [ 96.05194288  65.39132869  92.92021025  75.76681251  63.46697717\n",
      "   71.52606031  92.94830819  75.23984738]\n",
      " [ 96.34648662  69.90814571  99.53180568  77.79358059  57.87053533\n",
      "   76.13512103 101.8227317   64.08173064]\n",
      " [ 92.39273353  74.66382858  95.97314125  73.93846339  75.10430515\n",
      "   70.75040232  87.97074308  76.87339387]\n",
      " [ 96.6245891   67.28514027  95.94320501  70.35327235  50.68288719\n",
      "   75.4727911   99.45459118  65.49267384]]\n"
     ]
    }
   ],
   "source": [
    "x1 = dataset(5,8)\n",
    "print(x1)"
   ]
  },
  {
   "cell_type": "code",
   "execution_count": 20,
   "id": "fc5ca269",
   "metadata": {},
   "outputs": [
    {
     "name": "stdout",
     "output_type": "stream",
     "text": [
      "[[-0.14592203 -0.50258675 -0.42747086  0.78357543  0.91502161 -1.40244045\n",
      "   1.56926185  0.29808375]\n",
      " [ 0.48856721 -1.09312958 -1.37272069  0.29416621 -0.04102922 -0.30617178\n",
      "  -0.72309186  0.86221979]\n",
      " [ 0.67933853  0.31092431  1.71139315  1.05598023 -0.66423367  1.2501756\n",
      "   0.40558638 -1.30722839]\n",
      " [-1.88144482  1.78922971  0.05138138 -0.39306683  1.25487178 -0.56808919\n",
      "  -1.35615488  1.17982665]\n",
      " [ 0.85946111 -0.5044377   0.03741701 -1.74065505 -1.4646305   1.02652582\n",
      "   0.10439851 -1.0329018 ]]\n"
     ]
    }
   ],
   "source": [
    "print(zscore(x1))"
   ]
  },
  {
   "cell_type": "code",
   "execution_count": null,
   "id": "8c08803c",
   "metadata": {},
   "outputs": [],
   "source": []
  }
 ],
 "metadata": {
  "kernelspec": {
   "display_name": "Python 3",
   "language": "python",
   "name": "python3"
  },
  "language_info": {
   "codemirror_mode": {
    "name": "ipython",
    "version": 3
   },
   "file_extension": ".py",
   "mimetype": "text/x-python",
   "name": "python",
   "nbconvert_exporter": "python",
   "pygments_lexer": "ipython3",
   "version": "3.8.8"
  }
 },
 "nbformat": 4,
 "nbformat_minor": 5
}
