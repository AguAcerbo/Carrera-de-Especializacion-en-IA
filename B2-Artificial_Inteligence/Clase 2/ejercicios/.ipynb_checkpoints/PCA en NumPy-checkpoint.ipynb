{
 "cells": [
  {
   "cell_type": "markdown",
   "metadata": {},
   "source": [
    "# Implementación de PCA en NumPy"
   ]
  },
  {
   "cell_type": "markdown",
   "metadata": {},
   "source": [
    "## Objetivos\n",
    "* Implementación de PCA en NumPy paso a paso\n",
    "* Comparación de resultados con Scikit-learn"
   ]
  },
  {
   "cell_type": "code",
   "execution_count": 3,
   "metadata": {},
   "outputs": [],
   "source": [
    "import numpy as np"
   ]
  },
  {
   "cell_type": "markdown",
   "metadata": {},
   "source": [
    "## Implementación"
   ]
  },
  {
   "cell_type": "markdown",
   "metadata": {},
   "source": [
    "1. Dado un dataset $X \\in \\mathbb{R}^{n, d}$, con $n$ muestras y $d$ features, queremos reducir sus dimensiones a $m$. Para ello, el primer paso es centrar el dataset (Hint: usen np.mean)"
   ]
  },
  {
   "cell_type": "code",
   "execution_count": 3,
   "metadata": {},
   "outputs": [],
   "source": [
    "def cent_dataset(x):\n",
    "    \"\"\"\n",
    "    Esta funcion recibe un dataset y lo centra con el fin de que tenga media 0\n",
    "    Devuelve el data set centrado y la matriz con los valores de la media de cada uno\n",
    "    \"\"\"\n",
    "    media = x.mean(axis=1)\n",
    "    return x - media[:,None] , media"
   ]
  },
  {
   "cell_type": "markdown",
   "metadata": {},
   "source": [
    "2. Obtener la matriz de covarianza de $X^T$, revisar en la teoría por qué utilizamos la transpuesta. Buscar en la documentación de NumPy qué funciones se pueden utilizar."
   ]
  },
  {
   "cell_type": "code",
   "execution_count": 28,
   "metadata": {},
   "outputs": [],
   "source": [
    "def transpose_dataset(x):\n",
    "    return x.transpose()"
   ]
  },
  {
   "cell_type": "markdown",
   "metadata": {},
   "source": [
    "3. Calcular los autovalores y autovectores de la matriz de covarianza. Revisar la documentación de NumPy."
   ]
  },
  {
   "cell_type": "code",
   "execution_count": 7,
   "metadata": {},
   "outputs": [],
   "source": [
    "def covarianza_dataset(x):\n",
    "    s = x.dot(x.transpose()) / x.shape[0]\n",
    "    autovalores, autovectores = np.linalg.eigh(s)\n",
    "        # np.linalg.eigh():\n",
    "        # Return the eigenvalues and eigenvectors of a complex Hermitian\n",
    "            #(conjugate symmetric) or a real symmetric matrix.\n",
    "        # Returns two objects, a 1-D array containing the eigenvalues of a, \n",
    "            # and a 2-D square array or matrix (depending on the input type) \n",
    "            # of the corresponding eigenvectors (in columns).\n",
    "    return s, autovalores, autovectores"
   ]
  },
  {
   "cell_type": "markdown",
   "metadata": {},
   "source": [
    "4. Ordernar los autovectores en el sentido de los autovalores decrecientes, revisar la teoría de ser necesario."
   ]
  },
  {
   "cell_type": "code",
   "execution_count": 8,
   "metadata": {},
   "outputs": [],
   "source": [
    "def sort_eig(autovalores, autovectores):\n",
    "    arg_sort = np.argsort(autovalores)[::-1]\n",
    "    autovalores = autovalores[arg_sort]\n",
    "    autovectores = autovectores[:,arg_sort]\n",
    "    return autovalores, autovectores"
   ]
  },
  {
   "cell_type": "markdown",
   "metadata": {},
   "source": [
    "5. Proyectar el dataset centrado sobre los $m$ autovectores más relevantes (Hint: usen np.dot)."
   ]
  },
  {
   "cell_type": "code",
   "execution_count": 38,
   "metadata": {},
   "outputs": [],
   "source": [
    "def calculo_B(m, autovectores):\n",
    "    \"\"\"m debe ser menor o igual al numero de columanas de la matriz de autovectores\"\"\"\n",
    "    return autovectores[:,:m]"
   ]
  },
  {
   "cell_type": "markdown",
   "metadata": {},
   "source": [
    "6. Consolidar los pasos anteriores en una función o clase PCA."
   ]
  },
  {
   "cell_type": "code",
   "execution_count": 36,
   "metadata": {},
   "outputs": [],
   "source": [
    "def PCA_numpy(x, n_components=2):\n",
    "    # centro el dataset\n",
    "    x_cent = x.copy()\n",
    "    x_cent = x_cent -  x.mean(axis=0)\n",
    "    \n",
    "    s = (x_cent.T@x_cent) / x_cent.shape[0]\n",
    "    autovalores, autovectores = np.linalg.eig(s)\n",
    "    \n",
    "    arg_sort = np.argsort(autovalores)[::-1]\n",
    "    autovalores = autovalores[arg_sort]\n",
    "    autovectores = autovectores[:,arg_sort]\n",
    "    \n",
    "    B = autovectores[:,:n_components]\n",
    "    \n",
    "    z = np.dot(x_cent,B)\n",
    "    x_recuperada = np.dot(z,B.T) + x.mean(axis=0)\n",
    "\n",
    "    return B, z, x_recuperada"
   ]
  },
  {
   "cell_type": "markdown",
   "metadata": {},
   "source": [
    "7. Comparar los resultados obtenidos con el modelo de PCA implementado en Scikit-learn ([ver documentación](https://scikit-learn.org/stable/modules/generated/sklearn.decomposition.PCA.html)). Tomar como dataset:\n",
    "\n",
    "$X=\\begin{bmatrix}\n",
    "0.8 & 0.7\\\\\n",
    "0.1 & -0.1\n",
    "\\end{bmatrix}$\n",
    "\n",
    "Se debe reducir a un componente. Verificar los resultados con np.testing.assert_allclose"
   ]
  },
  {
   "cell_type": "code",
   "execution_count": 37,
   "metadata": {},
   "outputs": [
    {
     "name": "stdout",
     "output_type": "stream",
     "text": [
      "PCA en Numpy\n",
      "Matriz de transformacion\n",
      " [[-0.65850461]\n",
      " [-0.75257669]]\n",
      "Matriz reducida\n",
      " [[-0.53150729]\n",
      " [ 0.53150729]]\n",
      "Matriz recuperada\n",
      " [[ 0.8  0.7]\n",
      " [ 0.1 -0.1]]\n",
      "\n",
      "PCA por SCIKIT\n",
      "Matriz reducida\n",
      " [[-0.53150729]\n",
      " [ 0.53150729]]\n",
      "Matriz recuperada\n",
      " [[ 0.8  0.7]\n",
      " [ 0.1 -0.1]]\n"
     ]
    }
   ],
   "source": [
    "x = np.array([[0.8,0.7],[0.1, -0.1]])\n",
    "\n",
    "B, z, x_recuperada = PCA_numpy(x,1)\n",
    "print(\"PCA en Numpy\")\n",
    "print(\"Matriz de transformacion\\n\",B)\n",
    "print(\"Matriz reducida\\n\",z)\n",
    "print(\"Matriz recuperada\\n\", x_recuperada)\n",
    "\n",
    "from sklearn.decomposition import PCA\n",
    "print(\"\\nPCA por SCIKIT\")\n",
    "pca = PCA(n_components=1)\n",
    "pca.fit(x)\n",
    "print(\"Matriz reducida\\n\",pca.transform(x))\n",
    "print(\"Matriz recuperada\\n\",pca.inverse_transform(pca.transform(x)))"
   ]
  },
  {
   "cell_type": "code",
   "execution_count": null,
   "metadata": {},
   "outputs": [],
   "source": []
  }
 ],
 "metadata": {
  "kernelspec": {
   "display_name": "Python 3",
   "language": "python",
   "name": "python3"
  },
  "language_info": {
   "codemirror_mode": {
    "name": "ipython",
    "version": 3
   },
   "file_extension": ".py",
   "mimetype": "text/x-python",
   "name": "python",
   "nbconvert_exporter": "python",
   "pygments_lexer": "ipython3",
   "version": "3.8.8"
  }
 },
 "nbformat": 4,
 "nbformat_minor": 4
}
