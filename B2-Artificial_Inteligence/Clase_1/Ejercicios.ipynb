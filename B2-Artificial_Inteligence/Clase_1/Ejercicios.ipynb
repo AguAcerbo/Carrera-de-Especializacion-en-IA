{
 "cells": [
  {
   "cell_type": "code",
   "execution_count": 1,
   "id": "9972e9d4",
   "metadata": {},
   "outputs": [],
   "source": [
    "import numpy as np"
   ]
  },
  {
   "cell_type": "markdown",
   "id": "230b0620",
   "metadata": {},
   "source": [
    "# Ejercicio 1: Operaciones Matriciales\n",
    "Dada una matriz en formato numpy array, donde cada fila de la matriz representa un vector matemático:\n",
    "\n",
    "Computar las normas l0, l1, l2, l-infinito "
   ]
  },
  {
   "cell_type": "code",
   "execution_count": 2,
   "id": "2611edf3",
   "metadata": {},
   "outputs": [
    {
     "name": "stdout",
     "output_type": "stream",
     "text": [
      "[[2 7 6 4]\n",
      " [4 2 2 3]\n",
      " [2 7 7 1]\n",
      " [6 8 8 5]\n",
      " [2 3 2 6]]\n"
     ]
    }
   ],
   "source": [
    "A = np.random.randint(0, 10, (5, 4))\n",
    "print(A)"
   ]
  },
  {
   "cell_type": "markdown",
   "id": "a89b70f3",
   "metadata": {},
   "source": [
    "#### Norma 0 (I0)"
   ]
  },
  {
   "cell_type": "code",
   "execution_count": 3,
   "id": "8e9a5899",
   "metadata": {},
   "outputs": [],
   "source": [
    "def norma_0(matriz):\n",
    "    \"\"\"Calcula la norma cero de los vectores filas de la matriz\n",
    "    que recibe. Es decir, devuelve la cantidad de valores distintos\n",
    "    de cero que hay en cada vector\"\"\"\n",
    "    return np.count_nonzero(matriz, axis=1)"
   ]
  },
  {
   "cell_type": "markdown",
   "id": "431288e4",
   "metadata": {},
   "source": [
    "#### Norma p\n",
    "<p style='text-align: justify;'>\n",
    "    Devuelve la noma:\n",
    "</p>\n",
    "\n",
    "<p style='text-align: center;'>\n",
    "    $||x||_p = \\Large (\\sum \\limits _{i=1} ^{n} |x_i|^p)^{1/p}$\n",
    "</p>"
   ]
  },
  {
   "cell_type": "code",
   "execution_count": 4,
   "id": "3d7f454a",
   "metadata": {},
   "outputs": [],
   "source": [
    "#def norma_p(matriz, p=1):\n",
    "    #\"\"\"Calcula la norma p de los vectores\n",
    "    #filas de la matriz que recibe.\"\"\"\n",
    "    #return np.power(np.sum(np.power(np.abs(matriz),p),axis=1),1/p)\n",
    "\n",
    "def norma_p(matriz, p=1, ax = 1):\n",
    "    \"\"\"Calcula la norma p de los vectores\n",
    "    filas de la matriz que recibe.\"\"\"\n",
    "    return np.power(np.sum(np.power(np.abs(matriz),p),axis=ax),1/p)"
   ]
  },
  {
   "cell_type": "markdown",
   "id": "5866a7ba",
   "metadata": {},
   "source": [
    "#### Norma infinita $\\infty$ (I-infinito)\n",
    "<p style='text-align: center;'>\n",
    "    $||x||_\\infty =  max_i |x_i|$\n",
    "</p>"
   ]
  },
  {
   "cell_type": "code",
   "execution_count": 5,
   "id": "5c056bb7",
   "metadata": {},
   "outputs": [],
   "source": [
    "def normainf(matriz):\n",
    "    \"\"\"Calcula la norma infinito de los vectores filas de la matriz\n",
    "    que recibe. Es decir, devuelve el elemento de mayor valor que \n",
    "    hay en cada vector\"\"\"\n",
    "    return np.amax(matriz,axis = 1)"
   ]
  },
  {
   "cell_type": "markdown",
   "id": "53ae2fe2",
   "metadata": {},
   "source": [
    "#### Adicional: Deteccion de elemento de valor minimo"
   ]
  },
  {
   "cell_type": "code",
   "execution_count": 6,
   "id": "63eac99d",
   "metadata": {},
   "outputs": [],
   "source": [
    "def minimo(matriz):\n",
    "    return np.amin(matriz,axis = 1)"
   ]
  },
  {
   "cell_type": "code",
   "execution_count": 7,
   "id": "29ab675c",
   "metadata": {},
   "outputs": [
    {
     "name": "stdout",
     "output_type": "stream",
     "text": [
      "Vector: [2 7 6 4]\n",
      "Norma 0 (I0): 4\n",
      "Norma 1 (I1): 19.0\n",
      "Norma 2 (I2): 10.246950765959598\n",
      "Norma inf (I∞): 7\n",
      "\n",
      "Vector: [4 2 2 3]\n",
      "Norma 0 (I0): 4\n",
      "Norma 1 (I1): 11.0\n",
      "Norma 2 (I2): 5.744562646538029\n",
      "Norma inf (I∞): 4\n",
      "\n",
      "Vector: [2 7 7 1]\n",
      "Norma 0 (I0): 4\n",
      "Norma 1 (I1): 17.0\n",
      "Norma 2 (I2): 10.14889156509222\n",
      "Norma inf (I∞): 7\n",
      "\n",
      "Vector: [6 8 8 5]\n",
      "Norma 0 (I0): 4\n",
      "Norma 1 (I1): 27.0\n",
      "Norma 2 (I2): 13.74772708486752\n",
      "Norma inf (I∞): 8\n",
      "\n",
      "Vector: [2 3 2 6]\n",
      "Norma 0 (I0): 4\n",
      "Norma 1 (I1): 13.0\n",
      "Norma 2 (I2): 7.280109889280518\n",
      "Norma inf (I∞): 6\n",
      "\n"
     ]
    }
   ],
   "source": [
    "n_0 = norma_0(A)\n",
    "n_1 = norma_p(A, 1)\n",
    "n_2 = norma_p(A, 2)\n",
    "n_inf = normainf(A)\n",
    "for vector in range(A.shape[0]):\n",
    "    print(f\"Vector: {A[vector,:]}\")\n",
    "    print(f\"Norma 0 (I0): {n_0[vector]}\")\n",
    "    print(f\"Norma 1 (I1): {n_1[vector]}\")\n",
    "    print(f\"Norma 2 (I2): {n_2[vector]}\")\n",
    "    print(f\"Norma inf (I∞): {n_inf[vector]}\\n\")"
   ]
  },
  {
   "cell_type": "markdown",
   "id": "8d0b9c77",
   "metadata": {},
   "source": [
    "# Ejercicio 2: Sorting\n",
    "<p style='text-align: justify;'>\n",
    "    Dada una matriz en formato numpy array, donde cada fila de la matriz representa un vector matemático, se requiere computar la norma l2 de cada vector. Una vez obtenida la norma, se debe ordenar las mísmas de mayor a menor. Finalmente, obtener la matriz original ordenada por fila según la norma l2.\n",
    "\n",
    "\n",
    "Todas las operaciones debe ser vectorizadas.\n",
    "</p>"
   ]
  },
  {
   "cell_type": "code",
   "execution_count": 8,
   "id": "940e81e6",
   "metadata": {},
   "outputs": [],
   "source": [
    "def sort_of_vectors(matriz, p, show = False):\n",
    "    \"\"\"Ordena de mayor a menor segun el\n",
    "    valor de la norma p de los  vectores\n",
    "    filas de la matriz que recibe\n",
    "    * Devuelve la matriz con sus filas ordenadas segun la norma-2,\n",
    "    * El arreglo de indices de la matriz original ordenado segun la norma-2,\n",
    "    * El arreglo de norma-2 de la matriz original\"\"\"\n",
    "    n2 = norma_p(matriz, p)       #Genero un vector con las normas-2 de cada vector\n",
    "    orden = np.argsort(n2)[::-1]  #Genero un vector con los indices de manera ordenada segun la norma-2\n",
    "    matriz_sort = matriz[orden]   #Genero la matriz ordenada segun la norma-2 de los vectores filas\n",
    "    if show == True:\n",
    "        # Muestro el orden original\n",
    "        print(\"Orden original\")\n",
    "        for vector in range(matriz.shape[0]):\n",
    "            print(f\"Vector: {matriz[vector,:]} \\t Norma-{p}: {n2[vector]}\")\n",
    "        print(\"\\nOrdenado segun su norma 2\")\n",
    "        for vector in range(matriz.shape[0]):\n",
    "            print(f\"Vector: {matriz_sort[vector,:]} \\t Norma-{p}: {n2[orden[vector]]}\")\n",
    "    return matriz_sort, orden, n2"
   ]
  },
  {
   "cell_type": "code",
   "execution_count": 9,
   "id": "2b8fa58b",
   "metadata": {},
   "outputs": [
    {
     "name": "stdout",
     "output_type": "stream",
     "text": [
      "[[7 6 2 8]\n",
      " [3 3 1 5]\n",
      " [1 2 4 1]\n",
      " [5 2 0 1]\n",
      " [3 8 3 8]]\n"
     ]
    }
   ],
   "source": [
    "# Declaro la matriz\n",
    "B = np.random.randint(0, 10, (5, 4))\n",
    "print(B)"
   ]
  },
  {
   "cell_type": "code",
   "execution_count": 10,
   "id": "1dfdc11d",
   "metadata": {},
   "outputs": [
    {
     "name": "stdout",
     "output_type": "stream",
     "text": [
      "Orden original\n",
      "Vector: [7 6 2 8] \t Norma-2: 12.36931687685298\n",
      "Vector: [3 3 1 5] \t Norma-2: 6.6332495807108\n",
      "Vector: [1 2 4 1] \t Norma-2: 4.69041575982343\n",
      "Vector: [5 2 0 1] \t Norma-2: 5.477225575051661\n",
      "Vector: [3 8 3 8] \t Norma-2: 12.083045973594572\n",
      "\n",
      "Ordenado segun su norma 2\n",
      "Vector: [7 6 2 8] \t Norma-2: 12.36931687685298\n",
      "Vector: [3 8 3 8] \t Norma-2: 12.083045973594572\n",
      "Vector: [3 3 1 5] \t Norma-2: 6.6332495807108\n",
      "Vector: [5 2 0 1] \t Norma-2: 5.477225575051661\n",
      "Vector: [1 2 4 1] \t Norma-2: 4.69041575982343\n"
     ]
    }
   ],
   "source": [
    "p = 2\n",
    "BS, orden, n2 = sort_of_vectors(B, p, show = True)"
   ]
  },
  {
   "cell_type": "markdown",
   "id": "3eaa7f70",
   "metadata": {},
   "source": [
    "# Ejercicio 3: Indexing\n",
    "<p style='text-align: justify;'>\n",
    "    El objetivo es construir un índice para identificadores de usuarios, es decir id2idx e idx2id. Para ello crear una clase, donde el índice se genere en el constructor. Armar métodos get_users_id y get_users_idx.\n",
    "\n",
    "    - Identificadores de usuarios : users_id  = [15, 12, 14, 10, 1, 2, 1]\n",
    "    - Índice de usuarios :          users_idx = [ 0,  1,  2,  3, 4, 5, 4]\n",
    "    \n",
    "    id2idx =  [-1     4     5    -1    -1    -1     -1    -1    -1    -1     3     -1      1    -1     2     0]\n",
    "              [ 0     1     2     3     4     5      6     7     8     9    10     11     12    13    14    15]\n",
    "\n",
    "    id2idx[15] -> 0 ; id2idx[12] -> 1 ; id2idx[3] -> -1\n",
    "    idx2id[0] -> 15 ; idx2id[4] -> 1\n",
    "    \n",
    "</p>"
   ]
  },
  {
   "cell_type": "code",
   "execution_count": 11,
   "id": "68927100",
   "metadata": {},
   "outputs": [
    {
     "name": "stdout",
     "output_type": "stream",
     "text": [
      "ID:\t[ 0  1  2  3  4  5  6  7  8  9 10 11 12 13 14 15]\n",
      "Indice:\t[-1  4  5 -1 -1 -1 -1 -1 -1 -1  3 -1  1 -1  2  0]\n",
      "\n",
      "idx2id[0]->15\n",
      "idx2id[4]->1\n",
      "\n",
      "id2idx[15]->0\n",
      "id2idx[12]->1\n",
      "id2idx[3]->-1\n",
      "id2idx[1]->4\n"
     ]
    }
   ],
   "source": [
    "class UsersIndex:\n",
    "    def __init__(self,users_ids):\n",
    "        ids, idxs = np.unique(users_ids, return_index=True)\n",
    "        idx2 = np.full((np.max(ids)+1),-1)\n",
    "        idx2[ids]=idxs\n",
    "        \n",
    "        self.idx2id = idx2\n",
    "        self.id2idx = np.arange(ids.max()+1)\n",
    "        print(f\"ID:\\t{self.id2idx}\")\n",
    "        print(f\"Indice:\\t{self.idx2id}\")\n",
    "        \n",
    "        \n",
    "    def get_users_id(self, index):\n",
    "        if index != -1:\n",
    "            print(f\"idx2id[{index}]->{self.id2idx[np.argwhere(self.idx2id == index)[0,0]]}\")\n",
    "        else:\n",
    "            print(f\"idx2id[{index}]->{self.id2idx[np.argwhere(self.idx2id == index)[0,0]]}\")\n",
    "\n",
    "    def get_users_idx(self, identification):\n",
    "        print(f\"id2idx[{identification}]->{self.idx2id[np.argwhere(self.id2idx == identification)[0,0]]}\")\n",
    "        \n",
    "adm = UsersIndex([15, 12, 14, 10, 1, 2, 1])\n",
    "print()\n",
    "adm.get_users_id(0)\n",
    "adm.get_users_id(4)\n",
    "print()\n",
    "adm.get_users_idx(15)\n",
    "adm.get_users_idx(12)\n",
    "adm.get_users_idx(3)\n",
    "adm.get_users_idx(1)"
   ]
  },
  {
   "cell_type": "markdown",
   "id": "cc111987",
   "metadata": {},
   "source": [
    "# Ejercicio 4: Precision, Recall, Accuracy\n",
    "<p style='text-align: justify;'>\n",
    "    En los problemas de clasificación, se cuenta con dos arreglos, la verdad (ground truth) y la predicción (prediction). Cada elemento de los arreglos puede tomar dos valores: True (representado por 1) y False (representado por 0). Por lo tanto, se pueden definir cuatro variables:\n",
    "\n",
    "- True Positive (TP): la verdad es 1 y la predicción es 1.\n",
    "- True Negative (TN): la verdad es 0 y la predicción es 0.\n",
    "- False Negative (FN): la verdad es 1 y la predicción es 0.\n",
    "- False Positive (FP): la verdad es 0 y la predicción es 1.\n",
    "\n",
    "A partir de esas cuatro variables, se definen las siguientes métricas:\n",
    "\n",
    "- Precision = TP / (TP + FP)\n",
    "- Recall = TP / (TP + FN)\n",
    "- Accuracy = (TP + TN) / (TP + TN + FP + FN)\n",
    "\n",
    "Para los siguientes arreglos, representando la verdad y la predicción, calcular las métricas anteriores con operaciones vectorizadas en NumPy.\n",
    "\n",
    "* truth = [1,1,0,1,1,1,0,0,0,1]\n",
    "* prediction = [1,1,1,1,0,0,1,1,0,0]\n",
    "</p>"
   ]
  },
  {
   "cell_type": "code",
   "execution_count": 12,
   "id": "391822d6",
   "metadata": {},
   "outputs": [
    {
     "name": "stdout",
     "output_type": "stream",
     "text": [
      "[1, 1, 0, 1, 1, 1, 0, 0, 0, 1]\n",
      "[1, 1, 1, 1, 0, 0, 1, 1, 0, 0]\n"
     ]
    }
   ],
   "source": [
    "truth = [1, 1, 0, 1, 1, 1, 0, 0, 0, 1]\n",
    "pred = [1, 1, 1, 1, 0, 0, 1, 1, 0, 0]\n",
    "print(truth)\n",
    "print(pred)"
   ]
  },
  {
   "cell_type": "code",
   "execution_count": 13,
   "id": "b1e4d70a",
   "metadata": {},
   "outputs": [],
   "source": [
    "def PRA(truth, pred):\n",
    "    # Calculo el valor True Positive\n",
    "    TP = sum(np.logical_and(truth,pred))\n",
    "    # Calculo el valor True Negative\n",
    "    TN = sum(np.logical_and(np.logical_not(truth),np.logical_not(pred)))\n",
    "    # Calculo el valor False Negative\n",
    "    FN = sum(np.logical_and(truth,np.logical_not(pred)))\n",
    "    # Calculo el valor False Positive\n",
    "    FP = sum(np.logical_and(np.logical_not(truth),pred))\n",
    "    PRECISION = TP / (TP + FP)\n",
    "    RECALL = TP / (TP + FN)\n",
    "    ACCURACY = (TP + TN) / (TP + TN + FP + FN)\n",
    "    \n",
    "    return TP, TN, FN, FP, PRECISION, RECALL, ACCURACY"
   ]
  },
  {
   "cell_type": "code",
   "execution_count": 14,
   "id": "7dc7bcbd",
   "metadata": {},
   "outputs": [
    {
     "name": "stdout",
     "output_type": "stream",
     "text": [
      "Cantidad de Verdaderos Positivos: 3\n",
      "Cantidad de Verdaderos Negativos: 1\n",
      "Cantidad de Falsos Negativos: 3\n",
      "Cantidad de Falsos Positivos: 3\n",
      "Precision: 0.5\n",
      "Precision: 0.5\n",
      "Precision: 0.4\n"
     ]
    }
   ],
   "source": [
    "TP, TN, FN, FP, PRECISION, RECALL, ACCURACY = PRA(truth, pred)\n",
    "print(f\"Cantidad de Verdaderos Positivos: {TP}\")\n",
    "print(f\"Cantidad de Verdaderos Negativos: {TN}\")\n",
    "print(f\"Cantidad de Falsos Negativos: {FN}\")\n",
    "print(f\"Cantidad de Falsos Positivos: {FP}\")\n",
    "print(f\"Precision: {PRECISION}\")\n",
    "print(f\"Precision: {RECALL}\") #sensibilidad?\n",
    "print(f\"Precision: {ACCURACY}\")"
   ]
  },
  {
   "cell_type": "markdown",
   "id": "49def8fc",
   "metadata": {},
   "source": [
    "# Ejecicio 5: Average Query Precision\n",
    "<p style='text-align: justify;'>\n",
    "    En information retrieval o search engines, en general contamos con queries “q” y para cada “q” una lista de documentos que son verdaderamente relevantes. Para evaluar un search engine, es común utilizar la métrica average query precision. Tomando de referencia el siguiente ejemplo, calcular la métrica con NumPy utilizando operaciones vectorizadas.\n",
    "\n",
    "    q_id            = [1, 1, 1, 1, 2, 2, 2, 3, 3, 3, 3, 3, 4, 4, 4, 4]\n",
    "    predicted_rank  = [0, 1, 2, 3, 0, 1, 2, 0, 1, 2, 3, 4, 0, 1, 2, 3]\n",
    "    truth_relevance = [T, F, T, F, T, T, T, F, F, F, F, F, T, F, F, T] \n",
    "\n",
    "* Precision para q_id 1 = 2 / 4\n",
    "* Precision para q_id 2 = 3 / 3\n",
    "* Precision para q_id 3 = 0 / 5\n",
    "* Precision para q_id 4 = 2 / 4\n",
    "\n",
    "Average query precision = ((2/4) + (3/3) + (0/5) + (2/4)) / 4\n",
    "</p>"
   ]
  },
  {
   "cell_type": "code",
   "execution_count": 15,
   "id": "bdeb1c0e",
   "metadata": {},
   "outputs": [],
   "source": [
    "def queryprecision(q_id, truth_relevance):\n",
    "    ids = np.unique(q_id)\n",
    "    \n",
    "    q_id_expanded = np.zeros((q_id.size, ids.size))\n",
    "    q_id_expanded = q_id_expanded + q_id[:, np.newaxis]\n",
    "    \n",
    "    truth_relevance_expanded = np.zeros((truth_relevance.size, ids.size))\n",
    "    truth_relevance_expanded = truth_relevance_expanded + truth_relevance[:, np.newaxis]\n",
    "    \n",
    "    relevance = np.sum((q_id_expanded == ids) & (truth_relevance_expanded == True),axis=0)\n",
    "    solicitudes = np.sum(q_id_expanded==ids,axis=0)\n",
    "    \n",
    "    return np.sum(relevance / solicitudes)/ids.size"
   ]
  },
  {
   "cell_type": "code",
   "execution_count": 16,
   "id": "862ceb3a",
   "metadata": {},
   "outputs": [
    {
     "data": {
      "text/plain": [
       "0.5"
      ]
     },
     "execution_count": 16,
     "metadata": {},
     "output_type": "execute_result"
    }
   ],
   "source": [
    "q_id            = np.array([1, 1, 1, 1, 2, 2, 2, 3, 3, 3, 3, 3, 4, 4, 4, 4])\n",
    "predicted_rank  = np.array([0, 1, 2, 3, 0, 1, 2, 0, 1, 2, 3, 4, 0, 1, 2, 3])\n",
    "truth_relevance = np.array([True, False, True, False, True, True, True, \n",
    "                            False,False, False, False, False, True, False, \n",
    "                            False, True])\n",
    "\n",
    "queryprecision(q_id, truth_relevance)"
   ]
  },
  {
   "cell_type": "markdown",
   "id": "a8587d5f",
   "metadata": {},
   "source": [
    "# Ejecicio 6: Distancia a centroides\n",
    "<p style='text-align: justify;'>\n",
    "    Dada una nube de puntos X y centroides C, obtener la distancia entre cada vector X y los centroides utilizando operaciones vectorizadas y broadcasting en NumPy. Utilizar como referencia los siguientes valores:\n",
    "    \n",
    "    X = [[1, 2, 3], [4, 5, 6], [7, 8, 9]]\n",
    "    C = [[1, 0, 0], [0, 1, 1]]\n",
    "   \n",
    "</p>"
   ]
  },
  {
   "cell_type": "code",
   "execution_count": 17,
   "id": "dd9490d0",
   "metadata": {},
   "outputs": [
    {
     "name": "stdout",
     "output_type": "stream",
     "text": [
      "\n",
      "Distancia entre [1 2 3] y [1 0 0] es 3.605551275463989. Diferencia [ 0 -2 -3]\n",
      "Distancia entre [4 5 6] y [1 0 0] es 8.366600265340756. Diferencia [-3 -5 -6]\n",
      "Distancia entre [7 8 9] y [1 0 0] es 13.45362404707371. Diferencia [-6 -8 -9]\n",
      "Distancia entre [1 2 3] y [0 1 1] es 2.449489742783178. Diferencia [-1 -1 -2]\n",
      "Distancia entre [4 5 6] y [0 1 1] es 7.54983443527075. Diferencia [-4 -4 -5]\n",
      "Distancia entre [7 8 9] y [0 1 1] es 12.727922061357855. Diferencia [-7 -7 -8]\n"
     ]
    }
   ],
   "source": [
    "x=np.array([[1,2,3],[4,5,6],[7,8,9]])\n",
    "c=np.array([[1,0,0],[0,1,1]])\n",
    "\n",
    "c_expanded=c[:,np.newaxis]  # o c_expanded = c[:,None]\n",
    "                            # si c era de mxn, c1 resultara de mx1xn (m cantidad de centroides, n dimensiones de centroides)\n",
    "\n",
    "distances = norma_p(c_expanded-x, p=2, ax = 2) \n",
    "# x es de kxn (k cantidad de vectores)\n",
    "# entonces c_expanded-x hace browscasting y transforma c_expanded en dimension nxkxm y a x en nxkxm\n",
    "# ax = 2 ya el el eje de la suma es sobre la profundidad\n",
    "print()\n",
    "\n",
    "# distances tendra dimensiones mxk\n",
    "\n",
    "for centroide in range(c.shape[0]):\n",
    "    for punto in range(x.shape[0]):\n",
    "        print(f\"Distancia entre {x[punto, :]} y {c[centroide, :]} es {distances[centroide, punto]}. Diferencia {(c_expanded-x)[centroide, punto]}\")"
   ]
  },
  {
   "cell_type": "markdown",
   "id": "860291e0",
   "metadata": {},
   "source": [
    "# Ejecicio 7: Distancia a centroides - parte 2\n",
    "<p style='text-align: justify;'>\n",
    "    Obtener para cada fila en X, el índice de la fila en C con distancia euclídea más pequeña.\n",
    "    Es decir, decir para cada fila en X a qué cluster pertenece en C.\n",
    "    Por ejemplo, si el resultado anterior fue:\n",
    "\n",
    "        # [[ 3.60555128 8.36660027 13.45362405]\n",
    "        # [ 2.44948974 7.54983444 12.72792206]]\n",
    "    \n",
    "    El programa debería devolver [1, 1, 1]\n",
    "   \n",
    "</p>"
   ]
  },
  {
   "cell_type": "code",
   "execution_count": 18,
   "id": "be97416b",
   "metadata": {},
   "outputs": [
    {
     "name": "stdout",
     "output_type": "stream",
     "text": [
      "\n",
      "[1 1 1]\n"
     ]
    }
   ],
   "source": [
    "min_distances = np.argmin(distances,axis=0)\n",
    "print()\n",
    "print(min_distances)"
   ]
  },
  {
   "cell_type": "markdown",
   "id": "c5f3d21f",
   "metadata": {},
   "source": [
    "# Ejecicio 8: Implementacion basica de K-means en Numpy\n",
    "<p style='text-align: justify;'>\n",
    "   K-means es uno de los algoritmos más básicos en Machine Learning no supervisado. Es un algoritmo de clusterización, que agrupa los datos que comparten características similares. Recordemos que entendemos datos como n realizaciones del vector aleatorio X.\n",
    "    \n",
    "   El algoritmo K-means funciona de la siguiente manera:\n",
    "    \n",
    "    1- El usuario selecciona la cantidad de clusters a crear (n).\n",
    "    2- Se seleccionan n elementos aleatorios de X como posiciones iniciales del los centroides C.\n",
    "    3- Se calcula la distancia entre todos los puntos en X y todos los puntos en C.\n",
    "    4- Para cada punto en X se selecciona el centroide más cercano de C.\n",
    "    5- Se recalculan los centroides C a partir de usar las filas de X que pertenecen a cada centroide. \n",
    "    6- Se itera entre 3 y 5 una cantidad fija de veces o hasta que la posición de los centroides no cambie.\n",
    "    \n",
    "   Implementar la función def k_means(X, n) de manera tal que al finalizar devuelva la posición de los centroides y a qué cluster pertenece cada fila de X.\n",
    "\n",
    "   Hint: para (2) utilizar funciones de np.random, para (3) y (4) usar los ejercicios anteriores, para (5) es válido utilizar un for. Iterar 10 veces entre (3) y (5).\n",
    "   \n",
    "</p>"
   ]
  },
  {
   "cell_type": "code",
   "execution_count": 19,
   "id": "99a60b3e",
   "metadata": {
    "scrolled": true
   },
   "outputs": [],
   "source": [
    "def k_means(x, n, iteraciones):\n",
    "    \"\"\" Recibe:\n",
    "        * x: matriz que representa una nube de puntos, cada fila es un punto.\n",
    "        * n: numero de clusters a establecer\n",
    "        * iteraciones: numero de ciclos para la optimizacion de los centroides de los clusters\n",
    "        \n",
    "        Esta funcion define n centroides de manera aleatoria.\n",
    "        \n",
    "        En cada iteracion se calcula la distancia de cada punto a los centroides. Luego redefine cada coordenada\n",
    "        del centroide como el promedio de los puntos que estan mas proximos a el.\n",
    "        \n",
    "        Se devuleven los paramentros:\n",
    "        * Centroides originales\n",
    "        * Centroides optimizados\n",
    "        * El nro de cluster al que pertenece cada punto en x.\n",
    "        * Funcion Costo Original\n",
    "        * Funcion Costo Final\n",
    "        \"\"\"\n",
    "    \n",
    "    # Defino n puntos aleatorios como centroides para mi estudio\n",
    "        # centroides_original = np.random.randint(np.min(x), np.max(x), (n, x.shape[1]))\n",
    "    \n",
    "        # Establezco los centroides originales como una eleccion aleatorias de n puntos de x.\n",
    "        # De esta manera disminuye la posibilidad de alcanzar un minimo local en la clusterizacion.\n",
    "    centroides_original = x[np.random.randint(np.min(x), np.max(x), (n))].copy()\n",
    "    \n",
    "    centroides = centroides_original.copy()\n",
    "    for i in range(iteraciones):\n",
    "        centroides_exp=centroides[:,np.newaxis]\n",
    "        dist = norma_p(centroides_exp-x, p=2, ax = 2)\n",
    "        arg_min = np.argmin(dist,axis=0)\n",
    "        \n",
    "        for centroid in range(centroides.shape[0]):\n",
    "            centroides[centroid] = np.mean(x[arg_min == centroid, :], axis=0)\n",
    "        \n",
    "        if i == 0:\n",
    "            dist0=0\n",
    "            for cluster in range(n):\n",
    "                dist0 = dist0 + np.sum(norma_p(centroides[cluster]-x[arg_min==cluster], p=2, ax = 1))\n",
    "            func_costo_0 = dist0 / x.shape[0]\n",
    "        \n",
    "    distf=0    \n",
    "    for cluster in range(n):\n",
    "        print(f\"Centroide original {cluster+1}: {centroides_original[cluster,:]}\\tCentroide Optimizado {cluster+1}: {centroides[cluster,:]}\")\n",
    "        \n",
    "        distf = distf + np.sum(norma_p(centroides[cluster]-x[arg_min==cluster], p=2, ax = 1))\n",
    "        func_costo_f = distf / x.shape[0]\n",
    "    \n",
    "    print(f\"Funcion Costo Inicial:{func_costo_0}\\tFuncion Costo Final:{func_costo_f}\")    \n",
    "    \n",
    "    return centroides_original, centroides, arg_min, func_costo_0, func_costo_f"
   ]
  },
  {
   "cell_type": "code",
   "execution_count": 20,
   "id": "5b05f8b9",
   "metadata": {},
   "outputs": [
    {
     "name": "stdout",
     "output_type": "stream",
     "text": [
      "Centroide original 1: [17 13]\tCentroide Optimizado 1: [ 1 12]\n",
      "Centroide original 2: [  6 -10]\tCentroide Optimizado 2: [10 -7]\n",
      "Centroide original 3: [-7 -9]\tCentroide Optimizado 3: [-10  -8]\n",
      "Funcion Costo Inicial:9.776185377886803\tFuncion Costo Final:9.035286377593966\n"
     ]
    },
    {
     "data": {
      "image/png": "[encoded data removed]",
      "text/plain": [
       "<Figure size 720x720 with 1 Axes>"
      ]
     },
     "metadata": {
      "needs_background": "light"
     },
     "output_type": "display_data"
    }
   ],
   "source": [
    "import matplotlib.pyplot as plt\n",
    "\n",
    "#cantidad de centroides\n",
    "n=3\n",
    "# Nube de puntos\n",
    "x = np.random.randint(-20, 20, (200, 2))\n",
    "# nro de iteraciones para algoritmo K-means\n",
    "iteraciones = 5\n",
    "\n",
    "centroides_original, centroides, cluster_id, J0, Jf = k_means(x, n, iteraciones)\n",
    "\n",
    "if n==2:\n",
    "    x0 = x[cluster_id==0].copy()\n",
    "    x1 = x[cluster_id==1].copy()\n",
    "\n",
    "    plt.figure(figsize=(10,10))\n",
    "    plt.plot(x0[:,0],x0[:,1],'o',markersize=2,c='red')\n",
    "    plt.plot(x1[:,0],x1[:,1],'o',markersize=2,c='blue')\n",
    "    plt.plot(centroides_original[:,0],centroides_original[:,1],'x',markersize=10)\n",
    "    plt.plot(centroides[:,0],centroides[:,1],'^',markersize=10)\n",
    "    plt.show()\n",
    "elif n==3:\n",
    "    x0 = x[cluster_id==0].copy()\n",
    "    x1 = x[cluster_id==1].copy()\n",
    "    x2 = x[cluster_id==2].copy()\n",
    "\n",
    "    plt.figure(figsize=(10,10))\n",
    "    plt.plot(x0[:,0],x0[:,1],'o',markersize=2,c='red')\n",
    "    plt.plot(x1[:,0],x1[:,1],'o',markersize=2,c='blue')\n",
    "    plt.plot(x2[:,0],x2[:,1],'o',markersize=2,c='green')\n",
    "    plt.plot(centroides_original[:,0],centroides_original[:,1],'x',markersize=10)\n",
    "    plt.plot(centroides[:,0],centroides[:,1],'^',markersize=10)\n",
    "    plt.show()"
   ]
  },
  {
   "cell_type": "markdown",
   "id": "6625d60f",
   "metadata": {},
   "source": [
    "# Ejecicio 9: Computar todas las métricas con __call__\n",
    "<p style='text-align: justify;'>\n",
    "   En problemas de machine learning, es muy común que para cada predicción que obtenemos en nuestro dataset de verificación y evaluación, almacenemos en arreglos de numpy array el resultado de dicha predicción, junto con el valor verdadero y parámetros auxiliares (como el ranking de la predicción y el query id).\n",
    "    \n",
    "   Luego de obtener todas las predicciones, podemos utilizar la información almacenada en los arreglos de numpy, para calcular todas las métricas que queremos medir en nuestro sistema. \n",
    "    \n",
    "   Una buena práctica para implementar esto en Python, es crear clases que hereden de una clase Metric “base” y que cada métrica implemente el método __call__.\n",
    "   \n",
    "   Utilizar herencia, operador __call__, kwargs, para escribir un programa que permita calcular todas las métricas de los ejercicios anteriores mediante un for. Cuál es la ventaja de resolver el problema utilizando éstas herramientas?\n",
    "   \n",
    "</p>"
   ]
  },
  {
   "cell_type": "code",
   "execution_count": null,
   "id": "13fbe7c2",
   "metadata": {},
   "outputs": [],
   "source": []
  },
  {
   "cell_type": "markdown",
   "id": "ad6774c1",
   "metadata": {},
   "source": [
    "# Ejecicio 10: Transformar un dataset a numpy estructurado con singleton\n",
    "<p style='text-align: justify;'>\n",
    "   Descargar un dataset de ejemplo de la siguiente URL: https://www.kaggle.com/rounakbanik/the-movies-dataset/data?select=ratings.csv\n",
    "   Crear la cuenta en Kaggle, porque es un lugar de donde potencialmente vamos a descargar muchos recursos.\n",
    "   Crear un array estructurado en numpy que represente correctamente la estructura del dataset (“userId”, “movieId”, “rating”, “timestamp”).\n",
    "   Crear una clase que permita:\n",
    "    \n",
    "* Crear la estructura de un structured numpy array para el dataset.\n",
    "* Leer el csv, almacenar la información en el array estructurado.\n",
    "* Guardar el array estructurado en formato .pkl\n",
    "* Crear una instancia singleton del array estructurado (utilizando __new__ e __init__).\n",
    "* Al crear la instancia, si se encuentra el .pkl cargar desde el pkl. Si el .pkl no está, comenzar por transformar el .csv en .pkl y luego levantar la información.\n",
    "* Encontrar una forma de optimizar la operación usando generators.\n",
    "   \n",
    "</p>"
   ]
  },
  {
   "cell_type": "code",
   "execution_count": 21,
   "id": "39e613f9",
   "metadata": {},
   "outputs": [
    {
     "name": "stdout",
     "output_type": "stream",
     "text": [
      "[(1,  110, 1. , 1425941529) (1,  147, 4.5, 1425942435)\n",
      " (1,  858, 5. , 1425941523) (1, 1221, 5. , 1425941546)\n",
      " (1, 1246, 5. , 1425941556)]\n"
     ]
    }
   ],
   "source": [
    "import pandas as pd\n",
    "import pickle as pkl\n",
    "import os\n",
    "\n",
    "class Rating_Dataset(object):\n",
    "    \n",
    "    instance = None\n",
    "    dataset = None\n",
    "    \n",
    "    def __new__(cls, path):\n",
    "        if Rating_Dataset.instance is None:\n",
    "            Rating_Dataset.instance=super(Rating_Dataset,cls).__new__(cls)\n",
    "            return Rating_Dataset.instance\n",
    "        else:\n",
    "            return Rating_Dataset.instance\n",
    "    \n",
    "    def __init__(self, path):\n",
    "        if os.path.isfile(path+'/ratings.pkl'):\n",
    "            \n",
    "            with open(path+'/ratings.pkl','rb') as file:\n",
    "                self.dataset=pkl.load(file)\n",
    "            \n",
    "        else:\n",
    "            structure = [('userID', np.uint32),\n",
    "                         ('movieID', np.uint32),\n",
    "                         ('rating', np.float32),\n",
    "                         ('timestamp', np.uint32)]\n",
    "            data=pd.read_csv(path+'/ratings.csv', delimiter=',')\n",
    "            s = data.dtypes\n",
    "            res2 = np.array([tuple(x) for x in data.values], \\\n",
    "                            dtype=list(zip(s.index, s)))\n",
    "                \n",
    "            self.dataset=np.array(res2,dtype=structure)\n",
    "            \n",
    "            with open(path+'/ratings.pkl','wb') as file:\n",
    "                pkl.dump(self.dataset,file,protocol=pkl.HIGHEST_PROTOCOL)\n",
    "                \n",
    "            pass\n",
    "    \n",
    "    def get_dataset(self):\n",
    "        return self.dataset\n",
    "    \n",
    "rating = Rating_Dataset(r\"C:\\Users\\Agustin\\Documents\\RepositorioCEIA_Git\\Carrera-de-Especializacion-en-IA\\B2-Artificial_Inteligence\\Clase_1\\archive\")\n",
    "print(rating.get_dataset()[:5])\n"
   ]
  }
 ],
 "metadata": {
  "kernelspec": {
   "display_name": "Python 3",
   "language": "python",
   "name": "python3"
  },
  "language_info": {
   "codemirror_mode": {
    "name": "ipython",
    "version": 3
   },
   "file_extension": ".py",
   "mimetype": "text/x-python",
   "name": "python",
   "nbconvert_exporter": "python",
   "pygments_lexer": "ipython3",
   "version": "3.8.8"
  }
 },
 "nbformat": 4,
 "nbformat_minor": 5
}
