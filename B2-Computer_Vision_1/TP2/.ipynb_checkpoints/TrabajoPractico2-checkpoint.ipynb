{
 "cells": [
  {
   "cell_type": "markdown",
   "id": "4257b993",
   "metadata": {},
   "source": [
    "# Trabajo Practico 2: Filtros y Deteccion de bordes\n",
    "<p style='text-align: justify;'>\n",
    "    En este trabajo practico se implementa un algoritmo que:\n",
    "\n",
    "   * Calcula los gradientes en la imagen (direccion y modulo)\n",
    "   * Muestra imagenes de angulo y modulo\n",
    "   * Marca con color las direcciones de gradientes mas altos\n",
    "    \n",
    "</p>"
   ]
  },
  {
   "cell_type": "code",
   "execution_count": 12,
   "id": "c9a7806b",
   "metadata": {},
   "outputs": [
    {
     "name": "stdout",
     "output_type": "stream",
     "text": [
      "Using matplotlib backend: Qt5Agg\n"
     ]
    }
   ],
   "source": [
    "#%matplotlib inline\n",
    "%matplotlib\n",
    "import math\n",
    "# OpenCV-Python utiliza NumPy para el manejo de imágenes\n",
    "import numpy as np\n",
    "# cv2 es el módulo python para acceder a OpenCV \n",
    "import cv2 as cv\n",
    "# Usamos las poderosas herramientas de graficación de matplotlib para mostrar imágenes, perfiles, histogramas, etc\n",
    "import matplotlib.pyplot as plt\n",
    "# Importamos librerías para manejo de tiempo\n",
    "import time"
   ]
  },
  {
   "cell_type": "markdown",
   "id": "c19284e8",
   "metadata": {},
   "source": [
    "<p style='text-align: justify;'>\n",
    "    La siguiente funcion hace uso del filtro de Sobel para calcular los gradientes de magnitud y direccion de la imagen de entrada.\n",
    "</p>"
   ]
  },
  {
   "cell_type": "code",
   "execution_count": 13,
   "id": "bfbcbb36",
   "metadata": {},
   "outputs": [],
   "source": [
    "def mag_angle(image):\n",
    "    # Sobelx en 'float32' y luego convertimos de nuevo a 8-bit para evitar overflow\n",
    "    sobelx_64 = cv.Sobel(image,cv.CV_32F,1,0,ksize=3)\n",
    "    absx_64 = np.absolute(sobelx_64)\n",
    "    sobelx_8u1 = absx_64/absx_64.max()*255\n",
    "    sobelx_8u = np.uint8(sobelx_8u1)\n",
    "\n",
    "    # Sobely en 'float32' y luego convertimos de nuevo a 8-bit para evitar overflow\n",
    "    sobely_64 = cv.Sobel(image,cv.CV_32F,0,1,ksize=3)\n",
    "    absy_64 = np.absolute(sobely_64)\n",
    "    sobely_8u1 = absy_64/absy_64.max()*255\n",
    "    sobely_8u = np.uint8(sobely_8u1)\n",
    "    \n",
    "    # De los gradiente calculamos Magnitud y lo pasamos a 8-bit (Opcional)\n",
    "    mag = np.hypot(sobelx_8u, sobely_8u)\n",
    "    mag = mag/mag.max()*255\n",
    "    mag = np.uint8(mag)\n",
    "\n",
    "    # Encontramos la Dirección y la pasamos a grados\n",
    "    theta = np.arctan2(sobely_64, sobelx_64)\n",
    "    \n",
    "    return mag, theta"
   ]
  },
  {
   "cell_type": "markdown",
   "id": "29642174",
   "metadata": {},
   "source": [
    "<p style='text-align: justify;'>\n",
    "    La funcion \"show_gradients\" normaliza en un rango de 0 a 1 las magnitudes y los vectores. Esto es necesario para su representacion en un mapa de colores.\n",
    "</p>"
   ]
  },
  {
   "cell_type": "code",
   "execution_count": 14,
   "id": "4ff20c13",
   "metadata": {},
   "outputs": [],
   "source": [
    "def show_gradients(magnitud, theta):\n",
    "    mag_norm = magnitud/np.max(magnitud)\n",
    "    theta_show = (theta+math.pi)/(2*math.pi)\n",
    "    \n",
    "    # Show the images\n",
    "    f, axarr = plt.subplots(2, 1, figsize=(15, 15))\n",
    "    axarr[0].imshow(mag_norm, cmap='afmhot')\n",
    "    axarr[1].imshow(theta_show, cmap='CMRmap')\n",
    "    return None"
   ]
  },
  {
   "cell_type": "markdown",
   "id": "6051d307",
   "metadata": {},
   "source": [
    "<p style='text-align: justify;'>\n",
    "    La siguiente funcion recibe la imagen original a color, el gradiente de magnitudes y un percentil de intensidad. Con estras tres matrices crea una mascara para pintar de rojo aquellos pixeles que su magnitud esta por encima a dicho percentil.\n",
    "</p>"
   ]
  },
  {
   "cell_type": "code",
   "execution_count": 47,
   "id": "ac1299ea",
   "metadata": {},
   "outputs": [],
   "source": [
    "def show_most_intense(img, mag, intencity):\n",
    "    imgen2 = img.copy()\n",
    "    maskmag = (mag/np.max(mag)) > intencity\n",
    "    maskmag = (maskmag * 255).astype(np.uint8)\n",
    "\n",
    "    for i in range(imgen2.shape[0]):\n",
    "        for j in range(imgen2.shape[1]):\n",
    "            if maskmag[i, j] > imgen2[i, j, 0]:\n",
    "                imgen2[i, j, :] = [255, 0, 0] \n",
    "\n",
    "    fig, ax = plt.subplots(figsize=(15, 15))\n",
    "    ax.imshow(imgen2)\n",
    "    return None"
   ]
  },
  {
   "cell_type": "markdown",
   "id": "208d9a2c",
   "metadata": {},
   "source": [
    "### Metalgrid"
   ]
  },
  {
   "cell_type": "code",
   "execution_count": 38,
   "id": "cfb49dfa",
   "metadata": {},
   "outputs": [],
   "source": [
    "img = cv.imread('metalgrid.jpg')\n",
    "gray = cv.cvtColor(img, cv.COLOR_BGR2GRAY)"
   ]
  },
  {
   "cell_type": "markdown",
   "id": "8db0c811",
   "metadata": {},
   "source": [
    "<p style='text-align: justify;'>\n",
    "    En primer lugar utilizaremos un filtro gaussiano 5x5 con media 0 para reducir el ruido de la imagen.\n",
    "</p>"
   ]
  },
  {
   "cell_type": "code",
   "execution_count": 39,
   "id": "f171a81c",
   "metadata": {},
   "outputs": [],
   "source": [
    "# Suavizado Gaussiano\n",
    "#====================\n",
    "blur = cv.GaussianBlur(gray,(5,5),0)\n",
    "#blur = gray\n"
   ]
  },
  {
   "cell_type": "markdown",
   "id": "2ee6f62b",
   "metadata": {},
   "source": [
    "<p style='text-align: justify;'>\n",
    "    A traves de la funcion de mag_angle, obtenemos los gradientes de magnitud y direccion de nuestra imagen.\n",
    "</p>"
   ]
  },
  {
   "cell_type": "code",
   "execution_count": 40,
   "id": "2370ace0",
   "metadata": {},
   "outputs": [],
   "source": [
    "# Gradientes de magnitud y direccion\n",
    "#====================================\n",
    "mag, theta = mag_angle(blur)\n",
    "\n",
    "# Pasaje de radianes a grados del gradiente de direccion\n",
    "angle = np.rad2deg(theta)"
   ]
  },
  {
   "cell_type": "code",
   "execution_count": 41,
   "id": "7f690370",
   "metadata": {},
   "outputs": [],
   "source": [
    "show_gradients(mag, angle)"
   ]
  },
  {
   "cell_type": "code",
   "execution_count": 48,
   "id": "c7a6b921",
   "metadata": {},
   "outputs": [],
   "source": [
    "intencity = 0.8\n",
    "show_most_intense(img, mag, intencity)"
   ]
  },
  {
   "cell_type": "markdown",
   "id": "c061559d",
   "metadata": {},
   "source": [
    "### Spyder Web"
   ]
  },
  {
   "cell_type": "code",
   "execution_count": 29,
   "id": "e846b714",
   "metadata": {},
   "outputs": [],
   "source": [
    "img2 = cv.imread('tela2.jpg')\n",
    "gray2 = cv.cvtColor(img2, cv.COLOR_BGR2GRAY)"
   ]
  },
  {
   "cell_type": "code",
   "execution_count": 30,
   "id": "f8192fa8",
   "metadata": {},
   "outputs": [],
   "source": [
    "# Suavizado Gaussiano\n",
    "#====================\n",
    "blur2 = cv.GaussianBlur(gray2,(5,5),0)"
   ]
  },
  {
   "cell_type": "code",
   "execution_count": 31,
   "id": "6d59e4d0",
   "metadata": {},
   "outputs": [],
   "source": [
    "# Gradientes de magnitud y direccion\n",
    "#====================================\n",
    "mag2, theta2 = mag_angle(blur2)\n",
    "\n",
    "# Pasaje de radianes a grados del gradiente de direccion\n",
    "angle2 = np.rad2deg(theta2)"
   ]
  },
  {
   "cell_type": "code",
   "execution_count": 32,
   "id": "3e64ad55",
   "metadata": {},
   "outputs": [],
   "source": [
    "show_gradients(mag2, angle2)"
   ]
  },
  {
   "cell_type": "code",
   "execution_count": 36,
   "id": "2c30c6f1",
   "metadata": {},
   "outputs": [],
   "source": [
    "intencity2 = 0.4\n",
    "show_most_intense(img2, mag2, intencity2)"
   ]
  }
 ],
 "metadata": {
  "kernelspec": {
   "display_name": "Python 3",
   "language": "python",
   "name": "python3"
  },
  "language_info": {
   "codemirror_mode": {
    "name": "ipython",
    "version": 3
   },
   "file_extension": ".py",
   "mimetype": "text/x-python",
   "name": "python",
   "nbconvert_exporter": "python",
   "pygments_lexer": "ipython3",
   "version": "3.8.8"
  }
 },
 "nbformat": 4,
 "nbformat_minor": 5
}
