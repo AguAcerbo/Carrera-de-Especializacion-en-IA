{
 "cells": [
  {
   "cell_type": "markdown",
   "id": "2e0dd605",
   "metadata": {},
   "source": [
    "## Trabajo Practico 6: Filtros de Haar\n",
    "\n",
    "Utilizando la webcam\n",
    "1. Implementar un algoritmo utilizando filtros de Haar en cascada que:\n",
    " * Detecte Rostros\n",
    " * Dentro de los rostros detecte ojos\n",
    " * Dentro de los rostros detecte sonrisas"
   ]
  },
  {
   "cell_type": "code",
   "execution_count": 9,
   "id": "26ba0eee",
   "metadata": {},
   "outputs": [
    {
     "name": "stdout",
     "output_type": "stream",
     "text": [
      "Using matplotlib backend: Qt5Agg\n"
     ]
    }
   ],
   "source": [
    "#Si queremos que las imágenes sean mostradas en una ventana emergente quitar el inline\n",
    "# %matplotlib inline\n",
    "%matplotlib\n",
    "\n",
    "# Importamos las librerías necesarias\n",
    "import numpy as np\n",
    "import cv2 as cv\n",
    "import matplotlib.pyplot as plt"
   ]
  },
  {
   "cell_type": "code",
   "execution_count": 56,
   "id": "ee706cf9",
   "metadata": {},
   "outputs": [],
   "source": [
    "# Leemos los clasificadores pre-entrenados (instalados en cv2/data/haarcascades/)\n",
    "#--------------------------------------------------------------------------------\n",
    "face_cascade = cv.CascadeClassifier('haarcascades\\haarcascade_frontalface_default.xml')\n",
    "\n",
    "eye_cascade = cv.CascadeClassifier('haarcascades\\haarcascade_eye.xml')\n",
    "eye_cascade_eyeclasses = cv.CascadeClassifier('haarcascades\\haarcascade_eye_tree_eyeglasses.xml')\n",
    "\n",
    "smile_cascade = cv.CascadeClassifier('haarcascades\\haarcascade_smile.xml')"
   ]
  },
  {
   "cell_type": "code",
   "execution_count": 140,
   "id": "9d167af9",
   "metadata": {},
   "outputs": [],
   "source": [
    "cap = cv.VideoCapture(0)\n",
    "\n",
    "fourcc = cv.VideoWriter_fourcc(*'MP4V')\n",
    "video = cv.VideoWriter('FiltroHaar_TP6.mp4', fourcc, 20.0, (640,480))\n",
    "\n",
    "if(cap.isOpened()==False):\n",
    "    print(\"Error opening camera\")\n",
    "    \n",
    "while(cap.isOpened()):\n",
    "    ret, frame = cap.read()\n",
    "    if ret == True:\n",
    "               \n",
    "        # Pasamos la imagen a escala de grises\n",
    "        #-------------------------------------\n",
    "        grayFrame = cv.cvtColor(frame, cv.COLOR_BGR2GRAY)\n",
    "        grayFrame = cv.equalizeHist(grayFrame)\n",
    "        \n",
    "        # Llamamos al clasificador de Haar (AdaBoost)\n",
    "        #--------------------------------------------\n",
    "        #faces = face_cascade.detectMultiScale(grayImage, 1.012, 5)\n",
    "        faces = face_cascade.detectMultiScale(grayFrame, 1.012, 5, minSize= (100,130),maxSize=(400,600))\n",
    "\n",
    "        # Recorro las caras encontradas\n",
    "        #------------------------------\n",
    "        for (x,y,w,h) in faces:\n",
    "            # Le dibujamos un rectángulo amarillo\n",
    "            cv.rectangle(frame,(x,y),(x+w,y+h),(0,255,250),2)\n",
    "            # Definimos las ROIs en la imagen gris y color\n",
    "            roi_gray = grayFrame[y:y+h, x:x+w] \n",
    "            roi_color = frame[y:y+h, x:x+w] \n",
    "            # Para cada rostro hallado le buscamos los ojos\n",
    "            eyes = eye_cascade.detectMultiScale(roi_gray, 1.02, 5, minSize= (5,5),maxSize=(np.uint32((x+w)/4),np.uint32((y+h)/4)))\n",
    "            # En los ojos hallados les dibujamos rectángulos\n",
    "            for (ex,ey,ew,eh) in eyes:\n",
    "                cv.rectangle(roi_color,(ex,ey),(ex+ew,ey+eh),(0,255,0),2)\n",
    "            \n",
    "            # Para cada rostro hallado le buscamos una sonrisa\n",
    "            #roi_smile_gray = grayFrame[y+eh+ey:y+h, x:x+w]\n",
    "            #roi_smile_color = frame[y+eh+ey:y+h, x:x+w]\n",
    "            roi_smile_gray = grayFrame[np.uint(y+h/2):y+h, x:x+w]\n",
    "            roi_smile_color = frame[np.uint(y+h/2):y+h, x:x+w]\n",
    "            smile = smile_cascade.detectMultiScale(roi_smile_gray, 1.08, 6, minSize= (np.uint32((x+w)/6),np.uint32((y+h)/6)),maxSize=(np.uint32((x+w)/2),np.uint32((y+h)/2)))\n",
    "            # En los ojos hallados les dibujamos rectángulos\n",
    "            for (sx,sy,sw,sh) in smile:\n",
    "                cv.rectangle(roi_smile_color,(sx,sy),(sx+sw,sy+sh),(255,255,0),2)\n",
    "        \n",
    "        \n",
    "        cv.imshow('Frame', frame)\n",
    "        video.write(frame)\n",
    "        k = cv.waitKey(30) & 0xff\n",
    "        if k == 27:\n",
    "            break\n",
    "    else:\n",
    "        break\n",
    "\n",
    "cv.destroyAllWindows()\n",
    "video.release()\n",
    "cap.release()\n",
    "\n",
    "cv.destroyAllWindows()"
   ]
  },
  {
   "cell_type": "code",
   "execution_count": null,
   "id": "fb885f34",
   "metadata": {},
   "outputs": [],
   "source": []
  }
 ],
 "metadata": {
  "kernelspec": {
   "display_name": "Python 3",
   "language": "python",
   "name": "python3"
  },
  "language_info": {
   "codemirror_mode": {
    "name": "ipython",
    "version": 3
   },
   "file_extension": ".py",
   "mimetype": "text/x-python",
   "name": "python",
   "nbconvert_exporter": "python",
   "pygments_lexer": "ipython3",
   "version": "3.8.8"
  }
 },
 "nbformat": 4,
 "nbformat_minor": 5
}
