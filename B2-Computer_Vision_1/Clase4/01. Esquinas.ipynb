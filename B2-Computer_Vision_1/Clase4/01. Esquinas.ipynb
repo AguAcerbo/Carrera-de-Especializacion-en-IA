{
 "cells": [
  {
   "cell_type": "markdown",
   "metadata": {},
   "source": [
    "## Esquinas\n",
    "Harris - Shi/Tomassi"
   ]
  },
  {
   "cell_type": "code",
   "execution_count": 4,
   "metadata": {},
   "outputs": [],
   "source": [
    "#Si queremos que las imágenes sean mostradas en una ventana emergente quitar el inline\n",
    "%matplotlib inline\n",
    "#%matplotlib\n",
    "\n",
    "# OpenCV-Python utiliza NumPy para el manejo de imágenes\n",
    "import numpy as np\n",
    "# cv2 es el módulo python para acceder a OpenCV \n",
    "import cv2 as cv\n",
    "# Usamos las poderosas herramientas de graficación de matplotlib para mostrar imágenes, perfiles, histogramas, etc\n",
    "import matplotlib.pyplot as plt"
   ]
  },
  {
   "cell_type": "code",
   "execution_count": 5,
   "metadata": {},
   "outputs": [],
   "source": [
    "# Cargamos la imagen a procesar\n",
    "img = cv.imread('chessboard2.png')\n",
    "#img = cv.imread('bloques.png')\n",
    "\n",
    "# La transformamos en escala de grises\n",
    "gray = cv.cvtColor(img,cv.COLOR_BGR2GRAY)\n",
    "gray = np.float32(gray)"
   ]
  },
  {
   "cell_type": "markdown",
   "metadata": {},
   "source": [
    "#### Harris"
   ]
  },
  {
   "cell_type": "code",
   "execution_count": 7,
   "metadata": {},
   "outputs": [
    {
     "data": {
      "text/plain": [
       "<matplotlib.image.AxesImage at 0x1e280df2b80>"
      ]
     },
     "execution_count": 7,
     "metadata": {},
     "output_type": "execute_result"
    },
    {
     "data": {
      "image/png": "[encoded data removed]",
      "text/plain": [
       "<Figure size 432x288 with 1 Axes>"
      ]
     },
     "metadata": {
      "needs_background": "light"
     },
     "output_type": "display_data"
    }
   ],
   "source": [
    "# Detector de esquinas de Harris (imagen, bloque, apertura del filtro de Sobel, k)\n",
    "dst = cv.cornerHarris(gray,2,3,0.06)\n",
    "\n",
    "# El resultado se dilata para marcar las esquinas (solo para mostrar)\n",
    "dst = cv.dilate(dst,None)\n",
    "\n",
    "# El umbral óptimo dependerá de la imagen\n",
    "img_out=img.copy()\n",
    "img_out[dst > 0.1 * dst.max()]=[0,0,255]\n",
    "\n",
    "# Muestro la imagen y la salida del detector\n",
    "cv.namedWindow(\"Harris\",0)\n",
    "cv.imshow('Harris',img_out)\n",
    "\n",
    "plt.imshow(dst,cmap='binary')\n"
   ]
  },
  {
   "cell_type": "code",
   "execution_count": 10,
   "metadata": {},
   "outputs": [
    {
     "data": {
      "text/plain": [
       "<matplotlib.image.AxesImage at 0x1d91617b910>"
      ]
     },
     "execution_count": 10,
     "metadata": {},
     "output_type": "execute_result"
    }
   ],
   "source": [
    "# Agregamos subpixel\n",
    "\n",
    "# Encontrar esquinas de Hough\n",
    "gray = np.float32(gray)\n",
    "dst = cv.cornerHarris(gray,2,3,0.04)\n",
    "dst = cv.dilate(dst,None)\n",
    "ret, dst = cv.threshold(dst,0.01*dst.max(),255,0)\n",
    "dst = np.uint8(dst)\n",
    "\n",
    "# Encontrar Centroides\n",
    "ret, labels, stats, centroids = cv.connectedComponentsWithStats(dst)\n",
    "\n",
    "# definir el criterio para detención y refinación de esquinas\n",
    "criteria = (cv.TERM_CRITERIA_EPS + cv.TERM_CRITERIA_MAX_ITER, 100, 0.001)\n",
    "corners = cv.cornerSubPix(gray,np.float32(centroids),(5,5),(-1,-1),criteria)\n",
    "\n",
    "# Dibujar esquinas\n",
    "res = np.hstack((centroids,corners))\n",
    "res = np.int0(res)\n",
    "img[res[:,1],res[:,0]]=[0,0,255]\n",
    "img[res[:,3],res[:,2]] = [0,255,0]\n",
    "plt.imshow(img)\n",
    "#cv.imwrite('subpixel5.png',img)"
   ]
  },
  {
   "cell_type": "markdown",
   "metadata": {},
   "source": [
    "#### Shi - Tomassi"
   ]
  },
  {
   "cell_type": "code",
   "execution_count": 9,
   "metadata": {},
   "outputs": [
    {
     "data": {
      "text/plain": [
       "(<matplotlib.image.AxesImage at 0x1d9160efb80>, None)"
      ]
     },
     "execution_count": 9,
     "metadata": {},
     "output_type": "execute_result"
    }
   ],
   "source": [
    "img_out=img.copy()\n",
    "\n",
    "# Detector de esquinas de Shi-Tomassi (imagen, Nmax, calidad, distancia mínima)\n",
    "#corners = cv.goodFeaturesToTrack(gray,10,0.01,20)\n",
    "corners = cv.goodFeaturesToTrack(gray,98,0.01,10)\n",
    "corners = np.int0(corners)\n",
    "for i in corners:\n",
    "    x,y = i.ravel()\n",
    "    cv.circle(img_out,(x,y),3,255,-1)\n",
    "    \n",
    "img_out = cv.cvtColor(img_out,cv.COLOR_BGR2RGB)\n",
    "plt.imshow(img_out,cmap='gray'),plt.show()"
   ]
  },
  {
   "cell_type": "code",
   "execution_count": null,
   "metadata": {},
   "outputs": [],
   "source": []
  }
 ],
 "metadata": {
  "kernelspec": {
   "display_name": "Python 3",
   "language": "python",
   "name": "python3"
  },
  "language_info": {
   "codemirror_mode": {
    "name": "ipython",
    "version": 3
   },
   "file_extension": ".py",
   "mimetype": "text/x-python",
   "name": "python",
   "nbconvert_exporter": "python",
   "pygments_lexer": "ipython3",
   "version": "3.8.8"
  }
 },
 "nbformat": 4,
 "nbformat_minor": 4
}
