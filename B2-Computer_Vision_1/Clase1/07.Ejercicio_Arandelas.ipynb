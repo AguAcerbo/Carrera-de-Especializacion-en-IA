{
 "cells": [
  {
   "cell_type": "code",
   "execution_count": 33,
   "id": "824ea292",
   "metadata": {},
   "outputs": [
    {
     "name": "stdout",
     "output_type": "stream",
     "text": [
      "Using matplotlib backend: Qt5Agg\n"
     ]
    }
   ],
   "source": [
    "#Si queremos que las imágenes sean mostradas en una ventana emergente quitar el inline\n",
    "%matplotlib\n",
    "\n",
    "# OpenCV-Python utiliza NumPy para el manejo de imágenes\n",
    "import numpy as np\n",
    "# cv2 es el módulo python para acceder a OpenCV \n",
    "import cv2 as cv\n",
    "# Usamos las poderosas herramientas de graficación de matplotlib para mostrar imágenes, perfiles, histogramas, etc\n",
    "import matplotlib.pyplot as plt\n",
    "\n",
    "\n",
    "from mpl_toolkits.mplot3d import Axes3D\n",
    "from matplotlib import cm\n",
    "from matplotlib import colors"
   ]
  },
  {
   "cell_type": "code",
   "execution_count": 34,
   "id": "a531dbda",
   "metadata": {},
   "outputs": [],
   "source": [
    "# Cargar la imagen color\n",
    "#-----------------------\n",
    "img_color = cv.imread('arandelas.png')\n",
    "imgRGB = cv.cvtColor(img_color, cv.COLOR_BGR2RGB)\n",
    "\n",
    "plt.figure(1)\n",
    "plt.imshow(imgRGB)\n",
    "plt.show()"
   ]
  },
  {
   "cell_type": "markdown",
   "id": "bac238eb",
   "metadata": {},
   "source": [
    "Arandelas Naranjas"
   ]
  },
  {
   "cell_type": "code",
   "execution_count": 35,
   "id": "47f05d28",
   "metadata": {},
   "outputs": [
    {
     "name": "stdout",
     "output_type": "stream",
     "text": [
      "(83.44558395836523, 194.21220470432166, 117.93494566049289, 0.0)\n"
     ]
    }
   ],
   "source": [
    "# Pasamos la imagen a HSV y calculo el color de muestra\n",
    "#------------------------------------------------------\n",
    "img_HSV = cv.cvtColor(img_color, cv.COLOR_BGR2HSV)\n",
    "plt.figure(2)\n",
    "plt.imshow(img_HSV)\n",
    "\n",
    "#img_muestra = img_HSV[100:150,325:375,:]\n",
    "img_muestra_hsv = img_HSV[275:416,287:426,:]\n",
    "\n",
    "# Calculamos un modelo estadístico sencillo para caracterizar el color del morrón rojo en el espacio RGB\n",
    "color_mean = cv.mean(img_muestra_hsv)\n",
    "    \n",
    "print(color_mean)"
   ]
  },
  {
   "cell_type": "code",
   "execution_count": 46,
   "id": "d3635d97",
   "metadata": {},
   "outputs": [
    {
     "name": "stdout",
     "output_type": "stream",
     "text": [
      "[ 75 182 112]\n"
     ]
    }
   ],
   "source": [
    "# Cómo puedo segmentar el amarillo ?\n",
    "print(img_HSV[304,437,:])"
   ]
  },
  {
   "cell_type": "code",
   "execution_count": 55,
   "id": "d4d9b593",
   "metadata": {},
   "outputs": [],
   "source": [
    "color_l = (10,130,110)\n",
    "color_u = (23,220,215)\n",
    "\n",
    "mask = cv.inRange(img_HSV, color_l,  color_u)\n",
    "img_segmentada = cv.bitwise_and(imgRGB, imgRGB, mask=mask)\n",
    "\n",
    "plt.figure(6)\n",
    "plt.imshow(img_segmentada)\n",
    "plt.show()\n"
   ]
  },
  {
   "cell_type": "code",
   "execution_count": 38,
   "id": "a7647195",
   "metadata": {},
   "outputs": [],
   "source": [
    "r, g, b = cv.split(img_HSV)\n",
    "fig = plt.figure()\n",
    "axis = fig.add_subplot(1, 1, 1, projection=\"3d\")\n",
    "\n",
    "pixel_colors = imgRGB.reshape((np.shape(imgRGB)[0]*np.shape(imgRGB)[1], 3))\n",
    "norm = colors.Normalize(vmin=-1.,vmax=1.)\n",
    "norm.autoscale(pixel_colors)\n",
    "pixel_colors = norm(pixel_colors).tolist()\n",
    "\n",
    "axis.scatter(r.flatten(), g.flatten(), b.flatten(), facecolors=pixel_colors, marker=\".\")\n",
    "axis.set_xlabel(\"Canal 1\")\n",
    "axis.set_ylabel(\"Canal 2\")\n",
    "axis.set_zlabel(\"Canal 3\")\n",
    "plt.show()"
   ]
  },
  {
   "cell_type": "code",
   "execution_count": null,
   "id": "1c27f016",
   "metadata": {},
   "outputs": [],
   "source": []
  }
 ],
 "metadata": {
  "kernelspec": {
   "display_name": "Python 3",
   "language": "python",
   "name": "python3"
  },
  "language_info": {
   "codemirror_mode": {
    "name": "ipython",
    "version": 3
   },
   "file_extension": ".py",
   "mimetype": "text/x-python",
   "name": "python",
   "nbconvert_exporter": "python",
   "pygments_lexer": "ipython3",
   "version": "3.8.8"
  }
 },
 "nbformat": 4,
 "nbformat_minor": 5
}
